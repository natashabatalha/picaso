{
 "cells": [
  {
   "cell_type": "markdown",
   "metadata": {},
   "source": [
    "# Using Correlated-K Tables vs. Monochromatic Opacities\n",
    "\n",
    "Throughout the tutorials, we have always used monochromatic opacities. If you are interested in switching to correlated-K tables versus using the currently provided opacities on Zenodo, that is possible. Here you will learn: \n",
    "\n",
    "1. Running forward model with pre-weighted tables vs resort rebin vs resampled monochromatic opacities\n",
    "\n",
    "Before completing this notebook you will have to: \n",
    "\n",
    "1. [Download at least one or multiple of the k-table folder](https://zenodo.org/record/5590989#.Yzy1qezMJb9)\n",
    "    File should be of the format `sonora_2020_feh+XXX_co_YYY`, where XXX defines the Fe/H and YYY describes the C/O ratio. **Inside that directory there should be at least two files: ascii_data, and full_abunds**\n",
    "\n",
    "\n",
    "2. [Download Sonora PT profiles](https://zenodo.org/record/1309035#.Y1MHYezMLvW) (if this is unfamiliar please see [Brown Dwarf Tutorial](https://natashabatalha.github.io/picaso/notebooks/6_BrownDwarfs.html))\n",
    "\n",
    "3. [Download PICASO Correlated-K's for On-the-Fly Disequilibrium Climate Calculations\n",
    "](https://zenodo.org/records/10895826) (see [Brown Dwarf Tutorial](https://natashabatalha.github.io/picaso/notebooks/climate/12a_BrownDwarf.html))\n",
    "\n",
    "\n",
    "These are all easily retrieved through the `data.get_data` function: \n",
    "\n",
    ">>import picaso.data as d\n",
    "\n",
    ">> d.get_data(category_download='sonora_grids',target_download='bobcat')\n",
    "\n",
    ">> d.get_data(category_download='ck_tables',target_download='pre-weighted')\n",
    "\n",
    ">> d.get_data(category_download='ck_tables',target_download='by-molecule')\n",
    "\n",
    "## What are correlated-k tables vs. monochromatic opacities\n",
    "\n",
    "1. Pre-weighted correlated k tables : these are preweighted on chemical equilibrium tables and as such you will get on table per M/H and C/O point \n",
    "2. Resort Rebin correlated k tables : these are the ones downloaded for on-the-fly disequillibrium and are mixed \"on the fly\" based on your chemistry. Therefore you will see they are on a per molecule basis. \n",
    "3. Monochromatic opacities: these are resampled from line by line calculations and you will notice they are usually very large (10-30 Gb)\n",
    "\n"
   ]
  },
  {
   "cell_type": "code",
   "execution_count": null,
   "metadata": {},
   "outputs": [],
   "source": [
    "import os \n",
    "\n",
    "ck_db_path = os.path.join(os.getenv('picaso_refdata'),'opacities', 'preweighted','sonora_2020_feh+000_co_100.data.196')\n",
    "sonora_profile_db = os.path.join(os.getenv('picaso_refdata'),'sonora_grids','bobcat')"
   ]
  },
  {
   "cell_type": "code",
   "execution_count": null,
   "metadata": {},
   "outputs": [],
   "source": [
    "from picaso import justdoit as jdi \n",
    "from picaso import justplotit as jpi\n",
    "jpi.output_notebook()\n",
    "\n",
    "import matplotlib.pyplot as plt\n",
    "from itertools import cycle\n",
    "from matplotlib.lines import Line2D\n",
    "import numpy as np"
   ]
  },
  {
   "cell_type": "code",
   "execution_count": null,
   "metadata": {},
   "outputs": [],
   "source": [
    "opacity_mono         = jdi.opannection() #defaults, method='resampled, and default opacities db file \n",
    "opacity_ck           = jdi.opannection(method='preweighted',\n",
    "                                       ck_db=str(ck_db_path)\n",
    "                                       )\n",
    "\n",
    "# This requires the climate_INPUTS directory, and associated data\n",
    "# See https://natashabatalha.github.io/picaso/notebooks/climate/12c_BrownDwarf_DEQ.html\n",
    "# They should be in the references dir\n",
    "gases_fly = ['CO','CH4','H2O','NH3','CO2','N2','HCN','H2','PH3','C2H2','Na','K','TiO','VO','FeH']\n",
    "opacity_resortrebin =  jdi.opannection(method='resortrebin',\n",
    "                                       preload_gases=gases_fly)#you can also supply \"all\" to preload_gas and it will load every file you have downloaded "
   ]
  },
  {
   "cell_type": "markdown",
   "metadata": {},
   "source": [
    "## Call `opannection` and supply a correlated-k table"
   ]
  },
  {
   "cell_type": "markdown",
   "metadata": {},
   "source": [
    "Notice that when we call the `opannection` with the `ck=True`, we must also pass it one of the directories from Zenodo. The directory name describes the chemistry that this has been calculated for. The `ck_db` we have defined  is for 1xSolar, Solar C/O. \n",
    "\n"
   ]
  },
  {
   "cell_type": "markdown",
   "metadata": {},
   "source": [
    "You should already be familiar with the following code block. Here we are loading the input class, setting the gravity, stellar parameters, and sonora profile. "
   ]
  },
  {
   "cell_type": "code",
   "execution_count": null,
   "metadata": {},
   "outputs": [],
   "source": [
    "# Create a dictionary that contains all the different calc types\n",
    "calc = {'ck':opacity_ck,\n",
    "        'mono':opacity_mono,\n",
    "        'resort':opacity_resortrebin}\n",
    "cases = {i: jdi.inputs() for i in calc.keys()}\n",
    "\n",
    "# Phase angle \n",
    "for i in calc.keys(): cases[i].phase_angle(0) #radians\n",
    "\n",
    "# Define gravity\n",
    "for i in calc.keys(): cases[i].gravity(radius=1, \n",
    "                                    radius_unit=jdi.u.Unit('R_jup'),\n",
    "                                    mass=1,\n",
    "                                    mass_unit=jdi.u.Unit('M_jup'))\n",
    "\n",
    "# Define star \n",
    "for i in calc.keys(): cases[i].star(calc[i],\n",
    "                                    5000,\n",
    "                                    0,\n",
    "                                    4.0,\n",
    "                                    radius=1,\n",
    "                                    radius_unit=jdi.u.Unit('R_sun'),\n",
    "                                    semi_major=5,\n",
    "                                    semi_major_unit=jdi.u.Unit('au')) \n",
    "    \n",
    "\n",
    "# Just grabbing any Teff so we can use a sonora pressure-temperature profile\n",
    "Teff = 1000\n",
    "for i in calc.keys():cases[i].sonora(str(sonora_profile_db), Teff, chem='grid')"
   ]
  },
  {
   "cell_type": "markdown",
   "metadata": {},
   "source": [
    "The differences between the two procedures comes in when we specify the chemistry. Here we introduce a new function called `premix_atmosphere`. This is going to pull the precomputed chemistry that was used to compute the correlated k tables. "
   ]
  },
  {
   "cell_type": "code",
   "execution_count": null,
   "metadata": {},
   "outputs": [],
   "source": [
    "# Figure out here from fun with chem\n",
    "cases['ck'].premix_atmosphere(calc['ck'])\n",
    "\n",
    "# Now let's pass that to the monochromatic opacities for consistency\n",
    "cases['mono'].atmosphere(df=cases['ck'].inputs['atmosphere']['profile'])\n",
    "\n",
    "# Set identical atmosphere for the resorted ck, if desired.\n",
    "cases['resort'].atmosphere(df=cases['ck'].inputs['atmosphere']['profile'])"
   ]
  },
  {
   "cell_type": "code",
   "execution_count": null,
   "metadata": {},
   "outputs": [],
   "source": [
    "df = {}\n",
    "\n",
    "# Run picaso with each of the cases\n",
    "df['ck'] = cases['ck'].spectrum(calc['ck'],full_output=True, calculation='thermal')\n",
    "df['mono'] = cases['mono'].spectrum(calc['mono'],full_output=True, calculation='thermal')\n",
    "df['resort'] = cases['resort'].spectrum(calc['resort'],full_output=True, calculation='thermal')"
   ]
  },
  {
   "cell_type": "markdown",
   "metadata": {},
   "source": [
    "## Compare the optical depth for various layers\n",
    "\n",
    "One big difference you will notice between `taugas` for a monochromatic opacity calculation and a correlated-k calculation, is that `taugas` will have an extra dimension for CK. Those correspond to each of the gauss points. Now, be careful not to confuse the gauss points that we use for the disk integration and these gauss points. They are different!\n",
    "\n",
    "Below is an example of summing the `tau`'s in order to compare with the monochromatic opacities. \n",
    "\n",
    "This compares the mono case, the premixed correlated-k case, and the disequilibrium chemistry correlated-k case"
   ]
  },
  {
   "cell_type": "code",
   "execution_count": null,
   "metadata": {},
   "outputs": [],
   "source": [
    "\n",
    "cm1_to_micron = lambda wn: 1e4 / wn \n",
    "\n",
    "# Num guass points is based on the opacities that you're using\n",
    "num_gauss_points = 8\n",
    "gauss_to_plot    = range(0, num_gauss_points, 2)  \n",
    "cmap             = plt.cm.viridis\n",
    "colors           = cmap(np.linspace(0.2, 0.9, len(gauss_to_plot)))\n",
    "\n",
    "wl_mono  = cm1_to_micron(df['mono']['wavenumber'])\n",
    "wl_ck    = cm1_to_micron(df['ck']['wavenumber'])\n",
    "wl_resort = cm1_to_micron(df['resort']['wavenumber'])\n",
    "\n",
    "fig, ax = plt.subplots()\n",
    "\n",
    "ax.plot(wl_mono,\n",
    "        df['mono']['full_output']['taugas'][0],\n",
    "        color='black', lw=0.1, alpha=1, label='mono')\n",
    "\n",
    "# CK = solid, resort = dashed; color varies per Gauss index\n",
    "for j, i in enumerate(gauss_to_plot):\n",
    "    clr = colors[j]\n",
    "    ax.plot(wl_ck,    df['ck']['full_output']['taugas'][0, :, i], lw=1.5, ls='-', color=clr)\n",
    "    ax.plot(wl_resort, df['resort']['full_output']['taugas'][0, :, i], lw=1.5, ls='--', color=clr)\n",
    "\n",
    "# axes formatting\n",
    "ax.set(xscale='log', yscale='log',\n",
    "       xlim=(0.25, 15),\n",
    "       xlabel=r'Wavelength ($\\mu$m)',\n",
    "       ylabel=r'Gas optical depth $\\tau$')\n",
    "\n",
    "# legend with uniform linewidth\n",
    "leg_lw = 1.5\n",
    "legend_handles = [\n",
    "    Line2D([], [], color='black',  lw=leg_lw, ls='-',  label='mono'),\n",
    "    Line2D([], [], color=colors[0], lw=leg_lw, ls='-',  label='ck bins'),\n",
    "    Line2D([], [], color=colors[0], lw=leg_lw, ls='--', label='resort bins'),\n",
    "]\n",
    "ax.legend(handles=legend_handles, frameon=False)\n",
    "\n",
    "plt.tight_layout()\n",
    "plt.show()"
   ]
  },
  {
   "cell_type": "markdown",
   "metadata": {},
   "source": [
    "## Compare Chemistry\n",
    "\n",
    "In this case we supplied it the same chemistry. However, there may be cases where you want to extract the chemistry from the pre-computed files. This is how you would go about doing so. \n",
    "\n",
    "For the below code snippet, I am pulling out the abundances that are higher than 0.1 ppm. "
   ]
  },
  {
   "cell_type": "code",
   "execution_count": null,
   "metadata": {},
   "outputs": [],
   "source": [
    "styles = {'mono': '-', 'ck': ':', 'resort': '--'}\n",
    "colors = cycle(plt.cm.tab10.colors)\n",
    "\n",
    "fig, ax = plt.subplots()\n",
    "ax.set(xscale='log', yscale='log', xlim=(1e-10, 1), ylim=(50, 1e-4), xlabel='Mixing Ratio (v/v)', ylabel='Pressure (bar)')\n",
    "\n",
    "species = {c for k in styles for c in cases[k].inputs['atmosphere']['profile'].columns if c not in ('pressure', 'temperature')}\n",
    "\n",
    "for clr, sp in zip(colors, species):\n",
    "    for case, ls in styles.items():\n",
    "        df = cases[case].inputs['atmosphere']['profile']\n",
    "        x = df.get(sp)\n",
    "        if x is not None and x.max() > 1e-8:\n",
    "            ax.plot(x, df['pressure'], color=clr, ls=ls, lw=1)\n",
    "\n",
    "ax.legend([Line2D([], [], color='k', lw=1, ls=ls) for ls in styles.values()], styles.keys())\n",
    "plt.tight_layout()"
   ]
  },
  {
   "cell_type": "code",
   "execution_count": null,
   "metadata": {},
   "outputs": [],
   "source": []
  },
  {
   "cell_type": "code",
   "execution_count": null,
   "metadata": {},
   "outputs": [],
   "source": []
  },
  {
   "cell_type": "code",
   "execution_count": null,
   "metadata": {},
   "outputs": [],
   "source": []
  }
 ],
 "metadata": {
  "kernelspec": {
   "display_name": "pic312",
   "language": "python",
   "name": "python3"
  },
  "language_info": {
   "codemirror_mode": {
    "name": "ipython",
    "version": 3
   },
   "file_extension": ".py",
   "mimetype": "text/x-python",
   "name": "python",
   "nbconvert_exporter": "python",
   "pygments_lexer": "ipython3",
   "version": "3.12.2"
  },
  "toc": {
   "base_numbering": 1,
   "nav_menu": {},
   "number_sections": true,
   "sideBar": true,
   "skip_h1_title": false,
   "title_cell": "Table of Contents",
   "title_sidebar": "Contents",
   "toc_cell": true,
   "toc_position": {},
   "toc_section_display": true,
   "toc_window_display": false
  },
  "varInspector": {
   "cols": {
    "lenName": 16,
    "lenType": 16,
    "lenVar": 40
   },
   "kernels_config": {
    "python": {
     "delete_cmd_postfix": "",
     "delete_cmd_prefix": "del ",
     "library": "var_list.py",
     "varRefreshCmd": "print(var_dic_list())"
    },
    "r": {
     "delete_cmd_postfix": ") ",
     "delete_cmd_prefix": "rm(",
     "library": "var_list.r",
     "varRefreshCmd": "cat(var_dic_list()) "
    }
   },
   "types_to_exclude": [
    "module",
    "function",
    "builtin_function_or_method",
    "instance",
    "_Feature"
   ],
   "window_display": false
  }
 },
 "nbformat": 4,
 "nbformat_minor": 4
}
