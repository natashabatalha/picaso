{
 "cells": [
  {
   "cell_type": "markdown",
   "metadata": {},
   "source": [
    "# Querying Opacities  \n",
    "\n",
    "``PICASO`` currently comes with single opacity database that includes both the continuum and molecular opacity. The opacity file that comes included with has a 0.3-14 $\\mu$m opacity grid sampled at R=15000. This is why we consistently bin our spectra to R~100. Contact us with opacity needs. \n",
    "\n",
    "We chose those use `sqlite3` for our database because of it's 1) user-friendliness, 2) speed, 3) scalability, 4) compatibility with parallel programing. We tried out various other methods as well-- `json`, `hdf5`, `ascii`, `sqlalchemy`-- but `sqlite3` was truly better for this specific problem.  \n",
    "\n",
    "In this tutorial you wil learn how to quickly grab any opacity data"
   ]
  },
  {
   "cell_type": "code",
   "execution_count": null,
   "metadata": {},
   "outputs": [],
   "source": [
    "import warnings\n",
    "warnings.filterwarnings('ignore')\n",
    "import io\n",
    "import numpy as np\n",
    "import os\n",
    "import picaso.opacity_factory as opa\n",
    "#plotting \n",
    "import picaso.justplotit as jpi\n",
    "import picaso.justdoit as jdi\n",
    "jpi.output_notebook()"
   ]
  },
  {
   "cell_type": "markdown",
   "metadata": {},
   "source": [
    "## General Sqlite3 and how our database is structured\n",
    "\n",
    "- 3 Tables: `header`, `continuum`, and `molecular`\n",
    "- header: contains units and the wavenumber grid\n",
    "- continuum: contains a grid continuum opacity and is temperature dependent \n",
    "- molecular: contains all molecular opacity and is pressure-temperature dependent. "
   ]
  },
  {
   "cell_type": "markdown",
   "metadata": {},
   "source": [
    "## How to Query the Database"
   ]
  },
  {
   "cell_type": "code",
   "execution_count": null,
   "metadata": {},
   "outputs": [],
   "source": [
    "#this is where your opacity file should be located if you've set your environments correctly\n",
    "db_filename = os.path.join(os.getenv('picaso_refdata'), 'opacities','opacities.db')"
   ]
  },
  {
   "cell_type": "markdown",
   "metadata": {},
   "source": [
    "### What version db are you using ?\n",
    "\n",
    "Note this only works with PICASO Opacities v3 on Zenodo and above "
   ]
  },
  {
   "cell_type": "code",
   "execution_count": null,
   "metadata": {},
   "outputs": [],
   "source": [
    "opa.get_metadata_item(db_filename, 'version'),opa.get_metadata_item(db_filename, 'zenodo')"
   ]
  },
  {
   "cell_type": "markdown",
   "metadata": {},
   "source": [
    "### What Species, Pressures and Temperatures are Available"
   ]
  },
  {
   "cell_type": "code",
   "execution_count": null,
   "metadata": {},
   "outputs": [],
   "source": [
    "molecules, pt_pairs = opa.molecular_avail(db_filename)"
   ]
  },
  {
   "cell_type": "code",
   "execution_count": null,
   "metadata": {},
   "outputs": [],
   "source": [
    "print(molecules)"
   ]
  },
  {
   "cell_type": "code",
   "execution_count": null,
   "metadata": {},
   "outputs": [],
   "source": [
    "pt_pairs[0:10] #full list of all the pt pairs. the first value is just an index for bookkeeping"
   ]
  },
  {
   "cell_type": "code",
   "execution_count": null,
   "metadata": {},
   "outputs": [],
   "source": [
    "species_to_get = ['H2O']\n",
    "temperature = list(np.arange(400,1000,10)) #this will find the nearest point for you in the db\n",
    "pressure = [1]*len(temperature) #in bars\n",
    "\n",
    "#NOTE: temperature and pressure lists are defined as pairs. The list above is \n",
    "#grabbing temperatures from 400-1000 all at 1 bar. \n",
    "\n",
    "data  = opa.get_molecular(db_filename, species_to_get, temperature,pressure)"
   ]
  },
  {
   "cell_type": "code",
   "execution_count": null,
   "metadata": {},
   "outputs": [],
   "source": [
    "data.keys()"
   ]
  },
  {
   "cell_type": "code",
   "execution_count": null,
   "metadata": {},
   "outputs": [],
   "source": [
    "#note these temperatures might be different from your input \n",
    "#if there isnt an exact point matching your input\n",
    "data['H2O'].keys() "
   ]
  },
  {
   "cell_type": "code",
   "execution_count": null,
   "metadata": {},
   "outputs": [],
   "source": [
    "data['H2O'][400.0].keys() #in this case we had the exact point (1.0 bar)"
   ]
  },
  {
   "cell_type": "code",
   "execution_count": null,
   "metadata": {},
   "outputs": [],
   "source": [
    "Spectral11  = jpi.pals.Spectral11\n",
    "f = jpi.figure(y_axis_type='log',height=500,y_range=[1e-29,1e-17],\n",
    "          y_axis_label='Cross Section (cm2/species)', x_axis_label='Micron')\n",
    "for T , C in zip(data['H2O'].keys(), Spectral11):\n",
    "    x,y = jdi.mean_regrid(data['wavenumber'],data['H2O'][T][1.0], R=200)\n",
    "    f.line(1e4/x,y, color=C,legend_label=str(T))\n",
    "jpi.show(f)\n",
    "    "
   ]
  },
  {
   "cell_type": "markdown",
   "metadata": {},
   "source": [
    "### Get Continuum Opacity\n",
    "\n",
    "Very similar to molecular opacity, except not pressure dependent"
   ]
  },
  {
   "cell_type": "code",
   "execution_count": null,
   "metadata": {},
   "outputs": [],
   "source": [
    "molecules, temperatures = opa.continuum_avail(db_filename)"
   ]
  },
  {
   "cell_type": "code",
   "execution_count": null,
   "metadata": {},
   "outputs": [],
   "source": [
    "print(molecules)"
   ]
  },
  {
   "cell_type": "markdown",
   "metadata": {},
   "source": [
    "Note: The continuum is perhaps the most \"hard-coded\" aspect of this code. If you want to add new continuum molecules you must also update this part of `picaso`: \n",
    "\n",
    "https://github.com/natashabatalha/picaso/blob/8ae68dfb0bd7c876f5f4fe7ee1d2ac00366d15ef/picaso/atmsetup.py#L313"
   ]
  },
  {
   "cell_type": "code",
   "execution_count": null,
   "metadata": {},
   "outputs": [],
   "source": [
    "data  = opa.get_continuum(db_filename, ['H2He'], list(temperature))"
   ]
  },
  {
   "cell_type": "code",
   "execution_count": null,
   "metadata": {},
   "outputs": [],
   "source": [
    "data.keys()"
   ]
  },
  {
   "cell_type": "code",
   "execution_count": null,
   "metadata": {},
   "outputs": [],
   "source": [
    "data['H2He'].keys()"
   ]
  },
  {
   "cell_type": "code",
   "execution_count": null,
   "metadata": {},
   "outputs": [],
   "source": [
    "\n",
    "f = jpi.figure(y_axis_type='log',height=300,y_range=[1e-15,1e-5],\n",
    "          y_axis_label='Cross Section (cm-1 amagat-2)', x_axis_label='Micron')\n",
    "for T , C in zip(list(data['H2He'].keys())[::2], Spectral11):\n",
    "    x,y = jdi.mean_regrid(data['wavenumber'],data['H2He'][T], R=200)\n",
    "    f.line(1e4/x,y, color=C,legend_label=str(T))\n",
    "    \n",
    "jpi.show(f)"
   ]
  },
  {
   "cell_type": "code",
   "execution_count": null,
   "metadata": {},
   "outputs": [],
   "source": []
  }
 ],
 "metadata": {
  "kernelspec": {
   "display_name": "Python 3 (ipykernel)",
   "language": "python",
   "name": "python3"
  },
  "language_info": {
   "codemirror_mode": {
    "name": "ipython",
    "version": 3
   },
   "file_extension": ".py",
   "mimetype": "text/x-python",
   "name": "python",
   "nbconvert_exporter": "python",
   "pygments_lexer": "ipython3",
   "version": "3.11.5"
  },
  "toc": {
   "base_numbering": 1,
   "nav_menu": {},
   "number_sections": true,
   "sideBar": true,
   "skip_h1_title": false,
   "title_cell": "Table of Contents",
   "title_sidebar": "Contents",
   "toc_cell": true,
   "toc_position": {},
   "toc_section_display": true,
   "toc_window_display": false
  },
  "varInspector": {
   "cols": {
    "lenName": 16,
    "lenType": 16,
    "lenVar": 40
   },
   "kernels_config": {
    "python": {
     "delete_cmd_postfix": "",
     "delete_cmd_prefix": "del ",
     "library": "var_list.py",
     "varRefreshCmd": "print(var_dic_list())"
    },
    "r": {
     "delete_cmd_postfix": ") ",
     "delete_cmd_prefix": "rm(",
     "library": "var_list.r",
     "varRefreshCmd": "cat(var_dic_list()) "
    }
   },
   "types_to_exclude": [
    "module",
    "function",
    "builtin_function_or_method",
    "instance",
    "_Feature"
   ],
   "window_display": false
  }
 },
 "nbformat": 4,
 "nbformat_minor": 4
}
