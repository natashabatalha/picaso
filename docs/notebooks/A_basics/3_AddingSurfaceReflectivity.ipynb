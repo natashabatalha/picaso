{
 "cells": [
  {
   "cell_type": "markdown",
   "metadata": {},
   "source": [
    "# Terrestiral Planets: Adding a Surface\n",
    "\n",
    "Three major changes differences you need to make note of for terrestrial planets in both reflected, emission and transmission geometry: \n",
    "\n",
    "1. Adding a surface reflectivity \n",
    "2. Ensuring the code knows that your lower boundary condition is a hard surface \n",
    "3. Ensuring that the reference pressure is lower than the lower pressure of your surface. `PICASO` default is 1 bar, which is often times too high."
   ]
  },
  {
   "cell_type": "code",
   "execution_count": null,
   "metadata": {},
   "outputs": [],
   "source": [
    "import pandas as pd\n",
    "import numpy as np\n",
    "#picaso\n",
    "from picaso import justdoit as jdi \n",
    "from picaso import justplotit as jpi\n",
    "#plotting\n",
    "jpi.output_notebook()"
   ]
  },
  {
   "cell_type": "markdown",
   "metadata": {},
   "source": [
    "### Connect to Opacity Database"
   ]
  },
  {
   "cell_type": "code",
   "execution_count": null,
   "metadata": {},
   "outputs": [],
   "source": [
    "opacity = jdi.opannection(wave_range=[0.3,1])"
   ]
  },
  {
   "cell_type": "markdown",
   "metadata": {},
   "source": [
    "### Load blank slate"
   ]
  },
  {
   "cell_type": "code",
   "execution_count": null,
   "metadata": {},
   "outputs": [],
   "source": [
    "sum_planet = jdi.inputs()"
   ]
  },
  {
   "cell_type": "markdown",
   "metadata": {},
   "source": [
    "### Set Planet & Star Properties "
   ]
  },
  {
   "cell_type": "code",
   "execution_count": null,
   "metadata": {},
   "outputs": [],
   "source": [
    "#phase angle \n",
    "sum_planet.phase_angle(0) #radians\n",
    "\n",
    "#define gravity\n",
    "sum_planet.gravity(gravity=9.8, gravity_unit=jdi.u.Unit('m/(s**2)')) #any astropy units available\n",
    "\n",
    "#define star \n",
    "sum_planet.star(opacity,5000,0,4.0) #pysynphot database, temp, metallicity, logg "
   ]
  },
  {
   "cell_type": "markdown",
   "metadata": {},
   "source": [
    "## Add Surface Reflectivity\n",
    "\n",
    "For reflected light it is important to specify the surface albedo in case there are wavelength bands that are optically thin from molecular absorption. In those cases you will see the surface reflection in your spectra. \n",
    "\n",
    "For emission, it is important the surface reflectivity routine also tells the code that you have a \"hard surface\" boundary condition (opposed to a high pressure surface). Therefore if you are running reflected light, or thermal emission you will have to run the `surface_reflect` routine. \n",
    "\n",
    "**Therefore, it is critical that you run this routine for all terrestrial cases (reflected light and thermal emission**"
   ]
  },
  {
   "cell_type": "code",
   "execution_count": null,
   "metadata": {},
   "outputs": [],
   "source": [
    "sum_planet.atmosphere(df=pd.DataFrame({'pressure':np.logspace(-6,0,40),\n",
    "                         'temperature':np.linspace(100,270,40), #very fake temperature profile with a 270 K suface\n",
    "                         'H2O':np.zeros(40)+0.01,\n",
    "                         'CO2':np.zeros(40)+1-0.01}))\n",
    "\n",
    "sum_planet.surface_reflect(0.3,opacity.wno) #this inputs the surface reflectivity and tells the code \n",
    "                                            #there is a hard surface\n",
    "\n",
    "    \n",
    "#can also input a wavelength dependent quantity here\n",
    "#fake_surface= np.linspace(0.01,0.9, opacity.nwno)\n",
    "#sum_planet.surface_reflect(fake_surface,opacity.wno)"
   ]
  },
  {
   "cell_type": "markdown",
   "metadata": {},
   "source": [
    "Note you can turn off these printout messages with `verbose=False` in the `atmosphere` function"
   ]
  },
  {
   "cell_type": "markdown",
   "metadata": {},
   "source": [
    "## Create 1D Albedo Spectrum"
   ]
  },
  {
   "cell_type": "code",
   "execution_count": null,
   "metadata": {},
   "outputs": [],
   "source": [
    "df = sum_planet.spectrum(opacity)"
   ]
  },
  {
   "cell_type": "code",
   "execution_count": null,
   "metadata": {},
   "outputs": [],
   "source": [
    "wno, alb, fpfs = df['wavenumber'],df['albedo'],df['fpfs_reflected']\n",
    "wno, alb = jpi.mean_regrid(wno, alb, R=150)"
   ]
  },
  {
   "cell_type": "code",
   "execution_count": null,
   "metadata": {},
   "outputs": [],
   "source": [
    "jpi.show(jpi.spectrum([wno], [alb], plot_width=500))"
   ]
  },
  {
   "cell_type": "markdown",
   "metadata": {},
   "source": [
    "What about contrast units? "
   ]
  },
  {
   "cell_type": "code",
   "execution_count": null,
   "metadata": {},
   "outputs": [],
   "source": [
    "fpfs"
   ]
  },
  {
   "cell_type": "markdown",
   "metadata": {},
   "source": [
    "### Get Contrast Units  \n",
    "\n",
    "In order to get contrast units we have to make sure to give the `gravity` and `star` functions semi major axis, mass and radius."
   ]
  },
  {
   "cell_type": "code",
   "execution_count": null,
   "metadata": {},
   "outputs": [],
   "source": [
    "sum_planet.star(opacity,5000,0,4.0,semi_major=1, semi_major_unit=jdi.u.Unit('au')) \n",
    "sum_planet.gravity(radius=1.,radius_unit=jdi.u.Unit('R_earth'), \n",
    "             mass=1,mass_unit=jdi.u.Unit('M_earth')) \n",
    "df = sum_planet.spectrum(opacity)\n",
    "wno, alb, fpfs = df['wavenumber'],df['albedo'],df['fpfs_reflected']\n",
    "wno, fpfs = jdi.mean_regrid(wno, fpfs , R=150)\n"
   ]
  },
  {
   "cell_type": "code",
   "execution_count": null,
   "metadata": {},
   "outputs": [],
   "source": [
    "jpi.show(jpi.spectrum([wno], [fpfs*1e6], plot_width=500))"
   ]
  }
 ],
 "metadata": {
  "kernelspec": {
   "display_name": "Python [conda env:base] *",
   "language": "python",
   "name": "conda-base-py"
  },
  "language_info": {
   "codemirror_mode": {
    "name": "ipython",
    "version": 3
   },
   "file_extension": ".py",
   "mimetype": "text/x-python",
   "name": "python",
   "nbconvert_exporter": "python",
   "pygments_lexer": "ipython3",
   "version": "3.12.7"
  },
  "toc": {
   "base_numbering": 1,
   "nav_menu": {},
   "number_sections": true,
   "sideBar": true,
   "skip_h1_title": false,
   "title_cell": "Table of Contents",
   "title_sidebar": "Contents",
   "toc_cell": true,
   "toc_position": {},
   "toc_section_display": true,
   "toc_window_display": false
  }
 },
 "nbformat": 4,
 "nbformat_minor": 4
}
