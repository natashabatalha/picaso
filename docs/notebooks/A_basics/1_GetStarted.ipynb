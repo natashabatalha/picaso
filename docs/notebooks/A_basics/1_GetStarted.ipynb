{
 "cells": [
  {
   "cell_type": "markdown",
   "metadata": {},
   "source": [
    "# Getting Started : Basic Inputs and Outputs\n",
    "\n",
    "If you are here then you have already successfully \n",
    "\n",
    "1) Installed the code\n",
    "\n",
    "2) Downloaded the necessary reference data\n",
    "\n",
    "3) Added environment variables \n",
    "\n",
    "If you have not done these things, please return to [Installation Guilde](https://natashabatalha.github.io/picaso/installation.html)\n",
    "\n",
    "Reminder you can always run these to check your environment: \n",
    "\n",
    ">> import picaso.data as data\n",
    "\n",
    ">> data.check_environ()"
   ]
  },
  {
   "cell_type": "code",
   "execution_count": 1,
   "metadata": {},
   "outputs": [
    {
     "name": "stderr",
     "output_type": "stream",
     "text": [
      "WARNING: Failed to load Vega spectrum from /Users/nbatalh1/Documents/data/grp/redcat/trds/calspec/alpha_lyr_stis_011.fits; Functionality involving Vega will be severely limited: FileNotFoundError(2, 'No such file or directory') [stsynphot.spectrum]\n",
      "/Users/nbatalh1/Documents/codes/PICASO/picaso/picaso/justdoit.py:56: UserWarning: Your code version is 3.3 but your reference data version is 4.0. For some functionality you may experience Keyword errors. Please download the newest ref version or update your code: https://github.com/natashabatalha/picaso/tree/master/reference\n",
      "  warnings.warn(msg)\n"
     ]
    },
    {
     "data": {
      "text/html": [
       "    <style>\n",
       "        .bk-notebook-logo {\n",
       "            display: block;\n",
       "            width: 20px;\n",
       "            height: 20px;\n",
       "            background-image: url(data:image/png;base64,iVBORw0KGgoAAAANSUhEUgAAABQAAAAUCAYAAACNiR0NAAAABHNCSVQICAgIfAhkiAAAAAlwSFlzAAALEgAACxIB0t1+/AAAABx0RVh0U29mdHdhcmUAQWRvYmUgRmlyZXdvcmtzIENTNui8sowAAAOkSURBVDiNjZRtaJVlGMd/1/08zzln5zjP1LWcU9N0NkN8m2CYjpgQYQXqSs0I84OLIC0hkEKoPtiH3gmKoiJDU7QpLgoLjLIQCpEsNJ1vqUOdO7ppbuec5+V+rj4ctwzd8IIbbi6u+8f1539dt3A78eXC7QizUF7gyV1fD1Yqg4JWz84yffhm0qkFqBogB9rM8tZdtwVsPUhWhGcFJngGeWrPzHm5oaMmkfEg1usvLFyc8jLRqDOMru7AyC8saQr7GG7f5fvDeH7Ej8CM66nIF+8yngt6HWaKh7k49Soy9nXurCi1o3qUbS3zWfrYeQDTB/Qj6kX6Ybhw4B+bOYoLKCC9H3Nu/leUTZ1JdRWkkn2ldcCamzrcf47KKXdAJllSlxAOkRgyHsGC/zRday5Qld9DyoM4/q/rUoy/CXh3jzOu3bHUVZeU+DEn8FInkPBFlu3+nW3Nw0mk6vCDiWg8CeJaxEwuHS3+z5RgY+YBR6V1Z1nxSOfoaPa4LASWxxdNp+VWTk7+4vzaou8v8PN+xo+KY2xsw6une2frhw05CTYOmQvsEhjhWjn0bmXPjpE1+kplmmkP3suftwTubK9Vq22qKmrBhpY4jvd5afdRA3wGjFAgcnTK2s4hY0/GPNIb0nErGMCRxWOOX64Z8RAC4oCXdklmEvcL8o0BfkNK4lUg9HTl+oPlQxdNo3Mg4Nv175e/1LDGzZen30MEjRUtmXSfiTVu1kK8W4txyV6BMKlbgk3lMwYCiusNy9fVfvvwMxv8Ynl6vxoByANLTWplvuj/nF9m2+PDtt1eiHPBr1oIfhCChQMBw6Aw0UulqTKZdfVvfG7VcfIqLG9bcldL/+pdWTLxLUy8Qq38heUIjh4XlzZxzQm19lLFlr8vdQ97rjZVOLf8nclzckbcD4wxXMidpX30sFd37Fv/GtwwhzhxGVAprjbg0gCAEeIgwCZyTV2Z1REEW8O4py0wsjeloKoMr6iCY6dP92H6Vw/oTyICIthibxjm/DfN9lVz8IqtqKYLUXfoKVMVQVVJOElGjrnnUt9T9wbgp8AyYKaGlqingHZU/uG2NTZSVqwHQTWkx9hxjkpWDaCg6Ckj5qebgBVbT3V3NNXMSiWSDdGV3hrtzla7J+duwPOToIg42ChPQOQjspnSlp1V+Gjdged7+8UN5CRAV7a5EdFNwCjEaBR27b3W890TE7g24NAP/mMDXRWrGoFPQI9ls/MWO2dWFAar/xcOIImbbpA3zgAAAABJRU5ErkJggg==);\n",
       "        }\n",
       "    </style>\n",
       "    <div>\n",
       "        <a href=\"https://bokeh.org\" target=\"_blank\" class=\"bk-notebook-logo\"></a>\n",
       "        <span id=\"b4e99fac-5fa1-4406-a3e3-2e5cc506018e\">Loading BokehJS ...</span>\n",
       "    </div>\n"
      ]
     },
     "metadata": {},
     "output_type": "display_data"
    },
    {
     "data": {
      "application/javascript": "'use strict';\n(function(root) {\n  function now() {\n    return new Date();\n  }\n\n  const force = true;\n\n  if (typeof root._bokeh_onload_callbacks === \"undefined\" || force === true) {\n    root._bokeh_onload_callbacks = [];\n    root._bokeh_is_loading = undefined;\n  }\n\nconst JS_MIME_TYPE = 'application/javascript';\n  const HTML_MIME_TYPE = 'text/html';\n  const EXEC_MIME_TYPE = 'application/vnd.bokehjs_exec.v0+json';\n  const CLASS_NAME = 'output_bokeh rendered_html';\n\n  /**\n   * Render data to the DOM node\n   */\n  function render(props, node) {\n    const script = document.createElement(\"script\");\n    node.appendChild(script);\n  }\n\n  /**\n   * Handle when an output is cleared or removed\n   */\n  function handleClearOutput(event, handle) {\n    function drop(id) {\n      const view = Bokeh.index.get_by_id(id)\n      if (view != null) {\n        view.model.document.clear()\n        Bokeh.index.delete(view)\n      }\n    }\n\n    const cell = handle.cell;\n\n    const id = cell.output_area._bokeh_element_id;\n    const server_id = cell.output_area._bokeh_server_id;\n\n    // Clean up Bokeh references\n    if (id != null) {\n      drop(id)\n    }\n\n    if (server_id !== undefined) {\n      // Clean up Bokeh references\n      const cmd_clean = \"from bokeh.io.state import curstate; print(curstate().uuid_to_server['\" + server_id + \"'].get_sessions()[0].document.roots[0]._id)\";\n      cell.notebook.kernel.execute(cmd_clean, {\n        iopub: {\n          output: function(msg) {\n            const id = msg.content.text.trim()\n            drop(id)\n          }\n        }\n      });\n      // Destroy server and session\n      const cmd_destroy = \"import bokeh.io.notebook as ion; ion.destroy_server('\" + server_id + \"')\";\n      cell.notebook.kernel.execute(cmd_destroy);\n    }\n  }\n\n  /**\n   * Handle when a new output is added\n   */\n  function handleAddOutput(event, handle) {\n    const output_area = handle.output_area;\n    const output = handle.output;\n\n    // limit handleAddOutput to display_data with EXEC_MIME_TYPE content only\n    if ((output.output_type != \"display_data\") || (!Object.prototype.hasOwnProperty.call(output.data, EXEC_MIME_TYPE))) {\n      return\n    }\n\n    const toinsert = output_area.element.find(\".\" + CLASS_NAME.split(' ')[0]);\n\n    if (output.metadata[EXEC_MIME_TYPE][\"id\"] !== undefined) {\n      toinsert[toinsert.length - 1].firstChild.textContent = output.data[JS_MIME_TYPE];\n      // store reference to embed id on output_area\n      output_area._bokeh_element_id = output.metadata[EXEC_MIME_TYPE][\"id\"];\n    }\n    if (output.metadata[EXEC_MIME_TYPE][\"server_id\"] !== undefined) {\n      const bk_div = document.createElement(\"div\");\n      bk_div.innerHTML = output.data[HTML_MIME_TYPE];\n      const script_attrs = bk_div.children[0].attributes;\n      for (let i = 0; i < script_attrs.length; i++) {\n        toinsert[toinsert.length - 1].firstChild.setAttribute(script_attrs[i].name, script_attrs[i].value);\n        toinsert[toinsert.length - 1].firstChild.textContent = bk_div.children[0].textContent\n      }\n      // store reference to server id on output_area\n      output_area._bokeh_server_id = output.metadata[EXEC_MIME_TYPE][\"server_id\"];\n    }\n  }\n\n  function register_renderer(events, OutputArea) {\n\n    function append_mime(data, metadata, element) {\n      // create a DOM node to render to\n      const toinsert = this.create_output_subarea(\n        metadata,\n        CLASS_NAME,\n        EXEC_MIME_TYPE\n      );\n      this.keyboard_manager.register_events(toinsert);\n      // Render to node\n      const props = {data: data, metadata: metadata[EXEC_MIME_TYPE]};\n      render(props, toinsert[toinsert.length - 1]);\n      element.append(toinsert);\n      return toinsert\n    }\n\n    /* Handle when an output is cleared or removed */\n    events.on('clear_output.CodeCell', handleClearOutput);\n    events.on('delete.Cell', handleClearOutput);\n\n    /* Handle when a new output is added */\n    events.on('output_added.OutputArea', handleAddOutput);\n\n    /**\n     * Register the mime type and append_mime function with output_area\n     */\n    OutputArea.prototype.register_mime_type(EXEC_MIME_TYPE, append_mime, {\n      /* Is output safe? */\n      safe: true,\n      /* Index of renderer in `output_area.display_order` */\n      index: 0\n    });\n  }\n\n  // register the mime type if in Jupyter Notebook environment and previously unregistered\n  if (root.Jupyter !== undefined) {\n    const events = require('base/js/events');\n    const OutputArea = require('notebook/js/outputarea').OutputArea;\n\n    if (OutputArea.prototype.mime_types().indexOf(EXEC_MIME_TYPE) == -1) {\n      register_renderer(events, OutputArea);\n    }\n  }\n  if (typeof (root._bokeh_timeout) === \"undefined\" || force === true) {\n    root._bokeh_timeout = Date.now() + 5000;\n    root._bokeh_failed_load = false;\n  }\n\n  const NB_LOAD_WARNING = {'data': {'text/html':\n     \"<div style='background-color: #fdd'>\\n\"+\n     \"<p>\\n\"+\n     \"BokehJS does not appear to have successfully loaded. If loading BokehJS from CDN, this \\n\"+\n     \"may be due to a slow or bad network connection. Possible fixes:\\n\"+\n     \"</p>\\n\"+\n     \"<ul>\\n\"+\n     \"<li>re-rerun `output_notebook()` to attempt to load from CDN again, or</li>\\n\"+\n     \"<li>use INLINE resources instead, as so:</li>\\n\"+\n     \"</ul>\\n\"+\n     \"<code>\\n\"+\n     \"from bokeh.resources import INLINE\\n\"+\n     \"output_notebook(resources=INLINE)\\n\"+\n     \"</code>\\n\"+\n     \"</div>\"}};\n\n  function display_loaded(error = null) {\n    const el = document.getElementById(\"b4e99fac-5fa1-4406-a3e3-2e5cc506018e\");\n    if (el != null) {\n      const html = (() => {\n        if (typeof root.Bokeh === \"undefined\") {\n          if (error == null) {\n            return \"BokehJS is loading ...\";\n          } else {\n            return \"BokehJS failed to load.\";\n          }\n        } else {\n          const prefix = `BokehJS ${root.Bokeh.version}`;\n          if (error == null) {\n            return `${prefix} successfully loaded.`;\n          } else {\n            return `${prefix} <b>encountered errors</b> while loading and may not function as expected.`;\n          }\n        }\n      })();\n      el.innerHTML = html;\n\n      if (error != null) {\n        const wrapper = document.createElement(\"div\");\n        wrapper.style.overflow = \"auto\";\n        wrapper.style.height = \"5em\";\n        wrapper.style.resize = \"vertical\";\n        const content = document.createElement(\"div\");\n        content.style.fontFamily = \"monospace\";\n        content.style.whiteSpace = \"pre-wrap\";\n        content.style.backgroundColor = \"rgb(255, 221, 221)\";\n        content.textContent = error.stack ?? error.toString();\n        wrapper.append(content);\n        el.append(wrapper);\n      }\n    } else if (Date.now() < root._bokeh_timeout) {\n      setTimeout(() => display_loaded(error), 100);\n    }\n  }\n\n  function run_callbacks() {\n    try {\n      root._bokeh_onload_callbacks.forEach(function(callback) {\n        if (callback != null)\n          callback();\n      });\n    } finally {\n      delete root._bokeh_onload_callbacks\n    }\n    console.debug(\"Bokeh: all callbacks have finished\");\n  }\n\n  function load_libs(css_urls, js_urls, callback) {\n    if (css_urls == null) css_urls = [];\n    if (js_urls == null) js_urls = [];\n\n    root._bokeh_onload_callbacks.push(callback);\n    if (root._bokeh_is_loading > 0) {\n      console.debug(\"Bokeh: BokehJS is being loaded, scheduling callback at\", now());\n      return null;\n    }\n    if (js_urls == null || js_urls.length === 0) {\n      run_callbacks();\n      return null;\n    }\n    console.debug(\"Bokeh: BokehJS not loaded, scheduling load and callback at\", now());\n    root._bokeh_is_loading = css_urls.length + js_urls.length;\n\n    function on_load() {\n      root._bokeh_is_loading--;\n      if (root._bokeh_is_loading === 0) {\n        console.debug(\"Bokeh: all BokehJS libraries/stylesheets loaded\");\n        run_callbacks()\n      }\n    }\n\n    function on_error(url) {\n      console.error(\"failed to load \" + url);\n    }\n\n    for (let i = 0; i < css_urls.length; i++) {\n      const url = css_urls[i];\n      const element = document.createElement(\"link\");\n      element.onload = on_load;\n      element.onerror = on_error.bind(null, url);\n      element.rel = \"stylesheet\";\n      element.type = \"text/css\";\n      element.href = url;\n      console.debug(\"Bokeh: injecting link tag for BokehJS stylesheet: \", url);\n      document.body.appendChild(element);\n    }\n\n    for (let i = 0; i < js_urls.length; i++) {\n      const url = js_urls[i];\n      const element = document.createElement('script');\n      element.onload = on_load;\n      element.onerror = on_error.bind(null, url);\n      element.async = false;\n      element.src = url;\n      console.debug(\"Bokeh: injecting script tag for BokehJS library: \", url);\n      document.head.appendChild(element);\n    }\n  };\n\n  function inject_raw_css(css) {\n    const element = document.createElement(\"style\");\n    element.appendChild(document.createTextNode(css));\n    document.body.appendChild(element);\n  }\n\n  const js_urls = [\"https://cdn.bokeh.org/bokeh/release/bokeh-3.4.3.min.js\", \"https://cdn.bokeh.org/bokeh/release/bokeh-gl-3.4.3.min.js\", \"https://cdn.bokeh.org/bokeh/release/bokeh-widgets-3.4.3.min.js\", \"https://cdn.bokeh.org/bokeh/release/bokeh-tables-3.4.3.min.js\", \"https://cdn.bokeh.org/bokeh/release/bokeh-mathjax-3.4.3.min.js\"];\n  const css_urls = [];\n\n  const inline_js = [    function(Bokeh) {\n      Bokeh.set_log_level(\"info\");\n    },\nfunction(Bokeh) {\n    }\n  ];\n\n  function run_inline_js() {\n    if (root.Bokeh !== undefined || force === true) {\n      try {\n            for (let i = 0; i < inline_js.length; i++) {\n      inline_js[i].call(root, root.Bokeh);\n    }\n\n      } catch (error) {display_loaded(error);throw error;\n      }if (force === true) {\n        display_loaded();\n      }} else if (Date.now() < root._bokeh_timeout) {\n      setTimeout(run_inline_js, 100);\n    } else if (!root._bokeh_failed_load) {\n      console.log(\"Bokeh: BokehJS failed to load within specified timeout.\");\n      root._bokeh_failed_load = true;\n    } else if (force !== true) {\n      const cell = $(document.getElementById(\"b4e99fac-5fa1-4406-a3e3-2e5cc506018e\")).parents('.cell').data().cell;\n      cell.output_area.append_execute_result(NB_LOAD_WARNING)\n    }\n  }\n\n  if (root._bokeh_is_loading === 0) {\n    console.debug(\"Bokeh: BokehJS loaded, going straight to plotting\");\n    run_inline_js();\n  } else {\n    load_libs(css_urls, js_urls, function() {\n      console.debug(\"Bokeh: BokehJS plotting callback run at\", now());\n      run_inline_js();\n    });\n  }\n}(window));",
      "application/vnd.bokehjs_load.v0+json": ""
     },
     "metadata": {},
     "output_type": "display_data"
    }
   ],
   "source": [
    "#picaso\n",
    "from picaso import justdoit as jdi \n",
    "from picaso import justplotit as jpi\n",
    "import numpy as np\n",
    "\n",
    "jpi.output_notebook()"
   ]
  },
  {
   "cell_type": "code",
   "execution_count": 2,
   "metadata": {},
   "outputs": [
    {
     "name": "stdout",
     "output_type": "stream",
     "text": [
      "/Users/nbatalh1/Documents/codes/PICASO/picaso/reference\n"
     ]
    }
   ],
   "source": [
    "#double check that your reference file path has been set \n",
    "import os\n",
    "refdata = os.getenv(\"picaso_refdata\")\n",
    "print(refdata)\n",
    "#if you are having trouble setting this you can do it right here in the command line\n",
    "#os.environ[\"picaso_refdata\"]= add your path here AND COPY AND PASTE ABOVE \n",
    "#IT WILL NEED TO GO ABOVE YOUR PICASO IMPORT"
   ]
  },
  {
   "cell_type": "markdown",
   "metadata": {},
   "source": [
    "## Connect to Opacity Database\n",
    "\n",
    "There is a full notebook in the tutorials devoted to learning how to make opacity databases in our format. If you cloned from `github`, there should also be an opacity database there called `opacity.db`. "
   ]
  },
  {
   "cell_type": "code",
   "execution_count": 3,
   "metadata": {},
   "outputs": [
    {
     "name": "stdout",
     "output_type": "stream",
     "text": [
      "Help on function opannection in module picaso.justdoit:\n",
      "\n",
      "opannection(wave_range=None, filename_db=None, resample=1, method='resampled', ck_db=None, raman_db=None, preload_gases='all', verbose=False)\n",
      "    Sets up database connection to opacities.\n",
      "\n",
      "    Parameters\n",
      "    ----------\n",
      "    wave_range : list of float\n",
      "        Subset of wavelength range for which to run models for\n",
      "        Default : None, which pulls entire grid\n",
      "    filename_db : str\n",
      "        Filename of opacity database to query from\n",
      "        Default is none which pulls opacity file that\n",
      "        comes with distribution\n",
      "    raman_db : str\n",
      "        Filename of raman opacity cross section\n",
      "        Default is none which pulls opacity file that comes with distribution\n",
      "    resample : int\n",
      "        Default=1 (no resampling) PROCEED WITH CAUTION!!!!!This will resample your opacites.\n",
      "        This effectively takes opacity[::BINS] depending on what the\n",
      "        sampling requested is. Consult your local theorist before\n",
      "        using this.\n",
      "    method : str\n",
      "        By default method='resampled'\n",
      "        Other options include: ['preweighted','resortrebin']\n",
      "    ck_db : str\n",
      "        Can be:\n",
      "        - (required if method is preweighted) ASCII dir of ck file\n",
      "        - (required if method is preweighted) HDF5 filename\n",
      "        - (optional) path to HDF5 directory, if none specified then assumed default in climate_INPUTS/ktable_by_molecule folder\n",
      "    preload_gases : str\n",
      "        Gases that you want to have mixed on the fly, you can specify them here. Default is 'all'\n",
      "    verbose : bool\n",
      "        Error message to warn users about resampling. Can be turned off by supplying\n",
      "        verbose=False\n",
      "\n"
     ]
    }
   ],
   "source": [
    "help(jdi.opannection)"
   ]
  },
  {
   "cell_type": "markdown",
   "metadata": {},
   "source": [
    "`opannection` has a few default parameters. A few notes: \n",
    "\n",
    "   1) `wave_range` can be used to select a subset of the full opacity database you are using\n",
    "   \n",
    "   2) `filename_db` is a sqlite database that should have been downloaded and stored with your reference data (see [Installation Documentation](https://natashabatalha.github.io/picaso/installation.html))\n",
    "   \n",
    "   3) `resample` should be used only if necessary to down sample the opacity database from its original value  "
   ]
  },
  {
   "cell_type": "code",
   "execution_count": 4,
   "metadata": {},
   "outputs": [
    {
     "name": "stdout",
     "output_type": "stream",
     "text": [
      "verbose=True; Molecule set= ['C2H2' 'CH4' 'CO' 'CO2' 'H2O' 'H2S' 'K' 'Na' 'OCS' 'SO2']\n"
     ]
    }
   ],
   "source": [
    "opacity = jdi.opannection(wave_range=[0.3,1],verbose=True) #lets just use all defaults\n",
    "#can also see molecules by doing:\n",
    "#print(opacity.molecules )\n",
    "#can see wavelength solution by doing: \n",
    "#print(opacity.wno)"
   ]
  },
  {
   "cell_type": "markdown",
   "metadata": {},
   "source": [
    "## Load blank slate"
   ]
  },
  {
   "cell_type": "code",
   "execution_count": 5,
   "metadata": {},
   "outputs": [],
   "source": [
    "start_case = jdi.inputs()"
   ]
  },
  {
   "cell_type": "markdown",
   "metadata": {},
   "source": [
    "In order to run the code for reflected light we need (at the minimum) specific info about the:\n",
    "\n",
    "- **phase angle** (not needed for transmission or thermal calculations)\n",
    "\n",
    "- **planet** : gravity or mass/radius\n",
    "\n",
    "- **star** : temperature, metallicity, gravity and (if needed) stellar radius and semi major axis\n",
    "\n",
    "- **atmosphere** : P-T profile, chemical composition\n",
    "\n",
    "Some things (for example) `phase_angle` are only needed if you are running reflected light, but would not be needed if you were running `transmission`, for instance. "
   ]
  },
  {
   "cell_type": "markdown",
   "metadata": {},
   "source": [
    "## Set Planet & Star Properties "
   ]
  },
  {
   "cell_type": "code",
   "execution_count": 6,
   "metadata": {},
   "outputs": [],
   "source": [
    "#phase angle \n",
    "start_case.phase_angle(0) #radians\n",
    "\n",
    "#define gravity\n",
    "start_case.gravity(gravity=25, gravity_unit=jdi.u.Unit('m/(s**2)')) #any astropy units available\n",
    "\n",
    "#define star\n",
    "start_case.star(opacity, 5000,0,4.0) #opacity db, pysynphot database, temp, metallicity, logg "
   ]
  },
  {
   "cell_type": "markdown",
   "metadata": {},
   "source": [
    "## Set Atmospheric Composition\n",
    "\n",
    "There are different options for setting atmospheric composition. \n",
    "\n",
    "    1) Specifying a file path to model run \n",
    "    2) Give arbitrary pressure, temperature and composition directly as a dictionary input \n"
   ]
  },
  {
   "cell_type": "markdown",
   "metadata": {},
   "source": [
    "### Option 1) Specify file path \n",
    "\n",
    "Below, I am loading in a profile path for Jupiter that should be included in your reference data"
   ]
  },
  {
   "cell_type": "code",
   "execution_count": 7,
   "metadata": {},
   "outputs": [
    {
     "name": "stdout",
     "output_type": "stream",
     "text": [
      "/Users/nbatalh1/Documents/codes/PICASO/picaso/reference/base_cases/jupiter.pt\n"
     ]
    }
   ],
   "source": [
    "print(jdi.jupiter_pt()) #should return the path to your reference data"
   ]
  },
  {
   "cell_type": "code",
   "execution_count": 8,
   "metadata": {},
   "outputs": [],
   "source": [
    "start_case.atmosphere(filename=jdi.jupiter_pt(), sep=r'\\s+')"
   ]
  },
  {
   "cell_type": "markdown",
   "metadata": {},
   "source": [
    "### File format\n",
    "\n",
    "1) Must have **pressure**(bars), **temperature**(Kelvin), and `case sensitive` molecule names (e.g. TiO, Na, H2O, etc) for mixing ratios (in no particular order)\n",
    "\n",
    "2) Can specify any necessary key word arguments for pd.read_csv at the end\n",
    "\n",
    "**PICASO will auto-compute mixing ratios, determine what CIA is neceesary and compute mean molecular weight based on these headers. Take at the preloaded example below**"
   ]
  },
  {
   "cell_type": "code",
   "execution_count": 9,
   "metadata": {},
   "outputs": [
    {
     "data": {
      "text/html": [
       "<div>\n",
       "<style scoped>\n",
       "    .dataframe tbody tr th:only-of-type {\n",
       "        vertical-align: middle;\n",
       "    }\n",
       "\n",
       "    .dataframe tbody tr th {\n",
       "        vertical-align: top;\n",
       "    }\n",
       "\n",
       "    .dataframe thead th {\n",
       "        text-align: right;\n",
       "    }\n",
       "</style>\n",
       "<table border=\"1\" class=\"dataframe\">\n",
       "  <thead>\n",
       "    <tr style=\"text-align: right;\">\n",
       "      <th></th>\n",
       "      <th>pressure</th>\n",
       "      <th>temperature</th>\n",
       "      <th>e-</th>\n",
       "      <th>H2</th>\n",
       "      <th>H</th>\n",
       "      <th>H+</th>\n",
       "      <th>H-</th>\n",
       "      <th>VO</th>\n",
       "      <th>TiO</th>\n",
       "      <th>CO2</th>\n",
       "      <th>He</th>\n",
       "      <th>H2O</th>\n",
       "      <th>CH4</th>\n",
       "      <th>CO</th>\n",
       "      <th>NH3</th>\n",
       "      <th>N2</th>\n",
       "      <th>PH3</th>\n",
       "    </tr>\n",
       "  </thead>\n",
       "  <tbody>\n",
       "    <tr>\n",
       "      <th>0</th>\n",
       "      <td>0.000001</td>\n",
       "      <td>150.87</td>\n",
       "      <td>4.500000e-38</td>\n",
       "      <td>0.837</td>\n",
       "      <td>4.500000e-38</td>\n",
       "      <td>4.500000e-38</td>\n",
       "      <td>4.500000e-38</td>\n",
       "      <td>4.500000e-38</td>\n",
       "      <td>4.500000e-38</td>\n",
       "      <td>4.500000e-38</td>\n",
       "      <td>0.163</td>\n",
       "      <td>0.000069</td>\n",
       "      <td>0.000466</td>\n",
       "      <td>4.500000e-38</td>\n",
       "      <td>0.000137</td>\n",
       "      <td>5.420000e-17</td>\n",
       "      <td>4.500000e-38</td>\n",
       "    </tr>\n",
       "    <tr>\n",
       "      <th>1</th>\n",
       "      <td>0.000001</td>\n",
       "      <td>149.68</td>\n",
       "      <td>4.500000e-38</td>\n",
       "      <td>0.837</td>\n",
       "      <td>4.500000e-38</td>\n",
       "      <td>4.500000e-38</td>\n",
       "      <td>4.500000e-38</td>\n",
       "      <td>4.500000e-38</td>\n",
       "      <td>4.500000e-38</td>\n",
       "      <td>4.500000e-38</td>\n",
       "      <td>0.163</td>\n",
       "      <td>0.000035</td>\n",
       "      <td>0.000466</td>\n",
       "      <td>4.500000e-38</td>\n",
       "      <td>0.000137</td>\n",
       "      <td>1.580000e-17</td>\n",
       "      <td>4.500000e-38</td>\n",
       "    </tr>\n",
       "    <tr>\n",
       "      <th>2</th>\n",
       "      <td>0.000002</td>\n",
       "      <td>148.40</td>\n",
       "      <td>4.500000e-38</td>\n",
       "      <td>0.837</td>\n",
       "      <td>4.500000e-38</td>\n",
       "      <td>4.500000e-38</td>\n",
       "      <td>4.500000e-38</td>\n",
       "      <td>4.500000e-38</td>\n",
       "      <td>4.500000e-38</td>\n",
       "      <td>4.500000e-38</td>\n",
       "      <td>0.163</td>\n",
       "      <td>0.000017</td>\n",
       "      <td>0.000466</td>\n",
       "      <td>4.500000e-38</td>\n",
       "      <td>0.000137</td>\n",
       "      <td>4.370000e-18</td>\n",
       "      <td>4.500000e-38</td>\n",
       "    </tr>\n",
       "    <tr>\n",
       "      <th>3</th>\n",
       "      <td>0.000003</td>\n",
       "      <td>147.00</td>\n",
       "      <td>4.500000e-38</td>\n",
       "      <td>0.837</td>\n",
       "      <td>4.500000e-38</td>\n",
       "      <td>4.500000e-38</td>\n",
       "      <td>4.500000e-38</td>\n",
       "      <td>4.500000e-38</td>\n",
       "      <td>4.500000e-38</td>\n",
       "      <td>4.500000e-38</td>\n",
       "      <td>0.163</td>\n",
       "      <td>0.000008</td>\n",
       "      <td>0.000466</td>\n",
       "      <td>4.500000e-38</td>\n",
       "      <td>0.000137</td>\n",
       "      <td>1.140000e-18</td>\n",
       "      <td>4.500000e-38</td>\n",
       "    </tr>\n",
       "    <tr>\n",
       "      <th>4</th>\n",
       "      <td>0.000004</td>\n",
       "      <td>145.46</td>\n",
       "      <td>4.500000e-38</td>\n",
       "      <td>0.837</td>\n",
       "      <td>4.500000e-38</td>\n",
       "      <td>4.500000e-38</td>\n",
       "      <td>4.500000e-38</td>\n",
       "      <td>4.500000e-38</td>\n",
       "      <td>4.500000e-38</td>\n",
       "      <td>4.500000e-38</td>\n",
       "      <td>0.163</td>\n",
       "      <td>0.000004</td>\n",
       "      <td>0.000466</td>\n",
       "      <td>4.500000e-38</td>\n",
       "      <td>0.000137</td>\n",
       "      <td>2.740000e-19</td>\n",
       "      <td>4.500000e-38</td>\n",
       "    </tr>\n",
       "  </tbody>\n",
       "</table>\n",
       "</div>"
      ],
      "text/plain": [
       "   pressure  temperature            e-     H2             H            H+  \\\n",
       "0  0.000001       150.87  4.500000e-38  0.837  4.500000e-38  4.500000e-38   \n",
       "1  0.000001       149.68  4.500000e-38  0.837  4.500000e-38  4.500000e-38   \n",
       "2  0.000002       148.40  4.500000e-38  0.837  4.500000e-38  4.500000e-38   \n",
       "3  0.000003       147.00  4.500000e-38  0.837  4.500000e-38  4.500000e-38   \n",
       "4  0.000004       145.46  4.500000e-38  0.837  4.500000e-38  4.500000e-38   \n",
       "\n",
       "             H-            VO           TiO           CO2     He       H2O  \\\n",
       "0  4.500000e-38  4.500000e-38  4.500000e-38  4.500000e-38  0.163  0.000069   \n",
       "1  4.500000e-38  4.500000e-38  4.500000e-38  4.500000e-38  0.163  0.000035   \n",
       "2  4.500000e-38  4.500000e-38  4.500000e-38  4.500000e-38  0.163  0.000017   \n",
       "3  4.500000e-38  4.500000e-38  4.500000e-38  4.500000e-38  0.163  0.000008   \n",
       "4  4.500000e-38  4.500000e-38  4.500000e-38  4.500000e-38  0.163  0.000004   \n",
       "\n",
       "        CH4            CO       NH3            N2           PH3  \n",
       "0  0.000466  4.500000e-38  0.000137  5.420000e-17  4.500000e-38  \n",
       "1  0.000466  4.500000e-38  0.000137  1.580000e-17  4.500000e-38  \n",
       "2  0.000466  4.500000e-38  0.000137  4.370000e-18  4.500000e-38  \n",
       "3  0.000466  4.500000e-38  0.000137  1.140000e-18  4.500000e-38  \n",
       "4  0.000466  4.500000e-38  0.000137  2.740000e-19  4.500000e-38  "
      ]
     },
     "execution_count": 9,
     "metadata": {},
     "output_type": "execute_result"
    }
   ],
   "source": [
    "#to give you an idea\n",
    "comp_file = jdi.pd.read_csv(jdi.jupiter_pt(), sep=r'\\s+')\n",
    "#see example below\n",
    "comp_file.head()"
   ]
  },
  {
   "cell_type": "markdown",
   "metadata": {},
   "source": [
    "## Create 1D Spectrum\n",
    "\n",
    "Let's create our first spectrum of Jupiter's reflected light at full phase"
   ]
  },
  {
   "cell_type": "code",
   "execution_count": 10,
   "metadata": {},
   "outputs": [],
   "source": [
    "df = start_case.spectrum(opacity,calculation='reflected')#other options: transmission, thermal or a combo of many e.g., \"reflected+transmission\""
   ]
  },
  {
   "cell_type": "markdown",
   "metadata": {},
   "source": [
    "Checkout out what was returned (Note this is a change in v1.0). This dictionary will change based on what you have requested to be computed. For example, for reflected light you will see albedo, bond_albedo, fpfs_reflected. For thermal you will see "
   ]
  },
  {
   "cell_type": "code",
   "execution_count": 11,
   "metadata": {},
   "outputs": [
    {
     "data": {
      "text/plain": [
       "dict_keys(['wavenumber', 'albedo', 'bond_albedo', 'fpfs_reflected'])"
      ]
     },
     "execution_count": 11,
     "metadata": {},
     "output_type": "execute_result"
    }
   ],
   "source": [
    "df.keys()"
   ]
  },
  {
   "cell_type": "markdown",
   "metadata": {},
   "source": [
    "## Regrid Opacities to Constant Resolution\n",
    " "
   ]
  },
  {
   "cell_type": "code",
   "execution_count": 12,
   "metadata": {},
   "outputs": [],
   "source": [
    "wno, alb, fpfs = df['wavenumber'] , df['albedo'] , df['fpfs_reflected'] \n",
    "wno, alb = jdi.mean_regrid(wno, alb , R=150)"
   ]
  },
  {
   "cell_type": "code",
   "execution_count": 13,
   "metadata": {},
   "outputs": [
    {
     "data": {
      "text/html": [
       "\n",
       "  <div id=\"e3b72085-15b0-4333-80a9-1053a1349e79\" data-root-id=\"p1001\" style=\"display: contents;\"></div>\n"
      ]
     },
     "metadata": {},
     "output_type": "display_data"
    },
    {
     "data": {
      "application/javascript": "(function(root) {\n  function embed_document(root) {\n  const docs_json = {\"6cae025c-8970-4c79-abbe-b6070e548df7\":{\"version\":\"3.4.3\",\"title\":\"Bokeh Application\",\"roots\":[{\"type\":\"object\",\"name\":\"Figure\",\"id\":\"p1001\",\"attributes\":{\"width\":500,\"height\":345,\"x_range\":{\"type\":\"object\",\"name\":\"Range1d\",\"id\":\"p1010\",\"attributes\":{\"start\":0.3}},\"y_range\":{\"type\":\"object\",\"name\":\"DataRange1d\",\"id\":\"p1003\"},\"x_scale\":{\"type\":\"object\",\"name\":\"LinearScale\",\"id\":\"p1011\"},\"y_scale\":{\"type\":\"object\",\"name\":\"LinearScale\",\"id\":\"p1012\"},\"title\":{\"type\":\"object\",\"name\":\"Title\",\"id\":\"p1008\"},\"renderers\":[{\"type\":\"object\",\"name\":\"GlyphRenderer\",\"id\":\"p1040\",\"attributes\":{\"data_source\":{\"type\":\"object\",\"name\":\"ColumnDataSource\",\"id\":\"p1034\",\"attributes\":{\"selected\":{\"type\":\"object\",\"name\":\"Selection\",\"id\":\"p1035\",\"attributes\":{\"indices\":[],\"line_indices\":[]}},\"selection_policy\":{\"type\":\"object\",\"name\":\"UnionRenderers\",\"id\":\"p1036\"},\"data\":{\"type\":\"map\",\"entries\":[[\"x\",{\"type\":\"ndarray\",\"array\":{\"type\":\"bytes\",\"data\":\"ZgD39fH67z/ZWIn+i8TvPzCGIY+Cju8/6khaCtVY7z80HNrTgiPvP4NuUVCL7u4/Mt145e257j8dcw/6qYXuP0Xq2PW+Ue4/XvCbQSwe7j9ZbiBH8ertP9LSLXENuO0/c1+JK4CF7T8vefTiSFPtP1z7KgVnIe0/ro3hANrv7D8A/cNFob7sP/aWc0S8jew/WoiFbipd7D9OPoE26yzsPzjK3g/+/Os/dUgFb2LN6z+sSUnJF57rP/k+65Qdb+s/p+gVSXNA6z+kx9xdGBLrP5WROkwM5Oo/lacPjk626j+BjyCe3ojqP+9vFPi7W+o/qY5zGOYu6j/B0aV8XALqPy1D8aIe1uk/75Z4Ciyq6T+zszkzhH7pP/w9DJ4mU+k/wiWgzBIo6T+DNnxBSP3oP9Kp/H/G0ug/QbxRDI2o6D/JRH5rm37oP4lOViPxVOg/7bR9uo0r6D8uwma4cALoPzTQUKWZ2ec/vetGCgix5z/neR5xu4jnPwLgdWSzYOc/nS2zb+845z/0yAIfbxHnP4QdVv8x6uY/80xinjfD5j8h4p6Kf5zmP3iGRFMJduY/dblLiNRP5j9Nimu64CnmP8xTGHstBOY/XXqCXLre5T8oLJXxhrnlP1wj9c2SlOU/kWr/hd1v5T9EI8iuZkvlP2hOGd4tJ+U/CJdxqjID5T/0HgOrdN/kP4dNsnfzu+Q/XaAUqa6Y5D8hfm/YpXXkP1MLt5/YUuQ/CwGNmUYw5D+3hT9h7w3kP80HyJLS6+M/dxrKyu/J4z8fVJKmRqjjP/8uFcTWhuM/fevtwZ9l4z+OdF0/oUTjP9tFSdzaI+M/2lM6OUwD4z+99Vv39OLiPz7RerjUwuI/McgDH+ui4j8I6ALON4PiPwFbImm6Y+I/QVuplHJE4j+eJ3v1XyXiP0f6FTGCBuI/HQGS7djn4T/cV6DRY8nhP+4DioQiq+E/CvIurhSN4T+J9QT3OW/hP2HJFgiSUeE/4hIDixw04T8bZvsp2RbhP+pLw4/H+eA/tkmvZ+fc4D/R6qNdOMDgP33LFB66o+A/kKUDVmyH4D+5Xv+yTmvgP1sYI+NgT+A/A0EVlaIz4D9+pwZ4ExjgP9YeY3dm+d8/5Y6xIAPD3z8Jgo1N/IzfPz9TmWBRV98/PwuDvQEi3z81mQLJDO3eP2gO2OhxuN4/+9zJgzCE3j+ZGaMBSFDePyDAMcu3HN4/O/tESn/p3T/ubqvpnbbdPwKGMRUThN0/W8KfOd5R3T8nELnE/h/dP/UbOSV07tw/gavSyj293D93+S0mW4zcP+AT56jLW9w/aj2MxY4r3D9rUZzvo/vbP5oqhZsKzNs/jQyiPsKc2z/eDzpPym3bPwuRfkQiP9s/8KGJlskQ2z8Afly+v+LaP/0A3jUEtdo/cyDZd5aH2j+tZ/v/dVraP0x200qiLdo/aoHP1RoB2j9Q1zsf39TZP55lQabuqNk/EULk6kh92T+4NQJu7VHZP6FKUbHbJtk//lteNxP82D/HqIuDk9HYP7loDxpcp9g/xWPyf2x92D/viw47xFPYP3WZDdJiKtg/c6lnzEcB2D/C3mGyctjXPz8FDQ3jr9c/ZTdEZpiH1z8fhqtIkl/XP/+irj/QN9c/qIx/11EQ1z95PRWdFunWP4lcKh4ewtY/wvA76Web1j9HFoiN83TWPwW2DJvATtY/cT+Gos4o1j9xZG41HQPWP3HX+uWr3dU/lwscR3q41T8a93vsh5PVP7LXfGrUbtU/Ivk3Vl9K1T/bfXxFKCbVP6wpzs4uAtU/gC5kiXLe1D8p+ycN87rUPzMMtPKvl9Q/ub5S06h01D83Jf1I3VHUP2DeWe5ML9Q/6e27XvcM1D9HlyE23OrTP2s6MxH7yNM/YTJCjVOn0z/ftUdI5YXTP8W54+CvZNM/dNVb9rJD0z8=\"},\"shape\":[181],\"dtype\":\"float64\",\"order\":\"little\"}],[\"y\",{\"type\":\"ndarray\",\"array\":{\"type\":\"bytes\",\"data\":\"OamdNRj0gD/+XYsC5y6AP5sC3IZPIIU/+j5V2nD1ij/Xa2KNcyCLPzicnW/yx4k/WtzQARURhz/3U1RSpESGP44Iqh6yfIU/093roJR9hz/qs5WyChqEP0TrmqZxAZE/yGIedDAImj9ONff98J6TP0kz0Fel7oo/KjQz9vNbdz9GVG4QLnZtP79n6eLTMXY/JCJgidBynT+N3TyiNl+lP9zSyQ/AeqY/zJMUJzjpqT/FyKJjqIasP21+BOdTlqg/smX7MC5Ppz/YiBpnUBynP2MCLZt+1aU/SQ4VgOhcpT88m5KZny6lP7SoGSwio6Q/HYkndeQGoj/pHwpqIValP90wYQggU7E/iHzlZemHsT+dXM7aqJK0P6FIVwRzYLU/JpUBKw0auT+ylQshUWe/P39k0/zO5cE/RghjmFLHwz932ulpmgDGP80DP8h+VMg/s6m2sLt9yj9364YRV6DKP+9KRR6v4cc/MXTVm+J3wD8xtRc+f6m5P+yPRdHNY7I/TDi7wuqIrj/ziTI1Y16yP1OPmHl1qbk/mxofazwixT9jBuvjW/PDP8ZeLLpVbMI/rHPwrhm/xT/z8VigeWfFPwA2JdH+nNk/1jmkuj+L3D/TQZXwkv7eP9dkQwnZ4N8/MTMvMoDX3T+MYZaoyYHZP8lmxPDBANU/gVnX820Azz9HlEMDORXRP6j4SuHYH8s/SDuHku9l1z8PH2ofWljbP5HDLQ5KSd0/zdWZX5qM3j9YrPNLp9zcP2XPBLy/jOI/xl/ybqfq4j80HoNPt33iPw1N/O+TJeE/JDY/2mpb3T+qykmsYLnXP1ZS1EJL1dE/UU8kgX0a0D8XrBndkkvKP6Dzg71+dtk/w/n2lpOp3z/02dQ2iTngP/saon77pN4/X8aWOCZN3z+dZH165mfhP9hfUZNaueQ/vNt0aki05D9vu2qJGE/kP8+Jmks56uI/7X9JcjFu4T/2ssbYRargP7q8z9BQreA/IpeHaxMJ5D9OzITh/T7lPy93NR1+QuU/yhpq+U+N5T8T6O4T2HvlP0PcoX1QWuU/c/g37PFh5D+vuwCqNsniP1Kps4CDmuA/8z5mX5My4D+zoT/aVu/fP/hrWe8tRuQ/jTuOuYHQ5T80mtUkP6TlP5Q0J6c2iOU/6T362SlH5T8fGYbpoOrlP6zGuaSY7uU/VxZthIaS5T/pYn220CflP+0Fl7h5AuU/IBN+EUeM5T8opqoBDwfmP/TIXAD8CuY/O2ZZ+ov45T/b4rcQYNTlP0rPhglCmeU/xEuB0eMA5T/8tKTzpEHkP4wv6KrWJOQ/lojEeT5X5T/jyjJd6rzlP7iySOmqv+U/qOoGLuCz5T9Pe3hXBKflP4aXJP8tmeU/IaiAvSqU5T9h5FASP4DlP7zz7aNAaeU/byikGBN95T+cpOXihnzlPxMeHEqNdOU/xdLlOblo5T/otYZE21PlP2FcdemJKOU/4C3R/EoJ5T/FB81SVTnlP4iIyItOQuU/w7Pt3I495T9zmnCYZzflP+a2CXuqL+U/pQaXqxgn5T+7RHMy4h/lPz8Q841LF+U/FDACHA4S5T/6Pw0DNwvlP+jqeceIBOU/2zk9F2j85D/6MqsM2O/kP9zcQ5xT5uQ/oUxFmjXo5D9RGQwXUeLkP7JRINwR3OQ/7UiXo9bV5D86nDN3j8/kPxNUBonByOQ/Y/7l9KHC5D8W7xgJQrzkPxau6i72teQ/isAJXrGv5D+4H/F0iKjkP92cpg2OouQ/eE2itXWd5D9jj2yWYpfkP+QSTR+lkeQ/BafJWL6L5D9tEvZlBYbkP+2wHZkzgOQ/5bPYO4J65D+Rd4QTwnTkPzHiJIsEb+Q/DvFTIEFp5D8O40g1/2PkP0Ri9bV8XuQ/6+zQ+QRZ5D8yCfr2qFPkP4Pt1ufsTeQ/oEJ3UaxH5D8=\"},\"shape\":[181],\"dtype\":\"float64\",\"order\":\"little\"}]]}}},\"view\":{\"type\":\"object\",\"name\":\"CDSView\",\"id\":\"p1041\",\"attributes\":{\"filter\":{\"type\":\"object\",\"name\":\"AllIndices\",\"id\":\"p1042\"}}},\"glyph\":{\"type\":\"object\",\"name\":\"Line\",\"id\":\"p1037\",\"attributes\":{\"x\":{\"type\":\"field\",\"field\":\"x\"},\"y\":{\"type\":\"field\",\"field\":\"y\"},\"line_color\":\"#0072B2\",\"line_width\":3}},\"nonselection_glyph\":{\"type\":\"object\",\"name\":\"Line\",\"id\":\"p1038\",\"attributes\":{\"x\":{\"type\":\"field\",\"field\":\"x\"},\"y\":{\"type\":\"field\",\"field\":\"y\"},\"line_color\":\"#0072B2\",\"line_alpha\":0.1,\"line_width\":3}},\"muted_glyph\":{\"type\":\"object\",\"name\":\"Line\",\"id\":\"p1039\",\"attributes\":{\"x\":{\"type\":\"field\",\"field\":\"x\"},\"y\":{\"type\":\"field\",\"field\":\"y\"},\"line_color\":\"#0072B2\",\"line_alpha\":0.2,\"line_width\":3}}}}],\"toolbar\":{\"type\":\"object\",\"name\":\"Toolbar\",\"id\":\"p1009\",\"attributes\":{\"tools\":[{\"type\":\"object\",\"name\":\"PanTool\",\"id\":\"p1023\"},{\"type\":\"object\",\"name\":\"WheelZoomTool\",\"id\":\"p1024\",\"attributes\":{\"renderers\":\"auto\"}},{\"type\":\"object\",\"name\":\"BoxZoomTool\",\"id\":\"p1025\",\"attributes\":{\"overlay\":{\"type\":\"object\",\"name\":\"BoxAnnotation\",\"id\":\"p1026\",\"attributes\":{\"syncable\":false,\"level\":\"overlay\",\"visible\":false,\"left\":{\"type\":\"number\",\"value\":\"nan\"},\"right\":{\"type\":\"number\",\"value\":\"nan\"},\"top\":{\"type\":\"number\",\"value\":\"nan\"},\"bottom\":{\"type\":\"number\",\"value\":\"nan\"},\"left_units\":\"canvas\",\"right_units\":\"canvas\",\"top_units\":\"canvas\",\"bottom_units\":\"canvas\",\"line_color\":\"black\",\"line_alpha\":1.0,\"line_width\":2,\"line_dash\":[4,4],\"fill_color\":\"lightgrey\",\"fill_alpha\":0.5}}}},{\"type\":\"object\",\"name\":\"SaveTool\",\"id\":\"p1031\"},{\"type\":\"object\",\"name\":\"ResetTool\",\"id\":\"p1032\"},{\"type\":\"object\",\"name\":\"HelpTool\",\"id\":\"p1033\"}]}},\"left\":[{\"type\":\"object\",\"name\":\"LinearAxis\",\"id\":\"p1018\",\"attributes\":{\"ticker\":{\"type\":\"object\",\"name\":\"BasicTicker\",\"id\":\"p1019\",\"attributes\":{\"mantissas\":[1,2,5]}},\"formatter\":{\"type\":\"object\",\"name\":\"BasicTickFormatter\",\"id\":\"p1020\"},\"axis_label\":\"Spectrum\",\"axis_label_text_font\":\"times\",\"axis_label_text_font_size\":\"14pt\",\"axis_label_text_font_style\":\"bold\",\"major_label_policy\":{\"type\":\"object\",\"name\":\"AllLabels\",\"id\":\"p1021\"},\"major_label_text_font\":\"times\",\"major_label_text_font_size\":\"14pt\"}}],\"below\":[{\"type\":\"object\",\"name\":\"LinearAxis\",\"id\":\"p1013\",\"attributes\":{\"ticker\":{\"type\":\"object\",\"name\":\"BasicTicker\",\"id\":\"p1014\",\"attributes\":{\"mantissas\":[1,2,5]}},\"formatter\":{\"type\":\"object\",\"name\":\"BasicTickFormatter\",\"id\":\"p1015\"},\"axis_label\":\"Wavelength [\\u03bcm]\",\"axis_label_text_font\":\"times\",\"axis_label_text_font_size\":\"14pt\",\"axis_label_text_font_style\":\"bold\",\"major_label_policy\":{\"type\":\"object\",\"name\":\"AllLabels\",\"id\":\"p1016\"},\"major_label_text_font\":\"times\",\"major_label_text_font_size\":\"14pt\"}}],\"center\":[{\"type\":\"object\",\"name\":\"Grid\",\"id\":\"p1017\",\"attributes\":{\"axis\":{\"id\":\"p1013\"}}},{\"type\":\"object\",\"name\":\"Grid\",\"id\":\"p1022\",\"attributes\":{\"dimension\":1,\"axis\":{\"id\":\"p1018\"}}}]}}]}};\n  const render_items = [{\"docid\":\"6cae025c-8970-4c79-abbe-b6070e548df7\",\"roots\":{\"p1001\":\"e3b72085-15b0-4333-80a9-1053a1349e79\"},\"root_ids\":[\"p1001\"]}];\n  void root.Bokeh.embed.embed_items_notebook(docs_json, render_items);\n  }\n  if (root.Bokeh !== undefined) {\n    embed_document(root);\n  } else {\n    let attempts = 0;\n    const timer = setInterval(function(root) {\n      if (root.Bokeh !== undefined) {\n        clearInterval(timer);\n        embed_document(root);\n      } else {\n        attempts++;\n        if (attempts > 100) {\n          clearInterval(timer);\n          console.log(\"Bokeh: ERROR: Unable to run BokehJS code because BokehJS library is missing\");\n        }\n      }\n    }, 10, root)\n  }\n})(window);",
      "application/vnd.bokehjs_exec.v0+json": ""
     },
     "metadata": {
      "application/vnd.bokehjs_exec.v0+json": {
       "id": "p1001"
      }
     },
     "output_type": "display_data"
    }
   ],
   "source": [
    "jpi.show(jpi.spectrum(wno, alb, plot_width=500,x_range=[0.3,1]))"
   ]
  },
  {
   "cell_type": "markdown",
   "metadata": {},
   "source": [
    "FpFs is the relative flux of the planet and star or : \n",
    "\n",
    "$\\frac{f_p}{f_s} = a_\\lambda \\left( \\frac{ r_p}{a} \\right) ^2$\n",
    "\n",
    "where $a$ is the semi-major axis. You may have noticed that **we did not supply a radius or semi-major axis in the above code**. Therefore, if you print out $\\frac{f_p}{f_s}$ you will see this: "
   ]
  },
  {
   "cell_type": "code",
   "execution_count": 14,
   "metadata": {},
   "outputs": [
    {
     "data": {
      "text/plain": [
       "['Semi-major axis not supplied. If you want fpfs, add it to `star` function. ',\n",
       " 'Planet Radius not supplied. If you want fpfs, add it to `gravity` function with a mass.']"
      ]
     },
     "execution_count": 14,
     "metadata": {},
     "output_type": "execute_result"
    }
   ],
   "source": [
    "fpfs"
   ]
  },
  {
   "cell_type": "markdown",
   "metadata": {},
   "source": [
    "Let's add this to the star function so we can get the relative flux as well.."
   ]
  },
  {
   "cell_type": "code",
   "execution_count": 15,
   "metadata": {},
   "outputs": [],
   "source": [
    "start_case.star(opacity, 5000,0,4.0,semi_major=1, semi_major_unit=jdi.u.Unit('au'))\n",
    "start_case.gravity(radius=1, radius_unit=jdi.u.Unit('R_jup'), \n",
    "                   mass = 1, mass_unit=jdi.u.Unit('M_jup'))\n",
    "df = start_case.spectrum(opacity, calculation='reflected',full_output=True)\n",
    "wno, alb, fpfs = df['wavenumber'] , df['albedo'] , df['fpfs_reflected'] "
   ]
  },
  {
   "cell_type": "code",
   "execution_count": 16,
   "metadata": {},
   "outputs": [
    {
     "data": {
      "text/plain": [
       "array([9.23287587e-10, 1.32316763e-09, 1.72992605e-09, ...,\n",
       "       1.44654573e-07, 1.44652629e-07, 1.44651073e-07], shape=(18060,))"
      ]
     },
     "execution_count": 16,
     "metadata": {},
     "output_type": "execute_result"
    }
   ],
   "source": [
    "fpfs"
   ]
  },
  {
   "cell_type": "markdown",
   "metadata": {},
   "source": [
    "## Full Output\n",
    "\n",
    "Now we have specified that full_output=True so your dictionary will include an additional field that has more information: \n"
   ]
  },
  {
   "cell_type": "code",
   "execution_count": 17,
   "metadata": {},
   "outputs": [
    {
     "data": {
      "text/plain": [
       "dict_keys(['weights', 'layer', 'wavenumber', 'wavenumber_unit', 'taugas', 'tauray', 'taucld', 'level', 'latitude', 'longitude', 'star', 'warnings'])"
      ]
     },
     "execution_count": 17,
     "metadata": {},
     "output_type": "execute_result"
    }
   ],
   "source": [
    "df['full_output'].keys()"
   ]
  },
  {
   "cell_type": "code",
   "execution_count": 18,
   "metadata": {},
   "outputs": [
    {
     "data": {
      "text/plain": [
       "dict_keys(['pressure_unit', 'mixingratio_unit', 'temperature_unit', 'pressure', 'mixingratios', 'temperature', 'column_density', 'mmw', 'cloud'])"
      ]
     },
     "execution_count": 18,
     "metadata": {},
     "output_type": "execute_result"
    }
   ],
   "source": [
    "df['full_output']['layer'].keys()#includes pressure depenedent information from your calculation "
   ]
  },
  {
   "cell_type": "code",
   "execution_count": 19,
   "metadata": {},
   "outputs": [
    {
     "data": {
      "text/plain": [
       "['I found chemistry for these but I do not have computed individual line opacities (not including continuum) for: e-,H2,H,H+,H-,VO,TiO,He,NH3,N2,PH3']"
      ]
     },
     "execution_count": 19,
     "metadata": {},
     "output_type": "execute_result"
    }
   ],
   "source": [
    "df['full_output']['warnings']"
   ]
  },
  {
   "cell_type": "markdown",
   "metadata": {},
   "source": [
    "### Option 2) Arbitrary PT and Chemistry\n",
    "\n",
    "Sometimes for testing (or for atmospheres that we don't fully understand) an isothermal, well-mixed profile is sufficient. If we don't want to load in a full profile, we can give it a simple DataFrame with the info we need. \n"
   ]
  },
  {
   "cell_type": "code",
   "execution_count": null,
   "metadata": {},
   "outputs": [],
   "source": [
    "start_case.atmosphere( df = jdi.pd.DataFrame({'pressure':np.logspace(-6,2,60),\n",
    "                                                 'temperature':np.logspace(-6,2,60)*0+200,\n",
    "                                                 \"H2\":np.logspace(-6,2,60)*0+0.837,\n",
    "                                                 \"He\":np.logspace(-6,2,60)*0+0.163,\n",
    "                                                 \"CH4\":np.logspace(-6,2,60)*0+0.000466})\n",
    "                     )"
   ]
  },
  {
   "cell_type": "code",
   "execution_count": null,
   "metadata": {},
   "outputs": [],
   "source": [
    "df = start_case.spectrum(opacity)\n",
    "wno_ch4, alb_ch4, fpfs = df['wavenumber'] , df['albedo'] , df['fpfs_reflected'] \n",
    "wno_ch4, alb_ch4 = jdi.mean_regrid(wno_ch4, alb_ch4 , R=150)"
   ]
  },
  {
   "cell_type": "code",
   "execution_count": null,
   "metadata": {},
   "outputs": [],
   "source": [
    "jpi.show(jpi.spectrum(wno_ch4, alb_ch4, plot_width=500,x_range=[0.3,1]))"
   ]
  },
  {
   "cell_type": "markdown",
   "metadata": {},
   "source": [
    "See how the plot above is much easier to interpret than the one with the full set of molecular input. Here we can clearly see the effects of methane opacity, raman and rayleigh scattering (the next notebook will include a tutorial for more diagnostic plotting)"
   ]
  },
  {
   "cell_type": "markdown",
   "metadata": {},
   "source": [
    "### Diagnostic help: Sometimes it helps to exclude molecule to see how it is influencing the spectrum\n",
    "\n",
    "Take a look below"
   ]
  },
  {
   "cell_type": "code",
   "execution_count": null,
   "metadata": {},
   "outputs": [],
   "source": [
    "start_case.atmosphere(filename=jdi.jupiter_pt(), exclude_mol='H2O', delim_whitespace=True)\n",
    "\n",
    "df = start_case.spectrum(opacity)\n",
    "wno_nowater, alb_nowater, fpfs = df['wavenumber'] , df['albedo'] , df['fpfs_reflected'] \n",
    "wno_nowater, alb_nowater= jdi.mean_regrid(wno_nowater, alb_nowater , R=150)\n",
    "fig = jpi.spectrum(wno, alb, plot_width=500)\n",
    "fig.line(1e4/wno_nowater, alb_nowater, line_width=2, color='red')\n",
    "jpi.show(fig)"
   ]
  }
 ],
 "metadata": {
  "kernelspec": {
   "display_name": "pic312",
   "language": "python",
   "name": "python3"
  },
  "language_info": {
   "codemirror_mode": {
    "name": "ipython",
    "version": 3
   },
   "file_extension": ".py",
   "mimetype": "text/x-python",
   "name": "python",
   "nbconvert_exporter": "python",
   "pygments_lexer": "ipython3",
   "version": "3.12.2"
  },
  "nbsphinx": {
   "execute": "always"
  },
  "toc": {
   "base_numbering": 1,
   "nav_menu": {},
   "number_sections": true,
   "sideBar": true,
   "skip_h1_title": false,
   "title_cell": "Table of Contents",
   "title_sidebar": "Contents",
   "toc_cell": true,
   "toc_position": {},
   "toc_section_display": true,
   "toc_window_display": false
  },
  "varInspector": {
   "cols": {
    "lenName": 16,
    "lenType": 16,
    "lenVar": 40
   },
   "kernels_config": {
    "python": {
     "delete_cmd_postfix": "",
     "delete_cmd_prefix": "del ",
     "library": "var_list.py",
     "varRefreshCmd": "print(var_dic_list())"
    },
    "r": {
     "delete_cmd_postfix": ") ",
     "delete_cmd_prefix": "rm(",
     "library": "var_list.r",
     "varRefreshCmd": "cat(var_dic_list()) "
    }
   },
   "types_to_exclude": [
    "module",
    "function",
    "builtin_function_or_method",
    "instance",
    "_Feature"
   ],
   "window_display": false
  }
 },
 "nbformat": 4,
 "nbformat_minor": 2
}
