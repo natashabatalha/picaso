{
 "cells": [
  {
   "cell_type": "code",
   "execution_count": null,
   "id": "e03911d8-4ec8-4d12-ba62-5cc6dd99485e",
   "metadata": {},
   "outputs": [],
   "source": [
    "import picaso.parameterizations as pr\n",
    "import numpy as np\n",
    "\n",
    "import picaso.justdoit as jdi\n",
    "import picaso.justplotit as jpi\n",
    "jpi.output_notebook()"
   ]
  },
  {
   "cell_type": "code",
   "execution_count": null,
   "id": "0a0fdc3a-6353-4175-b24d-3fe1c7e88279",
   "metadata": {},
   "outputs": [],
   "source": [
    "#all species whose optical properties you want to preload\n",
    "virga_mieff_files = '/Users/nbatalh1/Documents/data/virga_0,3_15_R300/'\n",
    "cloud_species = ['SiO2','Al2O3']\n",
    "param_tools = pr.Parameterize(load_cld_optical=cloud_species,\n",
    "        mieff_dir=virga_mieff_files)"
   ]
  },
  {
   "cell_type": "markdown",
   "id": "40fd044f-0c36-48b8-b3d2-3dd6b6976424",
   "metadata": {},
   "source": [
    "## Initialize PICASO Parameterization Class "
   ]
  },
  {
   "cell_type": "code",
   "execution_count": null,
   "id": "57d4cf4a-2cb2-4538-8e72-5dc6966fdda2",
   "metadata": {},
   "outputs": [],
   "source": [
    "pic = jdi.inputs(calculation='brown')\n",
    "grav = 1000\n",
    "pic.gravity(gravity=grav, gravity_unit = jdi.u.Unit('cm/s**2'))\n",
    "#initialize pressure grid \n",
    "nlevel = 91\n",
    "pic.add_pt(P=np.logspace(-6,3,nlevel))\n",
    "\n",
    "#add this class to param_tools \n",
    "param_tools.add_class(pic)"
   ]
  },
  {
   "cell_type": "markdown",
   "id": "2bc35482",
   "metadata": {},
   "source": [
    "## Build Various PT Parameterizations"
   ]
  },
  {
   "cell_type": "code",
   "execution_count": null,
   "id": "a9c623d2",
   "metadata": {},
   "outputs": [],
   "source": [
    "df_pt_knots = param_tools.pt_knots(P_knots=[1e2,1e1,1e0,1e-1,1e-3,1e-5],\n",
    "                                    T_knots=[1000, 700, 400, 300, 250, 200],\n",
    "                                    interpolation='brewster')\n",
    "\n",
    "df_pt_guillot = param_tools.pt_guillot(Teq=1000,T_int=100,logg1=-1, logKir=-1.5, alpha=0.5)\n",
    "\n",
    "madhu_seager09_noinv = param_tools.pt_madhu_seager_09_noinversion(P_1=1e1,P_3=1e-5, T_3=1000, \n",
    "                                                                  alpha_1=1 , alpha_2=0.5, beta=0.5)\n",
    "\n",
    "madhu_seager09_inv = param_tools.pt_madhu_seager_09_inversion(P_1=1e1,P_3=1e-5, T_3=1000, alpha_1=0.5 , \n",
    "                                                              alpha_2=0.5, beta=0.5,P_2=1e-3)\n",
    "\n",
    "save_pts = {'df_pt_knots':df_pt_knots\n",
    "            ,'df_pt_guillot':df_pt_guillot\n",
    "            , 'madhu_seager09_noinv':madhu_seager09_noinv\n",
    "            ,'madhu_seager09_inv':madhu_seager09_inv\n",
    "            }"
   ]
  },
  {
   "cell_type": "code",
   "execution_count": null,
   "id": "c7366c4b",
   "metadata": {},
   "outputs": [],
   "source": [
    "for i in save_pts.keys(): \n",
    "    jpi.plt.semilogy(save_pts[i]['temperature'],save_pts[i]['pressure'],label=i)\n",
    "jpi.plt.ylim([1e2,1e-6])\n",
    "jpi.plt.legend()"
   ]
  },
  {
   "cell_type": "markdown",
   "id": "2f237dfb-f9d5-4d77-a8dc-67e43c17d0ab",
   "metadata": {},
   "source": [
    "## Build Various Cloud Parameterizations"
   ]
  },
  {
   "cell_type": "code",
   "execution_count": null,
   "id": "39723e2f-8fef-4110-8f05-bc3fe16f4b4d",
   "metadata": {},
   "outputs": [],
   "source": [
    "df_cld_slab = param_tools.cloud_brewster_grey(decay_type='slab',alpha=-4,ssa=1,reference_wave=1,\n",
    "                                         slab_kwargs={'ptop': -1, 'dp': 1, 'reference_tau': 1})\n",
    "\n",
    "df_cld_deck = param_tools.cloud_brewster_grey(decay_type='deck',alpha=-4,ssa=1,reference_wave=1,\n",
    "                                         deck_kwargs={'ptop': -1, 'dp': 1})\n",
    "\n",
    "df_cld_SiO2_deck = param_tools.cloud_brewster_mie('SiO2',\n",
    "                                             distribution='lognorm',lognorm_kwargs={'sigma': 1, 'lograd[cm]':-3},\n",
    "                                             decay_type='deck',deck_kwargs={'ptop': -1, 'dp': 1})\n",
    "\n",
    "df_cld_SiO2_slab = param_tools.cloud_brewster_mie('SiO2',\n",
    "                                             distribution='lognorm',lognorm_kwargs={'sigma': 1, 'lograd[cm]': -3},\n",
    "                                             decay_type='slab',slab_kwargs={'ptop': -1, 'dp': 1, 'reference_tau': 1})\n"
   ]
  },
  {
   "cell_type": "code",
   "execution_count": null,
   "id": "cd4521bc-93f8-4498-a517-7ce96df5105e",
   "metadata": {},
   "outputs": [],
   "source": [
    "clouds = {'slab grey':df_cld_slab,\n",
    "          'deck grey':df_cld_deck,\n",
    "          'slab sio2':df_cld_SiO2_slab,\n",
    "          'deck sio2':df_cld_SiO2_deck}"
   ]
  },
  {
   "cell_type": "code",
   "execution_count": null,
   "id": "0ba3c0a1-5699-4827-958e-944de57baf73",
   "metadata": {},
   "outputs": [],
   "source": [
    "for ikey in clouds.keys(): \n",
    "    print(ikey)\n",
    "    nlayer = (nlevel-1)\n",
    "    nwno = int(clouds[ikey].shape[0]/nlayer)\n",
    "    jpi.show(jpi.plot_cld_input(nwno, nlayer,df=clouds[ikey]))"
   ]
  },
  {
   "cell_type": "markdown",
   "id": "a767bb55-9e40-4136-8371-638aeb999bb5",
   "metadata": {},
   "source": [
    "## Build Spectra "
   ]
  },
  {
   "cell_type": "code",
   "execution_count": null,
   "id": "11b92019-64f1-4cda-bc53-6bc645c8b02f",
   "metadata": {},
   "outputs": [],
   "source": [
    "opa = jdi.opannection()\n",
    "bd = jdi.inputs(calculation='browndwarf')\n",
    "bd.gravity(gravity=grav , gravity_unit=jdi.u.Unit('cm/s**2'))\n",
    "bd.atmosphere(df_pt_guillot) #just testing one out here, but feel free to loop this too!\n",
    "bd.chemeq_visscher_2121(cto_absolute=0.55,log_mh=0)\n",
    "\n",
    "output={}\n",
    "for ikey in clouds.keys(): \n",
    "    bd.clouds(df=clouds[ikey])\n",
    "    \n",
    "    output[ikey] = bd.spectrum(opa,full_output=True)\n",
    "    output[ikey]['lowres'] = jdi.mean_regrid(output[ikey]['wavenumber'],\n",
    "                                             output[ikey]['thermal'],R=200)"
   ]
  },
  {
   "cell_type": "code",
   "execution_count": null,
   "id": "b30bbaf5-02c1-4677-8369-40fb27647b36",
   "metadata": {},
   "outputs": [],
   "source": [
    "xs = [output[ikey]['lowres'][0] for ikey in output.keys()]\n",
    "ys = [output[ikey]['lowres'][1] for ikey in output.keys()]\n",
    "jpi.show(jpi.spectrum(xs,ys, legend=list(output.keys()),y_axis_type='log',x_axis_type='log'))"
   ]
  },
  {
   "cell_type": "code",
   "execution_count": null,
   "id": "fb111808",
   "metadata": {},
   "outputs": [],
   "source": []
  }
 ],
 "metadata": {
  "kernelspec": {
   "display_name": "pic312",
   "language": "python",
   "name": "python3"
  },
  "language_info": {
   "codemirror_mode": {
    "name": "ipython",
    "version": 3
   },
   "file_extension": ".py",
   "mimetype": "text/x-python",
   "name": "python",
   "nbconvert_exporter": "python",
   "pygments_lexer": "ipython3",
   "version": "3.12.2"
  }
 },
 "nbformat": 4,
 "nbformat_minor": 5
}
