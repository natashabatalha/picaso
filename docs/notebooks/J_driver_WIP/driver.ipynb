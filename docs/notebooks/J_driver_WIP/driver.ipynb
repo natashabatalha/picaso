{
 "cells": [
  {
   "cell_type": "code",
   "execution_count": 1,
   "id": "7ddf4508",
   "metadata": {},
   "outputs": [
    {
     "name": "stderr",
     "output_type": "stream",
     "text": [
      "WARNING: Failed to load Vega spectrum from /Users/nbatalh1/Documents/data/grp/redcat/trds/calspec/alpha_lyr_stis_011.fits; Functionality involving Vega will be severely limited: FileNotFoundError(2, 'No such file or directory') [stsynphot.spectrum]\n",
      "/Users/nbatalh1/Documents/codes/PICASO/picaso/picaso/justdoit.py:55: UserWarning: Your code version is 3.3 but your reference data version is 4.0. For some functionality you may experience Keyword errors. Please download the newest ref version or update your code: https://github.com/natashabatalha/picaso/tree/master/reference\n",
      "  warnings.warn(f\"Your code version is {__version__} but your reference data version is {ref_v}. For some functionality you may experience Keyword errors. Please download the newest ref version or update your code: https://github.com/natashabatalha/picaso/tree/master/reference\")\n"
     ]
    }
   ],
   "source": [
    "import picaso.driver as go"
   ]
  },
  {
   "cell_type": "code",
   "execution_count": 2,
   "id": "c46896d1",
   "metadata": {},
   "outputs": [],
   "source": [
    "test1 = go.run('test_case1.toml')"
   ]
  },
  {
   "cell_type": "code",
   "execution_count": null,
   "id": "65c7cb4d",
   "metadata": {},
   "outputs": [],
   "source": []
  }
 ],
 "metadata": {
  "kernelspec": {
   "display_name": "pic312",
   "language": "python",
   "name": "python3"
  },
  "language_info": {
   "codemirror_mode": {
    "name": "ipython",
    "version": 3
   },
   "file_extension": ".py",
   "mimetype": "text/x-python",
   "name": "python",
   "nbconvert_exporter": "python",
   "pygments_lexer": "ipython3",
   "version": "3.12.2"
  }
 },
 "nbformat": 4,
 "nbformat_minor": 5
}
