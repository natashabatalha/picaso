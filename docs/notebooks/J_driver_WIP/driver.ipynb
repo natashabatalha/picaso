{
 "cells": [
  {
   "cell_type": "code",
   "execution_count": null,
   "id": "7ddf4508",
   "metadata": {},
   "outputs": [],
   "source": [
    "import picaso.driver as go"
   ]
  },
  {
   "cell_type": "code",
   "execution_count": null,
   "id": "c46896d1",
   "metadata": {},
   "outputs": [],
   "source": [
    "test1 = go.run('test_case1.toml')"
   ]
  },
  {
   "cell_type": "code",
   "execution_count": null,
   "id": "65c7cb4d",
   "metadata": {},
   "outputs": [],
   "source": [
    "#do all the PT options work? \n",
    "for i in go.pt_options: \n",
    "    with open('test_case1.toml', \"rb\") as f:\n",
    "        config = go.tomllib.load(f)\n",
    "    config['temperature']['profile']=i\n",
    "    print(i)\n",
    "    test1 = go.run(driver_dict =config)"
   ]
  },
  {
   "cell_type": "code",
   "execution_count": null,
   "id": "cd16276a",
   "metadata": {},
   "outputs": [],
   "source": [
    "#do all the chem options work? \n",
    "for i in go.chem_options: \n",
    "    with open('test_case1.toml', \"rb\") as f:\n",
    "        config = go.tomllib.load(f)\n",
    "    config['chemistry']['method']=i\n",
    "    print(i)\n",
    "    test1 = go.run(driver_dict =config)"
   ]
  },
  {
   "cell_type": "code",
   "execution_count": null,
   "id": "9a0f2e2a",
   "metadata": {},
   "outputs": [],
   "source": [
    "#do all the cloud options work? \n",
    "for i in go.cloud_options: \n",
    "    with open('test_case1.toml', \"rb\") as f:\n",
    "        config = go.tomllib.load(f)\n",
    "    config['clouds']['cloud1_type']=i\n",
    "    print(i)\n",
    "    test1 = go.run(driver_dict =config)"
   ]
  }
 ],
 "metadata": {
  "kernelspec": {
   "display_name": "pic312",
   "language": "python",
   "name": "python3"
  },
  "language_info": {
   "codemirror_mode": {
    "name": "ipython",
    "version": 3
   },
   "file_extension": ".py",
   "mimetype": "text/x-python",
   "name": "python",
   "nbconvert_exporter": "python",
   "pygments_lexer": "ipython3",
   "version": "3.12.2"
  }
 },
 "nbformat": 4,
 "nbformat_minor": 5
}
