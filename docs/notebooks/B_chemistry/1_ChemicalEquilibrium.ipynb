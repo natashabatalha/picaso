{
 "cells": [
  {
   "cell_type": "markdown",
   "metadata": {},
   "source": [
    "# Adding your Own Chemistry in PICASO\n",
    "\n",
    "In this tutorial you will learn how ro run simple chemical equilibrium using our pre-computed grids. Plus add additional disequilibrium 'hacks' that are used within our climate code. \n"
   ]
  },
  {
   "cell_type": "code",
   "execution_count": null,
   "metadata": {},
   "outputs": [],
   "source": [
    "import os\n",
    "\n",
    "import warnings\n",
    "warnings.filterwarnings('ignore')\n",
    "import picaso.justdoit as jdi\n",
    "import picaso.justplotit as jpi\n",
    "jpi.output_notebook()\n",
    "import astropy.units as u\n",
    "import numpy as np\n",
    "import matplotlib.pyplot as plt\n",
    "%matplotlib inline"
   ]
  },
  {
   "cell_type": "markdown",
   "metadata": {},
   "source": [
    "## Simple Chemical Equilibrium"
   ]
  },
  {
   "cell_type": "code",
   "execution_count": null,
   "metadata": {},
   "outputs": [],
   "source": [
    "opacity = jdi.opannection()\n",
    "\n",
    "chem_example = jdi.inputs(calculation='browndwarf')\n",
    "grav = 1000 # Gravity of your brown dwarf in m/s/s\n",
    "Teq = 1200\n",
    "chem_example.gravity(gravity=grav, gravity_unit=u.Unit('m/(s**2)')) # input gravity\n",
    "#add simple PT parameterization\n",
    "chem_example.guillot_pt(Teq)\n",
    "#use chemical equilibrium code\n",
    "chem_example.chemeq_visscher_2121(log_mh=0, cto_absolute=0.549) \n",
    "#compute specturm \n",
    "full_out = chem_example.spectrum(opacity,calculation='thermal',full_output=True)\n",
    "\n",
    "jpi.show(jpi.mixing_ratio(full_out['full_output'],limit=15))#plot top 15 chemical species"
   ]
  },
  {
   "cell_type": "markdown",
   "metadata": {},
   "source": [
    "# Comparing Other Ways to get Chemical Equilibrium incl w/ Disequilibrium Hacks\n",
    "\n",
    "For climate calculations especially, we often are using chemical equilibrium from pre-computed correlated k tables. This next section relies on you have downloaded the `preweighted` correlated k tables and `resortrebin` files. "
   ]
  },
  {
   "cell_type": "code",
   "execution_count": null,
   "metadata": {},
   "outputs": [],
   "source": [
    "#1 ck tables from roxana\n",
    "mh = '+000'#'+0.0' #log metallicity\n",
    "CtoO = '100'#'1.0' # CtoO ratio\n",
    "\n",
    "ck_db = os.path.join(os.getenv('picaso_refdata'),'opacities', 'preweighted', f'sonora_2020_feh{mh}_co_{CtoO}.data.196')"
   ]
  },
  {
   "cell_type": "markdown",
   "metadata": {},
   "source": [
    "Let's create two differnet opacity connections so that we can look at the chemical equilibrium that is encoded within the preweighted CK tables as well as the chemistry that is loaded from the chemistry tables. "
   ]
  },
  {
   "cell_type": "code",
   "execution_count": null,
   "metadata": {},
   "outputs": [],
   "source": [
    "cl_run = jdi.inputs(calculation=\"browndwarf\", climate = True) # start a calculation\n",
    "\n",
    "#note you need to put the climate keyword to be True in order to do so\n",
    "# now you need to add these parameters to your calculation\n",
    "\n",
    "teff= 400 # Effective Temperature of your Brown Dwarf in K\n",
    "grav = 1000 # Gravity of your brown dwarf in m/s/s\n",
    "\n",
    "cl_run.gravity(gravity=grav, gravity_unit=u.Unit('m/(s**2)')) # input gravity\n",
    "cl_run.effective_temp(teff) # input effective temperature\n",
    "\n",
    "opacity_preweighted =  jdi.opannection(method='preweighted',ck_db=ck_db)"
   ]
  },
  {
   "cell_type": "code",
   "execution_count": null,
   "metadata": {},
   "outputs": [],
   "source": [
    "nlevel = 91 # number of plane-parallel levels in your code\n",
    "\n",
    "# Here we're going to start with a cloudfree Sonora Elf Owl model\n",
    "pressure,temp = np.loadtxt(\"profilegrid_kz_1d9_qt_onfly_400_grav_1000_mh_+0.0_cto_1.0.dat\",\n",
    "                                usecols=[1,2],unpack=True, skiprows = 1)\n",
    "#get our PT profile sorted \n",
    "cl_run.add_pt(P= pressure, T= temp)\n"
   ]
  },
  {
   "cell_type": "markdown",
   "metadata": {},
   "source": [
    "## Option 1: Chemistry from the Pre-Weighted CK Tables\n",
    "\n",
    "Dont need to run this cell if you havent downloaded the preweighted correlated k files"
   ]
  },
  {
   "cell_type": "code",
   "execution_count": null,
   "metadata": {},
   "outputs": [],
   "source": [
    "cl_run.premix_atmosphere(opa=opacity_preweighted)\n",
    "df_pre = jdi.copy.deepcopy(cl_run.inputs['atmosphere']['profile'])"
   ]
  },
  {
   "cell_type": "markdown",
   "metadata": {},
   "source": [
    "## Option 2: Chemistry from Chemeq Visscher Functions"
   ]
  },
  {
   "cell_type": "code",
   "execution_count": null,
   "metadata": {},
   "outputs": [],
   "source": [
    "cl_run.chemeq_visscher_2121(log_mh=0, cto_absolute=0.549)#absolute c/o\n",
    "df_2121 = jdi.copy.deepcopy(cl_run.inputs['atmosphere']['profile'])\n",
    "\n",
    "#or older visscher data \n",
    "cl_run.chemeq_visscher_1060(c_o=1, log_mh=0)#relative c/o!!!\n",
    "df_1060 = jdi.copy.deepcopy(cl_run.inputs['atmosphere']['profile'])"
   ]
  },
  {
   "cell_type": "markdown",
   "metadata": {},
   "source": [
    "## Option 3: Chemistry from Atmosphere Function with Disequilibrium Hacks\n",
    "\n",
    "Note the use of chem_method below: \"visscher\" defaults to the newest visscher grid which is the 2121 grid. 'visscher_1060's is the older 1060 grid. "
   ]
  },
  {
   "cell_type": "code",
   "execution_count": null,
   "metadata": {},
   "outputs": [],
   "source": [
    "#no hacks turned on (should be identical to option 2)\n",
    "cl_run.atmosphere(mh=1, cto_relative=1, chem_method='visscher',\n",
    "                  quench=False, cold_trap = False, no_ph3 = False, vol_rainout=False)\n",
    "quench_level = {'CO-CH4-H2O': np.int64(73), 'CO2': np.int64(66), 'NH3-N2': np.int64(74), 'HCN': np.int64(73), 'PH3': np.int64(71)}\n",
    "cl_run.premix_atmosphere(opa=None,quench_levels=quench_level,verbose=True)\n",
    "df_none = jdi.copy.deepcopy(cl_run.inputs['atmosphere']['profile'])\n",
    "\n",
    "#turn on quenching\n",
    "cl_run.atmosphere(mh=1, cto_relative=1, chem_method='visscher',\n",
    "                  quench=True, cold_trap = False, no_ph3 = False, vol_rainout=False)\n",
    "quench_level = {'CO-CH4-H2O': np.int64(73), 'CO2': np.int64(66), 'NH3-N2': np.int64(74), 'HCN': np.int64(73), 'PH3': np.int64(71)}\n",
    "cl_run.premix_atmosphere(opa=None,quench_levels=quench_level,verbose=True)\n",
    "df_quench_only = jdi.copy.deepcopy(cl_run.inputs['atmosphere']['profile'])\n",
    "\n",
    "#turn on quenching and volatile rainout water \n",
    "cl_run.atmosphere(mh=1, cto_relative=1, chem_method='visscher',\n",
    "                  quench=True, cold_trap = False, no_ph3 = True, vol_rainout=True)\n",
    "quench_level = {'CO-CH4-H2O': np.int64(73), 'CO2': np.int64(66), 'NH3-N2': np.int64(74), 'HCN': np.int64(73), 'PH3': np.int64(71)}\n",
    "cl_run.premix_atmosphere(opa=None,quench_levels=quench_level,verbose=True)\n",
    "df_quench_rain= jdi.copy.deepcopy(cl_run.inputs['atmosphere']['profile'])\n",
    "\n",
    "#turn on quenching and volatile rainout water and cold trap water \n",
    "cl_run.atmosphere(mh=1, cto_relative=1, chem_method='visscher',\n",
    "                  quench=True, cold_trap = True, no_ph3 = True, vol_rainout=True)\n",
    "quench_level = {'CO-CH4-H2O': np.int64(73), 'CO2': np.int64(66), 'NH3-N2': np.int64(74), 'HCN': np.int64(73), 'PH3': np.int64(71)}\n",
    "cl_run.premix_atmosphere(opa=None,quench_levels=quench_level,verbose=True)\n",
    "df_all= jdi.copy.deepcopy(cl_run.inputs['atmosphere']['profile'])"
   ]
  },
  {
   "cell_type": "code",
   "execution_count": null,
   "metadata": {},
   "outputs": [],
   "source": [
    "colors = jpi.pals.Light8\n",
    "FIGURES = []\n",
    "f = jpi.figure(y_range=[5000,1e-3], y_axis_type='log',x_axis_label='temperature',y_axis_label='pressure')\n",
    "f.line(temp, pressure,color='black', line_width=4)\n",
    "jpi.plot_format(f)\n",
    "FIGURES+=[f]\n",
    "\n",
    "for mol in ['NH3', 'H2O','CH4','CO']:\n",
    "    f = jpi.figure(y_range=[5000,1e-3], y_axis_type='log',x_axis_type='log',x_axis_label=mol,y_axis_label='pressure')\n",
    "    linwidth=7\n",
    "    ii=0\n",
    "    for i ,il in zip([df_none, df_quench_only, df_quench_rain, df_all,df_pre,df_2121, df_1060],['chemeq', 'quench_only', 'quench+rain','quench+rain+cold trap','preweighted','new_visscher_Lo20','visscher_1060']):\n",
    "        f.line(i[mol],i['pressure'],legend_label=il,line_width=linwidth, color=colors[ii]);linwidth-=1;ii+=1\n",
    "    jpi.plot_format(f)\n",
    "    FIGURES+=[f]\n",
    "jpi.show(jpi.gridplot([FIGURES[0:1],FIGURES[1:3],FIGURES[3:]])\n",
    "         )"
   ]
  },
  {
   "cell_type": "code",
   "execution_count": null,
   "metadata": {},
   "outputs": [],
   "source": []
  }
 ],
 "metadata": {
  "kernelspec": {
   "display_name": "pic312",
   "language": "python",
   "name": "python3"
  },
  "language_info": {
   "codemirror_mode": {
    "name": "ipython",
    "version": 3
   },
   "file_extension": ".py",
   "mimetype": "text/x-python",
   "name": "python",
   "nbconvert_exporter": "python",
   "pygments_lexer": "ipython3",
   "version": "3.12.2"
  }
 },
 "nbformat": 4,
 "nbformat_minor": 2
}
