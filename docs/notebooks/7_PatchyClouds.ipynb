{
 "cells": [
  {
   "cell_type": "markdown",
   "metadata": {},
   "source": [
    "# Patchy Clouds\n",
    "\n",
    "We've shown how to use Virga, and how to input simple box clouds. In this tutorial you will learn how to do a simple patchy cloud for thermal, transmission, and/or reflected light. \n",
    "\n",
    "The way our formalism works is that to run a patchy cloud, you turn on clouds as normal. Then you define \"holes\" of clearness. The clear hole can either be a fully clear patch, or it can be a partially cloudy patch.\n",
    "\n",
    "## Patchy Cloud Parameters for `clouds` and `virga` functions\n",
    "\n",
    "- `do_holes` : Turns on patchiness \n",
    "- `fhole` [0-1] : defines the fraction of the cloud hole. 0 would be a fully cloudy atmosphere. 1 would be one giant hole.\n",
    "- `fthin_cld` : this is going to scale the \"hole\" region. If you just want a purely clear hole then you would do fthin_cld=0. \n",
    "\n",
    "So in practice let's review some simple cases: \n",
    "\n",
    "- Inputs for a 50/50 cloudy, clear: do_holes=True, fhole=0.5, fthin_cld=0 \n",
    "- Inputs for a 50% cloudy, 50% thinned cloud by 30%:  do_holes=True, fhole=0.5, fthin_cld=0.3\n"
   ]
  },
  {
   "cell_type": "code",
   "execution_count": null,
   "metadata": {},
   "outputs": [],
   "source": [
    "import numpy as np\n",
    "import pandas as pd\n",
    "\n",
    "#picaso\n",
    "from picaso import justdoit as jdi \n",
    "from picaso import justplotit as jpi\n",
    "\n",
    "#plotting\n",
    "jpi.output_notebook()\n"
   ]
  },
  {
   "cell_type": "markdown",
   "metadata": {},
   "source": [
    "Let's do some calculations for practice"
   ]
  },
  {
   "cell_type": "code",
   "execution_count": null,
   "metadata": {},
   "outputs": [],
   "source": [
    "opa = jdi.opannection(wave_range=[0.6,5])\n",
    "\n",
    "case1 = jdi.inputs()\n",
    "\n",
    "case1.phase_angle(0)\n",
    "\n",
    "case1.approx(p_reference=10)\n",
    "#here we are going to have to specify gravity through R and M since we need it in the Flux calc\n",
    "case1.gravity(mass=1, mass_unit=jdi.u.Unit('M_jup'), \n",
    "              radius=1.2, radius_unit=jdi.u.Unit('R_jup'))\n",
    "\n",
    "#here we are going to have to specify R as well\n",
    "case1.star(opa, 4000,0.0122,4.437,radius=0.7, radius_unit = jdi.u.Unit('R_sun') )\n",
    "\n",
    "#atmo\n",
    "case1.atmosphere(filename = jdi.HJ_pt(), sep=r'\\s+')\n",
    "\n",
    "#clear transmission, thermal emission, and reflected light\n",
    "df_clear= case1.spectrum(opa, full_output=True,calculation='transmission+thermal+reflected')"
   ]
  },
  {
   "cell_type": "markdown",
   "metadata": {},
   "source": [
    "## Patchy Clouds \n",
    "\n",
    "Now lets do a 50/50 patchy cloud and compare to a fully cloudy run "
   ]
  },
  {
   "cell_type": "code",
   "execution_count": null,
   "metadata": {},
   "outputs": [],
   "source": [
    "case1.clouds(p = [1], dp=[4], opd=[1], g0=[0], w0=[0],do_holes=False)\n",
    "df_full_cld = case1.spectrum(opa, full_output=True,calculation='transmission+thermal+reflected') #note the new last key \n",
    "\n",
    "\n",
    "case1.clouds(p = [1], dp=[4], opd=[1], g0=[0], w0=[0],do_holes=True, fhole=0.5,fthin_cld=0)\n",
    "df_50p_cld= case1.spectrum(opa, full_output=True,calculation='transmission+thermal+reflected') #note the new last key "
   ]
  },
  {
   "cell_type": "markdown",
   "metadata": {},
   "source": [
    "### Compare Transit Depth"
   ]
  },
  {
   "cell_type": "code",
   "execution_count": null,
   "metadata": {},
   "outputs": [],
   "source": [
    "to_compare = dict(clear=df_clear, cldy_full = df_full_cld, cldy_50 = df_50p_cld)\n",
    "wnos=[];trs=[]\n",
    "for i in to_compare.keys():\n",
    "    wno,r =jdi.mean_regrid(to_compare[i]['wavenumber'], to_compare[i]['transit_depth'], R=150)\n",
    "    r = 1e6*(r-np.mean(r))\n",
    "    wnos+=[wno]; trs+=[r]\n",
    "\n",
    "jpi.show(jpi.spectrum(wnos,trs,\n",
    "                  legend=to_compare.keys(),\n",
    "                  plot_width=500))"
   ]
  },
  {
   "cell_type": "markdown",
   "metadata": {},
   "source": [
    "### Compare Albedo Spectra"
   ]
  },
  {
   "cell_type": "code",
   "execution_count": null,
   "metadata": {},
   "outputs": [],
   "source": [
    "to_compare = dict(clear=df_clear, cldy_full = df_full_cld, cldy_50 = df_50p_cld)\n",
    "wnos=[];albs=[]\n",
    "for i in to_compare.keys():\n",
    "    wno,r =jdi.mean_regrid(to_compare[i]['wavenumber'], to_compare[i]['albedo'], R=150)\n",
    "    wnos+=[wno]; albs+=[r]\n",
    "\n",
    "jpi.show(jpi.spectrum(wnos,albs,\n",
    "                  legend=to_compare.keys(),x_range=[0.6,2],\n",
    "                  plot_width=500))"
   ]
  },
  {
   "cell_type": "markdown",
   "metadata": {},
   "source": [
    "### Compare Thermal Spectra"
   ]
  },
  {
   "cell_type": "code",
   "execution_count": null,
   "metadata": {},
   "outputs": [],
   "source": [
    "to_compare = dict(clear=df_clear, cldy_full = df_full_cld, cldy_50 = df_50p_cld)\n",
    "wnos=[];sps=[]\n",
    "for i in to_compare.keys():\n",
    "    wno,r =jdi.mean_regrid(to_compare[i]['wavenumber'], to_compare[i]['thermal'], R=150)\n",
    "    wnos+=[wno]; sps+=[r]\n",
    "\n",
    "jpi.show(jpi.spectrum(wnos,sps,\n",
    "                  legend=to_compare.keys(),\n",
    "                  plot_width=500))"
   ]
  }
 ],
 "metadata": {
  "kernelspec": {
   "display_name": "pic312",
   "language": "python",
   "name": "python3"
  },
  "language_info": {
   "codemirror_mode": {
    "name": "ipython",
    "version": 3
   },
   "file_extension": ".py",
   "mimetype": "text/x-python",
   "name": "python",
   "nbconvert_exporter": "python",
   "pygments_lexer": "ipython3",
   "version": "3.12.0"
  },
  "toc": {
   "base_numbering": 1,
   "nav_menu": {},
   "number_sections": true,
   "sideBar": true,
   "skip_h1_title": false,
   "title_cell": "Table of Contents",
   "title_sidebar": "Contents",
   "toc_cell": true,
   "toc_position": {},
   "toc_section_display": true,
   "toc_window_display": false
  },
  "varInspector": {
   "cols": {
    "lenName": 16,
    "lenType": 16,
    "lenVar": 40
   },
   "kernels_config": {
    "python": {
     "delete_cmd_postfix": "",
     "delete_cmd_prefix": "del ",
     "library": "var_list.py",
     "varRefreshCmd": "print(var_dic_list())"
    },
    "r": {
     "delete_cmd_postfix": ") ",
     "delete_cmd_prefix": "rm(",
     "library": "var_list.r",
     "varRefreshCmd": "cat(var_dic_list()) "
    }
   },
   "types_to_exclude": [
    "module",
    "function",
    "builtin_function_or_method",
    "instance",
    "_Feature"
   ],
   "window_display": false
  }
 },
 "nbformat": 4,
 "nbformat_minor": 2
}
