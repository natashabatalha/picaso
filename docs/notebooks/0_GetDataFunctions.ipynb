{
 "cells": [
  {
   "cell_type": "markdown",
   "id": "cd55fb75-a87a-4497-91a7-b40d80d9879d",
   "metadata": {},
   "source": [
    "# Making Sense of PICASO Data: How to organize your PICASO directories \n",
    "\n",
    "PICASO relies on lots of different kinds of data. However you might not need all of it depending on what you are working on. For example, if you are only working on substellar objects, you do not need to download stellar spectra. \n",
    "\n",
    "| Data Type                        | Req? | What it is primarily used for | Where it should go                      |\n",
    "|----------------------------------|------|-------------------------------|-----------------------------------------|\n",
    "| Resampled Opacities              | Yes  | Spectroscopic modeling        | \\$picaso_refdata/opacities/opacities.db |\n",
    "| Stellar Database                 | No   | Exoplanet modeling            | \\$PYSYN_CDBS/grid                       |\n",
    "| Pre-weighted correlated-K Tables | No   | Chemical equilibrium climate  | Your choice                             |\n",
    "| By molecule correlated-K Tables  | No   | Disequilibrium climate        | $picaso_refdata/climate_INPUTS/661      |\n",
    "| Sonora grid models               | No   | Initial guess/grid fitting    | Your choice                             |\n",
    "| Virga Mieff files                | No   | Virga cloud modeling          | Your choice                             |\n",
    "\n",
    "For a recommended directory structure we recommend something like this: \n",
    "\n",
    "```\n",
    "├── PICASO\n",
    "│   ├── picaso_code (cloned from github)\n",
    "│   │   ├── reference (this is the directory for which you will create your environment variable called picaso_refdata)\n",
    "│   │   │   ├── opacities\n",
    "│   │   │   │   ├── opacities.db (required file, download from zenodo)\n",
    "│   │   │   ├── Other things used by codebase\n",
    "│   │   ├── setup.py\n",
    "│   ├── picaso_data (more data that gives you extra functionality)\n",
    "│   │   ├── stellar_data (this is the directory for which you will create your environment variable called PYSYN_CDBS)\n",
    "│   │   │   ├── grid (two popular stellar grids shown below)\n",
    "│   │   │   │   ├── ck04models \n",
    "│   │   │   │   ├── phoenix \n",
    "│   │   ├── virga_data \n",
    "│   │   │   ├── H2O.mieff\n",
    "│   │   │   ├── SiO2.mieff (and all other mieff files)\n",
    "│   │   ├── pre_mixed_CK \n",
    "│   │   ├── Other data you  might want to include.. \n",
    "```\n"
   ]
  },
  {
   "cell_type": "markdown",
   "id": "970ad831-b624-4160-8ec3-4b82ee11cac8",
   "metadata": {},
   "source": [
    "## Check environment variables have been set\n",
    "\n",
    "We give [three different ways of setting environment variables here](https://natashabatalha.github.io/picaso/installation.html#create-environment-variable). \n",
    "\n",
    "Check: \n",
    "\n",
    "- [ ] Have you set your picaso_refdata environment variable?\n",
    "- [ ] Have you set your PYSYN_CDBS  environment variable?"
   ]
  },
  {
   "cell_type": "code",
   "execution_count": 1,
   "id": "fe56cbaf-f080-41aa-9ada-beedff22a2cc",
   "metadata": {},
   "outputs": [],
   "source": [
    "import picaso.data as data"
   ]
  },
  {
   "cell_type": "code",
   "execution_count": 2,
   "id": "e6e05db7-5c6f-4b7b-96e0-015e8258ce75",
   "metadata": {},
   "outputs": [
    {
     "name": "stdout",
     "output_type": "stream",
     "text": [
      "I have found a picaso environment here /Users/nbatalh1/Documents/codes/PICASO/picaso/reference\n",
      "Fantastic. Looks like you have your basic reference data downloaded. Proceed with grabbing opacities.db with the help of get_data function\n",
      "Your reference version number 3.3 has these files:\n",
      "['references', 'config.json', 'chemistry', 'opacities', 'version.md', 'evolution', 'base_cases', 'climate_INPUTS']\n",
      "I have found a stellar environment here /Users/nbatalh1/Documents/data/grp/redcat/trds\n",
      "You have the correct subfolder called grid\n",
      "You have downloaded these stellar grids:\n",
      "['phoenix', 'ck04models']\n"
     ]
    }
   ],
   "source": [
    "data.check_environ()"
   ]
  },
  {
   "cell_type": "markdown",
   "id": "9c25ef10-7145-4eb1-abc7-d94d8128dfde",
   "metadata": {},
   "source": [
    "Once these are complete you can proceed to downloading data"
   ]
  },
  {
   "cell_type": "markdown",
   "id": "74c87532-353f-4d01-a2dc-74565b98ca3c",
   "metadata": {},
   "source": [
    "## Downlaoding the resampled opacity file \n",
    "\n",
    "If you want to make this the picaso default then you should put it here: \n",
    "\n",
    "- $picaso_refdata/opacities/opacities.db\n",
    "\n",
    "The following function will do that for you if you have set up your path correctly\n",
    "\n",
    "### Running the function interactive \n",
    "```\n",
    "What data can I help you download? Options include:\n",
    "['resampled_opacity', 'stellar_grids', 'sonora_grids', 'ck_tables']\n",
    ">> resampled_opacity\n",
    "Great. I found these options for resampled_opacity. Select one:\n",
    "0 - 'default': 7.34 GB file resampled at R=10,000 from 0.3-15um. This is sufficient for doing R=100 JWST calculations and serves as a good default opacity database for exploration.\n",
    "1 - 'R60000,0.6-6um': 38.3 GB file resampled at R=60,000 from 0.6-6um. This is sufficient for doing moderate resolution JWST calculations.\n",
    "2 - 'R20000,4.8-15um': 7.0 GB file resampled at R=20,000 from 4.8-15um. This is sufficient for doing low resolution JWST calculations.\n",
    ">> default\n",
    "No destination has been specified. Let me help put this in the right place.\n",
    "PICASO uses one default opacity database that is placed here: $picaso_refdata/opacities/opacities.db .\n",
    "            Any other files are recommended you store in a separate directory. \n",
    "            Since no destination was specified, can you tell me, would you like to make this your default PICASO file? yes or no. \n",
    "            \n",
    ">> yes\n",
    "It looks like you have set picaso_refdata path as:  /Users/nbatalh1/Documents/codes/PICASO/picaso/reference\n",
    "Downloading target url https://zenodo.org/records/3759675/files/opacities.db?download=1 to a temp directory /Users/nbatalh1/Documents/codes/PICASO/test/ck_new/temp_picaso_dir_6d8b070c-c0b0-4fc0-a45e-8fe056669591. Then we will unpack and move it. If something goes wrong you can find your file in this temp directory.\n",
    "```"
   ]
  },
  {
   "cell_type": "code",
   "execution_count": null,
   "id": "338b33c7-30df-43e4-a41d-a85f0be6211c",
   "metadata": {},
   "outputs": [
    {
     "name": "stdout",
     "output_type": "stream",
     "text": [
      "No destination has been specified. Let me help put this in the right place.\n",
      "PICASO uses one default opacity database that is placed here: $picaso_refdata/opacities/opacities.db .\n",
      "            Any other files are recommended you store in a separate directory. \n",
      "            Since no destination was specified, can you tell me, would you like to make this your default PICASO file? yes or no. \n",
      "            \n"
     ]
    }
   ],
   "source": [
    "#commented out for docs build\n",
    "data.get_data(category_download='resampled_opacity',target_download='default')\n"
   ]
  },
  {
   "cell_type": "markdown",
   "id": "8f977f23-76be-46c7-b2bd-56d8588b85ce",
   "metadata": {},
   "source": [
    "## Download the stellar grids needed for exoplanet modeling\n",
    "\n",
    "If you want to use these stellar files they will need to be accessed by pysynphot package which checks for them here: \n",
    "\n",
    "- $PYSYN_CDBS/grid\n",
    "\n",
    "### Running the function interactive \n",
    "\n",
    "```\n",
    ">> data.get_data()\n",
    "What data can I help you download? Options include:\n",
    "['resampled_opacity', 'stellar_grids', 'sonora_grids', 'ck_tables']\n",
    ">> stellar_grids\n",
    "Great. I found these options for stellar_grids. Select one:\n",
    "0 - 'phoenix': Phoenix stellar atlas\n",
    "1 - 'ck04models': Castelli & Kurucz (2004) stellar atlas\n",
    ">> phoenix\n",
    "No destination has been specified. Let me help put this in the right place.\n",
    "Stellar gird models should go to the environment variable directory called PYSYN_CDBS. \n",
    "            \n",
    "It looks like you have set PYSYN_CDBS path as:  /Users/nbatalh1/Documents/data/grp/redcat/trds\n",
    "Downloading target url http://ssb.stsci.edu/trds/tarfiles/synphot5.tar.gz to a temp directory /Users/nbatalh1/Documents/codes/PICASO/test/ck_new/temp_picaso_dir_6e0bf565-0aec-4bfa-8357-647500bda6d4. Then we will unpack and move it. If something goes wrong you can find your file in this temp directory.\n",
    "```"
   ]
  },
  {
   "cell_type": "code",
   "execution_count": null,
   "id": "c817402b-fa6e-4e83-baf4-671ca9129f81",
   "metadata": {},
   "outputs": [],
   "source": [
    "data.get_data(category_download='stellar_grids')"
   ]
  },
  {
   "cell_type": "markdown",
   "id": "8ea27c5c-7f01-493b-b420-cf593133e3eb",
   "metadata": {},
   "source": [
    "## General use of the `get_data` function\n",
    "\n",
    "### Examples using get data in interactive mode\n",
    "```\n",
    "data.get_data()\n",
    "What data can I help you download? Options include:\n",
    "['resampled_opacity', 'stellar_grids', 'sonora_grids', 'ck_tables']\n",
    ">> sonora_grids\n",
    "Great. I found these options for sonora_grids. Select one:\n",
    "0 - 'elfowl-Ytype': The models between Teff of 275 to 550 K (applicable to Y-type objects). Total: ~40 Gb.\n",
    "1 - 'elfowl-Ttype': The models for Teff between 575 to 1200 K (applicable for T-type objects). Total: ~40 Gb.\n",
    "2 - 'elfowl-Ltype': Models for Teff between 1300 to 2400 K (applicable for L-type objects). Total: ~40 Gb.\n",
    "3 - 'bobcat': Sonora bobcat pressure-temperature profiles\n",
    "4 - 'diamondback': \n",
    ">> elfowl-Ytype\n",
    "No destination has been specified. Let me help put this in the right place.\n",
    "When running the code you will have to point to this directory. Therefore, keep it somewhere you will remember. My suggestion would be something like /Users/myaccount/Documents/data/picaso_data/sonora_grids. Please enter a path:\n",
    "/Users/nbatalh1/Documents/data/sonora_grids/elfowl\n",
    "```"
   ]
  },
  {
   "cell_type": "code",
   "execution_count": null,
   "id": "af43160a-3e33-4442-925f-7b50f7e220a9",
   "metadata": {},
   "outputs": [],
   "source": [
    "data.get_data()"
   ]
  },
  {
   "cell_type": "code",
   "execution_count": null,
   "id": "8dde393f",
   "metadata": {},
   "outputs": [],
   "source": []
  }
 ],
 "metadata": {
  "kernelspec": {
   "display_name": "pic312",
   "language": "python",
   "name": "python3"
  },
  "language_info": {
   "codemirror_mode": {
    "name": "ipython",
    "version": 3
   },
   "file_extension": ".py",
   "mimetype": "text/x-python",
   "name": "python",
   "nbconvert_exporter": "python",
   "pygments_lexer": "ipython3",
   "version": "3.12.0"
  }
 },
 "nbformat": 4,
 "nbformat_minor": 5
}
