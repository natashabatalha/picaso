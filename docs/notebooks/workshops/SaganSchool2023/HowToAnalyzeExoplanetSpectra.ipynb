{
 "cells": [
  {
   "cell_type": "markdown",
   "id": "442fd354",
   "metadata": {
    "id": "un2r-8IJ4Fos"
   },
   "source": [
    "# Basics of analyzing transmission spectra with JWST \n",
    "\n",
    "You should have already installed PICASO (which can be found [here](https://natashabatalha.github.io/picaso/installation.html)). In this tutorial you will learn how to model the transmission spectrum of Wasp-39b. This entails learning the basics of: \n",
    "\n",
    "1. Transit transmission spectra modeling \n",
    "2. Data-to-model comparison via chi-square statistic \n",
    "3. Climate modeling \n",
    "4. Cloud modeling \n",
    "\n",
    "**NOTE: This tutorial is aimed at both beginner and advanced levels.** It is comparehensive and includes various locations to check understanding. "
   ]
  },
  {
   "cell_type": "markdown",
   "id": "9520dcf0",
   "metadata": {
    "id": "6b13e969-791b-4a38-885a-82732ba5627d"
   },
   "source": [
    "# Check PICASO Imports"
   ]
  },
  {
   "cell_type": "markdown",
   "id": "b3439d33",
   "metadata": {
    "id": "0a481e95-1809-43e4-8485-6ce5652ddc58"
   },
   "source": [
    "Here are the two main PICASO functions you will be exploring:\n",
    "\n",
    "`justdoit` contains all the spectroscopic modeling functionality you will need in these exercises.\n",
    "\n",
    "`justplotit` contains all the of the plotting functionality you will need in these exercises.\n",
    "\n",
    "Tips if you are not familiar with Python or `jupyter notebooks`:\n",
    "\n",
    "- Run a cell by clicking shift-enter. You can always go back and edit cells. But, make sure to rerun them if you edit it. You can check the order in which you have run your cells by looking at the bracket numbers (e.g. [1]) next to each cell.\n",
    "\n",
    "- In any cell you can write `help(INSERT_FUNCTION)` and it will give you documentation on the input/output\n",
    "\n",
    "- If you type `jdi.` followed by \"tab\" a box will pop up with all the available functions in `jdi`. This applies to any python function (e.g. `numpy`, `pandas`)\n",
    "  \n",
    "- If you type class.function?, for example `jdi.mean_regrid`, it will describe the function and its parameters/returns. This also applies to any class with a function."
   ]
  },
  {
   "cell_type": "markdown",
   "id": "8bdd299c",
   "metadata": {
    "id": "b9ba3b9f"
   },
   "source": [
    "## Make sure we have the right data\n",
    "\n",
    "1. Are you a student and want to quickly run this without going through full PICASO data install setup? **PROCEED TO A do not edit B**\n",
    "\n",
    "2. Have you already installed picaso, set reference variables, and have an understanding of how to get new data products associated with PICASO? **PROCEED TO edit B.**"
   ]
  },
  {
   "cell_type": "code",
   "execution_count": null,
   "id": "bf953fef",
   "metadata": {},
   "outputs": [],
   "source": [
    "import picaso.data as d\n",
    "\n",
    "picaso_refdata = '/data/test/tutorial/picaso-lite-reference' #change to where you want this to live\n",
    "\n",
    "\"\"\"\n",
    "A) Uncomment if you are need the picaso-lite data\n",
    "\"\"\"\n",
    "d.os.environ['picaso_refdata'] = picaso_refdata\n",
    "\n",
    "#if you do not yet have the picaso reference data complete this step below\n",
    "#d.get_data(category_download='picaso-lite', target_download='tutorial_sagan23',final_destination_dir=picaso_refdata)\n",
    "\n",
    "\"\"\"\n",
    "B) Edit accordingly if needed (no need to edit if completed \"A\" above)\n",
    "\"\"\"\n",
    "#picaso ref data, if need to set it \n",
    "d.os.environ['picaso_refdata'] = picaso_refdata\n",
    "#stellar data environment\n",
    "d.os.environ['PYSYN_CDBS'] = d.os.path.join(d.os.environ['picaso_refdata'],'stellar_grids')\n",
    "#path to virga files\n",
    "mieff_dir = d.os.path.join(d.os.environ['picaso_refdata'],'virga')\n",
    "#path to correlated k preweighted files\n",
    "ck_dir = d.os.path.join(d.os.environ['picaso_refdata'],'opacities', 'preweighted')\n",
    "#\"\"\"\n",
    "\n",
    "#lets check your environment\n",
    "d.check_environ()\n",
    "#dont have the data? return to the step A above to use the get_data function"
   ]
  },
  {
   "cell_type": "code",
   "execution_count": null,
   "id": "e8d8a196",
   "metadata": {
    "id": "P_mk7nKI78GM"
   },
   "outputs": [],
   "source": [
    "import os\n",
    "# Check you have picaso\n",
    "from picaso import justdoit as jdi\n",
    "from picaso import justplotit as jpi\n",
    "import picaso.opacity_factory as op\n",
    "import numpy as np\n",
    "\n",
    "jpi.output_notebook()"
   ]
  },
  {
   "cell_type": "markdown",
   "id": "c218d7c2",
   "metadata": {
    "id": "9698f8d6-21c1-4230-a9a9-253232319d49"
   },
   "source": [
    "# Observed Spectrum\n",
    "\n",
    "Before we start modeling a planet to match WASP-39 b, let's get hold of WASP-39 b's actual observed spectrum in data format, so we can plot it next to our modeled ones. If you did [part 1 of this tutorial](https://github.com/Kappibw/JWST/blob/main/2_retrieving_jwst_spectra.ipynb), you already downloaded the data prepared by the scientists who wrote [the CO2 discovery paper](https://arxiv.org/pdf/2208.11692.pdf).\n",
    "\n",
    "Let's practice download the data from [Zenodo which is a popular place to host reduced data](https://zenodo.org/record/6959427#.Yx936-zMJqv). Download the .zip, and then look for `ZENODO/TRANSMISSION_SPECTRA_DATA/EUREKA_REDUCTION.txt`.\n"
   ]
  },
  {
   "cell_type": "code",
   "execution_count": null,
   "id": "167bb4f9",
   "metadata": {
    "id": "ed9d8643-e8b9-43a3-a933-d347b6110a65"
   },
   "outputs": [],
   "source": [
    "eureka_reduction_path = '/data2/observations/WASP-39b/ZENODO/TRANSMISSION_SPECTRA_DATA/EUREKA_REDUCTION.txt'"
   ]
  },
  {
   "cell_type": "code",
   "execution_count": null,
   "id": "867bbde6",
   "metadata": {
    "id": "qdLa7P4lqUJD"
   },
   "outputs": [],
   "source": [
    "# Import ascii\n",
    "from astropy.io import ascii\n",
    "\n",
    "# Confirm can read the file\n",
    "observed_data = ascii.read(eureka_reduction_path)"
   ]
  },
  {
   "cell_type": "code",
   "execution_count": null,
   "id": "20640c94",
   "metadata": {
    "id": "353ce54e-3a05-4f42-b570-ef1769a51a89"
   },
   "outputs": [],
   "source": [
    "observed_data.colnames"
   ]
  },
  {
   "cell_type": "markdown",
   "id": "2486b93b",
   "metadata": {},
   "source": [
    "Let's plot the observed data and see what we are working with!"
   ]
  },
  {
   "cell_type": "code",
   "execution_count": null,
   "id": "923e80a9",
   "metadata": {
    "id": "c12047e4-1d2a-4132-8c65-644d463d9ba3"
   },
   "outputs": [],
   "source": [
    "plt=jpi.plt\n",
    "plt.figure(figsize=(12,4))\n",
    "plt.errorbar(observed_data['wavelength'], observed_data['tr_depth'],\n",
    "             [observed_data['tr_depth_errneg'], observed_data['tr_depth_errpos']],fmt='o')\n",
    "plt.title('WASP-39 b Observed Spectrum')\n",
    "plt.yscale('log')\n",
    "plt.ylabel('Transit Depth')\n",
    "plt.xlabel('Wavelength (micrometers)')\n",
    "plt.show()"
   ]
  },
  {
   "cell_type": "markdown",
   "id": "cfdbb96a",
   "metadata": {
    "id": "6d21b8cc-f53a-4bd4-85fc-6db71f9309af"
   },
   "source": [
    "# Spectra Ingredients\n",
    "\n",
    "Now what? Let's slowly build up a model that can match this data. What do we need?\n",
    "\n",
    "## PICASO Basics\n",
    "\n",
    "\n",
    "### List of what you will need before getting started\n",
    "\n",
    "1. Planet properties\n",
    "\n",
    "- planet radius\n",
    "- planet mass\n",
    "- planet's equilibrium temperature\n",
    "\n",
    "2. Stellar properties\n",
    "\n",
    "- stellar log gravity\n",
    "- stellar effective temperature\n",
    "- stellar metallicity\n",
    "\n",
    "3. Opacities (how do molecules and atoms absorb light under different pressure/temperature conditions)\n",
    "\n"
   ]
  },
  {
   "cell_type": "markdown",
   "id": "5a370909",
   "metadata": {
    "id": "1e0d9c4c"
   },
   "source": [
    "# Basic Inputs\n",
    "\n",
    "## Cross Section Connection\n",
    "\n",
    "All rapid radiative transfer codes rely on a database of pre-computed cross sections. Cross sections are computed by using line lists in combination with critical molecular pressure broadening parameters. Both can either be derived from theoretical first principles (e.g., [UCL ExoMol's line lists](https://www.exomol.com/)), measured in a lab, and/or some combination thereof (e.g., [HITRAN/HITEMP line lists](https://hitran.org/)).\n",
    "\n",
    "When cross sections are initially computed, a resolution ($\\lambda/\\Delta \\lambda$) is assumed. Cross sections are computed on a line-by-line nature and therefore usually computed for R~1e6. For JWST we are often interested in large bands (e.g. 1-14 $\\mu$m). Therefore we need creative ways to speed up these runs. You will usually find one of two methods: correlated-k tables and resampled cross sections. [Garland et al. 2019](https://arxiv.org/pdf/1903.03997.pdf) is a good resource on the differences between these two.\n",
    "\n",
    "For this demonstration we will use the resampled cross section method. **The major thing to note about using resampled cross sections** is that you have to compute your model at ~100x higher resolution than your data, but then must bin it down to a comparable resolution as your data so you can compare them. You will note that the opacity file you downloaded is resampled at R=10,000. Therefore you will note that **in this tutorial we will always bin the model down to R=100** before comparing with the data.\n",
    "\n",
    "**The overall idea is that we are just simply intializing PICASO to operate, create a \"connection\" to the models/spectral tools, in that wavelength (in microns) with the respective opacity range.**"
   ]
  },
  {
   "cell_type": "code",
   "execution_count": null,
   "id": "314d138d",
   "metadata": {
    "id": "1c4f1eb8-1721-4617-bec3-073a665fab3a"
   },
   "outputs": [],
   "source": [
    "opa = jdi.opannection(wave_range=[2.7,6])"
   ]
  },
  {
   "cell_type": "markdown",
   "id": "9da7e76d",
   "metadata": {
    "id": "a13f6558"
   },
   "source": [
    "## Set Basic Planet and Stellar Inputs\n",
    "\n",
    "Second step is to define the basic planet parameters. Depending on the kind of model you want to compute (transmission vs. emission vs. reflected light), there are different requirements for the minimum set of information you need to include.\n",
    "\n",
    "For WASP-39 b, since we have planet mass, radius, and all the necessary stellar specifications, we will be thorough in our inputs and include all parameters."
   ]
  },
  {
   "cell_type": "markdown",
   "id": "24a652ed-1a10-4cc4-b168-c3031de8a9f9",
   "metadata": {},
   "source": [
    "We can create an object called w39 that represents the planet WASP-39 b. We then assign values to that object. We already know the temperature, radius, metallicity, and surface gravity of the host star, so we can assign those values to the parent star under w39.star. We also know the mass and radius of the planet, so we can assign those values to the planet under w39.gravity (named thus because mass and radius will be used to compute the planet's surface gravity). As we move through the tutorial and make climate models etc., we will be doing these calculations on the object w39."
   ]
  },
  {
   "cell_type": "code",
   "execution_count": null,
   "id": "4d6fde27",
   "metadata": {
    "id": "ce1ce8d8"
   },
   "outputs": [],
   "source": [
    "# Create that object or \"case\"\n",
    "w39 = jdi.inputs()\n",
    "\n",
    "# Describe the star \n",
    "w39.star(opa, temp=5400 , database='phoenix',\n",
    "         metal=0.01, logg=4.45, radius=0.9, radius_unit=jdi.u.R_sun )\n",
    "\n",
    "# Describe the planet\n",
    "w39.gravity(mass=0.28, mass_unit=jdi.u.M_jup,\n",
    "             radius=1.27, radius_unit=jdi.u.R_jup)\n"
   ]
  },
  {
   "cell_type": "code",
   "execution_count": null,
   "id": "ea1f2a52",
   "metadata": {
    "id": "8eaf1915"
   },
   "outputs": [],
   "source": [
    "# To get information about a function, you can use '?'\n",
    "help(w39.star)"
   ]
  },
  {
   "cell_type": "markdown",
   "id": "90575fdb",
   "metadata": {
    "id": "cbd735be"
   },
   "source": [
    "## Set Climate and Chemistry\n",
    "\n",
    "We now need to think about how we can model the climate and chemistry of this system. For the sake of this tutorial we will start really simple, then move forward to something more complex.\n",
    "\n",
    "**For climate**, we will explore these levels in this tutorial\n",
    "\n",
    "1. Isothermal (now)\n",
    "2. Radiative-convective (next section)\n",
    "\n",
    "**For chemistry**, we will explore these levels in this tutorial\n",
    "\n",
    "1. Chemical Equilibrium\n"
   ]
  },
  {
   "cell_type": "markdown",
   "id": "2ea68f82",
   "metadata": {
    "id": "ec4bd5a4-9dc7-498a-8db9-e7e3c392509b"
   },
   "source": [
    "### Pressure\n",
    "If we imagine our \"nlevels\" as equally spaced altitude bands on the planet, then we will assign pressures to decrease logarithmically as altitude increases.\n",
    "\n",
    "Gas is compressible and tends to behave in that way in planetary atmospheres (including on Earth)."
   ]
  },
  {
   "cell_type": "code",
   "execution_count": null,
   "id": "fe223bd9",
   "metadata": {
    "id": "774e33dc-80fd-4a99-9a2f-c8b611c301b9"
   },
   "outputs": [],
   "source": [
    "nlevels = 50\n",
    "# Logspace goes from base^(start) to base^(end)\n",
    "# so here we are going from 10^-6 to 10^2, which is\n",
    "# 1 microbar to 100 bars of pressure.\n",
    "# This is an arbitrarily chosen range, but this is the most common.\n",
    "pressure = np.logspace(-6,2,nlevels)"
   ]
  },
  {
   "cell_type": "code",
   "execution_count": null,
   "id": "cc0074a9-c377-4af7-9eee-a666cee177e0",
   "metadata": {},
   "outputs": [],
   "source": [
    "print(pressure)"
   ]
  },
  {
   "cell_type": "markdown",
   "id": "f42c9722",
   "metadata": {
    "id": "a1df5148-9cc7-49ff-b19e-3ffeb57d5750"
   },
   "source": [
    "### Isothermal Temperature"
   ]
  },
  {
   "cell_type": "markdown",
   "id": "cabf5b6c-23d6-4631-94c1-93a880a8f810",
   "metadata": {},
   "source": [
    "Next we need to decide how the temperature of the atmosphere varies with pressure. On Earth, temperature generally drops as you travel further from the Earth's surface, i.e. higher in altitude and lower in pressure. But that is not always the case. For simplicity, we'll start by assuming the temperature of WASP-39 b's atmosphere is constant with pressure, which is called \"isothermal.\" As our models get more sophisticated, we'll be able to refer back to this simple case."
   ]
  },
  {
   "cell_type": "code",
   "execution_count": null,
   "id": "9d59aabf",
   "metadata": {
    "id": "e57e4846-fe43-4731-8cf6-978672da70d2"
   },
   "outputs": [],
   "source": [
    "# We can see from exo.MAST that the equilibrium temp\n",
    "# of WASP 39 b is 1120 kelvin, so let's use a scale\n",
    "# of temperatures based on that.\n",
    "equilibrium_temperature = 1120.55\n",
    "isothermal_temperature = np.zeros(nlevels) + equilibrium_temperature"
   ]
  },
  {
   "cell_type": "code",
   "execution_count": null,
   "id": "15d261d3-12a6-43e0-9477-e2d315899c98",
   "metadata": {},
   "outputs": [],
   "source": [
    "print(isothermal_temperature)"
   ]
  },
  {
   "cell_type": "markdown",
   "id": "5bc65130",
   "metadata": {
    "id": "05e13ad1-1728-4dfb-9638-05b761608172"
   },
   "source": [
    "#### Setting the Atmosphere in PICASO"
   ]
  },
  {
   "cell_type": "markdown",
   "id": "c0d64772-28e8-4177-9dc9-de0fe3fc7d45",
   "metadata": {},
   "source": [
    "So far we have described the parent star and the planet. Now let's define the planet's atmosphere. Note, this is a common workflow, where you start by creating an object (w39) and then slowly add parameters (information) as you go."
   ]
  },
  {
   "cell_type": "code",
   "execution_count": null,
   "id": "c1e3b6d5",
   "metadata": {
    "id": "475d82ed-51c6-45c3-8f12-3d8472ee3ea2"
   },
   "outputs": [],
   "source": [
    "w39.atmosphere(df = jdi.pd.DataFrame({\n",
    "                'pressure':pressure,\n",
    "                'temperature':isothermal_temperature}))"
   ]
  },
  {
   "cell_type": "markdown",
   "id": "ff9661af",
   "metadata": {
    "id": "f5016fc9-1275-4a55-b9ec-adccceae4921"
   },
   "source": [
    "### Chemistry \n",
    "\n",
    "Now we need to add the chemistry! PICASO has a prebuilt chemistry table that was computed by Channon Visscher. You can use it by adding it to your input case. Two more chemistry parameters are now going to be introduced:\n",
    "\n",
    "1. M/H: Atmospheric metallicity\n",
    "2. C/O ratio: Elemental carbon to oxygen ratio\n"
   ]
  },
  {
   "cell_type": "markdown",
   "id": "b8b676ad",
   "metadata": {
    "id": "bb981137-ccbc-4f77-9cad-e7fb35d397ea"
   },
   "source": [
    "#### Metallicity\n",
    "\n",
    "<img src=\"https://stellarplanetorg.files.wordpress.com/2020/04/wakeforddalba2020_rs_mass_metallicity_v1.jpg?w=736\" width=\"800\">\n",
    "\n",
    "Looking at a mass-metallicity plot (compiled in [Wakeford & Dalba 2020](https://ui.adsabs.harvard.edu/abs/2020RSPTA.37800054W/abstract)) might offer a good starting point to decide what the M/H of your planet might be. Here we can see WASP-39 b HST observations led to the inference of ~100xM/H. One tactic might be to start from that estimate. Another might be to use the Solar System extrapolated value (gray dashed line) as a first pass. Let's start with the latter as a first guess."
   ]
  },
  {
   "cell_type": "code",
   "execution_count": null,
   "id": "64e1f577",
   "metadata": {
    "id": "9bc13061-939e-4cf5-b7fb-081e35d60100"
   },
   "outputs": [],
   "source": [
    "log_mh = 1.0 # log relative to solar\n",
    "# so a value of 1 here represents 10^1 = 10x solar"
   ]
  },
  {
   "cell_type": "markdown",
   "id": "765d14f2",
   "metadata": {
    "id": "12494d50-6908-4ee4-85c4-5ce31fd580ec"
   },
   "source": [
    "#### C/O Ratio\n",
    "\n",
    "The elemental ratio of carbon to oxygen controls the dominant carbon-bearing species. For instance, take a look at Figure 1 from the paper [C/O RATIO AS A DIMENSION FOR CHARACTERIZING EXOPLANETARY ATMOSPHERES](https://iopscience.iop.org/article/10.1088/0004-637X/758/1/36/pdf).\n",
    "\n",
    "At low C/O, we see CO$_2$ and CO as the dominant form of carbon, and at high C/O we see CH$_4$ and CO as the dominant form of carbon.\n",
    "\n",
    "C/O is given in PICASO in units relative to solar C/O, which is worth noting because you're not giving it the actual ratio of carbon to oxygen, but rather the ratio relative to the Solar C/O. Solar C/O is ~0.5 ([Asplund et al. 2021](https://ui.adsabs.harvard.edu/abs/2021A%26A...653A.141A/abstract)), and let's set our value to be the same as Solar (i.e. 1 relative to Solar)."
   ]
  },
  {
   "cell_type": "code",
   "execution_count": null,
   "id": "77c465a4",
   "metadata": {
    "id": "27069c4b-0a92-45f6-a21b-ed56682aef57"
   },
   "outputs": [],
   "source": [
    "c_o = 1 # relative to solar"
   ]
  },
  {
   "cell_type": "markdown",
   "id": "58175a9f",
   "metadata": {
    "id": "afc5200e-7afe-4366-bc8c-cb132951885c"
   },
   "source": [
    "Now we can ask PICASO to make us a mixture of molecules consistent with the relative M/H metallicity and relative C/O ratio we set up, and we can take a look at what it creates. We can look at the \"atmosphere profile\" which shows us the abundances of various molecules at different levels of our atmosphere (levels being places where temperature and pressure differ in the manner we defined above). \n",
    "\n",
    "This can help us find out which molecules we should really focus on during our analysis, and others that may be harder or redundant to look for based off of our C/O ratio and metallicity."
   ]
  },
  {
   "cell_type": "code",
   "execution_count": null,
   "id": "a3bab0ae",
   "metadata": {
    "id": "c618536e-3990-48b0-bb7e-516d1ab83223"
   },
   "outputs": [],
   "source": [
    "w39.chemeq_visscher(c_o, log_mh)"
   ]
  },
  {
   "cell_type": "markdown",
   "id": "83fa1205",
   "metadata": {
    "id": "80b1b45d-eb0a-4373-8f83-165807d47e92"
   },
   "source": [
    "Running this function sets a dataframe in your inputs dictionary, which you can access now with `w39.inputs['atmosphere']['profile']`. You can see that PICASO has given us loads of different molecules to work with, but many have miniscule abundances (note some e-38 values in there)."
   ]
  },
  {
   "cell_type": "code",
   "execution_count": null,
   "id": "b23321af-7895-43f6-bc33-8433137acd80",
   "metadata": {},
   "outputs": [],
   "source": [
    "w39.inputs['atmosphere']['profile'].head()"
   ]
  },
  {
   "cell_type": "markdown",
   "id": "f908fef0",
   "metadata": {
    "id": "98aeb8fc-4b53-4457-870a-a899affc9a9c"
   },
   "source": [
    "### Reference Pressure\n",
    "\n",
    "Lastly, we need to decide on a \"reference pressure.\" If our planet was terrestrial, this would be the pressure at the surface, and therefore also the pressure corresponding to the radius of the planet. For gas giants like WASP-39 b, this is a bit more complicated -- there is no \"surface,\" so we need to pick a pressure that corresponds to our planet's \"radius\" or surface, so that PICASO can calculate gravity as a function of altitude from that level.\n",
    "\n",
    "We are selecting a pressure that we are essentially calling the bottom.\n",
    "\n",
    "As we've discussed, a planet's radius changes depending on the wavelength at which you observe it -- it's that change that we are measuring with our spectra. But when we input the planet radius above, we picked a single number -- 1.27 `r_jup`. That number is an average calculated over a band of wavelengths. And so when we pick a reference pressure, we estimate roughly what level of the planet's atmosphere that averaged radius corresponds to (where, from the high pressure deep inside, to the low pressure at the exterior, does the chosen radius fall?).\n",
    "\n",
    "PICASO suggests a reference pressure of 10 bar for gas giants, so we will start with that:"
   ]
  },
  {
   "cell_type": "code",
   "execution_count": null,
   "id": "9485d04a",
   "metadata": {
    "id": "7a1b1cc7-37ef-4960-8512-f4d77f326fd4"
   },
   "outputs": [],
   "source": [
    "w39.approx(p_reference=10)"
   ]
  },
  {
   "cell_type": "markdown",
   "id": "ff42808a",
   "metadata": {
    "id": "969c933b"
   },
   "source": [
    "### Want to check your inputs so far?\n",
    "\n",
    "If you want you can consult `w39.inputs` to check or reset inputs. Let's see how our WASP-39 b object is holding up!"
   ]
  },
  {
   "cell_type": "code",
   "execution_count": null,
   "id": "4144b771",
   "metadata": {
    "id": "3dc8c591"
   },
   "outputs": [],
   "source": [
    "w39.inputs.keys()"
   ]
  },
  {
   "cell_type": "markdown",
   "id": "5447d7d3-f3ec-4c13-a609-67389021c46e",
   "metadata": {},
   "source": [
    "An atmosphere profile table shows the elemental abundances at each pressure level in our model atmosphere."
   ]
  },
  {
   "cell_type": "code",
   "execution_count": null,
   "id": "43e30bc4",
   "metadata": {
    "id": "7be17b68"
   },
   "outputs": [],
   "source": [
    "w39.inputs['atmosphere']['profile'].head()"
   ]
  },
  {
   "cell_type": "markdown",
   "id": "32d01a5b-09a0-4e4b-8ea6-e259676ab7f2",
   "metadata": {},
   "source": [
    "We can look at the abundances for a single molecule, say CO$_2$."
   ]
  },
  {
   "cell_type": "code",
   "execution_count": null,
   "id": "77294f7a",
   "metadata": {
    "id": "d62cbd84"
   },
   "outputs": [],
   "source": [
    "# Grab CO2 array, for instance\n",
    "w39.inputs['atmosphere']['profile']['CO2'].values "
   ]
  },
  {
   "cell_type": "markdown",
   "id": "1e0a4413-07ce-418d-b7be-76dbf72d720c",
   "metadata": {},
   "source": [
    "We can check our inputs for the planet and the host star."
   ]
  },
  {
   "cell_type": "code",
   "execution_count": null,
   "id": "d57ddf1b",
   "metadata": {
    "id": "61388471"
   },
   "outputs": [],
   "source": [
    "w39.inputs['planet'], w39.inputs['star'] # All your inputs have been archived!"
   ]
  },
  {
   "cell_type": "markdown",
   "id": "eaa953d0",
   "metadata": {
    "id": "4ed9002e-85a3-4b3b-a20f-2750e7004847"
   },
   "source": [
    "# Creating a Transmission Spectrum\n",
    "\n",
    "Now that we have set up PICASO with everything it needs, and we understand the components needed to model an exoplanet, let's ask PICASO to output a transmission spectrum for our WASP-39 b.\n",
    "\n",
    "## First Run PICASO\n",
    "\n",
    "We can use the <code>.spectrum</code> function to do so.\n",
    "\n",
    "We need to give the function a connection to the opacity database we used earlier to look up the absorption spectrum for water, as well as an instruction to create a \"transmission\" spectrum (as opposed to, for example, a reflected light spectrum of star light bouncing off the planet when it's almost behind its star)."
   ]
  },
  {
   "cell_type": "code",
   "execution_count": null,
   "id": "c09154ef",
   "metadata": {
    "id": "bcf63c09-64b4-4122-b56e-24445bb489ce"
   },
   "outputs": [],
   "source": [
    "model_iso = w39.spectrum(opa,\n",
    "                       # Other options are \"thermal\" or \"reflected\"\n",
    "                       # or a combination of two e.g. \"transmission+thermal\"\n",
    "                       calculation='transmission',\n",
    "                       full_output=True)"
   ]
  },
  {
   "cell_type": "markdown",
   "id": "0e26ff7f",
   "metadata": {
    "id": "ba6bba7f-3eb9-4a8a-8c5c-e88c7c371f7d"
   },
   "source": [
    "## Our Spectra\n",
    "\n",
    "Let's set up a function to display the spectrum in our first output dictionary (first one is called `model_iso`). Moving forward  we will create more models and we want a way to easily display them."
   ]
  },
  {
   "cell_type": "code",
   "execution_count": null,
   "id": "01116265",
   "metadata": {
    "id": "42dd80a1-e613-4038-a71a-f16b76c9cf11"
   },
   "outputs": [],
   "source": [
    "def show_spectra(output, x_range_min=3.0, x_range_max=5.5):\n",
    "    # Step 1) Regrid model to be on the same x axis as the data\n",
    "    wnos, transit_depth = jdi.mean_regrid(output['wavenumber'],\n",
    "                                         output['transit_depth'],\n",
    "                                         newx=sorted(1e4/observed_data['wavelength']))\n",
    "\n",
    "    # Step 2) Use PICASO function to create a plot with the models\n",
    "    fig = jpi.spectrum(wnos, transit_depth,\n",
    "                       plot_width=800,y_axis_label='Absolute (Rp/Rs)^2',\n",
    "                       x_range=(x_range_min,x_range_max))\n",
    "\n",
    "    # Step 3) Use PICASO function to add the data so we can compare\n",
    "    jpi.plot_multierror(observed_data['wavelength'], observed_data['tr_depth'], fig,\n",
    "                        dy_low=observed_data['tr_depth_errneg'], dy_up=observed_data['tr_depth_errpos'],\n",
    "                        dx_low=[0],dx_up=[0], point_kwargs={'color':'black'})\n",
    "    jpi.show(fig)"
   ]
  },
  {
   "cell_type": "code",
   "execution_count": null,
   "id": "f1e1a178",
   "metadata": {
    "id": "fe9cb93d-69af-4436-ac40-77c1b5e358df"
   },
   "outputs": [],
   "source": [
    "# Display our first spectrum!\n",
    "show_spectra(model_iso)"
   ]
  },
  {
   "cell_type": "markdown",
   "id": "87f69b97-349a-4726-b108-7e55f48be890",
   "metadata": {},
   "source": [
    "Sweet! We have a spectrum that looks the right-ish shape, even though it isn't quite in the right place. Let's take a minute to work that out."
   ]
  },
  {
   "cell_type": "markdown",
   "id": "3a4af5f9",
   "metadata": {
    "id": "bd05513b-9193-4e3c-b39e-74a8c877d446"
   },
   "source": [
    "### Transit Depth Offsets\n",
    "\n",
    "Remember how we guessed what the reference pressure was? Well, it looks like we are a little off. That is okay! When fitting for transit spectra, we introduce a factor to account for this. In the retrieval tutorial, you will fit for a factor of the radius. For now, let's \"mean subtract\" our data so that the model and data lie on top of one another."
   ]
  },
  {
   "cell_type": "code",
   "execution_count": null,
   "id": "f4a7d462",
   "metadata": {
    "id": "ea7f587f"
   },
   "outputs": [],
   "source": [
    "# Let's mean subtract these\n",
    "def show_spectra(output, x_range_min=3.0, x_range_max=5.5):\n",
    "    # Step 1) Regrid model to be on the same x axis as the data\n",
    "    wnos, transit_depth = jdi.mean_regrid(output['wavenumber'],\n",
    "                                         output['transit_depth'],\n",
    "                                         newx=sorted(1e4/observed_data['wavelength']))\n",
    "\n",
    "    # Step 2) Use PICASO function to create a plot with the models\n",
    "    fig = jpi.spectrum(wnos, transit_depth-np.mean(transit_depth),\n",
    "                       plot_width=800, y_axis_label='Relative (Rp/Rs)^2',\n",
    "                       x_range=(x_range_min,x_range_max))\n",
    "\n",
    "    # Step 3) Use PICASO function to add the data so we can compare\n",
    "    jpi.plot_multierror(observed_data['wavelength'],\n",
    "                        observed_data['tr_depth'] - np.mean(observed_data['tr_depth']),\n",
    "                        fig,\n",
    "                        dy_low=observed_data['tr_depth_errneg'], dy_up=observed_data['tr_depth_errpos'],\n",
    "                        dx_low=[0],dx_up=[0], point_kwargs={'color':'black'})\n",
    "    jpi.show(fig)"
   ]
  },
  {
   "cell_type": "code",
   "execution_count": null,
   "id": "2746c2bd",
   "metadata": {
    "id": "d8525969-4251-4c5b-8bf9-17a71c3e8116"
   },
   "outputs": [],
   "source": [
    "show_spectra(model_iso)"
   ]
  },
  {
   "cell_type": "markdown",
   "id": "a6a2ef8c",
   "metadata": {
    "id": "56c298ba"
   },
   "source": [
    "## Model Investigation\n",
    "\n",
    "Before trying to improve the complexity of your model, let's make sure you know how to analyze the inputs.\n",
    "\n",
    "### Identifying molecular features with optical depth contribution plot\n",
    "\n",
    "`taus_per_layer` - Each dictionary entry is a nlayer x nwave that represents the per layer optical depth for that molecule.\n",
    "\n",
    "`cumsum_taus` - Each dictionary entry is a nlevel x nwave that represents the cumulative summed opacity for that molecule.\n",
    "\n",
    "`tau_p_surface` - Each dictionary entry is a nwave array that represents the pressure level where the cumulative opacity reaches the value specified by the user through at_tau.\n",
    "\n"
   ]
  },
  {
   "cell_type": "markdown",
   "id": "189c7307-e7a6-4616-9c30-15e3eb1b426f",
   "metadata": {},
   "source": [
    "Let's create a molecule contribution plot. At any given wavelength, this will show us at which pressure layer (`tau_p_surface`) each molecule experiences an optical depth of $\\tau$. Below, we will set $\\tau = 1$. This is useful because whenever we see a spectral feature, that light is originating from a depth in the atmosphere corresponding to the $\\tau=1$ surface for that molecule."
   ]
  },
  {
   "cell_type": "code",
   "execution_count": null,
   "id": "5ca9f657",
   "metadata": {
    "id": "0c06856a"
   },
   "outputs": [],
   "source": [
    "molecule_contribution = jdi.get_contribution(w39, opa, at_tau=1)"
   ]
  },
  {
   "cell_type": "code",
   "execution_count": null,
   "id": "856b10eb",
   "metadata": {
    "id": "4639440f"
   },
   "outputs": [],
   "source": [
    "jpi.show(jpi.molecule_contribution(molecule_contribution,\n",
    "                                   opa, plot_width=700, x_axis_type='log'))"
   ]
  },
  {
   "cell_type": "markdown",
   "id": "2cd075a2",
   "metadata": {
    "id": "8d9d34fc"
   },
   "source": [
    "### Identifying molecular features with \"leave-one-out\" method\n",
    "\n",
    "Another option for investigating model output is to remove the contribution of one gas from the model to see if it affects our spectrum. CO$_2$ was a fairly obvious feature for the 4.3$\\mu$m. But what about H$_2$O and CO from 4.4-6$\\mu$m. In this region there is no distinct \"feature\" in the spectrum. How sure are we that H$_2$O and CO are really there? We can use the \"leave-one-out\" method to see how individual molecules are shaping each part of our spectrum.\n",
    "\n",
    "We can use PICASO's `exclude_mol` key to exclude the optical contribution from one molecule at a time. In the code below lets do this for CO2, H2O, and CO. We will loop through one by one and create a spectra without each of these. The result will show you where their contribution to the spectra is most important. "
   ]
  },
  {
   "cell_type": "code",
   "execution_count": null,
   "id": "31d1ef5a",
   "metadata": {
    "id": "a457832c"
   },
   "outputs": [],
   "source": [
    "w,f,l =[],[],[]\n",
    "df_og = jdi.copy.deepcopy(w39.inputs['atmosphere']['profile'])\n",
    "for iex in ['CO2','H2O','CO',None]:\n",
    "    w39.atmosphere(df=df_og,exclude_mol=iex, delim_whitespace=True)\n",
    "    df= w39.spectrum(opa, full_output=True,calculation='transmission') #note the new last key\n",
    "    wno, rprs2  = df['wavenumber'] , df['transit_depth']\n",
    "    wno, rprs2 = jdi.mean_regrid(wno, rprs2, R=150)\n",
    "    w +=[wno]\n",
    "    f +=[rprs2]\n",
    "    if iex==None:\n",
    "        leg='all'\n",
    "    else:\n",
    "        leg = f'No {iex}'\n",
    "    l+=[leg]\n",
    "jpi.show(jpi.spectrum(w,f,legend=l))"
   ]
  },
  {
   "cell_type": "markdown",
   "id": "cd444c9a",
   "metadata": {},
   "source": [
    "We can see clearly that when H$_2$O or CO$_2$ is not present, a completely different spectrum is created that veers far from our model. Therefore we can feel confident that H$_2$O or CO$_2$ are truly present. When we try leaving out CO, however, the spectrum changes more modestly; it appears that including CO improves the spectrum somewhat, but we are less certain about its presence. "
   ]
  },
  {
   "cell_type": "markdown",
   "id": "6485db5e",
   "metadata": {
    "id": "b1aab798-3d33-4582-9952-94e45e686474"
   },
   "source": [
    "# Increasing Model Complexity to Improve Fit: Chemistry, Climate, Clouds\n",
    "\n",
    "In the next sections we will try to improve our model fit. However, before we continue we need a way to quantify our \"goodness of fit.\""
   ]
  },
  {
   "cell_type": "markdown",
   "id": "f4b043f3",
   "metadata": {
    "id": "8dbbe171-a38f-4bee-8b59-93e3108d6ca4"
   },
   "source": [
    "## Define Goodness of Fit\n",
    "\n",
    "Let's implement a simple measurement of error called a \"chi-squared test.\" This is a commonly used method to measure how well you are fitting data with a model, and sums up the distance between your model's output and the observed data at each data point.\n",
    "\n",
    "The standard chi-squared test formula is $\\chi^2 = \\sum \\frac{(O_i - E_i)^2}{(\\sigma_i)^2}$ where $O$ is the observed data, $E$ is the expected value (i.e. our model), and $\\sigma$ is error.\n",
    "\n",
    "In this notebook, we'll compute chi-squared *per data point*, which means we are normalizing the standard chi-square by dividing by number of data points. The chi-squared per data point formula is $\\frac{\\chi^2}{N}$ where $N$ is the number of data points. \n",
    "\n",
    "Note, another common way to report chi-squared is the *reduced* chi-squared which considers the degrees of freedom $(\\nu)$, where $\\nu$ is the number of data points ($N$) minus the number of fitted parameters.\n",
    "\n",
    "Regardless of the version of chi-squared you use, if the result is close to 1, that is considered a good fit."
   ]
  },
  {
   "cell_type": "code",
   "execution_count": null,
   "id": "41a9e96f",
   "metadata": {
    "id": "9054e287-dcbb-45c6-a21c-db2fcd9828ce"
   },
   "outputs": [],
   "source": [
    "def chisqr(model):\n",
    "    # Step 1) Regrid model to be on the same x axis as the data\n",
    "    wnos, model_binned = jdi.mean_regrid(model['wavenumber'],\n",
    "                                         model['transit_depth'],\n",
    "                                         newx=sorted(1e4/observed_data['wavelength']))\n",
    "    # Step 2) Flip model so that it is increasing with wavelength, not wavenumber\n",
    "    model_binned = model_binned[::-1]-np.mean(model_binned)\n",
    "\n",
    "    # Step 3) Compute chi sq with mean subtraction\n",
    "    observed = observed_data['tr_depth'] - np.mean(observed_data['tr_depth'])\n",
    "    error = (observed_data['tr_depth_errneg'] + observed_data['tr_depth_errpos'])/2\n",
    "    return np.sum(((observed-model_binned)/error)**2 ) / len(model_binned)"
   ]
  },
  {
   "cell_type": "code",
   "execution_count": null,
   "id": "98e89633",
   "metadata": {
    "id": "76d4f75c"
   },
   "outputs": [],
   "source": [
    "print('Simple First Guess', chisqr(model_iso))"
   ]
  },
  {
   "cell_type": "markdown",
   "id": "08c16abf",
   "metadata": {
    "id": "72a5a724"
   },
   "source": [
    "Not great! Let's make it better."
   ]
  },
  {
   "cell_type": "markdown",
   "id": "7674cc82",
   "metadata": {
    "id": "1fb463d1"
   },
   "source": [
    "## Revisiting Chemistry Assumption\n",
    "\n",
    "Earlier, we assumed M/H and C/O values. Let's loop through a few M/H and C/O values to see if any of these seem to improve our model fit. Why? These values are faster to assess than climate or clouds, and they're easier to loop through while you're building intuition. We want to find the best fit combination of variables such as C/O and M/H that will gives us the closest fit to the data."
   ]
  },
  {
   "cell_type": "code",
   "execution_count": null,
   "id": "02f8943b",
   "metadata": {
    "id": "ae270058"
   },
   "outputs": [],
   "source": [
    "mh_grid_vals = [1, 10, 100]\n",
    "co_grid_vals = [1, 2.5]\n",
    "\n",
    "chemistry_grid = {}\n",
    "for imh in mh_grid_vals:\n",
    "    for ico in co_grid_vals:\n",
    "        w39.chemeq_visscher(ico, np.log10(imh))\n",
    "        chemistry_grid[f'M/H={imh},C/O={ico}'] = w39.spectrum(opa, calculation='transmission', full_output=True)\n",
    "        print(f'M/H={imh},C/O={ico}', chisqr(chemistry_grid[f'M/H={imh},C/O={ico}'] ))"
   ]
  },
  {
   "cell_type": "markdown",
   "id": "935914c7",
   "metadata": {},
   "source": [
    "We see with a M/H of 100 and C/O of 1, we get the best fit where the chi-squared is ~4. Let's plot all these and visually confirm."
   ]
  },
  {
   "cell_type": "code",
   "execution_count": null,
   "id": "5c0c64a8",
   "metadata": {
    "id": "0f5bf193"
   },
   "outputs": [],
   "source": [
    "# Let's edit our function once again to allow for multiple model inputs\n",
    "def show_spectra(output, x_range_min=3.0, x_range_max=5.5):\n",
    "    #Step 1) Regrid model to be on the same x axis as the data\n",
    "    wnos, transit_depth = zip(*[jdi.mean_regrid(output[x]['wavenumber'], output[x]['transit_depth'],\n",
    "                        newx=sorted(1e4/observed_data['wavelength']))\n",
    "                        for x in output])\n",
    "    transit_depth = [x-np.min(x) for x in transit_depth]\n",
    "    wnos = [x for x in wnos]\n",
    "    legends = [i for i in output]\n",
    "\n",
    "    # Step 2) Use picaso function to create a plot with the models\n",
    "    fig = jpi.spectrum(wnos, transit_depth, legend=legends,\n",
    "                       plot_width=800,y_axis_label='Relative (Rp/Rs)^2',\n",
    "                       x_range=(x_range_min,x_range_max))\n",
    "\n",
    "    # Step 3) Use picaso function to add the data so we can compare\n",
    "    jpi.plot_multierror(observed_data['wavelength'],\n",
    "                        observed_data['tr_depth'] - np.min(observed_data['tr_depth']),\n",
    "                        fig,\n",
    "                        dy_low=observed_data['tr_depth_errneg'], dy_up=observed_data['tr_depth_errpos'],\n",
    "                        dx_low=[0], dx_up=[0], point_kwargs={'color':'black'})\n",
    "    jpi.show(fig)"
   ]
  },
  {
   "cell_type": "code",
   "execution_count": null,
   "id": "cbb34338",
   "metadata": {
    "id": "25737413"
   },
   "outputs": [],
   "source": [
    "show_spectra(chemistry_grid)"
   ]
  },
  {
   "cell_type": "markdown",
   "id": "de674027-3b0f-474e-bf6d-23f58d3ef3a3",
   "metadata": {},
   "source": [
    "### Check your understanding\n",
    "\n",
    "\n",
    "Let's investigate how our chemistry choices affect our model spectrum. Explore the figure above by clicking on the legend to remove different lines.\n",
    "\n",
    "1. Try looking only at lines that keep C/O steady while varying M/H from 1 to 10 to 100. What impact does the change in M/H ratio have on the spectrum? \n",
    "\n",
    "2. You'll notice that as M/H increases, the CO$_2$ bump near 4.4 $\\mu$m initially grows and then shrinks. Why might this be?\n",
    "\n",
    "3. Now look at lines that keep M/H steady while varying C/O from 1 to 2.5. What impact does this change in C/O ratio have on the spectrum?\n",
    "\n",
    "4. You'll notice that as C/O increases, the CO$_2$ bump near 4.4 $\\mu$m disappears while a new CH$_4$ line appears near 3.35 $\\mu$m. Why might this be?\n",
    "\n",
    "Some more targetted questions to help with the above:\n",
    "\n",
    "1. Figure out what the top 4 most abundant oxygen- and carbon-bearing species are by looking at your chemistry grid.\n",
    "2. How does their abundance change when you vary the value of M/H?\n",
    "3. How does their abundance change when we increase C/O from 1 to 2.5?\n",
    "4. How does mean the atmosphere's molecular weight change when you vary M/H?\n",
    "5. Can you see that reflected in the spectrum?\n"
   ]
  },
  {
   "cell_type": "markdown",
   "id": "ef70c27e-cec1-4ddc-a368-1f7a3ab98db7",
   "metadata": {},
   "source": [
    "<div class=\"alert alert-block alert-info\">\n",
    "Solution 1: Figure out what the top 4 most abundant oxygen- and carbon-bearing species are by looking at your chemistry grid.\n",
    "</div>\n",
    "\n",
    "Let's write a simple function to find the most abundance O and C bearing species"
   ]
  },
  {
   "cell_type": "code",
   "execution_count": null,
   "id": "3d0e368b-f7eb-43ac-afd7-8a4bded789b8",
   "metadata": {},
   "outputs": [],
   "source": [
    "# Write a simple function to identify the top most abundant species\n",
    "\n",
    "def find_top(grid, mh=1, co=1, n=4, method='average', more=False):\n",
    "    \"\"\"\n",
    "    Find the n most abundant oxygen- and carbon-bearing molecules for a given M/H and C/O ratio.\n",
    "    \n",
    "    Parameters\n",
    "    ----------\n",
    "    grid: dict\n",
    "        chemistry grid\"\n",
    "    mh : int (optional)\n",
    "        M/H ratio relative to Solar\n",
    "    co : int (optional)\n",
    "        C/O ratio relative to Solar\n",
    "    n : int (optional)\n",
    "        number of molecules you want to identify\n",
    "    method : str (optional)\n",
    "        how you will calculate the abundance of a given species; options are 'sum', 'average', 'median'\n",
    "    more : boolean (optional)\n",
    "        if True, will print results of each step\n",
    "        \n",
    "    Returns\n",
    "    -------\n",
    "    top_dict\n",
    "        dictionary of the most abundant C- and O-bearing molecules and their total abundances\n",
    "    \"\"\"\n",
    "\n",
    "    # What are all the available species? (elements start in fourth column)\n",
    "    cols = grid[f'M/H={mh},C/O={co}']['full_output']['layer']['mixingratios'].columns.tolist()[3::]\n",
    "    if more == True:\n",
    "        print(\"All available species:\\n\", cols, \"\\n\")\n",
    "    \n",
    "    # Grab only the carbon- and/or oxygen-bearing molecules\n",
    "    filtered_cols = [mol for mol in cols if ('C' in mol or 'O' in mol) and 'Cs' not in mol]\n",
    "    if more == True:\n",
    "        print(\"Carbon- and/or oxygen-bearing molecules:\\n\", filtered_cols, \"\\n\")\n",
    "    \n",
    "    # Choose a value to represent the abundance for each molecule\n",
    "    tot_abun = {}\n",
    "    for mol in filtered_cols:\n",
    "        if method == 'sum': # Sum the abundance across all pressure layers\n",
    "            tot_abun[mol] = np.sum(grid[f'M/H={mh},C/O={co}']['full_output']['layer']['mixingratios'][mol].values)\n",
    "        elif method == 'average': # Choose the average abundance value\n",
    "            tot_abun[mol] = np.average(grid[f'M/H={mh},C/O={co}']['full_output']['layer']['mixingratios'][mol].values)\n",
    "        elif method == 'median': # Choose the median abundance value\n",
    "            tot_abun[mol] = np.median(grid[f'M/H={mh},C/O={co}']['full_output']['layer']['mixingratios'][mol].values)\n",
    "    if more == True:\n",
    "        print(\"Total abundances:\\n\", tot_abun, \"\\n\")\n",
    "    \n",
    "    # What are the 4 highest abundances?\n",
    "    top = sorted(tot_abun, key=tot_abun.get, reverse=True)[:n]\n",
    "    top_dict = {k: tot_abun[k] for k in top}\n",
    "    if more == True:\n",
    "        print(f\"Top {n} carbon- and/or oxygen-bearing molecules:\\n\", top)\n",
    "    \n",
    "    return top_dict\n",
    "\n",
    "# Uncomment to test\n",
    "find_top(chemistry_grid, method='average', more=True)"
   ]
  },
  {
   "cell_type": "markdown",
   "id": "b427a2c1-80eb-4e10-a5c6-c93e2b1f0aa4",
   "metadata": {},
   "source": [
    "<div class=\"alert alert-block alert-info\">\n",
    "Solution 2: How do abundances change when varying M/H?\n",
    "</div>"
   ]
  },
  {
   "cell_type": "code",
   "execution_count": null,
   "id": "c2cc3f66-cee2-4e39-a228-0c57738dc124",
   "metadata": {},
   "outputs": [],
   "source": [
    "# Visualize how the abundance of each molecule changes as M/H increases\n",
    "\n",
    "# Initialize an empty dictionary to store abundances\n",
    "abundances = {}\n",
    "\n",
    "# Loop through the M/H grid values\n",
    "for i, mh in enumerate(mh_grid_vals):\n",
    "    # Calculate total abundance of top 4 molecules for a given M/H value\n",
    "    top_dict = find_top(chemistry_grid, mh=mh, co=1, n=5, method='sum')\n",
    "    print(f'M/H={mh}, C/O=1:', top_dict)\n",
    "    \n",
    "    # Add molecule abundances dynamically and insert at the correct position\n",
    "    for molecule, abundance in top_dict.items():\n",
    "        if molecule not in abundances:\n",
    "            abundances[molecule] = [None] * len(mh_grid_vals)  # Initialize the list with None\n",
    "        abundances[molecule][i] = abundance  # Insert the abundance at the correct index\n",
    "\n",
    "# Plot abundance vs. M/H for top 4 molecules\n",
    "plt.figure(figsize=(8, 4), dpi=100)\n",
    "for molecule in abundances:\n",
    "    plt.plot(mh_grid_vals, abundances[molecule], marker='o', label=molecule)\n",
    "plt.yscale('log')\n",
    "plt.xscale('log')\n",
    "plt.xlabel('M/H (xSolar)')\n",
    "plt.ylabel('Total Abundance')\n",
    "plt.legend()\n",
    "plt.show()"
   ]
  },
  {
   "cell_type": "markdown",
   "id": "b1217d26-7da5-4d89-8d32-4fe5bb199fd2",
   "metadata": {},
   "source": [
    "<div class=\"alert alert-block alert-info\">\n",
    "We see that most species increase in abundance as metallicity increases, and they do so at different rates.\n",
    "</div>"
   ]
  },
  {
   "cell_type": "markdown",
   "id": "2184076a-fd2e-4f59-971b-b7d1d1fda2e1",
   "metadata": {},
   "source": [
    "<div class=\"alert alert-block alert-info\">\n",
    "Solution 3: How do abundances change when varying C/O?\n",
    "</div>"
   ]
  },
  {
   "cell_type": "code",
   "execution_count": null,
   "id": "6d0e4606-e89e-4c67-9c71-a7ccb0eb719d",
   "metadata": {},
   "outputs": [],
   "source": [
    "# Visualize how the abundance of each molecule changes as C/O increases\n",
    "\n",
    "# Initialize an empty dictionary to store abundances\n",
    "abundances = {}\n",
    "\n",
    "# Loop through the C/O grid values\n",
    "for i, co in enumerate(co_grid_vals):\n",
    "    # Calculate total abundance of top 4 molecules for a given C/O value\n",
    "    top_dict = find_top(chemistry_grid, mh=1, co=co, method='sum')\n",
    "    print(f'M/H=1, C/O={co}:', top_dict)\n",
    "    \n",
    "    # Add molecule abundances dynamically and insert at the correct position\n",
    "    for molecule, abundance in top_dict.items():\n",
    "        if molecule not in abundances:\n",
    "            abundances[molecule] = [None] * len(co_grid_vals)  # Initialize the list with None\n",
    "        abundances[molecule][i] = abundance  # Insert the abundance at the correct index\n",
    "\n",
    "# Plot abundance vs. C/O for top 4 molecules\n",
    "plt.figure(figsize=(8, 4), dpi=100)\n",
    "for molecule in abundances:\n",
    "    plt.plot(co_grid_vals, abundances[molecule], marker='o', label=molecule)\n",
    "plt.xlabel(\"C/O (xSolar)\")\n",
    "plt.ylabel(\"Total Abundance\")\n",
    "plt.legend()\n",
    "plt.show()"
   ]
  },
  {
   "cell_type": "markdown",
   "id": "e18306a7-f29b-41fe-b997-19abd8668f11",
   "metadata": {},
   "source": [
    "<div class=\"alert alert-block alert-info\">\n",
    "We see that as the ratio of carbon to oxygen increases, the abundance of carbon-bearing species (CH$_4$ and CO) grows while the abundance of H$_2$O declines.\n",
    "</div>"
   ]
  },
  {
   "cell_type": "markdown",
   "id": "bb16d7da-015e-4377-b66e-6e939f031b7a",
   "metadata": {},
   "source": [
    "<div class=\"alert alert-block alert-info\">\n",
    "Solution 4: How does mean molecular weight vary with M/H?\n",
    "</div>"
   ]
  },
  {
   "cell_type": "code",
   "execution_count": null,
   "id": "f35047ea-f989-4766-a927-fe1fdd18cc71",
   "metadata": {},
   "outputs": [],
   "source": [
    "# Visualize how mean molecular weight changes with M/H\n",
    "\n",
    "# Get the average mean molecular weight of the atmosphere at each M/H value\n",
    "mmws = []\n",
    "for mh in mh_grid_vals:\n",
    "    mmws.append(np.mean(chemistry_grid[f'M/H={mh},C/O=1']['full_output']['layer']['mmw']))\n",
    "\n",
    "# Plot how the mean molecular weight of each molecules changes with M/H\n",
    "plt.figure(figsize=(8, 4), dpi=100)\n",
    "plt.plot(mh_grid_vals, mmws, marker='o')\n",
    "#plt.xscale('log')\n",
    "plt.xlabel('M/H (xSolar)')\n",
    "plt.ylabel('Mean $\\\\mu$')\n",
    "plt.show()"
   ]
  },
  {
   "cell_type": "markdown",
   "id": "10c67eff-9859-4a41-8a20-d787a2ecac35",
   "metadata": {},
   "source": [
    "<div class=\"alert alert-block alert-info\">\n",
    "We see that mean molecular weight increases linearly as M/H increases.\n",
    "</div>"
   ]
  },
  {
   "cell_type": "markdown",
   "id": "1c9bec5d-7438-4734-af68-e0b234502a65",
   "metadata": {},
   "source": [
    "<div class=\"alert alert-block alert-info\">\n",
    "Step 5: Can you see this reflected in the spectrum?\n",
    "<br>\n",
    "<br>\n",
    "What impact does the change in M/H ratio have on the spectrum? \n",
    "    \n",
    "<details>\n",
    "  <summary><b>Click to expand solution</b></summary>\n",
    "<i>Why a feature might grow:</i> The strength of a spectral feature is impacted by a molecule's abundance. When we increase atmospheric metallicity, we are increasing the raw abundance of all elements heavier than hydrogen. Complicated chemical processes ensue, resulting in a new distribution of molecules constructed from those raw elements. Some molecules (e.g., CO$_2$) are more sensitive to changes in metallicity than others (e.g., H$_2$O), so although the abundance of all molecules will increase as metallicity increases, they will do so at different rates.\n",
    "<br><br>\n",
    "<i>Why a feature might shrink:</i> The strength of all spectral features is tied to the scale height of the atmosphere. Scale height is proportional to temperature and inversely proportional to mean molecular weight ($\\mu$). If the atmosphere is heavier (i.e., bigger M/H, bigger $\\mu$), its scale height will decrease (i.e. it will cling closer to the planet), and consequently all absorption features will decrease in amplitude.\n",
    "<br><br>\n",
    "The overall strength of any feature is related both to the molecule's abundance (which is increasing as M/H increases) and the atmosphere's scale height (which is decreasing as M/H increases).\n",
    "<br><br>\n",
    "<i>What's going on with CO$_2$ while M/H changes (at low C/O):</i> When C/O was held constant at a low value of 1, and M/H was varied from 1 to 10 to 100, we saw the CO$_2$ feature at 4.4 $\\mu$m increased then decreased. We might infer that it crossed a certain critical M/H threshold, at which point the damping impact of the decreasing scale height overpowered the amplifying impact of the rising abundance.\n",
    "<br><br>\n",
    "<i>What's going on with CH$_4$ while M/H changes (at high C/O):</i> When C/O was held constant at a high value of 2.5, and M/H was varied from 1 to 10 to 100, we saw the CH$_4$ feature (embedded within H$_2$O continuum) near 3.35 $\\mu$m shrink smaller and smaller. Our explorations showed that H$_2$O and CH$_4$ both increase in abundance at the same rate when M/H is increased, thus their features <i>relative to one another</i> should not change as M/H changes. However, as M/H increases, so does the mean molecular weight, and thus the scale height shrinks, causing all features to be damped. This damping explains why the CH$_4$ feature and the surrounding H$_2$O background both diminish in tandem as M/H grows.\n",
    "</details>\n",
    "    \n",
    "<br>\n",
    "What impact does the change in C/O ratio have on the spectrum?\n",
    "<details>\n",
    "  <summary><b>Click to expand  solution</b></summary>\n",
    "As noted above, we saw different spectral features at low vs. high C/O. We noticed when C/O is low that there is a prominent CO$_2$ feature, whereas when C/O is high we see a prominent CH$_4$ feature. As the C/O ratio increases, there is proportionally more carbon in the atmosphere, facilitating reactions that alter the relative abundance of various carbon-bearing species. One of the most important reactions that takes place is CO$_2$ + H$_2$ $\\rightarrow$ CH$_4$ + H$_2$O. Generally, when C/O increases from $<$ to $>$ 2 x Solar, you go from a carbon dioxide dominated system to one dominated by methane.\n",
    "\n",
    "</details>\n",
    "</div>"
   ]
  },
  {
   "cell_type": "markdown",
   "id": "2d4d3203",
   "metadata": {
    "id": "dd746bf8-c73e-4406-ae58-1b5286723437"
   },
   "source": [
    "## Revisiting Climate Assumption\n",
    "\n",
    "1D Radiative-Convective Equilibrium Models solve for atmospheric structures of brown dwarfs and exoplanets, which includes:\n",
    "\n",
    "1\\. The Temperature Structure (T(P) profile)\n",
    "\n",
    "2\\. The Chemical Structure\n",
    "\n",
    "\n",
    "But these physical components are not independent of each other. For example, the chemistry is dependent on the T(P) profile.\n",
    "\n",
    "`PICASO` tries to find the atmospheric state of your object by taking care of all of these processes and their interconnections self-consistently and iteratively. Therefore, you will find that the climate portion of `PICASO` is slower than running a single forward model evaluation.\n",
    "\n",
    "### Modeling the full temperature-pressure profile \n",
    "\n",
    "Remember our previous assumption of setting the isothermal profile to the equilibrium temperature? Let's improve that by modeling the one-dimensional temperature-pressure structure\n",
    "\n",
    "#### Correlated-K Tables where to download them?\n",
    "\n",
    "Earlier when we created a model atmosphere run we needed to edit our call to `opannection`. For climate calculations we need to make sure that we are covering the full range of the planetary energy distribution, which usually amounts to ~0.3-300 $\\mu$m. This would be prohibitively slow if we used our same monochromatic opacities. Therefore, we instead use correlated-k tables which are on a very low resolution grid with only 196 wavelength points spanning 0.3-300 $\\mu$m. We compute these correlated-K tables **as a function of M/H and C/O**. Therefore, unlike before, we are setting the chemistry of our calculation up front by specifying the correlated-K table.\n"
   ]
  },
  {
   "cell_type": "code",
   "execution_count": null,
   "id": "05949619-7339-49c0-9a58-19e5133465e0",
   "metadata": {},
   "outputs": [],
   "source": [
    "mh = '+100'#'+1.0' # 10x solar log metallicity\n",
    "CtoO = '100'#'1.0' # 1x solar CtoO ratio\n",
    "ck_db = os.path.join(ck_dir,\n",
    "                     f'sonora_2020_feh{mh}_co_{CtoO}_noTiOVO.data.196') # I had to change this line to match my data files\n",
    "\n",
    "opacity_ck = jdi.opannection(ck_db=ck_db,method='preweighted') # grab your opacities\n"
   ]
  },
  {
   "cell_type": "markdown",
   "id": "ce32d44e",
   "metadata": {
    "id": "16ae3740"
   },
   "source": [
    "#### Effective and Intrinsic Temperatures\n",
    "\n",
    "You will notice that starting a run is nearly identical as running a spectrum. However, how we will add `climate=True` to our inputs flag, telling PICASO to create a climate. Let's create a new object or \"case\" where we are running the exact same parameters of the star, planet but now we are going to end with the goal of having a climate model.\n",
    "\n",
    "New Parameter: **Effective Temperature**. This excerpt from [Modeling Exoplanetary Atmospheres (Fortney et al)](https://arxiv.org/pdf/1804.08149.pdf) provides a thorough description and more reading, if you are interested.\n",
    "\n",
    ">If the effective temperature, $T_{eff}$, is defined as the temperature of a blackbody of\n",
    "the same radius that would emit the equivalent flux as the real planet, $T_{eff}$ and $T_{eq}$\n",
    "can be simply related. This relation requires the inclusion of a third temperature,\n",
    "$T_{int}$, the intrinsic effective temperature, that describes the flux from the planet’s\n",
    "interior. These temperatures are related by:\n",
    "\n",
    ">$T_{eff} =  T_{int} + T_{eq}$\n",
    "\n",
    ">We then recover our limiting cases: if a planet is self-luminous (like a young giant\n",
    "planet) and far from its parent star, $T_{eff} \\approx  T_{int}$; for most rocky planets, or any\n",
    "planets under extreme stellar irradiation, $T_{eff} \\approx T_{eq}$.\n"
   ]
  },
  {
   "cell_type": "code",
   "execution_count": null,
   "id": "8a180b5d",
   "metadata": {
    "id": "9560151e"
   },
   "outputs": [],
   "source": [
    "cl_run = jdi.inputs(calculation=\"planet\", climate = True) # start a calculation\n",
    "\n",
    "semi_major = 0.0486 # star planet distance, AU\n",
    "cl_run.star(opacity_ck, temp=5400 , database='phoenix',\n",
    "         metal=0.01, logg=4.45, radius=0.9, radius_unit=jdi.u.R_sun,\n",
    "            #note, now we need to know the planet-star separation!\n",
    "         semi_major= semi_major, semi_major_unit = jdi.u.AU)\n",
    "\n",
    "\n",
    "cl_run.gravity(mass=0.28, mass_unit=jdi.u.M_jup,\n",
    "             radius=1.27, radius_unit=jdi.u.R_jup)\n",
    "\n",
    "# Intrinsic temperature of your planet in K\n",
    "# Let's keep this fixed for now\n",
    "tint= 200\n",
    "cl_run.effective_temp(tint) # input intrinsic temperature\n"
   ]
  },
  {
   "cell_type": "markdown",
   "id": "159dd281",
   "metadata": {
    "id": "a67de9ff"
   },
   "source": [
    "### Initial T(P)  Guess\n",
    "\n",
    "Every calculation requires an initial guess of the pressure temperature profile. The code will iterate from there to find the correct solution. A few tips:\n",
    "\n",
    "1. We recommend **using typically 51-91 atmospheric pressure levels**. Too many pressure layers increases the computational time required for convergence. Too few layers makes the atmospheric grid too coarse for an accurate calculation.\n",
    "\n",
    "2. Start with **a guess that is close to your expected solution**. One easy way to get fairly close is by using the Guillot et al 2010 temperature-pressure profile approximation.\n"
   ]
  },
  {
   "cell_type": "code",
   "execution_count": null,
   "id": "c8f5f01c",
   "metadata": {
    "id": "d0a47c74"
   },
   "outputs": [],
   "source": [
    "nlevel = 91 # number of plane-parallel levels in your code\n",
    "\n",
    "# Let's set the max and min at 1e-4 bars and 500 bars (note below is in log units)\n",
    "pt = cl_run.guillot_pt(equilibrium_temperature, nlevel=nlevel, T_int = tint, p_bottom=2.5, p_top=-4)\n",
    "temp_guess = pt['temperature'].values\n",
    "pressure = pt['pressure'].values"
   ]
  },
  {
   "cell_type": "markdown",
   "id": "76c0a7fd",
   "metadata": {
    "id": "c4132d98"
   },
   "source": [
    "### Initial Convective Zone Guess\n",
    "\n",
    "You also need to have a crude guess of the convective zone of your atmosphere. Generally the deeper atmosphere is always convective. Lets crudely assume that the bottom 7 levels of the atmosphere is convective."
   ]
  },
  {
   "cell_type": "markdown",
   "id": "d1b74646-40ab-4027-9268-8144f6c0249c",
   "metadata": {},
   "source": [
    "**New Parameters:**\n",
    "\n",
    "1. `nofczns` : Number of convective zones. Though the code has functionality to solve for more than one. In this basic tutorial, let's stick to 1 for now.\n",
    "2. `rfacv`: (See Mukherjee et al Eqn. 20 `r_st`) https://arxiv.org/pdf/2208.07836.pdf\n",
    "\n",
    "Non-zero values of rst (aka \"rfacv\" legacy terminology) is only relevant when the external irradiation on the atmosphere is non-zero. In the scenario when a user is computing a planet-wide average T(P) profile, the stellar irradiation is contributing to 50% (one hemisphere) of the planet and as a result rfacv = 0.5. If instead the goal is to compute a night-side average atmospheric state, rfacv is set to be 0. On the other extreme, to compute the day-side atmospheric state of a tidally locked planet rfacv should be set at 1."
   ]
  },
  {
   "cell_type": "code",
   "execution_count": null,
   "id": "ace2c616",
   "metadata": {
    "id": "30cc2bf3"
   },
   "outputs": [],
   "source": [
    "nofczns = 1 # Number of convective zones initially. Let's not play with this for now.\n",
    "\n",
    "nstr_upper = 85 # Top most level of guessed convective zone.\n",
    "nstr_deep = nlevel -2 # This is always the case. Dont change this.\n",
    "nstr = np.array([0,nstr_upper,nstr_deep,0,0,0]) # Initial guess of convective zones.\n",
    "\n",
    "# Here are some other parameters needed for the code.\n",
    "rfacv = 0.5 # Let's assume perfect heat redistribution."
   ]
  },
  {
   "cell_type": "markdown",
   "id": "c141f8d3",
   "metadata": {
    "id": "249a2e67"
   },
   "source": [
    "Now we would use the inputs_climate function to input everything together to our cl_run we started."
   ]
  },
  {
   "cell_type": "code",
   "execution_count": null,
   "id": "a92e4253",
   "metadata": {
    "id": "aede1b78"
   },
   "outputs": [],
   "source": [
    "cl_run.inputs_climate(temp_guess = temp_guess, pressure = pressure,\n",
    "                      nstr = nstr, nofczns = nofczns, rfacv = rfacv)"
   ]
  },
  {
   "cell_type": "markdown",
   "id": "be522c56",
   "metadata": {
    "id": "ac19b705"
   },
   "source": [
    "### Run the Climate Code\n",
    "\n",
    " The actual climate code can be run with the cl_run.run command. The save_all_profiles is set to True to save the T(P) profile at all steps. The code will now iterate from your guess to reach the correct atmospheric solution for your exoplanet.\n",
    "\n",
    "This will take a few minutes (~3 to 10 min)"
   ]
  },
  {
   "cell_type": "code",
   "execution_count": null,
   "id": "4324b186",
   "metadata": {
    "id": "b3293289",
    "scrolled": true
   },
   "outputs": [],
   "source": [
    "clima_out = cl_run.climate(opacity_ck, save_all_profiles=True, with_spec=True)"
   ]
  },
  {
   "cell_type": "markdown",
   "id": "8b31bb99",
   "metadata": {
    "id": "70c22504"
   },
   "source": [
    "Let's visually confirm the convergence through a plot animation. What you should see is the pressure-temperature evolving towards a solution that is in \"radiative-convective equilibrium\". If we were close to the initial guess then you shouldnt see much movement at all. If you were far away from your initial guess then you should see the pressure-temperature profile wiggle around until it settles on an appropriate solution."
   ]
  },
  {
   "cell_type": "code",
   "execution_count": null,
   "id": "958140a9",
   "metadata": {
    "id": "ce5b3b97"
   },
   "outputs": [],
   "source": [
    "ani = jpi.animate_convergence(clima_out, cl_run, opacity_ck,\n",
    "                              calculation='transmission',\n",
    "    molecules=['H2O','CH4','CO','CO2'])"
   ]
  },
  {
   "cell_type": "code",
   "execution_count": null,
   "id": "c39e411f",
   "metadata": {
    "id": "f4f1bec6"
   },
   "outputs": [],
   "source": [
    "ani"
   ]
  },
  {
   "cell_type": "markdown",
   "id": "21bc4180-4694-4b8a-a24f-a0b586b02dba",
   "metadata": {},
   "source": [
    "<div class=\"alert alert-block alert-info\">\n",
    "How are the animations showing a convergence? What is converging? I'm not sure what I'm supposed to get out of these plots. \n",
    "</div>"
   ]
  },
  {
   "cell_type": "markdown",
   "id": "5d37c375",
   "metadata": {
    "id": "1ce54cda"
   },
   "source": [
    "Nice! Our initial parameterized guess wasn't too far from the final converged solution. Let's add this climate pressure-temperature chemical information we just made back to our original WASP-39b object or \"case\", and see how it affects our spectrum."
   ]
  },
  {
   "cell_type": "code",
   "execution_count": null,
   "id": "153e1eb4",
   "metadata": {
    "id": "fa39d584"
   },
   "outputs": [],
   "source": [
    "# Let's go back to our initial object or \"case\" that we were using for our transit spectra.\n",
    "w39.atmosphere(df=clima_out['ptchem_df'])\n",
    "df_spec = w39.spectrum(opa, calculation='transmission', full_output=True)\n",
    "show_spectra({'clima':df_spec})\n",
    "\n",
    "print(f'Converged Climate Model Chi sq=', chisqr(df_spec ))"
   ]
  },
  {
   "cell_type": "markdown",
   "id": "71416b68",
   "metadata": {},
   "source": [
    "## Revisiting Cloudless assumption\n",
    "\n",
    "So far, we've been pretending that WASP-39 b is cloudless. Let's change that by building off our previous `w39` model with the converged climate solution for M/H=10xSolar, C/O=1.\n",
    "\n",
    "### First: Simple gray opacity source\n",
    "\n",
    "We can simply define the slab of a cloud in picaso by using the `.clouds` routine. You will need to learn a few extra parameters\n",
    "\n",
    "- `g0`: the asymmetry parameter which describes how forward scattering your parameter is. [See this animation here](https://natashabatalha.github.io/picaso_dev#slide02)\n",
    "- `w0` : single scattering albedo which describes the magnitude of the scattering source\n",
    "- `opd` : the total extinction or optical depth in a layer dp\n",
    "- `p` : the bottom location of a cloud deck in LOG10\n",
    "- `dp` : the total thickness of the cloud deck above p (in LOG10). Cloud will span 10**(np.log10(p-dp)) and dp should never be negative"
   ]
  },
  {
   "cell_type": "code",
   "execution_count": null,
   "id": "cfcb7d5c",
   "metadata": {},
   "outputs": [],
   "source": [
    "cloud_models = {}\n",
    "cloud_models['thin_cloud'] = jdi.copy.deepcopy(w39)\n",
    "cloud_models['thick_cloud'] = jdi.copy.deepcopy(w39)\n",
    "\n",
    "cloud_models['thin_cloud'].clouds(p=[0.1], dp=[2.5], opd=[1], g0=[0,0.8,1], w0=[0,0.5,1])\n",
    "cloud_models['thick_cloud'].clouds(p=[1], dp=[4.5], opd=[1], g0=[0], w0=[0])"
   ]
  },
  {
   "cell_type": "markdown",
   "id": "f9c5ca35",
   "metadata": {},
   "source": [
    "We can have a look at the clouds we've created using `justplotit`, but note that the Y axis here is atmosphere `layer`. We set our model up ages ago to have 50 layers in the atmosphere, and the higher layers correspond to lower pressures and higher altitudes. You can see that we've basically added a band of uniform cloud coverage of two different sizes, starting at different altitudes."
   ]
  },
  {
   "cell_type": "code",
   "execution_count": null,
   "id": "a26d374b",
   "metadata": {},
   "outputs": [],
   "source": [
    "nwno = 196 #this is just the default number\n",
    "nlayer = cloud_models['thin_cloud'].nlevel-1 #one less than the number of PT points in our input\n",
    "print('Thin cloud')\n",
    "jpi.show(jpi.plot_cld_input(nwno, nlayer,df=cloud_models['thin_cloud'].inputs['clouds']['profile']))\n",
    "print('Thick cloud')\n",
    "jpi.show(jpi.plot_cld_input(nwno, nlayer,df=cloud_models['thick_cloud'].inputs['clouds']['profile']))"
   ]
  },
  {
   "cell_type": "code",
   "execution_count": null,
   "id": "bcc4a85d",
   "metadata": {},
   "outputs": [],
   "source": [
    "models = {}\n",
    "for i in cloud_models:\n",
    "    models[i] = cloud_models[i].spectrum(opa, calculation='transmission',full_output=True)\n",
    "    print(f'Chi-Sq of {i}:' ,chisqr(models[i]))\n",
    "models['cld_free']=df_spec\n",
    "show_spectra(models)"
   ]
  },
  {
   "cell_type": "markdown",
   "id": "88342845",
   "metadata": {},
   "source": [
    "Ooh wow! That made a difference on our chi sq. Overall the clouds work to mute the spectral features. W39b needed a little muting to get the features correct. "
   ]
  },
  {
   "cell_type": "markdown",
   "id": "422e23c1",
   "metadata": {
    "id": "4c32f3c9"
   },
   "source": [
    "# Mystery absorbery : How to diagnose unfit spectral regions\n",
    "\n",
    "There is one last feature that we haven't quite got yet in our model! Let's explore what it could be.\n",
    "\n",
    "## Explore opacity database\n",
    "\n",
    "To plot the raw opacities we can use a new picaso function called the `opacity_factory`"
   ]
  },
  {
   "cell_type": "code",
   "execution_count": null,
   "id": "ccec21da",
   "metadata": {},
   "outputs": [],
   "source": [
    "import picaso.opacity_factory as opaf\n",
    "mols, pts = opaf.molecular_avail(opa.db_filename)"
   ]
  },
  {
   "cell_type": "markdown",
   "id": "30435234",
   "metadata": {},
   "source": [
    "Let's see everything that we have available to see what could be absorbing at 4 microns. "
   ]
  },
  {
   "cell_type": "code",
   "execution_count": null,
   "id": "24d046f9",
   "metadata": {},
   "outputs": [],
   "source": [
    "t = [1000]#Kelvin\n",
    "p = [0.1]#bars\n",
    "data  = opaf.get_molecular(opa.db_filename, mols, t,p)\n",
    "\n",
    "\n",
    "#plot\n",
    "Spectral11  = jpi.pals.Spectral11\n",
    "f = jpi.figure(y_axis_type='log',height=500,y_range=[1e-23,1e-17],\n",
    "          y_axis_label='Cross Section (cm2/species)', x_axis_label='Micron')\n",
    "for imol,C in zip(mols,Spectral11):\n",
    "    x,y = jdi.mean_regrid(data['wavenumber'],data[imol][t[0]][p[0]], R=200)\n",
    "    f.line(1e4/x,y, color=C,legend_label=imol,line_width=2)\n",
    "jpi.show(f)"
   ]
  },
  {
   "cell_type": "markdown",
   "id": "07e493b0",
   "metadata": {},
   "source": [
    "Check Understanding \n",
    "\n",
    "Which molecules look like they could be responsible for the 4 micron feature? \n"
   ]
  },
  {
   "cell_type": "markdown",
   "id": "04331501",
   "metadata": {},
   "source": [
    "## Create Model with Fixed Chemistry "
   ]
  },
  {
   "cell_type": "markdown",
   "id": "52d7a2a8",
   "metadata": {},
   "source": [
    "Let's create an object or \"case\" where SO$_2$ is present and see if that will create a model with a better fit to the data."
   ]
  },
  {
   "cell_type": "code",
   "execution_count": null,
   "id": "3af71add",
   "metadata": {
    "id": "e036f764"
   },
   "outputs": [],
   "source": [
    "so2_case = jdi.copy.deepcopy(w39)\n",
    "#add in the cloud we liked\n",
    "so2_case.clouds(p=[0.1], dp=[2.5], opd=[1], g0=[0,0.8,1], w0=[0,0.5,1])\n",
    "# Let's explore\n",
    "so2_abundance = [1e-6,5e-6,1e-5]\n",
    "so2_models = {}\n",
    "for iso2 in so2_abundance:\n",
    "    so2_case.inputs['atmosphere']['profile']['SO2']=iso2\n",
    "    df_spec_so2 = so2_case.spectrum(opa, calculation='transmission',full_output=True)\n",
    "    so2_models[f'{iso2}']=df_spec_so2\n",
    "    print(f'Chi-Sq of SO2={iso2}:' ,chisqr(df_spec_so2))\n",
    "show_spectra(so2_models)"
   ]
  },
  {
   "cell_type": "markdown",
   "id": "c9131518-2ecd-4fef-b0e2-9b9ef9598d85",
   "metadata": {},
   "source": [
    "<div class=\"alert alert-block alert-info\">\n",
    "Looks like adding sulfur dioxide improved our fit!\n",
    "</div>"
   ]
  },
  {
   "cell_type": "markdown",
   "id": "7f807868",
   "metadata": {
    "id": "c7a9e749"
   },
   "source": [
    "# Xarray output (.nc) the model"
   ]
  },
  {
   "cell_type": "markdown",
   "id": "409be6e5",
   "metadata": {},
   "source": [
    "Now that we have our models created and all done, let's save our climate model as an [Xarray](https://docs.xarray.dev/en/stable/). This is a great tool to neatly wrap all of your models. This is very useful because we can continue our analysis from low-fidelty PICASO to the high fidelty bayesian fitting (which is the next tutorial)! It also allows anyone else to take a look and analyze the models you have created very easily."
   ]
  },
  {
   "cell_type": "markdown",
   "id": "e137d4ea",
   "metadata": {},
   "source": [
    "## Save W39 case w/o SO2"
   ]
  },
  {
   "cell_type": "code",
   "execution_count": null,
   "id": "66a68683-0000-4014-ace3-68fbdcfef674",
   "metadata": {},
   "outputs": [],
   "source": [
    "savefile=\"W39b_climate.nc\"\n",
    "xarr_no_so2=jdi.output_xarray(df_spec, w39, savefile=savefile)"
   ]
  },
  {
   "cell_type": "code",
   "execution_count": null,
   "id": "7604e1de",
   "metadata": {
    "scrolled": true
   },
   "outputs": [],
   "source": [
    "xarr_no_so2"
   ]
  },
  {
   "cell_type": "markdown",
   "id": "b0477766",
   "metadata": {},
   "source": [
    "### Access Xarray values similarly to a regular array"
   ]
  },
  {
   "cell_type": "code",
   "execution_count": null,
   "id": "a3a22666",
   "metadata": {},
   "outputs": [],
   "source": [
    "xarr_no_so2.keys()"
   ]
  },
  {
   "cell_type": "code",
   "execution_count": null,
   "id": "0b3977d8",
   "metadata": {
    "scrolled": true
   },
   "outputs": [],
   "source": [
    "xarr_no_so2['temperature']"
   ]
  },
  {
   "cell_type": "markdown",
   "id": "ef514806",
   "metadata": {},
   "source": [
    "## Save SO2 case"
   ]
  },
  {
   "cell_type": "code",
   "execution_count": null,
   "id": "cbe6cce0-5c95-4ad6-a598-bdfd54e4cd6c",
   "metadata": {},
   "outputs": [],
   "source": [
    "savefile=\"W39b_climate_so2.nc\"\n",
    "xarr_so2=jdi.output_xarray(df_spec_so2, so2_case, savefile=savefile)"
   ]
  },
  {
   "cell_type": "code",
   "execution_count": null,
   "id": "8719b02b",
   "metadata": {
    "scrolled": true
   },
   "outputs": [],
   "source": [
    "xarr_so2"
   ]
  },
  {
   "cell_type": "code",
   "execution_count": null,
   "id": "0623a5be",
   "metadata": {},
   "outputs": [],
   "source": [
    "xarr_so2['pressure']"
   ]
  },
  {
   "cell_type": "markdown",
   "id": "ca03c188",
   "metadata": {},
   "source": [
    "Note that this has been a simplfied analysis of WASP-39b. A further analysis would include thick/thin clouds and photochemistry, which is below!"
   ]
  },
  {
   "cell_type": "markdown",
   "id": "80dd36d5",
   "metadata": {},
   "source": [
    "# Cloud Modeling with Virga"
   ]
  },
  {
   "cell_type": "markdown",
   "id": "bf58e8c8",
   "metadata": {},
   "source": [
    "Unfortunately, not every analysis will be this simple! In the case of WASP-39b, there may be some extra chemicals in the atmosphere (like SO2 we just added!) or even clouds we will have to \"inject\" into the model after the core parameters. In this section, we will be focusing on the basics of `virga` and how clouds are introduced and affect the complexity of your model."
   ]
  },
  {
   "cell_type": "markdown",
   "id": "499beff0",
   "metadata": {},
   "source": [
    "You should already have [virga](https://natashabatalha.github.io/virga/installation.html) installed from the notebook `AnalyzeExoplanet_1_picaso_setup`. Let's first begin by seeing what gas condensates we can work with."
   ]
  },
  {
   "cell_type": "markdown",
   "id": "356ec324",
   "metadata": {},
   "source": [
    "Let's import virga and re-open that PICASO analysis we just did above."
   ]
  },
  {
   "cell_type": "code",
   "execution_count": null,
   "id": "8e76933d",
   "metadata": {},
   "outputs": [],
   "source": [
    "# Here is virga\n",
    "import virga.justdoit as vjdi\n",
    "import virga.justplotit as vjpi"
   ]
  },
  {
   "cell_type": "code",
   "execution_count": null,
   "id": "94596ca3-9477-47d1-9faa-237545a2c15b",
   "metadata": {},
   "outputs": [],
   "source": [
    "xarr_no_so2 = jdi.xr.open_dataset(\"W39b_climate.nc\")\n",
    "xarr_no_so2"
   ]
  },
  {
   "cell_type": "markdown",
   "id": "90bec1ae",
   "metadata": {},
   "source": [
    "### Choosing a Gas Condensate"
   ]
  },
  {
   "cell_type": "code",
   "execution_count": null,
   "id": "52aec636",
   "metadata": {},
   "outputs": [],
   "source": [
    "# Check gas species to choose from\n",
    "vjdi.available()"
   ]
  },
  {
   "cell_type": "markdown",
   "id": "a68228ae",
   "metadata": {},
   "source": [
    "We have a lot to choose from! If you already know which you want present, then you can skip past to the next section. Otherwise, let's see what recommended gas condensates virga believes we should look into more."
   ]
  },
  {
   "cell_type": "code",
   "execution_count": null,
   "id": "f09ec408",
   "metadata": {},
   "outputs": [],
   "source": [
    "pressure = xarr_no_so2['pressure']\n",
    "temperature = xarr_no_so2['temperature']\n",
    "metallicity = 1 # Atmospheric metallicity relative to Solar (for anything above 1, you will need to do your own chemical equilbrium)\n",
    "mean_molecular_weight = 2.2 # Atmospheric mean molecular weight\n",
    "\n",
    "# Get virga recommendation for which gases to run\n",
    "recommended = vjdi.recommend_gas(pressure, temperature, metallicity, mean_molecular_weight,plot=True)\n",
    "# Print the results\n",
    "print(recommended)"
   ]
  },
  {
   "cell_type": "markdown",
   "id": "78b574f5",
   "metadata": {},
   "source": [
    "Virga recommends that we use the following gases above. Although Virga recommends it, it doesn't mean you need to have it or it is even there physically. It is simply stating that these gases can physically exist, although they may not be present. For the sakes of this tutorial, we will be choosing *MnS, Na2S, MgSi03* to replicate what was done in the paper. "
   ]
  },
  {
   "cell_type": "markdown",
   "id": "1db5714e",
   "metadata": {},
   "source": [
    "### Running Virga"
   ]
  },
  {
   "cell_type": "markdown",
   "id": "43425b62",
   "metadata": {},
   "source": [
    "To run Virga we need two additional parameters: fsed and kzz. \n",
    "\n",
    "fsed describes the vertical extend of the cloud. Small fsed will create small particles that are lofted through large vertical extents. Large fseds will rainout particles at a faster rate creating large particles and vertically thin clouds.\n",
    "\n",
    "kzz is the vertical mixing parameter and describes the velocity of vertical mixing. The particle radii are largely determined through how rapid this mixing parameter is. Low kzz create \"stagnant\" atmospheres (effectively no wind) with small particles and large kzzs create large particles. "
   ]
  },
  {
   "cell_type": "code",
   "execution_count": null,
   "id": "77e6d77c",
   "metadata": {},
   "outputs": [],
   "source": [
    "#we cam use the picaso input xarray function to setup our case with what we did previously\n",
    "w39_clouds = jdi.input_xarray(xarr_no_so2,opa)\n",
    "\n",
    "#the main thing we need to add is a parameter called kzz\n",
    "w39_clouds.inputs['atmosphere']['profile']['kz'] = 1e10\n",
    "\n",
    "#now lets add Virga \n",
    "all_out = w39_clouds.virga(condensates=['MnS', 'Na2S', 'MgSiO3'],directory = mieff_dir,\n",
    "                  fsed=1, mh=metallicity,\n",
    "                  mmw = mean_molecular_weight)\n"
   ]
  },
  {
   "cell_type": "markdown",
   "id": "5a8a794a",
   "metadata": {},
   "source": [
    "Now that we have run the code and computed the cloud modeling, there is many different plots we can call from the `virga.justplotit` class to see what we are looking at exactly! But first, let's get a read of what variables and information we have access to."
   ]
  },
  {
   "cell_type": "code",
   "execution_count": null,
   "id": "f90f49f8",
   "metadata": {
    "scrolled": true
   },
   "outputs": [],
   "source": [
    "all_out.keys()"
   ]
  },
  {
   "cell_type": "markdown",
   "id": "95d3b41c",
   "metadata": {},
   "source": [
    "Lot's of choices to index to and see, but let's visually plot and gain more information of what the clouds will look like."
   ]
  },
  {
   "cell_type": "markdown",
   "id": "3ee0a4b4",
   "metadata": {},
   "source": [
    "### Checking and Proving Gas Condensate"
   ]
  },
  {
   "cell_type": "markdown",
   "id": "d4f1576d",
   "metadata": {},
   "source": [
    "The first plot we can create is our P-T profile with all of the chemicals respective P-T profiles. The thick lines are the gasses that we defined two cells above to be present in our cloud modeling. Anything to the right of the black dotted line, the user input, is a gas that more than likely can condensate in the atmosphere. \n",
    "\n",
    "As we can see, *MgSi02* and *MnS* condensates, as their P-T profiles are to the right of ours. But, we can see that *Na2s* is to the **left** of ours, which means that it is **not** condensating in the cloud mixture."
   ]
  },
  {
   "cell_type": "code",
   "execution_count": null,
   "id": "9763b3b5",
   "metadata": {
    "scrolled": true
   },
   "outputs": [],
   "source": [
    "jpi.show(vjpi.pt(all_out))"
   ]
  },
  {
   "cell_type": "markdown",
   "id": "3d64fc45-3b96-442b-81e8-d3d1bd5eddc7",
   "metadata": {},
   "source": [
    "<div class=\"alert alert-block alert-info\">\n",
    "Each solid line represents the condensation temperature profile for a given molecule or element. Take the thick red MgSiO3 line as an example. If an atmosphere's temperature pressure conditions fall to the right of the red line (higher temp or lower pressure), any MgSiO3 present in the atmosphere will be in its gaseous state. If atmospheric temperature pressure conditions fall to the left of the red line (lower temp or higher pressure), MgSiO3 will be in its liquid state (condensate). The dotted black line represents the conditions of WASP-39 b's atmosphere. We can infer that at high alitudes (lower pressure), WASP-39 b's atmospheric conditions are left (colder) than the red line, thus MgSiO3 may condensate. At lower altitudes (higher pressure), WASP-39 b's atmospheric conditions are right (warmer) than the red line, thus MgSiO3 will remain gaseous.\n",
    "</div>"
   ]
  },
  {
   "cell_type": "markdown",
   "id": "dc4adebd",
   "metadata": {},
   "source": [
    "We can see a breakdown of each of the cloud optical depth by species. Note Na2S never condensed, as we expected from the above plot. "
   ]
  },
  {
   "cell_type": "code",
   "execution_count": null,
   "id": "0725b3d3",
   "metadata": {
    "scrolled": true
   },
   "outputs": [],
   "source": [
    "jpi.show(vjpi.opd_by_gas(all_out))"
   ]
  },
  {
   "cell_type": "markdown",
   "id": "f570082e",
   "metadata": {},
   "source": [
    "Another way to look at this is through the condensate mass mixing ratios."
   ]
  },
  {
   "cell_type": "code",
   "execution_count": null,
   "id": "4db27ea2",
   "metadata": {
    "scrolled": true
   },
   "outputs": [],
   "source": [
    "jpi.show(vjpi.condensate_mmr(all_out))"
   ]
  },
  {
   "cell_type": "markdown",
   "id": "5b6a0d5f",
   "metadata": {},
   "source": [
    "### Analyzing Cloud Interactions"
   ]
  },
  {
   "cell_type": "markdown",
   "id": "cc3e0224",
   "metadata": {},
   "source": [
    "Next, we can take visualizing the single scattering albedo, optical depth, and the asymmetry. Let's dissect each of these and see what they mean exactly.\n",
    "\n",
    "- Single Scattering Albedo\n",
    "\n",
    "This plots the pressure against the wavelength to find where the albedo is strongest (i.e. where in the atmosphere higher or lower fractions of light are being reflected). We see that near the top, the albedo is close to or is 1. This means that most of the light absorbed at this layer is reflected, which makes sense! Planets, specifically puffy planets like WASP-39 b, will reflect a lot of light near the top. As we go deeper, we can see that below 1.4E-3 bars the albedo begins to drop a bit. As the light drops deeper into the atmosphere, it is a lower fractional reflection. Moving from left to right can also tell us how much light is being reflected in the infrared, visual and ultraviolet!\n",
    "\n",
    "\n",
    "- Cloud Optical Depth\n",
    "\n",
    "Optical depth refers to how optically thick the cloud is. For instance, on this middle plot it can be seen at the lower pressures near the top there is a lot of light being let in. As we go deeper in the atmosphere, the clouds begin to block more and more light.\n",
    "\n",
    "- Asymmetry Parameter\n",
    "\n",
    "Describes the scattering direction of the particles. Particles which high asymmetry scatter light in the forward directly. Particles with asymmetry near 0 scatter in all directions equally."
   ]
  },
  {
   "cell_type": "code",
   "execution_count": null,
   "id": "849ff3aa",
   "metadata": {
    "scrolled": true
   },
   "outputs": [],
   "source": [
    "jpi.show(vjpi.all_optics(all_out))"
   ]
  },
  {
   "cell_type": "markdown",
   "id": "98d9b25a",
   "metadata": {},
   "source": [
    "Awesome! This tells us so much about the interaction of clouds between the atmosphere, and is a much different analysis than a cloud free model. This is just a brief overview of what virga can do and the amount of science that can be retrieved from just one set of JWST data. For more information, please feel free to visit the [virga](https://natashabatalha.github.io/virga/index.html) documentation!"
   ]
  }
 ],
 "metadata": {
  "colab": {
   "provenance": [
    {
     "file_id": "1iiuBZ-9eSg-ZGlT7WLODxID7alvtayrD",
     "timestamp": 1686694242813
    }
   ],
   "toc_visible": true
  },
  "kernelspec": {
   "display_name": "pic312",
   "language": "python",
   "name": "python3"
  },
  "language_info": {
   "codemirror_mode": {
    "name": "ipython",
    "version": 3
   },
   "file_extension": ".py",
   "mimetype": "text/x-python",
   "name": "python",
   "nbconvert_exporter": "python",
   "pygments_lexer": "ipython3",
   "version": "3.12.2"
  },
  "toc": {
   "base_numbering": 1,
   "nav_menu": {},
   "number_sections": true,
   "sideBar": true,
   "skip_h1_title": false,
   "title_cell": "Table of Contents",
   "title_sidebar": "Contents",
   "toc_cell": true,
   "toc_position": {},
   "toc_section_display": true,
   "toc_window_display": false
  }
 },
 "nbformat": 4,
 "nbformat_minor": 5
}
