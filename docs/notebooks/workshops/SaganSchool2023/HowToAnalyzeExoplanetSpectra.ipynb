{
 "cells": [
  {
   "cell_type": "markdown",
   "id": "442fd354",
   "metadata": {
    "id": "un2r-8IJ4Fos"
   },
   "source": [
    "# Generating Models to Data\n",
    "\n",
    "Author:  Dominic Doud and Natasha Batalha  (NASA Ames Research Center)\n",
    "\n",
    "You should have already installed PICASO (which can be found [here](https://natashabatalha.github.io/picaso/installation.html)) and run the previous notebook [AnalyzeExoplanet_picaso_setup.ipynb](https://colab.research.google.com/drive/1zPjFDy8HTy4nwsFbAbq73UJMZkTMZGCT?usp=sharing) to download the Wasp 39b data. The setup notebook needs to be run only **once**. \n",
    "\n",
    "**NOTE: This tutorial is aimed at both beginner and advanced levels.**"
   ]
  },
  {
   "cell_type": "markdown",
   "id": "facc4d66-8ce5-4d4c-98c9-e9cedea92171",
   "metadata": {},
   "source": [
    "<div class=\"alert alert-block alert-info\">\n",
    "\n",
    "#### Rewa & Natasha's notes for improving this notebook\n",
    "\n",
    "In an ideal world, in this notebook you would be directed to download data needed specifically for this tutorial (e.g., ZENODO WASP-39 b data). I've already done that, and it is stored in ./expolanet_modeling_tutorial/\n",
    "\n",
    "Ideally in the previous notebook, you would have downloaded data needed for PICASO in general (opacities, grp, virga, sonora ck). For me, this is all** stored in ./picaso_data/\n",
    "\n",
    "**Actually for notebook 2 to run, it appears grp needs to be one directory above the git-tracked picaso directory. So I had to remove grp from the ./picaso_data sub-directory, and instead it put it in the main working directory (i.e. in PICASO).\n",
    "\n",
    "</div>"
   ]
  },
  {
   "cell_type": "markdown",
   "id": "9520dcf0",
   "metadata": {
    "id": "6b13e969-791b-4a38-885a-82732ba5627d"
   },
   "source": [
    "# Check PICASO Imports"
   ]
  },
  {
   "cell_type": "markdown",
   "id": "b3439d33",
   "metadata": {
    "id": "0a481e95-1809-43e4-8485-6ce5652ddc58"
   },
   "source": [
    "Here are the two main PICASO functions you will be exploring:\n",
    "\n",
    "`justdoit` contains all the spectroscopic modeling functionality you will need in these exercises.\n",
    "\n",
    "`justplotit` contains all the of the plotting functionality you will need in these exercises.\n",
    "\n",
    "Tips if you are not familiar with Python or `jupyter notebooks`:\n",
    "\n",
    "- Run a cell by clicking shift-enter. You can always go back and edit cells. But, make sure to rerun them if you edit it. You can check the order in which you have run your cells by looking at the bracket numbers (e.g. [1]) next to each cell.\n",
    "\n",
    "- In any cell you can write `help(INSERT_FUNCTION)` and it will give you documentation on the input/output\n",
    "\n",
    "- If you type `jdi.` followed by \"tab\" a box will pop up with all the available functions in `jdi`. This applies to any python function (e.g. `numpy`, `pandas`)\n",
    "  \n",
    "- If you type class.function?, for example `jdi.mean_regrid`, it will describe the function and its parameters/returns. This also applies to any class with a function."
   ]
  },
  {
   "cell_type": "markdown",
   "id": "8bdd299c",
   "metadata": {
    "id": "b9ba3b9f"
   },
   "source": [
    "## Define the directory\n",
    "\n",
    "We have created a special condensed version of all the PICASO and VIRGA reference data, that includes everything you need to complete this exercise. **All you need to do is define your path picaso_tutorial_dir for Python, the same as the setup notebook.**"
   ]
  },
  {
   "cell_type": "code",
   "execution_count": 1,
   "id": "e8d8a196",
   "metadata": {
    "id": "P_mk7nKI78GM"
   },
   "outputs": [
    {
     "name": "stderr",
     "output_type": "stream",
     "text": [
      "/Applications/anaconda3/envs/picaso312/lib/python3.12/site-packages/picaso-3.3-py3.12.egg/picaso/justdoit.py:55: UserWarning: Your code version is 3.3 but your reference data version is 3.2. For some functionality you may experience Keyword errors. Please download the newest ref version or update your code: https://github.com/natashabatalha/picaso/tree/master/reference\n",
      "  warnings.warn(f\"Your code version is {__version__} but your reference data version is {ref_v}. For some functionality you may experience Keyword errors. Please download the newest ref version or update your code: https://github.com/natashabatalha/picaso/tree/master/reference\")\n"
     ]
    },
    {
     "data": {
      "text/html": [
       "    <style>\n",
       "        .bk-notebook-logo {\n",
       "            display: block;\n",
       "            width: 20px;\n",
       "            height: 20px;\n",
       "            background-image: url(data:image/png;base64,iVBORw0KGgoAAAANSUhEUgAAABQAAAAUCAYAAACNiR0NAAAABHNCSVQICAgIfAhkiAAAAAlwSFlzAAALEgAACxIB0t1+/AAAABx0RVh0U29mdHdhcmUAQWRvYmUgRmlyZXdvcmtzIENTNui8sowAAAOkSURBVDiNjZRtaJVlGMd/1/08zzln5zjP1LWcU9N0NkN8m2CYjpgQYQXqSs0I84OLIC0hkEKoPtiH3gmKoiJDU7QpLgoLjLIQCpEsNJ1vqUOdO7ppbuec5+V+rj4ctwzd8IIbbi6u+8f1539dt3A78eXC7QizUF7gyV1fD1Yqg4JWz84yffhm0qkFqBogB9rM8tZdtwVsPUhWhGcFJngGeWrPzHm5oaMmkfEg1usvLFyc8jLRqDOMru7AyC8saQr7GG7f5fvDeH7Ej8CM66nIF+8yngt6HWaKh7k49Soy9nXurCi1o3qUbS3zWfrYeQDTB/Qj6kX6Ybhw4B+bOYoLKCC9H3Nu/leUTZ1JdRWkkn2ldcCamzrcf47KKXdAJllSlxAOkRgyHsGC/zRday5Qld9DyoM4/q/rUoy/CXh3jzOu3bHUVZeU+DEn8FInkPBFlu3+nW3Nw0mk6vCDiWg8CeJaxEwuHS3+z5RgY+YBR6V1Z1nxSOfoaPa4LASWxxdNp+VWTk7+4vzaou8v8PN+xo+KY2xsw6une2frhw05CTYOmQvsEhjhWjn0bmXPjpE1+kplmmkP3suftwTubK9Vq22qKmrBhpY4jvd5afdRA3wGjFAgcnTK2s4hY0/GPNIb0nErGMCRxWOOX64Z8RAC4oCXdklmEvcL8o0BfkNK4lUg9HTl+oPlQxdNo3Mg4Nv175e/1LDGzZen30MEjRUtmXSfiTVu1kK8W4txyV6BMKlbgk3lMwYCiusNy9fVfvvwMxv8Ynl6vxoByANLTWplvuj/nF9m2+PDtt1eiHPBr1oIfhCChQMBw6Aw0UulqTKZdfVvfG7VcfIqLG9bcldL/+pdWTLxLUy8Qq38heUIjh4XlzZxzQm19lLFlr8vdQ97rjZVOLf8nclzckbcD4wxXMidpX30sFd37Fv/GtwwhzhxGVAprjbg0gCAEeIgwCZyTV2Z1REEW8O4py0wsjeloKoMr6iCY6dP92H6Vw/oTyICIthibxjm/DfN9lVz8IqtqKYLUXfoKVMVQVVJOElGjrnnUt9T9wbgp8AyYKaGlqingHZU/uG2NTZSVqwHQTWkx9hxjkpWDaCg6Ckj5qebgBVbT3V3NNXMSiWSDdGV3hrtzla7J+duwPOToIg42ChPQOQjspnSlp1V+Gjdged7+8UN5CRAV7a5EdFNwCjEaBR27b3W890TE7g24NAP/mMDXRWrGoFPQI9ls/MWO2dWFAar/xcOIImbbpA3zgAAAABJRU5ErkJggg==);\n",
       "        }\n",
       "    </style>\n",
       "    <div>\n",
       "        <a href=\"https://bokeh.org\" target=\"_blank\" class=\"bk-notebook-logo\"></a>\n",
       "        <span id=\"dccb2aec-40d6-47d2-89fc-75211d047c9f\">Loading BokehJS ...</span>\n",
       "    </div>\n"
      ]
     },
     "metadata": {},
     "output_type": "display_data"
    },
    {
     "data": {
      "application/javascript": [
       "'use strict';\n",
       "(function(root) {\n",
       "  function now() {\n",
       "    return new Date();\n",
       "  }\n",
       "\n",
       "  const force = true;\n",
       "\n",
       "  if (typeof root._bokeh_onload_callbacks === \"undefined\" || force === true) {\n",
       "    root._bokeh_onload_callbacks = [];\n",
       "    root._bokeh_is_loading = undefined;\n",
       "  }\n",
       "\n",
       "const JS_MIME_TYPE = 'application/javascript';\n",
       "  const HTML_MIME_TYPE = 'text/html';\n",
       "  const EXEC_MIME_TYPE = 'application/vnd.bokehjs_exec.v0+json';\n",
       "  const CLASS_NAME = 'output_bokeh rendered_html';\n",
       "\n",
       "  /**\n",
       "   * Render data to the DOM node\n",
       "   */\n",
       "  function render(props, node) {\n",
       "    const script = document.createElement(\"script\");\n",
       "    node.appendChild(script);\n",
       "  }\n",
       "\n",
       "  /**\n",
       "   * Handle when an output is cleared or removed\n",
       "   */\n",
       "  function handleClearOutput(event, handle) {\n",
       "    function drop(id) {\n",
       "      const view = Bokeh.index.get_by_id(id)\n",
       "      if (view != null) {\n",
       "        view.model.document.clear()\n",
       "        Bokeh.index.delete(view)\n",
       "      }\n",
       "    }\n",
       "\n",
       "    const cell = handle.cell;\n",
       "\n",
       "    const id = cell.output_area._bokeh_element_id;\n",
       "    const server_id = cell.output_area._bokeh_server_id;\n",
       "\n",
       "    // Clean up Bokeh references\n",
       "    if (id != null) {\n",
       "      drop(id)\n",
       "    }\n",
       "\n",
       "    if (server_id !== undefined) {\n",
       "      // Clean up Bokeh references\n",
       "      const cmd_clean = \"from bokeh.io.state import curstate; print(curstate().uuid_to_server['\" + server_id + \"'].get_sessions()[0].document.roots[0]._id)\";\n",
       "      cell.notebook.kernel.execute(cmd_clean, {\n",
       "        iopub: {\n",
       "          output: function(msg) {\n",
       "            const id = msg.content.text.trim()\n",
       "            drop(id)\n",
       "          }\n",
       "        }\n",
       "      });\n",
       "      // Destroy server and session\n",
       "      const cmd_destroy = \"import bokeh.io.notebook as ion; ion.destroy_server('\" + server_id + \"')\";\n",
       "      cell.notebook.kernel.execute(cmd_destroy);\n",
       "    }\n",
       "  }\n",
       "\n",
       "  /**\n",
       "   * Handle when a new output is added\n",
       "   */\n",
       "  function handleAddOutput(event, handle) {\n",
       "    const output_area = handle.output_area;\n",
       "    const output = handle.output;\n",
       "\n",
       "    // limit handleAddOutput to display_data with EXEC_MIME_TYPE content only\n",
       "    if ((output.output_type != \"display_data\") || (!Object.prototype.hasOwnProperty.call(output.data, EXEC_MIME_TYPE))) {\n",
       "      return\n",
       "    }\n",
       "\n",
       "    const toinsert = output_area.element.find(\".\" + CLASS_NAME.split(' ')[0]);\n",
       "\n",
       "    if (output.metadata[EXEC_MIME_TYPE][\"id\"] !== undefined) {\n",
       "      toinsert[toinsert.length - 1].firstChild.textContent = output.data[JS_MIME_TYPE];\n",
       "      // store reference to embed id on output_area\n",
       "      output_area._bokeh_element_id = output.metadata[EXEC_MIME_TYPE][\"id\"];\n",
       "    }\n",
       "    if (output.metadata[EXEC_MIME_TYPE][\"server_id\"] !== undefined) {\n",
       "      const bk_div = document.createElement(\"div\");\n",
       "      bk_div.innerHTML = output.data[HTML_MIME_TYPE];\n",
       "      const script_attrs = bk_div.children[0].attributes;\n",
       "      for (let i = 0; i < script_attrs.length; i++) {\n",
       "        toinsert[toinsert.length - 1].firstChild.setAttribute(script_attrs[i].name, script_attrs[i].value);\n",
       "        toinsert[toinsert.length - 1].firstChild.textContent = bk_div.children[0].textContent\n",
       "      }\n",
       "      // store reference to server id on output_area\n",
       "      output_area._bokeh_server_id = output.metadata[EXEC_MIME_TYPE][\"server_id\"];\n",
       "    }\n",
       "  }\n",
       "\n",
       "  function register_renderer(events, OutputArea) {\n",
       "\n",
       "    function append_mime(data, metadata, element) {\n",
       "      // create a DOM node to render to\n",
       "      const toinsert = this.create_output_subarea(\n",
       "        metadata,\n",
       "        CLASS_NAME,\n",
       "        EXEC_MIME_TYPE\n",
       "      );\n",
       "      this.keyboard_manager.register_events(toinsert);\n",
       "      // Render to node\n",
       "      const props = {data: data, metadata: metadata[EXEC_MIME_TYPE]};\n",
       "      render(props, toinsert[toinsert.length - 1]);\n",
       "      element.append(toinsert);\n",
       "      return toinsert\n",
       "    }\n",
       "\n",
       "    /* Handle when an output is cleared or removed */\n",
       "    events.on('clear_output.CodeCell', handleClearOutput);\n",
       "    events.on('delete.Cell', handleClearOutput);\n",
       "\n",
       "    /* Handle when a new output is added */\n",
       "    events.on('output_added.OutputArea', handleAddOutput);\n",
       "\n",
       "    /**\n",
       "     * Register the mime type and append_mime function with output_area\n",
       "     */\n",
       "    OutputArea.prototype.register_mime_type(EXEC_MIME_TYPE, append_mime, {\n",
       "      /* Is output safe? */\n",
       "      safe: true,\n",
       "      /* Index of renderer in `output_area.display_order` */\n",
       "      index: 0\n",
       "    });\n",
       "  }\n",
       "\n",
       "  // register the mime type if in Jupyter Notebook environment and previously unregistered\n",
       "  if (root.Jupyter !== undefined) {\n",
       "    const events = require('base/js/events');\n",
       "    const OutputArea = require('notebook/js/outputarea').OutputArea;\n",
       "\n",
       "    if (OutputArea.prototype.mime_types().indexOf(EXEC_MIME_TYPE) == -1) {\n",
       "      register_renderer(events, OutputArea);\n",
       "    }\n",
       "  }\n",
       "  if (typeof (root._bokeh_timeout) === \"undefined\" || force === true) {\n",
       "    root._bokeh_timeout = Date.now() + 5000;\n",
       "    root._bokeh_failed_load = false;\n",
       "  }\n",
       "\n",
       "  const NB_LOAD_WARNING = {'data': {'text/html':\n",
       "     \"<div style='background-color: #fdd'>\\n\"+\n",
       "     \"<p>\\n\"+\n",
       "     \"BokehJS does not appear to have successfully loaded. If loading BokehJS from CDN, this \\n\"+\n",
       "     \"may be due to a slow or bad network connection. Possible fixes:\\n\"+\n",
       "     \"</p>\\n\"+\n",
       "     \"<ul>\\n\"+\n",
       "     \"<li>re-rerun `output_notebook()` to attempt to load from CDN again, or</li>\\n\"+\n",
       "     \"<li>use INLINE resources instead, as so:</li>\\n\"+\n",
       "     \"</ul>\\n\"+\n",
       "     \"<code>\\n\"+\n",
       "     \"from bokeh.resources import INLINE\\n\"+\n",
       "     \"output_notebook(resources=INLINE)\\n\"+\n",
       "     \"</code>\\n\"+\n",
       "     \"</div>\"}};\n",
       "\n",
       "  function display_loaded(error = null) {\n",
       "    const el = document.getElementById(\"dccb2aec-40d6-47d2-89fc-75211d047c9f\");\n",
       "    if (el != null) {\n",
       "      const html = (() => {\n",
       "        if (typeof root.Bokeh === \"undefined\") {\n",
       "          if (error == null) {\n",
       "            return \"BokehJS is loading ...\";\n",
       "          } else {\n",
       "            return \"BokehJS failed to load.\";\n",
       "          }\n",
       "        } else {\n",
       "          const prefix = `BokehJS ${root.Bokeh.version}`;\n",
       "          if (error == null) {\n",
       "            return `${prefix} successfully loaded.`;\n",
       "          } else {\n",
       "            return `${prefix} <b>encountered errors</b> while loading and may not function as expected.`;\n",
       "          }\n",
       "        }\n",
       "      })();\n",
       "      el.innerHTML = html;\n",
       "\n",
       "      if (error != null) {\n",
       "        const wrapper = document.createElement(\"div\");\n",
       "        wrapper.style.overflow = \"auto\";\n",
       "        wrapper.style.height = \"5em\";\n",
       "        wrapper.style.resize = \"vertical\";\n",
       "        const content = document.createElement(\"div\");\n",
       "        content.style.fontFamily = \"monospace\";\n",
       "        content.style.whiteSpace = \"pre-wrap\";\n",
       "        content.style.backgroundColor = \"rgb(255, 221, 221)\";\n",
       "        content.textContent = error.stack ?? error.toString();\n",
       "        wrapper.append(content);\n",
       "        el.append(wrapper);\n",
       "      }\n",
       "    } else if (Date.now() < root._bokeh_timeout) {\n",
       "      setTimeout(() => display_loaded(error), 100);\n",
       "    }\n",
       "  }\n",
       "\n",
       "  function run_callbacks() {\n",
       "    try {\n",
       "      root._bokeh_onload_callbacks.forEach(function(callback) {\n",
       "        if (callback != null)\n",
       "          callback();\n",
       "      });\n",
       "    } finally {\n",
       "      delete root._bokeh_onload_callbacks\n",
       "    }\n",
       "    console.debug(\"Bokeh: all callbacks have finished\");\n",
       "  }\n",
       "\n",
       "  function load_libs(css_urls, js_urls, callback) {\n",
       "    if (css_urls == null) css_urls = [];\n",
       "    if (js_urls == null) js_urls = [];\n",
       "\n",
       "    root._bokeh_onload_callbacks.push(callback);\n",
       "    if (root._bokeh_is_loading > 0) {\n",
       "      console.debug(\"Bokeh: BokehJS is being loaded, scheduling callback at\", now());\n",
       "      return null;\n",
       "    }\n",
       "    if (js_urls == null || js_urls.length === 0) {\n",
       "      run_callbacks();\n",
       "      return null;\n",
       "    }\n",
       "    console.debug(\"Bokeh: BokehJS not loaded, scheduling load and callback at\", now());\n",
       "    root._bokeh_is_loading = css_urls.length + js_urls.length;\n",
       "\n",
       "    function on_load() {\n",
       "      root._bokeh_is_loading--;\n",
       "      if (root._bokeh_is_loading === 0) {\n",
       "        console.debug(\"Bokeh: all BokehJS libraries/stylesheets loaded\");\n",
       "        run_callbacks()\n",
       "      }\n",
       "    }\n",
       "\n",
       "    function on_error(url) {\n",
       "      console.error(\"failed to load \" + url);\n",
       "    }\n",
       "\n",
       "    for (let i = 0; i < css_urls.length; i++) {\n",
       "      const url = css_urls[i];\n",
       "      const element = document.createElement(\"link\");\n",
       "      element.onload = on_load;\n",
       "      element.onerror = on_error.bind(null, url);\n",
       "      element.rel = \"stylesheet\";\n",
       "      element.type = \"text/css\";\n",
       "      element.href = url;\n",
       "      console.debug(\"Bokeh: injecting link tag for BokehJS stylesheet: \", url);\n",
       "      document.body.appendChild(element);\n",
       "    }\n",
       "\n",
       "    for (let i = 0; i < js_urls.length; i++) {\n",
       "      const url = js_urls[i];\n",
       "      const element = document.createElement('script');\n",
       "      element.onload = on_load;\n",
       "      element.onerror = on_error.bind(null, url);\n",
       "      element.async = false;\n",
       "      element.src = url;\n",
       "      console.debug(\"Bokeh: injecting script tag for BokehJS library: \", url);\n",
       "      document.head.appendChild(element);\n",
       "    }\n",
       "  };\n",
       "\n",
       "  function inject_raw_css(css) {\n",
       "    const element = document.createElement(\"style\");\n",
       "    element.appendChild(document.createTextNode(css));\n",
       "    document.body.appendChild(element);\n",
       "  }\n",
       "\n",
       "  const js_urls = [\"https://cdn.bokeh.org/bokeh/release/bokeh-3.4.3.min.js\", \"https://cdn.bokeh.org/bokeh/release/bokeh-gl-3.4.3.min.js\", \"https://cdn.bokeh.org/bokeh/release/bokeh-widgets-3.4.3.min.js\", \"https://cdn.bokeh.org/bokeh/release/bokeh-tables-3.4.3.min.js\", \"https://cdn.bokeh.org/bokeh/release/bokeh-mathjax-3.4.3.min.js\"];\n",
       "  const css_urls = [];\n",
       "\n",
       "  const inline_js = [    function(Bokeh) {\n",
       "      Bokeh.set_log_level(\"info\");\n",
       "    },\n",
       "function(Bokeh) {\n",
       "    }\n",
       "  ];\n",
       "\n",
       "  function run_inline_js() {\n",
       "    if (root.Bokeh !== undefined || force === true) {\n",
       "      try {\n",
       "            for (let i = 0; i < inline_js.length; i++) {\n",
       "      inline_js[i].call(root, root.Bokeh);\n",
       "    }\n",
       "\n",
       "      } catch (error) {display_loaded(error);throw error;\n",
       "      }if (force === true) {\n",
       "        display_loaded();\n",
       "      }} else if (Date.now() < root._bokeh_timeout) {\n",
       "      setTimeout(run_inline_js, 100);\n",
       "    } else if (!root._bokeh_failed_load) {\n",
       "      console.log(\"Bokeh: BokehJS failed to load within specified timeout.\");\n",
       "      root._bokeh_failed_load = true;\n",
       "    } else if (force !== true) {\n",
       "      const cell = $(document.getElementById(\"dccb2aec-40d6-47d2-89fc-75211d047c9f\")).parents('.cell').data().cell;\n",
       "      cell.output_area.append_execute_result(NB_LOAD_WARNING)\n",
       "    }\n",
       "  }\n",
       "\n",
       "  if (root._bokeh_is_loading === 0) {\n",
       "    console.debug(\"Bokeh: BokehJS loaded, going straight to plotting\");\n",
       "    run_inline_js();\n",
       "  } else {\n",
       "    load_libs(css_urls, js_urls, function() {\n",
       "      console.debug(\"Bokeh: BokehJS plotting callback run at\", now());\n",
       "      run_inline_js();\n",
       "    });\n",
       "  }\n",
       "}(window));"
      ],
      "application/vnd.bokehjs_load.v0+json": "'use strict';\n(function(root) {\n  function now() {\n    return new Date();\n  }\n\n  const force = true;\n\n  if (typeof root._bokeh_onload_callbacks === \"undefined\" || force === true) {\n    root._bokeh_onload_callbacks = [];\n    root._bokeh_is_loading = undefined;\n  }\n\n\n  if (typeof (root._bokeh_timeout) === \"undefined\" || force === true) {\n    root._bokeh_timeout = Date.now() + 5000;\n    root._bokeh_failed_load = false;\n  }\n\n  const NB_LOAD_WARNING = {'data': {'text/html':\n     \"<div style='background-color: #fdd'>\\n\"+\n     \"<p>\\n\"+\n     \"BokehJS does not appear to have successfully loaded. If loading BokehJS from CDN, this \\n\"+\n     \"may be due to a slow or bad network connection. Possible fixes:\\n\"+\n     \"</p>\\n\"+\n     \"<ul>\\n\"+\n     \"<li>re-rerun `output_notebook()` to attempt to load from CDN again, or</li>\\n\"+\n     \"<li>use INLINE resources instead, as so:</li>\\n\"+\n     \"</ul>\\n\"+\n     \"<code>\\n\"+\n     \"from bokeh.resources import INLINE\\n\"+\n     \"output_notebook(resources=INLINE)\\n\"+\n     \"</code>\\n\"+\n     \"</div>\"}};\n\n  function display_loaded(error = null) {\n    const el = document.getElementById(\"dccb2aec-40d6-47d2-89fc-75211d047c9f\");\n    if (el != null) {\n      const html = (() => {\n        if (typeof root.Bokeh === \"undefined\") {\n          if (error == null) {\n            return \"BokehJS is loading ...\";\n          } else {\n            return \"BokehJS failed to load.\";\n          }\n        } else {\n          const prefix = `BokehJS ${root.Bokeh.version}`;\n          if (error == null) {\n            return `${prefix} successfully loaded.`;\n          } else {\n            return `${prefix} <b>encountered errors</b> while loading and may not function as expected.`;\n          }\n        }\n      })();\n      el.innerHTML = html;\n\n      if (error != null) {\n        const wrapper = document.createElement(\"div\");\n        wrapper.style.overflow = \"auto\";\n        wrapper.style.height = \"5em\";\n        wrapper.style.resize = \"vertical\";\n        const content = document.createElement(\"div\");\n        content.style.fontFamily = \"monospace\";\n        content.style.whiteSpace = \"pre-wrap\";\n        content.style.backgroundColor = \"rgb(255, 221, 221)\";\n        content.textContent = error.stack ?? error.toString();\n        wrapper.append(content);\n        el.append(wrapper);\n      }\n    } else if (Date.now() < root._bokeh_timeout) {\n      setTimeout(() => display_loaded(error), 100);\n    }\n  }\n\n  function run_callbacks() {\n    try {\n      root._bokeh_onload_callbacks.forEach(function(callback) {\n        if (callback != null)\n          callback();\n      });\n    } finally {\n      delete root._bokeh_onload_callbacks\n    }\n    console.debug(\"Bokeh: all callbacks have finished\");\n  }\n\n  function load_libs(css_urls, js_urls, callback) {\n    if (css_urls == null) css_urls = [];\n    if (js_urls == null) js_urls = [];\n\n    root._bokeh_onload_callbacks.push(callback);\n    if (root._bokeh_is_loading > 0) {\n      console.debug(\"Bokeh: BokehJS is being loaded, scheduling callback at\", now());\n      return null;\n    }\n    if (js_urls == null || js_urls.length === 0) {\n      run_callbacks();\n      return null;\n    }\n    console.debug(\"Bokeh: BokehJS not loaded, scheduling load and callback at\", now());\n    root._bokeh_is_loading = css_urls.length + js_urls.length;\n\n    function on_load() {\n      root._bokeh_is_loading--;\n      if (root._bokeh_is_loading === 0) {\n        console.debug(\"Bokeh: all BokehJS libraries/stylesheets loaded\");\n        run_callbacks()\n      }\n    }\n\n    function on_error(url) {\n      console.error(\"failed to load \" + url);\n    }\n\n    for (let i = 0; i < css_urls.length; i++) {\n      const url = css_urls[i];\n      const element = document.createElement(\"link\");\n      element.onload = on_load;\n      element.onerror = on_error.bind(null, url);\n      element.rel = \"stylesheet\";\n      element.type = \"text/css\";\n      element.href = url;\n      console.debug(\"Bokeh: injecting link tag for BokehJS stylesheet: \", url);\n      document.body.appendChild(element);\n    }\n\n    for (let i = 0; i < js_urls.length; i++) {\n      const url = js_urls[i];\n      const element = document.createElement('script');\n      element.onload = on_load;\n      element.onerror = on_error.bind(null, url);\n      element.async = false;\n      element.src = url;\n      console.debug(\"Bokeh: injecting script tag for BokehJS library: \", url);\n      document.head.appendChild(element);\n    }\n  };\n\n  function inject_raw_css(css) {\n    const element = document.createElement(\"style\");\n    element.appendChild(document.createTextNode(css));\n    document.body.appendChild(element);\n  }\n\n  const js_urls = [\"https://cdn.bokeh.org/bokeh/release/bokeh-3.4.3.min.js\", \"https://cdn.bokeh.org/bokeh/release/bokeh-gl-3.4.3.min.js\", \"https://cdn.bokeh.org/bokeh/release/bokeh-widgets-3.4.3.min.js\", \"https://cdn.bokeh.org/bokeh/release/bokeh-tables-3.4.3.min.js\", \"https://cdn.bokeh.org/bokeh/release/bokeh-mathjax-3.4.3.min.js\"];\n  const css_urls = [];\n\n  const inline_js = [    function(Bokeh) {\n      Bokeh.set_log_level(\"info\");\n    },\nfunction(Bokeh) {\n    }\n  ];\n\n  function run_inline_js() {\n    if (root.Bokeh !== undefined || force === true) {\n      try {\n            for (let i = 0; i < inline_js.length; i++) {\n      inline_js[i].call(root, root.Bokeh);\n    }\n\n      } catch (error) {display_loaded(error);throw error;\n      }if (force === true) {\n        display_loaded();\n      }} else if (Date.now() < root._bokeh_timeout) {\n      setTimeout(run_inline_js, 100);\n    } else if (!root._bokeh_failed_load) {\n      console.log(\"Bokeh: BokehJS failed to load within specified timeout.\");\n      root._bokeh_failed_load = true;\n    } else if (force !== true) {\n      const cell = $(document.getElementById(\"dccb2aec-40d6-47d2-89fc-75211d047c9f\")).parents('.cell').data().cell;\n      cell.output_area.append_execute_result(NB_LOAD_WARNING)\n    }\n  }\n\n  if (root._bokeh_is_loading === 0) {\n    console.debug(\"Bokeh: BokehJS loaded, going straight to plotting\");\n    run_inline_js();\n  } else {\n    load_libs(css_urls, js_urls, function() {\n      console.debug(\"Bokeh: BokehJS plotting callback run at\", now());\n      run_inline_js();\n    });\n  }\n}(window));"
     },
     "metadata": {},
     "output_type": "display_data"
    }
   ],
   "source": [
    "import os\n",
    "# Check you have picaso\n",
    "from picaso import justdoit as jdi\n",
    "from picaso import justplotit as jpi\n",
    "import picaso.opacity_factory as op\n",
    "import numpy as np\n",
    "\n",
    "jpi.output_notebook()\n",
    "# define the same directory you did in the setup, where you have extracted the example data files\n",
    "# picaso_tutorial_dir = '/Users/nbatalh1/Documents/data/planets/WASP-39b/'"
   ]
  },
  {
   "cell_type": "code",
   "execution_count": 2,
   "id": "1a2397bf-4cc0-4ca8-aafa-d88e15e14952",
   "metadata": {},
   "outputs": [],
   "source": [
    "##### REWA #####\n",
    "\n",
    "# Define the working directory (where you should have put the downloaded grp files)\n",
    "working_dir = os.getcwd()\n",
    "\n",
    "# Define the directory where you put the downloaded general PICASO data files\n",
    "picaso_data_dir = '/Users/rewabush/Desktop/Rewa/NASA/PICASO/picaso_data'\n",
    "\n",
    "# Define the directory where you put the downloaded WASP-39 b data files\n",
    "w39_data_dir = '/Users/rewabush/Desktop/Rewa/NASA/PICASO/exoplanet_modeling_tutorial'"
   ]
  },
  {
   "cell_type": "code",
   "execution_count": 3,
   "id": "af908d82-cb98-4c19-b6ce-b734d33ee09e",
   "metadata": {},
   "outputs": [
    {
     "name": "stdout",
     "output_type": "stream",
     "text": [
      "/Users/rewabush/Desktop/Rewa/NASA/PICASO/exoplanet_modeling_tutorial/ZENODO\n",
      "/Users/rewabush/Desktop/Rewa/NASA/PICASO/picaso_data/virga\n",
      "/Users/rewabush/Desktop/Rewa/NASA/PICASO/picaso_data/correlated_k_tables\n",
      "/Users/rewabush/Desktop/Rewa/NASA/PICASO/grp\n"
     ]
    }
   ],
   "source": [
    "##### REWA #####\n",
    "\n",
    "# Define path to your zenodo files\n",
    "zenodo_dir = os.path.join(w39_data_dir, 'ZENODO')\n",
    "print(zenodo_dir)\n",
    "\n",
    "# Define path to your virga files\n",
    "mieff_dir = os.path.join(picaso_data_dir, 'virga')\n",
    "print(mieff_dir)\n",
    "\n",
    "# Define path to your sonora correlated k files\n",
    "ck_dir = os.path.join(picaso_data_dir, 'correlated_k_tables')\n",
    "print(ck_dir)\n",
    "\n",
    "# Define path to your stellar grp files\n",
    "grp_dir = os.path.join(working_dir, 'grp')\n",
    "print(grp_dir)"
   ]
  },
  {
   "cell_type": "code",
   "execution_count": 4,
   "id": "2bb42074",
   "metadata": {
    "id": "cf6ffa44-30f9-4216-bec0-b5d971eb530e"
   },
   "outputs": [
    {
     "name": "stdout",
     "output_type": "stream",
     "text": [
      "/Users/rewabush/Desktop/Rewa/NASA/PICASO/picaso/reference\n"
     ]
    }
   ],
   "source": [
    "# Double check that your reference file path has been set\n",
    "import os\n",
    "refdata = os.getenv(\"picaso_refdata\")\n",
    "print(refdata)\n",
    "# If you are having trouble setting this, you can do it right here in the command line\n",
    "#os.environ[\"picaso_refdata\"]= add your path here AND COPY AND PASTE ABOVE\n",
    "# IT WILL NEED TO GO ABOVE YOUR PICASO IMPORT"
   ]
  },
  {
   "cell_type": "markdown",
   "id": "c218d7c2",
   "metadata": {
    "id": "9698f8d6-21c1-4230-a9a9-253232319d49"
   },
   "source": [
    "# Observed Spectrum\n",
    "\n",
    "Before we start modeling a planet to match WASP-39 b, let's get hold of WASP-39 b's actual observed spectrum in data format, so we can plot it next to our modeled ones. If you did [part 1 of this tutorial](https://github.com/Kappibw/JWST/blob/main/2_retrieving_jwst_spectra.ipynb), you already downloaded the data prepared by the scientists who wrote [the CO2 discovery paper](https://arxiv.org/pdf/2208.11692.pdf).\n",
    "\n",
    "If you haven't done part 1, you can download the data from [here](https://zenodo.org/record/6959427#.Yx936-zMJqv). Download the .zip, and then look for `ZENODO/TRANSMISSION_SPECTRA_DATA/EUREKA_REDUCTION.txt`.\n",
    "**This file was downloaded as part of the Setup notebook.**\n",
    "\n",
    "Or you can take your own reduced data."
   ]
  },
  {
   "cell_type": "code",
   "execution_count": 5,
   "id": "167bb4f9",
   "metadata": {
    "id": "ed9d8643-e8b9-43a3-a933-d347b6110a65"
   },
   "outputs": [],
   "source": [
    "#eureka_reduction_path = picaso_tutorial_dir+'/ZENODO/TRANSMISSION_SPECTRA_DATA/EUREKA_REDUCTION.txt'"
   ]
  },
  {
   "cell_type": "code",
   "execution_count": 6,
   "id": "b7ec0de7-fbc5-4584-8a3c-0a9db0bf4077",
   "metadata": {},
   "outputs": [],
   "source": [
    "##### REWA #####\n",
    "eureka_reduction_path = zenodo_dir+'/TRANSMISSION_SPECTRA_DATA/EUREKA_REDUCTION.txt'"
   ]
  },
  {
   "cell_type": "code",
   "execution_count": 7,
   "id": "867bbde6",
   "metadata": {
    "id": "qdLa7P4lqUJD"
   },
   "outputs": [],
   "source": [
    "# Import ascii\n",
    "from astropy.io import ascii\n",
    "\n",
    "# Confirm can read the file\n",
    "observed_data = ascii.read(eureka_reduction_path)"
   ]
  },
  {
   "cell_type": "code",
   "execution_count": 8,
   "id": "20640c94",
   "metadata": {
    "id": "353ce54e-3a05-4f42-b570-ef1769a51a89"
   },
   "outputs": [
    {
     "data": {
      "text/plain": [
       "['wavelength',\n",
       " 'bin_width',\n",
       " 'tr_depth',\n",
       " 'tr_depth_errneg',\n",
       " 'tr_depth_errpos',\n",
       " 'ecl_depth',\n",
       " 'ecl_depth_errneg',\n",
       " 'ecl_depth_errpos']"
      ]
     },
     "execution_count": 8,
     "metadata": {},
     "output_type": "execute_result"
    }
   ],
   "source": [
    "observed_data.colnames"
   ]
  },
  {
   "cell_type": "markdown",
   "id": "2486b93b",
   "metadata": {},
   "source": [
    "Let's plot the observed data and see what we are working with!"
   ]
  },
  {
   "cell_type": "code",
   "execution_count": 9,
   "id": "923e80a9",
   "metadata": {
    "id": "c12047e4-1d2a-4132-8c65-644d463d9ba3"
   },
   "outputs": [
    {
     "data": {
      "image/png": "[encoded data removed]",
      "text/plain": [
       "<Figure size 1200x400 with 1 Axes>"
      ]
     },
     "metadata": {},
     "output_type": "display_data"
    }
   ],
   "source": [
    "plt=jpi.plt\n",
    "plt.figure(figsize=(12,4))\n",
    "plt.errorbar(observed_data['wavelength'], observed_data['tr_depth'],\n",
    "             [observed_data['tr_depth_errneg'], observed_data['tr_depth_errpos']],fmt='o')\n",
    "plt.title('WASP-39 b Observed Spectrum')\n",
    "plt.yscale('log')\n",
    "plt.ylabel('Transit Depth')\n",
    "plt.xlabel('Wavelength (micrometers)')\n",
    "plt.show()"
   ]
  },
  {
   "cell_type": "markdown",
   "id": "cfdbb96a",
   "metadata": {
    "id": "6d21b8cc-f53a-4bd4-85fc-6db71f9309af"
   },
   "source": [
    "# Spectra Ingredients\n",
    "\n",
    "Now what? Let's slowly build up a model that can match this data. What do we need?\n",
    "\n",
    "## PICASO Basics\n",
    "\n",
    "\n",
    "### List of what you will need before getting started\n",
    "\n",
    "1. Planet properties\n",
    "\n",
    "- planet radius\n",
    "- planet mass\n",
    "- planet's equilibrium temperature\n",
    "\n",
    "2. Stellar properties\n",
    "\n",
    "- stellar log gravity\n",
    "- stellar effective temperature\n",
    "- stellar metallicity\n",
    "\n",
    "3. Opacities (how do molecules and atoms absorb light under different pressure/temperature conditions)\n",
    "\n"
   ]
  },
  {
   "cell_type": "markdown",
   "id": "5a370909",
   "metadata": {
    "id": "1e0d9c4c"
   },
   "source": [
    "# Basic Inputs\n",
    "\n",
    "## Cross Section Connection\n",
    "\n",
    "All rapid radiative transfer codes rely on a database of pre-computed cross sections. Cross sections are computed by using line lists in combination with critical molecular pressure broadening parameters. Both can either be derived from theoretical first principles (e.g., [UCL ExoMol's line lists](https://www.exomol.com/)), measured in a lab, and/or some combination thereof (e.g., [HITRAN/HITEMP line lists](https://hitran.org/)).\n",
    "\n",
    "When cross sections are initially computed, a resolution ($\\lambda/\\Delta \\lambda$) is assumed. Cross sections are computed on a line-by-line nature and therefore usually computed for R~1e6. For JWST we are often interested in large bands (e.g. 1-14 $\\mu$m). Therefore we need creative ways to speed up these runs. You will usually find one of two methods: correlated-k tables and resampled cross sections. [Garland et al. 2019](https://arxiv.org/pdf/1903.03997.pdf) is a good resource on the differences between these two.\n",
    "\n",
    "For this demonstration we will use the resampled cross section method. **The major thing to note about using resampled cross sections** is that you have to compute your model at ~100x higher resolution than your data, but then must bin it down to a comparable resolution as your data so you can compare them. You will note that the opacity file you downloaded is resampled at R=10,000. Therefore you will note that **in this tutorial we will always bin the model down to R=100** before comparing with the data.\n",
    "\n",
    "**The overall idea is that we are just simply intializing PICASO to operate, create a \"connection\" to the models/spectral tools, in that wavelength (in microns) with the respective opacity range.**"
   ]
  },
  {
   "cell_type": "markdown",
   "id": "f24fc861-9554-4a0e-a14e-b77cb1591ad9",
   "metadata": {},
   "source": [
    "<div class=\"alert alert-block alert-info\">\n",
    "^Can this be clarified?\n",
    "</div>"
   ]
  },
  {
   "cell_type": "code",
   "execution_count": 10,
   "id": "314d138d",
   "metadata": {
    "id": "1c4f1eb8-1721-4617-bec3-073a665fab3a"
   },
   "outputs": [],
   "source": [
    "opa = jdi.opannection(wave_range=[2.7,6])"
   ]
  },
  {
   "cell_type": "markdown",
   "id": "9da7e76d",
   "metadata": {
    "id": "a13f6558"
   },
   "source": [
    "## Set Basic Planet and Stellar Inputs\n",
    "\n",
    "Second step is to define the basic planet parameters. Depending on the kind of model you want to compute (transmission vs. emission vs. reflected light), there are different requirements for the minimum set of information you need to include.\n",
    "\n",
    "For WASP-39 b, since we have planet mass, radius, and all the necessary stellar specifications, we will be thorough in our inputs and include all parameters."
   ]
  },
  {
   "cell_type": "markdown",
   "id": "24a652ed-1a10-4cc4-b168-c3031de8a9f9",
   "metadata": {},
   "source": [
    "We can create an object called w39 that represents the planet WASP-39 b. We then assign values to that object. We already know the temperature, radius, metallicity, and surface gravity of the host star, so we can assign those values to the parent star under w39.star. We also know the mass and radius of the planet, so we can assign those values to the planet under w39.gravity (named thus because mass and radius will be used to compute the planet's surface gravity). As we move through the tutorial and make climate models etc., we will be doing these calculations on the object w39."
   ]
  },
  {
   "cell_type": "code",
   "execution_count": 11,
   "id": "4d6fde27",
   "metadata": {
    "id": "ce1ce8d8"
   },
   "outputs": [],
   "source": [
    "# Create that object or \"case\"\n",
    "w39 = jdi.inputs()\n",
    "\n",
    "# Describe the star \n",
    "w39.star(opa, temp=5400 , database='phoenix',\n",
    "         metal=0.01, logg=4.45, radius=0.9, radius_unit=jdi.u.R_sun )\n",
    "\n",
    "# Describe the planet\n",
    "w39.gravity(mass=0.28, mass_unit=jdi.u.M_jup,\n",
    "             radius=1.27, radius_unit=jdi.u.R_jup)\n"
   ]
  },
  {
   "cell_type": "code",
   "execution_count": 12,
   "id": "ea1f2a52",
   "metadata": {
    "id": "8eaf1915"
   },
   "outputs": [
    {
     "data": {
      "text/plain": [
       "\u001b[0;31mSignature:\u001b[0m\n",
       "\u001b[0mw39\u001b[0m\u001b[0;34m.\u001b[0m\u001b[0mstar\u001b[0m\u001b[0;34m(\u001b[0m\u001b[0;34m\u001b[0m\n",
       "\u001b[0;34m\u001b[0m    \u001b[0mopannection\u001b[0m\u001b[0;34m,\u001b[0m\u001b[0;34m\u001b[0m\n",
       "\u001b[0;34m\u001b[0m    \u001b[0mtemp\u001b[0m\u001b[0;34m=\u001b[0m\u001b[0;32mNone\u001b[0m\u001b[0;34m,\u001b[0m\u001b[0;34m\u001b[0m\n",
       "\u001b[0;34m\u001b[0m    \u001b[0mmetal\u001b[0m\u001b[0;34m=\u001b[0m\u001b[0;32mNone\u001b[0m\u001b[0;34m,\u001b[0m\u001b[0;34m\u001b[0m\n",
       "\u001b[0;34m\u001b[0m    \u001b[0mlogg\u001b[0m\u001b[0;34m=\u001b[0m\u001b[0;32mNone\u001b[0m\u001b[0;34m,\u001b[0m\u001b[0;34m\u001b[0m\n",
       "\u001b[0;34m\u001b[0m    \u001b[0mradius\u001b[0m\u001b[0;34m=\u001b[0m\u001b[0;32mNone\u001b[0m\u001b[0;34m,\u001b[0m\u001b[0;34m\u001b[0m\n",
       "\u001b[0;34m\u001b[0m    \u001b[0mradius_unit\u001b[0m\u001b[0;34m=\u001b[0m\u001b[0;32mNone\u001b[0m\u001b[0;34m,\u001b[0m\u001b[0;34m\u001b[0m\n",
       "\u001b[0;34m\u001b[0m    \u001b[0msemi_major\u001b[0m\u001b[0;34m=\u001b[0m\u001b[0;32mNone\u001b[0m\u001b[0;34m,\u001b[0m\u001b[0;34m\u001b[0m\n",
       "\u001b[0;34m\u001b[0m    \u001b[0msemi_major_unit\u001b[0m\u001b[0;34m=\u001b[0m\u001b[0;32mNone\u001b[0m\u001b[0;34m,\u001b[0m\u001b[0;34m\u001b[0m\n",
       "\u001b[0;34m\u001b[0m    \u001b[0mdatabase\u001b[0m\u001b[0;34m=\u001b[0m\u001b[0;34m'ck04models'\u001b[0m\u001b[0;34m,\u001b[0m\u001b[0;34m\u001b[0m\n",
       "\u001b[0;34m\u001b[0m    \u001b[0mfilename\u001b[0m\u001b[0;34m=\u001b[0m\u001b[0;32mNone\u001b[0m\u001b[0;34m,\u001b[0m\u001b[0;34m\u001b[0m\n",
       "\u001b[0;34m\u001b[0m    \u001b[0mw_unit\u001b[0m\u001b[0;34m=\u001b[0m\u001b[0;32mNone\u001b[0m\u001b[0;34m,\u001b[0m\u001b[0;34m\u001b[0m\n",
       "\u001b[0;34m\u001b[0m    \u001b[0mf_unit\u001b[0m\u001b[0;34m=\u001b[0m\u001b[0;32mNone\u001b[0m\u001b[0;34m,\u001b[0m\u001b[0;34m\u001b[0m\n",
       "\u001b[0;34m\u001b[0m\u001b[0;34m)\u001b[0m\u001b[0;34m\u001b[0m\u001b[0;34m\u001b[0m\u001b[0m\n",
       "\u001b[0;31mDocstring:\u001b[0m\n",
       "Get the stellar spectrum using pysynphot and interpolate onto a much finer grid than the \n",
       "planet grid. \n",
       "\n",
       "Parameters\n",
       "----------\n",
       "opannection : class picaso.RetrieveOpacities\n",
       "    This is the opacity class and it's needed to get the correct wave info and raman scattering cross sections\n",
       "temp : float \n",
       "    (Optional) Teff of the stellar model if using the stellar database feature. \n",
       "    Not needed for filename option. \n",
       "metal : float \n",
       "    (Optional) Metallicity of the stellar model if using the stellar database feature. \n",
       "    Not needed for filename option. \n",
       "logg : float \n",
       "    (Optional) Logg cgs of the stellar model if using the stellar database feature. \n",
       "    Not needed for filename option. \n",
       "radius : float \n",
       "    (Optional) Radius of the star. Only needed as input if you want relative flux units (Fp/Fs)\n",
       "radius_unit : astropy.unit\n",
       "    (Optional) Any astropy unit (e.g. `radius_unit=astropy.unit.Unit(\"R_sun\")`)\n",
       "semi_major : float \n",
       "    (Optional) Semi major axis of the planet. Only needed to compute fp/fs for albedo calculations. \n",
       "semi_major_unit : astropy.unit \n",
       "    (Optional) Any astropy unit (e.g. `radius_unit=astropy.unit.Unit(\"au\")`)\n",
       "database : str \n",
       "    (Optional)The database to pull stellar spectrum from. See documentation for pysynphot. \n",
       "    Most popular are 'ck04models', phoenix' and \n",
       "filename : str \n",
       "    (Optional) Upload your own stellar spectrum. File format = two column white space (wave, flux). \n",
       "    Must specify w_unit and f_unit \n",
       "w_unit : str \n",
       "    (Optional) Used for stellar file wave units. Needed for filename input.\n",
       "    Pick: 'um', 'nm', 'cm', 'hz', or 'Angs'\n",
       "f_unit : str \n",
       "    (Optional) Used for stellar file flux units. Needed for filename input.\n",
       "    Pick: 'FLAM' or 'Jy' or 'erg/cm2/s/Hz'\n",
       "\u001b[0;31mFile:\u001b[0m      /Applications/anaconda3/envs/picaso312/lib/python3.12/site-packages/picaso-3.3-py3.12.egg/picaso/justdoit.py\n",
       "\u001b[0;31mType:\u001b[0m      method"
      ]
     },
     "metadata": {},
     "output_type": "display_data"
    }
   ],
   "source": [
    "# To get information about a function, you can use '?'\n",
    "w39.star?"
   ]
  },
  {
   "cell_type": "markdown",
   "id": "90575fdb",
   "metadata": {
    "id": "cbd735be"
   },
   "source": [
    "## Set Climate and Chemistry\n",
    "\n",
    "We now need to think about how we can model the climate and chemistry of this system. For the sake of this tutorial we will start really simple, then move forward to something more complex.\n",
    "\n",
    "**For climate**, we will explore these levels in this tutorial\n",
    "\n",
    "1. Isothermal (now)\n",
    "2. Radiative-convective (next section)\n",
    "\n",
    "**For chemistry**, we will explore these levels in this tutorial\n",
    "\n",
    "1. Chemical Equilibrium\n"
   ]
  },
  {
   "cell_type": "markdown",
   "id": "2ea68f82",
   "metadata": {
    "id": "ec4bd5a4-9dc7-498a-8db9-e7e3c392509b"
   },
   "source": [
    "### Pressure\n",
    "If we imagine our \"nlevels\" as equally spaced altitude bands on the planet, then we will assign pressures to decrease logarithmically as altitude increases.\n",
    "\n",
    "Gas is compressible and tends to behave in that way in planetary atmospheres (including on Earth)."
   ]
  },
  {
   "cell_type": "code",
   "execution_count": 13,
   "id": "fe223bd9",
   "metadata": {
    "id": "774e33dc-80fd-4a99-9a2f-c8b611c301b9"
   },
   "outputs": [],
   "source": [
    "nlevels = 50\n",
    "# Logspace goes from base^(start) to base^(end)\n",
    "# so here we are going from 10^-6 to 10^2, which is\n",
    "# 1 microbar to 100 bars of pressure.\n",
    "# This is an arbitrarily chosen range, but this is the most common.\n",
    "pressure = np.logspace(-6,2,nlevels)"
   ]
  },
  {
   "cell_type": "code",
   "execution_count": 14,
   "id": "cc0074a9-c377-4af7-9eee-a666cee177e0",
   "metadata": {},
   "outputs": [
    {
     "name": "stdout",
     "output_type": "stream",
     "text": [
      "[1.00000000e-06 1.45634848e-06 2.12095089e-06 3.08884360e-06\n",
      " 4.49843267e-06 6.55128557e-06 9.54095476e-06 1.38949549e-05\n",
      " 2.02358965e-05 2.94705170e-05 4.29193426e-05 6.25055193e-05\n",
      " 9.10298178e-05 1.32571137e-04 1.93069773e-04 2.81176870e-04\n",
      " 4.09491506e-04 5.96362332e-04 8.68511374e-04 1.26485522e-03\n",
      " 1.84206997e-03 2.68269580e-03 3.90693994e-03 5.68986603e-03\n",
      " 8.28642773e-03 1.20679264e-02 1.75751062e-02 2.55954792e-02\n",
      " 3.72759372e-02 5.42867544e-02 7.90604321e-02 1.15139540e-01\n",
      " 1.67683294e-01 2.44205309e-01 3.55648031e-01 5.17947468e-01\n",
      " 7.54312006e-01 1.09854114e+00 1.59985872e+00 2.32995181e+00\n",
      " 3.39322177e+00 4.94171336e+00 7.19685673e+00 1.04811313e+01\n",
      " 1.52641797e+01 2.22299648e+01 3.23745754e+01 4.71486636e+01\n",
      " 6.86648845e+01 1.00000000e+02]\n"
     ]
    }
   ],
   "source": [
    "##### REWA #####\n",
    "\n",
    "print(pressure)"
   ]
  },
  {
   "cell_type": "markdown",
   "id": "f42c9722",
   "metadata": {
    "id": "a1df5148-9cc7-49ff-b19e-3ffeb57d5750"
   },
   "source": [
    "### Isothermal Temperature"
   ]
  },
  {
   "cell_type": "markdown",
   "id": "cabf5b6c-23d6-4631-94c1-93a880a8f810",
   "metadata": {},
   "source": [
    "Next we need to decide how the temperature of the atmosphere varies with pressure. On Earth, temperature generally drops as you travel further from the Earth's surface, i.e. higher in altitude and lower in pressure. But that is not always the case. For simplicity, we'll start by assuming the temperature of WASP-39 b's atmosphere is constant with pressure, which is called \"isothermal.\" As our models get more sophisticated, we'll be able to refer back to this simple case."
   ]
  },
  {
   "cell_type": "code",
   "execution_count": 15,
   "id": "9d59aabf",
   "metadata": {
    "id": "e57e4846-fe43-4731-8cf6-978672da70d2"
   },
   "outputs": [],
   "source": [
    "# We can see from exo.MAST that the equilibrium temp\n",
    "# of WASP 39 b is 1120 kelvin, so let's use a scale\n",
    "# of temperatures based on that.\n",
    "equilibrium_temperature = 1120.55\n",
    "isothermal_temperature = np.zeros(nlevels) + equilibrium_temperature"
   ]
  },
  {
   "cell_type": "code",
   "execution_count": 16,
   "id": "15d261d3-12a6-43e0-9477-e2d315899c98",
   "metadata": {},
   "outputs": [
    {
     "name": "stdout",
     "output_type": "stream",
     "text": [
      "[1120.55 1120.55 1120.55 1120.55 1120.55 1120.55 1120.55 1120.55 1120.55\n",
      " 1120.55 1120.55 1120.55 1120.55 1120.55 1120.55 1120.55 1120.55 1120.55\n",
      " 1120.55 1120.55 1120.55 1120.55 1120.55 1120.55 1120.55 1120.55 1120.55\n",
      " 1120.55 1120.55 1120.55 1120.55 1120.55 1120.55 1120.55 1120.55 1120.55\n",
      " 1120.55 1120.55 1120.55 1120.55 1120.55 1120.55 1120.55 1120.55 1120.55\n",
      " 1120.55 1120.55 1120.55 1120.55 1120.55]\n"
     ]
    }
   ],
   "source": [
    "##### REWA #####\n",
    "\n",
    "print(isothermal_temperature)"
   ]
  },
  {
   "cell_type": "markdown",
   "id": "5bc65130",
   "metadata": {
    "id": "05e13ad1-1728-4dfb-9638-05b761608172"
   },
   "source": [
    "#### Setting the Atmosphere in PICASO"
   ]
  },
  {
   "cell_type": "markdown",
   "id": "c0d64772-28e8-4177-9dc9-de0fe3fc7d45",
   "metadata": {},
   "source": [
    "So far we have described the parent star and the planet. Now let's define the planet's atmosphere. Note, this is a common workflow, where you start by creating an object (w39) and then slowly add parameters (information) as you go."
   ]
  },
  {
   "cell_type": "code",
   "execution_count": 17,
   "id": "c1e3b6d5",
   "metadata": {
    "id": "475d82ed-51c6-45c3-8f12-3d8472ee3ea2"
   },
   "outputs": [],
   "source": [
    "w39.atmosphere(df = jdi.pd.DataFrame({\n",
    "                'pressure':pressure,\n",
    "                'temperature':isothermal_temperature}))"
   ]
  },
  {
   "cell_type": "markdown",
   "id": "ff9661af",
   "metadata": {
    "id": "f5016fc9-1275-4a55-b9ec-adccceae4921"
   },
   "source": [
    "### Chemistry \n",
    "\n",
    "Now we need to add the chemistry! PICASO has a prebuilt chemistry table that was computed by Channon Visscher. You can use it by adding it to your input case. Two more chemistry parameters are now going to be introduced:\n",
    "\n",
    "1. M/H: Atmospheric metallicity\n",
    "2. C/O ratio: Elemental carbon to oxygen ratio\n"
   ]
  },
  {
   "cell_type": "markdown",
   "id": "b8b676ad",
   "metadata": {
    "id": "bb981137-ccbc-4f77-9cad-e7fb35d397ea"
   },
   "source": [
    "#### Metallicity\n",
    "\n",
    "<img src=\"https://stellarplanetorg.files.wordpress.com/2020/04/wakeforddalba2020_rs_mass_metallicity_v1.jpg?w=736\" width=\"800\">\n",
    "\n",
    "Looking at a mass-metallicity plot (compiled in [Wakeford & Dalba 2020](https://ui.adsabs.harvard.edu/abs/2020RSPTA.37800054W/abstract)) might offer a good starting point to decide what the M/H of your planet might be. Here we can see WASP-39 b HST observations led to the inference of ~100xM/H. One tactic might be to start from that estimate. Another might be to use the Solar System extrapolated value (gray dashed line) as a first pass. Let's start with the latter as a first guess."
   ]
  },
  {
   "cell_type": "code",
   "execution_count": 18,
   "id": "64e1f577",
   "metadata": {
    "id": "9bc13061-939e-4cf5-b7fb-081e35d60100"
   },
   "outputs": [],
   "source": [
    "log_mh = 1.0 # log relative to solar\n",
    "# so a value of 1 here represents 10^1 = 10x solar"
   ]
  },
  {
   "cell_type": "markdown",
   "id": "765d14f2",
   "metadata": {
    "id": "12494d50-6908-4ee4-85c4-5ce31fd580ec"
   },
   "source": [
    "#### C/O Ratio\n",
    "\n",
    "The elemental ratio of carbon to oxygen controls the dominant carbon-bearing species. For instance, take a look at Figure 1 from the paper [C/O RATIO AS A DIMENSION FOR CHARACTERIZING EXOPLANETARY ATMOSPHERES](https://iopscience.iop.org/article/10.1088/0004-637X/758/1/36/pdf).\n",
    "\n",
    "At low C/O, we see CO$_2$ and CO as the dominant form of carbon, and at high C/O we see CH$_4$ and CO as the dominant form of carbon.\n",
    "\n",
    "C/O is given in PICASO in units relative to solar C/O, which is worth noting because you're not giving it the actual ratio of carbon to oxygen, but rather the ratio relative to the Solar C/O. Solar C/O is ~0.5 ([Asplund et al. 2021](https://ui.adsabs.harvard.edu/abs/2021A%26A...653A.141A/abstract)), and let's set our value to be the same as Solar (i.e. 1 relative to Solar)."
   ]
  },
  {
   "cell_type": "code",
   "execution_count": 19,
   "id": "77c465a4",
   "metadata": {
    "id": "27069c4b-0a92-45f6-a21b-ed56682aef57"
   },
   "outputs": [],
   "source": [
    "c_o = 1 # relative to solar"
   ]
  },
  {
   "cell_type": "markdown",
   "id": "58175a9f",
   "metadata": {
    "id": "afc5200e-7afe-4366-bc8c-cb132951885c"
   },
   "source": [
    "Now we can ask PICASO to make us a mixture of molecules consistent with the relative M/H metallicity and relative C/O ratio we set up, and we can take a look at what it creates. We can look at the \"atmosphere profile\" which shows us the abundances of various molecules at different levels of our atmosphere (levels being places where temperature and pressure differ in the manner we defined above). \n",
    "\n",
    "This can help us find out which molecules we should really focus on during our analysis, and others that may be harder or redundant to look for based off of our C/O ratio and metallicity."
   ]
  },
  {
   "cell_type": "code",
   "execution_count": 20,
   "id": "a3bab0ae",
   "metadata": {
    "id": "c618536e-3990-48b0-bb7e-516d1ab83223"
   },
   "outputs": [],
   "source": [
    "w39.chemeq_visscher(c_o, log_mh)"
   ]
  },
  {
   "cell_type": "markdown",
   "id": "83fa1205",
   "metadata": {
    "id": "80b1b45d-eb0a-4373-8f83-165807d47e92"
   },
   "source": [
    "Running this function sets a dataframe in your inputs dictionary, which you can access now with `w39.inputs['atmosphere']['profile']`. You can see that PICASO has given us loads of different molecules to work with, but many have miniscule abundances (note some e-38 values in there)."
   ]
  },
  {
   "cell_type": "code",
   "execution_count": 21,
   "id": "b23321af-7895-43f6-bc33-8433137acd80",
   "metadata": {},
   "outputs": [
    {
     "data": {
      "text/html": [
       "<div>\n",
       "<style scoped>\n",
       "    .dataframe tbody tr th:only-of-type {\n",
       "        vertical-align: middle;\n",
       "    }\n",
       "\n",
       "    .dataframe tbody tr th {\n",
       "        vertical-align: top;\n",
       "    }\n",
       "\n",
       "    .dataframe thead th {\n",
       "        text-align: right;\n",
       "    }\n",
       "</style>\n",
       "<table border=\"1\" class=\"dataframe\">\n",
       "  <thead>\n",
       "    <tr style=\"text-align: right;\">\n",
       "      <th></th>\n",
       "      <th>pressure</th>\n",
       "      <th>temperature</th>\n",
       "      <th>e-</th>\n",
       "      <th>H2</th>\n",
       "      <th>H</th>\n",
       "      <th>H+</th>\n",
       "      <th>H-</th>\n",
       "      <th>H2-</th>\n",
       "      <th>H2+</th>\n",
       "      <th>H3+</th>\n",
       "      <th>...</th>\n",
       "      <th>Cs</th>\n",
       "      <th>CO2</th>\n",
       "      <th>HCN</th>\n",
       "      <th>C2H2</th>\n",
       "      <th>C2H4</th>\n",
       "      <th>C2H6</th>\n",
       "      <th>SiO</th>\n",
       "      <th>MgH</th>\n",
       "      <th>OCS</th>\n",
       "      <th>graphite</th>\n",
       "    </tr>\n",
       "  </thead>\n",
       "  <tbody>\n",
       "    <tr>\n",
       "      <th>0</th>\n",
       "      <td>0.000001</td>\n",
       "      <td>1120.55</td>\n",
       "      <td>9.490315e-10</td>\n",
       "      <td>0.829371</td>\n",
       "      <td>0.000037</td>\n",
       "      <td>4.505256e-38</td>\n",
       "      <td>1.537986e-18</td>\n",
       "      <td>8.816532e-28</td>\n",
       "      <td>4.505256e-38</td>\n",
       "      <td>4.505256e-38</td>\n",
       "      <td>...</td>\n",
       "      <td>1.249933e-10</td>\n",
       "      <td>0.000018</td>\n",
       "      <td>4.153731e-14</td>\n",
       "      <td>9.628886e-23</td>\n",
       "      <td>3.709806e-27</td>\n",
       "      <td>1.310189e-33</td>\n",
       "      <td>7.121062e-08</td>\n",
       "      <td>1.997696e-16</td>\n",
       "      <td>4.806553e-08</td>\n",
       "      <td>4.500000e-38</td>\n",
       "    </tr>\n",
       "    <tr>\n",
       "      <th>1</th>\n",
       "      <td>0.000001</td>\n",
       "      <td>1120.55</td>\n",
       "      <td>7.790618e-10</td>\n",
       "      <td>0.829372</td>\n",
       "      <td>0.000031</td>\n",
       "      <td>4.505298e-38</td>\n",
       "      <td>1.523700e-18</td>\n",
       "      <td>1.054149e-27</td>\n",
       "      <td>4.505298e-38</td>\n",
       "      <td>4.505298e-38</td>\n",
       "      <td>...</td>\n",
       "      <td>1.189188e-10</td>\n",
       "      <td>0.000018</td>\n",
       "      <td>6.050700e-14</td>\n",
       "      <td>2.043128e-22</td>\n",
       "      <td>1.146517e-26</td>\n",
       "      <td>5.897597e-33</td>\n",
       "      <td>4.889768e-08</td>\n",
       "      <td>1.655482e-16</td>\n",
       "      <td>5.090137e-08</td>\n",
       "      <td>4.500000e-38</td>\n",
       "    </tr>\n",
       "    <tr>\n",
       "      <th>2</th>\n",
       "      <td>0.000002</td>\n",
       "      <td>1120.55</td>\n",
       "      <td>6.395334e-10</td>\n",
       "      <td>0.829374</td>\n",
       "      <td>0.000025</td>\n",
       "      <td>4.505340e-38</td>\n",
       "      <td>1.509547e-18</td>\n",
       "      <td>1.260395e-27</td>\n",
       "      <td>4.505340e-38</td>\n",
       "      <td>4.505340e-38</td>\n",
       "      <td>...</td>\n",
       "      <td>1.131394e-10</td>\n",
       "      <td>0.000018</td>\n",
       "      <td>8.813998e-14</td>\n",
       "      <td>4.335259e-22</td>\n",
       "      <td>3.543317e-26</td>\n",
       "      <td>2.654705e-32</td>\n",
       "      <td>3.357622e-08</td>\n",
       "      <td>1.371890e-16</td>\n",
       "      <td>5.390453e-08</td>\n",
       "      <td>4.500000e-38</td>\n",
       "    </tr>\n",
       "    <tr>\n",
       "      <th>3</th>\n",
       "      <td>0.000003</td>\n",
       "      <td>1120.55</td>\n",
       "      <td>5.249653e-10</td>\n",
       "      <td>0.829375</td>\n",
       "      <td>0.000021</td>\n",
       "      <td>4.505378e-38</td>\n",
       "      <td>1.495432e-18</td>\n",
       "      <td>1.506887e-27</td>\n",
       "      <td>4.505378e-38</td>\n",
       "      <td>4.505378e-38</td>\n",
       "      <td>...</td>\n",
       "      <td>1.076439e-10</td>\n",
       "      <td>0.000018</td>\n",
       "      <td>1.283903e-13</td>\n",
       "      <td>9.198541e-22</td>\n",
       "      <td>1.095008e-25</td>\n",
       "      <td>1.194894e-31</td>\n",
       "      <td>2.305577e-08</td>\n",
       "      <td>1.136884e-16</td>\n",
       "      <td>5.695836e-08</td>\n",
       "      <td>4.500000e-38</td>\n",
       "    </tr>\n",
       "    <tr>\n",
       "      <th>4</th>\n",
       "      <td>0.000004</td>\n",
       "      <td>1120.55</td>\n",
       "      <td>4.306428e-10</td>\n",
       "      <td>0.829377</td>\n",
       "      <td>0.000017</td>\n",
       "      <td>4.505378e-38</td>\n",
       "      <td>1.480360e-18</td>\n",
       "      <td>1.800108e-27</td>\n",
       "      <td>4.505378e-38</td>\n",
       "      <td>4.505378e-38</td>\n",
       "      <td>...</td>\n",
       "      <td>1.024490e-10</td>\n",
       "      <td>0.000018</td>\n",
       "      <td>1.869807e-13</td>\n",
       "      <td>1.950916e-21</td>\n",
       "      <td>3.381929e-25</td>\n",
       "      <td>5.374143e-31</td>\n",
       "      <td>1.583354e-08</td>\n",
       "      <td>9.421812e-17</td>\n",
       "      <td>5.863542e-08</td>\n",
       "      <td>4.500000e-38</td>\n",
       "    </tr>\n",
       "  </tbody>\n",
       "</table>\n",
       "<p>5 rows × 36 columns</p>\n",
       "</div>"
      ],
      "text/plain": [
       "   pressure  temperature            e-        H2         H            H+  \\\n",
       "0  0.000001      1120.55  9.490315e-10  0.829371  0.000037  4.505256e-38   \n",
       "1  0.000001      1120.55  7.790618e-10  0.829372  0.000031  4.505298e-38   \n",
       "2  0.000002      1120.55  6.395334e-10  0.829374  0.000025  4.505340e-38   \n",
       "3  0.000003      1120.55  5.249653e-10  0.829375  0.000021  4.505378e-38   \n",
       "4  0.000004      1120.55  4.306428e-10  0.829377  0.000017  4.505378e-38   \n",
       "\n",
       "             H-           H2-           H2+           H3+  ...            Cs  \\\n",
       "0  1.537986e-18  8.816532e-28  4.505256e-38  4.505256e-38  ...  1.249933e-10   \n",
       "1  1.523700e-18  1.054149e-27  4.505298e-38  4.505298e-38  ...  1.189188e-10   \n",
       "2  1.509547e-18  1.260395e-27  4.505340e-38  4.505340e-38  ...  1.131394e-10   \n",
       "3  1.495432e-18  1.506887e-27  4.505378e-38  4.505378e-38  ...  1.076439e-10   \n",
       "4  1.480360e-18  1.800108e-27  4.505378e-38  4.505378e-38  ...  1.024490e-10   \n",
       "\n",
       "        CO2           HCN          C2H2          C2H4          C2H6  \\\n",
       "0  0.000018  4.153731e-14  9.628886e-23  3.709806e-27  1.310189e-33   \n",
       "1  0.000018  6.050700e-14  2.043128e-22  1.146517e-26  5.897597e-33   \n",
       "2  0.000018  8.813998e-14  4.335259e-22  3.543317e-26  2.654705e-32   \n",
       "3  0.000018  1.283903e-13  9.198541e-22  1.095008e-25  1.194894e-31   \n",
       "4  0.000018  1.869807e-13  1.950916e-21  3.381929e-25  5.374143e-31   \n",
       "\n",
       "            SiO           MgH           OCS      graphite  \n",
       "0  7.121062e-08  1.997696e-16  4.806553e-08  4.500000e-38  \n",
       "1  4.889768e-08  1.655482e-16  5.090137e-08  4.500000e-38  \n",
       "2  3.357622e-08  1.371890e-16  5.390453e-08  4.500000e-38  \n",
       "3  2.305577e-08  1.136884e-16  5.695836e-08  4.500000e-38  \n",
       "4  1.583354e-08  9.421812e-17  5.863542e-08  4.500000e-38  \n",
       "\n",
       "[5 rows x 36 columns]"
      ]
     },
     "execution_count": 21,
     "metadata": {},
     "output_type": "execute_result"
    }
   ],
   "source": [
    "w39.inputs['atmosphere']['profile'].head()"
   ]
  },
  {
   "cell_type": "markdown",
   "id": "f908fef0",
   "metadata": {
    "id": "98aeb8fc-4b53-4457-870a-a899affc9a9c"
   },
   "source": [
    "### Reference Pressure\n",
    "\n",
    "Lastly, we need to decide on a \"reference pressure.\" If our planet was terrestrial, this would be the pressure at the surface, and therefore also the pressure corresponding to the radius of the planet. For gas giants like WASP-39 b, this is a bit more complicated -- there is no \"surface,\" so we need to pick a pressure that corresponds to our planet's \"radius\" or surface, so that PICASO can calculate gravity as a function of altitude from that level.\n",
    "\n",
    "We are selecting a pressure that we are essentially calling the bottom.\n",
    "\n",
    "As we've discussed, a planet's radius changes depending on the wavelength at which you observe it -- it's that change that we are measuring with our spectra. But when we input the planet radius above, we picked a single number -- 1.27 `r_jup`. That number is an average calculated over a band of wavelengths. And so when we pick a reference pressure, we estimate roughly what level of the planet's atmosphere that averaged radius corresponds to (where, from the high pressure deep inside, to the low pressure at the exterior, does the chosen radius fall?).\n",
    "\n",
    "PICASO suggests a reference pressure of 10 bar for gas giants, so we will start with that:"
   ]
  },
  {
   "cell_type": "code",
   "execution_count": 22,
   "id": "9485d04a",
   "metadata": {
    "id": "7a1b1cc7-37ef-4960-8512-f4d77f326fd4"
   },
   "outputs": [],
   "source": [
    "w39.approx(p_reference=10)"
   ]
  },
  {
   "cell_type": "markdown",
   "id": "ff42808a",
   "metadata": {
    "id": "969c933b"
   },
   "source": [
    "### Want to check your inputs so far?\n",
    "\n",
    "If you want you can consult `w39.inputs` to check or reset inputs. Let's see how our WASP-39 b object is holding up!"
   ]
  },
  {
   "cell_type": "code",
   "execution_count": 23,
   "id": "4144b771",
   "metadata": {
    "id": "3dc8c591"
   },
   "outputs": [
    {
     "data": {
      "text/plain": [
       "dict_keys(['version', 'calculation', 'phase', 'planet', 'climate', 'star', 'atmosphere', 'clouds', 'approx', 'disco', 'opacities', 'test_mode', 'output_dir'])"
      ]
     },
     "execution_count": 23,
     "metadata": {},
     "output_type": "execute_result"
    }
   ],
   "source": [
    "w39.inputs.keys()"
   ]
  },
  {
   "cell_type": "markdown",
   "id": "5447d7d3-f3ec-4c13-a609-67389021c46e",
   "metadata": {},
   "source": [
    "An atmosphere profile table shows the elemental abundances at each pressure level in our model atmosphere."
   ]
  },
  {
   "cell_type": "code",
   "execution_count": 24,
   "id": "43e30bc4",
   "metadata": {
    "id": "7be17b68"
   },
   "outputs": [
    {
     "data": {
      "text/html": [
       "<div>\n",
       "<style scoped>\n",
       "    .dataframe tbody tr th:only-of-type {\n",
       "        vertical-align: middle;\n",
       "    }\n",
       "\n",
       "    .dataframe tbody tr th {\n",
       "        vertical-align: top;\n",
       "    }\n",
       "\n",
       "    .dataframe thead th {\n",
       "        text-align: right;\n",
       "    }\n",
       "</style>\n",
       "<table border=\"1\" class=\"dataframe\">\n",
       "  <thead>\n",
       "    <tr style=\"text-align: right;\">\n",
       "      <th></th>\n",
       "      <th>pressure</th>\n",
       "      <th>temperature</th>\n",
       "      <th>e-</th>\n",
       "      <th>H2</th>\n",
       "      <th>H</th>\n",
       "      <th>H+</th>\n",
       "      <th>H-</th>\n",
       "      <th>H2-</th>\n",
       "      <th>H2+</th>\n",
       "      <th>H3+</th>\n",
       "      <th>...</th>\n",
       "      <th>Cs</th>\n",
       "      <th>CO2</th>\n",
       "      <th>HCN</th>\n",
       "      <th>C2H2</th>\n",
       "      <th>C2H4</th>\n",
       "      <th>C2H6</th>\n",
       "      <th>SiO</th>\n",
       "      <th>MgH</th>\n",
       "      <th>OCS</th>\n",
       "      <th>graphite</th>\n",
       "    </tr>\n",
       "  </thead>\n",
       "  <tbody>\n",
       "    <tr>\n",
       "      <th>0</th>\n",
       "      <td>0.000001</td>\n",
       "      <td>1120.55</td>\n",
       "      <td>9.490315e-10</td>\n",
       "      <td>0.829371</td>\n",
       "      <td>0.000037</td>\n",
       "      <td>4.505256e-38</td>\n",
       "      <td>1.537986e-18</td>\n",
       "      <td>8.816532e-28</td>\n",
       "      <td>4.505256e-38</td>\n",
       "      <td>4.505256e-38</td>\n",
       "      <td>...</td>\n",
       "      <td>1.249933e-10</td>\n",
       "      <td>0.000018</td>\n",
       "      <td>4.153731e-14</td>\n",
       "      <td>9.628886e-23</td>\n",
       "      <td>3.709806e-27</td>\n",
       "      <td>1.310189e-33</td>\n",
       "      <td>7.121062e-08</td>\n",
       "      <td>1.997696e-16</td>\n",
       "      <td>4.806553e-08</td>\n",
       "      <td>4.500000e-38</td>\n",
       "    </tr>\n",
       "    <tr>\n",
       "      <th>1</th>\n",
       "      <td>0.000001</td>\n",
       "      <td>1120.55</td>\n",
       "      <td>7.790618e-10</td>\n",
       "      <td>0.829372</td>\n",
       "      <td>0.000031</td>\n",
       "      <td>4.505298e-38</td>\n",
       "      <td>1.523700e-18</td>\n",
       "      <td>1.054149e-27</td>\n",
       "      <td>4.505298e-38</td>\n",
       "      <td>4.505298e-38</td>\n",
       "      <td>...</td>\n",
       "      <td>1.189188e-10</td>\n",
       "      <td>0.000018</td>\n",
       "      <td>6.050700e-14</td>\n",
       "      <td>2.043128e-22</td>\n",
       "      <td>1.146517e-26</td>\n",
       "      <td>5.897597e-33</td>\n",
       "      <td>4.889768e-08</td>\n",
       "      <td>1.655482e-16</td>\n",
       "      <td>5.090137e-08</td>\n",
       "      <td>4.500000e-38</td>\n",
       "    </tr>\n",
       "    <tr>\n",
       "      <th>2</th>\n",
       "      <td>0.000002</td>\n",
       "      <td>1120.55</td>\n",
       "      <td>6.395334e-10</td>\n",
       "      <td>0.829374</td>\n",
       "      <td>0.000025</td>\n",
       "      <td>4.505340e-38</td>\n",
       "      <td>1.509547e-18</td>\n",
       "      <td>1.260395e-27</td>\n",
       "      <td>4.505340e-38</td>\n",
       "      <td>4.505340e-38</td>\n",
       "      <td>...</td>\n",
       "      <td>1.131394e-10</td>\n",
       "      <td>0.000018</td>\n",
       "      <td>8.813998e-14</td>\n",
       "      <td>4.335259e-22</td>\n",
       "      <td>3.543317e-26</td>\n",
       "      <td>2.654705e-32</td>\n",
       "      <td>3.357622e-08</td>\n",
       "      <td>1.371890e-16</td>\n",
       "      <td>5.390453e-08</td>\n",
       "      <td>4.500000e-38</td>\n",
       "    </tr>\n",
       "    <tr>\n",
       "      <th>3</th>\n",
       "      <td>0.000003</td>\n",
       "      <td>1120.55</td>\n",
       "      <td>5.249653e-10</td>\n",
       "      <td>0.829375</td>\n",
       "      <td>0.000021</td>\n",
       "      <td>4.505378e-38</td>\n",
       "      <td>1.495432e-18</td>\n",
       "      <td>1.506887e-27</td>\n",
       "      <td>4.505378e-38</td>\n",
       "      <td>4.505378e-38</td>\n",
       "      <td>...</td>\n",
       "      <td>1.076439e-10</td>\n",
       "      <td>0.000018</td>\n",
       "      <td>1.283903e-13</td>\n",
       "      <td>9.198541e-22</td>\n",
       "      <td>1.095008e-25</td>\n",
       "      <td>1.194894e-31</td>\n",
       "      <td>2.305577e-08</td>\n",
       "      <td>1.136884e-16</td>\n",
       "      <td>5.695836e-08</td>\n",
       "      <td>4.500000e-38</td>\n",
       "    </tr>\n",
       "    <tr>\n",
       "      <th>4</th>\n",
       "      <td>0.000004</td>\n",
       "      <td>1120.55</td>\n",
       "      <td>4.306428e-10</td>\n",
       "      <td>0.829377</td>\n",
       "      <td>0.000017</td>\n",
       "      <td>4.505378e-38</td>\n",
       "      <td>1.480360e-18</td>\n",
       "      <td>1.800108e-27</td>\n",
       "      <td>4.505378e-38</td>\n",
       "      <td>4.505378e-38</td>\n",
       "      <td>...</td>\n",
       "      <td>1.024490e-10</td>\n",
       "      <td>0.000018</td>\n",
       "      <td>1.869807e-13</td>\n",
       "      <td>1.950916e-21</td>\n",
       "      <td>3.381929e-25</td>\n",
       "      <td>5.374143e-31</td>\n",
       "      <td>1.583354e-08</td>\n",
       "      <td>9.421812e-17</td>\n",
       "      <td>5.863542e-08</td>\n",
       "      <td>4.500000e-38</td>\n",
       "    </tr>\n",
       "  </tbody>\n",
       "</table>\n",
       "<p>5 rows × 36 columns</p>\n",
       "</div>"
      ],
      "text/plain": [
       "   pressure  temperature            e-        H2         H            H+  \\\n",
       "0  0.000001      1120.55  9.490315e-10  0.829371  0.000037  4.505256e-38   \n",
       "1  0.000001      1120.55  7.790618e-10  0.829372  0.000031  4.505298e-38   \n",
       "2  0.000002      1120.55  6.395334e-10  0.829374  0.000025  4.505340e-38   \n",
       "3  0.000003      1120.55  5.249653e-10  0.829375  0.000021  4.505378e-38   \n",
       "4  0.000004      1120.55  4.306428e-10  0.829377  0.000017  4.505378e-38   \n",
       "\n",
       "             H-           H2-           H2+           H3+  ...            Cs  \\\n",
       "0  1.537986e-18  8.816532e-28  4.505256e-38  4.505256e-38  ...  1.249933e-10   \n",
       "1  1.523700e-18  1.054149e-27  4.505298e-38  4.505298e-38  ...  1.189188e-10   \n",
       "2  1.509547e-18  1.260395e-27  4.505340e-38  4.505340e-38  ...  1.131394e-10   \n",
       "3  1.495432e-18  1.506887e-27  4.505378e-38  4.505378e-38  ...  1.076439e-10   \n",
       "4  1.480360e-18  1.800108e-27  4.505378e-38  4.505378e-38  ...  1.024490e-10   \n",
       "\n",
       "        CO2           HCN          C2H2          C2H4          C2H6  \\\n",
       "0  0.000018  4.153731e-14  9.628886e-23  3.709806e-27  1.310189e-33   \n",
       "1  0.000018  6.050700e-14  2.043128e-22  1.146517e-26  5.897597e-33   \n",
       "2  0.000018  8.813998e-14  4.335259e-22  3.543317e-26  2.654705e-32   \n",
       "3  0.000018  1.283903e-13  9.198541e-22  1.095008e-25  1.194894e-31   \n",
       "4  0.000018  1.869807e-13  1.950916e-21  3.381929e-25  5.374143e-31   \n",
       "\n",
       "            SiO           MgH           OCS      graphite  \n",
       "0  7.121062e-08  1.997696e-16  4.806553e-08  4.500000e-38  \n",
       "1  4.889768e-08  1.655482e-16  5.090137e-08  4.500000e-38  \n",
       "2  3.357622e-08  1.371890e-16  5.390453e-08  4.500000e-38  \n",
       "3  2.305577e-08  1.136884e-16  5.695836e-08  4.500000e-38  \n",
       "4  1.583354e-08  9.421812e-17  5.863542e-08  4.500000e-38  \n",
       "\n",
       "[5 rows x 36 columns]"
      ]
     },
     "execution_count": 24,
     "metadata": {},
     "output_type": "execute_result"
    }
   ],
   "source": [
    "w39.inputs['atmosphere']['profile'].head()"
   ]
  },
  {
   "cell_type": "markdown",
   "id": "32d01a5b-09a0-4e4b-8ea6-e259676ab7f2",
   "metadata": {},
   "source": [
    "We can look at the abundances for a single molecule, say CO$_2$."
   ]
  },
  {
   "cell_type": "code",
   "execution_count": 25,
   "id": "77294f7a",
   "metadata": {
    "id": "d62cbd84"
   },
   "outputs": [
    {
     "data": {
      "text/plain": [
       "array([1.79267873e-05, 1.79249913e-05, 1.79231956e-05, 1.79214685e-05,\n",
       "       1.79205465e-05, 1.79196245e-05, 1.79187025e-05, 1.79177025e-05,\n",
       "       1.79166913e-05, 1.79156802e-05, 1.79149708e-05, 1.79142762e-05,\n",
       "       1.79135817e-05, 1.79130064e-05, 1.79124708e-05, 1.79119353e-05,\n",
       "       1.79116995e-05, 1.79115258e-05, 1.79113521e-05, 1.79111679e-05,\n",
       "       1.79109774e-05, 1.79107869e-05, 1.79107304e-05, 1.79107304e-05,\n",
       "       1.79107304e-05, 1.79111051e-05, 1.79118546e-05, 1.79126042e-05,\n",
       "       1.79168402e-05, 1.79236197e-05, 1.79304018e-05, 1.79541807e-05,\n",
       "       1.80063886e-05, 1.80587482e-05, 1.80587902e-05, 1.79957721e-05,\n",
       "       1.79329740e-05, 1.72447325e-05, 1.49014162e-05, 1.28765235e-05,\n",
       "       9.97526332e-06, 6.18030943e-06, 3.82909438e-06, 2.30984178e-06,\n",
       "       1.15576774e-06, 5.78307604e-07, 2.86382257e-07, 1.36176533e-07,\n",
       "       6.47527829e-08, 3.07903484e-08])"
      ]
     },
     "execution_count": 25,
     "metadata": {},
     "output_type": "execute_result"
    }
   ],
   "source": [
    "# Grab CO2 array, for instance\n",
    "w39.inputs['atmosphere']['profile']['CO2'].values "
   ]
  },
  {
   "cell_type": "markdown",
   "id": "1e0a4413-07ce-418d-b7be-76dbf72d720c",
   "metadata": {},
   "source": [
    "We can check our inputs for the planet and the host star."
   ]
  },
  {
   "cell_type": "code",
   "execution_count": 26,
   "id": "d57ddf1b",
   "metadata": {
    "id": "61388471"
   },
   "outputs": [
    {
     "data": {
      "text/plain": [
       "({'gravity': 430.29483869562654,\n",
       "  'gravity_unit': 'cm/(s**2)',\n",
       "  'radius': 9079484000.0,\n",
       "  'radius_unit': 'cm',\n",
       "  'mass': 5.3147488725409414e+29,\n",
       "  'mass_unit': 'g'},\n",
       " {'database': 'phoenix',\n",
       "  'temp': 5400,\n",
       "  'metal': 0.01,\n",
       "  'logg': 4.45,\n",
       "  'radius': 62613000000.0,\n",
       "  'radius_unit': 'cm',\n",
       "  'flux': array([7.71668689e+11, 7.69661116e+11, 7.68010357e+11, ...,\n",
       "         1.65057693e+13, 1.64692540e+13, 1.63769581e+13]),\n",
       "  'flux_unit': 'ergs cm^{-2} s^{-1} cm^{-1}',\n",
       "  'wno': array([1666.73712405, 1666.84824356, 1666.95937048, ..., 3702.96764348,\n",
       "         3703.21451622, 3703.46140542]),\n",
       "  'semi_major': nan,\n",
       "  'semi_major_unit': 'Semi Major axis not supplied',\n",
       "  'filename': None,\n",
       "  'w_unit': None,\n",
       "  'f_unit': None})"
      ]
     },
     "execution_count": 26,
     "metadata": {},
     "output_type": "execute_result"
    }
   ],
   "source": [
    "w39.inputs['planet'], w39.inputs['star'] # All your inputs have been archived!"
   ]
  },
  {
   "cell_type": "markdown",
   "id": "eaa953d0",
   "metadata": {
    "id": "4ed9002e-85a3-4b3b-a20f-2750e7004847"
   },
   "source": [
    "# Creating a Transmission Spectrum\n",
    "\n",
    "Now that we have set up PICASO with everything it needs, and we understand the components needed to model an exoplanet, let's ask PICASO to output a transmission spectrum for our WASP-39 b.\n",
    "\n",
    "## First Run PICASO\n",
    "\n",
    "We can use the <code>.spectrum</code> function to do so.\n",
    "\n",
    "We need to give the function a connection to the opacity database we used earlier to look up the absorption spectrum for water, as well as an instruction to create a \"transmission\" spectrum (as opposed to, for example, a reflected light spectrum of star light bouncing off the planet when it's almost behind its star)."
   ]
  },
  {
   "cell_type": "code",
   "execution_count": 27,
   "id": "c09154ef",
   "metadata": {
    "id": "bcf63c09-64b4-4122-b56e-24445bb489ce"
   },
   "outputs": [],
   "source": [
    "model_iso = w39.spectrum(opa,\n",
    "                       # Other options are \"thermal\" or \"reflected\"\n",
    "                       # or a combination of two e.g. \"transmission+thermal\"\n",
    "                       calculation='transmission',\n",
    "                       full_output=True)"
   ]
  },
  {
   "cell_type": "markdown",
   "id": "0e26ff7f",
   "metadata": {
    "id": "ba6bba7f-3eb9-4a8a-8c5c-e88c7c371f7d"
   },
   "source": [
    "## Our Spectra\n",
    "\n",
    "Let's set up a function to display the spectrum in our first output dictionary (first one is called `model_iso`). Moving forward  we will create more models and we want a way to easily display them."
   ]
  },
  {
   "cell_type": "code",
   "execution_count": 28,
   "id": "01116265",
   "metadata": {
    "id": "42dd80a1-e613-4038-a71a-f16b76c9cf11"
   },
   "outputs": [],
   "source": [
    "def show_spectra(output, x_range_min=3.0, x_range_max=5.5):\n",
    "    # Step 1) Regrid model to be on the same x axis as the data\n",
    "    wnos, transit_depth = jdi.mean_regrid(output['wavenumber'],\n",
    "                                         output['transit_depth'],\n",
    "                                         newx=sorted(1e4/observed_data['wavelength']))\n",
    "\n",
    "    # Step 2) Use PICASO function to create a plot with the models\n",
    "    fig = jpi.spectrum(wnos, transit_depth,\n",
    "                       plot_width=800,y_axis_label='Absolute (Rp/Rs)^2',\n",
    "                       x_range=(x_range_min,x_range_max))\n",
    "\n",
    "    # Step 3) Use PICASO function to add the data so we can compare\n",
    "    jpi.plot_multierror(observed_data['wavelength'], observed_data['tr_depth'], fig,\n",
    "                        dy_low=observed_data['tr_depth_errneg'], dy_up=observed_data['tr_depth_errpos'],\n",
    "                        dx_low=[0],dx_up=[0], point_kwargs={'color':'black'})\n",
    "    jpi.show(fig)"
   ]
  },
  {
   "cell_type": "code",
   "execution_count": 29,
   "id": "f1e1a178",
   "metadata": {
    "id": "fe9cb93d-69af-4436-ac40-77c1b5e358df"
   },
   "outputs": [
    {
     "data": {
      "text/html": [
       "\n",
       "  <div id=\"b1abdd62-a3bf-447c-8090-1763b88a1cbf\" data-root-id=\"p1001\" style=\"display: contents;\"></div>\n"
      ]
     },
     "metadata": {},
     "output_type": "display_data"
    },
    {
     "data": {
      "application/javascript": [
       "(function(root) {\n",
       "  function embed_document(root) {\n",
       "  const docs_json = {\"b1c5810c-395d-421b-b191-90b6f92e2d59\":{\"version\":\"3.4.3\",\"title\":\"Bokeh Application\",\"roots\":[{\"type\":\"object\",\"name\":\"Figure\",\"id\":\"p1001\",\"attributes\":{\"width\":800,\"height\":345,\"x_range\":{\"type\":\"object\",\"name\":\"Range1d\",\"id\":\"p1010\",\"attributes\":{\"start\":3.0,\"end\":5.5}},\"y_range\":{\"type\":\"object\",\"name\":\"DataRange1d\",\"id\":\"p1003\"},\"x_scale\":{\"type\":\"object\",\"name\":\"LinearScale\",\"id\":\"p1011\"},\"y_scale\":{\"type\":\"object\",\"name\":\"LinearScale\",\"id\":\"p1012\"},\"title\":{\"type\":\"object\",\"name\":\"Title\",\"id\":\"p1008\"},\"renderers\":[{\"type\":\"object\",\"name\":\"GlyphRenderer\",\"id\":\"p1040\",\"attributes\":{\"data_source\":{\"type\":\"object\",\"name\":\"ColumnDataSource\",\"id\":\"p1034\",\"attributes\":{\"selected\":{\"type\":\"object\",\"name\":\"Selection\",\"id\":\"p1035\",\"attributes\":{\"indices\":[],\"line_indices\":[]}},\"selection_policy\":{\"type\":\"object\",\"name\":\"UnionRenderers\",\"id\":\"p1036\"},\"data\":{\"type\":\"map\",\"entries\":[[\"x\",{\"type\":\"ndarray\",\"array\":{\"type\":\"bytes\",\"data\":\"9P3UeOkmFUCxkdZl7A4VQIUQ+Xwd9xRAJuvxcwzfFECmkVx4usYUQFvuZY2JrhRA6A2sK5qWFECtCvUvqn4UQDlG/at4ZhRAytCdNFFIFEB0SWn/WCQUQN9gGN02BhRAm1M1ByfuE0AsjYAcWNYTQPyxAglHvhNArdGIC/WlE0DnnQAjxI0TQBRixsPUdRNApJyMweRdE0BQpCY3s0UTQNb1C2ajLRNAz6TtedQVE0CU6erjqfcSQEcr7PFw0xJASbJLpJK1EkCRw/OEgZ0SQNJkOoUvhRJAk9tKn/5sEkBEdr5CD1USQJ0kETkfPRJA3y5Pp+0kEkDcxgHe3QwSQH7Ybe8O9RFAiNC77+LWEUAf1BQEqrIRQKLLyA/NlBFAX1ro4rt8EUAUPXzgaWQRQO2U2hxaTBFA9JFcLIs0EUDwkYn6eRwRQFU3GPcnBBFASFF0NhjsEEDBVehESdQQQM0O5A04vBBAV5tbCeajEEDL8tFL1osQQPJTJVkHdBBAcVKsHPZbEEAzQPkWpEMQQGbap1yUKxBAgSrGaMUTEEDahh9NaPcPQGxeOT/Exg9AOWtG0aSWD0AMG+zmBmcPQLw3kawmNw9Aqff+VsMGD0DYei+cYdYOQLu8r/GCpg5A7/tpVGB2DkA4NfJAvEUOQD4rK+GcFQ5APj8K8f7lDUDDY0tG3LUNQKr8ty84hQ1A0L101xhVDUA/fxnkeiUNQCG4VZGa9QxAhdsjIjfFDEBHG9FZlYgMQL+XEx1kQAxAEWM75C8EDEAWsfCbENQLQByaUqFypAtABSMyyU90C0CulbWnq0MLQGgC6WeMEwtAXcoyae7jCkCgLgiAy7MKQOAMR1ongwpAlOZVIwhTCkBuHSwgaiMKQAAj2yRH8wlA8rN0+qLCCUAHu8HMg5IJQC/Ef0CjYglAhOCHpT8yCUDTVrX53QEJQFqViWL/0QhAG9g4VWGiCECdTdExPnIIQIszzfyZQQhAxCCwcmgRCEA=\"},\"shape\":[94],\"dtype\":\"float64\",\"order\":\"little\"}],[\"y\",{\"type\":\"ndarray\",\"array\":{\"type\":\"bytes\",\"data\":\"CZzYmAvgmj9eC9+6LeOaPw/lwN5Ptpo/41GADn3smj+7SJs9PfqaP39a2TXA3Zo/ngywu7PJmj+gzLXR1uyaP7sznTk/6po/Fb+wFIbxmj+iDlHDysWaP5JtiQsB6Zo/8Bwhnk2Vmj+jNh2bmQKbP/yruflhH5s/Okj1KN3Nmj/DzEsgOamaPwTQb8qHCZs/W0BqRSfemj8mlqKmFNmaPwxN6giI95o/8RMVkOvUmj8gU1CLBq6aP5Um1L5W45o/C+B20GzHmj/bv30KkwebP1bLAo+MCJs/RoLmNEFDmz8tRJekW2GbP/jvClTFe5s/P+vj0wSrmz8q6osGGsWbPyvFA4uq/Zs/ZLpMkkMOnD9yUDZfm1CcP/UhsdPlTpw/YHR2eoBFnD9JVK93/FOcP5t5AfUZWpw/DkFnv91DnD+Ppm5wI0ScP/UoYEekz5s/i2fVSApMmz80IJMn/7KaP5Rr6KVidpo/Fu0W56MDmj+r9lB3FsWZPzWB2pzWzZk/md6nbyrBmT+3MO4qZ5yZP5OIbtuzlJk/wVIHUKVzmT/FRmcCsX2ZP43+xO6Kj5k/yfkTnkNsmT8qIuXcsW6ZPxEqpIiYi5k/s853Xax8mT+mK1CW0XmZP3aJMqNpl5k/vTmJ72OomT+hBzLin62ZP+Py14v71Zk/UF5pjQnBmT+4Y8XbucCZP/BDXURz8Jk/c5dYQMjUmT+UlqAEuNuZPznToW46+5k/yrhDCzAAmj/Y0U2hOBCaP+Xx2bIzE5o/52ntH6EBmj+v6aZkz/WZP0/r1yDhE5o/GooGKEbumT9x9J2TIB+aP02G6C01D5o/3tYNvHEkmj9cWBuTJCWaP37RReX/LJo/xZP+OW1ymj/jtqRRHCOaPxvHehPpVZo//dKNGdtwmj+Jm3HsYIuaP1+W9QcPepo/GI9/X/ytmj90oHe75K2aP23VYdJZzJo/WCu38mEqmz9UbIW+UimbPyD1I4b9/Zo/aMSP6UBBmz8=\"},\"shape\":[94],\"dtype\":\"float64\",\"order\":\"little\"}]]}}},\"view\":{\"type\":\"object\",\"name\":\"CDSView\",\"id\":\"p1041\",\"attributes\":{\"filter\":{\"type\":\"object\",\"name\":\"AllIndices\",\"id\":\"p1042\"}}},\"glyph\":{\"type\":\"object\",\"name\":\"Line\",\"id\":\"p1037\",\"attributes\":{\"x\":{\"type\":\"field\",\"field\":\"x\"},\"y\":{\"type\":\"field\",\"field\":\"y\"},\"line_color\":\"#0072B2\",\"line_width\":3}},\"nonselection_glyph\":{\"type\":\"object\",\"name\":\"Line\",\"id\":\"p1038\",\"attributes\":{\"x\":{\"type\":\"field\",\"field\":\"x\"},\"y\":{\"type\":\"field\",\"field\":\"y\"},\"line_color\":\"#0072B2\",\"line_alpha\":0.1,\"line_width\":3}},\"muted_glyph\":{\"type\":\"object\",\"name\":\"Line\",\"id\":\"p1039\",\"attributes\":{\"x\":{\"type\":\"field\",\"field\":\"x\"},\"y\":{\"type\":\"field\",\"field\":\"y\"},\"line_color\":\"#0072B2\",\"line_alpha\":0.2,\"line_width\":3}}}},{\"type\":\"object\",\"name\":\"GlyphRenderer\",\"id\":\"p1049\",\"attributes\":{\"data_source\":{\"type\":\"object\",\"name\":\"ColumnDataSource\",\"id\":\"p1043\",\"attributes\":{\"selected\":{\"type\":\"object\",\"name\":\"Selection\",\"id\":\"p1044\",\"attributes\":{\"indices\":[],\"line_indices\":[]}},\"selection_policy\":{\"type\":\"object\",\"name\":\"UnionRenderers\",\"id\":\"p1045\"},\"data\":{\"type\":\"map\",\"entries\":[[\"xs\",[[3.0084999999999997,3.0084999999999997]]],[\"ys\",[[0.021618167865373232,0.021618167865373232]]]]}}},\"view\":{\"type\":\"object\",\"name\":\"CDSView\",\"id\":\"p1050\",\"attributes\":{\"filter\":{\"type\":\"object\",\"name\":\"AllIndices\",\"id\":\"p1051\"}}},\"glyph\":{\"type\":\"object\",\"name\":\"MultiLine\",\"id\":\"p1046\",\"attributes\":{\"xs\":{\"type\":\"field\",\"field\":\"xs\"},\"ys\":{\"type\":\"field\",\"field\":\"ys\"},\"line_color\":{\"type\":\"value\",\"value\":\"#1f77b4\"}}},\"nonselection_glyph\":{\"type\":\"object\",\"name\":\"MultiLine\",\"id\":\"p1047\",\"attributes\":{\"xs\":{\"type\":\"field\",\"field\":\"xs\"},\"ys\":{\"type\":\"field\",\"field\":\"ys\"},\"line_color\":{\"type\":\"value\",\"value\":\"#1f77b4\"},\"line_alpha\":{\"type\":\"value\",\"value\":0.1}}},\"muted_glyph\":{\"type\":\"object\",\"name\":\"MultiLine\",\"id\":\"p1048\",\"attributes\":{\"xs\":{\"type\":\"field\",\"field\":\"xs\"},\"ys\":{\"type\":\"field\",\"field\":\"ys\"},\"line_color\":{\"type\":\"value\",\"value\":\"#1f77b4\"},\"line_alpha\":{\"type\":\"value\",\"value\":0.2}}}}},{\"type\":\"object\",\"name\":\"GlyphRenderer\",\"id\":\"p1058\",\"attributes\":{\"data_source\":{\"type\":\"object\",\"name\":\"ColumnDataSource\",\"id\":\"p1052\",\"attributes\":{\"selected\":{\"type\":\"object\",\"name\":\"Selection\",\"id\":\"p1053\",\"attributes\":{\"indices\":[],\"line_indices\":[]}},\"selection_policy\":{\"type\":\"object\",\"name\":\"UnionRenderers\",\"id\":\"p1054\"},\"data\":{\"type\":\"map\",\"entries\":[[\"xs\",[[3.0084999999999997,3.0084999999999997],[3.032,3.032],[3.056,3.056],[3.0795000000000003,3.0795000000000003],[3.1025,3.1025],[3.126,3.126],[3.1494999999999997,3.1494999999999997],[3.1734999999999998,3.1734999999999998],[3.1965000000000003,3.1965000000000003],[3.22,3.22],[3.2439999999999998,3.2439999999999998],[3.2675,3.2675],[3.2904999999999998,3.2904999999999998],[3.314,3.314],[3.338,3.338],[3.3615000000000004,3.3615000000000004],[3.3845,3.3845],[3.408,3.408],[3.432,3.432],[3.4555,3.4555],[3.4785000000000004,3.4785000000000004],[3.502,3.502],[3.526,3.526],[3.5725,3.5725],[3.5965,3.5965],[3.62,3.62],[3.6435,3.6435],[3.6665,3.6665],[3.69,3.69],[3.714,3.714],[3.7375,3.7375],[3.7605,3.7605],[3.784,3.784],[3.808,3.808],[3.8315,3.8315],[3.8545,3.8545],[3.8785,3.8785],[3.902,3.902],[3.9255,3.9255],[3.9485,3.9485],[3.972,3.972],[3.996,3.996],[4.0195,4.0195],[4.0425,4.0425],[4.066000000000001,4.066000000000001],[4.09,4.09],[4.1135,4.1135],[4.1365,4.1365],[4.16,4.16],[4.183999999999999,4.183999999999999],[4.2075,4.2075],[4.2305,4.2305],[4.254,4.254],[4.2780000000000005,4.2780000000000005],[4.3015,4.3015],[4.3245000000000005,4.3245000000000005],[4.348000000000001,4.348000000000001],[4.372,4.372],[4.3955,4.3955],[4.4185,4.4185],[4.465999999999999,4.465999999999999],[4.4895,4.4895],[4.5125,4.5125],[4.536,4.536],[4.5600000000000005,4.5600000000000005],[4.583,4.583],[4.6065000000000005,4.6065000000000005],[4.630000000000001,4.630000000000001],[4.654,4.654],[4.6775,4.6775],[4.7005,4.7005],[4.747999999999999,4.747999999999999],[4.7715,4.7715],[4.7945,4.7945],[4.818,4.818],[4.8420000000000005,4.8420000000000005],[4.865,4.865],[4.8885000000000005,4.8885000000000005],[4.912000000000001,4.912000000000001],[4.936,4.936],[4.9595,4.9595],[4.9825,4.9825],[5.006,5.006],[5.029999999999999,5.029999999999999],[5.0765,5.0765],[5.1,5.1],[5.1240000000000006,5.1240000000000006],[5.147,5.147],[5.1705000000000005,5.1705000000000005],[5.194000000000001,5.194000000000001],[5.218,5.218],[5.2415,5.2415],[5.2645,5.2645],[5.288,5.288]]],[\"ys\",[[0.021537710893666465,0.02170001261019797],[0.021636293352807145,0.021795676692682446],[0.02144225716730079,0.02158330632053631],[0.02148007249947521,0.021632893559411986],[0.021352376291913805,0.02155935823403683],[0.021277266830560058,0.021432348567717644],[0.021448926889893194,0.021609736097509755],[0.021225532126570218,0.021389574087909324],[0.021284296413910015,0.021453692388535655],[0.021310979576685145,0.021474214463823846],[0.02114605934007626,0.021310670285326176],[0.02099049649403118,0.021164089284460643],[0.021023999119537277,0.02120554396635484],[0.02120012447264372,0.021369207636766776],[0.021197816799561488,0.02137463281616484],[0.02095189680466856,0.02119328900338358],[0.021167569811896155,0.02134173249407564],[0.02102058847693462,0.02120384638149079],[0.021186065196992475,0.021345544880796093],[0.021061816967911796,0.021241589891518354],[0.021030544806300643,0.02121479545182641],[0.02088363794835877,0.02108716720761905],[0.021104058503369435,0.021288900984499013],[0.02119992107901662,0.021396278976333807],[0.021085965501197398,0.02128101154344197],[0.02104938072867987,0.021250473781545525],[0.021196429971351443,0.021389038967443832],[0.021174505302911956,0.021372183123714254],[0.020889787268647434,0.02106434759529978],[0.020942981976234443,0.021140879247239154],[0.02104273384523607,0.02125214199705284],[0.020957503016437725,0.02117361239203973],[0.020854788073121428,0.021039469723075292],[0.021089973879444987,0.02130562603277356],[0.020727438029320082,0.020962510890560723],[0.020804689722332344,0.021034004894434317],[0.02093449420238931,0.021125677853112097],[0.020786287743391616,0.021018444134304905],[0.020975277756349157,0.02120566832147178],[0.020876709610794672,0.021120238923464412],[0.021002136756679092,0.02120208265638297],[0.021294264828570258,0.021543037349760916],[0.02126040376084111,0.021466576983672953],[0.021336721340946406,0.021579731164794096],[0.021001022525249092,0.021254732057717773],[0.02095140307213606,0.02117088760062852],[0.02079769615246853,0.021054665365291533],[0.02096742113782112,0.02118705959424819],[0.02118255290799256,0.02145150269628371],[0.021120890661873316,0.021342960301254446],[0.021780983433771058,0.022048225361455478],[0.021794935166771216,0.022006987176243626],[0.022229595236692223,0.022502376603174667],[0.022340699935228418,0.022580168493479432],[0.022285597695533624,0.0225597938758419],[0.022312131023827623,0.02254709709811512],[0.02252697336111534,0.02281364181041607],[0.02239531879665165,0.02264708566458509],[0.022487868097798337,0.02275211971441365],[0.02251342056730397,0.02280662168624928],[0.021763516915826224,0.02201794965402423],[0.022018553077257492,0.02231207949773455],[0.02146228430632976,0.021732127562604318],[0.021570804987368138,0.02182728687209808],[0.021587877008786262,0.02191633498917025],[0.021510725885335397,0.021793946376876136],[0.021478903016920563,0.021768139348400686],[0.021278491892514753,0.02155232705272716],[0.02139423221701229,0.021732857429515844],[0.02127926872607899,0.021567737940382463],[0.02139261004993423,0.021683428739883062],[0.02124297453235087,0.02154282809553892],[0.0217423070529194,0.02210089297635509],[0.02134748313686728,0.021627172949446823],[0.02118316888016605,0.02148675300490259],[0.021376007672644373,0.021677879837479708],[0.021194570942451946,0.021508651302245305],[0.02095129172053214,0.021272144561860325],[0.02095115155141994,0.021275969021207028],[0.021449675377734612,0.021769668976441038],[0.021631775322381544,0.021949957745734886],[0.020807979052524093,0.021113103876035284],[0.02124580137221045,0.02156508023617688],[0.020876763073617917,0.021213413812395644],[0.021354675266671126,0.021706129948206084],[0.021061493043008816,0.021427651790878594],[0.021187902207897635,0.02152975617635865],[0.02146091182607973,0.02181731158427979],[0.020949596242210794,0.021329216009124612],[0.02088818433400837,0.021251384046597988],[0.02124788318615409,0.02157164439552399],[0.021649772763928626,0.02202593072219156],[0.021189357816906156,0.02157169018857836],[0.021010607220494207,0.02137383687644973]]]]}}},\"view\":{\"type\":\"object\",\"name\":\"CDSView\",\"id\":\"p1059\",\"attributes\":{\"filter\":{\"type\":\"object\",\"name\":\"AllIndices\",\"id\":\"p1060\"}}},\"glyph\":{\"type\":\"object\",\"name\":\"MultiLine\",\"id\":\"p1055\",\"attributes\":{\"xs\":{\"type\":\"field\",\"field\":\"xs\"},\"ys\":{\"type\":\"field\",\"field\":\"ys\"},\"line_color\":{\"type\":\"value\",\"value\":\"#1f77b4\"}}},\"nonselection_glyph\":{\"type\":\"object\",\"name\":\"MultiLine\",\"id\":\"p1056\",\"attributes\":{\"xs\":{\"type\":\"field\",\"field\":\"xs\"},\"ys\":{\"type\":\"field\",\"field\":\"ys\"},\"line_color\":{\"type\":\"value\",\"value\":\"#1f77b4\"},\"line_alpha\":{\"type\":\"value\",\"value\":0.1}}},\"muted_glyph\":{\"type\":\"object\",\"name\":\"MultiLine\",\"id\":\"p1057\",\"attributes\":{\"xs\":{\"type\":\"field\",\"field\":\"xs\"},\"ys\":{\"type\":\"field\",\"field\":\"ys\"},\"line_color\":{\"type\":\"value\",\"value\":\"#1f77b4\"},\"line_alpha\":{\"type\":\"value\",\"value\":0.2}}}}},{\"type\":\"object\",\"name\":\"GlyphRenderer\",\"id\":\"p1067\",\"attributes\":{\"data_source\":{\"type\":\"object\",\"name\":\"ColumnDataSource\",\"id\":\"p1061\",\"attributes\":{\"selected\":{\"type\":\"object\",\"name\":\"Selection\",\"id\":\"p1062\",\"attributes\":{\"indices\":[],\"line_indices\":[]}},\"selection_policy\":{\"type\":\"object\",\"name\":\"UnionRenderers\",\"id\":\"p1063\"},\"data\":{\"type\":\"map\",\"entries\":[[\"x\",{\"type\":\"ndarray\",\"array\":{\"type\":\"bytes\",\"data\":\"xCCwcmgRCECoxks3iUEIQKabxCCwcghAikFg5dCiCEBSuB6F69EIQDVeukkMAglAGARWDi0yCUAW2c73U2MJQOBPjZdukglAw/UoXI/CCUDAyqFFtvMJQKRwPQrXIwpAbOf7qfFSCkBQjZduEoMKQE5iEFg5tApAMgisHFrkCkD6fmq8dBMLQN0kBoGVQwtA2/l+arx0C0C+nxov3aQLQIgW2c730wtAarx0kxgEDEBoke18PzUMQBSuR+F6lAxAEoPAyqHFDED2KFyPwvUMQNnO91PjJQ1AokW28/1UDUCF61G4HoUNQIPAyqFFtg1AZmZmZmbmDUAv3SQGgRUOQBKDwMqhRQ5AEFg5tMh2DkD0/dR46aYOQLx0kxgE1g5AukkMAisHD0Ce76fGSzcPQIGVQ4tsZw9ASgwCK4eWD0Atsp3vp8YPQCuHFtnO9w9AhxbZzvcTEEDsUbgehSsQQN4kBoGVQxBAXI/C9ShcEEBOYhBYOXQQQLKd76fGixBApHA9CtejEEAi2/l+arwQQBSuR+F61BBAeekmMQjsEEBqvHSTGAQRQOomMQisHBFA2/l+arw0EUBANV66SUwRQDIIrBxaZBFAsHJoke18EUCiRbbz/ZQRQAaBlUOLrBFAdr6fGi/dEUBoke18P/URQM3MzMzMDBJAvp8aL90kEkA+CtejcD0SQKJFtvP9VBJAlBgEVg5tEkCG61G4HoUSQARWDi2ynRJA9ihcj8K1EkBaZDvfT80SQMqhRbbz/RJAvHSTGAQWE0AhsHJokS0TQBKDwMqhRRNAku18PzVeE0D2KFyPwnUTQOj7qfHSjRNA2s73U+OlE0BYObTIdr4TQEoMAiuH1hNArkfhehTuE0CgGi/dJAYUQB6F61G4HhRAdZMYBFZOFEBmZmZmZmYUQObQItv5fhRASgwCK4eWFEA830+Nl64UQC6yne+nxhRArBxaZDvfFECe76fGS/cUQAIrhxbZDhVA9P3UeOkmFUA=\"},\"shape\":[94],\"dtype\":\"float64\",\"order\":\"little\"}],[\"y\",{\"type\":\"ndarray\",\"array\":{\"type\":\"bytes\",\"data\":\"7sPsrxIjlj9Ki9d01jyWPyhFdVt3B5Y/ucooH1ETlj8fdf6CoviVPyTf/Cg83pU/HfYJxYMLlj9peL7YStGVP9NzJq8z4pU/Z/4x7ZXnlT/FAxjfd7yVPw3i03iDlZU/z2xk0DKflT9mxxTPa8uVP77bKeMBzZU/VAEm2umUlT9/2L7jecSVP7X3Mq73nJU/NIpnnQnGlT/jB9QGe6mVP62KEZZxoJU/BfS49ed7lT8Ka1klArSVPxEKwtNaz5U/fl0e6pCxlT+d7jkQQKmVP/CKlrVIzpU/CVaSepjIlT/ftGs5jXuVPykPLE5wjJU/M2V6n2WmlT/WaoSeJ5KVP/y/nBA0c5U/hyB8hgi1lT9SdUCAc1iVP1Pn267HapU/B1S7StSHlT/xZhXqCmiVPz4s2LLrmJU/KWr0AZSAlT+Y59giGpuVP9R+J6dS75U/uppoE7nhlT9LEFIvOPmVP7K50/yQpJU/LbNV21iRlT8f28dYRW+VP8JJVotzlJU/Gk4NN9HUlT9g3UWPIr6VPwWMVf3jcJY/z6FuV/xslj+TUt+n2uiWP8C06ky/AJc/JuhZGJ71lj/1I2a3uPeWPywo9x61N5c/oQz+GCcQlz9ooAxyayqXP2azoKWeNJc/cxNoheNrlj9e7BWZqrOWPwA2KWPbHpY/fcfs5Qw5lj911YA+LEaWP4ASjpkxLZY/0VEmcWUllj99SlSqz+uVP9nRAyYyFZY/9HoIP/LvlT8sEIEiSQ6WP/UdnOWh6ZU/vPgURSlylj/kD8PzCgGWP6l7tLfW2JU/qJZ4hpoLlj8cIjG0Y9uVP0icxhnjnpU/9kfV+A6flT/0sDogQyCWPzypjYpQT5Y/0sFHxjh2lT97C92KdO2VP3MrxIn9jZU/pXNboMwMlj9Czj4orcCVP/AtQxXe3pU/s4CTcRQolj83ah3zlqWVP9DtOWnslpU/6bDuMnrslT820BZ20VqWP2y14His5JU/8epKtZKxlT8=\"},\"shape\":[94],\"dtype\":\"float64\",\"order\":\"little\"}]]}}},\"view\":{\"type\":\"object\",\"name\":\"CDSView\",\"id\":\"p1068\",\"attributes\":{\"filter\":{\"type\":\"object\",\"name\":\"AllIndices\",\"id\":\"p1069\"}}},\"glyph\":{\"type\":\"object\",\"name\":\"Circle\",\"id\":\"p1064\",\"attributes\":{\"x\":{\"type\":\"field\",\"field\":\"x\"},\"y\":{\"type\":\"field\",\"field\":\"y\"},\"fill_color\":{\"type\":\"value\",\"value\":\"black\"}}},\"nonselection_glyph\":{\"type\":\"object\",\"name\":\"Circle\",\"id\":\"p1065\",\"attributes\":{\"x\":{\"type\":\"field\",\"field\":\"x\"},\"y\":{\"type\":\"field\",\"field\":\"y\"},\"line_alpha\":{\"type\":\"value\",\"value\":0.1},\"fill_color\":{\"type\":\"value\",\"value\":\"black\"},\"fill_alpha\":{\"type\":\"value\",\"value\":0.1},\"hatch_alpha\":{\"type\":\"value\",\"value\":0.1}}},\"muted_glyph\":{\"type\":\"object\",\"name\":\"Circle\",\"id\":\"p1066\",\"attributes\":{\"x\":{\"type\":\"field\",\"field\":\"x\"},\"y\":{\"type\":\"field\",\"field\":\"y\"},\"line_alpha\":{\"type\":\"value\",\"value\":0.2},\"fill_color\":{\"type\":\"value\",\"value\":\"black\"},\"fill_alpha\":{\"type\":\"value\",\"value\":0.2},\"hatch_alpha\":{\"type\":\"value\",\"value\":0.2}}}}}],\"toolbar\":{\"type\":\"object\",\"name\":\"Toolbar\",\"id\":\"p1009\",\"attributes\":{\"tools\":[{\"type\":\"object\",\"name\":\"PanTool\",\"id\":\"p1023\"},{\"type\":\"object\",\"name\":\"WheelZoomTool\",\"id\":\"p1024\",\"attributes\":{\"renderers\":\"auto\"}},{\"type\":\"object\",\"name\":\"BoxZoomTool\",\"id\":\"p1025\",\"attributes\":{\"overlay\":{\"type\":\"object\",\"name\":\"BoxAnnotation\",\"id\":\"p1026\",\"attributes\":{\"syncable\":false,\"level\":\"overlay\",\"visible\":false,\"left\":{\"type\":\"number\",\"value\":\"nan\"},\"right\":{\"type\":\"number\",\"value\":\"nan\"},\"top\":{\"type\":\"number\",\"value\":\"nan\"},\"bottom\":{\"type\":\"number\",\"value\":\"nan\"},\"left_units\":\"canvas\",\"right_units\":\"canvas\",\"top_units\":\"canvas\",\"bottom_units\":\"canvas\",\"line_color\":\"black\",\"line_alpha\":1.0,\"line_width\":2,\"line_dash\":[4,4],\"fill_color\":\"lightgrey\",\"fill_alpha\":0.5}}}},{\"type\":\"object\",\"name\":\"SaveTool\",\"id\":\"p1031\"},{\"type\":\"object\",\"name\":\"ResetTool\",\"id\":\"p1032\"},{\"type\":\"object\",\"name\":\"HelpTool\",\"id\":\"p1033\"}]}},\"left\":[{\"type\":\"object\",\"name\":\"LinearAxis\",\"id\":\"p1018\",\"attributes\":{\"ticker\":{\"type\":\"object\",\"name\":\"BasicTicker\",\"id\":\"p1019\",\"attributes\":{\"mantissas\":[1,2,5]}},\"formatter\":{\"type\":\"object\",\"name\":\"BasicTickFormatter\",\"id\":\"p1020\"},\"axis_label\":\"Absolute (Rp/Rs)^2\",\"axis_label_text_font\":\"times\",\"axis_label_text_font_size\":\"14pt\",\"axis_label_text_font_style\":\"bold\",\"major_label_policy\":{\"type\":\"object\",\"name\":\"AllLabels\",\"id\":\"p1021\"},\"major_label_text_font\":\"times\",\"major_label_text_font_size\":\"14pt\"}}],\"below\":[{\"type\":\"object\",\"name\":\"LinearAxis\",\"id\":\"p1013\",\"attributes\":{\"ticker\":{\"type\":\"object\",\"name\":\"BasicTicker\",\"id\":\"p1014\",\"attributes\":{\"mantissas\":[1,2,5]}},\"formatter\":{\"type\":\"object\",\"name\":\"BasicTickFormatter\",\"id\":\"p1015\"},\"axis_label\":\"Wavelength [\\u03bcm]\",\"axis_label_text_font\":\"times\",\"axis_label_text_font_size\":\"14pt\",\"axis_label_text_font_style\":\"bold\",\"major_label_policy\":{\"type\":\"object\",\"name\":\"AllLabels\",\"id\":\"p1016\"},\"major_label_text_font\":\"times\",\"major_label_text_font_size\":\"14pt\"}}],\"center\":[{\"type\":\"object\",\"name\":\"Grid\",\"id\":\"p1017\",\"attributes\":{\"axis\":{\"id\":\"p1013\"}}},{\"type\":\"object\",\"name\":\"Grid\",\"id\":\"p1022\",\"attributes\":{\"dimension\":1,\"axis\":{\"id\":\"p1018\"}}}]}}]}};\n",
       "  const render_items = [{\"docid\":\"b1c5810c-395d-421b-b191-90b6f92e2d59\",\"roots\":{\"p1001\":\"b1abdd62-a3bf-447c-8090-1763b88a1cbf\"},\"root_ids\":[\"p1001\"]}];\n",
       "  void root.Bokeh.embed.embed_items_notebook(docs_json, render_items);\n",
       "  }\n",
       "  if (root.Bokeh !== undefined) {\n",
       "    embed_document(root);\n",
       "  } else {\n",
       "    let attempts = 0;\n",
       "    const timer = setInterval(function(root) {\n",
       "      if (root.Bokeh !== undefined) {\n",
       "        clearInterval(timer);\n",
       "        embed_document(root);\n",
       "      } else {\n",
       "        attempts++;\n",
       "        if (attempts > 100) {\n",
       "          clearInterval(timer);\n",
       "          console.log(\"Bokeh: ERROR: Unable to run BokehJS code because BokehJS library is missing\");\n",
       "        }\n",
       "      }\n",
       "    }, 10, root)\n",
       "  }\n",
       "})(window);"
      ],
      "application/vnd.bokehjs_exec.v0+json": ""
     },
     "metadata": {
      "application/vnd.bokehjs_exec.v0+json": {
       "id": "p1001"
      }
     },
     "output_type": "display_data"
    }
   ],
   "source": [
    "# Display our first spectrum!\n",
    "show_spectra(model_iso)"
   ]
  },
  {
   "cell_type": "markdown",
   "id": "87f69b97-349a-4726-b108-7e55f48be890",
   "metadata": {},
   "source": [
    "Sweet! We have a spectrum that looks the right-ish shape, even though it isn't quite in the right place. Let's take a minute to work that out."
   ]
  },
  {
   "cell_type": "markdown",
   "id": "3a4af5f9",
   "metadata": {
    "id": "bd05513b-9193-4e3c-b39e-74a8c877d446"
   },
   "source": [
    "### Transit Depth Offsets\n",
    "\n",
    "Remember how we guessed what the reference pressure was? Well, it looks like we are a little off. That is okay! When fitting for transit spectra, we introduce a factor to account for this. In the retrieval tutorial, you will fit for a factor of the radius. For now, let's \"mean subtract\" our data so that the model and data lie on top of one another."
   ]
  },
  {
   "cell_type": "code",
   "execution_count": 30,
   "id": "f4a7d462",
   "metadata": {
    "id": "ea7f587f"
   },
   "outputs": [],
   "source": [
    "# Let's mean subtract these\n",
    "def show_spectra(output, x_range_min=3.0, x_range_max=5.5):\n",
    "    # Step 1) Regrid model to be on the same x axis as the data\n",
    "    wnos, transit_depth = jdi.mean_regrid(output['wavenumber'],\n",
    "                                         output['transit_depth'],\n",
    "                                         newx=sorted(1e4/observed_data['wavelength']))\n",
    "\n",
    "    # Step 2) Use PICASO function to create a plot with the models\n",
    "    fig = jpi.spectrum(wnos, transit_depth-np.mean(transit_depth),\n",
    "                       plot_width=800, y_axis_label='Relative (Rp/Rs)^2',\n",
    "                       x_range=(x_range_min,x_range_max))\n",
    "\n",
    "    # Step 3) Use PICASO function to add the data so we can compare\n",
    "    jpi.plot_multierror(observed_data['wavelength'],\n",
    "                        observed_data['tr_depth'] - np.mean(observed_data['tr_depth']),\n",
    "                        fig,\n",
    "                        dy_low=observed_data['tr_depth_errneg'], dy_up=observed_data['tr_depth_errpos'],\n",
    "                        dx_low=[0],dx_up=[0], point_kwargs={'color':'black'})\n",
    "    jpi.show(fig)"
   ]
  },
  {
   "cell_type": "code",
   "execution_count": 31,
   "id": "2746c2bd",
   "metadata": {
    "id": "d8525969-4251-4c5b-8bf9-17a71c3e8116"
   },
   "outputs": [
    {
     "data": {
      "text/html": [
       "\n",
       "  <div id=\"ad6ef3f3-426f-44e1-b1af-da95a0894f0e\" data-root-id=\"p1074\" style=\"display: contents;\"></div>\n"
      ]
     },
     "metadata": {},
     "output_type": "display_data"
    },
    {
     "data": {
      "application/javascript": [
       "(function(root) {\n",
       "  function embed_document(root) {\n",
       "  const docs_json = {\"e118467e-cc45-4125-9937-c1758f9df179\":{\"version\":\"3.4.3\",\"title\":\"Bokeh Application\",\"roots\":[{\"type\":\"object\",\"name\":\"Figure\",\"id\":\"p1074\",\"attributes\":{\"width\":800,\"height\":345,\"x_range\":{\"type\":\"object\",\"name\":\"Range1d\",\"id\":\"p1083\",\"attributes\":{\"start\":3.0,\"end\":5.5}},\"y_range\":{\"type\":\"object\",\"name\":\"DataRange1d\",\"id\":\"p1076\"},\"x_scale\":{\"type\":\"object\",\"name\":\"LinearScale\",\"id\":\"p1084\"},\"y_scale\":{\"type\":\"object\",\"name\":\"LinearScale\",\"id\":\"p1085\"},\"title\":{\"type\":\"object\",\"name\":\"Title\",\"id\":\"p1081\"},\"renderers\":[{\"type\":\"object\",\"name\":\"GlyphRenderer\",\"id\":\"p1113\",\"attributes\":{\"data_source\":{\"type\":\"object\",\"name\":\"ColumnDataSource\",\"id\":\"p1107\",\"attributes\":{\"selected\":{\"type\":\"object\",\"name\":\"Selection\",\"id\":\"p1108\",\"attributes\":{\"indices\":[],\"line_indices\":[]}},\"selection_policy\":{\"type\":\"object\",\"name\":\"UnionRenderers\",\"id\":\"p1109\"},\"data\":{\"type\":\"map\",\"entries\":[[\"x\",{\"type\":\"ndarray\",\"array\":{\"type\":\"bytes\",\"data\":\"9P3UeOkmFUCxkdZl7A4VQIUQ+Xwd9xRAJuvxcwzfFECmkVx4usYUQFvuZY2JrhRA6A2sK5qWFECtCvUvqn4UQDlG/at4ZhRAytCdNFFIFEB0SWn/WCQUQN9gGN02BhRAm1M1ByfuE0AsjYAcWNYTQPyxAglHvhNArdGIC/WlE0DnnQAjxI0TQBRixsPUdRNApJyMweRdE0BQpCY3s0UTQNb1C2ajLRNAz6TtedQVE0CU6erjqfcSQEcr7PFw0xJASbJLpJK1EkCRw/OEgZ0SQNJkOoUvhRJAk9tKn/5sEkBEdr5CD1USQJ0kETkfPRJA3y5Pp+0kEkDcxgHe3QwSQH7Ybe8O9RFAiNC77+LWEUAf1BQEqrIRQKLLyA/NlBFAX1ro4rt8EUAUPXzgaWQRQO2U2hxaTBFA9JFcLIs0EUDwkYn6eRwRQFU3GPcnBBFASFF0NhjsEEDBVehESdQQQM0O5A04vBBAV5tbCeajEEDL8tFL1osQQPJTJVkHdBBAcVKsHPZbEEAzQPkWpEMQQGbap1yUKxBAgSrGaMUTEEDahh9NaPcPQGxeOT/Exg9AOWtG0aSWD0AMG+zmBmcPQLw3kawmNw9Aqff+VsMGD0DYei+cYdYOQLu8r/GCpg5A7/tpVGB2DkA4NfJAvEUOQD4rK+GcFQ5APj8K8f7lDUDDY0tG3LUNQKr8ty84hQ1A0L101xhVDUA/fxnkeiUNQCG4VZGa9QxAhdsjIjfFDEBHG9FZlYgMQL+XEx1kQAxAEWM75C8EDEAWsfCbENQLQByaUqFypAtABSMyyU90C0CulbWnq0MLQGgC6WeMEwtAXcoyae7jCkCgLgiAy7MKQOAMR1ongwpAlOZVIwhTCkBuHSwgaiMKQAAj2yRH8wlA8rN0+qLCCUAHu8HMg5IJQC/Ef0CjYglAhOCHpT8yCUDTVrX53QEJQFqViWL/0QhAG9g4VWGiCECdTdExPnIIQIszzfyZQQhAxCCwcmgRCEA=\"},\"shape\":[94],\"dtype\":\"float64\",\"order\":\"little\"}],[\"y\",{\"type\":\"ndarray\",\"array\":{\"type\":\"bytes\",\"data\":\"gA2kQiusMD/A4j/Es3QxPwA82fLy9Bg/AISRrIjIMz8AOk9zlDg3PwCr04JSGTA/gGUA8WcsJj9AM/B5+d4zPwD6yXMTOTM/gNCsOMoKNT+AZ4HB6zckP8Bv2O6H6TI/AMbdWZsaAL8AtMrTq085PyAFdL3hQEA/gDOekx5BKD8A4IH7aLwHP0AMcag3Czs/ACINZxYzMD+AKUVq3dwtP0BOEEdHizY/AA+EI1LIKz8ATUeCn6sQP4CwhsH0fjE/ABxqVPIIJT8AAu2rB446P8DgL81ozDo/YM4OI8m8RD9ACycZF4BIP6CEnAdNzUs/wPZdgZ7aUD9w5d2r8XtSP4CVW/P5BFY/EOnqZ4oOVz/wSYQ2BzRbPyBiMX6uGFs/0IiG6liCWj9ghxS+GGpbP4DcNpPwy1s/sFOTOS1oWj/AqwlKiGxaPyDSIbmVJFM/AHfroOvVRT8AYRTFO6QVP4Af0PIifCO/oNfjluA2Q78ApaKPjghLv8BTcd6J8Em/QKfFhA+GS7/Asf0NPA9QvwA0+AVxilC/IJFrvFmbUr/gUGyWnvpRv2DUkND/3FC/oCCh23QRU7+Qmo7ukOpSvyAcnjImHFG/ANJj5egKUr/QAt5XlThSv9AluIkUX1C/wEKaiN+eTr9AhoAzYfdNvwAew/7r60i/YLCVzCuKS79gAxUBIpRLv2D8GO70nEW/AIyublUSSb/gp67lXDRIv0ATh6UPRES/IGFKEVylQ79gPwdQSaRBv8A9gx7nREG/gD0UfDl3Q7+AROTkcPFEv4AQxF45L0G/IDfweJjiRb+A2AUMlo4/v8CwsLy3xEG/QD0N8Es6Pr/A3awslg0+v0CVDqLBFjy/AAe859h2Jb8APFWKpo8+vwAu0RR23DG/AGscIOk/Jr8ASnBc//kRvwC6OuzxpSG/AEWDsXOhED8AoZSpz4kQPwDN5Elzfyc/oPAj3eCgQT8gEOxW+n5BP0BTepWmKDg/oBI3uL98RD8=\"},\"shape\":[94],\"dtype\":\"float64\",\"order\":\"little\"}]]}}},\"view\":{\"type\":\"object\",\"name\":\"CDSView\",\"id\":\"p1114\",\"attributes\":{\"filter\":{\"type\":\"object\",\"name\":\"AllIndices\",\"id\":\"p1115\"}}},\"glyph\":{\"type\":\"object\",\"name\":\"Line\",\"id\":\"p1110\",\"attributes\":{\"x\":{\"type\":\"field\",\"field\":\"x\"},\"y\":{\"type\":\"field\",\"field\":\"y\"},\"line_color\":\"#0072B2\",\"line_width\":3}},\"nonselection_glyph\":{\"type\":\"object\",\"name\":\"Line\",\"id\":\"p1111\",\"attributes\":{\"x\":{\"type\":\"field\",\"field\":\"x\"},\"y\":{\"type\":\"field\",\"field\":\"y\"},\"line_color\":\"#0072B2\",\"line_alpha\":0.1,\"line_width\":3}},\"muted_glyph\":{\"type\":\"object\",\"name\":\"Line\",\"id\":\"p1112\",\"attributes\":{\"x\":{\"type\":\"field\",\"field\":\"x\"},\"y\":{\"type\":\"field\",\"field\":\"y\"},\"line_color\":\"#0072B2\",\"line_alpha\":0.2,\"line_width\":3}}}},{\"type\":\"object\",\"name\":\"GlyphRenderer\",\"id\":\"p1122\",\"attributes\":{\"data_source\":{\"type\":\"object\",\"name\":\"ColumnDataSource\",\"id\":\"p1116\",\"attributes\":{\"selected\":{\"type\":\"object\",\"name\":\"Selection\",\"id\":\"p1117\",\"attributes\":{\"indices\":[],\"line_indices\":[]}},\"selection_policy\":{\"type\":\"object\",\"name\":\"UnionRenderers\",\"id\":\"p1118\"},\"data\":{\"type\":\"map\",\"entries\":[[\"xs\",[[3.0084999999999997,3.0084999999999997]]],[\"ys\",[[0.000186147364391636,0.000186147364391636]]]]}}},\"view\":{\"type\":\"object\",\"name\":\"CDSView\",\"id\":\"p1123\",\"attributes\":{\"filter\":{\"type\":\"object\",\"name\":\"AllIndices\",\"id\":\"p1124\"}}},\"glyph\":{\"type\":\"object\",\"name\":\"MultiLine\",\"id\":\"p1119\",\"attributes\":{\"xs\":{\"type\":\"field\",\"field\":\"xs\"},\"ys\":{\"type\":\"field\",\"field\":\"ys\"},\"line_color\":{\"type\":\"value\",\"value\":\"#1f77b4\"}}},\"nonselection_glyph\":{\"type\":\"object\",\"name\":\"MultiLine\",\"id\":\"p1120\",\"attributes\":{\"xs\":{\"type\":\"field\",\"field\":\"xs\"},\"ys\":{\"type\":\"field\",\"field\":\"ys\"},\"line_color\":{\"type\":\"value\",\"value\":\"#1f77b4\"},\"line_alpha\":{\"type\":\"value\",\"value\":0.1}}},\"muted_glyph\":{\"type\":\"object\",\"name\":\"MultiLine\",\"id\":\"p1121\",\"attributes\":{\"xs\":{\"type\":\"field\",\"field\":\"xs\"},\"ys\":{\"type\":\"field\",\"field\":\"ys\"},\"line_color\":{\"type\":\"value\",\"value\":\"#1f77b4\"},\"line_alpha\":{\"type\":\"value\",\"value\":0.2}}}}},{\"type\":\"object\",\"name\":\"GlyphRenderer\",\"id\":\"p1131\",\"attributes\":{\"data_source\":{\"type\":\"object\",\"name\":\"ColumnDataSource\",\"id\":\"p1125\",\"attributes\":{\"selected\":{\"type\":\"object\",\"name\":\"Selection\",\"id\":\"p1126\",\"attributes\":{\"indices\":[],\"line_indices\":[]}},\"selection_policy\":{\"type\":\"object\",\"name\":\"UnionRenderers\",\"id\":\"p1127\"},\"data\":{\"type\":\"map\",\"entries\":[[\"xs\",[[3.0084999999999997,3.0084999999999997],[3.032,3.032],[3.056,3.056],[3.0795000000000003,3.0795000000000003],[3.1025,3.1025],[3.126,3.126],[3.1494999999999997,3.1494999999999997],[3.1734999999999998,3.1734999999999998],[3.1965000000000003,3.1965000000000003],[3.22,3.22],[3.2439999999999998,3.2439999999999998],[3.2675,3.2675],[3.2904999999999998,3.2904999999999998],[3.314,3.314],[3.338,3.338],[3.3615000000000004,3.3615000000000004],[3.3845,3.3845],[3.408,3.408],[3.432,3.432],[3.4555,3.4555],[3.4785000000000004,3.4785000000000004],[3.502,3.502],[3.526,3.526],[3.5725,3.5725],[3.5965,3.5965],[3.62,3.62],[3.6435,3.6435],[3.6665,3.6665],[3.69,3.69],[3.714,3.714],[3.7375,3.7375],[3.7605,3.7605],[3.784,3.784],[3.808,3.808],[3.8315,3.8315],[3.8545,3.8545],[3.8785,3.8785],[3.902,3.902],[3.9255,3.9255],[3.9485,3.9485],[3.972,3.972],[3.996,3.996],[4.0195,4.0195],[4.0425,4.0425],[4.066000000000001,4.066000000000001],[4.09,4.09],[4.1135,4.1135],[4.1365,4.1365],[4.16,4.16],[4.183999999999999,4.183999999999999],[4.2075,4.2075],[4.2305,4.2305],[4.254,4.254],[4.2780000000000005,4.2780000000000005],[4.3015,4.3015],[4.3245000000000005,4.3245000000000005],[4.348000000000001,4.348000000000001],[4.372,4.372],[4.3955,4.3955],[4.4185,4.4185],[4.465999999999999,4.465999999999999],[4.4895,4.4895],[4.5125,4.5125],[4.536,4.536],[4.5600000000000005,4.5600000000000005],[4.583,4.583],[4.6065000000000005,4.6065000000000005],[4.630000000000001,4.630000000000001],[4.654,4.654],[4.6775,4.6775],[4.7005,4.7005],[4.747999999999999,4.747999999999999],[4.7715,4.7715],[4.7945,4.7945],[4.818,4.818],[4.8420000000000005,4.8420000000000005],[4.865,4.865],[4.8885000000000005,4.8885000000000005],[4.912000000000001,4.912000000000001],[4.936,4.936],[4.9595,4.9595],[4.9825,4.9825],[5.006,5.006],[5.029999999999999,5.029999999999999],[5.0765,5.0765],[5.1,5.1],[5.1240000000000006,5.1240000000000006],[5.147,5.147],[5.1705000000000005,5.1705000000000005],[5.194000000000001,5.194000000000001],[5.218,5.218],[5.2415,5.2415],[5.2645,5.2645],[5.288,5.288]]],[\"ys\",[[0.0001056903926848693,0.0002679921092163737],[0.00020427285182554947,0.00036365619170085003],[1.0236666319194537e-05,0.0001512858195547133],[4.805199849361452e-05,0.00020087305843038972],[-7.96442090677911e-05,0.00012733773305523277],[-0.00015475367042153826,3.2806673604807157e-07],[1.690638891159793e-05,0.00017771559652815863],[-0.0002064883744113781,-4.244641307227237e-05],[-0.00014772408707158097,2.167188755405891e-05],[-0.00012104092429645122,4.219396284224977e-05],[-0.00028596116090533544,-0.00012135021565541984],[-0.00044152400695041463,-0.000267931216520953],[-0.00040802138144431857,-0.00022647653462675582],[-0.00023189602833787598,-6.281286421482013e-05],[-0.0002342037014201083,-5.738768481675441e-05],[-0.00048012369631303745,-0.00023873149759801732],[-0.0002644506890854409,-9.028800690595584e-05],[-0.000411432024046976,-0.00022817411949080726],[-0.00024595530398912116,-8.64756201855027e-05],[-0.0003702035330697996,-0.00019043060946324214],[-0.0004014756946809535,-0.00021722504915518484],[-0.000548382552622826,-0.0003448532933625452],[-0.00032796199761216116,-0.00014311951648258298],[-0.00023209942196497635,-3.574152464778935e-05],[-0.0003460549997841983,-0.00015100895753962507],[-0.00038263977230172663,-0.00018154671943607092],[-0.00023559052963015303,-4.2981533537763544e-05],[-0.0002575151980696404,-5.983737726734245e-05],[-0.0005422332323341619,-0.0003676729056818172],[-0.0004890385247471526,-0.00029114125374244196],[-0.00038928665574552643,-0.00017987850392875773],[-0.000474517484543871,-0.0002584081089418676],[-0.0005772324278601679,-0.0003925507779063038],[-0.000342046621536609,-0.00012639446820803674],[-0.0007045824716615141,-0.00046950961042087347],[-0.0006273307786492516,-0.00039801560654727924],[-0.0004975262985922844,-0.00030634264786949875],[-0.0006457327575899799,-0.0004135763666766913],[-0.0004567427446324386,-0.00022635217950981584],[-0.000555310890186924,-0.00031178157751718394],[-0.000429883744302504,-0.00022993784459862665],[-0.00013775567241133824,0.00011101684877931964],[-0.00017161674014048653,3.455648269135719e-05],[-9.529916003519004e-05,0.0001477106638125003],[-0.00043099797573250415,-0.00017728844326382262],[-0.00048061742884553463,-0.00026113290035307754],[-0.0006343243485130677,-0.0003773551356900627],[-0.00046459936316047695,-0.00024496090673340604],[-0.0002494675929890361,1.948219530211251e-05],[-0.00031112983910827965,-8.906019972714993e-05],[0.00034896293278946153,0.0006162048604738818],[0.00036291466578962026,0.00057496667526203],[0.0007975747357106266,0.0010703561021930715],[0.0009086794342468216,0.001148147992497836],[0.0008535771945520285,0.0011277733748603046],[0.0008801105228460268,0.0011150765971335228],[0.0010949528601337452,0.0013816213094344741],[0.0009632982956700523,0.0012150651636034931],[0.0010558475968167405,0.001320099213432055],[0.0010814000663223744,0.0013746011852676827],[0.00033149641484462797,0.000585929153042633],[0.0005865325762758958,0.000880058996752954],[3.026380534816228e-05,0.00030010706162272166],[0.0001387844863865416,0.00039526637111648305],[0.00015585650780466573,0.0004843144881886523],[7.870538435380062e-05,0.00036192587589454],[4.6882515938966723e-05,0.0003361188474190896],[-0.00015352860846684288,0.00012030655174556301],[-3.778828396930681e-05,0.00030083692853424826],[-0.00015275177490260694,0.00013571743940086686],[-3.941045104736626e-05,0.00025140823890146616],[-0.0001890459686307265,0.00011080759455732447],[0.0003102865519378044,0.000668872475373495],[-8.453736411431767e-05,0.00019515244846522728],[-0.0002488516208155461,5.473250392099352e-05],[-5.601282833722285e-05,0.0002458593364981117],[-0.0002374495585296503,7.66308012637093e-05],[-0.0004807287804494548,-0.00015987593912127063],[-0.00048086894956165735,-0.0001560514797745681],[1.7654876753016302e-05,0.00033764847545944207],[0.00019975482139994796,0.0005179372447532901],[-0.0006240414484575026,-0.0003189166249463124],[-0.0001862191287711444,0.00013305973519528447],[-0.0005552574273636791,-0.0002186066885859518],[-7.734523431046983e-05,0.00027410944722448816],[-0.0003705274579727802,-4.368710103001827e-06],[-0.00024411829308396138,9.773567537705447e-05],[2.889132509813555e-05,0.00038529108329819414],[-0.00048242425877080206,-0.0001028044918569837],[-0.0005438361669732258,-0.0001806364543836085],[-0.00018413731482750523,0.00013962389454239346],[0.00021775226294703035,0.0005939102212099631],[-0.00024266268407543978,0.00013966968759676276],[-0.0004214132804873892,-5.818362453186704e-05]]]]}}},\"view\":{\"type\":\"object\",\"name\":\"CDSView\",\"id\":\"p1132\",\"attributes\":{\"filter\":{\"type\":\"object\",\"name\":\"AllIndices\",\"id\":\"p1133\"}}},\"glyph\":{\"type\":\"object\",\"name\":\"MultiLine\",\"id\":\"p1128\",\"attributes\":{\"xs\":{\"type\":\"field\",\"field\":\"xs\"},\"ys\":{\"type\":\"field\",\"field\":\"ys\"},\"line_color\":{\"type\":\"value\",\"value\":\"#1f77b4\"}}},\"nonselection_glyph\":{\"type\":\"object\",\"name\":\"MultiLine\",\"id\":\"p1129\",\"attributes\":{\"xs\":{\"type\":\"field\",\"field\":\"xs\"},\"ys\":{\"type\":\"field\",\"field\":\"ys\"},\"line_color\":{\"type\":\"value\",\"value\":\"#1f77b4\"},\"line_alpha\":{\"type\":\"value\",\"value\":0.1}}},\"muted_glyph\":{\"type\":\"object\",\"name\":\"MultiLine\",\"id\":\"p1130\",\"attributes\":{\"xs\":{\"type\":\"field\",\"field\":\"xs\"},\"ys\":{\"type\":\"field\",\"field\":\"ys\"},\"line_color\":{\"type\":\"value\",\"value\":\"#1f77b4\"},\"line_alpha\":{\"type\":\"value\",\"value\":0.2}}}}},{\"type\":\"object\",\"name\":\"GlyphRenderer\",\"id\":\"p1140\",\"attributes\":{\"data_source\":{\"type\":\"object\",\"name\":\"ColumnDataSource\",\"id\":\"p1134\",\"attributes\":{\"selected\":{\"type\":\"object\",\"name\":\"Selection\",\"id\":\"p1135\",\"attributes\":{\"indices\":[],\"line_indices\":[]}},\"selection_policy\":{\"type\":\"object\",\"name\":\"UnionRenderers\",\"id\":\"p1136\"},\"data\":{\"type\":\"map\",\"entries\":[[\"x\",{\"type\":\"ndarray\",\"array\":{\"type\":\"bytes\",\"data\":\"xCCwcmgRCECoxks3iUEIQKabxCCwcghAikFg5dCiCEBSuB6F69EIQDVeukkMAglAGARWDi0yCUAW2c73U2MJQOBPjZdukglAw/UoXI/CCUDAyqFFtvMJQKRwPQrXIwpAbOf7qfFSCkBQjZduEoMKQE5iEFg5tApAMgisHFrkCkD6fmq8dBMLQN0kBoGVQwtA2/l+arx0C0C+nxov3aQLQIgW2c730wtAarx0kxgEDEBoke18PzUMQBSuR+F6lAxAEoPAyqHFDED2KFyPwvUMQNnO91PjJQ1AokW28/1UDUCF61G4HoUNQIPAyqFFtg1AZmZmZmbmDUAv3SQGgRUOQBKDwMqhRQ5AEFg5tMh2DkD0/dR46aYOQLx0kxgE1g5AukkMAisHD0Ce76fGSzcPQIGVQ4tsZw9ASgwCK4eWD0Atsp3vp8YPQCuHFtnO9w9AhxbZzvcTEEDsUbgehSsQQN4kBoGVQxBAXI/C9ShcEEBOYhBYOXQQQLKd76fGixBApHA9CtejEEAi2/l+arwQQBSuR+F61BBAeekmMQjsEEBqvHSTGAQRQOomMQisHBFA2/l+arw0EUBANV66SUwRQDIIrBxaZBFAsHJoke18EUCiRbbz/ZQRQAaBlUOLrBFAdr6fGi/dEUBoke18P/URQM3MzMzMDBJAvp8aL90kEkA+CtejcD0SQKJFtvP9VBJAlBgEVg5tEkCG61G4HoUSQARWDi2ynRJA9ihcj8K1EkBaZDvfT80SQMqhRbbz/RJAvHSTGAQWE0AhsHJokS0TQBKDwMqhRRNAku18PzVeE0D2KFyPwnUTQOj7qfHSjRNA2s73U+OlE0BYObTIdr4TQEoMAiuH1hNArkfhehTuE0CgGi/dJAYUQB6F61G4HhRAdZMYBFZOFEBmZmZmZmYUQObQItv5fhRASgwCK4eWFEA830+Nl64UQC6yne+nxhRArBxaZDvfFECe76fGS/cUQAIrhxbZDhVA9P3UeOkmFUA=\"},\"shape\":[94],\"dtype\":\"float64\",\"order\":\"little\"}],[\"y\",{\"type\":\"ndarray\",\"array\":{\"type\":\"bytes\",\"data\":\"gMVBrxFmKD/AuVIS+qMyPwDFBOfOMBU/ACtFTUmFID8A8NLA2W/5PgA/YZFjChS/ALq1ezg9GT8A/ePn2X0gvwCQzGfdEhC/APiDuD5hBb8ATx67Vucqv4CVl+7EMDe/AOV0Cu/ENL+Afry8Xm0jv4BSMrJUoiK/wMMPmixXN78A8rNnVOYmv4Ar0pa3UzW/gBdbk3ceJr8AII5u4TIyv4BtLZ89dTS/gBdTtaWXPb+ArGqaMyIvvwApG2bcdSG/QLn4m2gtML+AcRQVn0Eyv4C52nvr/iG/AC31/QjXJL8A4aLIVK49v4BOjJiPdTm/AMz2RDv4Mr9AY3WCuwc4v8AZYPyexD+/AO4PCQOfLr8gYrmJYTpDvwAiS7bb70C/ABe7dJCcOr9ALhtPdEdBv0AJhW22Vja/gI51pqJsPL/AMlZtGss1vwB4DDYrn+e+AKmlJXmNEL8AoD8Pi8b7PkCsoe5jbTO/gE0jTmw7OL+AqMx4JmBAv0Co/U3AdDe/AEnygFV1Hb+AgTGk/hEqv4Do0jFcpz8/AFsYuHKtPj8ARiJqg9JOP9BFxwWM51A/MHy6vHg1UD8gOX6tIldQP5B8jibpVlQ/4MP8xgjeUT9QAOZXToJTPzAwJ5GBJVQ/AMR0Nj5nPj9gf/WQgSxIP4DOek1rSiY/gMahV5axMT+ARKV8bPk0P4AO6X+GdS0/ALcITHKPKT8AmNfniNv5vgC7yLrMdSE/AHgrLmyi4r4Ayc/ylQIcPwDcRORNSQG/QBauIa74Pz8AAp9pzogNPwC6xNnUbxm/AEVW6vlTGT8ARx5d2OIWv8AG6bHc2DS/QBs+7uTNNL+ASDjWSf4mP0A22n9/Qjc/QKSfkXEDP78AoNPEBkjzvgA8hbJAEjm/AEIzzROGGj+AELknsswovwBzEkt3aBO/ACiggvLmKj8AizVc5iszv8CkFNWI1ja/AOg9fmYx977A9CNiuiI6PwDuFVsnNAu/gFzV0PUsML8=\"},\"shape\":[94],\"dtype\":\"float64\",\"order\":\"little\"}]]}}},\"view\":{\"type\":\"object\",\"name\":\"CDSView\",\"id\":\"p1141\",\"attributes\":{\"filter\":{\"type\":\"object\",\"name\":\"AllIndices\",\"id\":\"p1142\"}}},\"glyph\":{\"type\":\"object\",\"name\":\"Circle\",\"id\":\"p1137\",\"attributes\":{\"x\":{\"type\":\"field\",\"field\":\"x\"},\"y\":{\"type\":\"field\",\"field\":\"y\"},\"fill_color\":{\"type\":\"value\",\"value\":\"black\"}}},\"nonselection_glyph\":{\"type\":\"object\",\"name\":\"Circle\",\"id\":\"p1138\",\"attributes\":{\"x\":{\"type\":\"field\",\"field\":\"x\"},\"y\":{\"type\":\"field\",\"field\":\"y\"},\"line_alpha\":{\"type\":\"value\",\"value\":0.1},\"fill_color\":{\"type\":\"value\",\"value\":\"black\"},\"fill_alpha\":{\"type\":\"value\",\"value\":0.1},\"hatch_alpha\":{\"type\":\"value\",\"value\":0.1}}},\"muted_glyph\":{\"type\":\"object\",\"name\":\"Circle\",\"id\":\"p1139\",\"attributes\":{\"x\":{\"type\":\"field\",\"field\":\"x\"},\"y\":{\"type\":\"field\",\"field\":\"y\"},\"line_alpha\":{\"type\":\"value\",\"value\":0.2},\"fill_color\":{\"type\":\"value\",\"value\":\"black\"},\"fill_alpha\":{\"type\":\"value\",\"value\":0.2},\"hatch_alpha\":{\"type\":\"value\",\"value\":0.2}}}}}],\"toolbar\":{\"type\":\"object\",\"name\":\"Toolbar\",\"id\":\"p1082\",\"attributes\":{\"tools\":[{\"type\":\"object\",\"name\":\"PanTool\",\"id\":\"p1096\"},{\"type\":\"object\",\"name\":\"WheelZoomTool\",\"id\":\"p1097\",\"attributes\":{\"renderers\":\"auto\"}},{\"type\":\"object\",\"name\":\"BoxZoomTool\",\"id\":\"p1098\",\"attributes\":{\"overlay\":{\"type\":\"object\",\"name\":\"BoxAnnotation\",\"id\":\"p1099\",\"attributes\":{\"syncable\":false,\"level\":\"overlay\",\"visible\":false,\"left\":{\"type\":\"number\",\"value\":\"nan\"},\"right\":{\"type\":\"number\",\"value\":\"nan\"},\"top\":{\"type\":\"number\",\"value\":\"nan\"},\"bottom\":{\"type\":\"number\",\"value\":\"nan\"},\"left_units\":\"canvas\",\"right_units\":\"canvas\",\"top_units\":\"canvas\",\"bottom_units\":\"canvas\",\"line_color\":\"black\",\"line_alpha\":1.0,\"line_width\":2,\"line_dash\":[4,4],\"fill_color\":\"lightgrey\",\"fill_alpha\":0.5}}}},{\"type\":\"object\",\"name\":\"SaveTool\",\"id\":\"p1104\"},{\"type\":\"object\",\"name\":\"ResetTool\",\"id\":\"p1105\"},{\"type\":\"object\",\"name\":\"HelpTool\",\"id\":\"p1106\"}]}},\"left\":[{\"type\":\"object\",\"name\":\"LinearAxis\",\"id\":\"p1091\",\"attributes\":{\"ticker\":{\"type\":\"object\",\"name\":\"BasicTicker\",\"id\":\"p1092\",\"attributes\":{\"mantissas\":[1,2,5]}},\"formatter\":{\"type\":\"object\",\"name\":\"BasicTickFormatter\",\"id\":\"p1093\"},\"axis_label\":\"Relative (Rp/Rs)^2\",\"axis_label_text_font\":\"times\",\"axis_label_text_font_size\":\"14pt\",\"axis_label_text_font_style\":\"bold\",\"major_label_policy\":{\"type\":\"object\",\"name\":\"AllLabels\",\"id\":\"p1094\"},\"major_label_text_font\":\"times\",\"major_label_text_font_size\":\"14pt\"}}],\"below\":[{\"type\":\"object\",\"name\":\"LinearAxis\",\"id\":\"p1086\",\"attributes\":{\"ticker\":{\"type\":\"object\",\"name\":\"BasicTicker\",\"id\":\"p1087\",\"attributes\":{\"mantissas\":[1,2,5]}},\"formatter\":{\"type\":\"object\",\"name\":\"BasicTickFormatter\",\"id\":\"p1088\"},\"axis_label\":\"Wavelength [\\u03bcm]\",\"axis_label_text_font\":\"times\",\"axis_label_text_font_size\":\"14pt\",\"axis_label_text_font_style\":\"bold\",\"major_label_policy\":{\"type\":\"object\",\"name\":\"AllLabels\",\"id\":\"p1089\"},\"major_label_text_font\":\"times\",\"major_label_text_font_size\":\"14pt\"}}],\"center\":[{\"type\":\"object\",\"name\":\"Grid\",\"id\":\"p1090\",\"attributes\":{\"axis\":{\"id\":\"p1086\"}}},{\"type\":\"object\",\"name\":\"Grid\",\"id\":\"p1095\",\"attributes\":{\"dimension\":1,\"axis\":{\"id\":\"p1091\"}}}]}}]}};\n",
       "  const render_items = [{\"docid\":\"e118467e-cc45-4125-9937-c1758f9df179\",\"roots\":{\"p1074\":\"ad6ef3f3-426f-44e1-b1af-da95a0894f0e\"},\"root_ids\":[\"p1074\"]}];\n",
       "  void root.Bokeh.embed.embed_items_notebook(docs_json, render_items);\n",
       "  }\n",
       "  if (root.Bokeh !== undefined) {\n",
       "    embed_document(root);\n",
       "  } else {\n",
       "    let attempts = 0;\n",
       "    const timer = setInterval(function(root) {\n",
       "      if (root.Bokeh !== undefined) {\n",
       "        clearInterval(timer);\n",
       "        embed_document(root);\n",
       "      } else {\n",
       "        attempts++;\n",
       "        if (attempts > 100) {\n",
       "          clearInterval(timer);\n",
       "          console.log(\"Bokeh: ERROR: Unable to run BokehJS code because BokehJS library is missing\");\n",
       "        }\n",
       "      }\n",
       "    }, 10, root)\n",
       "  }\n",
       "})(window);"
      ],
      "application/vnd.bokehjs_exec.v0+json": ""
     },
     "metadata": {
      "application/vnd.bokehjs_exec.v0+json": {
       "id": "p1074"
      }
     },
     "output_type": "display_data"
    }
   ],
   "source": [
    "show_spectra(model_iso)"
   ]
  },
  {
   "cell_type": "markdown",
   "id": "a6a2ef8c",
   "metadata": {
    "id": "56c298ba"
   },
   "source": [
    "## Model Investigation\n",
    "\n",
    "Before trying to improve the complexity of your model, let's make sure you know how to analyze the inputs.\n",
    "\n",
    "### Identifying molecular features with optical depth contribution plot\n",
    "\n",
    "`taus_per_layer` - Each dictionary entry is a nlayer x nwave that represents the per layer optical depth for that molecule.\n",
    "\n",
    "`cumsum_taus` - Each dictionary entry is a nlevel x nwave that represents the cumulative summed opacity for that molecule.\n",
    "\n",
    "`tau_p_surface` - Each dictionary entry is a nwave array that represents the pressure level where the cumulative opacity reaches the value specified by the user through at_tau.\n",
    "\n"
   ]
  },
  {
   "cell_type": "markdown",
   "id": "189c7307-e7a6-4616-9c30-15e3eb1b426f",
   "metadata": {},
   "source": [
    "Let's create a molecule contribution plot. At any given wavelength, this will show us at which pressure layer (`tau_p_surface`) each molecule experiences an optical depth of $\\tau$. Below, we will set $\\tau = 1$. This is useful because whenever we see a spectral feature, that light is originating from a depth in the atmosphere corresponding to the $\\tau=1$ surface for that molecule."
   ]
  },
  {
   "cell_type": "code",
   "execution_count": 32,
   "id": "5ca9f657",
   "metadata": {
    "id": "0c06856a"
   },
   "outputs": [],
   "source": [
    "molecule_contribution = jdi.get_contribution(w39, opa, at_tau=1)"
   ]
  },
  {
   "cell_type": "code",
   "execution_count": 33,
   "id": "856b10eb",
   "metadata": {
    "id": "4639440f"
   },
   "outputs": [
    {
     "data": {
      "text/html": [
       "\n",
       "  <div id=\"c1aa54a0-6729-450c-973b-605dbdafb409\" data-root-id=\"p1147\" style=\"display: contents;\"></div>\n"
      ]
     },
     "metadata": {},
     "output_type": "display_data"
    },
    {
     "data": {
      "application/javascript": [
       "(function(root) {\n",
       "  function embed_document(root) {\n",
       "  const docs_json = {\"968e214a-015a-4508-b4c5-274d228858a3\":{\"version\":\"3.4.3\",\"title\":\"Bokeh Application\",\"roots\":[{\"type\":\"object\",\"name\":\"Figure\",\"id\":\"p1147\",\"attributes\":{\"width\":700,\"height\":400,\"x_range\":{\"type\":\"object\",\"name\":\"DataRange1d\",\"id\":\"p1149\"},\"y_range\":{\"type\":\"object\",\"name\":\"Range1d\",\"id\":\"p1157\",\"attributes\":{\"start\":100.0,\"end\":0.0001}},\"x_scale\":{\"type\":\"object\",\"name\":\"LogScale\",\"id\":\"p1158\"},\"y_scale\":{\"type\":\"object\",\"name\":\"LogScale\",\"id\":\"p1159\"},\"title\":{\"type\":\"object\",\"name\":\"Title\",\"id\":\"p1150\",\"attributes\":{\"text\":\"User Input Tau Pressure Surface\"}},\"renderers\":[{\"type\":\"object\",\"name\":\"GlyphRenderer\",\"id\":\"p1187\",\"attributes\":{\"data_source\":{\"type\":\"object\",\"name\":\"ColumnDataSource\",\"id\":\"p1181\",\"attributes\":{\"selected\":{\"type\":\"object\",\"name\":\"Selection\",\"id\":\"p1182\",\"attributes\":{\"indices\":[],\"line_indices\":[]}},\"selection_policy\":{\"type\":\"object\",\"name\":\"UnionRenderers\",\"id\":\"p1183\"},\"data\":{\"type\":\"map\",\"entries\":[[\"x\",{\"type\":\"ndarray\",\"array\":{\"type\":\"bytes\",\"data\":\"FUH13tnqF0AoP9Ra7a0XQLGlIweccRdAUaWUWOQ1F0C4YsfHxPoWQKfxQNE7wBZAg2lh9UeGFkAgE1q450wWQJevI6IZFBZA4Nd0PtzbFUDudLgcLqQVQBpQBNANbRVAj7sP73k2FUCIUioUcQAVQBPRMt3xyhRANgOO6/qVFEAjyx3kimEUQEo+OG+gLRRADdmeODr6E0DhyHXvVscTQJ1MO0b1lBNAvCq/8hNjE0BpPRqusTETQAsUpjTNABNAIar0RWXQEkBCM8ikeKASQPv7ChcGcRJAXl/HZQxCEkAL0R9dihMSQIn7Rsx+5RFAqvJ3hei3EUDOee5dxooRQNhd3y0XXhFApOJw0NkxEUC7Q7MjDQYRQCVImQiw2hBALunwYsGvEEDLC1wZQIUQQKJMSRUrWxBAVt7sQoExEEANejmRQQgQQNPDsuPVvg9AoepOsvhtD0CzrVB86R0PQF1HBzWmzg5AUnj61CyADkBEO91ZezIOQDKagMaP5Q1AZaXGImiZDUCLi5V7Ak4NQMDSyuJcAw1AFrIub3W5DEBgi2c8SnAMQOaE7WrZJwxAn0L+HyHgC0DGvpCFH5kLQFVBScrSUgtALHZtITkNC0CRodjCUMgKQL/y7+oXhApAJvSW2oxACkAzGSTXrf0JQDBpVSp5uwlAB0dFIu15CUCaVV8RCDkJQGl4VU7I+AhANfAUNCy5CEBjk7shMnoIQNYhjXrYOwhA+bPopR3+B0ClRD4PAMEHQMtVBCZ+hAdAXa+tXZZIB0ByOJ8tRw0HQDHqJRGP0gZAZtxsh2yYBkBma3MT3l4GQBF3AzziJQZAqLqni3ftBUBBPaKQnLUFQA==\"},\"shape\":[80],\"dtype\":\"float64\",\"order\":\"little\"}],[\"y\",{\"type\":\"ndarray\",\"array\":{\"type\":\"bytes\",\"data\":\"ZuxXXQXz2z+us8hQXlXcP2+rFtAoxdw/7EGqDLY53T8rlesNgLLdP9RZcrf8MN4/s5xRN+e23j+KkZvyP0bfP1rSZ8rC4N8/hVwOSEpD4D+qlBJZ4pfgP6tZ4xS73uA/p91jH2Yq4T9eaJ0O5HzhP0mln5iu1uE/j5mQnKs34j8bDQik6Z/iP0p52F8aEOM/N+PTWcWH4z99X3FhggfkP/ncyvpRkOQ/QpR+v2Ai5T+KfGzXAL7lPyDaL0o8ZOY/JV3H1qAV5z8P92ZTCtPnP+4895N4d+g/x5lttVgM6T8UzG/WR6vpP2miViO+U+o/HDF8P18G6z+KpE0XEMLrPykUwaTChuw/RvB6bH1T7T/QNCnnbifuP5QEwBYGAe8/VQybdMfd7z+lP++5Ll7wP3cJ9BhFzfA/vRzzqFI68T/cHnoqZJ3xP7K/7Q/05PE/w/eXHDIm8j+mmf6bYGLyP5jrNeX6mPI/VLywEpzK8j/A0pr7DfbyP7dLNlh2GvM/YHwkCuE28z9ljJZk00jzP6ZygewqTfM/oIbFb+JC8z+sgGOjCynzP/b3noTh//I/gP5+TIvI8j87PUcd54PyP7FWAW0lNPI/5HB5YAjb8T9KA+SbcG/xPyDf/Vp/4/A/O6XOc7tb8D9B9RltYcLvP6KdIi+Q6e4/2dmTjXso7j9cEJgfW3ftP1qLQf1yx+w/Xnnt8PEN7D9u63bAHkjrP34nhNopeeo/2sOf3xim6T8uNQUdhdDoP8ctWuB65ec/GSFKKP255j+AzBSRdZPlP+BV1pXtfuQ/j4+7QeqE4z9vqVVJTqfiPxPms+WV4OE/+JRs9kwr4T/UGEBJfXDgPw==\"},\"shape\":[80],\"dtype\":\"float64\",\"order\":\"little\"}]]}}},\"view\":{\"type\":\"object\",\"name\":\"CDSView\",\"id\":\"p1188\",\"attributes\":{\"filter\":{\"type\":\"object\",\"name\":\"AllIndices\",\"id\":\"p1189\"}}},\"glyph\":{\"type\":\"object\",\"name\":\"Line\",\"id\":\"p1184\",\"attributes\":{\"x\":{\"type\":\"field\",\"field\":\"x\"},\"y\":{\"type\":\"field\",\"field\":\"y\"},\"line_color\":\"#0072B2\",\"line_width\":3}},\"nonselection_glyph\":{\"type\":\"object\",\"name\":\"Line\",\"id\":\"p1185\",\"attributes\":{\"x\":{\"type\":\"field\",\"field\":\"x\"},\"y\":{\"type\":\"field\",\"field\":\"y\"},\"line_color\":\"#0072B2\",\"line_alpha\":0.1,\"line_width\":3}},\"muted_glyph\":{\"type\":\"object\",\"name\":\"Line\",\"id\":\"p1186\",\"attributes\":{\"x\":{\"type\":\"field\",\"field\":\"x\"},\"y\":{\"type\":\"field\",\"field\":\"y\"},\"line_color\":\"#0072B2\",\"line_alpha\":0.2,\"line_width\":3}}}},{\"type\":\"object\",\"name\":\"GlyphRenderer\",\"id\":\"p1196\",\"attributes\":{\"data_source\":{\"type\":\"object\",\"name\":\"ColumnDataSource\",\"id\":\"p1190\",\"attributes\":{\"selected\":{\"type\":\"object\",\"name\":\"Selection\",\"id\":\"p1191\",\"attributes\":{\"indices\":[],\"line_indices\":[]}},\"selection_policy\":{\"type\":\"object\",\"name\":\"UnionRenderers\",\"id\":\"p1192\"},\"data\":{\"type\":\"map\",\"entries\":[[\"x\",{\"type\":\"ndarray\",\"array\":{\"type\":\"bytes\",\"data\":\"FUH13tnqF0AoP9Ra7a0XQLGlIweccRdAUaWUWOQ1F0C4YsfHxPoWQKfxQNE7wBZAg2lh9UeGFkAgE1q450wWQJevI6IZFBZA4Nd0PtzbFUDudLgcLqQVQBpQBNANbRVAj7sP73k2FUCIUioUcQAVQBPRMt3xyhRANgOO6/qVFEAjyx3kimEUQEo+OG+gLRRADdmeODr6E0DhyHXvVscTQJ1MO0b1lBNAvCq/8hNjE0BpPRqusTETQAsUpjTNABNAIar0RWXQEkBCM8ikeKASQPv7ChcGcRJAXl/HZQxCEkAL0R9dihMSQIn7Rsx+5RFAqvJ3hei3EUDOee5dxooRQNhd3y0XXhFApOJw0NkxEUC7Q7MjDQYRQCVImQiw2hBALunwYsGvEEDLC1wZQIUQQKJMSRUrWxBAVt7sQoExEEANejmRQQgQQNPDsuPVvg9AoepOsvhtD0CzrVB86R0PQF1HBzWmzg5AUnj61CyADkBEO91ZezIOQDKagMaP5Q1AZaXGImiZDUCLi5V7Ak4NQMDSyuJcAw1AFrIub3W5DEBgi2c8SnAMQOaE7WrZJwxAn0L+HyHgC0DGvpCFH5kLQFVBScrSUgtALHZtITkNC0CRodjCUMgKQL/y7+oXhApAJvSW2oxACkAzGSTXrf0JQDBpVSp5uwlAB0dFIu15CUCaVV8RCDkJQGl4VU7I+AhANfAUNCy5CEBjk7shMnoIQNYhjXrYOwhA+bPopR3+B0ClRD4PAMEHQMtVBCZ+hAdAXa+tXZZIB0ByOJ8tRw0HQDHqJRGP0gZAZtxsh2yYBkBma3MT3l4GQBF3AzziJQZAqLqni3ftBUBBPaKQnLUFQA==\"},\"shape\":[80],\"dtype\":\"float64\",\"order\":\"little\"}],[\"y\",{\"type\":\"ndarray\",\"array\":{\"type\":\"bytes\",\"data\":\"c9+iFGuy+T/qeEodR/v5P6U5A6u2Tfo/Qggojvij+j+wOiv8Lv76PxhLTn8/XPs/j1D8Sj6/+z+ThdgWqSf8P9VtmgQwl/w/z5txm8oN/T+WBgMEk4z9P/G/OlMiFf4/5ptME2qn/j+63wH7wEP/P/TfsK056v8//1nMtydOAEBDvPSlpKwAQMO7aq19EQFAvzvvoo58AUA48JENkO4BQBKe9gKeZwJAgee3ur7SAkDIxMEAazADQOKmjtZllANA7qbYu9z+A0CJfXNYSnAEQHHfGBM76QRAfRbSm0hqBUD7fUo/FfQFQG861PRahgZAWNjcDIshB0AyU4Ie3sUHQAY9nnp8cwhAbzEtbdopCUC4D9+0Y+gJQA4VQiIorwpAWY0Z/BhiC0Ai83GiTPQLQH602XVfigxANd6BbAMjDUAuAQRmf7wNQCak7M7LVQ5AfXX9zabsDkBqbwR9jX8PQPqRKP/RBhBAqcB1DWZKEECf4rD47okQQHOTUFsfxBBA8/bi9bj2EEBsCUhIASARQFSgk/AGPRFAuVrRoElMEUBPjlPtgUwRQNEhcBddPBFAzzZm6W8cEUAL0TPWB+0QQIOCLp4YrxBAarQQ4KViEEAGw8q1IAoQQKmFzw24UQ9AYLg3Xp2FDkAsiGirQ7cNQBF6uJUP7AxA7K1xtccjDECwIgqOxFgLQBzuTOCnSQpAsoLDHIEYCUBRzlMnXuMHQBUdjSgtrwZAQ5qfYvSBBUBmP7uu1l8EQGIbmB2hTANAiWg0i6MhAkAXDv24/sgAQDoSIJHmHf8/uOcsZd3t/D/Uwh+xngD7P8FGw4IfJvk/Q1ug+nYL9z+yfR+YuSz1Pw==\"},\"shape\":[80],\"dtype\":\"float64\",\"order\":\"little\"}]]}}},\"view\":{\"type\":\"object\",\"name\":\"CDSView\",\"id\":\"p1197\",\"attributes\":{\"filter\":{\"type\":\"object\",\"name\":\"AllIndices\",\"id\":\"p1198\"}}},\"glyph\":{\"type\":\"object\",\"name\":\"Line\",\"id\":\"p1193\",\"attributes\":{\"x\":{\"type\":\"field\",\"field\":\"x\"},\"y\":{\"type\":\"field\",\"field\":\"y\"},\"line_color\":\"#E69F00\",\"line_width\":3}},\"nonselection_glyph\":{\"type\":\"object\",\"name\":\"Line\",\"id\":\"p1194\",\"attributes\":{\"x\":{\"type\":\"field\",\"field\":\"x\"},\"y\":{\"type\":\"field\",\"field\":\"y\"},\"line_color\":\"#E69F00\",\"line_alpha\":0.1,\"line_width\":3}},\"muted_glyph\":{\"type\":\"object\",\"name\":\"Line\",\"id\":\"p1195\",\"attributes\":{\"x\":{\"type\":\"field\",\"field\":\"x\"},\"y\":{\"type\":\"field\",\"field\":\"y\"},\"line_color\":\"#E69F00\",\"line_alpha\":0.2,\"line_width\":3}}}},{\"type\":\"object\",\"name\":\"GlyphRenderer\",\"id\":\"p1205\",\"attributes\":{\"data_source\":{\"type\":\"object\",\"name\":\"ColumnDataSource\",\"id\":\"p1199\",\"attributes\":{\"selected\":{\"type\":\"object\",\"name\":\"Selection\",\"id\":\"p1200\",\"attributes\":{\"indices\":[],\"line_indices\":[]}},\"selection_policy\":{\"type\":\"object\",\"name\":\"UnionRenderers\",\"id\":\"p1201\"},\"data\":{\"type\":\"map\",\"entries\":[[\"x\",{\"type\":\"ndarray\",\"array\":{\"type\":\"bytes\",\"data\":\"FUH13tnqF0AoP9Ra7a0XQLGlIweccRdAUaWUWOQ1F0C4YsfHxPoWQKfxQNE7wBZAg2lh9UeGFkAgE1q450wWQJevI6IZFBZA4Nd0PtzbFUDudLgcLqQVQBpQBNANbRVAj7sP73k2FUCIUioUcQAVQBPRMt3xyhRANgOO6/qVFEAjyx3kimEUQEo+OG+gLRRADdmeODr6E0DhyHXvVscTQJ1MO0b1lBNAvCq/8hNjE0BpPRqusTETQAsUpjTNABNAIar0RWXQEkBCM8ikeKASQPv7ChcGcRJAXl/HZQxCEkAL0R9dihMSQIn7Rsx+5RFAqvJ3hei3EUDOee5dxooRQNhd3y0XXhFApOJw0NkxEUC7Q7MjDQYRQCVImQiw2hBALunwYsGvEEDLC1wZQIUQQKJMSRUrWxBAVt7sQoExEEANejmRQQgQQNPDsuPVvg9AoepOsvhtD0CzrVB86R0PQF1HBzWmzg5AUnj61CyADkBEO91ZezIOQDKagMaP5Q1AZaXGImiZDUCLi5V7Ak4NQMDSyuJcAw1AFrIub3W5DEBgi2c8SnAMQOaE7WrZJwxAn0L+HyHgC0DGvpCFH5kLQFVBScrSUgtALHZtITkNC0CRodjCUMgKQL/y7+oXhApAJvSW2oxACkAzGSTXrf0JQDBpVSp5uwlAB0dFIu15CUCaVV8RCDkJQGl4VU7I+AhANfAUNCy5CEBjk7shMnoIQNYhjXrYOwhA+bPopR3+B0ClRD4PAMEHQMtVBCZ+hAdAXa+tXZZIB0ByOJ8tRw0HQDHqJRGP0gZAZtxsh2yYBkBma3MT3l4GQBF3AzziJQZAqLqni3ftBUBBPaKQnLUFQA==\"},\"shape\":[80],\"dtype\":\"float64\",\"order\":\"little\"}],[\"y\",{\"type\":\"ndarray\",\"array\":{\"type\":\"bytes\",\"data\":\"QXTCBG37hj+9Qje17uaAPzZ2aulR9IA/Qn/boAiogD8b0tU4Eml9P/f/d6mX/4I/lL/8vDQpgT9DUPEBE/iDP8+L9DpcFoQ/RgXIGxUXhz/54eqZvE+AP6iDWDwXaYY/vev8qvnzjD8ln80fAHmQP7e0hzDt54s/vNgiQt9Ijj+7Noi1HOuUP0FAZCm2xZY/nLpvl0v7lj9FSvj38HaWP7p33NxwO50/oBLVH2/gnT95WrKW5DKePyBfqnnIKqM/Url1/TeKpD9DUNO1XoKhP5ouszeKCqg/Xu1fGKY/qz8gdSGKyHmnPwHaODs7c6o/b0ZguK2ipz9mAsxFu46kP/d2ziE4g6c/s8Ymn291pT8ioKm0dyuqP7eeODlN+7A/HbD/O5rJsD8mlcSUtLK5P7giu9P41Ls/oqGmEs/Pxz+k0ewrc2LNP78hNeubic4/d4rWs2iH0T8zoJfqu+3OP7t/NtR96tA/DzjLZqyrzj9XAAM6eQXMP+LMMybg5Mc/gtNMGQvPxD9MDGPuzlXBPwq3Nk0Yl70/CZ27+Zyvuj9gPbOCVUOzP5z3LclhBrU/k8Zfbr2PrT9JyL8KaqSrP9xyCV1M5Kk/7CGYXOEdpj9PdJIJQrKkPxpMK8MjO6I/wUtXZadeoD/j8Ugm4CmgPwa0QNaeDpk/idphy8GYlz/mc2x0xs+UP8gzMZ7PPpI/LFlFF2F6jT/0uhnl2lqCP6ibAVjz8IQ/rrso1Jwkfz93dGwgzJJ/P0irb9dpPX8/fkULSOO9eD9Xr790O2V8PxvZj0kmZH4/uP3brmAVez/y2hRmDZZ9PzfTLn2kgno/Nq71UGXogD8pjhex9f9yPw==\"},\"shape\":[80],\"dtype\":\"float64\",\"order\":\"little\"}]]}}},\"view\":{\"type\":\"object\",\"name\":\"CDSView\",\"id\":\"p1206\",\"attributes\":{\"filter\":{\"type\":\"object\",\"name\":\"AllIndices\",\"id\":\"p1207\"}}},\"glyph\":{\"type\":\"object\",\"name\":\"Line\",\"id\":\"p1202\",\"attributes\":{\"x\":{\"type\":\"field\",\"field\":\"x\"},\"y\":{\"type\":\"field\",\"field\":\"y\"},\"line_color\":\"#F0E442\",\"line_width\":3}},\"nonselection_glyph\":{\"type\":\"object\",\"name\":\"Line\",\"id\":\"p1203\",\"attributes\":{\"x\":{\"type\":\"field\",\"field\":\"x\"},\"y\":{\"type\":\"field\",\"field\":\"y\"},\"line_color\":\"#F0E442\",\"line_alpha\":0.1,\"line_width\":3}},\"muted_glyph\":{\"type\":\"object\",\"name\":\"Line\",\"id\":\"p1204\",\"attributes\":{\"x\":{\"type\":\"field\",\"field\":\"x\"},\"y\":{\"type\":\"field\",\"field\":\"y\"},\"line_color\":\"#F0E442\",\"line_alpha\":0.2,\"line_width\":3}}}},{\"type\":\"object\",\"name\":\"GlyphRenderer\",\"id\":\"p1214\",\"attributes\":{\"data_source\":{\"type\":\"object\",\"name\":\"ColumnDataSource\",\"id\":\"p1208\",\"attributes\":{\"selected\":{\"type\":\"object\",\"name\":\"Selection\",\"id\":\"p1209\",\"attributes\":{\"indices\":[],\"line_indices\":[]}},\"selection_policy\":{\"type\":\"object\",\"name\":\"UnionRenderers\",\"id\":\"p1210\"},\"data\":{\"type\":\"map\",\"entries\":[[\"x\",{\"type\":\"ndarray\",\"array\":{\"type\":\"bytes\",\"data\":\"FUH13tnqF0AoP9Ra7a0XQLGlIweccRdAUaWUWOQ1F0C4YsfHxPoWQKfxQNE7wBZAg2lh9UeGFkAgE1q450wWQJevI6IZFBZA4Nd0PtzbFUDudLgcLqQVQBpQBNANbRVAj7sP73k2FUCIUioUcQAVQBPRMt3xyhRANgOO6/qVFEAjyx3kimEUQEo+OG+gLRRADdmeODr6E0DhyHXvVscTQJ1MO0b1lBNAvCq/8hNjE0BpPRqusTETQAsUpjTNABNAIar0RWXQEkBCM8ikeKASQPv7ChcGcRJAXl/HZQxCEkAL0R9dihMSQIn7Rsx+5RFAqvJ3hei3EUDOee5dxooRQNhd3y0XXhFApOJw0NkxEUC7Q7MjDQYRQCVImQiw2hBALunwYsGvEEDLC1wZQIUQQKJMSRUrWxBAVt7sQoExEEANejmRQQgQQNPDsuPVvg9AoepOsvhtD0CzrVB86R0PQF1HBzWmzg5AUnj61CyADkBEO91ZezIOQDKagMaP5Q1AZaXGImiZDUCLi5V7Ak4NQMDSyuJcAw1AFrIub3W5DEBgi2c8SnAMQOaE7WrZJwxAn0L+HyHgC0DGvpCFH5kLQFVBScrSUgtALHZtITkNC0CRodjCUMgKQL/y7+oXhApAJvSW2oxACkAzGSTXrf0JQDBpVSp5uwlAB0dFIu15CUCaVV8RCDkJQGl4VU7I+AhANfAUNCy5CEBjk7shMnoIQNYhjXrYOwhA+bPopR3+B0ClRD4PAMEHQMtVBCZ+hAdAXa+tXZZIB0ByOJ8tRw0HQDHqJRGP0gZAZtxsh2yYBkBma3MT3l4GQBF3AzziJQZAqLqni3ftBUBBPaKQnLUFQA==\"},\"shape\":[80],\"dtype\":\"float64\",\"order\":\"little\"}],[\"y\",{\"type\":\"ndarray\",\"array\":{\"type\":\"bytes\",\"data\":\"dOhaLE0Fxj/s/OmrHbXHP/NBh5mwFsQ/V5EeSE2JxT+a4UjafvjJP+YAU9Bj4Mk/YqXOzgXvxz/OYgRi/ovIP7G6+m+HMMk/D+YHt6lLyz/ZeauuiaTMP329l5/aNs4/5QM3mNH9zj/L+IfUMljPP0ihYomVSNA/QKZU39800T/gAn/wEInSP8xczXg1WNI/XKxjHeyF0z/a1K/mHJfVPzVdbCxgHNc/n9V8Fphl2D/vBdjdNpvbP9D2yPRFS90/ydB081rh3j9agbrIdkXgP4ZC7m9jmeA/jleRUYpm4D+4d1jz6cffPzeTLL95J94/kaVF/X543T/WAnm6eBvbP4pAQrJVz9k/5wZF6YV01z+6KkgIQznWPw18KkBQ/9Q/OHagPjOt0z95+krrbD7SP0Bu3OopANE/VF/LVMc6zz8wWdrr/bnMP7p1nuXYH8o/jn1oTQ6jyD9a9l+QSlPHPwG7+uPjkcU/64Gj+y91xD+3ubydHmTCP+bKkxp668A/6AtLIcHDvj/ykmgIPlC6P3mPGaX3mrc/y0LrBisMtT+fE7e5OPyyPxCVGqt2+bE/aJFQX4NzsT9kGNotmXmwPyGw16gHpLE/zWsvvUTssD9gs1n7TkCmP0lB21HjaKo/4aT8jJKHsz/+rINFlTqxP/EQUSzq7K4/UgH1sSeArj+wfZLwWGqvP2NsjnMLnbI/0F0Op2JJtz8bpZ2lvGq+P1RkBdw/RMY/9hjlgH4bzz9h3U409knTP/c4oDpXQ9Y/VCo7rd3I2T8fbTkRRYPdP/L35b1/bOA/LHx7nw3A4T84r0RB8qniPw7TB9iCZOI/RPPzfJOi4D9WzNznDZvcPw==\"},\"shape\":[80],\"dtype\":\"float64\",\"order\":\"little\"}]]}}},\"view\":{\"type\":\"object\",\"name\":\"CDSView\",\"id\":\"p1215\",\"attributes\":{\"filter\":{\"type\":\"object\",\"name\":\"AllIndices\",\"id\":\"p1216\"}}},\"glyph\":{\"type\":\"object\",\"name\":\"Line\",\"id\":\"p1211\",\"attributes\":{\"x\":{\"type\":\"field\",\"field\":\"x\"},\"y\":{\"type\":\"field\",\"field\":\"y\"},\"line_color\":\"#009E73\",\"line_width\":3}},\"nonselection_glyph\":{\"type\":\"object\",\"name\":\"Line\",\"id\":\"p1212\",\"attributes\":{\"x\":{\"type\":\"field\",\"field\":\"x\"},\"y\":{\"type\":\"field\",\"field\":\"y\"},\"line_color\":\"#009E73\",\"line_alpha\":0.1,\"line_width\":3}},\"muted_glyph\":{\"type\":\"object\",\"name\":\"Line\",\"id\":\"p1213\",\"attributes\":{\"x\":{\"type\":\"field\",\"field\":\"x\"},\"y\":{\"type\":\"field\",\"field\":\"y\"},\"line_color\":\"#009E73\",\"line_alpha\":0.2,\"line_width\":3}}}},{\"type\":\"object\",\"name\":\"GlyphRenderer\",\"id\":\"p1223\",\"attributes\":{\"data_source\":{\"type\":\"object\",\"name\":\"ColumnDataSource\",\"id\":\"p1217\",\"attributes\":{\"selected\":{\"type\":\"object\",\"name\":\"Selection\",\"id\":\"p1218\",\"attributes\":{\"indices\":[],\"line_indices\":[]}},\"selection_policy\":{\"type\":\"object\",\"name\":\"UnionRenderers\",\"id\":\"p1219\"},\"data\":{\"type\":\"map\",\"entries\":[[\"x\",{\"type\":\"ndarray\",\"array\":{\"type\":\"bytes\",\"data\":\"FUH13tnqF0AoP9Ra7a0XQLGlIweccRdAUaWUWOQ1F0C4YsfHxPoWQKfxQNE7wBZAg2lh9UeGFkAgE1q450wWQJevI6IZFBZA4Nd0PtzbFUDudLgcLqQVQBpQBNANbRVAj7sP73k2FUCIUioUcQAVQBPRMt3xyhRANgOO6/qVFEAjyx3kimEUQEo+OG+gLRRADdmeODr6E0DhyHXvVscTQJ1MO0b1lBNAvCq/8hNjE0BpPRqusTETQAsUpjTNABNAIar0RWXQEkBCM8ikeKASQPv7ChcGcRJAXl/HZQxCEkAL0R9dihMSQIn7Rsx+5RFAqvJ3hei3EUDOee5dxooRQNhd3y0XXhFApOJw0NkxEUC7Q7MjDQYRQCVImQiw2hBALunwYsGvEEDLC1wZQIUQQKJMSRUrWxBAVt7sQoExEEANejmRQQgQQNPDsuPVvg9AoepOsvhtD0CzrVB86R0PQF1HBzWmzg5AUnj61CyADkBEO91ZezIOQDKagMaP5Q1AZaXGImiZDUCLi5V7Ak4NQMDSyuJcAw1AFrIub3W5DEBgi2c8SnAMQOaE7WrZJwxAn0L+HyHgC0DGvpCFH5kLQFVBScrSUgtALHZtITkNC0CRodjCUMgKQL/y7+oXhApAJvSW2oxACkAzGSTXrf0JQDBpVSp5uwlAB0dFIu15CUCaVV8RCDkJQGl4VU7I+AhANfAUNCy5CEBjk7shMnoIQNYhjXrYOwhA+bPopR3+B0ClRD4PAMEHQMtVBCZ+hAdAXa+tXZZIB0ByOJ8tRw0HQDHqJRGP0gZAZtxsh2yYBkBma3MT3l4GQBF3AzziJQZAqLqni3ftBUBBPaKQnLUFQA==\"},\"shape\":[80],\"dtype\":\"float64\",\"order\":\"little\"}],[\"y\",{\"type\":\"ndarray\",\"array\":{\"type\":\"bytes\",\"data\":\"AAAAAAAAWUCHkDpKrt1YQJoyQWoH7VdA+8i/ChK7TEATUBzCRYc5QFpc1eMA+y1AFb4kBr4jIED3Uv9Uc30FQC6RjpnP8PI/2qgu2YW84z9Nrl7H55raP0ItSJFj+9A/0WU4DKGywj+PmEXdY+S6P+3bn3pX7bI/5agjABaxrj/mLS5CilukPzcvyRRP5Z4/oA1fNyFmlj83D4JiJwWPP9B222joS40/0vdiN/WYjD8H81/DwaiKP6iubflfWYg/lOi39hczjD+Cx4iJhz6QPyrIZ99X+IQ/Cx2OgCl9gj+suef+C4yEPyqOSzckZYo/3p1H0N8ClT+LW3WlRu2mPzG5Q8C7YsY/VUoaUkTfBUDCy5iDDr8UQGSNpAOngRdAU+Whjh1lKEB5pJwegK0vQPFoQpGNWTBAmXcCJjDHMUDx7AvRsmg8QK1iv64s8lZAAAAAAAAAWUAAAAAAAABZQAAAAAAAAFlAAAAAAAAAWUAAAAAAAABZQAAAAAAAAFlAAAAAAAAAWUAAAAAAAABZQAAAAAAAAFlAAAAAAAAAWUAAAAAAAABZQAAAAAAAAFlAAAAAAAAAWUAAAAAAAABZQAAAAAAAAFlAAAAAAAAAWUAAAAAAAABZQAAAAAAAAFlAAAAAAAAAWUAAAAAAAABZQAAAAAAAAFlAAAAAAAAAWUAAAAAAAABZQAAAAAAAAFlAAAAAAAAAWUAAAAAAAABZQAAAAAAAAFlAAAAAAAAAWUAAAAAAAABZQAAAAAAAAFlAAAAAAAAAWUAAAAAAAABZQAAAAAAAAFlAAAAAAAAAWUAAAAAAAABZQAAAAAAAAFlAAAAAAAAAWUAAAAAAAABZQA==\"},\"shape\":[80],\"dtype\":\"float64\",\"order\":\"little\"}]]}}},\"view\":{\"type\":\"object\",\"name\":\"CDSView\",\"id\":\"p1224\",\"attributes\":{\"filter\":{\"type\":\"object\",\"name\":\"AllIndices\",\"id\":\"p1225\"}}},\"glyph\":{\"type\":\"object\",\"name\":\"Line\",\"id\":\"p1220\",\"attributes\":{\"x\":{\"type\":\"field\",\"field\":\"x\"},\"y\":{\"type\":\"field\",\"field\":\"y\"},\"line_color\":\"#56B4E9\",\"line_width\":3}},\"nonselection_glyph\":{\"type\":\"object\",\"name\":\"Line\",\"id\":\"p1221\",\"attributes\":{\"x\":{\"type\":\"field\",\"field\":\"x\"},\"y\":{\"type\":\"field\",\"field\":\"y\"},\"line_color\":\"#56B4E9\",\"line_alpha\":0.1,\"line_width\":3}},\"muted_glyph\":{\"type\":\"object\",\"name\":\"Line\",\"id\":\"p1222\",\"attributes\":{\"x\":{\"type\":\"field\",\"field\":\"x\"},\"y\":{\"type\":\"field\",\"field\":\"y\"},\"line_color\":\"#56B4E9\",\"line_alpha\":0.2,\"line_width\":3}}}},{\"type\":\"object\",\"name\":\"GlyphRenderer\",\"id\":\"p1232\",\"attributes\":{\"data_source\":{\"type\":\"object\",\"name\":\"ColumnDataSource\",\"id\":\"p1226\",\"attributes\":{\"selected\":{\"type\":\"object\",\"name\":\"Selection\",\"id\":\"p1227\",\"attributes\":{\"indices\":[],\"line_indices\":[]}},\"selection_policy\":{\"type\":\"object\",\"name\":\"UnionRenderers\",\"id\":\"p1228\"},\"data\":{\"type\":\"map\",\"entries\":[[\"x\",{\"type\":\"ndarray\",\"array\":{\"type\":\"bytes\",\"data\":\"FUH13tnqF0AoP9Ra7a0XQLGlIweccRdAUaWUWOQ1F0C4YsfHxPoWQKfxQNE7wBZAg2lh9UeGFkAgE1q450wWQJevI6IZFBZA4Nd0PtzbFUDudLgcLqQVQBpQBNANbRVAj7sP73k2FUCIUioUcQAVQBPRMt3xyhRANgOO6/qVFEAjyx3kimEUQEo+OG+gLRRADdmeODr6E0DhyHXvVscTQJ1MO0b1lBNAvCq/8hNjE0BpPRqusTETQAsUpjTNABNAIar0RWXQEkBCM8ikeKASQPv7ChcGcRJAXl/HZQxCEkAL0R9dihMSQIn7Rsx+5RFAqvJ3hei3EUDOee5dxooRQNhd3y0XXhFApOJw0NkxEUC7Q7MjDQYRQCVImQiw2hBALunwYsGvEEDLC1wZQIUQQKJMSRUrWxBAVt7sQoExEEANejmRQQgQQNPDsuPVvg9AoepOsvhtD0CzrVB86R0PQF1HBzWmzg5AUnj61CyADkBEO91ZezIOQDKagMaP5Q1AZaXGImiZDUCLi5V7Ak4NQMDSyuJcAw1AFrIub3W5DEBgi2c8SnAMQOaE7WrZJwxAn0L+HyHgC0DGvpCFH5kLQFVBScrSUgtALHZtITkNC0CRodjCUMgKQL/y7+oXhApAJvSW2oxACkAzGSTXrf0JQDBpVSp5uwlAB0dFIu15CUCaVV8RCDkJQGl4VU7I+AhANfAUNCy5CEBjk7shMnoIQNYhjXrYOwhA+bPopR3+B0ClRD4PAMEHQMtVBCZ+hAdAXa+tXZZIB0ByOJ8tRw0HQDHqJRGP0gZAZtxsh2yYBkBma3MT3l4GQBF3AzziJQZAqLqni3ftBUBBPaKQnLUFQA==\"},\"shape\":[80],\"dtype\":\"float64\",\"order\":\"little\"}],[\"y\",{\"type\":\"ndarray\",\"array\":{\"type\":\"bytes\",\"data\":\"sMLxUULp3z+WsLQb9I7gPwt9kRIE8uU/ZWujYBxA6j8zVMhOA47qP323H2DmtvI/cUFAM6KC9j/UV88JCaj5P1LO1dVUAv8/XXMmObqrAkCFy1Za+6sFQFiCqebVyAhA8V0I8mjzC0DSDXFlNBIMQJtj8At1igxA54c1H454EEDa9mqVEhkNQPuTGKL76AZAfBYu0XijBUBsBN6FlBwDQBVsnlux/gBAHAvXdOn9+j93LWA7err1P7HxsbUNYfI/isMhUnqM7D/+G29q04/lP0e5t6NNWOM/xOgoNuZ63z8/7NS9Mn3dP6zkTC9og94//Zg3QwrC3D9BintilAzdPwjB0ZkDENk/cnoEJo201z/bg/zABRHUP8dihHQYAdI/cpuLlr/JzD9TfKGXpovKP6wCBckmWMs/O+5YvoOuyD96vdt67STHPwLaQLmL3cU/V1o6cjFyxD9+pxellB/FP+2KYIBy38M/zFihRDyEwD9s2aL0oAS7P6RC8qc6/rs/xikOILpMvD93GSdbsF2+P0My9wqQMME/DogK6ofVwj/D/lqU48nFP+jKH/zcPc8/+ePlPEbj1D9IKoW0bzrkP50zjbaI8e0/Z6iigfBD9z/+2yI5h2f+P8se4HxFrgVAq0QVT5J2C0D1wfVYzz8TQAmRxHiPKxlA3szGi1GGH0BImutcGQkfQH+4Z3mkMBpArT/gEkIeEkDvwQ5wBGUFQMYIKDVdqfg/wZS2XCPg7j8nMniY/JjjPyatXd4Uydg/TqcLPHhz0D/RHwRzlGDJP7TOgcCKNcQ//tXKmNPovD/AiVnGjwG4P1U261Ithbc/CG0QTiJksz9BgPBu2aO1Pw==\"},\"shape\":[80],\"dtype\":\"float64\",\"order\":\"little\"}]]}}},\"view\":{\"type\":\"object\",\"name\":\"CDSView\",\"id\":\"p1233\",\"attributes\":{\"filter\":{\"type\":\"object\",\"name\":\"AllIndices\",\"id\":\"p1234\"}}},\"glyph\":{\"type\":\"object\",\"name\":\"Line\",\"id\":\"p1229\",\"attributes\":{\"x\":{\"type\":\"field\",\"field\":\"x\"},\"y\":{\"type\":\"field\",\"field\":\"y\"},\"line_color\":\"#D55E00\",\"line_width\":3}},\"nonselection_glyph\":{\"type\":\"object\",\"name\":\"Line\",\"id\":\"p1230\",\"attributes\":{\"x\":{\"type\":\"field\",\"field\":\"x\"},\"y\":{\"type\":\"field\",\"field\":\"y\"},\"line_color\":\"#D55E00\",\"line_alpha\":0.1,\"line_width\":3}},\"muted_glyph\":{\"type\":\"object\",\"name\":\"Line\",\"id\":\"p1231\",\"attributes\":{\"x\":{\"type\":\"field\",\"field\":\"x\"},\"y\":{\"type\":\"field\",\"field\":\"y\"},\"line_color\":\"#D55E00\",\"line_alpha\":0.2,\"line_width\":3}}}},{\"type\":\"object\",\"name\":\"GlyphRenderer\",\"id\":\"p1241\",\"attributes\":{\"data_source\":{\"type\":\"object\",\"name\":\"ColumnDataSource\",\"id\":\"p1235\",\"attributes\":{\"selected\":{\"type\":\"object\",\"name\":\"Selection\",\"id\":\"p1236\",\"attributes\":{\"indices\":[],\"line_indices\":[]}},\"selection_policy\":{\"type\":\"object\",\"name\":\"UnionRenderers\",\"id\":\"p1237\"},\"data\":{\"type\":\"map\",\"entries\":[[\"x\",{\"type\":\"ndarray\",\"array\":{\"type\":\"bytes\",\"data\":\"FUH13tnqF0AoP9Ra7a0XQLGlIweccRdAUaWUWOQ1F0C4YsfHxPoWQKfxQNE7wBZAg2lh9UeGFkAgE1q450wWQJevI6IZFBZA4Nd0PtzbFUDudLgcLqQVQBpQBNANbRVAj7sP73k2FUCIUioUcQAVQBPRMt3xyhRANgOO6/qVFEAjyx3kimEUQEo+OG+gLRRADdmeODr6E0DhyHXvVscTQJ1MO0b1lBNAvCq/8hNjE0BpPRqusTETQAsUpjTNABNAIar0RWXQEkBCM8ikeKASQPv7ChcGcRJAXl/HZQxCEkAL0R9dihMSQIn7Rsx+5RFAqvJ3hei3EUDOee5dxooRQNhd3y0XXhFApOJw0NkxEUC7Q7MjDQYRQCVImQiw2hBALunwYsGvEEDLC1wZQIUQQKJMSRUrWxBAVt7sQoExEEANejmRQQgQQNPDsuPVvg9AoepOsvhtD0CzrVB86R0PQF1HBzWmzg5AUnj61CyADkBEO91ZezIOQDKagMaP5Q1AZaXGImiZDUCLi5V7Ak4NQMDSyuJcAw1AFrIub3W5DEBgi2c8SnAMQOaE7WrZJwxAn0L+HyHgC0DGvpCFH5kLQFVBScrSUgtALHZtITkNC0CRodjCUMgKQL/y7+oXhApAJvSW2oxACkAzGSTXrf0JQDBpVSp5uwlAB0dFIu15CUCaVV8RCDkJQGl4VU7I+AhANfAUNCy5CEBjk7shMnoIQNYhjXrYOwhA+bPopR3+B0ClRD4PAMEHQMtVBCZ+hAdAXa+tXZZIB0ByOJ8tRw0HQDHqJRGP0gZAZtxsh2yYBkBma3MT3l4GQBF3AzziJQZAqLqni3ftBUBBPaKQnLUFQA==\"},\"shape\":[80],\"dtype\":\"float64\",\"order\":\"little\"}],[\"y\",{\"type\":\"ndarray\",\"array\":{\"type\":\"bytes\",\"data\":\"AAAAAAAAWUAAAAAAAABZQAAAAAAAAFlAAAAAAAAAWUAAAAAAAABZQAAAAAAAAFlAAAAAAAAAWUAAAAAAAABZQMgqcEr7uVhArL1VoPGRVEBf04tQPZRHQLFc67MlHkFAWRvpQSElR0Au+7EHQBtQQMA7B+eWJlNAJpeDjdE4U0BqctzuSYtJQAmjjoV8CilAyEXHy19hC0Aq/hxTbx32P2j+kdCtoec/ycG/FheX3D82axQazwrSPyhomwzLUsg/rmjE2dKptj8LIrBtovehP04+dkI24Yk/Ix7PlNbIdD8G+ihMisljPxx3+psj01k/zNLGCsorVD/Sxbj7GgJQP9hXvuSyQVM/n8KdPrBKXT8DNt17KV50Pyuk1pLw0o8/EaFCInvu3D8DazBMvYYGQMT4xImLMBBAiJizC1mmFEANrgBaviolQLVPwnd+5TFA0uM8tL6YM0Bz8MB5+OQ2QHW7cz2zd0RA8WelBY+TV0AAAAAAAABZQAAAAAAAAFlAAAAAAAAAWUAAAAAAAABZQAAAAAAAAFlAAAAAAAAAWUAAAAAAAABZQAAAAAAAAFlAAAAAAAAAWUAAAAAAAABZQAAAAAAAAFlAAAAAAAAAWUAAAAAAAABZQAAAAAAAAFlAAAAAAAAAWUAAAAAAAABZQAAAAAAAAFlAAAAAAAAAWUAAAAAAAABZQAAAAAAAAFlAAAAAAAAAWUDF7tW6ltVWQFL9BgXoDR5AGfdmF9Ol+D+duOgLX9vfP903PiKafsg/4AL8h+zItj+R+ZnsYTGvP3BryPaEmqk/GuA8F71aqD/SOesb4dCkP3fyRxRZuqU/FOnVLYYpmj+uX+y7gkeYPw==\"},\"shape\":[80],\"dtype\":\"float64\",\"order\":\"little\"}]]}}},\"view\":{\"type\":\"object\",\"name\":\"CDSView\",\"id\":\"p1242\",\"attributes\":{\"filter\":{\"type\":\"object\",\"name\":\"AllIndices\",\"id\":\"p1243\"}}},\"glyph\":{\"type\":\"object\",\"name\":\"Line\",\"id\":\"p1238\",\"attributes\":{\"x\":{\"type\":\"field\",\"field\":\"x\"},\"y\":{\"type\":\"field\",\"field\":\"y\"},\"line_color\":\"#CC79A7\",\"line_width\":3}},\"nonselection_glyph\":{\"type\":\"object\",\"name\":\"Line\",\"id\":\"p1239\",\"attributes\":{\"x\":{\"type\":\"field\",\"field\":\"x\"},\"y\":{\"type\":\"field\",\"field\":\"y\"},\"line_color\":\"#CC79A7\",\"line_alpha\":0.1,\"line_width\":3}},\"muted_glyph\":{\"type\":\"object\",\"name\":\"Line\",\"id\":\"p1240\",\"attributes\":{\"x\":{\"type\":\"field\",\"field\":\"x\"},\"y\":{\"type\":\"field\",\"field\":\"y\"},\"line_color\":\"#CC79A7\",\"line_alpha\":0.2,\"line_width\":3}}}},{\"type\":\"object\",\"name\":\"GlyphRenderer\",\"id\":\"p1250\",\"attributes\":{\"data_source\":{\"type\":\"object\",\"name\":\"ColumnDataSource\",\"id\":\"p1244\",\"attributes\":{\"selected\":{\"type\":\"object\",\"name\":\"Selection\",\"id\":\"p1245\",\"attributes\":{\"indices\":[],\"line_indices\":[]}},\"selection_policy\":{\"type\":\"object\",\"name\":\"UnionRenderers\",\"id\":\"p1246\"},\"data\":{\"type\":\"map\",\"entries\":[[\"x\",{\"type\":\"ndarray\",\"array\":{\"type\":\"bytes\",\"data\":\"FUH13tnqF0AoP9Ra7a0XQLGlIweccRdAUaWUWOQ1F0C4YsfHxPoWQKfxQNE7wBZAg2lh9UeGFkAgE1q450wWQJevI6IZFBZA4Nd0PtzbFUDudLgcLqQVQBpQBNANbRVAj7sP73k2FUCIUioUcQAVQBPRMt3xyhRANgOO6/qVFEAjyx3kimEUQEo+OG+gLRRADdmeODr6E0DhyHXvVscTQJ1MO0b1lBNAvCq/8hNjE0BpPRqusTETQAsUpjTNABNAIar0RWXQEkBCM8ikeKASQPv7ChcGcRJAXl/HZQxCEkAL0R9dihMSQIn7Rsx+5RFAqvJ3hei3EUDOee5dxooRQNhd3y0XXhFApOJw0NkxEUC7Q7MjDQYRQCVImQiw2hBALunwYsGvEEDLC1wZQIUQQKJMSRUrWxBAVt7sQoExEEANejmRQQgQQNPDsuPVvg9AoepOsvhtD0CzrVB86R0PQF1HBzWmzg5AUnj61CyADkBEO91ZezIOQDKagMaP5Q1AZaXGImiZDUCLi5V7Ak4NQMDSyuJcAw1AFrIub3W5DEBgi2c8SnAMQOaE7WrZJwxAn0L+HyHgC0DGvpCFH5kLQFVBScrSUgtALHZtITkNC0CRodjCUMgKQL/y7+oXhApAJvSW2oxACkAzGSTXrf0JQDBpVSp5uwlAB0dFIu15CUCaVV8RCDkJQGl4VU7I+AhANfAUNCy5CEBjk7shMnoIQNYhjXrYOwhA+bPopR3+B0ClRD4PAMEHQMtVBCZ+hAdAXa+tXZZIB0ByOJ8tRw0HQDHqJRGP0gZAZtxsh2yYBkBma3MT3l4GQBF3AzziJQZAqLqni3ftBUBBPaKQnLUFQA==\"},\"shape\":[80],\"dtype\":\"float64\",\"order\":\"little\"}],[\"y\",{\"type\":\"ndarray\",\"array\":{\"type\":\"bytes\",\"data\":\"AAAAAAAAWUAAAAAAAABZQAAAAAAAAFlAAAAAAAAAWUAAAAAAAABZQAAAAAAAAFlAAAAAAAAAWUAAAAAAAABZQAAAAAAAAFlAAAAAAAAAWUAAAAAAAABZQF2GsNmi2FdAqXL3dFq7WECLuPXbWTJYQOzTkM0F3lhAAAAAAAAAWUCwkgQFsddYQH/2806oMVRADBp5gppPOECICkXIphrUP1rP5kXxwNA/mou5mqmkyz8zWjctyaPyP3MnHP1RiFZA/VldLYDXWEAAAAAAAABZQAAAAAAAAFlAAAAAAAAAWUAAAAAAAABZQAAAAAAAAFlAAAAAAAAAWUAAAAAAAABZQAAAAAAAAFlAAAAAAAAAWUAAAAAAAABZQAAAAAAAAFlAAAAAAAAAWUAAAAAAAABZQAAAAAAAAFlAAAAAAAAAWUAAAAAAAABZQAAAAAAAAFlAAAAAAAAAWUAAAAAAAABZQAAAAAAAAFlAAAAAAAAAWUAAAAAAAABZQAAAAAAAAFlAAAAAAAAAWUAAAAAAAABZQAAAAAAAAFlAAAAAAAAAWUAAAAAAAABZQAAAAAAAAFlACU3Dz571VUCNqqb6acRQQJr4nKyMbFBAAAAAAAAAWUAAAAAAAABZQAAAAAAAAFlAAAAAAAAAWUAAAAAAAABZQAAAAAAAAFlAAAAAAAAAWUAAAAAAAABZQAAAAAAAAFlAAAAAAAAAWUAAAAAAAABZQAAAAAAAAFlAAAAAAAAAWUAAAAAAAABZQAAAAAAAAFlAAAAAAAAAWUAAAAAAAABZQAAAAAAAAFlAAAAAAAAAWUAAAAAAAABZQAAAAAAAAFlAAAAAAAAAWUAAAAAAAABZQA==\"},\"shape\":[80],\"dtype\":\"float64\",\"order\":\"little\"}]]}}},\"view\":{\"type\":\"object\",\"name\":\"CDSView\",\"id\":\"p1251\",\"attributes\":{\"filter\":{\"type\":\"object\",\"name\":\"AllIndices\",\"id\":\"p1252\"}}},\"glyph\":{\"type\":\"object\",\"name\":\"Line\",\"id\":\"p1247\",\"attributes\":{\"x\":{\"type\":\"field\",\"field\":\"x\"},\"y\":{\"type\":\"field\",\"field\":\"y\"},\"line_color\":\"#000000\",\"line_width\":3}},\"nonselection_glyph\":{\"type\":\"object\",\"name\":\"Line\",\"id\":\"p1248\",\"attributes\":{\"x\":{\"type\":\"field\",\"field\":\"x\"},\"y\":{\"type\":\"field\",\"field\":\"y\"},\"line_color\":\"#000000\",\"line_alpha\":0.1,\"line_width\":3}},\"muted_glyph\":{\"type\":\"object\",\"name\":\"Line\",\"id\":\"p1249\",\"attributes\":{\"x\":{\"type\":\"field\",\"field\":\"x\"},\"y\":{\"type\":\"field\",\"field\":\"y\"},\"line_color\":\"#000000\",\"line_alpha\":0.2,\"line_width\":3}}}}],\"toolbar\":{\"type\":\"object\",\"name\":\"Toolbar\",\"id\":\"p1156\",\"attributes\":{\"tools\":[{\"type\":\"object\",\"name\":\"PanTool\",\"id\":\"p1170\"},{\"type\":\"object\",\"name\":\"WheelZoomTool\",\"id\":\"p1171\",\"attributes\":{\"renderers\":\"auto\"}},{\"type\":\"object\",\"name\":\"BoxZoomTool\",\"id\":\"p1172\",\"attributes\":{\"overlay\":{\"type\":\"object\",\"name\":\"BoxAnnotation\",\"id\":\"p1173\",\"attributes\":{\"syncable\":false,\"level\":\"overlay\",\"visible\":false,\"left\":{\"type\":\"number\",\"value\":\"nan\"},\"right\":{\"type\":\"number\",\"value\":\"nan\"},\"top\":{\"type\":\"number\",\"value\":\"nan\"},\"bottom\":{\"type\":\"number\",\"value\":\"nan\"},\"left_units\":\"canvas\",\"right_units\":\"canvas\",\"top_units\":\"canvas\",\"bottom_units\":\"canvas\",\"line_color\":\"black\",\"line_alpha\":1.0,\"line_width\":2,\"line_dash\":[4,4],\"fill_color\":\"lightgrey\",\"fill_alpha\":0.5}}}},{\"type\":\"object\",\"name\":\"SaveTool\",\"id\":\"p1178\"},{\"type\":\"object\",\"name\":\"ResetTool\",\"id\":\"p1179\"},{\"type\":\"object\",\"name\":\"HelpTool\",\"id\":\"p1180\"}]}},\"left\":[{\"type\":\"object\",\"name\":\"LogAxis\",\"id\":\"p1165\",\"attributes\":{\"ticker\":{\"type\":\"object\",\"name\":\"LogTicker\",\"id\":\"p1166\",\"attributes\":{\"num_minor_ticks\":10,\"mantissas\":[1,5]}},\"formatter\":{\"type\":\"object\",\"name\":\"LogTickFormatter\",\"id\":\"p1167\"},\"axis_label\":\"Tau Pressure (bars)\",\"axis_label_text_font\":\"times\",\"axis_label_text_font_size\":\"14pt\",\"axis_label_text_font_style\":\"bold\",\"major_label_policy\":{\"type\":\"object\",\"name\":\"AllLabels\",\"id\":\"p1168\"},\"major_label_text_font\":\"times\",\"major_label_text_font_size\":\"14pt\"}},{\"type\":\"object\",\"name\":\"Legend\",\"id\":\"p1253\",\"attributes\":{\"location\":[0,0],\"click_policy\":\"mute\",\"items\":[{\"type\":\"object\",\"name\":\"LegendItem\",\"id\":\"p1254\",\"attributes\":{\"label\":{\"type\":\"value\",\"value\":\"H2H2\"},\"renderers\":[{\"id\":\"p1187\"}]}},{\"type\":\"object\",\"name\":\"LegendItem\",\"id\":\"p1255\",\"attributes\":{\"label\":{\"type\":\"value\",\"value\":\"H2He\"},\"renderers\":[{\"id\":\"p1196\"}]}},{\"type\":\"object\",\"name\":\"LegendItem\",\"id\":\"p1256\",\"attributes\":{\"label\":{\"type\":\"value\",\"value\":\"H2O\"},\"renderers\":[{\"id\":\"p1205\"}]}},{\"type\":\"object\",\"name\":\"LegendItem\",\"id\":\"p1257\",\"attributes\":{\"label\":{\"type\":\"value\",\"value\":\"CH4\"},\"renderers\":[{\"id\":\"p1214\"}]}},{\"type\":\"object\",\"name\":\"LegendItem\",\"id\":\"p1258\",\"attributes\":{\"label\":{\"type\":\"value\",\"value\":\"CO\"},\"renderers\":[{\"id\":\"p1223\"}]}},{\"type\":\"object\",\"name\":\"LegendItem\",\"id\":\"p1259\",\"attributes\":{\"label\":{\"type\":\"value\",\"value\":\"H2S\"},\"renderers\":[{\"id\":\"p1232\"}]}},{\"type\":\"object\",\"name\":\"LegendItem\",\"id\":\"p1260\",\"attributes\":{\"label\":{\"type\":\"value\",\"value\":\"CO2\"},\"renderers\":[{\"id\":\"p1241\"}]}},{\"type\":\"object\",\"name\":\"LegendItem\",\"id\":\"p1261\",\"attributes\":{\"label\":{\"type\":\"value\",\"value\":\"OCS\"},\"renderers\":[{\"id\":\"p1250\"}]}}]}}],\"below\":[{\"type\":\"object\",\"name\":\"LogAxis\",\"id\":\"p1160\",\"attributes\":{\"ticker\":{\"type\":\"object\",\"name\":\"LogTicker\",\"id\":\"p1161\",\"attributes\":{\"num_minor_ticks\":10,\"mantissas\":[1,5]}},\"formatter\":{\"type\":\"object\",\"name\":\"LogTickFormatter\",\"id\":\"p1162\"},\"axis_label\":\"Wavelength\",\"axis_label_text_font\":\"times\",\"axis_label_text_font_size\":\"14pt\",\"axis_label_text_font_style\":\"bold\",\"major_label_policy\":{\"type\":\"object\",\"name\":\"AllLabels\",\"id\":\"p1163\"},\"major_label_text_font\":\"times\",\"major_label_text_font_size\":\"14pt\"}}],\"center\":[{\"type\":\"object\",\"name\":\"Grid\",\"id\":\"p1164\",\"attributes\":{\"axis\":{\"id\":\"p1160\"}}},{\"type\":\"object\",\"name\":\"Grid\",\"id\":\"p1169\",\"attributes\":{\"dimension\":1,\"axis\":{\"id\":\"p1165\"}}}]}}]}};\n",
       "  const render_items = [{\"docid\":\"968e214a-015a-4508-b4c5-274d228858a3\",\"roots\":{\"p1147\":\"c1aa54a0-6729-450c-973b-605dbdafb409\"},\"root_ids\":[\"p1147\"]}];\n",
       "  void root.Bokeh.embed.embed_items_notebook(docs_json, render_items);\n",
       "  }\n",
       "  if (root.Bokeh !== undefined) {\n",
       "    embed_document(root);\n",
       "  } else {\n",
       "    let attempts = 0;\n",
       "    const timer = setInterval(function(root) {\n",
       "      if (root.Bokeh !== undefined) {\n",
       "        clearInterval(timer);\n",
       "        embed_document(root);\n",
       "      } else {\n",
       "        attempts++;\n",
       "        if (attempts > 100) {\n",
       "          clearInterval(timer);\n",
       "          console.log(\"Bokeh: ERROR: Unable to run BokehJS code because BokehJS library is missing\");\n",
       "        }\n",
       "      }\n",
       "    }, 10, root)\n",
       "  }\n",
       "})(window);"
      ],
      "application/vnd.bokehjs_exec.v0+json": ""
     },
     "metadata": {
      "application/vnd.bokehjs_exec.v0+json": {
       "id": "p1147"
      }
     },
     "output_type": "display_data"
    }
   ],
   "source": [
    "jpi.show(jpi.molecule_contribution(molecule_contribution,\n",
    "                                   opa, plot_width=700, x_axis_type='log'))"
   ]
  },
  {
   "cell_type": "markdown",
   "id": "2cd075a2",
   "metadata": {
    "id": "8d9d34fc"
   },
   "source": [
    "### Identifying molecular features with \"leave-one-out\" method\n",
    "\n",
    "Another option for investigating model output is to remove the contribution of one gas from the model to see if it affects our spectrum. CO$_2$ was a fairly obvious feature for the 4.3$\\mu$m. But what about H$_2$O and CO from 4.4-6$\\mu$m. In this region there is no distinct \"feature\" in the spectrum. How sure are we that H$_2$O and CO are really there? We can use the \"leave-one-out\" method to see how individual molecules are shaping each part of our spectrum."
   ]
  },
  {
   "cell_type": "markdown",
   "id": "85d75c9f-21e4-477f-9513-9900da86265b",
   "metadata": {},
   "source": [
    "<div class=\"alert alert-block alert-info\">\n",
    "In the next cell, what does \"note the new last key\" mean? The w39.spectrum arguments are the same as before. I do see exclude_mol=iex is new in the line above the note.\n",
    "</div>"
   ]
  },
  {
   "cell_type": "code",
   "execution_count": 34,
   "id": "31d1ef5a",
   "metadata": {
    "id": "a457832c"
   },
   "outputs": [
    {
     "data": {
      "text/html": [
       "\n",
       "  <div id=\"f53570e2-aa5d-45c1-896d-3e843202b135\" data-root-id=\"p1278\" style=\"display: contents;\"></div>\n"
      ]
     },
     "metadata": {},
     "output_type": "display_data"
    },
    {
     "data": {
      "application/javascript": [
       "(function(root) {\n",
       "  function embed_document(root) {\n",
       "  const docs_json = {\"814401b3-e08d-4904-9232-7190dfebbd56\":{\"version\":\"3.4.3\",\"title\":\"Bokeh Application\",\"roots\":[{\"type\":\"object\",\"name\":\"Figure\",\"id\":\"p1278\",\"attributes\":{\"width\":1000,\"height\":345,\"x_range\":{\"type\":\"object\",\"name\":\"DataRange1d\",\"id\":\"p1279\"},\"y_range\":{\"type\":\"object\",\"name\":\"DataRange1d\",\"id\":\"p1280\"},\"x_scale\":{\"type\":\"object\",\"name\":\"LinearScale\",\"id\":\"p1287\"},\"y_scale\":{\"type\":\"object\",\"name\":\"LinearScale\",\"id\":\"p1288\"},\"title\":{\"type\":\"object\",\"name\":\"Title\",\"id\":\"p1285\"},\"renderers\":[{\"type\":\"object\",\"name\":\"GlyphRenderer\",\"id\":\"p1316\",\"attributes\":{\"data_source\":{\"type\":\"object\",\"name\":\"ColumnDataSource\",\"id\":\"p1310\",\"attributes\":{\"selected\":{\"type\":\"object\",\"name\":\"Selection\",\"id\":\"p1311\",\"attributes\":{\"indices\":[],\"line_indices\":[]}},\"selection_policy\":{\"type\":\"object\",\"name\":\"UnionRenderers\",\"id\":\"p1312\"},\"data\":{\"type\":\"map\",\"entries\":[[\"x\",{\"type\":\"ndarray\",\"array\":{\"type\":\"bytes\",\"data\":\"l5OSmRX1F0ApOmY+VcwXQDQVoTTaoxdAikVaBqR7F0BbfHE+slMXQA2mjWgELBdAWJcbEZoEF0CdvEzFct0WQITLFROOthZA0XYtieuPFkBgJAu3imkWQGml5SxrQxZA2/Cxe4wdFkDx3yE17vcVQOrsouuP0hVA2PNcMnGtFUCg9TCdkYgVQAjdt8DwYxVA30VBMo4/FUBDRtKHaRsVQOM5JFiC9xRAaI+jOtjTFEDOl27HarAUQN1XVJc5jRRAiFvTQ0RqFEBnixhnikcUQBkE/psLJRRAqe8JfscCFEDjYG2pveATQJ0wA7vtvhNA8dxOUFedE0BbansH+nsTQMdGWn/VWhNAfi5iV+k5E0D3Eq4vNRkTQIgD/Ki4+BJA6xesZHPYEkCnXL8EZbgSQD/B1iuNmBJAQAgyfet4EkAbua6cf1kSQLsTxy5JOhJA/QWR2EcbEkDdIr0/e/wRQGiblQrj3RFAajn9336/EUDoW25nTqERQDv1+UhRgxFA/opGLYdlEUCSN4+970cRQGytoqOKKhFAATziiVcNEUBm1kAbVvAQQJEbQgOG0xBARmD57ea2EECjugiIeJoQQEwPoH46fhBANCB8fyxiEEAEneU4TkYQQA81sFmfKhBA7qo5kR8PEEAq09EenecPQB02WglYsQ9AcoH5Q297D0Aamqkx4kUPQN19bzawEA9ABn1Zt9jbDkAXd30aW6cOQHIa98Y2cw5AByfmJGs/DkDzs2yd9wsOQBJ4rZrb2A1AeBXKhxamDUDUZ+HQp3MNQLTVDeOOQQ1Ap6RjLMsPDUA1UO8bXN4MQKrjsyFBrQxArFaprnl8DECh7Lo0BUwMQNyWxSbjGwxAeVmW+BLsC0AJs+gelLwLQOUGZQ9mjQtAQAqfQIheC0DaMxQq+i8LQGguKkS7AQtAkU0tCMvTCkCcBU/wKKYKQK1lpHfUeApAopQkGs1LCkB0UKdUEh8KQD1w46Sj8glAsGhtiYDGCUAo07WBqJoJQC33Bw4bbwlAflaIr9dDCUCNOzPo3RgJQHdK2zot7ghAYxQoK8XDCEBXrZQ9pZkIQG1EbvfMbwhAcb7S3jtGCEDdUq968RwIQDErv1Lt8wdAoQSK7y7LB0Af1GLataIHQKdsZp2BegdA4yd6w5FSB0AWkUrY5SoHQEASSmh9AwdAkKOvAFjcBkAOfXUvdbUGQHnKV4PUjgZAXmHTi3VoBkBieSTZV0IGQLhmRfx6HAZAulbtht72BUC1Do8LgtEFQM6sVx1lrAVA\"},\"shape\":[120],\"dtype\":\"float64\",\"order\":\"little\"}],[\"y\",{\"type\":\"ndarray\",\"array\":{\"type\":\"bytes\",\"data\":\"o+TfnxPlmj80iqAHZgWbPxrNZBBO5Jo/rq2Udp0Amz9zE4MQJcyaP6mT18osDps/KSu11agZmz+7A1HnvCCbPzHF891e+Jo/NJ0wXGPkmj9XN66QpOqaP6OsUBdPA5s/kxXlUfkjmz/MtWTjQgGbPwS8KZk04Jo/hdrXy1Urmz/SujkqJ9yaP/gwJo/X65o/zgLgl2ummj9tFw1XrdaaP0a3zouFyJo/W+5ivi0Omz9bSTst88uaP22wUQc35Zo/47j3P4Ximj+Iq94EwvGaPyRx9gyrr5o/OmrSQ1Phmj+BiHGbBMuaP1ddpIU7EZs/fEIwzW3Amj/luObG4d2aP+5UpqtV15o/WG0jaOTqmj86Y2xXPtiaPwYr6q7Dm5o/E2+pMY+4mj8vKz/2waWaP70UMh24x5o/xANYNDusmj+X9xx39MCaP5xlBqa1q5o/Uk//bIiOmj8NY4bntJKaP6jqpni2X5o/n2ZXG7mbmj+yBlFZWV6aP0RpXS1XUJo/u0cW2CdSmj/PPaSw9y6aP/IKoMuAIZo//wUwr80Amj/zXsZr3AiaP1/pc3Xzz5k/iSzdTSr3mT/JfPL1PuCZP3P6N8mUxpk/sww0ts6/mT8q39tnOKGZP/orMIqbj5k/Rqqc8mJ1mT9KYIjlP5KZP1Y/TetWbZk/vNBGUzd8mT/OYVYtQIOZP5EOcDKAb5k/swbMKriFmT9OQWGStIuZP6yGuXcoqpk/muKlqrC6mT9kemP+icWZP7iYZnyYv5k/4SZWYUfYmT9MWEd3w+mZP1y6pXqj1Jk/Vlqh1wL0mT+FklGRMvaZP9sPmqDdA5o/CBIF08oRmj9vMpXhIRWaPyVMfqVh+Zk/vS0vwvoCmj/RP6P9YBSaP2bTQPzZAZo/8cWchXTzmT9pOG7CqgmaP8yz8kJmLJo/qAdPHOApmj+9Ygi82SGaP1jMkaLyRpo/TcZNotZamj/GvQRiwimaP8TbOsnSUJo/0zD+1O56mj/zL++2+HeaPypjl2/DmZo/W4zT8vJ5mj+XHXd+trOaP0g8Exyjypo/e8qvO3Xkmj9tzb4FyQ2bP23iraboQJs/TBJmY7sAmz8uO+4sMzibP5a/X3ZHOps/e/hlvQIemz8Eo8plhoObP7sWabyvEJs/kVR0W596mz+T6abHz4qbP2Pp0oRVTps/yE4fScxDmz8kWHRbAVWbP4Ar8TvDjJs/4dT/LO46mz+kpFk3MoCbP6mUNW1JcZs/NsDC1Co4mz9KDRcu63ubP8x0Stnex5s/\"},\"shape\":[120],\"dtype\":\"float64\",\"order\":\"little\"}]]}}},\"view\":{\"type\":\"object\",\"name\":\"CDSView\",\"id\":\"p1317\",\"attributes\":{\"filter\":{\"type\":\"object\",\"name\":\"AllIndices\",\"id\":\"p1318\"}}},\"glyph\":{\"type\":\"object\",\"name\":\"Line\",\"id\":\"p1313\",\"attributes\":{\"x\":{\"type\":\"field\",\"field\":\"x\"},\"y\":{\"type\":\"field\",\"field\":\"y\"},\"line_color\":\"#0072B2\",\"line_width\":3}},\"nonselection_glyph\":{\"type\":\"object\",\"name\":\"Line\",\"id\":\"p1314\",\"attributes\":{\"x\":{\"type\":\"field\",\"field\":\"x\"},\"y\":{\"type\":\"field\",\"field\":\"y\"},\"line_color\":\"#0072B2\",\"line_alpha\":0.1,\"line_width\":3}},\"muted_glyph\":{\"type\":\"object\",\"name\":\"Line\",\"id\":\"p1315\",\"attributes\":{\"x\":{\"type\":\"field\",\"field\":\"x\"},\"y\":{\"type\":\"field\",\"field\":\"y\"},\"line_color\":\"#0072B2\",\"line_alpha\":0.2,\"line_width\":3}}}},{\"type\":\"object\",\"name\":\"GlyphRenderer\",\"id\":\"p1325\",\"attributes\":{\"data_source\":{\"type\":\"object\",\"name\":\"ColumnDataSource\",\"id\":\"p1319\",\"attributes\":{\"selected\":{\"type\":\"object\",\"name\":\"Selection\",\"id\":\"p1320\",\"attributes\":{\"indices\":[],\"line_indices\":[]}},\"selection_policy\":{\"type\":\"object\",\"name\":\"UnionRenderers\",\"id\":\"p1321\"},\"data\":{\"type\":\"map\",\"entries\":[[\"x\",{\"type\":\"ndarray\",\"array\":{\"type\":\"bytes\",\"data\":\"l5OSmRX1F0ApOmY+VcwXQDQVoTTaoxdAikVaBqR7F0BbfHE+slMXQA2mjWgELBdAWJcbEZoEF0CdvEzFct0WQITLFROOthZA0XYtieuPFkBgJAu3imkWQGml5SxrQxZA2/Cxe4wdFkDx3yE17vcVQOrsouuP0hVA2PNcMnGtFUCg9TCdkYgVQAjdt8DwYxVA30VBMo4/FUBDRtKHaRsVQOM5JFiC9xRAaI+jOtjTFEDOl27HarAUQN1XVJc5jRRAiFvTQ0RqFEBnixhnikcUQBkE/psLJRRAqe8JfscCFEDjYG2pveATQJ0wA7vtvhNA8dxOUFedE0BbansH+nsTQMdGWn/VWhNAfi5iV+k5E0D3Eq4vNRkTQIgD/Ki4+BJA6xesZHPYEkCnXL8EZbgSQD/B1iuNmBJAQAgyfet4EkAbua6cf1kSQLsTxy5JOhJA/QWR2EcbEkDdIr0/e/wRQGiblQrj3RFAajn9336/EUDoW25nTqERQDv1+UhRgxFA/opGLYdlEUCSN4+970cRQGytoqOKKhFAATziiVcNEUBm1kAbVvAQQJEbQgOG0xBARmD57ea2EECjugiIeJoQQEwPoH46fhBANCB8fyxiEEAEneU4TkYQQA81sFmfKhBA7qo5kR8PEEAq09EenecPQB02WglYsQ9AcoH5Q297D0Aamqkx4kUPQN19bzawEA9ABn1Zt9jbDkAXd30aW6cOQHIa98Y2cw5AByfmJGs/DkDzs2yd9wsOQBJ4rZrb2A1AeBXKhxamDUDUZ+HQp3MNQLTVDeOOQQ1Ap6RjLMsPDUA1UO8bXN4MQKrjsyFBrQxArFaprnl8DECh7Lo0BUwMQNyWxSbjGwxAeVmW+BLsC0AJs+gelLwLQOUGZQ9mjQtAQAqfQIheC0DaMxQq+i8LQGguKkS7AQtAkU0tCMvTCkCcBU/wKKYKQK1lpHfUeApAopQkGs1LCkB0UKdUEh8KQD1w46Sj8glAsGhtiYDGCUAo07WBqJoJQC33Bw4bbwlAflaIr9dDCUCNOzPo3RgJQHdK2zot7ghAYxQoK8XDCEBXrZQ9pZkIQG1EbvfMbwhAcb7S3jtGCEDdUq968RwIQDErv1Lt8wdAoQSK7y7LB0Af1GLataIHQKdsZp2BegdA4yd6w5FSB0AWkUrY5SoHQEASSmh9AwdAkKOvAFjcBkAOfXUvdbUGQHnKV4PUjgZAXmHTi3VoBkBieSTZV0IGQLhmRfx6HAZAulbtht72BUC1Do8LgtEFQM6sVx1lrAVA\"},\"shape\":[120],\"dtype\":\"float64\",\"order\":\"little\"}],[\"y\",{\"type\":\"ndarray\",\"array\":{\"type\":\"bytes\",\"data\":\"KubVT5yPmD94PvjpI3mYP07LyTIFepg/O5OFXXxhmD8jgkQf53yYP4S5uRwsUZg/YY0f49dCmD9MGmHy6lGYP8bnjeL8N5g/FF2jC79AmD+3dKmfoD6YP1czS5puKpg/Wuyod6lMmD/mXFXBZl6YP6/E7dM8bZg/Lf5chWRvmD9Nn1RBdH+YPyNYqnHloZg/HMu6FFu0mD/S+nurydWYP5FdgUa8zJg/RB/2MbobmT9G7VQtlSGZP431CqVgGZk/zJSJze9kmT8m1s5rtHuZP49rVSJue5k/igzIQ4usmT+bSOiXx9SZP6NC13gXHZo/fJV7m3gUmj+2rJGGdQaaPyC1HKKUNZo/TkHreGFKmj88zMpJvRiaP1fvAYD+AJo/c8bzdVMmmj+BTnVedEGaP5o6GwslhJo/eAml1Cq/mj8MXYndNiubP0CJk0Y6T5s/2LNaNB5/mz+hrPwwYtibPzSapZnE+Js/Id5jkoYVnD+oDWBW9TacP/bbQRFvJ5w/CS5AXSwknD8vrZlnY1OcPx+pqIDoFpw/E2lmXYPGmz+G1d1oPgibP2EaGzWERpo/f5FHQc2OmT8WNNV1tOaYP0kTnvLL6pg/JmJpCSTlmD/f1+NIeAGZP+lgmQAQFpk/bR0N8+v2mD9b+XK4Kx+ZP5LLWCLgEZk/9CvPLeAWmT8W5x7ZrhiZP4PiY37VDJk/lHKu5P8dmT9vxJnQ3haZP7LhBY0qTpk/PVRdOBxamT9IXsaZk1uZP+xbAE/vVZk/6PU+XvVVmT/MToc1BFKZP2OzdrtuVpk/nWrVPqZVmT8FQcYu+jaZP+/f7TILPpk/smbpxVs2mT8AZveZCBSZP8HLwGfA+Zg/XB/Z56LsmD+/YenEqtmYP194CFONp5g/Csoq4B6emD/JJpG5f4aYPwZ40hGWepg/mwKPQzaOmD/NgVtVyK6YP281EOlvfZg/mp1TdZ1HmD8YZNYHJ1CYP3HE4eWZW5g/TmGmac1kmD9TxDLTbGaYP7dZ0gsDYZg/3emGAdZhmD9SMP9wBVmYP+pbsxucSZg//Bc/EiM7mD+FjJETFTyYP5cq+tWXMZg/skTcYDg1mD94uhef61mYP4ybHlrof5g/9rNfgKy9mD/SnO1/JwaZP3Z7ONsLSJk/McqdlC+NmT9hxk/h4ruZPyVCHXgE+pk/l9Qut7jymT+jhqKujiSaP0AfedsSO5o/qb49wXhkmj8XFD4mTDeaP9PGrdcvYpo/9/8ZUpJ5mj88DpFVPYCaP7zohssIpZo/\"},\"shape\":[120],\"dtype\":\"float64\",\"order\":\"little\"}]]}}},\"view\":{\"type\":\"object\",\"name\":\"CDSView\",\"id\":\"p1326\",\"attributes\":{\"filter\":{\"type\":\"object\",\"name\":\"AllIndices\",\"id\":\"p1327\"}}},\"glyph\":{\"type\":\"object\",\"name\":\"Line\",\"id\":\"p1322\",\"attributes\":{\"x\":{\"type\":\"field\",\"field\":\"x\"},\"y\":{\"type\":\"field\",\"field\":\"y\"},\"line_color\":\"#E69F00\",\"line_width\":3}},\"nonselection_glyph\":{\"type\":\"object\",\"name\":\"Line\",\"id\":\"p1323\",\"attributes\":{\"x\":{\"type\":\"field\",\"field\":\"x\"},\"y\":{\"type\":\"field\",\"field\":\"y\"},\"line_color\":\"#E69F00\",\"line_alpha\":0.1,\"line_width\":3}},\"muted_glyph\":{\"type\":\"object\",\"name\":\"Line\",\"id\":\"p1324\",\"attributes\":{\"x\":{\"type\":\"field\",\"field\":\"x\"},\"y\":{\"type\":\"field\",\"field\":\"y\"},\"line_color\":\"#E69F00\",\"line_alpha\":0.2,\"line_width\":3}}}},{\"type\":\"object\",\"name\":\"GlyphRenderer\",\"id\":\"p1334\",\"attributes\":{\"data_source\":{\"type\":\"object\",\"name\":\"ColumnDataSource\",\"id\":\"p1328\",\"attributes\":{\"selected\":{\"type\":\"object\",\"name\":\"Selection\",\"id\":\"p1329\",\"attributes\":{\"indices\":[],\"line_indices\":[]}},\"selection_policy\":{\"type\":\"object\",\"name\":\"UnionRenderers\",\"id\":\"p1330\"},\"data\":{\"type\":\"map\",\"entries\":[[\"x\",{\"type\":\"ndarray\",\"array\":{\"type\":\"bytes\",\"data\":\"l5OSmRX1F0ApOmY+VcwXQDQVoTTaoxdAikVaBqR7F0BbfHE+slMXQA2mjWgELBdAWJcbEZoEF0CdvEzFct0WQITLFROOthZA0XYtieuPFkBgJAu3imkWQGml5SxrQxZA2/Cxe4wdFkDx3yE17vcVQOrsouuP0hVA2PNcMnGtFUCg9TCdkYgVQAjdt8DwYxVA30VBMo4/FUBDRtKHaRsVQOM5JFiC9xRAaI+jOtjTFEDOl27HarAUQN1XVJc5jRRAiFvTQ0RqFEBnixhnikcUQBkE/psLJRRAqe8JfscCFEDjYG2pveATQJ0wA7vtvhNA8dxOUFedE0BbansH+nsTQMdGWn/VWhNAfi5iV+k5E0D3Eq4vNRkTQIgD/Ki4+BJA6xesZHPYEkCnXL8EZbgSQD/B1iuNmBJAQAgyfet4EkAbua6cf1kSQLsTxy5JOhJA/QWR2EcbEkDdIr0/e/wRQGiblQrj3RFAajn9336/EUDoW25nTqERQDv1+UhRgxFA/opGLYdlEUCSN4+970cRQGytoqOKKhFAATziiVcNEUBm1kAbVvAQQJEbQgOG0xBARmD57ea2EECjugiIeJoQQEwPoH46fhBANCB8fyxiEEAEneU4TkYQQA81sFmfKhBA7qo5kR8PEEAq09EenecPQB02WglYsQ9AcoH5Q297D0Aamqkx4kUPQN19bzawEA9ABn1Zt9jbDkAXd30aW6cOQHIa98Y2cw5AByfmJGs/DkDzs2yd9wsOQBJ4rZrb2A1AeBXKhxamDUDUZ+HQp3MNQLTVDeOOQQ1Ap6RjLMsPDUA1UO8bXN4MQKrjsyFBrQxArFaprnl8DECh7Lo0BUwMQNyWxSbjGwxAeVmW+BLsC0AJs+gelLwLQOUGZQ9mjQtAQAqfQIheC0DaMxQq+i8LQGguKkS7AQtAkU0tCMvTCkCcBU/wKKYKQK1lpHfUeApAopQkGs1LCkB0UKdUEh8KQD1w46Sj8glAsGhtiYDGCUAo07WBqJoJQC33Bw4bbwlAflaIr9dDCUCNOzPo3RgJQHdK2zot7ghAYxQoK8XDCEBXrZQ9pZkIQG1EbvfMbwhAcb7S3jtGCEDdUq968RwIQDErv1Lt8wdAoQSK7y7LB0Af1GLataIHQKdsZp2BegdA4yd6w5FSB0AWkUrY5SoHQEASSmh9AwdAkKOvAFjcBkAOfXUvdbUGQHnKV4PUjgZAXmHTi3VoBkBieSTZV0IGQLhmRfx6HAZAulbtht72BUC1Do8LgtEFQM6sVx1lrAVA\"},\"shape\":[120],\"dtype\":\"float64\",\"order\":\"little\"}],[\"y\",{\"type\":\"ndarray\",\"array\":{\"type\":\"bytes\",\"data\":\"knkrxxTlmj9l8DvTYQWbPympTOM15Jo/F5m5Bp4Amz8kBTM7TMuaP/sX70RHDZs/us6vEacZmz/MHyl1vCCbP0UnL1dI+Jo/tqL7W0Xkmj/yFQg7y+eaP5gG2CMwAps/in1k8pofmz+utG+tYvmaP5Zvaka82Jo/72W8Rzcamz+4VVXU3tGaPzhjC8OS2Zo/f3+RZ++Smj890h7l86+aP8ACBKIMppo/2nf6iIbZmj9A+hkqnJWaP64iC3pep5o/uGduPnWMmj+UqNtsGKGaP9Ix8DmlTpo/ppiSjPiVmj/KCIdIxIOaP6WQs3Tzgpo/75GvHMtpmj/paLzlnX6aP/8RiizLgZo/l4iood6Amj9PAY1Ey2GaP1whc5ohQpo//S6inRFomj9lbLbMynCaP43T8QHUupo/vxy7u2zImj+slFN47wSbPwgEYZVLQ5s/hIZjwxeMmz/OxJiqq9SbP/0N06zQ+Js/KNHU90A7nD8k2hKrxkOcPx+KEtzRNZw/ZBOpS4hGnD+mhAV472OcP2ysjpYbPpw/LG+KkKL6mz971aazGWmbP/IZ3B2fu5o/lpyfxNJcmj/hEb1LguKZP2Nv9d8+yJk/SWM2vLXBmT99XCdsl6WZP3t7gD+5kJk/8Vfx2Fh2mT96JzcUaJKZP6FJ3ZZlbZk/mz7OmUJ8mT96qQGFSYOZP3amrhmIb5k/qEwQmMWFmT/BJxWavouZP/Sbjdkuqpk/UjLBpLe6mT/6NsxpjcWZP9qHgdGZv5k/o0haBkjYmT/xwgWvxOmZPy+pLAul1Jk/xFIxCQX0mT9fmEt9N/aZPxJMLDvmA5o/fXxDGNURmj9fO15uMBWaP02UOPhu+Zk/SDOE7QkDmj/mrFobbBSaP5ywZG/lAZo/LCuijn3zmT98BkmsswmaP19xcLduLJo/Y4XeCegpmj/yCYCC4iGaP282bTP/Rpo/u0WQmOJamj8Jygi6zymaPzqSBETdUJo/jrjx+PV6mj/A4MSkAniaPyON2kXRmZo/sXrbjwR6mj+OE9NFxrOaP0m/AxW9ypo/ypdCKZTkmj/0GzfI/A2bPwPbjT0hQZs/VEyYS1YBmz8N3/YQCDmbPzbtMDrNO5s/f4ykGHUhmz8JZPqQ54ebP8Q6QHAvIJs/KY5LKOiHmz9odWlnU5+bP0ysW8uicJs/6l+6kq1pmz/4RofkI3ybP4ZtELlmsJs/LfHyh9B2mz/JS0b1KaabP9h6ISkAnps/ttopnIhvmz+6uyZ9CLabP4Croj/U9Zs/\"},\"shape\":[120],\"dtype\":\"float64\",\"order\":\"little\"}]]}}},\"view\":{\"type\":\"object\",\"name\":\"CDSView\",\"id\":\"p1335\",\"attributes\":{\"filter\":{\"type\":\"object\",\"name\":\"AllIndices\",\"id\":\"p1336\"}}},\"glyph\":{\"type\":\"object\",\"name\":\"Line\",\"id\":\"p1331\",\"attributes\":{\"x\":{\"type\":\"field\",\"field\":\"x\"},\"y\":{\"type\":\"field\",\"field\":\"y\"},\"line_color\":\"#F0E442\",\"line_width\":3}},\"nonselection_glyph\":{\"type\":\"object\",\"name\":\"Line\",\"id\":\"p1332\",\"attributes\":{\"x\":{\"type\":\"field\",\"field\":\"x\"},\"y\":{\"type\":\"field\",\"field\":\"y\"},\"line_color\":\"#F0E442\",\"line_alpha\":0.1,\"line_width\":3}},\"muted_glyph\":{\"type\":\"object\",\"name\":\"Line\",\"id\":\"p1333\",\"attributes\":{\"x\":{\"type\":\"field\",\"field\":\"x\"},\"y\":{\"type\":\"field\",\"field\":\"y\"},\"line_color\":\"#F0E442\",\"line_alpha\":0.2,\"line_width\":3}}}},{\"type\":\"object\",\"name\":\"GlyphRenderer\",\"id\":\"p1343\",\"attributes\":{\"data_source\":{\"type\":\"object\",\"name\":\"ColumnDataSource\",\"id\":\"p1337\",\"attributes\":{\"selected\":{\"type\":\"object\",\"name\":\"Selection\",\"id\":\"p1338\",\"attributes\":{\"indices\":[],\"line_indices\":[]}},\"selection_policy\":{\"type\":\"object\",\"name\":\"UnionRenderers\",\"id\":\"p1339\"},\"data\":{\"type\":\"map\",\"entries\":[[\"x\",{\"type\":\"ndarray\",\"array\":{\"type\":\"bytes\",\"data\":\"l5OSmRX1F0ApOmY+VcwXQDQVoTTaoxdAikVaBqR7F0BbfHE+slMXQA2mjWgELBdAWJcbEZoEF0CdvEzFct0WQITLFROOthZA0XYtieuPFkBgJAu3imkWQGml5SxrQxZA2/Cxe4wdFkDx3yE17vcVQOrsouuP0hVA2PNcMnGtFUCg9TCdkYgVQAjdt8DwYxVA30VBMo4/FUBDRtKHaRsVQOM5JFiC9xRAaI+jOtjTFEDOl27HarAUQN1XVJc5jRRAiFvTQ0RqFEBnixhnikcUQBkE/psLJRRAqe8JfscCFEDjYG2pveATQJ0wA7vtvhNA8dxOUFedE0BbansH+nsTQMdGWn/VWhNAfi5iV+k5E0D3Eq4vNRkTQIgD/Ki4+BJA6xesZHPYEkCnXL8EZbgSQD/B1iuNmBJAQAgyfet4EkAbua6cf1kSQLsTxy5JOhJA/QWR2EcbEkDdIr0/e/wRQGiblQrj3RFAajn9336/EUDoW25nTqERQDv1+UhRgxFA/opGLYdlEUCSN4+970cRQGytoqOKKhFAATziiVcNEUBm1kAbVvAQQJEbQgOG0xBARmD57ea2EECjugiIeJoQQEwPoH46fhBANCB8fyxiEEAEneU4TkYQQA81sFmfKhBA7qo5kR8PEEAq09EenecPQB02WglYsQ9AcoH5Q297D0Aamqkx4kUPQN19bzawEA9ABn1Zt9jbDkAXd30aW6cOQHIa98Y2cw5AByfmJGs/DkDzs2yd9wsOQBJ4rZrb2A1AeBXKhxamDUDUZ+HQp3MNQLTVDeOOQQ1Ap6RjLMsPDUA1UO8bXN4MQKrjsyFBrQxArFaprnl8DECh7Lo0BUwMQNyWxSbjGwxAeVmW+BLsC0AJs+gelLwLQOUGZQ9mjQtAQAqfQIheC0DaMxQq+i8LQGguKkS7AQtAkU0tCMvTCkCcBU/wKKYKQK1lpHfUeApAopQkGs1LCkB0UKdUEh8KQD1w46Sj8glAsGhtiYDGCUAo07WBqJoJQC33Bw4bbwlAflaIr9dDCUCNOzPo3RgJQHdK2zot7ghAYxQoK8XDCEBXrZQ9pZkIQG1EbvfMbwhAcb7S3jtGCEDdUq968RwIQDErv1Lt8wdAoQSK7y7LB0Af1GLataIHQKdsZp2BegdA4yd6w5FSB0AWkUrY5SoHQEASSmh9AwdAkKOvAFjcBkAOfXUvdbUGQHnKV4PUjgZAXmHTi3VoBkBieSTZV0IGQLhmRfx6HAZAulbtht72BUC1Do8LgtEFQM6sVx1lrAVA\"},\"shape\":[120],\"dtype\":\"float64\",\"order\":\"little\"}],[\"y\",{\"type\":\"ndarray\",\"array\":{\"type\":\"bytes\",\"data\":\"9q6vqBXlmj+a/hS4ZwWbPw2o32ZS5Jo/befCpaAAmz9Xp7EhLMyaPxhQN5s1Dps/LjZgMa8Zmz9XM7nVySCbP3wrMU1x+Jo/tFISqnXkmj+EzqUS0uqaPwxEkBxsA5s/uy5qox0kmz+MBXeVkQGbP8iJknW54Jo/ajSWcMIrmz+6grU8mtyaPw1B9Z8s7Jo/XPk54Wynmj/W4KSZhNeaPykZ9oPyyJo/xRlwcsQOmz+ApiZPbsyaPzE/X4PD5Zo/LK/TWx7jmj/hk/8nKvKaP1x3XEvEsJo/Do93ml/imj8mFYXMXs2aP/MbqMHmEps/UfzUQMnDmj8PgZ5iHOKaPwrnJjP13Jo/HNqdZar0mj+Ov7hJd+KaPxztRF8srJo/7AlcP5zTmj8trcHIE9SaP6mIKb1qD5s/k7+iCWQXmz/t42aYnGObP6CyzIt4fps//y5llHSpmz+GMruBCvSbP8ZshKQTDZw/cwyjRuM+nD8z6EfS91WcP1sEiDe2P5w/SgqhTG9OnD+u0BBQKGecP8qHO9ImPpw/26+PkKL6mz971aazGWmbP/IZ3B2fu5o/lpyfxNJcmj/hEb1LguKZP2Nv9d8+yJk/SWM2vLXBmT99XCdsl6WZP3t7gD+5kJk/8Vfx2Fh2mT96JzcUaJKZP6FJ3ZZlbZk/mz7OmUJ8mT96qQGFSYOZP3amrhmIb5k/qEwQmMWFmT/BJxWavouZP/Sbjdkuqpk/UjLBpLe6mT/6NsxpjcWZP9qHgdGZv5k/o0haBkjYmT/xwgWvxOmZPy+pLAul1Jk/xFIxCQX0mT9fmEt9N/aZPxJMLDvmA5o/fXxDGNURmj9fO15uMBWaP02UOPhu+Zk/SDOE7QkDmj/mrFobbBSaP5ywZG/lAZo/LCuijn3zmT98BkmsswmaP19xcLduLJo/Y4XeCegpmj/yCYCC4iGaP282bTP/Rpo/u0WQmOJamj8Jygi6zymaPzqSBETdUJo/jrjx+PV6mj/A4MSkAniaPyON2kXRmZo/snrbjwR6mj+OE9NFxrOaP1O/AxW9ypo/zZdCKZTkmj/6GzfI/A2bPxPbjT0hQZs/0kyYS1YBmz8y4fYQCDmbP4ruMDrNO5s/CpSkGHUhmz+IavqQ54ebP3FJQHAvIJs/36dLKOiHmz+WOGpnU5+bPyhxXcuicJs/QdPCkq1pmz8hrIvkI3ybP+XfH7lmsJs/Pb43iNB2mz8X9uP1KaabP06LRCoAnps/KGm+pIhvmz9G1DOFCLabP+QaGFHU9Zs/\"},\"shape\":[120],\"dtype\":\"float64\",\"order\":\"little\"}]]}}},\"view\":{\"type\":\"object\",\"name\":\"CDSView\",\"id\":\"p1344\",\"attributes\":{\"filter\":{\"type\":\"object\",\"name\":\"AllIndices\",\"id\":\"p1345\"}}},\"glyph\":{\"type\":\"object\",\"name\":\"Line\",\"id\":\"p1340\",\"attributes\":{\"x\":{\"type\":\"field\",\"field\":\"x\"},\"y\":{\"type\":\"field\",\"field\":\"y\"},\"line_color\":\"#009E73\",\"line_width\":3}},\"nonselection_glyph\":{\"type\":\"object\",\"name\":\"Line\",\"id\":\"p1341\",\"attributes\":{\"x\":{\"type\":\"field\",\"field\":\"x\"},\"y\":{\"type\":\"field\",\"field\":\"y\"},\"line_color\":\"#009E73\",\"line_alpha\":0.1,\"line_width\":3}},\"muted_glyph\":{\"type\":\"object\",\"name\":\"Line\",\"id\":\"p1342\",\"attributes\":{\"x\":{\"type\":\"field\",\"field\":\"x\"},\"y\":{\"type\":\"field\",\"field\":\"y\"},\"line_color\":\"#009E73\",\"line_alpha\":0.2,\"line_width\":3}}}}],\"toolbar\":{\"type\":\"object\",\"name\":\"Toolbar\",\"id\":\"p1286\",\"attributes\":{\"tools\":[{\"type\":\"object\",\"name\":\"PanTool\",\"id\":\"p1299\"},{\"type\":\"object\",\"name\":\"WheelZoomTool\",\"id\":\"p1300\",\"attributes\":{\"renderers\":\"auto\"}},{\"type\":\"object\",\"name\":\"BoxZoomTool\",\"id\":\"p1301\",\"attributes\":{\"overlay\":{\"type\":\"object\",\"name\":\"BoxAnnotation\",\"id\":\"p1302\",\"attributes\":{\"syncable\":false,\"level\":\"overlay\",\"visible\":false,\"left\":{\"type\":\"number\",\"value\":\"nan\"},\"right\":{\"type\":\"number\",\"value\":\"nan\"},\"top\":{\"type\":\"number\",\"value\":\"nan\"},\"bottom\":{\"type\":\"number\",\"value\":\"nan\"},\"left_units\":\"canvas\",\"right_units\":\"canvas\",\"top_units\":\"canvas\",\"bottom_units\":\"canvas\",\"line_color\":\"black\",\"line_alpha\":1.0,\"line_width\":2,\"line_dash\":[4,4],\"fill_color\":\"lightgrey\",\"fill_alpha\":0.5}}}},{\"type\":\"object\",\"name\":\"SaveTool\",\"id\":\"p1307\"},{\"type\":\"object\",\"name\":\"ResetTool\",\"id\":\"p1308\"},{\"type\":\"object\",\"name\":\"HelpTool\",\"id\":\"p1309\"}]}},\"left\":[{\"type\":\"object\",\"name\":\"LinearAxis\",\"id\":\"p1294\",\"attributes\":{\"ticker\":{\"type\":\"object\",\"name\":\"BasicTicker\",\"id\":\"p1295\",\"attributes\":{\"mantissas\":[1,2,5]}},\"formatter\":{\"type\":\"object\",\"name\":\"BasicTickFormatter\",\"id\":\"p1296\"},\"axis_label\":\"Spectrum\",\"axis_label_text_font\":\"times\",\"axis_label_text_font_size\":\"14pt\",\"axis_label_text_font_style\":\"bold\",\"major_label_policy\":{\"type\":\"object\",\"name\":\"AllLabels\",\"id\":\"p1297\"},\"major_label_text_font\":\"times\",\"major_label_text_font_size\":\"14pt\"}},{\"type\":\"object\",\"name\":\"Legend\",\"id\":\"p1346\",\"attributes\":{\"location\":[0,0],\"click_policy\":\"mute\",\"items\":[{\"type\":\"object\",\"name\":\"LegendItem\",\"id\":\"p1347\",\"attributes\":{\"label\":{\"type\":\"value\",\"value\":\"No CO2\"},\"renderers\":[{\"id\":\"p1316\"}]}},{\"type\":\"object\",\"name\":\"LegendItem\",\"id\":\"p1348\",\"attributes\":{\"label\":{\"type\":\"value\",\"value\":\"No H2O\"},\"renderers\":[{\"id\":\"p1325\"}]}},{\"type\":\"object\",\"name\":\"LegendItem\",\"id\":\"p1349\",\"attributes\":{\"label\":{\"type\":\"value\",\"value\":\"No CO\"},\"renderers\":[{\"id\":\"p1334\"}]}},{\"type\":\"object\",\"name\":\"LegendItem\",\"id\":\"p1350\",\"attributes\":{\"label\":{\"type\":\"value\",\"value\":\"all\"},\"renderers\":[{\"id\":\"p1343\"}]}}]}}],\"below\":[{\"type\":\"object\",\"name\":\"LinearAxis\",\"id\":\"p1289\",\"attributes\":{\"ticker\":{\"type\":\"object\",\"name\":\"BasicTicker\",\"id\":\"p1290\",\"attributes\":{\"mantissas\":[1,2,5]}},\"formatter\":{\"type\":\"object\",\"name\":\"BasicTickFormatter\",\"id\":\"p1291\"},\"axis_label\":\"Wavelength [\\u03bcm]\",\"axis_label_text_font\":\"times\",\"axis_label_text_font_size\":\"14pt\",\"axis_label_text_font_style\":\"bold\",\"major_label_policy\":{\"type\":\"object\",\"name\":\"AllLabels\",\"id\":\"p1292\"},\"major_label_text_font\":\"times\",\"major_label_text_font_size\":\"14pt\"}}],\"center\":[{\"type\":\"object\",\"name\":\"Grid\",\"id\":\"p1293\",\"attributes\":{\"axis\":{\"id\":\"p1289\"}}},{\"type\":\"object\",\"name\":\"Grid\",\"id\":\"p1298\",\"attributes\":{\"dimension\":1,\"axis\":{\"id\":\"p1294\"}}}]}}]}};\n",
       "  const render_items = [{\"docid\":\"814401b3-e08d-4904-9232-7190dfebbd56\",\"roots\":{\"p1278\":\"f53570e2-aa5d-45c1-896d-3e843202b135\"},\"root_ids\":[\"p1278\"]}];\n",
       "  void root.Bokeh.embed.embed_items_notebook(docs_json, render_items);\n",
       "  }\n",
       "  if (root.Bokeh !== undefined) {\n",
       "    embed_document(root);\n",
       "  } else {\n",
       "    let attempts = 0;\n",
       "    const timer = setInterval(function(root) {\n",
       "      if (root.Bokeh !== undefined) {\n",
       "        clearInterval(timer);\n",
       "        embed_document(root);\n",
       "      } else {\n",
       "        attempts++;\n",
       "        if (attempts > 100) {\n",
       "          clearInterval(timer);\n",
       "          console.log(\"Bokeh: ERROR: Unable to run BokehJS code because BokehJS library is missing\");\n",
       "        }\n",
       "      }\n",
       "    }, 10, root)\n",
       "  }\n",
       "})(window);"
      ],
      "application/vnd.bokehjs_exec.v0+json": ""
     },
     "metadata": {
      "application/vnd.bokehjs_exec.v0+json": {
       "id": "p1278"
      }
     },
     "output_type": "display_data"
    }
   ],
   "source": [
    "w,f,l =[],[],[]\n",
    "df_og = jdi.copy.deepcopy(w39.inputs['atmosphere']['profile'])\n",
    "for iex in ['CO2','H2O','CO',None]:\n",
    "    w39.atmosphere(df=df_og,exclude_mol=iex, delim_whitespace=True)\n",
    "    df= w39.spectrum(opa, full_output=True,calculation='transmission') #note the new last key\n",
    "    wno, rprs2  = df['wavenumber'] , df['transit_depth']\n",
    "    wno, rprs2 = jdi.mean_regrid(wno, rprs2, R=150)\n",
    "    w +=[wno]\n",
    "    f +=[rprs2]\n",
    "    if iex==None:\n",
    "        leg='all'\n",
    "    else:\n",
    "        leg = f'No {iex}'\n",
    "    l+=[leg]\n",
    "jpi.show(jpi.spectrum(w,f,legend=l))"
   ]
  },
  {
   "cell_type": "markdown",
   "id": "cd444c9a",
   "metadata": {},
   "source": [
    "We can see clearly that when H$_2$O or CO$_2$ is not present, a completely different spectrum is created that veers far from our model. Therefore we can feel confident that H$_2$O or CO$_2$ are truly present. When we try leaving out CO, however, the spectrum changes more modestly; it appears that including CO improves the spectrum somewhat, but we are less certain about its presence. "
   ]
  },
  {
   "cell_type": "markdown",
   "id": "6485db5e",
   "metadata": {
    "id": "b1aab798-3d33-4582-9952-94e45e686474"
   },
   "source": [
    "# Increasing Model Complexity to Improve Fit\n",
    "\n",
    "In the next sections we will try to improve our model fit. However, before we continue we need a way to quantify our \"goodness of fit.\""
   ]
  },
  {
   "cell_type": "markdown",
   "id": "f4b043f3",
   "metadata": {
    "id": "8dbbe171-a38f-4bee-8b59-93e3108d6ca4"
   },
   "source": [
    "## Define Goodness of Fit\n",
    "\n",
    "Let's implement a simple measurement of error called a \"chi-squared test.\" This is a commonly used method to measure how well you are fitting data with a model, and sums up the distance between your model's output and the observed data at each data point.\n",
    "\n",
    "The standard chi-squared test formula is $\\chi^2 = \\sum \\frac{(O_i - E_i)^2}{(\\sigma_i)^2}$ where $O$ is the observed data, $E$ is the expected value (i.e. our model), and $\\sigma$ is error.\n",
    "\n",
    "In this notebook, we'll compute chi-squared *per data point*, which means we are normalizing the standard chi-square by dividing by number of data points. The chi-squared per data point formula is $\\frac{\\chi^2}{N}$ where $N$ is the number of data points. \n",
    "\n",
    "Note, another common way to report chi-squared is the *reduced* chi-squared which considers the degrees of freedom $(\\nu)$, where $\\nu$ is the number of data points ($N$) minus the number of fitted parameters.\n",
    "\n",
    "Regardless of the version of chi-squared you use, if the result is close to 1, that is considered a good fit."
   ]
  },
  {
   "cell_type": "code",
   "execution_count": 35,
   "id": "41a9e96f",
   "metadata": {
    "id": "9054e287-dcbb-45c6-a21c-db2fcd9828ce"
   },
   "outputs": [],
   "source": [
    "def chisqr(model):\n",
    "    # Step 1) Regrid model to be on the same x axis as the data\n",
    "    wnos, model_binned = jdi.mean_regrid(model['wavenumber'],\n",
    "                                         model['transit_depth'],\n",
    "                                         newx=sorted(1e4/observed_data['wavelength']))\n",
    "    # Step 2) Flip model so that it is increasing with wavelength, not wavenumber\n",
    "    model_binned = model_binned[::-1]-np.mean(model_binned)\n",
    "\n",
    "    # Step 3) Compute chi sq with mean subtraction\n",
    "    observed = observed_data['tr_depth'] - np.mean(observed_data['tr_depth'])\n",
    "    error = (observed_data['tr_depth_errneg'] + observed_data['tr_depth_errpos'])/2\n",
    "    return np.sum(((observed-model_binned)/error)**2 ) / len(model_binned)"
   ]
  },
  {
   "cell_type": "code",
   "execution_count": 36,
   "id": "98e89633",
   "metadata": {
    "id": "76d4f75c"
   },
   "outputs": [
    {
     "name": "stdout",
     "output_type": "stream",
     "text": [
      "Simple First Guess 16.302018081892584\n"
     ]
    }
   ],
   "source": [
    "print('Simple First Guess', chisqr(model_iso))"
   ]
  },
  {
   "cell_type": "markdown",
   "id": "08c16abf",
   "metadata": {
    "id": "72a5a724"
   },
   "source": [
    "Not great! Let's make it better."
   ]
  },
  {
   "cell_type": "markdown",
   "id": "7674cc82",
   "metadata": {
    "id": "1fb463d1"
   },
   "source": [
    "## Revisiting Chemistry Assumption\n",
    "\n",
    "Earlier, we assumed M/H and C/O values. Let's loop through a few M/H and C/O values to see if any of these seem to improve our model fit. Why? These values are faster to assess than climate or clouds, and they're easier to loop through while you're building intuition. We want to find the best fit combination of variables such as C/O and M/H that will gives us the closest fit to the data."
   ]
  },
  {
   "cell_type": "code",
   "execution_count": 37,
   "id": "02f8943b",
   "metadata": {
    "id": "ae270058"
   },
   "outputs": [
    {
     "name": "stdout",
     "output_type": "stream",
     "text": [
      "M/H=1,C/O=1 12.965901406996188\n",
      "M/H=1,C/O=2.5 43.838626233806664\n",
      "M/H=10,C/O=1 16.302018081892584\n",
      "M/H=10,C/O=2.5 28.00193101366552\n",
      "M/H=100,C/O=1 4.188914884298312\n",
      "M/H=100,C/O=2.5 12.324946618521553\n"
     ]
    }
   ],
   "source": [
    "mh_grid_vals = [1, 10, 100]\n",
    "co_grid_vals = [1, 2.5]\n",
    "\n",
    "chemistry_grid = {}\n",
    "for imh in mh_grid_vals:\n",
    "    for ico in co_grid_vals:\n",
    "        w39.chemeq_visscher(ico, np.log10(imh))\n",
    "        chemistry_grid[f'M/H={imh},C/O={ico}'] = w39.spectrum(opa, calculation='transmission', full_output=True)\n",
    "        print(f'M/H={imh},C/O={ico}', chisqr(chemistry_grid[f'M/H={imh},C/O={ico}'] ))"
   ]
  },
  {
   "cell_type": "markdown",
   "id": "935914c7",
   "metadata": {},
   "source": [
    "We see with a M/H of 100 and C/O of 1, we get the best fit where the chi-squared is ~4. Let's plot all these and visually confirm."
   ]
  },
  {
   "cell_type": "code",
   "execution_count": 244,
   "id": "5c0c64a8",
   "metadata": {
    "id": "0f5bf193"
   },
   "outputs": [],
   "source": [
    "# Let's edit our function once again to allow for multiple model inputs\n",
    "def show_spectra(output, x_range_min=3.0, x_range_max=5.5):\n",
    "    #Step 1) Regrid model to be on the same x axis as the data\n",
    "    wnos, transit_depth = zip(*[jdi.mean_regrid(output[x]['wavenumber'], output[x]['transit_depth'],\n",
    "                        newx=sorted(1e4/observed_data['wavelength']))\n",
    "                        for x in output])\n",
    "    transit_depth = [x-np.min(x) for x in transit_depth]\n",
    "    wnos = [x for x in wnos]\n",
    "    legends = [i for i in output]\n",
    "\n",
    "    # Step 2) Use picaso function to create a plot with the models\n",
    "    fig = jpi.spectrum(wnos, transit_depth, legend=legends,\n",
    "                       plot_width=800,y_axis_label='Relative (Rp/Rs)^2',\n",
    "                       x_range=(x_range_min,x_range_max))\n",
    "\n",
    "    # Step 3) Use picaso function to add the data so we can compare\n",
    "    jpi.plot_multierror(observed_data['wavelength'],\n",
    "                        observed_data['tr_depth'] - np.min(observed_data['tr_depth']),\n",
    "                        fig,\n",
    "                        dy_low=observed_data['tr_depth_errneg'], dy_up=observed_data['tr_depth_errpos'],\n",
    "                        dx_low=[0], dx_up=[0], point_kwargs={'color':'black'})\n",
    "    jpi.show(fig)"
   ]
  },
  {
   "cell_type": "code",
   "execution_count": 245,
   "id": "cbb34338",
   "metadata": {
    "id": "25737413"
   },
   "outputs": [
    {
     "data": {
      "text/html": [
       "\n",
       "  <div id=\"a52d6eb5-4a7a-442d-9974-c4ee3512ce2b\" data-root-id=\"p1494\" style=\"display: contents;\"></div>\n"
      ]
     },
     "metadata": {},
     "output_type": "display_data"
    },
    {
     "data": {
      "application/javascript": [
       "(function(root) {\n",
       "  function embed_document(root) {\n",
       "  const docs_json = {\"afe1035d-bf44-45cc-9447-b87ac8921c33\":{\"version\":\"3.4.3\",\"title\":\"Bokeh Application\",\"roots\":[{\"type\":\"object\",\"name\":\"Figure\",\"id\":\"p1494\",\"attributes\":{\"width\":800,\"height\":345,\"x_range\":{\"type\":\"object\",\"name\":\"Range1d\",\"id\":\"p1503\",\"attributes\":{\"start\":3.0,\"end\":5.5}},\"y_range\":{\"type\":\"object\",\"name\":\"DataRange1d\",\"id\":\"p1496\"},\"x_scale\":{\"type\":\"object\",\"name\":\"LinearScale\",\"id\":\"p1504\"},\"y_scale\":{\"type\":\"object\",\"name\":\"LinearScale\",\"id\":\"p1505\"},\"title\":{\"type\":\"object\",\"name\":\"Title\",\"id\":\"p1501\"},\"renderers\":[{\"type\":\"object\",\"name\":\"GlyphRenderer\",\"id\":\"p1533\",\"attributes\":{\"data_source\":{\"type\":\"object\",\"name\":\"ColumnDataSource\",\"id\":\"p1527\",\"attributes\":{\"selected\":{\"type\":\"object\",\"name\":\"Selection\",\"id\":\"p1528\",\"attributes\":{\"indices\":[],\"line_indices\":[]}},\"selection_policy\":{\"type\":\"object\",\"name\":\"UnionRenderers\",\"id\":\"p1529\"},\"data\":{\"type\":\"map\",\"entries\":[[\"x\",{\"type\":\"ndarray\",\"array\":{\"type\":\"bytes\",\"data\":\"9P3UeOkmFUCxkdZl7A4VQIUQ+Xwd9xRAJuvxcwzfFECmkVx4usYUQFvuZY2JrhRA6A2sK5qWFECtCvUvqn4UQDlG/at4ZhRAytCdNFFIFEB0SWn/WCQUQN9gGN02BhRAm1M1ByfuE0AsjYAcWNYTQPyxAglHvhNArdGIC/WlE0DnnQAjxI0TQBRixsPUdRNApJyMweRdE0BQpCY3s0UTQNb1C2ajLRNAz6TtedQVE0CU6erjqfcSQEcr7PFw0xJASbJLpJK1EkCRw/OEgZ0SQNJkOoUvhRJAk9tKn/5sEkBEdr5CD1USQJ0kETkfPRJA3y5Pp+0kEkDcxgHe3QwSQH7Ybe8O9RFAiNC77+LWEUAf1BQEqrIRQKLLyA/NlBFAX1ro4rt8EUAUPXzgaWQRQO2U2hxaTBFA9JFcLIs0EUDwkYn6eRwRQFU3GPcnBBFASFF0NhjsEEDBVehESdQQQM0O5A04vBBAV5tbCeajEEDL8tFL1osQQPJTJVkHdBBAcVKsHPZbEEAzQPkWpEMQQGbap1yUKxBAgSrGaMUTEEDahh9NaPcPQGxeOT/Exg9AOWtG0aSWD0AMG+zmBmcPQLw3kawmNw9Aqff+VsMGD0DYei+cYdYOQLu8r/GCpg5A7/tpVGB2DkA4NfJAvEUOQD4rK+GcFQ5APj8K8f7lDUDDY0tG3LUNQKr8ty84hQ1A0L101xhVDUA/fxnkeiUNQCG4VZGa9QxAhdsjIjfFDEBHG9FZlYgMQL+XEx1kQAxAEWM75C8EDEAWsfCbENQLQByaUqFypAtABSMyyU90C0CulbWnq0MLQGgC6WeMEwtAXcoyae7jCkCgLgiAy7MKQOAMR1ongwpAlOZVIwhTCkBuHSwgaiMKQAAj2yRH8wlA8rN0+qLCCUAHu8HMg5IJQC/Ef0CjYglAhOCHpT8yCUDTVrX53QEJQFqViWL/0QhAG9g4VWGiCECdTdExPnIIQIszzfyZQQhAxCCwcmgRCEA=\"},\"shape\":[94],\"dtype\":\"float64\",\"order\":\"little\"}],[\"y\",{\"type\":\"ndarray\",\"array\":{\"type\":\"bytes\",\"data\":\"cJcj2HoHWT+wcHDoFH1YP4BI3KHgA1Y/EORgm6RhWj8wmOdkXK5aP6CKpOTjt1g/sIFk7bovWD+gV3JXmDdaP4BFDxZ9EVk/QK1LsdIcWj8ww1wwovRXP4DHyrVRL1o/EBdwdfYnVD/Q2efjyN9aP3B7NRe4/F0/oNDaWyBgVj+gu1e6IXpUP2B/5h/m6ls/UPa9Sk22WD/gDGtIt1xWP8B8GhLObVs/ELEsdA33WD/Aqd4IfP1VP8CKHzsoT1g/UMmpLZfVVT8wbTg+U+9YP1BihY2grlc/8E0BfDA0Wz+Qo6CRbZdZPwC8OrTV6Fk/sL6iFor1WT/gUbRWoiBaP7D+AkYYhls/YITzKUNvWz9QExajazhfP4CHYtcPsF4/wJWeHljwXD/wgTUn9oVfP5BORlUUe14/kO6NWDRSXT+wcvjHsbVeP0A23QaglFo/cG+Rj898VD+AXZqoMZBLP0Djsa8k90g/gN5VBHSWQD+AaOIIvec0P0BteewcizY/QGwsFTTzMj+AERLuQkMjP4BYR4Bu6SE/AHDznaO59z4AEQ+mJuMUPwCdI0WpDB4/ALgkMKeg7z4AAAAAAAAAAADJS85+bBg/AFk0VM+PED8AQdDnYM4UPwCTjunioSQ/gFhRc2FIKz+AWGIDR2MuP4DNY2N2CTk/gKyxK0O0Mz9AF+cLfoo2P2CTxF3qiEA/wCjPmmDaOz/AE+IpKHA+P0B2zn2NaUM/oA4UfjutQz9A7qDcP5lGP+BUD1o7Hkc/4A4Kn4u1Rj+AwJzfYFpEPwAi7QSG2Ek/4ABxI6LsRD/gIK3avwlLP2CJ93gCPEk/AIIE8kdkTD9AuJrJFQ5PP+DayW7WCU0/sHbrdxDvUT8AsNMmcQ9JP0C8if4HP08/QK6HbL0wUT+AHYVQn9JSP/ByY+ukPlI/wOEUmHW5VD8gz/i+8WBUP9CLOc6pgFY/EACra8f7Wz8w8X7YWbVbPyCEA5TMzFg/UDNfFqiLXT8=\"},\"shape\":[94],\"dtype\":\"float64\",\"order\":\"little\"}]]}}},\"view\":{\"type\":\"object\",\"name\":\"CDSView\",\"id\":\"p1534\",\"attributes\":{\"filter\":{\"type\":\"object\",\"name\":\"AllIndices\",\"id\":\"p1535\"}}},\"glyph\":{\"type\":\"object\",\"name\":\"Line\",\"id\":\"p1530\",\"attributes\":{\"x\":{\"type\":\"field\",\"field\":\"x\"},\"y\":{\"type\":\"field\",\"field\":\"y\"},\"line_color\":\"#0072B2\",\"line_width\":3}},\"nonselection_glyph\":{\"type\":\"object\",\"name\":\"Line\",\"id\":\"p1531\",\"attributes\":{\"x\":{\"type\":\"field\",\"field\":\"x\"},\"y\":{\"type\":\"field\",\"field\":\"y\"},\"line_color\":\"#0072B2\",\"line_alpha\":0.1,\"line_width\":3}},\"muted_glyph\":{\"type\":\"object\",\"name\":\"Line\",\"id\":\"p1532\",\"attributes\":{\"x\":{\"type\":\"field\",\"field\":\"x\"},\"y\":{\"type\":\"field\",\"field\":\"y\"},\"line_color\":\"#0072B2\",\"line_alpha\":0.2,\"line_width\":3}}}},{\"type\":\"object\",\"name\":\"GlyphRenderer\",\"id\":\"p1542\",\"attributes\":{\"data_source\":{\"type\":\"object\",\"name\":\"ColumnDataSource\",\"id\":\"p1536\",\"attributes\":{\"selected\":{\"type\":\"object\",\"name\":\"Selection\",\"id\":\"p1537\",\"attributes\":{\"indices\":[],\"line_indices\":[]}},\"selection_policy\":{\"type\":\"object\",\"name\":\"UnionRenderers\",\"id\":\"p1538\"},\"data\":{\"type\":\"map\",\"entries\":[[\"x\",{\"type\":\"ndarray\",\"array\":{\"type\":\"bytes\",\"data\":\"9P3UeOkmFUCxkdZl7A4VQIUQ+Xwd9xRAJuvxcwzfFECmkVx4usYUQFvuZY2JrhRA6A2sK5qWFECtCvUvqn4UQDlG/at4ZhRAytCdNFFIFEB0SWn/WCQUQN9gGN02BhRAm1M1ByfuE0AsjYAcWNYTQPyxAglHvhNArdGIC/WlE0DnnQAjxI0TQBRixsPUdRNApJyMweRdE0BQpCY3s0UTQNb1C2ajLRNAz6TtedQVE0CU6erjqfcSQEcr7PFw0xJASbJLpJK1EkCRw/OEgZ0SQNJkOoUvhRJAk9tKn/5sEkBEdr5CD1USQJ0kETkfPRJA3y5Pp+0kEkDcxgHe3QwSQH7Ybe8O9RFAiNC77+LWEUAf1BQEqrIRQKLLyA/NlBFAX1ro4rt8EUAUPXzgaWQRQO2U2hxaTBFA9JFcLIs0EUDwkYn6eRwRQFU3GPcnBBFASFF0NhjsEEDBVehESdQQQM0O5A04vBBAV5tbCeajEEDL8tFL1osQQPJTJVkHdBBAcVKsHPZbEEAzQPkWpEMQQGbap1yUKxBAgSrGaMUTEEDahh9NaPcPQGxeOT/Exg9AOWtG0aSWD0AMG+zmBmcPQLw3kawmNw9Aqff+VsMGD0DYei+cYdYOQLu8r/GCpg5A7/tpVGB2DkA4NfJAvEUOQD4rK+GcFQ5APj8K8f7lDUDDY0tG3LUNQKr8ty84hQ1A0L101xhVDUA/fxnkeiUNQCG4VZGa9QxAhdsjIjfFDEBHG9FZlYgMQL+XEx1kQAxAEWM75C8EDEAWsfCbENQLQByaUqFypAtABSMyyU90C0CulbWnq0MLQGgC6WeMEwtAXcoyae7jCkCgLgiAy7MKQOAMR1ongwpAlOZVIwhTCkBuHSwgaiMKQAAj2yRH8wlA8rN0+qLCCUAHu8HMg5IJQC/Ef0CjYglAhOCHpT8yCUDTVrX53QEJQFqViWL/0QhAG9g4VWGiCECdTdExPnIIQIszzfyZQQhAxCCwcmgRCEA=\"},\"shape\":[94],\"dtype\":\"float64\",\"order\":\"little\"}],[\"y\",{\"type\":\"ndarray\",\"array\":{\"type\":\"bytes\",\"data\":\"gLwK+ClKOz9ASC8lT1tDP0BBFDcCpTc/oKydbLSGRT8ARqXwebJAP2D8yxYEwUA/ABdDfKu9QT/gWqQZGMJFP0DdT12dsEM/ACGf5GCFRD8AO35PSvBEP4CtBfOn90M/QNUj9BLOQz8Aoi5hNJVHP4DH9lTWEk0/oGwAL9owST8gsi28uXNCP2AkHoqlfU0/QFmWOCmsSD9g8D3VBVxDPzDUa+P7AVE/4B28K0hAST8AJo4jj4NGP0A/JewJ60k/oHs1NxL7Rj/gkCt11sZHP6AS5SxA/kw/IODHVSXmTz8w1ndTj2ZQP+DRUwhHj08/oNFHnxYXSj8gT1kQKJZJPyA+8VNTpUY/IJa0xv98Qj+Aw1oFzPE3P0CVndgPGDE/AAyBb3J7Fz8AI4Iwr2AdPwDOytWDmgg/ADqwdD0kCD8AAAAAAAAAAADW2PTOvgA/AAYJ/sE4FD8AVhyU8Z4JPwAscj2ULR0/AFBunaB5ID+AeNEmo8gkPwBoLluLgyk/gFzuuryILz/AMfeIS0AyPwBmK2oQMDQ/AIwkQ+j4Nz/AfJRywRg5P0APulvD4T0/QIe5TKVDPj/gKeL7hzVAP8CD1So3R0E/YEexIqwiQj9AeWTNTQNEP6CxpfUBZEQ/AF1+SnSERT/AYmodT2dIP2CTceF+ZUg/4Diwr/B2Sj8Aa/P4uNNLP+Bx5J7Bb04/MPgnG5eRUD/gFiAJh4NRP9AcCx90rVI/IFTgSzGYUz/wg7Y/qfVUP2ByX8C531U/ME+u+rRTVj+AVSiNJfpWP5AHkRejTVc/kErPmnFPVz9w0lW6ZChWP8Bs92kKIFc/YCN4dPKpWT9wgS+uxJxfP4C11UX211s/QPfd4HPFVD8AbGUl4pZVP3CMZVBTEFc/UENxsbp7WD+QuHeYesRYP4D2q3ZfeVg/8A9fnN1gWD8gkVy7bSRWP0D9AwN0NFQ/oIe/+BeFUT+g/wE1IGxMP0BNfhsPoEQ/QEztsIR1Oj8=\"},\"shape\":[94],\"dtype\":\"float64\",\"order\":\"little\"}]]}}},\"view\":{\"type\":\"object\",\"name\":\"CDSView\",\"id\":\"p1543\",\"attributes\":{\"filter\":{\"type\":\"object\",\"name\":\"AllIndices\",\"id\":\"p1544\"}}},\"glyph\":{\"type\":\"object\",\"name\":\"Line\",\"id\":\"p1539\",\"attributes\":{\"x\":{\"type\":\"field\",\"field\":\"x\"},\"y\":{\"type\":\"field\",\"field\":\"y\"},\"line_color\":\"#E69F00\",\"line_width\":3}},\"nonselection_glyph\":{\"type\":\"object\",\"name\":\"Line\",\"id\":\"p1540\",\"attributes\":{\"x\":{\"type\":\"field\",\"field\":\"x\"},\"y\":{\"type\":\"field\",\"field\":\"y\"},\"line_color\":\"#E69F00\",\"line_alpha\":0.1,\"line_width\":3}},\"muted_glyph\":{\"type\":\"object\",\"name\":\"Line\",\"id\":\"p1541\",\"attributes\":{\"x\":{\"type\":\"field\",\"field\":\"x\"},\"y\":{\"type\":\"field\",\"field\":\"y\"},\"line_color\":\"#E69F00\",\"line_alpha\":0.2,\"line_width\":3}}}},{\"type\":\"object\",\"name\":\"GlyphRenderer\",\"id\":\"p1551\",\"attributes\":{\"data_source\":{\"type\":\"object\",\"name\":\"ColumnDataSource\",\"id\":\"p1545\",\"attributes\":{\"selected\":{\"type\":\"object\",\"name\":\"Selection\",\"id\":\"p1546\",\"attributes\":{\"indices\":[],\"line_indices\":[]}},\"selection_policy\":{\"type\":\"object\",\"name\":\"UnionRenderers\",\"id\":\"p1547\"},\"data\":{\"type\":\"map\",\"entries\":[[\"x\",{\"type\":\"ndarray\",\"array\":{\"type\":\"bytes\",\"data\":\"9P3UeOkmFUCxkdZl7A4VQIUQ+Xwd9xRAJuvxcwzfFECmkVx4usYUQFvuZY2JrhRA6A2sK5qWFECtCvUvqn4UQDlG/at4ZhRAytCdNFFIFEB0SWn/WCQUQN9gGN02BhRAm1M1ByfuE0AsjYAcWNYTQPyxAglHvhNArdGIC/WlE0DnnQAjxI0TQBRixsPUdRNApJyMweRdE0BQpCY3s0UTQNb1C2ajLRNAz6TtedQVE0CU6erjqfcSQEcr7PFw0xJASbJLpJK1EkCRw/OEgZ0SQNJkOoUvhRJAk9tKn/5sEkBEdr5CD1USQJ0kETkfPRJA3y5Pp+0kEkDcxgHe3QwSQH7Ybe8O9RFAiNC77+LWEUAf1BQEqrIRQKLLyA/NlBFAX1ro4rt8EUAUPXzgaWQRQO2U2hxaTBFA9JFcLIs0EUDwkYn6eRwRQFU3GPcnBBFASFF0NhjsEEDBVehESdQQQM0O5A04vBBAV5tbCeajEEDL8tFL1osQQPJTJVkHdBBAcVKsHPZbEEAzQPkWpEMQQGbap1yUKxBAgSrGaMUTEEDahh9NaPcPQGxeOT/Exg9AOWtG0aSWD0AMG+zmBmcPQLw3kawmNw9Aqff+VsMGD0DYei+cYdYOQLu8r/GCpg5A7/tpVGB2DkA4NfJAvEUOQD4rK+GcFQ5APj8K8f7lDUDDY0tG3LUNQKr8ty84hQ1A0L101xhVDUA/fxnkeiUNQCG4VZGa9QxAhdsjIjfFDEBHG9FZlYgMQL+XEx1kQAxAEWM75C8EDEAWsfCbENQLQByaUqFypAtABSMyyU90C0CulbWnq0MLQGgC6WeMEwtAXcoyae7jCkCgLgiAy7MKQOAMR1ongwpAlOZVIwhTCkBuHSwgaiMKQAAj2yRH8wlA8rN0+qLCCUAHu8HMg5IJQC/Ef0CjYglAhOCHpT8yCUDTVrX53QEJQFqViWL/0QhAG9g4VWGiCECdTdExPnIIQIszzfyZQQhAxCCwcmgRCEA=\"},\"shape\":[94],\"dtype\":\"float64\",\"order\":\"little\"}],[\"y\",{\"type\":\"ndarray\",\"array\":{\"type\":\"bytes\",\"data\":\"ACRKrH88Vz9QGbHMoW5XP2C0zgrEoFQ/oIHFBpcDWD8g73T4md9YP2ALVnzJF1c/UC3B2QHXVT9wLR06MwlYPyCfk7i531c/wFTMaSdUWD+QTdFTcphVP5A8V9fWy1c/cDLSAKCQUj+gzZPQX2VZPzAjW7rlMVs/EOcUrpgZVj+gL30jWM9TP7BjvcVC1Fk/IGlkdToeVz/QxemIEM1WPzA0Za1GtFg/gKIRIH+KVj9wlcXTLhxUP8DMAgwycVc/IGQuJpOyVT8gYZzG9rRZP9AY7Q6PxFk/0IcobdlvXT9ApjRogFFfP3ixt68NfGA/sIt/rgn2YT8Ig79Ds8ZiPxBbfmc3i2Q/2ATGof8PZT9ItRIJviJnP2BB6awRFWc/uNQT4+bJZj8A1NrMxj1nP5D+a7eybmc/KDqaCtG8Zj8wZtWS/r5mP2B5YUoFG2M/INwWrGr8XT+wZvKXuGtUP7AcR33woVA/oGleIAnsQj+AOD9PtjQ2PwDbobG/ZDg/ADT5ZLQ5NT8AdxttxhEoPwBlR60eOCQ/AOBjzceG/T4A/ExTZG0RPwBigliooyE/AAAAAAAAAAAACEOJ9nHjPgBIMJDqVB8/AOrUY79oED8AumN48BsLP4DWR48CkyU/APqfuigQLj8AdoMHEVcwP4BG/nD7bTo/wCFZ1XsxNT/Ae1psjx01P+BEKcn0hUA/gGonkSghOj/AMiejGd07PwAuuxHa3kE/IOD3pY19Qj/gATtnoH5EP4ADv5gC3kQ/wAMuO7CrQj/A/F3SeDFBP8Awfliw80Q/IApSPlFAQD8AVT+xnltGP4CQkfoxXkQ/oKI7v8MFRz9g0uugHhxHP6D2OuaIF0g/wJ+pvpliUD9AoxdyFttGP0Cq2ayuNE0/QJOdt3dJUD8AHNrl1PFRP2DJGZ623FA/8FS5FowbVD+wajrWERpUP0C63URjAVY/8BgzSuXhWz+wKBcH8tBbP3C1/4CeG1k/8Km8t9RPXT8=\"},\"shape\":[94],\"dtype\":\"float64\",\"order\":\"little\"}]]}}},\"view\":{\"type\":\"object\",\"name\":\"CDSView\",\"id\":\"p1552\",\"attributes\":{\"filter\":{\"type\":\"object\",\"name\":\"AllIndices\",\"id\":\"p1553\"}}},\"glyph\":{\"type\":\"object\",\"name\":\"Line\",\"id\":\"p1548\",\"attributes\":{\"x\":{\"type\":\"field\",\"field\":\"x\"},\"y\":{\"type\":\"field\",\"field\":\"y\"},\"line_color\":\"#F0E442\",\"line_width\":3}},\"nonselection_glyph\":{\"type\":\"object\",\"name\":\"Line\",\"id\":\"p1549\",\"attributes\":{\"x\":{\"type\":\"field\",\"field\":\"x\"},\"y\":{\"type\":\"field\",\"field\":\"y\"},\"line_color\":\"#F0E442\",\"line_alpha\":0.1,\"line_width\":3}},\"muted_glyph\":{\"type\":\"object\",\"name\":\"Line\",\"id\":\"p1550\",\"attributes\":{\"x\":{\"type\":\"field\",\"field\":\"x\"},\"y\":{\"type\":\"field\",\"field\":\"y\"},\"line_color\":\"#F0E442\",\"line_alpha\":0.2,\"line_width\":3}}}},{\"type\":\"object\",\"name\":\"GlyphRenderer\",\"id\":\"p1560\",\"attributes\":{\"data_source\":{\"type\":\"object\",\"name\":\"ColumnDataSource\",\"id\":\"p1554\",\"attributes\":{\"selected\":{\"type\":\"object\",\"name\":\"Selection\",\"id\":\"p1555\",\"attributes\":{\"indices\":[],\"line_indices\":[]}},\"selection_policy\":{\"type\":\"object\",\"name\":\"UnionRenderers\",\"id\":\"p1556\"},\"data\":{\"type\":\"map\",\"entries\":[[\"x\",{\"type\":\"ndarray\",\"array\":{\"type\":\"bytes\",\"data\":\"9P3UeOkmFUCxkdZl7A4VQIUQ+Xwd9xRAJuvxcwzfFECmkVx4usYUQFvuZY2JrhRA6A2sK5qWFECtCvUvqn4UQDlG/at4ZhRAytCdNFFIFEB0SWn/WCQUQN9gGN02BhRAm1M1ByfuE0AsjYAcWNYTQPyxAglHvhNArdGIC/WlE0DnnQAjxI0TQBRixsPUdRNApJyMweRdE0BQpCY3s0UTQNb1C2ajLRNAz6TtedQVE0CU6erjqfcSQEcr7PFw0xJASbJLpJK1EkCRw/OEgZ0SQNJkOoUvhRJAk9tKn/5sEkBEdr5CD1USQJ0kETkfPRJA3y5Pp+0kEkDcxgHe3QwSQH7Ybe8O9RFAiNC77+LWEUAf1BQEqrIRQKLLyA/NlBFAX1ro4rt8EUAUPXzgaWQRQO2U2hxaTBFA9JFcLIs0EUDwkYn6eRwRQFU3GPcnBBFASFF0NhjsEEDBVehESdQQQM0O5A04vBBAV5tbCeajEEDL8tFL1osQQPJTJVkHdBBAcVKsHPZbEEAzQPkWpEMQQGbap1yUKxBAgSrGaMUTEEDahh9NaPcPQGxeOT/Exg9AOWtG0aSWD0AMG+zmBmcPQLw3kawmNw9Aqff+VsMGD0DYei+cYdYOQLu8r/GCpg5A7/tpVGB2DkA4NfJAvEUOQD4rK+GcFQ5APj8K8f7lDUDDY0tG3LUNQKr8ty84hQ1A0L101xhVDUA/fxnkeiUNQCG4VZGa9QxAhdsjIjfFDEBHG9FZlYgMQL+XEx1kQAxAEWM75C8EDEAWsfCbENQLQByaUqFypAtABSMyyU90C0CulbWnq0MLQGgC6WeMEwtAXcoyae7jCkCgLgiAy7MKQOAMR1ongwpAlOZVIwhTCkBuHSwgaiMKQAAj2yRH8wlA8rN0+qLCCUAHu8HMg5IJQC/Ef0CjYglAhOCHpT8yCUDTVrX53QEJQFqViWL/0QhAG9g4VWGiCECdTdExPnIIQIszzfyZQQhAxCCwcmgRCEA=\"},\"shape\":[94],\"dtype\":\"float64\",\"order\":\"little\"}],[\"y\",{\"type\":\"ndarray\",\"array\":{\"type\":\"bytes\",\"data\":\"wBX0X02INz8gMOT/RrFCP0Dmfs8LojI/oGcN35OdRD9AD3e/srRAP6AMKbYHbkI/gOfnMJrBQD+An96FqddHP0A/kLL/UEY/IJ2IaYLlRz8g4+84cWVIP4BH68reNEk/oFt6Q+fSSD+AZwSxuJZQP0AC4ygZgFI/YAoIUwd+UD8Aa4+9QaNNP0Cna1DPg1I/QOxUJLQ0UT8ALvoDS49PPxDfUyTCpFQ/0BPcWeO5UT9QfayAypNQPzAtqrKeFVI/gN0ns3JqUD/wavDmwcxQP6DEWrQXQFM/kH6dK2poVD8ARC2CdYBVP7CJ2uOcYlQ/kFDVyRgpUj+gco3gi9hRP5CH8Ya7LFA/QK3Xn0CzSz+A8qnrMyhGPwDFI6Qz1T8/gCIyzEsnNT+AdqcSpqMvP4DInRITqCs/gG7DThqAJz8Ap6FG3/sYPwC4eiiDkRc/ACKoTZSiEj8AAAAAAAAAAADE6i0W8Ps+AOyWQ8J2Bz8A3U+xC90RPwBSXrfZ7hU/AIkbtah5HT8A0KcrWkokPwDnlwF9Yyk/AGswNFmeKz8A1t/8r/0sPwD0tbqYQTM/wKXH3wW+Mj8AQRlLA6gzPwAPAEs+yjU/QO9QAl33Nj+A9UkHoho6PwALLi3mQTo/wE8a5E8TPT/gjGnaDpFAP8D6OXN6CUE/wAZFeHhEQj+AthTzpIBDP+B3QXETvUU/oEYXAputRz/AnoueQphJPyCMka+KMUs/oAd3I9PfTD9AOq6O/hVPPzCVpZVNUlA/UFD7a8KrUD+g1Zh3Hj9RPwDWv6kKgFE/ID43WuuAUT/Q4EZgQHxQP6By75QzVVE/YFt1TTeWUz8AelVT9dlYP7Aa1ceIglU/IA3BZXGDTj+guyZhiu1PPwDwAUpBRlE/wLsGLXSIUj8Q5kQE1MlSP5D/ZZ3thlI/4N48fhxxUj8QggXkz3RQP+BrPyQlg00/gEB+yYnMSD/g1X/9IAxDP8Cg8V63bjg/AKjOAtbRKT8=\"},\"shape\":[94],\"dtype\":\"float64\",\"order\":\"little\"}]]}}},\"view\":{\"type\":\"object\",\"name\":\"CDSView\",\"id\":\"p1561\",\"attributes\":{\"filter\":{\"type\":\"object\",\"name\":\"AllIndices\",\"id\":\"p1562\"}}},\"glyph\":{\"type\":\"object\",\"name\":\"Line\",\"id\":\"p1557\",\"attributes\":{\"x\":{\"type\":\"field\",\"field\":\"x\"},\"y\":{\"type\":\"field\",\"field\":\"y\"},\"line_color\":\"#009E73\",\"line_width\":3}},\"nonselection_glyph\":{\"type\":\"object\",\"name\":\"Line\",\"id\":\"p1558\",\"attributes\":{\"x\":{\"type\":\"field\",\"field\":\"x\"},\"y\":{\"type\":\"field\",\"field\":\"y\"},\"line_color\":\"#009E73\",\"line_alpha\":0.1,\"line_width\":3}},\"muted_glyph\":{\"type\":\"object\",\"name\":\"Line\",\"id\":\"p1559\",\"attributes\":{\"x\":{\"type\":\"field\",\"field\":\"x\"},\"y\":{\"type\":\"field\",\"field\":\"y\"},\"line_color\":\"#009E73\",\"line_alpha\":0.2,\"line_width\":3}}}},{\"type\":\"object\",\"name\":\"GlyphRenderer\",\"id\":\"p1569\",\"attributes\":{\"data_source\":{\"type\":\"object\",\"name\":\"ColumnDataSource\",\"id\":\"p1563\",\"attributes\":{\"selected\":{\"type\":\"object\",\"name\":\"Selection\",\"id\":\"p1564\",\"attributes\":{\"indices\":[],\"line_indices\":[]}},\"selection_policy\":{\"type\":\"object\",\"name\":\"UnionRenderers\",\"id\":\"p1565\"},\"data\":{\"type\":\"map\",\"entries\":[[\"x\",{\"type\":\"ndarray\",\"array\":{\"type\":\"bytes\",\"data\":\"9P3UeOkmFUCxkdZl7A4VQIUQ+Xwd9xRAJuvxcwzfFECmkVx4usYUQFvuZY2JrhRA6A2sK5qWFECtCvUvqn4UQDlG/at4ZhRAytCdNFFIFEB0SWn/WCQUQN9gGN02BhRAm1M1ByfuE0AsjYAcWNYTQPyxAglHvhNArdGIC/WlE0DnnQAjxI0TQBRixsPUdRNApJyMweRdE0BQpCY3s0UTQNb1C2ajLRNAz6TtedQVE0CU6erjqfcSQEcr7PFw0xJASbJLpJK1EkCRw/OEgZ0SQNJkOoUvhRJAk9tKn/5sEkBEdr5CD1USQJ0kETkfPRJA3y5Pp+0kEkDcxgHe3QwSQH7Ybe8O9RFAiNC77+LWEUAf1BQEqrIRQKLLyA/NlBFAX1ro4rt8EUAUPXzgaWQRQO2U2hxaTBFA9JFcLIs0EUDwkYn6eRwRQFU3GPcnBBFASFF0NhjsEEDBVehESdQQQM0O5A04vBBAV5tbCeajEEDL8tFL1osQQPJTJVkHdBBAcVKsHPZbEEAzQPkWpEMQQGbap1yUKxBAgSrGaMUTEEDahh9NaPcPQGxeOT/Exg9AOWtG0aSWD0AMG+zmBmcPQLw3kawmNw9Aqff+VsMGD0DYei+cYdYOQLu8r/GCpg5A7/tpVGB2DkA4NfJAvEUOQD4rK+GcFQ5APj8K8f7lDUDDY0tG3LUNQKr8ty84hQ1A0L101xhVDUA/fxnkeiUNQCG4VZGa9QxAhdsjIjfFDEBHG9FZlYgMQL+XEx1kQAxAEWM75C8EDEAWsfCbENQLQByaUqFypAtABSMyyU90C0CulbWnq0MLQGgC6WeMEwtAXcoyae7jCkCgLgiAy7MKQOAMR1ongwpAlOZVIwhTCkBuHSwgaiMKQAAj2yRH8wlA8rN0+qLCCUAHu8HMg5IJQC/Ef0CjYglAhOCHpT8yCUDTVrX53QEJQFqViWL/0QhAG9g4VWGiCECdTdExPnIIQIszzfyZQQhAxCCwcmgRCEA=\"},\"shape\":[94],\"dtype\":\"float64\",\"order\":\"little\"}],[\"y\",{\"type\":\"ndarray\",\"array\":{\"type\":\"bytes\",\"data\":\"oEAXtRhWRj/AVV82d4pHP4ABWtKUM0Q/oHL/1ASBRj/gO4RwULlHP8DkkDwjTkY/AGZtV21aRD/giVLxgrRGP8B8kgu2fkc/ACev/3OwRz8AygsxNRFFPwBKCE5qOUg/wDz5fXvWRD9gTIJ0r7JLP2AASIE5n0w/wBQJYcPhSj/AVe14sh9IP2CZoAZPBE0/wEJfGl5QTD8g9JPU8bpNP8BRplknu0w/wJt5V5l0Sj8g3Ga7XhFKP8Dz5gtjrU4/wLrcbZXfTz+QwigcQxtSP9CC7oYBalM/8IvSgU7+VD/wnzBkkaxWP2D9F0tHhlc/YJK2/euoWD/gwxNOnQVZP6DlTVsOoFk/8OlethCgWT/wLG0tDhJaP6Ay0lb2IVo/ICIj8SslWj+AghiQYPpZP7D+Uq4kBlo/0DHMO/RDWT8g0WUhwcRYP3C5Bkl9m1U/QCn4etp8Uj+A57Ggs3VKP2Ca9iuvikM/QJ3XPkIsNj+AR7lJXK0qP4CdHc18oCs/gFzIutvrKj8ArVrKXbEhPwC1OFm2eRg/ACLfx7BiAT8A7seA0IYDPwD2VCd0MRQ/AAAAAAAAAAAAYOrTlb7qPgCiiSje3RI/AJg2eQI8BD8AzENvq0P/PgAWfi0lkBg/gBSSbSqgID+AXL8RgjciP4AEoQnzcCw/gFbR7GwaJz+AL+8r5CYmPwBjUnyCejE/AH7mRmW/Kz8APXTlrgAtP4CARg47lDI/wA15mvhcMz8ALVFyJnA1P4AaUobNrTU/AAEV/oM+Mz+AZqQ+VFIzPwBB/1KxdTY/gNix+0k/Mj+Ag/p5ehs3P4C8ux+SbzM/QNYQVI4TNj+AUigvYSA1PwAMlVy4yzc/wE4SmoG1Pz9AhG8qdMk3P0ALxM9dPT4/ILCui8yzQD9A59EbR1RCP4BJrDHM6UA/gA0BemClRD+AMEgPJrVEP+DvNceAPkY/4Ht2cH/bSz8Aue5yTO9LPwAxQvdN/kk/QM4t9OeSTT8=\"},\"shape\":[94],\"dtype\":\"float64\",\"order\":\"little\"}]]}}},\"view\":{\"type\":\"object\",\"name\":\"CDSView\",\"id\":\"p1570\",\"attributes\":{\"filter\":{\"type\":\"object\",\"name\":\"AllIndices\",\"id\":\"p1571\"}}},\"glyph\":{\"type\":\"object\",\"name\":\"Line\",\"id\":\"p1566\",\"attributes\":{\"x\":{\"type\":\"field\",\"field\":\"x\"},\"y\":{\"type\":\"field\",\"field\":\"y\"},\"line_color\":\"#56B4E9\",\"line_width\":3}},\"nonselection_glyph\":{\"type\":\"object\",\"name\":\"Line\",\"id\":\"p1567\",\"attributes\":{\"x\":{\"type\":\"field\",\"field\":\"x\"},\"y\":{\"type\":\"field\",\"field\":\"y\"},\"line_color\":\"#56B4E9\",\"line_alpha\":0.1,\"line_width\":3}},\"muted_glyph\":{\"type\":\"object\",\"name\":\"Line\",\"id\":\"p1568\",\"attributes\":{\"x\":{\"type\":\"field\",\"field\":\"x\"},\"y\":{\"type\":\"field\",\"field\":\"y\"},\"line_color\":\"#56B4E9\",\"line_alpha\":0.2,\"line_width\":3}}}},{\"type\":\"object\",\"name\":\"GlyphRenderer\",\"id\":\"p1578\",\"attributes\":{\"data_source\":{\"type\":\"object\",\"name\":\"ColumnDataSource\",\"id\":\"p1572\",\"attributes\":{\"selected\":{\"type\":\"object\",\"name\":\"Selection\",\"id\":\"p1573\",\"attributes\":{\"indices\":[],\"line_indices\":[]}},\"selection_policy\":{\"type\":\"object\",\"name\":\"UnionRenderers\",\"id\":\"p1574\"},\"data\":{\"type\":\"map\",\"entries\":[[\"x\",{\"type\":\"ndarray\",\"array\":{\"type\":\"bytes\",\"data\":\"9P3UeOkmFUCxkdZl7A4VQIUQ+Xwd9xRAJuvxcwzfFECmkVx4usYUQFvuZY2JrhRA6A2sK5qWFECtCvUvqn4UQDlG/at4ZhRAytCdNFFIFEB0SWn/WCQUQN9gGN02BhRAm1M1ByfuE0AsjYAcWNYTQPyxAglHvhNArdGIC/WlE0DnnQAjxI0TQBRixsPUdRNApJyMweRdE0BQpCY3s0UTQNb1C2ajLRNAz6TtedQVE0CU6erjqfcSQEcr7PFw0xJASbJLpJK1EkCRw/OEgZ0SQNJkOoUvhRJAk9tKn/5sEkBEdr5CD1USQJ0kETkfPRJA3y5Pp+0kEkDcxgHe3QwSQH7Ybe8O9RFAiNC77+LWEUAf1BQEqrIRQKLLyA/NlBFAX1ro4rt8EUAUPXzgaWQRQO2U2hxaTBFA9JFcLIs0EUDwkYn6eRwRQFU3GPcnBBFASFF0NhjsEEDBVehESdQQQM0O5A04vBBAV5tbCeajEEDL8tFL1osQQPJTJVkHdBBAcVKsHPZbEEAzQPkWpEMQQGbap1yUKxBAgSrGaMUTEEDahh9NaPcPQGxeOT/Exg9AOWtG0aSWD0AMG+zmBmcPQLw3kawmNw9Aqff+VsMGD0DYei+cYdYOQLu8r/GCpg5A7/tpVGB2DkA4NfJAvEUOQD4rK+GcFQ5APj8K8f7lDUDDY0tG3LUNQKr8ty84hQ1A0L101xhVDUA/fxnkeiUNQCG4VZGa9QxAhdsjIjfFDEBHG9FZlYgMQL+XEx1kQAxAEWM75C8EDEAWsfCbENQLQByaUqFypAtABSMyyU90C0CulbWnq0MLQGgC6WeMEwtAXcoyae7jCkCgLgiAy7MKQOAMR1ongwpAlOZVIwhTCkBuHSwgaiMKQAAj2yRH8wlA8rN0+qLCCUAHu8HMg5IJQC/Ef0CjYglAhOCHpT8yCUDTVrX53QEJQFqViWL/0QhAG9g4VWGiCECdTdExPnIIQIszzfyZQQhAxCCwcmgRCEA=\"},\"shape\":[94],\"dtype\":\"float64\",\"order\":\"little\"}],[\"y\",{\"type\":\"ndarray\",\"array\":{\"type\":\"bytes\",\"data\":\"ALMwhKKCKT9AjE8upSgzPwBCuhNAjyY/QNQCKSUvNT+AdY9KqCMyP0Ac/BkspzQ/APlIAh9BMD+A+7PA6ww6P4A8iP7IBjk/AK8fNVEFPT8ArCL/CWE9P8ASaKo2BkE/ICYs+E2HQT8gui9DsJdGP4BLmN7EKUg/QNSiViu1Rj9A2uRg7s9FP2DXa5cV2kc/wOS7YsrrRz9g/Yl467hHP0CYV7vnCUk/IIY5GV/JRT9ggvGUrmJEPwD3wcD4hEU/oAMiaGrSQz+Ad06jLHFEPyBDmaW+N0Y/wJ7moDe4Rz+gcXskuNtIPyDkN7k8ikc/4NjIsa6gRT/ADqKMgblFP6CYRiwd/UM/oF893Y/0QT+gCXGvBWdAPwAjr4U+OTs/gF0+Xfd7OD/A5Mukg8M1P0C1lgXxeTc/gKDID+hKNT/A5ygtkG8yP4CNxqkgHi4/gFAs6bvIKD8AFmD7N5oaPwBky3UkpRk/ANfWMHLVGT8AmuhaH1wZPwATDoXhMRc/AHHI7T45GT8AFrOb4uIfP4A7IdVCZCQ/AAKTnoJHIT+AxjzVDi8iPwDyb3rQcyc/AB020ZMTJz8AEseEeWImPwD56Chhoyc/AFC9XuF/Jz8A8MMI5R0pPwCCveNdOCk/gJIJXxQiMD+A6bctGTIwP4CjYNnbrDE/AA4bKIpPMT9AyhNEAlQxPwDN1o3IYTM/APKZnMG1Mj/AWSgGMoM1P0Cgecu4wjM/QE3GzZYFNj8AdIeEA3M2P4CE5QS+6TY/QE8EMFONNj+AsNXuGXo4P4BQ5hEwqTc/QGPhOTF4Nz9AIeClr2Y1P4BOmnd6MTU/gA4l962TOT8gHhFTP9NBPwBkhv21Lj0/QOpLuLoKMT8AFugQ3SsyP8Bc4ZWq0jQ/wGwGYRVGNz/AMKvbtb43P4CiT0wXKjc/QJxHRi38Nj8AUJazihUzP4Arp22R7y8/AA50VNqrJz8AVDaynJwcPwA0xzkd3/w+AAAAAAAAAAA=\"},\"shape\":[94],\"dtype\":\"float64\",\"order\":\"little\"}]]}}},\"view\":{\"type\":\"object\",\"name\":\"CDSView\",\"id\":\"p1579\",\"attributes\":{\"filter\":{\"type\":\"object\",\"name\":\"AllIndices\",\"id\":\"p1580\"}}},\"glyph\":{\"type\":\"object\",\"name\":\"Line\",\"id\":\"p1575\",\"attributes\":{\"x\":{\"type\":\"field\",\"field\":\"x\"},\"y\":{\"type\":\"field\",\"field\":\"y\"},\"line_color\":\"#D55E00\",\"line_width\":3}},\"nonselection_glyph\":{\"type\":\"object\",\"name\":\"Line\",\"id\":\"p1576\",\"attributes\":{\"x\":{\"type\":\"field\",\"field\":\"x\"},\"y\":{\"type\":\"field\",\"field\":\"y\"},\"line_color\":\"#D55E00\",\"line_alpha\":0.1,\"line_width\":3}},\"muted_glyph\":{\"type\":\"object\",\"name\":\"Line\",\"id\":\"p1577\",\"attributes\":{\"x\":{\"type\":\"field\",\"field\":\"x\"},\"y\":{\"type\":\"field\",\"field\":\"y\"},\"line_color\":\"#D55E00\",\"line_alpha\":0.2,\"line_width\":3}}}},{\"type\":\"object\",\"name\":\"GlyphRenderer\",\"id\":\"p1594\",\"attributes\":{\"data_source\":{\"type\":\"object\",\"name\":\"ColumnDataSource\",\"id\":\"p1588\",\"attributes\":{\"selected\":{\"type\":\"object\",\"name\":\"Selection\",\"id\":\"p1589\",\"attributes\":{\"indices\":[],\"line_indices\":[]}},\"selection_policy\":{\"type\":\"object\",\"name\":\"UnionRenderers\",\"id\":\"p1590\"},\"data\":{\"type\":\"map\",\"entries\":[[\"xs\",[[3.0084999999999997,3.0084999999999997]]],[\"ys\",[[0.000772940907224226,0.000772940907224226]]]]}}},\"view\":{\"type\":\"object\",\"name\":\"CDSView\",\"id\":\"p1595\",\"attributes\":{\"filter\":{\"type\":\"object\",\"name\":\"AllIndices\",\"id\":\"p1596\"}}},\"glyph\":{\"type\":\"object\",\"name\":\"MultiLine\",\"id\":\"p1591\",\"attributes\":{\"xs\":{\"type\":\"field\",\"field\":\"xs\"},\"ys\":{\"type\":\"field\",\"field\":\"ys\"},\"line_color\":{\"type\":\"value\",\"value\":\"#1f77b4\"}}},\"nonselection_glyph\":{\"type\":\"object\",\"name\":\"MultiLine\",\"id\":\"p1592\",\"attributes\":{\"xs\":{\"type\":\"field\",\"field\":\"xs\"},\"ys\":{\"type\":\"field\",\"field\":\"ys\"},\"line_color\":{\"type\":\"value\",\"value\":\"#1f77b4\"},\"line_alpha\":{\"type\":\"value\",\"value\":0.1}}},\"muted_glyph\":{\"type\":\"object\",\"name\":\"MultiLine\",\"id\":\"p1593\",\"attributes\":{\"xs\":{\"type\":\"field\",\"field\":\"xs\"},\"ys\":{\"type\":\"field\",\"field\":\"ys\"},\"line_color\":{\"type\":\"value\",\"value\":\"#1f77b4\"},\"line_alpha\":{\"type\":\"value\",\"value\":0.2}}}}},{\"type\":\"object\",\"name\":\"GlyphRenderer\",\"id\":\"p1603\",\"attributes\":{\"data_source\":{\"type\":\"object\",\"name\":\"ColumnDataSource\",\"id\":\"p1597\",\"attributes\":{\"selected\":{\"type\":\"object\",\"name\":\"Selection\",\"id\":\"p1598\",\"attributes\":{\"indices\":[],\"line_indices\":[]}},\"selection_policy\":{\"type\":\"object\",\"name\":\"UnionRenderers\",\"id\":\"p1599\"},\"data\":{\"type\":\"map\",\"entries\":[[\"xs\",[[3.0084999999999997,3.0084999999999997],[3.032,3.032],[3.056,3.056],[3.0795000000000003,3.0795000000000003],[3.1025,3.1025],[3.126,3.126],[3.1494999999999997,3.1494999999999997],[3.1734999999999998,3.1734999999999998],[3.1965000000000003,3.1965000000000003],[3.22,3.22],[3.2439999999999998,3.2439999999999998],[3.2675,3.2675],[3.2904999999999998,3.2904999999999998],[3.314,3.314],[3.338,3.338],[3.3615000000000004,3.3615000000000004],[3.3845,3.3845],[3.408,3.408],[3.432,3.432],[3.4555,3.4555],[3.4785000000000004,3.4785000000000004],[3.502,3.502],[3.526,3.526],[3.5725,3.5725],[3.5965,3.5965],[3.62,3.62],[3.6435,3.6435],[3.6665,3.6665],[3.69,3.69],[3.714,3.714],[3.7375,3.7375],[3.7605,3.7605],[3.784,3.784],[3.808,3.808],[3.8315,3.8315],[3.8545,3.8545],[3.8785,3.8785],[3.902,3.902],[3.9255,3.9255],[3.9485,3.9485],[3.972,3.972],[3.996,3.996],[4.0195,4.0195],[4.0425,4.0425],[4.066000000000001,4.066000000000001],[4.09,4.09],[4.1135,4.1135],[4.1365,4.1365],[4.16,4.16],[4.183999999999999,4.183999999999999],[4.2075,4.2075],[4.2305,4.2305],[4.254,4.254],[4.2780000000000005,4.2780000000000005],[4.3015,4.3015],[4.3245000000000005,4.3245000000000005],[4.348000000000001,4.348000000000001],[4.372,4.372],[4.3955,4.3955],[4.4185,4.4185],[4.465999999999999,4.465999999999999],[4.4895,4.4895],[4.5125,4.5125],[4.536,4.536],[4.5600000000000005,4.5600000000000005],[4.583,4.583],[4.6065000000000005,4.6065000000000005],[4.630000000000001,4.630000000000001],[4.654,4.654],[4.6775,4.6775],[4.7005,4.7005],[4.747999999999999,4.747999999999999],[4.7715,4.7715],[4.7945,4.7945],[4.818,4.818],[4.8420000000000005,4.8420000000000005],[4.865,4.865],[4.8885000000000005,4.8885000000000005],[4.912000000000001,4.912000000000001],[4.936,4.936],[4.9595,4.9595],[4.9825,4.9825],[5.006,5.006],[5.029999999999999,5.029999999999999],[5.0765,5.0765],[5.1,5.1],[5.1240000000000006,5.1240000000000006],[5.147,5.147],[5.1705000000000005,5.1705000000000005],[5.194000000000001,5.194000000000001],[5.218,5.218],[5.2415,5.2415],[5.2645,5.2645],[5.288,5.288]]],[\"ys\",[[0.0006924839355174593,0.0008547856520489637],[0.0007910663946581395,0.0009504497345334401],[0.0005970302091517846,0.0007380793623873033],[0.0006348455413262045,0.0007876666012629797],[0.0005071493337647989,0.0007141312758878228],[0.00043203987241105177,0.0005871216095686381],[0.000603699931744188,0.0007645091393607487],[0.0003803051684212119,0.0005443471297603177],[0.00043906945576100906,0.0006084654303866489],[0.0004657526185361388,0.0006289875056748398],[0.0003008323819272546,0.0004654433271771702],[0.0001452695358821754,0.00031886232631163705],[0.00017877216138827146,0.0003603170082058342],[0.00035489751449471404,0.0005239806786177699],[0.00035258984141248173,0.0005294058580158356],[0.00010666984651955258,0.0003480620452345727],[0.00032234285374714913,0.0004965055359266342],[0.00017536151878561404,0.00035861942334178276],[0.00034083823884346887,0.0005003179226470873],[0.00021659000976279041,0.0003963629333693479],[0.00018531784815163654,0.0003695684936774052],[3.841099020976402e-05,0.00024194024947004483],[0.00025883154522042887,0.00044367402635000705],[0.0003546941208676137,0.0005510520181848007],[0.00024073854304839173,0.00043578458529296496],[0.0002041537705308634,0.0004052468233965191],[0.000351203013202437,0.0005438120092948265],[0.00032927834476294965,0.0005269561655652476],[4.4560310498428096e-05,0.00021912063715077285],[9.775501808543738e-05,0.00029565228909014807],[0.0001975068870870636,0.0004069150389038323],[0.00011227605828871903,0.00032838543389072244],[9.561114972422152e-06,0.00019424276492628623],[0.000244746921295981,0.0004603990746245533],[-0.00011778892882892411,0.00011728393241171656],[-4.053723581666155e-05,0.00018877793628531078],[8.926724424030558e-05,0.0002804508949630913],[-5.893921475738986e-05,0.0001732171761558987],[0.00013005079820015142,0.0003604413633227742],[3.148265264566602e-05,0.0002750119653154061],[0.00015690979853008602,0.0003568556982339634],[0.0004490378704212518,0.0006978103916119097],[0.0004151768026921035,0.0006213500255239472],[0.0004914943827974,0.0007345042066450903],[0.00015579556710008588,0.0004095050995687674],[0.0001061761139870554,0.0003256606424795125],[-4.7530805680477684e-05,0.00020943840714252732],[0.00012219417967211307,0.000341832636099184],[0.00033732594984355393,0.0006062757381347025],[0.00027566370372431037,0.0004977333431054401],[0.0009357564756220516,0.0012029984033064718],[0.0009497082086222103,0.00116176021809462],[0.0013843682785432167,0.0016571496450256615],[0.0014954729770794116,0.001734941535330426],[0.0014403707373846185,0.0017145669176928946],[0.0014669040656786168,0.0017018701399661128],[0.0016817464029663352,0.001968414852267064],[0.0015500918385026423,0.0018018587064360832],[0.0016426411396493305,0.001906892756264645],[0.0016681936091549644,0.0019613947281002728],[0.000918289957677218,0.001172722695875223],[0.0011733261191084858,0.001466852539585544],[0.0006170573481807523,0.0008869006044553117],[0.0007255780292191316,0.000982059913949073],[0.0007426500506372558,0.0010711080310212423],[0.0006654989271863906,0.00094871941872713],[0.0006336760587715567,0.0009229123902516796],[0.00043326493436574715,0.000707100094578153],[0.0005490052588632832,0.0008876304713668383],[0.0004340417679299831,0.0007225109822334569],[0.0005473830917852238,0.0008382017817340562],[0.0003977475742018635,0.0006976011373899145],[0.0008970800947703944,0.001255666018206085],[0.0005022561787182724,0.0007819459912978173],[0.0003379419220170439,0.0006415260467535835],[0.0005307807144953672,0.0008326528793307017],[0.0003493439843029397,0.0006634243440962993],[0.00010606476238313525,0.0004269176037113194],[0.00010592459327093268,0.00043074206305802193],[0.0006044484195856063,0.0009244420182920321],[0.000786548364232538,0.0011047307875858801],[-3.7247905624912536e-05,0.0002678769178862776],[0.0004005744140614456,0.0007198532780278745],[3.1536115468910886e-05,0.0003681868542466382],[0.0005094483085221202,0.0008609029900570782],[0.00021626608485980983,0.0005824248327295882],[0.00034267524974862865,0.0006845292182096445],[0.0006156848679307256,0.0009720846261307842],[0.00010436928406178797,0.0004839890509756063],[4.295737585936418e-05,0.0004061570884489815],[0.0004026562280050848,0.0007264174373749835],[0.0008045458057796204,0.0011807037640425531],[0.00034413085875715024,0.0007264632304293528],[0.0001653802623452008,0.000528609918300723]]]]}}},\"view\":{\"type\":\"object\",\"name\":\"CDSView\",\"id\":\"p1604\",\"attributes\":{\"filter\":{\"type\":\"object\",\"name\":\"AllIndices\",\"id\":\"p1605\"}}},\"glyph\":{\"type\":\"object\",\"name\":\"MultiLine\",\"id\":\"p1600\",\"attributes\":{\"xs\":{\"type\":\"field\",\"field\":\"xs\"},\"ys\":{\"type\":\"field\",\"field\":\"ys\"},\"line_color\":{\"type\":\"value\",\"value\":\"#1f77b4\"}}},\"nonselection_glyph\":{\"type\":\"object\",\"name\":\"MultiLine\",\"id\":\"p1601\",\"attributes\":{\"xs\":{\"type\":\"field\",\"field\":\"xs\"},\"ys\":{\"type\":\"field\",\"field\":\"ys\"},\"line_color\":{\"type\":\"value\",\"value\":\"#1f77b4\"},\"line_alpha\":{\"type\":\"value\",\"value\":0.1}}},\"muted_glyph\":{\"type\":\"object\",\"name\":\"MultiLine\",\"id\":\"p1602\",\"attributes\":{\"xs\":{\"type\":\"field\",\"field\":\"xs\"},\"ys\":{\"type\":\"field\",\"field\":\"ys\"},\"line_color\":{\"type\":\"value\",\"value\":\"#1f77b4\"},\"line_alpha\":{\"type\":\"value\",\"value\":0.2}}}}},{\"type\":\"object\",\"name\":\"GlyphRenderer\",\"id\":\"p1612\",\"attributes\":{\"data_source\":{\"type\":\"object\",\"name\":\"ColumnDataSource\",\"id\":\"p1606\",\"attributes\":{\"selected\":{\"type\":\"object\",\"name\":\"Selection\",\"id\":\"p1607\",\"attributes\":{\"indices\":[],\"line_indices\":[]}},\"selection_policy\":{\"type\":\"object\",\"name\":\"UnionRenderers\",\"id\":\"p1608\"},\"data\":{\"type\":\"map\",\"entries\":[[\"x\",{\"type\":\"ndarray\",\"array\":{\"type\":\"bytes\",\"data\":\"xCCwcmgRCECoxks3iUEIQKabxCCwcghAikFg5dCiCEBSuB6F69EIQDVeukkMAglAGARWDi0yCUAW2c73U2MJQOBPjZdukglAw/UoXI/CCUDAyqFFtvMJQKRwPQrXIwpAbOf7qfFSCkBQjZduEoMKQE5iEFg5tApAMgisHFrkCkD6fmq8dBMLQN0kBoGVQwtA2/l+arx0C0C+nxov3aQLQIgW2c730wtAarx0kxgEDEBoke18PzUMQBSuR+F6lAxAEoPAyqHFDED2KFyPwvUMQNnO91PjJQ1AokW28/1UDUCF61G4HoUNQIPAyqFFtg1AZmZmZmbmDUAv3SQGgRUOQBKDwMqhRQ5AEFg5tMh2DkD0/dR46aYOQLx0kxgE1g5AukkMAisHD0Ce76fGSzcPQIGVQ4tsZw9ASgwCK4eWD0Atsp3vp8YPQCuHFtnO9w9AhxbZzvcTEEDsUbgehSsQQN4kBoGVQxBAXI/C9ShcEEBOYhBYOXQQQLKd76fGixBApHA9CtejEEAi2/l+arwQQBSuR+F61BBAeekmMQjsEEBqvHSTGAQRQOomMQisHBFA2/l+arw0EUBANV66SUwRQDIIrBxaZBFAsHJoke18EUCiRbbz/ZQRQAaBlUOLrBFAdr6fGi/dEUBoke18P/URQM3MzMzMDBJAvp8aL90kEkA+CtejcD0SQKJFtvP9VBJAlBgEVg5tEkCG61G4HoUSQARWDi2ynRJA9ihcj8K1EkBaZDvfT80SQMqhRbbz/RJAvHSTGAQWE0AhsHJokS0TQBKDwMqhRRNAku18PzVeE0D2KFyPwnUTQOj7qfHSjRNA2s73U+OlE0BYObTIdr4TQEoMAiuH1hNArkfhehTuE0CgGi/dJAYUQB6F61G4HhRAdZMYBFZOFEBmZmZmZmYUQObQItv5fhRASgwCK4eWFEA830+Nl64UQC6yne+nxhRArBxaZDvfFECe76fGS/cUQAIrhxbZDhVA9P3UeOkmFUA=\"},\"shape\":[94],\"dtype\":\"float64\",\"order\":\"little\"}],[\"y\",{\"type\":\"ndarray\",\"array\":{\"type\":\"bytes\",\"data\":\"gNOJ9eVTST8Av+KSXoxMP8D6mWZ74EU/4KwK3bNbRz+g+b9X4AVEP0A6jRcVuUA/YBkwmQhiRj/AxYAf1jU+PyDQv9wFOEE/oCIxnk3kQT/AnOO1FwE5P4Bdtkn8hy4/QN/9CNSvMT8AhRS1E748PwCbWbqYIz0/AAHG8iw7Lj9Ay5jfmAE7P8CYoHwLITE/gDjFSYdlOz9ApOSk4UE0P8BWRXSF/zE/gFk/vDq6IT8Abj1GqeM2P8AvZeDUuT0/AAt6d1pHNj/AUl7+IzM0P4BnhVVNdT0/wC14lD4JPD+Axp+V3IwhP4DrzPVm/ik/QPh7zod8Mz8AwvohD9osPwCqSlyQwBo/QM3qjkElNz8AAAAAAAAAAAABcpsuVBI/gFpvPWWwJz8APuOp0y4PPwC77aUMHjA/gGv62UAQJD+AkRymqKkwP0Aw4dzk20I/AK0EZbIoQT8gXzPilRhEPwAY0SRfBzM/gO2eiq1yLD8AzWWH2NEWPwA46ooFAC4/ADI2s20XPz+AA1rBw2s5PzBrUdEHh1E/0Mfico1IUT8Q1O15cgZZP+D2o8q8hFo/QC2XganSWT8w6lpyU/RZP6Ata+sZ9F0/8HTZizl7Wz9gscIcfx9dP0DhA1aywl0/EOJ5UgA3UT/AcFeNcbNVP8AVGF38zEg/YEWKtSwTTD9gBAzIF7dNP8ClsynDl0o/4I+7HD6eST9gpXpChWtCP+CQa7jUl0c/QLQA2dfvQj9AWxNItLpGP2AUdavMJUI/oDZITVybUT9AUlNw7hJFP+DKgO5mDEA/wCoEx+BkRj9AmRV+Bl5AP4C9iWHmmzE/AKk0Jd6mMT9AdEf/8/lIP0B9pkmh204/AIBMB0bFHT8gxZJTIaBCP4AQ28EExSo/YMpfAySLRj8APJb/aQ46P8ATV6BSzUA/IGxhKh70ST9AOT233EgzPwA/vHx0PC8/4HLHVdaAQj9ArmVd3yVQP0ADCBQfh0E/wGedQs1HNj8=\"},\"shape\":[94],\"dtype\":\"float64\",\"order\":\"little\"}]]}}},\"view\":{\"type\":\"object\",\"name\":\"CDSView\",\"id\":\"p1613\",\"attributes\":{\"filter\":{\"type\":\"object\",\"name\":\"AllIndices\",\"id\":\"p1614\"}}},\"glyph\":{\"type\":\"object\",\"name\":\"Circle\",\"id\":\"p1609\",\"attributes\":{\"x\":{\"type\":\"field\",\"field\":\"x\"},\"y\":{\"type\":\"field\",\"field\":\"y\"},\"fill_color\":{\"type\":\"value\",\"value\":\"black\"}}},\"nonselection_glyph\":{\"type\":\"object\",\"name\":\"Circle\",\"id\":\"p1610\",\"attributes\":{\"x\":{\"type\":\"field\",\"field\":\"x\"},\"y\":{\"type\":\"field\",\"field\":\"y\"},\"line_alpha\":{\"type\":\"value\",\"value\":0.1},\"fill_color\":{\"type\":\"value\",\"value\":\"black\"},\"fill_alpha\":{\"type\":\"value\",\"value\":0.1},\"hatch_alpha\":{\"type\":\"value\",\"value\":0.1}}},\"muted_glyph\":{\"type\":\"object\",\"name\":\"Circle\",\"id\":\"p1611\",\"attributes\":{\"x\":{\"type\":\"field\",\"field\":\"x\"},\"y\":{\"type\":\"field\",\"field\":\"y\"},\"line_alpha\":{\"type\":\"value\",\"value\":0.2},\"fill_color\":{\"type\":\"value\",\"value\":\"black\"},\"fill_alpha\":{\"type\":\"value\",\"value\":0.2},\"hatch_alpha\":{\"type\":\"value\",\"value\":0.2}}}}}],\"toolbar\":{\"type\":\"object\",\"name\":\"Toolbar\",\"id\":\"p1502\",\"attributes\":{\"tools\":[{\"type\":\"object\",\"name\":\"PanTool\",\"id\":\"p1516\"},{\"type\":\"object\",\"name\":\"WheelZoomTool\",\"id\":\"p1517\",\"attributes\":{\"renderers\":\"auto\"}},{\"type\":\"object\",\"name\":\"BoxZoomTool\",\"id\":\"p1518\",\"attributes\":{\"overlay\":{\"type\":\"object\",\"name\":\"BoxAnnotation\",\"id\":\"p1519\",\"attributes\":{\"syncable\":false,\"level\":\"overlay\",\"visible\":false,\"left\":{\"type\":\"number\",\"value\":\"nan\"},\"right\":{\"type\":\"number\",\"value\":\"nan\"},\"top\":{\"type\":\"number\",\"value\":\"nan\"},\"bottom\":{\"type\":\"number\",\"value\":\"nan\"},\"left_units\":\"canvas\",\"right_units\":\"canvas\",\"top_units\":\"canvas\",\"bottom_units\":\"canvas\",\"line_color\":\"black\",\"line_alpha\":1.0,\"line_width\":2,\"line_dash\":[4,4],\"fill_color\":\"lightgrey\",\"fill_alpha\":0.5}}}},{\"type\":\"object\",\"name\":\"SaveTool\",\"id\":\"p1524\"},{\"type\":\"object\",\"name\":\"ResetTool\",\"id\":\"p1525\"},{\"type\":\"object\",\"name\":\"HelpTool\",\"id\":\"p1526\"}]}},\"left\":[{\"type\":\"object\",\"name\":\"LinearAxis\",\"id\":\"p1511\",\"attributes\":{\"ticker\":{\"type\":\"object\",\"name\":\"BasicTicker\",\"id\":\"p1512\",\"attributes\":{\"mantissas\":[1,2,5]}},\"formatter\":{\"type\":\"object\",\"name\":\"BasicTickFormatter\",\"id\":\"p1513\"},\"axis_label\":\"Relative (Rp/Rs)^2\",\"axis_label_text_font\":\"times\",\"axis_label_text_font_size\":\"14pt\",\"axis_label_text_font_style\":\"bold\",\"major_label_policy\":{\"type\":\"object\",\"name\":\"AllLabels\",\"id\":\"p1514\"},\"major_label_text_font\":\"times\",\"major_label_text_font_size\":\"14pt\"}},{\"type\":\"object\",\"name\":\"Legend\",\"id\":\"p1581\",\"attributes\":{\"location\":[0,0],\"click_policy\":\"mute\",\"items\":[{\"type\":\"object\",\"name\":\"LegendItem\",\"id\":\"p1582\",\"attributes\":{\"label\":{\"type\":\"value\",\"value\":\"M/H=1,C/O=1\"},\"renderers\":[{\"id\":\"p1533\"}]}},{\"type\":\"object\",\"name\":\"LegendItem\",\"id\":\"p1583\",\"attributes\":{\"label\":{\"type\":\"value\",\"value\":\"M/H=1,C/O=2.5\"},\"renderers\":[{\"id\":\"p1542\"}]}},{\"type\":\"object\",\"name\":\"LegendItem\",\"id\":\"p1584\",\"attributes\":{\"label\":{\"type\":\"value\",\"value\":\"M/H=10,C/O=1\"},\"renderers\":[{\"id\":\"p1551\"}]}},{\"type\":\"object\",\"name\":\"LegendItem\",\"id\":\"p1585\",\"attributes\":{\"label\":{\"type\":\"value\",\"value\":\"M/H=10,C/O=2.5\"},\"renderers\":[{\"id\":\"p1560\"}]}},{\"type\":\"object\",\"name\":\"LegendItem\",\"id\":\"p1586\",\"attributes\":{\"label\":{\"type\":\"value\",\"value\":\"M/H=100,C/O=1\"},\"renderers\":[{\"id\":\"p1569\"}]}},{\"type\":\"object\",\"name\":\"LegendItem\",\"id\":\"p1587\",\"attributes\":{\"label\":{\"type\":\"value\",\"value\":\"M/H=100,C/O=2.5\"},\"renderers\":[{\"id\":\"p1578\"}]}}]}}],\"below\":[{\"type\":\"object\",\"name\":\"LinearAxis\",\"id\":\"p1506\",\"attributes\":{\"ticker\":{\"type\":\"object\",\"name\":\"BasicTicker\",\"id\":\"p1507\",\"attributes\":{\"mantissas\":[1,2,5]}},\"formatter\":{\"type\":\"object\",\"name\":\"BasicTickFormatter\",\"id\":\"p1508\"},\"axis_label\":\"Wavelength [\\u03bcm]\",\"axis_label_text_font\":\"times\",\"axis_label_text_font_size\":\"14pt\",\"axis_label_text_font_style\":\"bold\",\"major_label_policy\":{\"type\":\"object\",\"name\":\"AllLabels\",\"id\":\"p1509\"},\"major_label_text_font\":\"times\",\"major_label_text_font_size\":\"14pt\"}}],\"center\":[{\"type\":\"object\",\"name\":\"Grid\",\"id\":\"p1510\",\"attributes\":{\"axis\":{\"id\":\"p1506\"}}},{\"type\":\"object\",\"name\":\"Grid\",\"id\":\"p1515\",\"attributes\":{\"dimension\":1,\"axis\":{\"id\":\"p1511\"}}}]}}]}};\n",
       "  const render_items = [{\"docid\":\"afe1035d-bf44-45cc-9447-b87ac8921c33\",\"roots\":{\"p1494\":\"a52d6eb5-4a7a-442d-9974-c4ee3512ce2b\"},\"root_ids\":[\"p1494\"]}];\n",
       "  void root.Bokeh.embed.embed_items_notebook(docs_json, render_items);\n",
       "  }\n",
       "  if (root.Bokeh !== undefined) {\n",
       "    embed_document(root);\n",
       "  } else {\n",
       "    let attempts = 0;\n",
       "    const timer = setInterval(function(root) {\n",
       "      if (root.Bokeh !== undefined) {\n",
       "        clearInterval(timer);\n",
       "        embed_document(root);\n",
       "      } else {\n",
       "        attempts++;\n",
       "        if (attempts > 100) {\n",
       "          clearInterval(timer);\n",
       "          console.log(\"Bokeh: ERROR: Unable to run BokehJS code because BokehJS library is missing\");\n",
       "        }\n",
       "      }\n",
       "    }, 10, root)\n",
       "  }\n",
       "})(window);"
      ],
      "application/vnd.bokehjs_exec.v0+json": ""
     },
     "metadata": {
      "application/vnd.bokehjs_exec.v0+json": {
       "id": "p1494"
      }
     },
     "output_type": "display_data"
    }
   ],
   "source": [
    "show_spectra(chemistry_grid)"
   ]
  },
  {
   "cell_type": "markdown",
   "id": "de674027-3b0f-474e-bf6d-23f58d3ef3a3",
   "metadata": {},
   "source": [
    "### Check your understanding\n",
    "\n",
    "<div class=\"alert alert-block alert-info\">\n",
    "Let's investigate how our chemistry choices affect our model spectrum. Explore the figure above by clicking on the legend to remove different lines.\n",
    "\n",
    "Try looking only at lines that keep C/O steady while varying M/H from 1 to 10 to 100. What impact does the change in M/H ratio have on the spectrum? \n",
    "\n",
    ">You'll notice that as M/H increases, the CO$_2$ bump near 4.4 $\\mu$m initially grows and then shrinks. Why might this be?\n",
    "\n",
    "Now look at lines that keep M/H steady while varying C/O from 1 to 2.5. What impact does this change in C/O ratio have on the spectrum?\n",
    "\n",
    ">You'll notice that as C/O increases, the CO$_2$ bump near 4.4 $\\mu$m disappears while a new CH$_4$ line appears near 3.35 $\\mu$m. Why might this be?\n",
    "\n",
    "Some things to consider:\n",
    "\n",
    "1. Figure out what the top 4 most abundant oxygen- and carbon-bearing species are by looking at your chemistry grid.\n",
    "2. How does their abundance change when you vary the value of M/H?\n",
    "3. How does their abundance change when we increase C/O from 1 to 2.5?\n",
    "4. How does mean the atmosphere's molecular weight change when you vary M/H?\n",
    "5. Can you see that reflected in the spectrum?\n",
    "</div>"
   ]
  },
  {
   "cell_type": "markdown",
   "id": "ef70c27e-cec1-4ddc-a368-1f7a3ab98db7",
   "metadata": {},
   "source": [
    "<div class=\"alert alert-block alert-info\">\n",
    "Step 1: What are the most abundant species?\n",
    "</div>"
   ]
  },
  {
   "cell_type": "code",
   "execution_count": 323,
   "id": "3d0e368b-f7eb-43ac-afd7-8a4bded789b8",
   "metadata": {},
   "outputs": [
    {
     "name": "stdout",
     "output_type": "stream",
     "text": [
      "All available species:\n",
      " ['H+', 'H-', 'H2-', 'H2+', 'H3+', 'He', 'H2O', 'CH4', 'CO', 'NH3', 'N2', 'PH3', 'H2S', 'TiO', 'VO', 'Fe', 'FeH', 'CrH', 'Na', 'K', 'Rb', 'Cs', 'CO2', 'HCN', 'C2H2', 'C2H4', 'C2H6', 'SiO', 'MgH', 'OCS', 'graphite'] \n",
      "\n",
      "Carbon- and/or oxygen-bearing molecules:\n",
      " ['H2O', 'CH4', 'CO', 'TiO', 'VO', 'CrH', 'CO2', 'HCN', 'C2H2', 'C2H4', 'C2H6', 'SiO', 'OCS'] \n",
      "\n",
      "Total abundances:\n",
      " {'H2O': 0.0004790298958318596, 'CH4': 0.00012122001695561192, 'CO': 0.0003348041442098798, 'TiO': 6.924217147938881e-16, 'VO': 1.419841259774765e-13, 'CrH': 4.386862780514649e-14, 'CO2': 1.378169632859068e-07, 'HCN': 5.185155184803654e-10, 'C2H2': 4.635486363932272e-13, 'C2H4': 1.7278655737435817e-11, 'C2H6': 2.6744632544701352e-11, 'SiO': 3.839481998074262e-08, 'OCS': 4.740176011586402e-10} \n",
      "\n",
      "Top 4 carbon- and/or oxygen-bearing molecules:\n",
      " ['H2O', 'CO', 'CH4', 'CO2']\n"
     ]
    },
    {
     "data": {
      "text/plain": [
       "{'H2O': 0.0004790298958318596,\n",
       " 'CO': 0.0003348041442098798,\n",
       " 'CH4': 0.00012122001695561192,\n",
       " 'CO2': 1.378169632859068e-07}"
      ]
     },
     "execution_count": 323,
     "metadata": {},
     "output_type": "execute_result"
    }
   ],
   "source": [
    "# Write a function to identify the top most abundant species\n",
    "\n",
    "def find_top(grid, mh=1, co=1, n=4, method='sum', more=False):\n",
    "    \"\"\"\n",
    "    Find the n most abundant oxygen- and carbon-bearing molecules for a given M/H and C/O ratio.\n",
    "    \n",
    "    Parameters\n",
    "    ----------\n",
    "    grid: dict\n",
    "        chemistry grid\"\n",
    "    mh : int (optional)\n",
    "        M/H ratio relative to Solar\n",
    "    co : int (optional)\n",
    "        C/O ratio relative to Solar\n",
    "    n : int (optional)\n",
    "        number of molecules you want to identify\n",
    "    method : str (optional)\n",
    "        how you will calculate the abundance of a given species; options are 'sum', 'average', 'median'\n",
    "    more : boolean (optional)\n",
    "        if True, will print results of each step\n",
    "        \n",
    "    Returns\n",
    "    -------\n",
    "    top_dict\n",
    "        dictionary of the most abundant C- and O-bearing molecules and their total abundances\n",
    "    \"\"\"\n",
    "\n",
    "    # What are all the available species? (elements start in fourth column)\n",
    "    cols = grid[f'M/H={mh},C/O={co}']['full_output']['layer']['mixingratios'].columns.tolist()[3::]\n",
    "    if more == True:\n",
    "        print(\"All available species:\\n\", cols, \"\\n\")\n",
    "    \n",
    "    # Grab only the carbon- and/or oxygen-bearing molecules\n",
    "    filtered_cols = [mol for mol in cols if ('C' in mol or 'O' in mol) and 'Cs' not in mol]\n",
    "    if more == True:\n",
    "        print(\"Carbon- and/or oxygen-bearing molecules:\\n\", filtered_cols, \"\\n\")\n",
    "    \n",
    "    # Choose a value to represent the abundance for each molecule\n",
    "    tot_abun = {}\n",
    "    for mol in filtered_cols:\n",
    "        if method == 'sum': # Sum the abundance across all pressure layers\n",
    "            tot_abun[mol] = np.sum(grid[f'M/H={mh},C/O={co}']['full_output']['layer']['mixingratios'][mol].values)\n",
    "        elif method == 'average': # Choose the average abundance value\n",
    "            tot_abun[mol] = np.average(grid[f'M/H={mh},C/O={co}']['full_output']['layer']['mixingratios'][mol].values)\n",
    "        elif method == 'median': # Choose the median abundance value\n",
    "            tot_abun[mol] = np.median(grid[f'M/H={mh},C/O={co}']['full_output']['layer']['mixingratios'][mol].values)\n",
    "    if more == True:\n",
    "        print(\"Total abundances:\\n\", tot_abun, \"\\n\")\n",
    "    \n",
    "    # What are the 4 highest abundances?\n",
    "    top = sorted(tot_abun, key=tot_abun.get, reverse=True)[:n]\n",
    "    top_dict = {k: tot_abun[k] for k in top}\n",
    "    if more == True:\n",
    "        print(f\"Top {n} carbon- and/or oxygen-bearing molecules:\\n\", top)\n",
    "    \n",
    "    return top_dict\n",
    "\n",
    "# Uncomment to test\n",
    "find_top(chemistry_grid, method='average', more=True)"
   ]
  },
  {
   "cell_type": "markdown",
   "id": "b427a2c1-80eb-4e10-a5c6-c93e2b1f0aa4",
   "metadata": {},
   "source": [
    "<div class=\"alert alert-block alert-info\">\n",
    "Step 2: How do abundances change when varying M/H?\n",
    "</div>"
   ]
  },
  {
   "cell_type": "code",
   "execution_count": 324,
   "id": "c2cc3f66-cee2-4e39-a228-0c57738dc124",
   "metadata": {},
   "outputs": [
    {
     "name": "stdout",
     "output_type": "stream",
     "text": [
      "M/H=1, C/O=1: {'H2O': 0.02347246489576112, 'CO': 0.01640540306628411, 'CH4': 0.005939780830824984, 'CO2': 6.753031201009433e-06, 'SiO': 1.8813461790563885e-06}\n",
      "M/H=10, C/O=1: {'H2O': 0.2185250604558801, 'CO': 0.17710691385078847, 'CH4': 0.04504496666112111, 'CO2': 0.000723989181103345, 'OCS': 2.4728139305253643e-06}\n",
      "M/H=100, C/O=1: {'H2O': 1.8924648557869999, 'CO': 1.7886623800206625, 'CH4': 0.2885996747324129, 'CO2': 0.0735271764080157, 'OCS': 0.00023966865594069253}\n"
     ]
    },
    {
     "data": {
      "image/png": "[encoded data removed]",
      "text/plain": [
       "<Figure size 800x400 with 1 Axes>"
      ]
     },
     "metadata": {},
     "output_type": "display_data"
    }
   ],
   "source": [
    "# Visualize how the abundance of each molecule changes as M/H increases\n",
    "\n",
    "# Initialize an empty dictionary to store abundances\n",
    "abundances = {}\n",
    "\n",
    "# Loop through the M/H grid values\n",
    "for i, mh in enumerate(mh_grid_vals):\n",
    "    # Calculate total abundance of top 4 molecules for a given M/H value\n",
    "    top_dict = find_top(chemistry_grid, mh=mh, co=1, n=5, method='sum')\n",
    "    print(f'M/H={mh}, C/O=1:', top_dict)\n",
    "    \n",
    "    # Add molecule abundances dynamically and insert at the correct position\n",
    "    for molecule, abundance in top_dict.items():\n",
    "        if molecule not in abundances:\n",
    "            abundances[molecule] = [None] * len(mh_grid_vals)  # Initialize the list with None\n",
    "        abundances[molecule][i] = abundance  # Insert the abundance at the correct index\n",
    "\n",
    "# Plot abundance vs. M/H for top 4 molecules\n",
    "plt.figure(figsize=(8, 4), dpi=100)\n",
    "for molecule in abundances:\n",
    "    plt.plot(mh_grid_vals, abundances[molecule], marker='o', label=molecule)\n",
    "plt.yscale('log')\n",
    "plt.xscale('log')\n",
    "plt.xlabel('M/H (xSolar)')\n",
    "plt.ylabel('Total Abundance')\n",
    "plt.legend()\n",
    "plt.show()"
   ]
  },
  {
   "cell_type": "markdown",
   "id": "b1217d26-7da5-4d89-8d32-4fe5bb199fd2",
   "metadata": {},
   "source": [
    "<div class=\"alert alert-block alert-info\">\n",
    "We see that most species increase in abundance as metallicity increases, and they do so at different rates.\n",
    "</div>"
   ]
  },
  {
   "cell_type": "markdown",
   "id": "2184076a-fd2e-4f59-971b-b7d1d1fda2e1",
   "metadata": {},
   "source": [
    "<div class=\"alert alert-block alert-info\">\n",
    "Step 3: How do abundances change when varying C/O?\n",
    "</div>"
   ]
  },
  {
   "cell_type": "code",
   "execution_count": 329,
   "id": "6d0e4606-e89e-4c67-9c71-a7ccb0eb719d",
   "metadata": {},
   "outputs": [
    {
     "name": "stdout",
     "output_type": "stream",
     "text": [
      "M/H=1, C/O=1: {'H2O': 0.02347246489576112, 'CO': 0.01640540306628411, 'CH4': 0.005939780830824984, 'CO2': 6.753031201009433e-06}\n",
      "M/H=1, C/O=2.5: {'CO': 0.03206564994124713, 'CH4': 0.019218367983375697, 'H2O': 0.01024326280392872, 'SiO': 0.000543246569583086}\n"
     ]
    },
    {
     "data": {
      "image/png": "[encoded data removed]",
      "text/plain": [
       "<Figure size 800x400 with 1 Axes>"
      ]
     },
     "metadata": {},
     "output_type": "display_data"
    }
   ],
   "source": [
    "# Visualize how the abundance of each molecule changes as C/O increases\n",
    "\n",
    "# Initialize an empty dictionary to store abundances\n",
    "abundances = {}\n",
    "\n",
    "# Loop through the C/O grid values\n",
    "for i, co in enumerate(co_grid_vals):\n",
    "    # Calculate total abundance of top 4 molecules for a given C/O value\n",
    "    top_dict = find_top(chemistry_grid, mh=1, co=co, method='sum')\n",
    "    print(f'M/H=1, C/O={co}:', top_dict)\n",
    "    \n",
    "    # Add molecule abundances dynamically and insert at the correct position\n",
    "    for molecule, abundance in top_dict.items():\n",
    "        if molecule not in abundances:\n",
    "            abundances[molecule] = [None] * len(co_grid_vals)  # Initialize the list with None\n",
    "        abundances[molecule][i] = abundance  # Insert the abundance at the correct index\n",
    "\n",
    "# Plot abundance vs. C/O for top 4 molecules\n",
    "plt.figure(figsize=(8, 4), dpi=100)\n",
    "for molecule in abundances:\n",
    "    plt.plot(co_grid_vals, abundances[molecule], marker='o', label=molecule)\n",
    "plt.xlabel(\"C/O (xSolar)\")\n",
    "plt.ylabel(\"Total Abundance\")\n",
    "plt.legend()\n",
    "plt.show()"
   ]
  },
  {
   "cell_type": "markdown",
   "id": "e18306a7-f29b-41fe-b997-19abd8668f11",
   "metadata": {},
   "source": [
    "<div class=\"alert alert-block alert-info\">\n",
    "We see that as the ratio of carbon to oxygen increases, the abundance of carbon-bearing species (CH$_4$ and CO) grows while the abundance of H$_2$O declines.\n",
    "</div>"
   ]
  },
  {
   "cell_type": "markdown",
   "id": "bb16d7da-015e-4377-b66e-6e939f031b7a",
   "metadata": {},
   "source": [
    "<div class=\"alert alert-block alert-info\">\n",
    "Step 4: How does mean molecular weight vary with M/H?\n",
    "</div>"
   ]
  },
  {
   "cell_type": "code",
   "execution_count": 338,
   "id": "f35047ea-f989-4766-a927-fe1fdd18cc71",
   "metadata": {},
   "outputs": [
    {
     "data": {
      "image/png": "[encoded data removed]",
      "text/plain": [
       "<Figure size 800x400 with 1 Axes>"
      ]
     },
     "metadata": {},
     "output_type": "display_data"
    }
   ],
   "source": [
    "# Visualize how mean molecular weight changes with M/H\n",
    "\n",
    "# Get the average mean molecular weight of the atmosphere at each M/H value\n",
    "mmws = []\n",
    "for mh in mh_grid_vals:\n",
    "    mmws.append(np.mean(chemistry_grid[f'M/H={mh},C/O=1']['full_output']['layer']['mmw']))\n",
    "\n",
    "# Plot how the mean molecular weight of each molecules changes with M/H\n",
    "plt.figure(figsize=(8, 4), dpi=100)\n",
    "plt.plot(mh_grid_vals, mmws, marker='o')\n",
    "#plt.xscale('log')\n",
    "plt.xlabel('M/H (xSolar)')\n",
    "plt.ylabel('Mean $\\\\mu$')\n",
    "plt.show()"
   ]
  },
  {
   "cell_type": "markdown",
   "id": "10c67eff-9859-4a41-8a20-d787a2ecac35",
   "metadata": {},
   "source": [
    "<div class=\"alert alert-block alert-info\">\n",
    "We see that mean molecular weight increases linearly as M/H increases.\n",
    "</div>"
   ]
  },
  {
   "cell_type": "markdown",
   "id": "1c9bec5d-7438-4734-af68-e0b234502a65",
   "metadata": {},
   "source": [
    "<div class=\"alert alert-block alert-info\">\n",
    "Step 5: Can you see this reflected in the spectrum?\n",
    "<br>\n",
    "<br>\n",
    "What impact does the change in M/H ratio have on the spectrum? \n",
    "    \n",
    "<details>\n",
    "  <summary><b>Click to expand</b></summary>\n",
    "<i>Why a feature might grow:</i> The strength of a spectral feature is impacted by a molecule's abundance. When we increase atmospheric metallicity, we are increasing the raw abundance of all elements heavier than hydrogen. Complicated chemical processes ensue, resulting in a new distribution of molecules constructed from those raw elements. Some molecules (e.g., CO$_2$) are more sensitive to changes in metallicity than others (e.g., H$_2$O), so although the abundance of all molecules will increase as metallicity increases, they will do so at different rates.\n",
    "<br><br>\n",
    "<i>Why a feature might shrink:</i> The strength of all spectral features is tied to the scale height of the atmosphere. Scale height is proportional to temperature and inversely proportional to mean molecular weight ($\\mu$). If the atmosphere is heavier (i.e., bigger M/H, bigger $\\mu$), its scale height will decrease (i.e. it will cling closer to the planet), and consequently all absorption features will decrease in amplitude.\n",
    "<br><br>\n",
    "The overall strength of any feature is related both to the molecule's abundance (which is increasing as M/H increases) and the atmosphere's scale height (which is decreasing as M/H increases).\n",
    "<br><br>\n",
    "<i>What's going on with CO$_2$ while M/H changes (at low C/O):</i> When C/O was held constant at a low value of 1, and M/H was varied from 1 to 10 to 100, we saw the CO$_2$ feature at 4.4 $\\mu$m increased then decreased. We might infer that it crossed a certain critical M/H threshold, at which point the damping impact of the decreasing scale height overpowered the amplifying impact of the rising abundance.\n",
    "<br><br>\n",
    "<i>What's going on with CH$_4$ while M/H changes (at high C/O):</i> When C/O was held constant at a high value of 2.5, and M/H was varied from 1 to 10 to 100, we saw the CH$_4$ feature (embedded within H$_2$O continuum) near 3.35 $\\mu$m shrink smaller and smaller. Our explorations showed that H$_2$O and CH$_4$ both increase in abundance at the same rate when M/H is increased, thus their features <i>relative to one another</i> should not change as M/H changes. However, as M/H increases, so does the mean molecular weight, and thus the scale height shrinks, causing all features to be damped. This damping explains why the CH$_4$ feature and the surrounding H$_2$O background both diminish in tandem as M/H grows.\n",
    "</details>\n",
    "    \n",
    "<br>\n",
    "What impact does the change in C/O ratio have on the spectrum?\n",
    "<details>\n",
    "  <summary><b>Click to expand</b></summary>\n",
    "As noted above, we saw different spectral features at low vs. high C/O. We noticed when C/O is low that there is a prominent CO$_2$ feature, whereas when C/O is high we see a prominent CH$_4$ feature. As the C/O ratio increases, there is proportionally more carbon in the atmosphere, facilitating reactions that alter the relative abundance of various carbon-bearing species. One of the most important reactions that takes place is CO$_2$ + H$_2$ $\\rightarrow$ CH$_4$ + H$_2$O. Generally, when C/O increases from $<$ to $>$ 2 x Solar, you go from a carbon dioxide dominated system to one dominated by methane.\n",
    "\n",
    "</details>\n",
    "</div>"
   ]
  },
  {
   "cell_type": "markdown",
   "id": "2d4d3203",
   "metadata": {
    "id": "dd746bf8-c73e-4406-ae58-1b5286723437"
   },
   "source": [
    "## Revisiting Climate Assumption\n",
    "\n",
    "1D Radiative-Convective Equilibrium Models solve for atmospheric structures of brown dwarfs and exoplanets, which includes:\n",
    "\n",
    "1\\. The Temperature Structure (T(P) profile)\n",
    "\n",
    "2\\. The Chemical Structure\n",
    "\n",
    "\n",
    "But these physical components are not independent of each other. For example, the chemistry is dependent on the T(P) profile.\n",
    "\n",
    "`PICASO` tries to find the atmospheric state of your object by taking care of all of these processes and their interconnections self-consistently and iteratively. Therefore, you will find that the climate portion of `PICASO` is slower than running a single forward model evaluation.\n",
    "\n",
    "### Starting a climate run\n",
    "\n",
    "#### Correlated-K Tables where to download them?\n",
    "\n",
    "Earlier when we created a model atmosphere run we needed to edit our call to `opannection`. For climate calculations we need to make sure that we are covering the full range of the planetary energy distribution, which usually amounts to ~0.3-300 $\\mu$m. This would be prohibitively slow if we used our same monochromatic opacities. Therefore, we instead use correlated-k tables which are on a very low resolution grid with only 196 wavelength points spanning 0.3-300 $\\mu$m. We compute these correlated-K tables **as a function of M/H and C/O**. Therefore, unlike before, we are setting the chemistry of our calculation up front by specifying the correlated-K table.\n"
   ]
  },
  {
   "cell_type": "markdown",
   "id": "6f7e377d-5b31-40f7-905b-a3db416e91e0",
   "metadata": {},
   "source": [
    "<div class=\"alert alert-block alert-info\">\n",
    "^Mmm, a little fuzzy on what this means.\n",
    "</div>"
   ]
  },
  {
   "cell_type": "code",
   "execution_count": null,
   "id": "757bf2ac",
   "metadata": {
    "id": "42932183-76cd-49b4-bb94-95db400f5105"
   },
   "outputs": [],
   "source": [
    "# mh = '+100'#'+1.0' #log metallicity\n",
    "# CtoO = '100'#'1.0' # CtoO ratio\n",
    "# #ck_dir = 'your-path-to-correlated-tables'\n",
    "# ck_db = os.path.join(ck_dir,\n",
    "#                      f'sonora_2020_feh{mh}_co_{CtoO}.data.196')\n",
    "\n",
    "# opacity_ck = jdi.opannection(ck_db=ck_db) # grab your opacities\n",
    "\n"
   ]
  },
  {
   "cell_type": "code",
   "execution_count": null,
   "id": "05949619-7339-49c0-9a58-19e5133465e0",
   "metadata": {},
   "outputs": [],
   "source": [
    "##### REWA #####\n",
    "\n",
    "# I already defined my path to the sonora correlated k files at the top of the notebook thus:\n",
    "#ck_dir = os.path.join(picaso_data_dir, 'correlated_k_tables')\n",
    "\n",
    "mh = '+100'#'+1.0' # log metallicity\n",
    "CtoO = '100'#'1.0' # CtoO ratio\n",
    "ck_db = os.path.join(ck_dir,\n",
    "                     f'sonora_2020_feh{mh}_co_{CtoO}_noTiOVO.data.196') # I had to change this line to match my data files\n",
    "\n",
    "opacity_ck = jdi.opannection(ck_db=ck_db) # grab your opacities\n"
   ]
  },
  {
   "cell_type": "markdown",
   "id": "ca48d06b-91d9-4a09-9a09-e2db34152f11",
   "metadata": {},
   "source": [
    "<div class=\"alert alert-block alert-info\">\n",
    "^I know this isn't one of the file options, but shouldn't we used mh = 100 and CtoO = 1, since we found those created the best reduced-chi-squared fit?\n",
    "</div>"
   ]
  },
  {
   "cell_type": "markdown",
   "id": "ce32d44e",
   "metadata": {
    "id": "16ae3740"
   },
   "source": [
    "#### Effective and Intrinsic Temperatures\n",
    "\n",
    "You will notice that starting a run is nearly identical as running a spectrum. However, how we will add `climate=True` to our inputs flag, telling PICASO to create a climate. Let's create a new object or \"case\" where we are running the exact same parameters of the star, planet but now we are going to end with the goal of having a climate model.\n",
    "\n",
    "New Parameter: **Effective Temperature**. This excerpt from [Modeling Exoplanetary Atmospheres (Fortney et al)](https://arxiv.org/pdf/1804.08149.pdf) provides a thorough description and more reading, if you are interested.\n",
    "\n",
    ">If the effective temperature, $T_{eff}$, is defined as the temperature of a blackbody of\n",
    "the same radius that would emit the equivalent flux as the real planet, $T_{eff}$ and $T_{eq}$\n",
    "can be simply related. This relation requires the inclusion of a third temperature,\n",
    "$T_{int}$, the intrinsic effective temperature, that describes the flux from the planet’s\n",
    "interior. These temperatures are related by:\n",
    "\n",
    ">$T_{eff} =  T_{int} + T_{eq}$\n",
    "\n",
    ">We then recover our limiting cases: if a planet is self-luminous (like a young giant\n",
    "planet) and far from its parent star, $T_{eff} \\approx  T_{int}$; for most rocky planets, or any\n",
    "planets under extreme stellar irradiation, $T_{eff} \\approx T_{eq}$.\n"
   ]
  },
  {
   "cell_type": "markdown",
   "id": "abd2e642-6051-44d7-b89a-7a7ea90c73cb",
   "metadata": {},
   "source": [
    "<div class=\"alert alert-block alert-info\">\n",
    "^What does \"starting a run\" refer to here?\n",
    "\n",
    "What does \"create a climate\" really mean? I thought we already \"created a climate\" earlier when we defined Temperature as a function of Pressure layers (and by setting T(P)=const we made it an isothermal climate).\n",
    "\n",
    "Is it useful to define equilibrium temperature somewhere?\n",
    "\n",
    "Why are we making a new object, rather than adding a more complex climate to our last model? Is that so we can compare the new complex climate version with the isothermal climate version?\n",
    "</div>"
   ]
  },
  {
   "cell_type": "code",
   "execution_count": null,
   "id": "8a180b5d",
   "metadata": {
    "id": "9560151e"
   },
   "outputs": [],
   "source": [
    "cl_run = jdi.inputs(calculation=\"planet\", climate = True) # start a calculation\n",
    "\n",
    "semi_major = 0.0486 # star planet distance, AU\n",
    "cl_run.star(opacity_ck, temp=5400 , database='phoenix',\n",
    "         metal=0.01, logg=4.45, radius=0.9, radius_unit=jdi.u.R_sun,\n",
    "            #note, now we need to know the planet-star separation!\n",
    "         semi_major= semi_major, semi_major_unit = jdi.u.AU)\n",
    "\n",
    "\n",
    "cl_run.gravity(mass=0.28, mass_unit=jdi.u.M_jup,\n",
    "             radius=1.27, radius_unit=jdi.u.R_jup)\n",
    "\n",
    "# Intrinsic temperature of your planet in K\n",
    "# Let's keep this fixed for now\n",
    "tint= 200\n",
    "cl_run.effective_temp(tint) # input intrinsic temperature\n"
   ]
  },
  {
   "cell_type": "markdown",
   "id": "159dd281",
   "metadata": {
    "id": "a67de9ff"
   },
   "source": [
    "### Initial T(P)  Guess\n",
    "\n",
    "Every calculation requires an initial guess of the pressure temperature profile. The code will iterate from there to find the correct solution. A few tips:\n",
    "\n",
    "1. We recommend **using typically 51-91 atmospheric pressure levels**. Too many pressure layers increases the computational time required for convergence. Too few layers makes the atmospheric grid too coarse for an accurate calculation.\n",
    "\n",
    "2. Start with **a guess that is close to your expected solution**. One easy way to get fairly close is by using the Guillot et al 2010 temperature-pressure profile approximation.\n"
   ]
  },
  {
   "cell_type": "code",
   "execution_count": null,
   "id": "c8f5f01c",
   "metadata": {
    "id": "d0a47c74"
   },
   "outputs": [],
   "source": [
    "nlevel = 91 # number of plane-parallel levels in your code\n",
    "\n",
    "# Let's set the max and min at 1e-4 bars and 500 bars\n",
    "pt = cl_run.guillot_pt(equilibrium_temperature, nlevel=nlevel, T_int = tint, p_bottom=2, p_top=-6)\n",
    "temp_guess = pt['temperature'].values\n",
    "pressure = pt['pressure'].values"
   ]
  },
  {
   "cell_type": "markdown",
   "id": "825cc319-7182-4474-b7f5-483f10da9373",
   "metadata": {},
   "source": [
    "<div class=\"alert alert-block alert-info\">\n",
    "^The comment in the above block of code says it's setting the pressure from 10^-4 to 500 bars. But the next line actually sets it from from 10^-6 to 10^2, which is 1 microbar to 100 bars of pressure. Which is it?\n",
    "</div>"
   ]
  },
  {
   "cell_type": "markdown",
   "id": "76c0a7fd",
   "metadata": {
    "id": "c4132d98"
   },
   "source": [
    "### Initial Convective Zone Guess\n",
    "\n",
    "You also need to have a crude guess of the convective zone of your atmosphere. Generally the deeper atmosphere is always convective. Again a good guess is always the published SONORA grid of models for this. But lets assume that the bottom 7 levels of the atmosphere is convective."
   ]
  },
  {
   "cell_type": "markdown",
   "id": "292d4ed0-60dc-4ece-a1ef-442955c7c26f",
   "metadata": {},
   "source": [
    "<div class=\"alert alert-block alert-info\">\n",
    "^When it says \"Again a good guess is always the published SONORA grid of models for this,\" it makes it sound like this was discussed before, but this is the first mention of convection or the purpose of SONORA.\n",
    "</div>"
   ]
  },
  {
   "cell_type": "markdown",
   "id": "d1b74646-40ab-4027-9268-8144f6c0249c",
   "metadata": {},
   "source": [
    "**New Parameters:**\n",
    "\n",
    "1. `nofczns` : Number of convective zones. Though the code has functionality to solve for more than one. In this basic tutorial, let's stick to 1 for now.\n",
    "2. `rfacv`: (See Mukherjee et al Eqn. 20 `r_st`) https://arxiv.org/pdf/2208.07836.pdf\n",
    "\n",
    "Non-zero values of rst (aka \"rfacv\" legacy terminology) is only relevant when the external irradiation on the atmosphere is non-zero. In the scenario when a user is computing a planet-wide average T(P) profile, the stellar irradiation is contributing to 50% (one hemisphere) of the planet and as a result rfacv = 0.5. If instead the goal is to compute a night-side average atmospheric state, rfacv is set to be 0. On the other extreme, to compute the day-side atmospheric state of a tidally locked planet rfacv should be set at 1."
   ]
  },
  {
   "cell_type": "code",
   "execution_count": null,
   "id": "ace2c616",
   "metadata": {
    "id": "30cc2bf3"
   },
   "outputs": [],
   "source": [
    "nofczns = 1 # Number of convective zones initially. Let's not play with this for now.\n",
    "\n",
    "nstr_upper = 85 # Top most level of guessed convective zone.\n",
    "nstr_deep = nlevel -2 # This is always the case. Dont change this.\n",
    "nstr = np.array([0,nstr_upper,nstr_deep,0,0,0]) # Initial guess of convective zones.\n",
    "\n",
    "# Here are some other parameters needed for the code.\n",
    "rfacv = 0.5 # Let's assume perfect heat redistribution."
   ]
  },
  {
   "cell_type": "markdown",
   "id": "4262583e-53f2-4aa9-9606-d70a435acbd1",
   "metadata": {},
   "source": [
    "<div class=\"alert alert-block alert-info\">\n",
    "OK so I'm understanding that pressure layers are counted from the top down, where the top of the atmosphere is the first layer (1) and has the lowest pressure, and the bottom (ground-hugging) 7 layers of the atmosphere are the most dense and convective (layers 85-91)?\n",
    "</div>"
   ]
  },
  {
   "cell_type": "markdown",
   "id": "c141f8d3",
   "metadata": {
    "id": "249a2e67"
   },
   "source": [
    "Now we would use the inputs_climate function to input everything together to our cl_run we started."
   ]
  },
  {
   "cell_type": "code",
   "execution_count": null,
   "id": "a92e4253",
   "metadata": {
    "id": "aede1b78"
   },
   "outputs": [],
   "source": [
    "cl_run.inputs_climate(temp_guess = temp_guess, pressure = pressure,\n",
    "                      nstr = nstr, nofczns = nofczns, rfacv = rfacv)"
   ]
  },
  {
   "cell_type": "markdown",
   "id": "be522c56",
   "metadata": {
    "id": "ac19b705"
   },
   "source": [
    "### Run the Climate Code\n",
    "\n",
    " The actual climate code can be run with the cl_run.run command. The save_all_profiles is set to True to save the T(P) profile at all steps. The code will now iterate from your guess to reach the correct atmospheric solution for your exoplanet.\n",
    "\n",
    "This will take a few minutes (~3 to 10 min)"
   ]
  },
  {
   "cell_type": "code",
   "execution_count": null,
   "id": "4324b186",
   "metadata": {
    "id": "b3293289",
    "scrolled": true
   },
   "outputs": [],
   "source": [
    "clima_out = cl_run.climate(opacity_ck, save_all_profiles=True, with_spec=True)"
   ]
  },
  {
   "cell_type": "markdown",
   "id": "8b31bb99",
   "metadata": {
    "id": "70c22504"
   },
   "source": [
    "Let's visually confirm the convergence through a plot animation"
   ]
  },
  {
   "cell_type": "code",
   "execution_count": null,
   "id": "958140a9",
   "metadata": {
    "id": "ce5b3b97"
   },
   "outputs": [],
   "source": [
    "ani = jpi.animate_convergence(clima_out, cl_run, opacity_ck,\n",
    "                              calculation='transmission',\n",
    "    molecules=['H2O','CH4','CO','CO2'])"
   ]
  },
  {
   "cell_type": "code",
   "execution_count": null,
   "id": "c39e411f",
   "metadata": {
    "id": "f4f1bec6"
   },
   "outputs": [],
   "source": [
    "ani"
   ]
  },
  {
   "cell_type": "markdown",
   "id": "21bc4180-4694-4b8a-a24f-a0b586b02dba",
   "metadata": {},
   "source": [
    "<div class=\"alert alert-block alert-info\">\n",
    "How are the animations showing a convergence? What is converging? I'm not sure what I'm supposed to get out of these plots. \n",
    "</div>"
   ]
  },
  {
   "cell_type": "markdown",
   "id": "5d37c375",
   "metadata": {
    "id": "1ce54cda"
   },
   "source": [
    "Nice! Our initial parameterized guess wasn't too far from the final converged solution. Let's add this climate pressure-temperature chemical information we just made back to our original WASP-39b object or \"case\", and see how it affects our spectrum."
   ]
  },
  {
   "cell_type": "code",
   "execution_count": null,
   "id": "153e1eb4",
   "metadata": {
    "id": "fa39d584"
   },
   "outputs": [],
   "source": [
    "# Let's go back to our initial object or \"case\" that we were using for our transit spectra.\n",
    "w39.atmosphere(df=clima_out['ptchem_df'])\n",
    "df_spec = w39.spectrum(opa, calculation='transmission', full_output=True)\n",
    "show_spectra({'clima':df_spec})\n",
    "\n",
    "print(f'Converged Climate Model Chi sq=', chisqr(df_spec ))"
   ]
  },
  {
   "cell_type": "markdown",
   "id": "422e23c1",
   "metadata": {
    "id": "4c32f3c9"
   },
   "source": [
    "### Add manual chemistry to model"
   ]
  },
  {
   "cell_type": "markdown",
   "id": "52d7a2a8",
   "metadata": {},
   "source": [
    "Let's create an object or \"case\" where SO$_2$ is present and see if that will create a model with a better fit to the data."
   ]
  },
  {
   "cell_type": "code",
   "execution_count": null,
   "id": "3af71add",
   "metadata": {
    "id": "e036f764"
   },
   "outputs": [],
   "source": [
    "so2_case = jdi.copy.deepcopy(w39)\n",
    "# Let's consider again our simple cloud case\n",
    "so2_case.clouds(p=[1], dp=[4.5], opd=[1], g0=[0], w0=[0])\n",
    "\n",
    "# Let's explore\n",
    "so2_abundance = [1e-7,1e-6,1e-5]\n",
    "so2_models = {}\n",
    "for iso2 in so2_abundance:\n",
    "    so2_case.inputs['atmosphere']['profile']['SO2']=iso2\n",
    "    df_spec_so2 = so2_case.spectrum(opa, calculation='transmission',full_output=True)\n",
    "    so2_models[f'{iso2}']=df_spec\n",
    "    print(f'Chi-Sq of SO2={iso2}:' ,chisqr(df_spec))\n",
    "show_spectra(so2_models)"
   ]
  },
  {
   "cell_type": "markdown",
   "id": "ff99df89-a402-420f-889c-ce5b906c2d0a",
   "metadata": {},
   "source": [
    "<div class=\"alert alert-block alert-info\">\n",
    "^All three so2 models are identical, so you only see the final (yellow) line that is plotted. Also it looks the same as the plot in the previous section (7.3.4). There was a typo in the code (it used df_spec instead of df_spec_so2), fixed below.\n",
    "\n",
    "This is the first time we've considered clouds, so I'm not sure why the comment says \"Let's consider again...\" Why does adding sulfur dioxide introduce clouds?\n",
    "</div>"
   ]
  },
  {
   "cell_type": "code",
   "execution_count": null,
   "id": "ae60a8da-fe1f-4b7f-8c84-bda034b25b41",
   "metadata": {},
   "outputs": [],
   "source": [
    "##### REWA #####\n",
    "\n",
    "so2_case = jdi.copy.deepcopy(w39)\n",
    "# Let's consider again our simple cloud case\n",
    "so2_case.clouds(p=[1], dp=[4.5], opd=[1], g0=[0], w0=[0])\n",
    "\n",
    "# Let's explore\n",
    "so2_abundance = [1e-7,1e-6,1e-5]\n",
    "so2_models = {}\n",
    "for iso2 in so2_abundance:\n",
    "    so2_case.inputs['atmosphere']['profile']['SO2']=iso2\n",
    "    df_spec_so2 = so2_case.spectrum(opa, calculation='transmission',full_output=True)\n",
    "    so2_models[f'{iso2}']=df_spec_so2 # This line had the typo\n",
    "    print(f'Chi-Sq of SO2={iso2}:' ,chisqr(df_spec_so2)) # This line had the typo\n",
    "show_spectra(so2_models)"
   ]
  },
  {
   "cell_type": "markdown",
   "id": "c9131518-2ecd-4fef-b0e2-9b9ef9598d85",
   "metadata": {},
   "source": [
    "<div class=\"alert alert-block alert-info\">\n",
    "Looks like adding sulfur dioxide with an abundance of 1e-05 improved the fit!\n",
    "</div>"
   ]
  },
  {
   "cell_type": "markdown",
   "id": "7f807868",
   "metadata": {
    "id": "c7a9e749"
   },
   "source": [
    "# Xarray output (.nc) the model"
   ]
  },
  {
   "cell_type": "markdown",
   "id": "409be6e5",
   "metadata": {},
   "source": [
    "Now that we have our models created and all done, let's save our climate model as an [Xarray](https://docs.xarray.dev/en/stable/). This is a great tool to neatly wrap all of your models. This is very useful because we can continue our analysis from low-fidelty PICASO to the high fidelty bayesian fitting (which is the next tutorial)! It also allows anyone else to take a look and analyze the models you have created very easily."
   ]
  },
  {
   "cell_type": "markdown",
   "id": "e137d4ea",
   "metadata": {},
   "source": [
    "## Save W39 case w/o SO2"
   ]
  },
  {
   "cell_type": "code",
   "execution_count": null,
   "id": "a9a50f84",
   "metadata": {},
   "outputs": [],
   "source": [
    "# savefile=\"W39b_climate.nc\"\n",
    "# xarr_no_so2=jdi.output_xarray(df_spec, w39, savefile=os.path.join(picaso_tutorial_dir, savefile))"
   ]
  },
  {
   "cell_type": "code",
   "execution_count": null,
   "id": "66a68683-0000-4014-ace3-68fbdcfef674",
   "metadata": {},
   "outputs": [],
   "source": [
    "##### REWA #####\n",
    "\n",
    "savefile=\"W39b_climate.nc\"\n",
    "xarr_no_so2=jdi.output_xarray(df_spec, w39, savefile=os.path.join(w39_data_dir, savefile))"
   ]
  },
  {
   "cell_type": "code",
   "execution_count": null,
   "id": "7604e1de",
   "metadata": {
    "scrolled": true
   },
   "outputs": [],
   "source": [
    "xarr_no_so2"
   ]
  },
  {
   "cell_type": "markdown",
   "id": "b0477766",
   "metadata": {},
   "source": [
    "### Access Xarray values similarly to a regular array"
   ]
  },
  {
   "cell_type": "code",
   "execution_count": null,
   "id": "a3a22666",
   "metadata": {},
   "outputs": [],
   "source": [
    "xarr_no_so2.keys()"
   ]
  },
  {
   "cell_type": "code",
   "execution_count": null,
   "id": "0b3977d8",
   "metadata": {
    "scrolled": true
   },
   "outputs": [],
   "source": [
    "xarr_no_so2['temperature']"
   ]
  },
  {
   "cell_type": "markdown",
   "id": "ef514806",
   "metadata": {},
   "source": [
    "## Save SO2 case"
   ]
  },
  {
   "cell_type": "code",
   "execution_count": null,
   "id": "86e85e35",
   "metadata": {},
   "outputs": [],
   "source": [
    "# savefile=\"W39b_climate_so2.nc\"\n",
    "# xarr_so2=jdi.output_xarray(df_spec_so2, so2_case, savefile=os.path.join(picaso_tutorial_dir, savefile))"
   ]
  },
  {
   "cell_type": "code",
   "execution_count": null,
   "id": "cbe6cce0-5c95-4ad6-a598-bdfd54e4cd6c",
   "metadata": {},
   "outputs": [],
   "source": [
    "##### REWA #####\n",
    "\n",
    "savefile=\"W39b_climate_so2.nc\"\n",
    "xarr_so2=jdi.output_xarray(df_spec_so2, so2_case, savefile=os.path.join(w39_data_dir, savefile))"
   ]
  },
  {
   "cell_type": "code",
   "execution_count": null,
   "id": "8719b02b",
   "metadata": {
    "scrolled": true
   },
   "outputs": [],
   "source": [
    "xarr_so2"
   ]
  },
  {
   "cell_type": "markdown",
   "id": "2561763a",
   "metadata": {},
   "source": [
    "### Access Xarray values similarly to a regular array"
   ]
  },
  {
   "cell_type": "code",
   "execution_count": null,
   "id": "e38e8850",
   "metadata": {},
   "outputs": [],
   "source": [
    "xarr_so2.keys()"
   ]
  },
  {
   "cell_type": "code",
   "execution_count": null,
   "id": "0623a5be",
   "metadata": {},
   "outputs": [],
   "source": [
    "xarr_so2['pressure']"
   ]
  },
  {
   "cell_type": "markdown",
   "id": "ca03c188",
   "metadata": {},
   "source": [
    "Note that this has been a simplfied analysis of WASP-39b. A further analysis would include thick/thin clouds and photochemistry, which is below!"
   ]
  },
  {
   "cell_type": "markdown",
   "id": "80dd36d5",
   "metadata": {},
   "source": [
    "## Further Complex Modeling with Virga"
   ]
  },
  {
   "cell_type": "markdown",
   "id": "bf58e8c8",
   "metadata": {},
   "source": [
    "Unfortunately, not every analysis will be this simple! In the case of WASP-39b, there may be some extra chemicals in the atmosphere (like SO2 we just added!) or even clouds we will have to \"inject\" into the model after the core parameters. In this section, we will be focusing on the basics of `virga` and how clouds are introduced and affect the complexity of your model."
   ]
  },
  {
   "cell_type": "markdown",
   "id": "499beff0",
   "metadata": {},
   "source": [
    "You should already have [virga](https://natashabatalha.github.io/virga/installation.html) installed from the notebook `AnalyzeExoplanet_1_picaso_setup`. Let's first begin by seeing what gas condensates we can work with."
   ]
  },
  {
   "cell_type": "markdown",
   "id": "356ec324",
   "metadata": {},
   "source": [
    "Let's import virga and re-open that PICASO analysis we just did above."
   ]
  },
  {
   "cell_type": "markdown",
   "id": "dac14004",
   "metadata": {},
   "source": [
    "### Importing Virga and Xarray"
   ]
  },
  {
   "cell_type": "code",
   "execution_count": null,
   "id": "8e76933d",
   "metadata": {},
   "outputs": [],
   "source": [
    "# Here is virga\n",
    "import virga.justdoit as vjdi\n",
    "import virga.justplotit as vjpi\n",
    "from bokeh.io import output_notebook\n",
    "from bokeh.plotting import show, figure\n",
    "from bokeh.palettes import Colorblind\n"
   ]
  },
  {
   "cell_type": "code",
   "execution_count": null,
   "id": "be8b4fcc",
   "metadata": {
    "scrolled": true
   },
   "outputs": [],
   "source": [
    "# # Open xarray\n",
    "# import xarray as xr\n",
    "# xarr_no_so2 = xr.open_dataset(os.path.join(picaso_tutorial_dir,\"W39b_climate.nc\"))\n",
    "# xarr_no_so2"
   ]
  },
  {
   "cell_type": "code",
   "execution_count": null,
   "id": "94596ca3-9477-47d1-9faa-237545a2c15b",
   "metadata": {},
   "outputs": [],
   "source": [
    "##### REWA #####\n",
    "\n",
    "# Open xarray\n",
    "import xarray as xr\n",
    "xarr_no_so2 = xr.open_dataset(os.path.join(w39_data_dir,\"W39b_climate.nc\"))\n",
    "xarr_no_so2"
   ]
  },
  {
   "cell_type": "markdown",
   "id": "90bec1ae",
   "metadata": {},
   "source": [
    "### Choosing a Gas Condensate"
   ]
  },
  {
   "cell_type": "code",
   "execution_count": null,
   "id": "52aec636",
   "metadata": {},
   "outputs": [],
   "source": [
    "# Check gas species to choose from\n",
    "vjdi.available()"
   ]
  },
  {
   "cell_type": "markdown",
   "id": "a68228ae",
   "metadata": {},
   "source": [
    "We have a lot to choose from! If you already know which you want present, then you can skip past to the next section. Otherwise, let's see what recommended gas condensates virga believes we should look into more."
   ]
  },
  {
   "cell_type": "code",
   "execution_count": null,
   "id": "f09ec408",
   "metadata": {},
   "outputs": [],
   "source": [
    "pressure = xarr_no_so2['pressure']\n",
    "temperature = xarr_no_so2['temperature']\n",
    "metallicity = 1 # Atmospheric metallicity relative to Solar (for anything above 1, you will need to do your own chemical equilbrium)\n",
    "mean_molecular_weight = 2.2 # Atmospheric mean molecular weight\n",
    "\n",
    "# Get virga recommendation for which gases to run\n",
    "recommended = vjdi.recommend_gas(pressure, temperature, metallicity, mean_molecular_weight)\n",
    "# Print the results\n",
    "print(recommended)"
   ]
  },
  {
   "cell_type": "markdown",
   "id": "78b574f5",
   "metadata": {},
   "source": [
    "Virga recommends that we use the following gases above. Although Virga recommends it, it doesn't mean you need to have it or it is even there physically. It is simply stating that these gases can physically exist, although they may not be present. For the sakes of this tutorial, we will be choosing *MnS, Na2S, MgSi03*. \n",
    "\n",
    "**NATASHA: can you put some more science on why we chose those and the importance.**"
   ]
  },
  {
   "cell_type": "markdown",
   "id": "1db5714e",
   "metadata": {},
   "source": [
    "### Creating a Case and Running the Code"
   ]
  },
  {
   "cell_type": "markdown",
   "id": "43425b62",
   "metadata": {},
   "source": [
    "Our next step is to define our Mie scattering directory and begin to build our object with the appropriate atmosphere, gravity, etc just as we did in PICASO. Mie scattering is based off the Mie theory, which describes the behavior of electromagnetic waves (light) scattering when encounteirng a homogeneous sphere (a planet in our case) based upon angle, wavelength, and polarization **NATASHA CHECK IM RIGHT**. The code uses [PyMieScatt](https://pymiescatt.readthedocs.io/en/latest/), which has extensive [documentation](https://pymiescatt.readthedocs.io/en/latest/forward.html) on how everything is calculated. Feel free to follow the documentation for more mathematical explanations of how this theory works, which is outside the scope of this tutorial."
   ]
  },
  {
   "cell_type": "code",
   "execution_count": null,
   "id": "77e6d77c",
   "metadata": {},
   "outputs": [],
   "source": [
    "# mieff_dir = ''"
   ]
  },
  {
   "cell_type": "code",
   "execution_count": null,
   "id": "7f3d6b03-9d9a-42d5-bb6f-06c40e137cd7",
   "metadata": {},
   "outputs": [],
   "source": [
    "###### REWA #####\n",
    "\n",
    "# I already made this directory at the top, thus:\n",
    "#mieff_dir = os.path.join(picaso_data_dir, 'virga')"
   ]
  },
  {
   "cell_type": "code",
   "execution_count": null,
   "id": "a6b8071e",
   "metadata": {},
   "outputs": [],
   "source": [
    "# Let's build our \"case\" for WASP-39 with clouds!\n",
    "\n",
    "w39_clouds = vjdi.Atmosphere(['MnS', 'Na2S', 'MgSiO3'],\n",
    "                  fsed=1, mh=metallicity,\n",
    "                  mmw = mean_molecular_weight)\n",
    "\n",
    "kz = np.zeros(91)+1e10 # Should be equal to pressure length\n",
    "\n",
    "# Set the planet gravity\n",
    "w39_clouds.gravity(gravity=w39.inputs['planet']['gravity'], gravity_unit=jdi.u.Unit(w39.inputs['planet']['gravity_unit']))\n",
    "\n",
    "# Get pressure temperature profile\n",
    "w39_clouds.ptk(df = jdi.pd.DataFrame({\n",
    "                'pressure':pressure,\n",
    "                'temperature':temperature, 'kz':kz}))\n",
    "\n",
    "# Get full dictionary output\n",
    "all_out = vjdi.compute(w39_clouds, as_dict=True,\n",
    "                      directory=mieff_dir)"
   ]
  },
  {
   "cell_type": "markdown",
   "id": "8b417f43-f894-47ac-8113-58260d29bbf1",
   "metadata": {},
   "source": [
    "<div class=\"alert alert-block alert-info\">\n",
    "What's kz?\n",
    "</div>"
   ]
  },
  {
   "cell_type": "markdown",
   "id": "5a8a794a",
   "metadata": {},
   "source": [
    "Now that we have run the code and computed the cloud modeling, there is many different plots we can call from the `virga.justplotit` class to see what we are looking at exactly! But first, let's get a read of what variables and information we have access to."
   ]
  },
  {
   "cell_type": "code",
   "execution_count": null,
   "id": "f90f49f8",
   "metadata": {
    "scrolled": true
   },
   "outputs": [],
   "source": [
    "all_out.keys()"
   ]
  },
  {
   "cell_type": "markdown",
   "id": "95d3b41c",
   "metadata": {},
   "source": [
    "Lot's of choices to index to and see, but let's visually plot and gain more information of what the clouds will look like."
   ]
  },
  {
   "cell_type": "markdown",
   "id": "3ee0a4b4",
   "metadata": {},
   "source": [
    "### Checking and Proving Gas Condensate"
   ]
  },
  {
   "cell_type": "markdown",
   "id": "d4f1576d",
   "metadata": {},
   "source": [
    "The first plot we can create is our P-T profile with all of the chemicals respective P-T profiles. The thick lines are the gasses that we defined two cells above to be present in our cloud modeling. Anything to the right of the black dotted line, the user input, is a gas that more than likely can condensate in the atmosphere. \n",
    "\n",
    "As we can see, *MgSi02* and *MnS* condensates, as their P-T profiles are to the right of ours. But, we can see that *Na2s* is to the **left** of ours, which means that it is **not** condensating in the cloud mixture."
   ]
  },
  {
   "cell_type": "code",
   "execution_count": null,
   "id": "9763b3b5",
   "metadata": {
    "scrolled": true
   },
   "outputs": [],
   "source": [
    "show(vjpi.pt(all_out))"
   ]
  },
  {
   "cell_type": "markdown",
   "id": "3d64fc45-3b96-442b-81e8-d3d1bd5eddc7",
   "metadata": {},
   "source": [
    "<div class=\"alert alert-block alert-info\">\n",
    "^Legend is cut off, making the plot difficult to interpret. What does a line represent? Why does an line being to the right of the black dotted line mean it will condense out?\n",
    "\n",
    "Here's my rough interpretation of what this plot is showing: Each solid line represents the condensation temperature profile for a given molecule or element. Take the thick red MgSiO3 line as an example. If an atmosphere's temperature pressure conditions fall to the right of the red line (higher temp or lower pressure), any MgSiO3 present in the atmosphere will be in its gaseous state. If atmospheric temperature pressure conditions fall to the left of the red line (lower temp or higher pressure), MgSiO3 will be in its liquid state (condensate). The dotted black line represents the conditions of WASP-39 b's atmosphere. We can infer that at high alitudes (lower pressure), WASP-39 b's atmospheric conditions are left (colder) than the red line, thus MgSiO3 may condensate. At lower altitudes (higher pressure), WASP-39 b's atmospheric conditions are right (warmer) than the red line, thus MgSiO3 will remain gaseous.\n",
    "</div>"
   ]
  },
  {
   "cell_type": "markdown",
   "id": "dc4adebd",
   "metadata": {},
   "source": [
    "We can confirm that Na2S is not condensating by plotting the optical depth by pressure, and seeing that both *MnS* and *MgSi03* condensate as they are visible on the graph, but *Na2S* is not visible, which means it is not condensating and it's too hot with too much pressure!"
   ]
  },
  {
   "cell_type": "markdown",
   "id": "b920c7c4-d8c3-4eb8-96a7-006025340dae",
   "metadata": {},
   "source": [
    "<div class=\"alert alert-block alert-info\">\n",
    "^I'm not clear what this plot shows or how condensation relates to optical depth, besides the fact that when elements condense they increase the optical depth of the atmosphere because cloud are good at blocking light.\n",
    "</div>"
   ]
  },
  {
   "cell_type": "code",
   "execution_count": null,
   "id": "0725b3d3",
   "metadata": {
    "scrolled": true
   },
   "outputs": [],
   "source": [
    "show(vjpi.opd_by_gas(all_out))"
   ]
  },
  {
   "cell_type": "markdown",
   "id": "9110c11a",
   "metadata": {},
   "source": [
    "Let's triple confirm by checking the Condensate MMR plot, or the mean molecule ratio condensation plot, or at what pressure does how much gas condensate for each gas. We can clearly see that MnS and MgSiO3 are present and condensing, but Na2S doesn't for reasons we have already described."
   ]
  },
  {
   "cell_type": "code",
   "execution_count": null,
   "id": "4db27ea2",
   "metadata": {
    "scrolled": true
   },
   "outputs": [],
   "source": [
    "show(vjpi.condensate_mmr(all_out))"
   ]
  },
  {
   "cell_type": "markdown",
   "id": "5b6a0d5f",
   "metadata": {},
   "source": [
    "### Analyzing Cloud Interactions"
   ]
  },
  {
   "cell_type": "markdown",
   "id": "cc3e0224",
   "metadata": {},
   "source": [
    "Next, we can take visualizing the single scattering albedo, optical depth, and the asymmetry. Let's dissect each of these and see what they mean exactly.\n",
    "\n",
    "- Single Scattering Albedo\n",
    "\n",
    "This plots the pressure against the wavelength to find where the albedo is strongest (i.e. where in the atmosphere higher or lower fractions of light are being reflected). We see that near the top, the albedo is close to or is 1. This means that most of the light absorbed at this layer is reflected, which makes sense! Planets, specifically puffy planets like WASP-39 b, will reflect a lot of light near the top. As we go deeper, we can see that below 1.4E-3 bars the albedo begins to drop a bit. As the light drops deeper into the atmosphere, it is a lower fractional reflection. Moving from left to right can also tell us how much light is being reflected in the infrared, visual and ultraviolet!\n",
    "\n",
    "\n",
    "- Cloud Optical Depth\n",
    "\n",
    "Optical depth refers to how well the clouds block the light and how deep. For instance, on this middle plot it can be seen at the lower pressures near the top there is a lot of light being let in (typically clouds do not form at super low pressure). As we go deeper in the atmosphere, the clouds begin to block more and more light.\n",
    "\n",
    "- Asymmetry Parameter\n",
    "\n",
    "**NATASHA: I KNOW YOU TOLD ME BUT I FORGOT TO WRITE IT DOWN IM SORRY :(**"
   ]
  },
  {
   "cell_type": "code",
   "execution_count": null,
   "id": "849ff3aa",
   "metadata": {
    "scrolled": true
   },
   "outputs": [],
   "source": [
    "show(vjpi.all_optics(all_out))"
   ]
  },
  {
   "cell_type": "markdown",
   "id": "21d7d4d0-9937-4b38-b349-e9a9a57d6342",
   "metadata": {},
   "source": [
    "<div class=\"alert alert-block alert-info\">\n",
    "Looks like this section is still in progress.\n",
    "\n",
    "Can we change the format of the plots so the x-axis units are readable?\n",
    "</div>"
   ]
  },
  {
   "cell_type": "markdown",
   "id": "98d9b25a",
   "metadata": {},
   "source": [
    "Awesome! This tells us so much about the interaction of clouds between the atmosphere, and is a much different analysis than a cloud free model. This is just a brief overview of what virga can do and the amount of science that can be retrieved from just one set of JWST data. For more information, please feel free to visit the [virga](https://natashabatalha.github.io/virga/index.html) documentation!"
   ]
  },
  {
   "cell_type": "code",
   "execution_count": null,
   "id": "84d86f8c",
   "metadata": {},
   "outputs": [],
   "source": []
  }
 ],
 "metadata": {
  "colab": {
   "provenance": [
    {
     "file_id": "1iiuBZ-9eSg-ZGlT7WLODxID7alvtayrD",
     "timestamp": 1686694242813
    }
   ],
   "toc_visible": true
  },
  "kernelspec": {
   "display_name": "Python 3 (ipykernel)",
   "language": "python",
   "name": "python3"
  },
  "language_info": {
   "codemirror_mode": {
    "name": "ipython",
    "version": 3
   },
   "file_extension": ".py",
   "mimetype": "text/x-python",
   "name": "python",
   "nbconvert_exporter": "python",
   "pygments_lexer": "ipython3",
   "version": "3.12.8"
  },
  "toc": {
   "base_numbering": 1,
   "nav_menu": {},
   "number_sections": true,
   "sideBar": true,
   "skip_h1_title": false,
   "title_cell": "Table of Contents",
   "title_sidebar": "Contents",
   "toc_cell": true,
   "toc_position": {},
   "toc_section_display": true,
   "toc_window_display": false
  }
 },
 "nbformat": 4,
 "nbformat_minor": 5
}
