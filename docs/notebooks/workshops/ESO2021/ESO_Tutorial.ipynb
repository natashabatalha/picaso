{
 "cells": [
  {
   "cell_type": "markdown",
   "metadata": {},
   "source": [
    "# ESO ATMO 2021 Tutorial: Chemistry and Clouds in Exoplanet Transit Spectroscopy\n",
    "\n",
    "What you will learn:\n",
    "\n",
    "1. What happens to the transiting spectra (emission and transmission) of planet atmospheres as they cool?\n",
    "2. What is happening from a chemical standpoint to cause these spectral features? \n",
    "3. What molecules are good temperature probes in transit transmission? in emission?  \n",
    "\n",
    "What you should know from Dr. Ryan MacDonald's lecture: \n",
    "\n",
    "1. Transmission + emission spectra geometry (which atmospheric regions are we probing etc.)\n",
    "2. Simple toy models of transmission and emission spectra.\n",
    "3. The radiative transfer equation.\n",
    "4. Solutions to radiative transfer equation (focus on intuition for differences between transmission and emission solutions)\n",
    "5. Concept of optical depth.\n"
   ]
  },
  {
   "cell_type": "code",
   "execution_count": null,
   "metadata": {},
   "outputs": [],
   "source": [
    "import warnings\n",
    "warnings.filterwarnings(action='ignore')\n",
    "import picaso.justdoit as jdi\n",
    "import picaso.justplotit as jpi\n",
    "jpi.output_notebook()\n",
    "import os\n",
    "import pandas as pd\n",
    "import numpy as np\n",
    "#point to your sonora profile grid that you untared (see installation instructions or colab instructions)\n",
    "# sonora_profile_db = '/data/sonora_profile/'\n",
    "# mieff_dir = '/data/virga/'\n",
    "\n",
    "sonora_profile_db = os.path.join(os.getenv('picaso_refdata'),'sonora_grids','bobcat')\n",
    "mieff_dir = os.path.join(os.getenv('picaso_refdata'),'virga')"
   ]
  },
  {
   "cell_type": "code",
   "execution_count": null,
   "metadata": {},
   "outputs": [],
   "source": [
    "wave_range = [1,14] #don't worry we will play around with this more later\n",
    "opa = jdi.opannection(wave_range=wave_range)"
   ]
  },
  {
   "cell_type": "markdown",
   "metadata": {},
   "source": [
    "## What happens to a transit (transmission+emission) spectrum as a function of temperature\n",
    "\n",
    "We will dive right in by computing a series of spectra as a function of temperature. As we progress we will break down what is happening. \n",
    "\n",
    "### What is the relevant temperature range we care about for exoplanets?"
   ]
  },
  {
   "cell_type": "code",
   "execution_count": null,
   "metadata": {},
   "outputs": [],
   "source": [
    "all_planets = jdi.all_planets()"
   ]
  },
  {
   "cell_type": "code",
   "execution_count": null,
   "metadata": {},
   "outputs": [],
   "source": [
    "#let's only grab targets with masses and errors\n",
    "pl_mass_err = all_planets.loc[:,['pl_name','pl_letter','pl_bmassjerr1', 'pl_bmassj','pl_eqt']]\n",
    "pl_mass_err = pl_mass_err.dropna()"
   ]
  },
  {
   "cell_type": "code",
   "execution_count": null,
   "metadata": {},
   "outputs": [],
   "source": [
    "fig = jpi.figure(x_axis_type='log',x_axis_label='Mass(Mj)',y_axis_label='Eql Temp (A=0)')\n",
    "source = jpi.ColumnDataSource(data=dict(\n",
    "        pl_mass_err))\n",
    "cir = fig.circle(x='pl_bmassj',y='pl_eqt',size=5,\n",
    "                   color='Black', source = source)\n",
    "fig.add_tools(jpi.HoverTool(renderers=[cir], tooltips=[('Planet Name',f'@pl_name')]\n",
    "                                  ))\n",
    "jpi.show(fig)"
   ]
  },
  {
   "cell_type": "markdown",
   "metadata": {},
   "source": [
    "For this tutorial we will focus on the region from T_eq = 100-2500 K. However, as you can see there do exist planets outside this range! Let's take a feasible subset of these. I will choose ten planets across this temperature range. "
   ]
  },
  {
   "cell_type": "code",
   "execution_count": null,
   "metadata": {},
   "outputs": [],
   "source": [
    "T_to_compute = np.arange(100,2500,250)"
   ]
  },
  {
   "cell_type": "markdown",
   "metadata": {},
   "source": [
    "Let's run PICASO in a loop with the different effective temperatures and gravities. However, in order to aid comparison, let's fix the following quantities:\n",
    "\n",
    "1. star \n",
    "2. gravity\n",
    "\n",
    "Then in the loop we will change: \n",
    "\n",
    "1. pressure-temperature profile \n",
    "2. chemistry (in accordance with the changing temperature-pressure profile) \n",
    "\n",
    "Both these properties will be computed via the `sonora` function, which will grab Solar M/H, Solar C/O self consistent pressure-temperature profiles in accordance with the work from Marley et al. 2021. "
   ]
  },
  {
   "cell_type": "code",
   "execution_count": null,
   "metadata": {},
   "outputs": [],
   "source": [
    "case = jdi.inputs()\n",
    "case.star(opa, 5000,0,4.0,radius=1, radius_unit=jdi.u.Unit('R_sun'))\n",
    "case.gravity(radius = 1, radius_unit=jdi.u.Unit('R_jup'), \n",
    "           mass = 1, mass_unit=jdi.u.Unit('M_jup'))"
   ]
  },
  {
   "cell_type": "markdown",
   "metadata": {},
   "source": [
    "Running this loop should take roughly 2 minutes"
   ]
  },
  {
   "cell_type": "code",
   "execution_count": null,
   "metadata": {},
   "outputs": [],
   "source": [
    "#Let's stick the loop in right here!\n",
    "all_out={} #easy mechanism to save all the output\n",
    "for i in T_to_compute:\n",
    "    case.sonora(sonora_profile_db,  i)\n",
    "    all_out[f'{i}'] = case.spectrum(opa,calculation='thermal+transmission', full_output=True)"
   ]
  },
  {
   "cell_type": "markdown",
   "metadata": {},
   "source": [
    "Let's plot the sequence!!"
   ]
  },
  {
   "cell_type": "code",
   "execution_count": null,
   "metadata": {},
   "outputs": [],
   "source": [
    "wno,spec=[],[]\n",
    "fig_e = jpi.figure(height=300,width=700, y_axis_type='log',\n",
    "                 x_axis_label='Wavelength(um)',y_axis_label='Relative Planet/Star Flux (ppm)')\n",
    "fig_t = jpi.figure(height=300,width=700, \n",
    "                 x_axis_label='Wavelength(um)',y_axis_label='Transit Depth (ppm)')\n",
    "\n",
    "for i,ikey in enumerate(all_out.keys()):\n",
    "    x,y = jdi.mean_regrid(all_out[ikey]['wavenumber'],\n",
    "                          all_out[ikey]['thermal'], R=150)\n",
    "    fig_e.line(1e4/x,y*1e6,color=jpi.pals.Spectral11[i],line_width=3,\n",
    "               legend_label=f'Teff={ikey}')\n",
    "\n",
    "    x,y = jdi.mean_regrid(all_out[ikey]['wavenumber'],\n",
    "                          all_out[ikey]['transit_depth'], R=150)\n",
    "    fig_t.line(1e4/x,y*1e6,color=jpi.pals.Spectral11[i],line_width=3)\n",
    "    \n",
    "fig_e.legend.location='bottom_right'\n",
    "    \n",
    "jpi.show(jpi.column([fig_t, fig_e]))"
   ]
  },
  {
   "cell_type": "markdown",
   "metadata": {},
   "source": [
    "There is rich information encoded in these spectra. In order to fully grasp what is going on, it is important to understand the chemistry."
   ]
  },
  {
   "cell_type": "markdown",
   "metadata": {},
   "source": [
    "## What molecules are most important to planetary spectroscopy?\n",
    "\n",
    "When we compute our spectra, we get a full output of abundances (aka \"mixing ratios\") as a function of pressure. "
   ]
  },
  {
   "cell_type": "code",
   "execution_count": null,
   "metadata": {},
   "outputs": [],
   "source": [
    "#remember the mixing ratios (or abundances) exist in this pandas dataframe \n",
    "all_out['100']['full_output']['layer']['mixingratios'].head()\n",
    "#but this is too many molecules to keep track of for every single spectrum"
   ]
  },
  {
   "cell_type": "markdown",
   "metadata": {},
   "source": [
    "But we want to understand the transitions in chemistry between these runs. To do that, let's try and understand how the bulk abundance change as a function of effective temperature. So we are going to **collapse** the pressure axis by taking the \"median\" value of each abundance array. By doing so, we want to see what the ~10 most abundant molecules are in each of these 10 spectra."
   ]
  },
  {
   "cell_type": "code",
   "execution_count": null,
   "metadata": {},
   "outputs": [],
   "source": [
    "relevant_molecules=[]\n",
    "for i,ikey in enumerate(all_out.keys()):\n",
    "    abundances = all_out[ikey]['full_output']['layer']['mixingratios']\n",
    "    \n",
    "    #first let's get the top 10 most abundance species in each model bundle we ran\n",
    "    median_top_10 = abundances.median().sort_values(ascending=False)[0:10]\n",
    "    relevant_molecules += list(median_top_10.keys())\n",
    "\n",
    "#taking the unique of  relevant_molecules will give us the molecules we want to track \n",
    "relevant_molecules = np.unique(relevant_molecules)\n",
    "\n",
    "print(relevant_molecules)"
   ]
  },
  {
   "cell_type": "markdown",
   "metadata": {},
   "source": [
    "Now that we have condensed this to a meaningful set of molecules, we can proceed to plot the sequence \n",
    "\n",
    "\n",
    "*Side note: You might try to see if the technique of taking the \"median\" yields the same results as \"max\" or \"mean\". This gives some insight into how dynamic moleculare abundances are as a function of pressure*"
   ]
  },
  {
   "cell_type": "markdown",
   "metadata": {},
   "source": [
    "## Where in temperature space do chemical transitions seem to take place? "
   ]
  },
  {
   "cell_type": "code",
   "execution_count": null,
   "metadata": {},
   "outputs": [],
   "source": [
    "fig = jpi.figure(height=500,width=700, y_axis_type='log',\n",
    "                 y_range=[1e-15,1],x_range=[200,2600],\n",
    "                 x_axis_label='Planet Effective Temperature',y_axis_label='Abundance')\n",
    "\n",
    "#now let's go back through our models and plot the abundances as a function of teff\n",
    "relevant_molecules={i:[] for i in relevant_molecules}\n",
    "for i,ikey in enumerate(all_out.keys()):\n",
    "    abundances = all_out[ikey]['full_output']['layer']['mixingratios'].median()\n",
    "\n",
    "    #save each abundance \n",
    "    for i in relevant_molecules.keys():\n",
    "        relevant_molecules[i] += [abundances[i]]\n",
    "\n",
    "#last loop to plot each line\n",
    "for i,ikey in enumerate( relevant_molecules.keys()):\n",
    "    fig.line(T_to_compute, relevant_molecules[ikey],\n",
    "               color=jpi.pals.Category20[20][i],line_width=3,legend_label=ikey) \n",
    "fig.legend.location='bottom_right'\n",
    "jpi.show(fig)"
   ]
  },
  {
   "cell_type": "markdown",
   "metadata": {},
   "source": [
    "There is a lot happening but let's break it down in very broad digestible categories.\n",
    "\n",
    "#### Universally abundant molecules:\n",
    "- Which are the few highest abundance molecules/elements that exist across all temperature? \n",
    "\n",
    "#### Carbon-bearing species (CO2, CH4, CO, C2H6):\n",
    "- Which molecules are good temperature indicators, meaning they only exist in certain temperature regimes?\n",
    "- For the molecules that are good temperature indicators, where do their transitions occur? Keep these numbers archived in the back of your brain as they are great to have for intuition\n",
    "\n",
    "#### Besides Carbon, what other non-metal-based molecules are dominant?\n",
    "- Are any of them indicators of high or low temperature?\n",
    "- Do any of them exhibit an interplay that is similar to that of the CH4/CO transition?\n",
    "\n",
    "#### What Alkali-based molecules/elements are dominant?\n",
    "- At what temperatures do these molecules/elements begin to appear? \n",
    "\n",
    "#### What Metal-based species are dominant?\n",
    "- At what temperatures do these molecules/elements begin to appear? \n",
    "\n",
    "#### DISCUSS: \n",
    "- Across all these molecules, what are the few most critical temperature transitions? \n",
    "- What known phenomena can cause deviations from chemical equilibrium? \n",
    "\n",
    "## Is this molecule affecting my spectrum? \n",
    "\n",
    "Seeing a high abundance for a molecule does not automatically mean that it will be detectable in a given spectrum. In order to determine if a molecule is detectable we need to further address these questions: \n",
    "\n",
    "1. Do you have sufficient spectral resolution to resolve the full spectral feature? \n",
    "2. Does it have a visible spectral feature in the wavelength range I am observing? \n",
    "3. Are there other molecules with higher opacity interfering with it's contribution at similar wavelengths? \n",
    "\n",
    "**In order to address these questions, use the `jdi.get_contribution` function on at least three different temperature regimes that seem important above.** The output of the contribution function consists of three important items: \n",
    "\n",
    "`taus_per_layer`\n",
    "- Each dictionary entry is a nlayer x nwave that represents the per layer optical depth for that molecule. \n",
    "\n",
    "`cumsum_taus`\n",
    "- Each dictionary entry is a nlevel x nwave that represents the cumulative summed opacity for that molecule. \n",
    "\n",
    "`tau_p_surface` \n",
    "- Each dictionary entry is a nwave array that represents the pressure level where the cumulative opacity reaches the value specified by the user through `at_tau`.\n",
    "\n",
    "Below is one example using the extreme ends T=400 and T=2000. "
   ]
  },
  {
   "cell_type": "code",
   "execution_count": null,
   "metadata": {},
   "outputs": [],
   "source": [
    "case1 = jdi.inputs()\n",
    "case1.star(opa, 5000,0,4.0,radius=1, radius_unit=jdi.u.Unit('R_sun'))\n",
    "case1.gravity(radius = 1, radius_unit=jdi.u.Unit('R_jup'), \n",
    "           mass = 1, mass_unit=jdi.u.Unit('M_jup'))\n",
    "case1.phase_angle(0)\n",
    "case1.sonora(sonora_profile_db, 400)\n",
    "out1 = jdi.get_contribution(case1, opa, at_tau=1)"
   ]
  },
  {
   "cell_type": "code",
   "execution_count": null,
   "metadata": {},
   "outputs": [],
   "source": [
    "case2 = jdi.inputs()\n",
    "case2.star(opa, 5000,0,4.0,radius=1, radius_unit=jdi.u.Unit('R_sun'))\n",
    "case2.gravity(radius = 1, radius_unit=jdi.u.Unit('R_jup'), \n",
    "           mass = 1, mass_unit=jdi.u.Unit('M_jup'))\n",
    "case2.phase_angle(0)\n",
    "case2.sonora(sonora_profile_db, 2000)\n",
    "out2 = jdi.get_contribution(case2, opa, at_tau=1)"
   ]
  },
  {
   "cell_type": "markdown",
   "metadata": {},
   "source": [
    "Plot the $\\tau\\sim1$ surface"
   ]
  },
  {
   "cell_type": "code",
   "execution_count": null,
   "metadata": {},
   "outputs": [],
   "source": [
    "figs=[]\n",
    "for i,it in zip([out1['tau_p_surface'], out2['tau_p_surface']],['Cold','Hot']):\n",
    "    wno=[]\n",
    "    spec=[]\n",
    "    labels=[]\n",
    "    for j in i.keys(): \n",
    "        x,y = jdi.mean_regrid(opa.wno, i[j],R=100)\n",
    "        if np.min(y)<4.5: # Bars \n",
    "            wno+=[x]\n",
    "            spec+=[y]\n",
    "            labels +=[j]\n",
    "    fig = jpi.spectrum(wno,spec,plot_width=500,plot_height=400,y_axis_label='Tau~1 Pressure (bars)',\n",
    "                       y_axis_type='log',x_range=[1,5],\n",
    "                         y_range=[1e2,1e-4],legend=labels)\n",
    "    fig.title.text=it\n",
    "    figs+=[fig]\n",
    "jpi.show(jpi.row(figs))"
   ]
  },
  {
   "cell_type": "markdown",
   "metadata": {},
   "source": [
    "Let's think through these main points:\n",
    "\n",
    "1. Is there a difference between the continuum species? Does that make sense given your intuition of the temperature pressure profiles? \n",
    "2. How has the interplay of H2O/CO2/CH4/CO changed between the two models?\n",
    "3. Can you spot any molecules that appeared in relatively high abundance in the mixing ratio plots, but do not appear here? \n",
    "\n",
    "**Repeat the Exercise: Swap out your T=2000 K case with a T=1000 K case.**\n",
    "1. We know that CH4/CO should be experience a big chemical shift in this region. Isolate the Tau~1 curve for CH4. What accounts for the difference in contribution curve? \n",
    "\n",
    "## Understanding Models in the Context of Observing Modes\n",
    "\n",
    "Now that we have an intuition for diagnosing spectra. Let's gain an intuition for what molecules dominate what spectral regions. I find it is best to do this with real instrument modes. Let's focus on JWST modes. Take a moment to stare at the figure below:\n",
    "\n",
    "![JWST Modes](https://natashabatalha.github.io/assets/img/gallery/pec_res.jpg)\n",
    "\n"
   ]
  },
  {
   "cell_type": "markdown",
   "metadata": {},
   "source": [
    "**Discussion**: \n",
    "1. What spectral features are dominant across what JWST modes? For different planet cases? \n",
    "    - NIRISS SOSS:\n",
    "    - NIRCam F322W2: \n",
    "    - NIRCam F444W: \n",
    "    - NIRSpec G140: \n",
    "    - NIRSpec G235:\n",
    "    - NIRSpec G395: \n",
    "    - NIRSpec Prism:$^*$\n",
    "    - MIRI LRS\n",
    "\n",
    "\n",
    "*$^*$what is the sublety that makes this a difficult mode to use universally*\n",
    "\n",
    "2. Excluding the Prism, if you had to choose only one mode for JWST to observe the cold planet case, which would you choose? Repeat for hot planet case. \n",
    "3. Are there regions of parameter space where two molecule overlap could be problematic? \n",
    "\n",
    "## Adding Clouds to the Story using `Virga`\n",
    "\n",
    "Since you've already had some experience modeling clouds in spectra, we will focus on specific cloud profiles and cloud species. We have already computed some cloud-free models. Let's add clouds to the models we have already computed. \n",
    "\n",
    "There are a few more parameters that we have to specify with regards to the cloud code: \n",
    "\n",
    "- metallicity and mean molecular weight (should be consistent with your atmosphere profile) \n",
    "- f$_{sed}$: sedimentation efficiency, which controls the vertical extent of the cloud deck. For more information see: https://natashabatalha.github.io/virga/notebooks/1_GettingStarted.html#How-to-pick-f_{sed}\n",
    "- K$_{zz}$: vertical mixing \n",
    "- Gas condensates: in general, you should think carefully about what gases you want to set as condensable. For this exercise we will just look at a subset four potential condensates for simplicity. "
   ]
  },
  {
   "cell_type": "code",
   "execution_count": null,
   "metadata": {},
   "outputs": [],
   "source": [
    "case_cld = jdi.inputs()\n",
    "case_cld.star(opa, 5000,0,4.0,radius=1, radius_unit=jdi.u.Unit('R_sun'))\n",
    "case_cld.gravity(radius = 1, radius_unit=jdi.u.Unit('R_jup'), \n",
    "           mass = 1, mass_unit=jdi.u.Unit('M_jup'))\n",
    "\n",
    "#Let's stick the loop in right here!\n",
    "cld_mdl_out={} #easy mechanism to save all the output\n",
    "all_out_cld={}\n",
    "for i in T_to_compute:\n",
    "    case_cld.sonora(sonora_profile_db,  i)\n",
    "    \n",
    "    p=case_cld.inputs['atmosphere']['profile']['pressure']\n",
    "    t=case_cld.inputs['atmosphere']['profile']['temperature']\n",
    "    \n",
    "    #NEW CLOUD STUFF\n",
    "    metallicity = 1 #1xSolar \n",
    "    mean_molecular_weight = 2.2\n",
    "    fsed=1\n",
    "    gas_condensates = ['H2O','KCl','Mg2SiO4','Al2O3']\n",
    "\n",
    "    #for the cloud code we have to supply a kzz value, which describes the degree of mixing \n",
    "    case_cld.inputs['atmosphere']['profile']['kz'] = [1e9]*len(p)\n",
    "    \n",
    "    cld_mdl_out[f'{i}'] = case_cld.virga(gas_condensates, mieff_dir, fsed=fsed,mh=metallicity,\n",
    "                 mmw = mean_molecular_weight)\n",
    "    all_out_cld[f'{i}'] = case_cld.spectrum(opa,calculation='thermal+transmission', full_output=True)"
   ]
  },
  {
   "cell_type": "markdown",
   "metadata": {},
   "source": [
    "### A cloud sequence in transit emission "
   ]
  },
  {
   "cell_type": "code",
   "execution_count": null,
   "metadata": {},
   "outputs": [],
   "source": [
    "wno,spec=[],[]\n",
    "fig = jpi.figure(height=500,width=500, y_axis_type='log',\n",
    "                 x_axis_label='Wavelength(um)',y_axis_label='Flux (erg/s/cm2/cm)')\n",
    "delta_fig = jpi.figure(height=500,width=500, #y_axis_type='log',\n",
    "                 x_axis_label='Wavelength(um)',y_axis_label='% Diff Cloud Free - Cloudy')\n",
    "#CLOUD FREE\n",
    "for i,ikey in enumerate(all_out_cld.keys()):\n",
    "    x,y1 = jdi.mean_regrid(all_out[ikey]['wavenumber'],\n",
    "                          all_out[ikey]['thermal'], R=150)\n",
    "    \n",
    "    a=fig.line(1e4/x,y1,color=jpi.pals.Spectral11[i],line_width=3,\n",
    "               alpha=0.75, line_dash='dashed',legend_label='cloud free')\n",
    "\n",
    "    #CLOUDYyY\n",
    "    x,y2 = jdi.mean_regrid(all_out_cld[ikey]['wavenumber'],\n",
    "                          all_out_cld[ikey]['thermal'], R=150)\n",
    "    a=fig.line(1e4/x,y2,color=jpi.pals.Spectral11[i],line_width=3,\n",
    "               legend_label='cloudy')\n",
    "\n",
    "    delta_fig.line(1e4/x,100*(y1-y2)/y1,color=jpi.pals.Spectral11[i],line_width=3)\n",
    "\n",
    "fig.legend.location='bottom_right'\n",
    "    \n",
    "jpi.show(jpi.row(fig,delta_fig))"
   ]
  },
  {
   "cell_type": "markdown",
   "metadata": {},
   "source": [
    "What overall affect do the clouds have on emission spectra? "
   ]
  },
  {
   "cell_type": "markdown",
   "metadata": {},
   "source": [
    "### A cloud sequence in transit transmission "
   ]
  },
  {
   "cell_type": "code",
   "execution_count": null,
   "metadata": {},
   "outputs": [],
   "source": [
    "wno,spec=[],[]\n",
    "fig = jpi.figure(height=500,width=500, y_axis_type='log',\n",
    "                 x_axis_label='Wavelength(um)',y_axis_label='Relative Transit Depth')\n",
    "delta_fig = jpi.figure(height=500,width=500, #y_axis_type='log',\n",
    "                 x_axis_label='Wavelength(um)',y_axis_label='% Diff Cloud Free - Cloudy')\n",
    "#CLOUD FREE\n",
    "for i,ikey in enumerate(all_out_cld.keys()):\n",
    "    x,y1 = jdi.mean_regrid(all_out[ikey]['wavenumber'],\n",
    "                          all_out[ikey]['transit_depth'], R=150)\n",
    "    \n",
    "    a=fig.line(1e4/x,y1,color=jpi.pals.Spectral11[i],line_width=3,\n",
    "               alpha=0.75, line_dash='dashed',legend_label='cloud free')\n",
    "\n",
    "    #CLOUDYyY\n",
    "    x,y2 = jdi.mean_regrid(all_out_cld[ikey]['wavenumber'],\n",
    "                          all_out_cld[ikey]['transit_depth'], R=150)\n",
    "    a=fig.line(1e4/x,y2,color=jpi.pals.Spectral11[i],line_width=3,\n",
    "               legend_label='cloudy')\n",
    "\n",
    "    delta_fig.line(1e4/x,100*(y1-y2)/y1,color=jpi.pals.Spectral11[i],line_width=3)\n",
    "\n",
    "fig.legend.location='bottom_right'\n",
    "    \n",
    "jpi.show(jpi.row(fig,delta_fig))"
   ]
  },
  {
   "cell_type": "markdown",
   "metadata": {},
   "source": [
    "What overall affect do the clouds have on transmission spectra? "
   ]
  },
  {
   "cell_type": "markdown",
   "metadata": {},
   "source": [
    "### What is the dominant cloud species for each case? \n",
    "\n",
    "We saved all of the cloud output in the dictionary `cld_mdl_out`. You can explore all the output fields here: https://natashabatalha.github.io/virga/notebooks/2_RunningTheCode.html#Exploring-dict-Output"
   ]
  },
  {
   "cell_type": "code",
   "execution_count": null,
   "metadata": {},
   "outputs": [],
   "source": [
    "cld_mdl_out['100'].keys()"
   ]
  },
  {
   "cell_type": "code",
   "execution_count": null,
   "metadata": {},
   "outputs": [],
   "source": [
    "import virga\n",
    "jpi.show(virga.justplotit.opd_by_gas(cld_mdl_out['100']))"
   ]
  },
  {
   "cell_type": "markdown",
   "metadata": {},
   "source": [
    "Since we are interested in the full sequence of optical depths, let's pull out these optical depth plots for a few of the cases. "
   ]
  },
  {
   "cell_type": "code",
   "execution_count": null,
   "metadata": {},
   "outputs": [],
   "source": [
    "figs = []\n",
    "\n",
    "for i,ikey in enumerate(list(all_out_cld.keys())[::3]):\n",
    "    \n",
    "    figs += [virga.justplotit.opd_by_gas(cld_mdl_out[ikey], \n",
    "                                         title=f'Teff={ikey}K',plot_width=300)]\n",
    "    \n",
    "    figs[i].legend.location='bottom_left'\n",
    "\n",
    "\n",
    "jpi.show(jpi.row(figs))"
   ]
  },
  {
   "cell_type": "markdown",
   "metadata": {},
   "source": [
    "It can be easily seen why the hot spectra are drastically altered by the cloud profile. Plot the PT profile with the condensation curves to see where Mg2SiO4 is condensing. "
   ]
  },
  {
   "cell_type": "code",
   "execution_count": null,
   "metadata": {},
   "outputs": [],
   "source": [
    "jpi.show(virga.justplotit.pt(cld_mdl_out['1600'], plot_height=500))"
   ]
  },
  {
   "cell_type": "markdown",
   "metadata": {},
   "source": [
    "In addition to the contribution plots we made above, below is a simple heat map plotting function that will plot the opacity of the molecule and the opacity of the cloud. \n",
    "\n",
    "**Step through a few of the cases to understand the interplay between the gas and the cloud opacity.**"
   ]
  },
  {
   "cell_type": "code",
   "execution_count": null,
   "metadata": {},
   "outputs": [],
   "source": [
    "import matplotlib.pyplot as plt\n",
    "fig, ax = plt.subplots(ncols=2,figsize=(15,5))\n",
    "\n",
    "ikey = '100'\n",
    "\n",
    "for it, itau in enumerate(['taugas','taucld']):\n",
    "\n",
    "    tau_bin = []\n",
    "    for i in range(all_out_cld[ikey]['full_output'][itau].shape[0]):\n",
    "        x,y = jdi.mean_regrid(all_out_cld[ikey]['wavenumber'],\n",
    "                              all_out_cld[ikey]['full_output'][itau][i,:,0], R=150)\n",
    "        tau_bin += [[y]]\n",
    "\n",
    "    tau_bin = np.array(np.log10(tau_bin))[:,0,:]\n",
    "    X,Y = np.meshgrid(1e4/x,all_out_cld[ikey]['full_output']['layer']['pressure'])\n",
    "    Z = tau_bin\n",
    "    pcm=ax[it].pcolormesh(X, Y, Z)\n",
    "    cbar=fig.colorbar(pcm, ax=ax[it])\n",
    "    pcm.set_clim(-3.0, 3.0)\n",
    "    ax[it].set_title(itau)\n",
    "    ax[it].set_yscale('log')\n",
    "    ax[it].set_ylim([1e2,1e-3])\n",
    "    ax[it].set_ylabel('Pressure(bars)')\n",
    "    ax[it].set_ylabel('Wavelength(um)')\n",
    "    cbar.set_label('log Opacity')"
   ]
  },
  {
   "cell_type": "markdown",
   "metadata": {},
   "source": [
    "**Final Discussion**: \n",
    "- Revisit the JWST questions. Would you change any of your \"mode selections\" based on the affect you see here with clouds? \n",
    "- What might be some observational strategies to combat muting of spectral features ? "
   ]
  }
 ],
 "metadata": {
  "kernelspec": {
   "display_name": "pic312",
   "language": "python",
   "name": "python3"
  },
  "language_info": {
   "codemirror_mode": {
    "name": "ipython",
    "version": 3
   },
   "file_extension": ".py",
   "mimetype": "text/x-python",
   "name": "python",
   "nbconvert_exporter": "python",
   "pygments_lexer": "ipython3",
   "version": "3.12.2"
  },
  "toc": {
   "base_numbering": 1,
   "nav_menu": {},
   "number_sections": true,
   "sideBar": true,
   "skip_h1_title": false,
   "title_cell": "Table of Contents",
   "title_sidebar": "Contents",
   "toc_cell": true,
   "toc_position": {},
   "toc_section_display": true,
   "toc_window_display": false
  },
  "varInspector": {
   "cols": {
    "lenName": 16,
    "lenType": 16,
    "lenVar": 40
   },
   "kernels_config": {
    "python": {
     "delete_cmd_postfix": "",
     "delete_cmd_prefix": "del ",
     "library": "var_list.py",
     "varRefreshCmd": "print(var_dic_list())"
    },
    "r": {
     "delete_cmd_postfix": ") ",
     "delete_cmd_prefix": "rm(",
     "library": "var_list.r",
     "varRefreshCmd": "cat(var_dic_list()) "
    }
   },
   "types_to_exclude": [
    "module",
    "function",
    "builtin_function_or_method",
    "instance",
    "_Feature"
   ],
   "window_display": false
  }
 },
 "nbformat": 4,
 "nbformat_minor": 4
}
