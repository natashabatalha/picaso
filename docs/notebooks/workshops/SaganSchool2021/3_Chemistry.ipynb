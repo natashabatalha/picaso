{
 "cells": [
  {
   "cell_type": "markdown",
   "metadata": {},
   "source": [
    "# Chemistry: Young Planet Spectroscopy\n",
    "\n",
    "What you will learn:\n",
    "\n",
    "1. What happens to the spectra of planet atmospheres as they cool?\n",
    "2. What is happening from a chemical standpoint to cause these spectral features? \n",
    "3. What molecules are good temperature probes? \n",
    "\n",
    "What you should know: \n",
    "\n",
    "1. What do formation models predict for the effective temperatures of young planets across different masses?\n",
    "2. Given identical luminosity and age, can formation scenarios and mass be determined?\n",
    "3. How do we dissect spectroscopy of planet atmospheres in order to infer atmospheric physical properties such as abundance and climate profiles?\n"
   ]
  },
  {
   "cell_type": "code",
   "execution_count": null,
   "metadata": {},
   "outputs": [],
   "source": [
    "import warnings\n",
    "warnings.filterwarnings(action='ignore')\n",
    "import picaso.justdoit as jdi\n",
    "import picaso.justplotit as jpi\n",
    "jpi.output_notebook()\n",
    "import os\n",
    "import pandas as pd\n",
    "import numpy as np\n",
    "#point to your sonora profile grid that you untared (see above cell #2)\n",
    "# sonora_profile_db = '/data/sonora_profile/'\n",
    "sonora_profile_db = os.path.join(os.getenv('picaso_refdata'),'sonora_grids','bobcat')"
   ]
  },
  {
   "cell_type": "code",
   "execution_count": null,
   "metadata": {},
   "outputs": [],
   "source": [
    "wave_range = [0.6,5] #don't worry we will play around with this more later\n",
    "opa = jdi.opannection(wave_range=wave_range)"
   ]
  },
  {
   "cell_type": "markdown",
   "metadata": {},
   "source": [
    "## What happens to an observable atmospheric spectrum as the planet ages\n",
    "\n",
    "In the previous workbook, we learned how to analyze spectra. Now we will compare a sequence of spectra as a function of age in order to gain an intuition for major transitions expected as a function of age (and by proxy, temperature and gravity). "
   ]
  },
  {
   "cell_type": "code",
   "execution_count": null,
   "metadata": {},
   "outputs": [],
   "source": [
    "case_study = jdi.evolution_track(mass=8, age='all')"
   ]
  },
  {
   "cell_type": "markdown",
   "metadata": {},
   "source": [
    "There are a lot of grid points on this evolutionary track (150!). Let's pick the \"hot\" start case as it offers a more dramatic cooling event. This will enable us to learn about the chemical transitions that happen as a planet cools."
   ]
  },
  {
   "cell_type": "code",
   "execution_count": null,
   "metadata": {},
   "outputs": [],
   "source": [
    "case_study['hot']"
   ]
  },
  {
   "cell_type": "markdown",
   "metadata": {},
   "source": [
    "Let's take a feasible subset of these. I will choose ten, though if you are curious, or want to do the full track go for it! "
   ]
  },
  {
   "cell_type": "code",
   "execution_count": null,
   "metadata": {},
   "outputs": [],
   "source": [
    "i_to_compute = case_study['hot'].index[0::15]#take every 15th value"
   ]
  },
  {
   "cell_type": "markdown",
   "metadata": {},
   "source": [
    "Let's run PICASO in a loop with the different effective temperatures and gravities"
   ]
  },
  {
   "cell_type": "code",
   "execution_count": null,
   "metadata": {},
   "outputs": [],
   "source": [
    "yph = jdi.inputs()\n",
    "#let's keep the star fixed\n",
    "yph.star(opa, 5000,0,4.0,radius=1, radius_unit=jdi.u.Unit('R_sun'))\n",
    "yph.phase_angle(0)\n",
    "\n",
    "#Let's stick the loop in right here!\n",
    "hot_output={} #easy mechanism to save all the output\n",
    "for i in i_to_compute:\n",
    "    Teff = case_study['hot'].loc[i,'Teff']\n",
    "    grav = case_study['hot'].loc[i,'grav_cgs']\n",
    "    yph.gravity(gravity= grav, \n",
    "                gravity_unit=jdi.u.Unit('cm/s**2'))\n",
    "    yph.sonora(sonora_profile_db,  Teff)\n",
    "    hot_case = yph.spectrum(opa,calculation='thermal', full_output=True)\n",
    "    hot_output[f'{Teff}_{grav}'] = hot_case"
   ]
  },
  {
   "cell_type": "markdown",
   "metadata": {},
   "source": [
    "Let's plot the sequence!!"
   ]
  },
  {
   "cell_type": "code",
   "execution_count": null,
   "metadata": {},
   "outputs": [],
   "source": [
    "wno,spec=[],[]\n",
    "fig = jpi.figure(height=500,width=600, y_axis_type='log',\n",
    "                 x_axis_label='Wavelength(um)',y_axis_label='Flux (erg/s/cm2/cm)')\n",
    "for i,ikey in enumerate(hot_output.keys()):\n",
    "    x,y = jdi.mean_regrid(hot_output[ikey]['wavenumber'],\n",
    "                          hot_output[ikey]['thermal'], R=150)\n",
    "    \n",
    "    t,g=tuple(ikey.split('_'));g=int(np.log10(float(g))*1000)/1000\n",
    "    a=fig.line(1e4/x,y,color=jpi.pals.Spectral11[::-1][i],line_width=3,\n",
    "               legend_label=f'Teff={t}K,logg={g}')\n",
    "fig.legend.location='bottom_right'\n",
    "    \n",
    "jpi.show(fig)"
   ]
  },
  {
   "cell_type": "markdown",
   "metadata": {},
   "source": [
    "There is rich information encoded in these spectra. In order to fully grasp what is going on, it is important to understand the chemistry."
   ]
  },
  {
   "cell_type": "markdown",
   "metadata": {},
   "source": [
    "## What molecules are most important to planetary spectroscopy?\n",
    "\n",
    "In the previous exercise we focused on look at the specific molecular contributions of two distinct cases. Therefore, we were focused on abundances as a function of pressure. Here we want you to get a handle on bulk abundance properties as a function of effective temperature. So we are going to **collapse** the pressure axis by taking the \"median\" value of each abundance array. By doing so, we want to see what the ~10 most abundant molecules are in each of these 10 spectra."
   ]
  },
  {
   "cell_type": "code",
   "execution_count": null,
   "metadata": {},
   "outputs": [],
   "source": [
    "#remember the mixing ratios (or abundances) exist in this pandas dataframe \n",
    "hot_output[ikey]['full_output']['layer']['mixingratios'].head()\n",
    "#but this is too many molecules to keep track of for every single spectrum"
   ]
  },
  {
   "cell_type": "code",
   "execution_count": null,
   "metadata": {},
   "outputs": [],
   "source": [
    "relevant_molecules=[]\n",
    "for i,ikey in enumerate(hot_output.keys()):\n",
    "    abundances = hot_output[ikey]['full_output']['layer']['mixingratios']\n",
    "    \n",
    "    #first let's get the top 10 most abundance species in each model bundle we ran\n",
    "    median_top_10 = abundances.median().sort_values(ascending=False)[0:10]\n",
    "    relevant_molecules += list(median_top_10.keys())\n",
    "\n",
    "#taking the unique of  relevant_molecules will give us the molecules we want to track \n",
    "relevant_molecules = np.unique(relevant_molecules)\n",
    "\n",
    "print(relevant_molecules)"
   ]
  },
  {
   "cell_type": "markdown",
   "metadata": {},
   "source": [
    "Now that we have condensed this to a meaningful set of molecules, we can proceed to plot the sequence \n",
    "\n",
    "\n",
    "*Side note: You might try to see if the technique of taking the \"median\" yields the same results as \"max\" or \"mean\". This gives some insight into how dynamic moleculare abundances are as a function of pressure*"
   ]
  },
  {
   "cell_type": "markdown",
   "metadata": {},
   "source": [
    "## Where in temperature space do chemical transitions seem to take place? "
   ]
  },
  {
   "cell_type": "code",
   "execution_count": null,
   "metadata": {},
   "outputs": [],
   "source": [
    "fig = jpi.figure(height=500,width=700, y_axis_type='log',\n",
    "                 y_range=[1e-15,1],x_range=[200,2600],\n",
    "                 x_axis_label='Planet Effective Temperature',y_axis_label='Abundance')\n",
    "\n",
    "#now let's go back through our models and plot the abundances as a function of teff\n",
    "relevant_molecules={i:[] for i in relevant_molecules}\n",
    "for i,ikey in enumerate(hot_output.keys()):\n",
    "    abundances = hot_output[ikey]['full_output']['layer']['mixingratios'].median()\n",
    "\n",
    "    #save each abundance \n",
    "    for i in relevant_molecules.keys():\n",
    "        relevant_molecules[i] += [abundances[i]]\n",
    "\n",
    "#last loop to plot each line\n",
    "for i,ikey in enumerate( relevant_molecules.keys()):\n",
    "    fig.line(case_study['hot'].loc[i_to_compute,'Teff'], relevant_molecules[ikey],\n",
    "               color=jpi.pals.Category20[20][i],line_width=3,legend_label=ikey) \n",
    "fig.legend.location='bottom_right'\n",
    "jpi.show(fig)"
   ]
  },
  {
   "cell_type": "markdown",
   "metadata": {},
   "source": [
    "There is a lot happening but let's break it down in very broad digestible categories. I will ask you to look back to the spectra that you made in the first tutorial. However in some cases, those spectra might not be computed at high enough effective temperatures to explore the molecular contribution. In those cases, use the techniques you learned from the previous exercise (`jdi.get_contribution`) to answer the questions below:\n",
    "\n",
    "#### Universally abundant molecules:\n",
    "- Which are the few highest abundance molecules/elements that exist across all temperature? \n",
    "- In what ways do these molecules/elements contribute to planetary spectra?\n",
    "\n",
    "#### Carbon-bearing species (CO2, CH4, CO, C2H6):\n",
    "- Which molecules are good temperature indicators, meaning they only exist in certain temperature regimes?\n",
    "- For the molecules that are good temperature indicators, where do their transitions occur? Keep these numbers archived in the back of your brain as they are great to have for intuition\n",
    "- Do these molecules make a significant contribution to the spectra? Are they hard or easy to detect? At what wavelengths?\n",
    "\n",
    "#### Besides Carbon, what other non-metal-based molecules are dominant?\n",
    "- Are any of them indicators of high or low temperature?\n",
    "- Do any of them exhibit an interplay that is similar to that of the CH4/CO transition?\n",
    "- Do these molecules make a significant contribution to the spectra? Are they hard or easy to detect? At what wavelengths?\n",
    "\n",
    "#### What Alkali-based molecules/elements are dominant?\n",
    "- At what temperatures do these molecules/elements begin to appear? \n",
    "- Do these molecules make a significant contribution to the spectra? Are they hard or easy to detect? At what wavelengths?\n",
    "\n",
    "#### What Metal-based species are dominant?\n",
    "- At what temperatures do these molecules/elements begin to appear? \n",
    "- Do these molecules make a significant contribution to the spectra? Are they hard or easy to detect? At what wavelengths?\n",
    "\n",
    "#### SYNTHESIZE: \n",
    "- Across all these molecules, what are the few most critical temperature transitions? According to our two formation scenarios, what planet age does these effective temperatures correspond to?"
   ]
  }
 ],
 "metadata": {
  "kernelspec": {
   "display_name": "Python 3 (ipykernel)",
   "language": "python",
   "name": "python3"
  },
  "language_info": {
   "codemirror_mode": {
    "name": "ipython",
    "version": 3
   },
   "file_extension": ".py",
   "mimetype": "text/x-python",
   "name": "python",
   "nbconvert_exporter": "python",
   "pygments_lexer": "ipython3",
   "version": "3.11.5"
  },
  "toc": {
   "base_numbering": 1,
   "nav_menu": {},
   "number_sections": true,
   "sideBar": true,
   "skip_h1_title": false,
   "title_cell": "Table of Contents",
   "title_sidebar": "Contents",
   "toc_cell": true,
   "toc_position": {},
   "toc_section_display": true,
   "toc_window_display": false
  },
  "varInspector": {
   "cols": {
    "lenName": 16,
    "lenType": 16,
    "lenVar": 40
   },
   "kernels_config": {
    "python": {
     "delete_cmd_postfix": "",
     "delete_cmd_prefix": "del ",
     "library": "var_list.py",
     "varRefreshCmd": "print(var_dic_list())"
    },
    "r": {
     "delete_cmd_postfix": ") ",
     "delete_cmd_prefix": "rm(",
     "library": "var_list.r",
     "varRefreshCmd": "cat(var_dic_list()) "
    }
   },
   "types_to_exclude": [
    "module",
    "function",
    "builtin_function_or_method",
    "instance",
    "_Feature"
   ],
   "window_display": false
  }
 },
 "nbformat": 4,
 "nbformat_minor": 4
}
