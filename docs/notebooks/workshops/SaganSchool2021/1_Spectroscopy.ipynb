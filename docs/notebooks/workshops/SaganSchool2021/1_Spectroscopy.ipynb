{
 "cells": [
  {
   "cell_type": "markdown",
   "metadata": {},
   "source": [
    "# Intuition Building: Young Planet Spectroscopy\n",
    "\n",
    "What you will learn\n",
    "\n",
    "1. What do formation models predict for the effective temperatures of young planets across different masses? \n",
    "2. Given identical mass and age, what might two different formation scenarios lead the spectra to look like? \n",
    "3. How do we dissect spectroscopy of planet atmospheres in order to infer atmospheric physical properties such as abundance and climate profiles?\n",
    "\n",
    "What you should already know:\n",
    "\n",
    "1. Complete all [Installation instructions](https://natashabatalha.github.io/picaso/installation.html) \n",
    "    - This involves downloading two files, one of which is large (6 Gig). So plan accordingly! \n",
    "    \n",
    "2. Download and untar the [Sonora Grid of Models](https://zenodo.org/record/1309035#.YJov_2ZKh26). They do not need to go in any specific folder. As long as you correctly point to them below when you define `sonora_profile_db`.\n",
    "\n",
    "\n",
    "*Optional: look through [The Basics of Thermal Emission](https://natashabatalha.github.io/picaso/tutorials.html#basics-of-thermal-emission). This tutorial walks you through computing a thermal emission spectrum. If you have never done so, this may be an helpful extra tutorial. However, you can complete this tutorial without it.*\n",
    "\n",
    "\n",
    "**Questions?** [Submit an Issue to PICASO Github](https://github.com/natashabatalha/picaso/issues) with any issues you are experiencing. Don't be shy! Others are likely experiencing similar problems"
   ]
  },
  {
   "cell_type": "code",
   "execution_count": null,
   "metadata": {},
   "outputs": [],
   "source": [
    "import warnings\n",
    "warnings.filterwarnings(action='ignore')\n",
    "import os\n",
    "import pandas as pd\n",
    "import numpy as np\n",
    "#point to your sonora profile grid that you untared (see above cell #2)\n",
    "# sonora_profile_db = '/data/sonora_profile/'\n",
    "sonora_profile_db = os.path.join(os.getenv('picaso_refdata'),'sonora_grids','bobcat', 'structures_m+0.0')"
   ]
  },
  {
   "cell_type": "code",
   "execution_count": null,
   "metadata": {},
   "outputs": [],
   "source": [
    "#if you are having trouble with environment variables\n",
    "#os.environ['picaso_refdata'] = 'path/to/picaso_refdata'"
   ]
  },
  {
   "cell_type": "markdown",
   "metadata": {},
   "source": [
    "Here are the two main `PICASO` functions you will be exploring: \n",
    "\n",
    "`justdoit` contains all the spectroscopic modeling functionality you will need in these exercises. \n",
    "\n",
    "`justplotit` contains all the of the plotting functionality you will need in these exercises. \n",
    "\n",
    "Tip if you are not familiar with Python or `jupyter notebooks`:\n",
    "- In any cell you can write `help(INSERT_FUNCTION)` and it will give you documentation on the input/output \n",
    "- If you type `jdi.` followed by \"tab\" a box will pop up with all the available functions in `jdi`. This applies to any python function (e.g. `np`, `pd`) "
   ]
  },
  {
   "cell_type": "code",
   "execution_count": null,
   "metadata": {},
   "outputs": [],
   "source": [
    "import picaso.justdoit as jdi\n",
    "import picaso.justplotit as jpi\n",
    "jpi.output_notebook()"
   ]
  },
  {
   "cell_type": "code",
   "execution_count": null,
   "metadata": {},
   "outputs": [],
   "source": [
    "help(jpi.spectrum)"
   ]
  },
  {
   "cell_type": "markdown",
   "metadata": {},
   "source": [
    "## Planet Evolution Tracks\n",
    "\n",
    "First we will use this `picaso` function to load some evolution tracks computed using the [Marley et al. 2007](#References) methodology. \n",
    "\n",
    "### Basics of Two Evolution Tracks \n",
    "\n",
    "Stellar-like planet formation models typically start with a hot, ~2 Jupiter radius initial planet that quickly cools off. This is the type of planet that might result from fragmentation or gravitational instability. These have been termed “hot start” models.\n",
    "\n",
    "Core accretion planet formation models first produce a rocky/icy core which eventually grows massive enough to pull in gas from the nearby nebula. The rapidly infalling gas accretes through a shock and, in doing so, radiates away a great deal of their gravitational potential energy. The result is an initially cooler, smaller, less luminous planet. This type of formation pathway has been deemed “cold start”. There is likely a continuum of formation pathways between cold and hot start, but here we will just consider two extreme cases."
   ]
  },
  {
   "cell_type": "code",
   "execution_count": null,
   "metadata": {},
   "outputs": [],
   "source": [
    "evo = jdi.evolution_track(mass='all',age='all')\n",
    "#parse out the two formation model tracks \n",
    "evo_hot = evo['hot']\n",
    "evo_cold = evo['cold']"
   ]
  },
  {
   "cell_type": "markdown",
   "metadata": {},
   "source": [
    "Since we have selected `all` for `mass` and `age`, we have the following columns: \n",
    "- age_years : Age of planet(years)\n",
    "- Teff `X` Mj : Effective temperature of the planet (Kelvin) where `X` is the mass of the planet in Jupiter masses, as computed by the evolution model\n",
    "- grav_cgs`X`Mj : Gravity of planet (cm/s^2) where `X` is the mass of the planet in Jupiter masses\n",
    "- logL`X`Mj : Log luminosity of the planet (cm/s^2) where `X` is the mass of the planet in Jupiter masses"
   ]
  },
  {
   "cell_type": "code",
   "execution_count": null,
   "metadata": {},
   "outputs": [],
   "source": [
    "evo_cold.keys()"
   ]
  },
  {
   "cell_type": "markdown",
   "metadata": {},
   "source": [
    "Let's visualize this data to get a sense for the different tracks. We will first make our own version of the plot. Then we will use the built in `picaso` function which adds a color bar and hover tools.\n",
    "\n",
    "*You can try creating your own version of this plot by plotting each of the `Teff` columns as a function of `age_years`* "
   ]
  },
  {
   "cell_type": "code",
   "execution_count": null,
   "metadata": {},
   "outputs": [],
   "source": [
    "f = jpi.figure(x_axis_type='log',height=400, width=500,y_axis_label='Teff',x_axis_label='Age Years')\n",
    "#makes a color scale\n",
    "colors = jpi.pals.viridis(10)\n",
    "for i, ikey in enumerate(list(evo_hot.keys())[1:]):\n",
    "    if 'Teff' in ikey:\n",
    "            #pull out the mass integer from the column name \n",
    "            mass = int(ikey[ikey.rfind('Teff'[-1])+1:ikey.find('M')])\n",
    "            #there are about 10 masses so we can use the mass index for the color index\n",
    "            icolor = mass -1\n",
    "            f.line(x=evo_hot['age_years'],y=evo_hot[ikey],line_width=2,\n",
    "                   color=colors[icolor]\n",
    "                  ,legend_label='Hot Start')\n",
    "            f.line(x=evo_hot['age_years'],y=evo_cold[ikey],line_width=2,\n",
    "                   color=colors[icolor],line_dash='dashed'\n",
    "                  ,legend_label='Cold Start')\n",
    "jpi.show(f)"
   ]
  },
  {
   "cell_type": "markdown",
   "metadata": {},
   "source": [
    "Now you basically know what the `picaso` function does to make this plot. If you are interested you can look at the source code to see how to add hover tools and a color bar. "
   ]
  },
  {
   "cell_type": "code",
   "execution_count": null,
   "metadata": {},
   "outputs": [],
   "source": [
    "jpi.show(jpi.plot_evolution(evo))"
   ]
  },
  {
   "cell_type": "markdown",
   "metadata": {},
   "source": [
    "## Create and analyze the spectrum of a planet along this evolution track\n",
    "\n",
    "Before we get into subtleties, let's understand how to compute and dissect a planet spectrum. \n",
    "\n",
    "For now, we will pick one age and one mass and analyze their differences. After you go through this once, feel free to choose different masses, and ages and repeat the exercise. \n"
   ]
  },
  {
   "cell_type": "code",
   "execution_count": null,
   "metadata": {},
   "outputs": [],
   "source": [
    "case_study = jdi.evolution_track(mass=8,age=1e7)\n",
    "cold = case_study['cold']\n",
    "hot = case_study['hot']"
   ]
  },
  {
   "cell_type": "code",
   "execution_count": null,
   "metadata": {},
   "outputs": [],
   "source": [
    "hot,cold"
   ]
  },
  {
   "cell_type": "code",
   "execution_count": null,
   "metadata": {},
   "outputs": [],
   "source": [
    "wave_range = [1,5] \n",
    "opa = jdi.opannection(wave_range=wave_range)"
   ]
  },
  {
   "cell_type": "markdown",
   "metadata": {},
   "source": [
    "The only difference in the code blocks below is the gravity and the effective temperature, which we can pull from the planet evolution tracks. For now, we will focus on absolute flux from the planet (as opposed to contrast, the ratio of planet to stellar flux). Therefore, we are relatively agnostic to the stellar spectrum.\n",
    "\n",
    "A quick refresher in running the `jdi.inputs` function: \n",
    "\n",
    "1. First define an empty class by running `jdi.inputs`\n",
    "2. Set the stellar parameters : `star(opacityclass, Teff, M/H, logg, radius, radius_unit)` \n",
    "3. Set the `gravity` of the planet. In this case we have this information from evolution models. \n",
    "4. Set the chemistry and pressure-temperature using the `sonora` grid 1D models that you downloaded. \n",
    "5. Finally, compute the spectrum with calculation set to `thermal` for thermal emission (other options include `reflected` and `transmission`). \n"
   ]
  },
  {
   "cell_type": "code",
   "execution_count": null,
   "metadata": {},
   "outputs": [],
   "source": [
    "#HOT START\n",
    "yph = jdi.inputs()\n",
    "yph.star(opa, 5000,0,4.0,radius=1, radius_unit=jdi.u.Unit('R_sun'))\n",
    "yph.gravity(gravity=hot['grav_cgs'] , gravity_unit=jdi.u.Unit('cm/s**2'))\n",
    "yph.sonora(sonora_profile_db,  hot['Teff'])\n",
    "hot_case = yph.spectrum(opa,calculation='thermal', full_output=True)\n",
    "\n",
    "#COLD START\n",
    "ypc = jdi.inputs()\n",
    "ypc.star(opa, 5000,0,4.0,radius=1, radius_unit=jdi.u.Unit('R_sun'))\n",
    "ypc.gravity(gravity=cold['grav_cgs'] , gravity_unit=jdi.u.Unit('cm/s**2'))\n",
    "ypc.sonora(sonora_profile_db,  cold['Teff'])\n",
    "cold_case = ypc.spectrum(opa,calculation='thermal', full_output=True)\n"
   ]
  },
  {
   "cell_type": "markdown",
   "metadata": {},
   "source": [
    "Now we can use our first `PICASO` plotting function: `jpi.spectrum`. More plotting functions will follow"
   ]
  },
  {
   "cell_type": "code",
   "execution_count": null,
   "metadata": {},
   "outputs": [],
   "source": [
    "wno,spec=[],[]\n",
    "for i in [cold_case, hot_case]:\n",
    "    x,y = jdi.mean_regrid(i['wavenumber'],i['thermal'], R=100) #ADD UNITS, ? resolution , do not exceed 150\n",
    "    wno+=[x]\n",
    "    spec+=[y]\n",
    "jpi.show(jpi.spectrum(wno,spec,legend=['Cold','Hot'], y_axis_type='log',\n",
    "                     plot_width=500))"
   ]
  },
  {
   "cell_type": "markdown",
   "metadata": {},
   "source": [
    "## How to dissect a planetary spectrum\n",
    "\n",
    "It is great to be able to produce spectra. But let's dig into what is going on in these atmospheres that give the spectra their distinct bumps and wiggles. Specifically, we want to understand: \n",
    "\n",
    "1. What chemical species are dominating each spectra in both regimes?\n",
    "2. What chemical species are minor, but still present a visible influence on the spectrum (note we say \"visible\" not \"observable\" -- which we will get into in the last tutorial) \n",
    "3. What is the approximate pressure-temperature profile of the planet?"
   ]
  },
  {
   "cell_type": "markdown",
   "metadata": {},
   "source": [
    "### Step 1: Check inputs to make sure input chemistry and climate are as expected\n",
    "\n",
    "For both the cold and hot start cases, let's inspect your input in order to make sure that it follows your intuition regarding the effective temperature, gravity that you have inputed.  "
   ]
  },
  {
   "cell_type": "code",
   "execution_count": null,
   "metadata": {},
   "outputs": [],
   "source": [
    "#everything will be aggregated here \n",
    "cold_case['full_output'].keys()"
   ]
  },
  {
   "cell_type": "code",
   "execution_count": null,
   "metadata": {},
   "outputs": [],
   "source": [
    "cold_case['full_output']['layer'].keys()"
   ]
  },
  {
   "cell_type": "code",
   "execution_count": null,
   "metadata": {},
   "outputs": [],
   "source": [
    "#see raw PT profile info \n",
    "P = cold_case['full_output']['layer']['pressure']\n",
    "T = cold_case['full_output']['layer']['temperature']"
   ]
  },
  {
   "cell_type": "code",
   "execution_count": null,
   "metadata": {},
   "outputs": [],
   "source": [
    "#pressure temperature profiles\n",
    "jpi.show(jpi.row(\n",
    "    [jpi.pt(cold_case['full_output'], title='Cold Start'), \n",
    "     jpi.pt(hot_case['full_output'], title='Hot Start')]))"
   ]
  },
  {
   "cell_type": "code",
   "execution_count": null,
   "metadata": {},
   "outputs": [],
   "source": [
    "#all chemistry can be found here - mixing ratios is synonymous with chemical abundance \n",
    "cold_case['full_output']['layer']['mixingratios'].head()"
   ]
  },
  {
   "cell_type": "code",
   "execution_count": null,
   "metadata": {},
   "outputs": [],
   "source": [
    "#chemistry profiles\n",
    "jpi.show(jpi.row(\n",
    "    [jpi.mixing_ratio(cold_case['full_output'],limit=15,\n",
    "                      title='Cold Start',plot_height=400), \n",
    "     jpi.mixing_ratio(hot_case['full_output'],limit=15,\n",
    "                      title='Hot Start',plot_height=400)]))"
   ]
  },
  {
   "cell_type": "markdown",
   "metadata": {},
   "source": [
    "*Right now I have limited to the highest abundance 15 molecules. However, with the full `pandas` dataframe above, you should be able to explore other trace species that were included in the final model.*\n",
    "\n",
    "Note the color ordering of the mixing ratio figure is returned as a function of decreasing mixing ratio abundance. You are looking at the highest 15 (or whatever you specified for `limit`) abundant molecules. Are they the same for each case? You should archive these high abundance molecules in your mind so that you can properly analyze your spectra in Step 2 and 3. \n"
   ]
  },
  {
   "cell_type": "markdown",
   "metadata": {},
   "source": [
    "### Step 2: Determine what the major molecular contributors are "
   ]
  },
  {
   "cell_type": "code",
   "execution_count": null,
   "metadata": {},
   "outputs": [],
   "source": [
    "cold_cont = jdi.get_contribution(ypc, opa, at_tau=1)\n",
    "hot_cont = jdi.get_contribution(yph, opa, at_tau=1)"
   ]
  },
  {
   "cell_type": "markdown",
   "metadata": {},
   "source": [
    "This output consists of three important items: \n",
    "\n",
    "`taus_per_layer`\n",
    "- Each dictionary entry is a nlayer x nwave that represents the per layer optical depth for that molecule. \n",
    "\n",
    "`cumsum_taus`\n",
    "- Each dictionary entry is a nlevel x nwave that represents the cumulative summed opacity for that molecule. \n",
    "\n",
    "`tau_p_surface` \n",
    "- Each dictionary entry is a nwave array that represents the pressure level where the cumulative opacity reaches the value specified by the user through `at_tau`."
   ]
  },
  {
   "cell_type": "code",
   "execution_count": null,
   "metadata": {},
   "outputs": [],
   "source": [
    "#explore the output\n",
    "hot_cont['tau_p_surface'].keys()"
   ]
  },
  {
   "cell_type": "markdown",
   "metadata": {},
   "source": [
    "Let's take a look at the last one, optical depth ~ 1 surface, as it will give us the best global view of what is going on. \n",
    "\n",
    "Need to gain more intuition for optical depth? Play around with increasing and decrease the `at_tau` parameter in the `get_contribution` function. "
   ]
  },
  {
   "cell_type": "code",
   "execution_count": null,
   "metadata": {},
   "outputs": [],
   "source": [
    "figs=[]\n",
    "for i,it in zip([cold_cont['tau_p_surface'], hot_cont['tau_p_surface']],['Cold Start','Hot Start']):\n",
    "    wno=[]\n",
    "    spec=[]\n",
    "    labels=[]\n",
    "    for j in i.keys(): \n",
    "        x,y = jdi.mean_regrid(opa.wno, i[j],R=100)\n",
    "        if np.min(y)<5: # Bars \n",
    "            wno+=[x]\n",
    "            spec+=[y]\n",
    "            labels +=[j]\n",
    "    fig = jpi.spectrum(wno,spec,plot_width=600,plot_height=350,y_axis_label='Tau~1 Pressure (bars)',\n",
    "                       y_axis_type='log',x_range=[1,5],\n",
    "                         y_range=[1e2,1e-4],legend=labels)\n",
    "    fig.title.text=it\n",
    "    figs+=[fig]\n",
    "jpi.show(jpi.column(figs))"
   ]
  },
  {
   "cell_type": "markdown",
   "metadata": {},
   "source": [
    "Let's think through these main points:\n",
    "\n",
    "1. Is there a difference between the continuum species? Does that make sense given your intuition of the temperature pressure profiles? *insert more reading on basic hydrogen continuum* \n",
    "\n",
    "2. How has the interplay of H2O/CO2/CH4/CO changed between the two models? Does this check out given chemical equilibrium tables. [Moses et al. 2016 Fig. 8](#References) will help strengthen your intuition. \n",
    "\n",
    "3. Focus on the CH4 $\\tau$~1 pressure curve for both cases. Without looking at the abundance plots, what can you deduce about the vertical abundance profile of CH4 in the hot start case? Does it increase or decrease with pressure? *Hint: What distinguishes this CH4 curve from H2O, for instance?* At what pressure is this transition occurring? If you happen to know something about carbon-chemistry you might be able to surmise the approximate temperature associated with the pressure you have identified. If not, not to worry!!! We will explore this further in the next notebook.\n"
   ]
  },
  {
   "cell_type": "markdown",
   "metadata": {},
   "source": [
    "### Step 3: Compare the flux of the system with basic blackbody curves to build understanding of the climate structure\n",
    "\n",
    "Flux units are hard, but blackbodies are your friend. When producing emission spectra, it's helpful to produce your flux output with blackbodies. The `PICASO` function, `jpi.flux_at_top` takes in an array of pressures. With the pressures, it looks at your pressure-temperature profile, to determine what the temperature is at each pressure. Then, it computes a blackbody at each of those temperatures. Given this flux at the top output, you should be able to reproduce rough sketch of the pressure temperature profile. \n",
    "\n",
    "*Bonus*: Another good exercise is to use the Planck function to transform the flux out the top of the atmosphere, to a \"brightness temperature\". Students are encouraged to explore this and create the plot. \n"
   ]
  },
  {
   "cell_type": "code",
   "execution_count": null,
   "metadata": {},
   "outputs": [],
   "source": [
    "figs =[]\n",
    "for title,data in zip(['Cold Start','Hot Start'],[cold_case, hot_case]):\n",
    "    fig = jpi.flux_at_top(data, pressures=[10,1,0.1],R=100,title=title)\n",
    "    fig.legend.location='bottom_right'\n",
    "    figs+=[fig]\n",
    "jpi.show(jpi.row(figs))"
   ]
  },
  {
   "cell_type": "markdown",
   "metadata": {},
   "source": [
    "What can you take away from this plot? \n",
    "\n",
    "1. What opacity contribution is absent at 1 micron from the cold start case that gives you access to comparatively high pressures? \n",
    "\n",
    "\n",
    "2. Where is the flux emanating from across the 4-5 micron region for these two cases? How are they different? Referring back to your opacity contribution plot, what is causing this?\n",
    "\n",
    "3. What is the range of pressures you will be sensitive to if conducting a 1-5 micron spectrum? \n",
    "\n",
    "4. J, H, and K bands are popular bands for spectroscopy. What pressure ranges each of these bands sensitive to? Cross reference this against your opacity contribution plot. What molecules are dominating these different regions?\n",
    "\n",
    "5. If you were limited to differential photometry (e.g. J-H, J-K, H-K) what two bands might you pick to maximize information from this system? \n",
    "\n",
    "6. In addition to the two photometric bands you've chosen, what third ~1 micron in width spectroscopic band might you choose in this wavelength region? Assume there are no observational constraints across this 1-5 micron region. \n",
    "\n",
    "Wrap up: \n",
    "\n",
    "In this exercise we started with a mass and an age. In reality, we start with **luminosity and age** and try to infer formation and mass. We will explore this in the next exercise. "
   ]
  },
  {
   "cell_type": "markdown",
   "metadata": {},
   "source": [
    "## References\n",
    "\n",
    "[Marley, Mark S., et al. \"On the luminosity of young Jupiters.\" The Astrophysical Journal 655.1 (2007): 541.](https://ui.adsabs.harvard.edu/abs/2007ApJ...655..541M/abstract)\n",
    "\n",
    "[Moses, Julianne I., et al. \"On the composition of young, directly imaged giant planets.\" The Astrophysical Journal 829.2 (2016): 66.](https://ui.adsabs.harvard.edu/abs/2016ApJ...829...66M/abstract)"
   ]
  },
  {
   "cell_type": "code",
   "execution_count": null,
   "metadata": {},
   "outputs": [],
   "source": []
  }
 ],
 "metadata": {
  "kernelspec": {
   "display_name": "Python 3 (ipykernel)",
   "language": "python",
   "name": "python3"
  },
  "language_info": {
   "codemirror_mode": {
    "name": "ipython",
    "version": 3
   },
   "file_extension": ".py",
   "mimetype": "text/x-python",
   "name": "python",
   "nbconvert_exporter": "python",
   "pygments_lexer": "ipython3",
   "version": "3.11.5"
  },
  "toc": {
   "base_numbering": 1,
   "nav_menu": {},
   "number_sections": true,
   "sideBar": true,
   "skip_h1_title": false,
   "title_cell": "Table of Contents",
   "title_sidebar": "Contents",
   "toc_cell": true,
   "toc_position": {},
   "toc_section_display": true,
   "toc_window_display": false
  },
  "varInspector": {
   "cols": {
    "lenName": 16,
    "lenType": 16,
    "lenVar": 40
   },
   "kernels_config": {
    "python": {
     "delete_cmd_postfix": "",
     "delete_cmd_prefix": "del ",
     "library": "var_list.py",
     "varRefreshCmd": "print(var_dic_list())"
    },
    "r": {
     "delete_cmd_postfix": ") ",
     "delete_cmd_prefix": "rm(",
     "library": "var_list.r",
     "varRefreshCmd": "cat(var_dic_list()) "
    }
   },
   "types_to_exclude": [
    "module",
    "function",
    "builtin_function_or_method",
    "instance",
    "_Feature"
   ],
   "window_display": false
  }
 },
 "nbformat": 4,
 "nbformat_minor": 4
}
