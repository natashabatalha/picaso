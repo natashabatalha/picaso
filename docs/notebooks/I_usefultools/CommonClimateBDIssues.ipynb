{
 "cells": [
  {
   "cell_type": "markdown",
   "metadata": {},
   "source": [
    "# Climate Model Common Issues\n",
    "In this tutorial, we're going to highlight some of the most common issues that you could potentially encounter when running 1D climate models and what are the general recommendations to fix it! You don't neccesarily need to rerun this notebook, this is more for you to look at to see what issues might look like in your model figures\n",
    "\n",
    "By now you should have been able to run all the previous climate model notebooks. Now let's get started!"
   ]
  },
  {
   "cell_type": "code",
   "execution_count": null,
   "metadata": {},
   "outputs": [],
   "source": [
    "import os\n",
    "import warnings\n",
    "warnings.filterwarnings('ignore')\n",
    "import picaso.justdoit as jdi\n",
    "import picaso.justplotit as jpi\n",
    "import virga.justdoit as vj\n",
    "import virga.justplotit as cldplt\n",
    "jpi.output_notebook()\n",
    "import astropy.units as u\n",
    "import numpy as np\n",
    "import matplotlib.pyplot as plt\n",
    "%matplotlib inline\n",
    "import xarray\n",
    "from bokeh.plotting import show, figure"
   ]
  },
  {
   "cell_type": "markdown",
   "metadata": {},
   "source": [
    "## Deep Isothermal Profiles\n",
    "\n",
    "Let's say you don't know what radiative-convective (rc) boundary guess to start with, you choose some random number and something just doesn't look right. Sometimes you might run into issues where you get an isothermal profile that hits the maximum allowable temperature in our framework. Here is what that run would look like"
   ]
  },
  {
   "cell_type": "code",
   "execution_count": null,
   "metadata": {},
   "outputs": [],
   "source": [
    "sonora_profile_db = os.path.join(os.getenv('picaso_refdata'),'sonora_grids','bobcat')"
   ]
  },
  {
   "cell_type": "code",
   "execution_count": null,
   "metadata": {},
   "outputs": [],
   "source": [
    "cl_run = jdi.inputs(calculation=\"browndwarf\", climate = True) # start a calculation\n",
    "\n",
    "teff= 2400 # Effective Temperature of your Brown Dwarf in K\n",
    "grav = 10 # Gravity of your brown dwarf in m/s/s\n",
    "\n",
    "cl_run.gravity(gravity=grav, gravity_unit=u.Unit('m/(s**2)')) # input gravity\n",
    "cl_run.effective_temp(teff) # input effective temperature\n",
    "\n",
    "gases_fly = ['CO','CH4','H2O','NH3','CO2','N2','HCN','H2','C2H2','Na','K','TiO','VO','FeH'] #PH3 excluded\n",
    "opacity_ck =  jdi.opannection(method='resortrebin',preload_gases=gases_fly)# grab your opacities"
   ]
  },
  {
   "cell_type": "code",
   "execution_count": null,
   "metadata": {},
   "outputs": [],
   "source": [
    "nlevel = 91 # number of plane-parallel levels in your code\n",
    "\n",
    "pressure_bobcat,temp_bobcat = np.loadtxt(jdi.os.path.join(\n",
    "                            sonora_profile_db,f\"t{teff}g17nc_m0.0.cmp.gz\"),\n",
    "                            usecols=[1,2],unpack=True, skiprows = 1)"
   ]
  },
  {
   "cell_type": "code",
   "execution_count": null,
   "metadata": {},
   "outputs": [],
   "source": [
    "nofczns = 1 # number of convective zones initially\n",
    "\n",
    "# Let's say you chose to start with level 87 as the top of the convective zone\n",
    "nstr_upper = 87 # top most level of guessed convective zone \n",
    "\n",
    "nstr_deep = nlevel - 2 # this is always the case. Dont change this\n",
    "\n",
    "nstr = np.array([0,nstr_upper,nstr_deep,0,0,0])\n",
    "\n",
    "# Here are some other parameters needed for the code.\n",
    "rfacv = 0.0 #we are focused on a brown dwarf so let's keep this as is\n",
    "\n",
    "kz = temp_bobcat*0 + 1e2"
   ]
  },
  {
   "cell_type": "code",
   "execution_count": null,
   "metadata": {},
   "outputs": [],
   "source": [
    "cl_run.inputs_climate(temp_guess= temp_bobcat, pressure= pressure_bobcat,\n",
    "                      nstr = nstr, nofczns = nofczns , rfacv = rfacv)\n",
    "\n",
    "cl_run.atmosphere(mh=100, cto_relative=2.5, chem_method='visscher',\n",
    "                quench=True, cold_trap = False, no_ph3 = True, vol_rainout=True)\n",
    "\n",
    "cl_run.inputs['atmosphere']['profile']['kz']=kz"
   ]
  },
  {
   "cell_type": "code",
   "execution_count": null,
   "metadata": {},
   "outputs": [],
   "source": [
    "out = cl_run.climate(opacity_ck, save_all_profiles=True,with_spec=True, save_all_kzz = True,diseq_chem=True)"
   ]
  },
  {
   "cell_type": "code",
   "execution_count": null,
   "metadata": {},
   "outputs": [],
   "source": [
    "plt.figure(figsize=(8,6))\n",
    "plt.ylabel(\"Pressure [Bars]\")\n",
    "plt.xlabel('Temperature [K]')\n",
    "plt.xlim(0,max(out['temperature'])+50)\n",
    "plt.gca().invert_yaxis()\n",
    "\n",
    "plt.semilogy(out['temperature'],out['pressure'],label=\"Our Climate Run\")\n",
    "\n",
    "plt.legend()\n",
    "plt.tight_layout()\n",
    "plt.show()"
   ]
  },
  {
   "cell_type": "markdown",
   "metadata": {},
   "source": [
    "You can see from this PT profile that it's hitting that maximum temperature which is why it looks isothermal and causing issues in the deeper parts of the atmosphere. \n",
    "\n",
    "**Recommendation** In cases like this, it's helpful to start the rc-boundary guess higher up in the atmosphere, by at least 5-10 levels."
   ]
  },
  {
   "cell_type": "markdown",
   "metadata": {},
   "source": [
    "## Starting Too High of Radiative-Convective Boundary Guess\n",
    "\n",
    "Now let's say you tried starting with a rc boundary guess higher up in the profile since you don't want it to be too deep in the atmosphere. If you start with a guess too high up in the atmosphere you'll notice some odd behaviours as well. This is very common in both clear and cloudy models but fortunately it's very easy to visually catch this issue majority of the time. Let's look at this with a clear atmospheric model."
   ]
  },
  {
   "cell_type": "code",
   "execution_count": null,
   "metadata": {},
   "outputs": [],
   "source": [
    "#1 ck tables from roxana\n",
    "mh = '+000'#'+0.0' #log metallicity\n",
    "CtoO = '100'#'1.0' # CtoO ratio\n",
    "\n",
    "ck_db = os.path.join(os.getenv('picaso_refdata'),'opacities', 'preweighted',f'sonora_2020_feh{mh}_co_{CtoO}.data.196')"
   ]
  },
  {
   "cell_type": "code",
   "execution_count": null,
   "metadata": {},
   "outputs": [],
   "source": [
    "cl_run = jdi.inputs(calculation=\"browndwarf\", climate = True) # start a calculation\n",
    "\n",
    "teff= 200 # Effective Temperature of your Brown Dwarf in K\n",
    "grav = 1000 # Gravity of your brown dwarf in m/s/s\n",
    "\n",
    "cl_run.gravity(gravity=grav, gravity_unit=u.Unit('m/(s**2)')) # input gravity\n",
    "cl_run.effective_temp(teff) # input effective temperature\n",
    "\n",
    "opacity_ck = jdi.opannection(ck_db=ck_db, method='preweighted') # grab your opacities"
   ]
  },
  {
   "cell_type": "code",
   "execution_count": null,
   "metadata": {},
   "outputs": [],
   "source": [
    "nlevel = 91 # number of plane-parallel levels in your code\n",
    "\n",
    "pressure_bobcat,temp_bobcat = np.loadtxt(jdi.os.path.join(\n",
    "                            sonora_profile_db,f\"t{teff}g{grav}nc_m0.0.cmp.gz\"),\n",
    "                            usecols=[1,2],unpack=True, skiprows = 1)"
   ]
  },
  {
   "cell_type": "markdown",
   "metadata": {},
   "source": [
    "Maybe you didn't want to wait forever for your model to run so you didn't want to start with a very deep `nstr_upper`, what happens if we start with a guess at let's say layer 45 (reminder in these tutorials we have 91 layers in our atmosphere)"
   ]
  },
  {
   "cell_type": "code",
   "execution_count": null,
   "metadata": {},
   "outputs": [],
   "source": [
    "nofczns = 1 # number of convective zones initially\n",
    "\n",
    "nstr_upper = 45 # top most level of guessed convective zone \n",
    "\n",
    "nstr_deep = nlevel - 2 # this is always the case. Dont change this\n",
    "\n",
    "nstr = np.array([0,nstr_upper,nstr_deep,0,0,0])\n",
    "\n",
    "# Here are some other parameters needed for the code.\n",
    "rfacv = 0.0 #we are focused on a brown dwarf so let's keep this as is"
   ]
  },
  {
   "cell_type": "code",
   "execution_count": null,
   "metadata": {},
   "outputs": [],
   "source": [
    "cl_run.inputs_climate(temp_guess= temp_bobcat, pressure= pressure_bobcat,\n",
    "                      nstr = nstr, nofczns = nofczns , rfacv = rfacv)"
   ]
  },
  {
   "cell_type": "code",
   "execution_count": null,
   "metadata": {},
   "outputs": [],
   "source": [
    "out = cl_run.climate(opacity_ck, save_all_profiles=True,with_spec=True)"
   ]
  },
  {
   "cell_type": "code",
   "execution_count": null,
   "metadata": {},
   "outputs": [],
   "source": [
    "pressure_bobcat,temp_bobcat = np.loadtxt(jdi.os.path.join(\n",
    "                            sonora_profile_db,f\"t{teff}g{grav}nc_m0.0.cmp.gz\"),\n",
    "                            usecols=[1,2],unpack=True, skiprows = 1)\n",
    "plt.figure(figsize=(8,6))\n",
    "plt.ylabel(\"Pressure [Bars]\")\n",
    "plt.xlabel('Temperature [K]')\n",
    "plt.xlim(0,max(out['temperature'])+50)\n",
    "plt.ylim(3e3,1e-3)\n",
    "\n",
    "plt.semilogy(temp_bobcat,pressure_bobcat,color=\"k\",linestyle=\"--\",linewidth=3,label=\"Sonora Bobcat\")\n",
    "\n",
    "plt.semilogy(out['temperature'],out['pressure'],label=\"Our Climate Run\")\n",
    "\n",
    "plt.legend()\n",
    "plt.tight_layout()\n",
    "plt.show()"
   ]
  },
  {
   "cell_type": "markdown",
   "metadata": {},
   "source": [
    "So as you can see here there's this large jump in the PT profile where the profile is following the adiabat too far up. This is a clear visual clue that you need to start with a deeper `nstr_upper` initial guess, even though it says this climate model ended up converging.\n",
    "\n",
    "Sometimes it's not as visually noticeable as this so a good way to tell if these models are good or not is by looking at dT/dP"
   ]
  },
  {
   "cell_type": "code",
   "execution_count": null,
   "metadata": {},
   "outputs": [],
   "source": [
    "cp, grad, dtdp, layer_p= jpi.pt_adiabat(out,cl_run)"
   ]
  },
  {
   "cell_type": "markdown",
   "metadata": {},
   "source": [
    "So here in this case, although it never goes super-adiabatic, you can see that dT/dP actually goes super negative. Anytime you see these going really far negative, it usually points to a poorly converged model.\n",
    "\n",
    "Sometimes if you start way too high, the convective zone will reach the top of the atmosphere, PICASO will send you an error and the run will fail if that occurs.\n",
    "\n",
    "**Recommendation**:\n",
    "Generally, a conservative starting rc boundary guess is 83 (if doing 91 levels). The actual layer of where the rc boundary is going to vary depending on the surface gravity, whether there are clouds or not, the temperature of the object, etc."
   ]
  },
  {
   "cell_type": "markdown",
   "metadata": {},
   "source": [
    "### Checking if You Reached Radiative-Convective Equilibrium (RCE)\n",
    "\n",
    "Another indicator, on top of the lapse rate figure, that indicates your model isn't well converged even though it says `YAY ENDING WITH CONVERGENCE` is to look at the F_{net}/F_{IR} output. This will indicate to us that your model might not be in radiative-convective equilibrium (RCE).\n",
    "\n",
    "Let's check whether we achieved RCE in this case. In the convective regions for these climate models, the flux coming out of the convective layers should be in the IR. This isn't the case for the radiative layers. So when we look at the Fnet/F_IR plot, you should see a chair like behaviour where at the top of the atmosphere, there are low values of Fnet/F_IR (~1e-3 to 1e-5). Then, near the rc boundary, it should sharply increase since this is the beginning of the region where convection dominates."
   ]
  },
  {
   "cell_type": "code",
   "execution_count": null,
   "metadata": {},
   "outputs": [],
   "source": [
    "plt.figure(figsize=(8,6))\n",
    "plt.ylabel(\"Pressure [bar]\")\n",
    "plt.xlabel(r'F$_{\\rm net}$/F$_{\\rm net IR}$')\n",
    "plt.ylim(1e4,1e-4)\n",
    "\n",
    "plt.loglog(abs(out['fnet/fnetir']),out['pressure'], label = \"Our Climate Run\")\n",
    "plt.axhline(y=pressure_bobcat[out['cvz_locs'][1]],color=\"k\",linestyle=\"--\",linewidth=3, label = 'RC Boundary')\n",
    "\n",
    "plt.legend()\n",
    "plt.tight_layout()\n",
    "plt.show()"
   ]
  },
  {
   "cell_type": "markdown",
   "metadata": {},
   "source": [
    "So in this case here you can see that it's not in RCE. The fluxes are still coming out from the IR above where it's supposed to be 'radiative' and so we're not in RCE.\n",
    "\n",
    "Now let's fix this by running a case where we have a better rc boundary guess that isn't too high and we can see what good diagnostic plots should look like"
   ]
  },
  {
   "cell_type": "code",
   "execution_count": null,
   "metadata": {},
   "outputs": [],
   "source": [
    "#1 ck tables from roxana\n",
    "mh = '+000'#'+0.0' #log metallicity\n",
    "CtoO = '100'#'1.0' # CtoO ratio\n",
    "\n",
    "# ck_db = f'/Users/nbatalh1/Documents/data/kcoeff_asci/sonora_2020_feh{mh}_co_{CtoO}.data.196'\n",
    "ck_db = os.path.join(os.getenv('picaso_refdata'),'opacities', 'preweighted',f'sonora_2020_feh{mh}_co_{CtoO}.data.196')"
   ]
  },
  {
   "cell_type": "code",
   "execution_count": null,
   "metadata": {},
   "outputs": [],
   "source": [
    "cl_run = jdi.inputs(calculation=\"browndwarf\", climate = True) # start a calculation\n",
    "\n",
    "teff= 200 # Effective Temperature of your Brown Dwarf in K\n",
    "grav = 1000 # Gravity of your brown dwarf in m/s/s\n",
    "\n",
    "cl_run.gravity(gravity=grav, gravity_unit=u.Unit('m/(s**2)')) # input gravity\n",
    "cl_run.effective_temp(teff) # input effective temperature\n",
    "\n",
    "opacity_ck = jdi.opannection(ck_db=ck_db, method='preweighted') # grab your opacities"
   ]
  },
  {
   "cell_type": "code",
   "execution_count": null,
   "metadata": {},
   "outputs": [],
   "source": [
    "nlevel = 91 # number of plane-parallel levels in your code\n",
    "\n",
    "pressure_bobcat,temp_bobcat = np.loadtxt(jdi.os.path.join(\n",
    "                            sonora_profile_db,f\"t{teff}g{grav}nc_m0.0.cmp.gz\"),\n",
    "                            usecols=[1,2],unpack=True, skiprows = 1)"
   ]
  },
  {
   "cell_type": "code",
   "execution_count": null,
   "metadata": {},
   "outputs": [],
   "source": [
    "nofczns = 1 # number of convective zones initially\n",
    "\n",
    "nstr_upper = 60 # top most level of guessed convective zone \n",
    "\n",
    "nstr_deep = nlevel - 2 # this is always the case. Dont change this\n",
    "\n",
    "nstr = np.array([0,nstr_upper,nstr_deep,0,0,0])\n",
    "\n",
    "# Here are some other parameters needed for the code.\n",
    "rfacv = 0.0 #we are focused on a brown dwarf so let's keep this as is"
   ]
  },
  {
   "cell_type": "code",
   "execution_count": null,
   "metadata": {},
   "outputs": [],
   "source": [
    "cl_run.inputs_climate(temp_guess= temp_bobcat, pressure= pressure_bobcat,\n",
    "                      nstr = nstr, nofczns = nofczns , rfacv = rfacv)"
   ]
  },
  {
   "cell_type": "code",
   "execution_count": null,
   "metadata": {},
   "outputs": [],
   "source": [
    "out = cl_run.climate(opacity_ck, save_all_profiles=True,with_spec=True)"
   ]
  },
  {
   "cell_type": "code",
   "execution_count": null,
   "metadata": {},
   "outputs": [],
   "source": [
    "pressure_bobcat,temp_bobcat = np.loadtxt(jdi.os.path.join(\n",
    "                            sonora_profile_db,f\"t{teff}g{grav}nc_m0.0.cmp.gz\"),\n",
    "                            usecols=[1,2],unpack=True, skiprows = 1)\n",
    "plt.figure(figsize=(8,6))\n",
    "plt.ylabel(\"Pressure [Bars]\")\n",
    "plt.xlabel('Temperature [K]')\n",
    "plt.xlim(0,max(out['temperature'])+50)\n",
    "plt.ylim(3e3,1e-3)\n",
    "\n",
    "plt.semilogy(temp_bobcat,pressure_bobcat,color=\"k\",linestyle=\"--\",linewidth=3,label=\"Sonora Bobcat\")\n",
    "\n",
    "plt.semilogy(out['temperature'],out['pressure'],label=\"Our Climate Run\")\n",
    "\n",
    "plt.legend()\n",
    "plt.tight_layout()\n",
    "plt.show()"
   ]
  },
  {
   "cell_type": "code",
   "execution_count": null,
   "metadata": {},
   "outputs": [],
   "source": [
    "cp, grad, dtdp, layer_p= jpi.pt_adiabat(out,cl_run)"
   ]
  },
  {
   "cell_type": "code",
   "execution_count": null,
   "metadata": {},
   "outputs": [],
   "source": [
    "plt.figure(figsize=(8,6))\n",
    "plt.ylabel(\"Pressure [bar]\")\n",
    "plt.xlabel(r'F$_{\\rm net}$/F$_{\\rm net IR}$')\n",
    "plt.ylim(1e4,1e-4)\n",
    "\n",
    "plt.loglog(abs(out['fnet/fnetir']),out['pressure'], label = \"Our Climate Run\")\n",
    "plt.axhline(y=pressure_bobcat[out['cvz_locs'][1]],color=\"k\",linestyle=\"--\",linewidth=3, label = 'RC Boundary')\n",
    "\n",
    "plt.legend()\n",
    "plt.tight_layout()\n",
    "plt.show()"
   ]
  },
  {
   "cell_type": "markdown",
   "metadata": {},
   "source": [
    "So here we see the really nice behavior we expected in a well converged model in the Fnet/Fnet-IR diagnostic plots. Keep these two diagnostic plots in mind when running models for a sanity check!\n",
    "\n",
    "Sometimes you might have to restart with the resultant profile and start with an rc boundary guess a few layers deeper in the atmosphere to reconverge the profile. Other things to tune within the code include the `egp_stepmax` temperature threshold, but consult with your Sonora team member to discuss this further."
   ]
  }
 ],
 "metadata": {
  "kernelspec": {
   "display_name": "base",
   "language": "python",
   "name": "python3"
  },
  "language_info": {
   "codemirror_mode": {
    "name": "ipython",
    "version": 3
   },
   "file_extension": ".py",
   "mimetype": "text/x-python",
   "name": "python",
   "nbconvert_exporter": "python",
   "pygments_lexer": "ipython3",
   "version": "3.11.8"
  }
 },
 "nbformat": 4,
 "nbformat_minor": 2
}
