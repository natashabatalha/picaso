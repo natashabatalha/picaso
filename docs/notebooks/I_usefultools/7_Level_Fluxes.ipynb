{
 "cells": [
  {
   "cell_type": "markdown",
   "metadata": {},
   "source": [
    "## Get Integrated Level Fluxes For Solar Reflected and Thermal Radiation\n",
    "\n",
    "Here in this notebook we work on getting the pressure-dependent level fluxes and also comparing these level fluxes with our three methods of getting opacities (resort-rebin, resampled, and preweighted)"
   ]
  },
  {
   "cell_type": "code",
   "execution_count": null,
   "metadata": {},
   "outputs": [],
   "source": [
    "import picaso.justdoit as jdi\n",
    "import numpy as np\n",
    "import picaso.justplotit as jpi"
   ]
  },
  {
   "cell_type": "code",
   "execution_count": null,
   "metadata": {},
   "outputs": [],
   "source": [
    "ck_db_path = f'/Users/nbatalh1/Documents/data/kcoeff_asci/sonora_2020_feh+000_co_100.data.196'\n",
    "sonora_profile_db_path  = '/Users/nbatalh1/Documents/data/sonora_bobcat/structures_m+0.0'"
   ]
  },
  {
   "cell_type": "markdown",
   "metadata": {},
   "source": [
    "## Set up the PICASO connection for three test cases (mono and correlated-k)"
   ]
  },
  {
   "cell_type": "code",
   "execution_count": null,
   "metadata": {},
   "outputs": [],
   "source": [
    "#monochromatic opacities pulling the default \n",
    "opacity_mono = jdi.opannection()\n",
    "#opacity datase with preweighted ck tables\n",
    "opacity_ck = jdi.opannection(ck_db=ck_db_path,\n",
    "                             method='preweighted')\n",
    "#resort rebin method with pre-described molecules\n",
    "gases_fly = ['H2O', 'CH4', 'H2', 'CO', 'NH3', 'TiO', 'VO', 'Na', 'K','CO2', 'H', 'He']\n",
    "opacity_resort =  jdi.opannection(method='resortrebin',\n",
    "                                  preload_gases=gases_fly)\n",
    "\n",
    "#lets book-keep these to compare\n",
    "calc = {'mono':  opacity_mono,\n",
    "        'ck':    opacity_ck,\n",
    "        'resort': opacity_resort}\n",
    "\n",
    "cases = {}\n",
    "df = {}\n",
    "\n",
    "# Define some parameters for the simulation\n",
    "stellar_temp   = 6000\n",
    "stellar_met    = 0.0\n",
    "stellar_logg   = 4.0\n",
    "orbital_sep    = 0.05\n",
    "stellar_radius = 1\n",
    "rsol = 6.957e8\n",
    "au   = 1.496e11\n",
    "blackbody_temp = 1000\n",
    "\n",
    "#run the get level-fluxes framework for these three different methods\n",
    "for key in ['mono','ck', 'resort']:\n",
    "    cases[key] = jdi.inputs()\n",
    "\n",
    "    cases[key].approx(get_lvl_flux=True)\n",
    " \n",
    "    # Set common parameters: phase angle and gravity.\n",
    "    cases[key].phase_angle(0)\n",
    "    cases[key].gravity(radius=1, radius_unit=jdi.u.Unit('R_jup'),mass=1, mass_unit=jdi.u.Unit('M_jup'))\n",
    "    \n",
    "    # Set stellar parameters (same for both)\n",
    "    cases[key].star(calc[key],\n",
    "                    stellar_temp,\n",
    "                    stellar_met,  \n",
    "                    stellar_logg, \n",
    "                    radius=stellar_radius,\n",
    "                    radius_unit=jdi.u.Unit('R_sun'),\n",
    "                    semi_major=orbital_sep,\n",
    "                    semi_major_unit=jdi.u.Unit('au'))\n",
    "    Teff = 1000 \n",
    "    cases[key].sonora(sonora_profile_db_path, Teff, chem='grid')\n",
    "    atm = cases[key].inputs['atmosphere']['profile']\n",
    "\n",
    "    # Hardcode a blackbody for testing\n",
    "    atm.temperature = blackbody_temp\n",
    "    cases[key].atmosphere(df=atm)\n",
    "    df[key] = cases[key].spectrum(calc[key], full_output=True, calculation='thermal+reflected')   "
   ]
  },
  {
   "cell_type": "markdown",
   "metadata": {},
   "source": [
    "## Grab the thermal fluxes, reflected fluxes, and pressure levels from the ful output"
   ]
  },
  {
   "cell_type": "code",
   "execution_count": null,
   "metadata": {},
   "outputs": [],
   "source": [
    "# Get the data out of the picaso run\n",
    "thermal_plus = df['ck']['full_output']['level']['thermal_fluxes']['flux_plus']\n",
    "thermal_minus = df['ck']['full_output']['level']['thermal_fluxes']['flux_minus']\n",
    "reflected_plus = df['ck']['full_output']['level']['reflected_fluxes']['flux_plus']\n",
    "reflected_minus = df['ck']['full_output']['level']['reflected_fluxes']['flux_minus']\n",
    "pressures = df['ck']['full_output']['level']['pressure']\n",
    "\n",
    "# Sum the binned fluxes to get the bolometric values\n",
    "integrated_thermal_plus = np.sum(thermal_plus, axis=1)\n",
    "integrated_thermal_minus = np.sum(thermal_minus, axis=1)\n",
    "integrated_reflected_plus = np.sum(reflected_plus, axis=1)\n",
    "integrated_reflected_minus = np.sum(reflected_minus, axis=1)"
   ]
  },
  {
   "cell_type": "markdown",
   "metadata": {},
   "source": [
    "## Plot the thermal and reflected layer fluxes"
   ]
  },
  {
   "cell_type": "code",
   "execution_count": null,
   "metadata": {},
   "outputs": [],
   "source": [
    "# Compute incident flux\n",
    "plt=jpi.plt\n",
    "F0PI = (5.67e-5 * stellar_temp ** 4) * (((stellar_radius * rsol) / (orbital_sep * au)) ** 2)\n",
    "\n",
    "plt.figure(figsize=(8, 6))\n",
    "\n",
    "# Plot thermal and reflected fluxes, both up and down\n",
    "plt.plot(pressures, integrated_thermal_plus, label='Thermal Plus', color='red')\n",
    "plt.plot(pressures, integrated_thermal_minus, label='Thermal Minus', color='blue')\n",
    "plt.plot(pressures, integrated_reflected_plus, label='Reflected Plus', color='green')\n",
    "plt.plot(pressures, integrated_reflected_minus, label='Reflected Minus', color='purple')\n",
    "\n",
    "# Add reference flux lines for thermal and starlight\n",
    "plt.plot(pressures,\n",
    "         [5.67e-5 * blackbody_temp ** 4] * len(pressures),\n",
    "         label='Thermal Test (1000K)',\n",
    "         color='orange',\n",
    "         linestyle='dashed')\n",
    "\n",
    "plt.plot([np.sum(F0PI)] * len(pressures),\n",
    "         label='F0PI',\n",
    "         linestyle='dotted',\n",
    "         linewidth=1,\n",
    "         color='black')\n",
    "\n",
    "plt.xscale('log')\n",
    "plt.yscale('log')\n",
    "plt.ylim(1e5, 1e10)\n",
    "plt.ylabel(r'Layer Flux (erg/cm$^2$/s)')\n",
    "plt.xlabel('Pressure (bar)')\n",
    "plt.legend(loc='best')\n"
   ]
  }
 ],
 "metadata": {
  "kernelspec": {
   "display_name": "pic312",
   "language": "python",
   "name": "python3"
  },
  "language_info": {
   "codemirror_mode": {
    "name": "ipython",
    "version": 3
   },
   "file_extension": ".py",
   "mimetype": "text/x-python",
   "name": "python",
   "nbconvert_exporter": "python",
   "pygments_lexer": "ipython3",
   "version": "3.12.2"
  }
 },
 "nbformat": 4,
 "nbformat_minor": 4
}
