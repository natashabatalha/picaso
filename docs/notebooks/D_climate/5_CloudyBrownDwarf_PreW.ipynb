{
 "cells": [
  {
   "cell_type": "markdown",
   "metadata": {},
   "source": [
    "# One-Dimensional Climate Models: Brown Dwarfs w/ Clouds in Chemical Equilibrium\n",
    "\n",
    "In this tutorial you will learn how to run 1-D climate models for brown dwarfs with Virga clouds included self-consistently! \n",
    "\n",
    "You should already be familiar with running 1-D climate models with running a [simple clear brown dwarf model](https://natashabatalha.github.io/picaso/notebooks/climate/12a_BrownDwarf.html)\n",
    "\n",
    "What you need to have downloaded for clouds to work: \n",
    "[Virga](https://natashabatalha.github.io/virga/installation.html) and be sure to have the mieff files downloaded as well!\n"
   ]
  },
  {
   "cell_type": "code",
   "execution_count": null,
   "metadata": {},
   "outputs": [],
   "source": [
    "import os\n",
    "import warnings\n",
    "warnings.filterwarnings('ignore')\n",
    "import picaso.justdoit as jdi\n",
    "import picaso.justplotit as jpi\n",
    "import virga.justdoit as vj\n",
    "import virga.justplotit as cldplt\n",
    "jpi.output_notebook()\n",
    "import astropy.units as u\n",
    "import numpy as np\n",
    "import matplotlib.pyplot as plt\n",
    "%matplotlib inline\n",
    "import xarray\n",
    "from bokeh.plotting import show, figure"
   ]
  },
  {
   "cell_type": "markdown",
   "metadata": {},
   "source": [
    "We're going to set up the climate run exactly like we would a clear model which you have done before, defining the pre-weighted ck table and initiating the climate inputs"
   ]
  },
  {
   "cell_type": "code",
   "execution_count": null,
   "metadata": {},
   "outputs": [],
   "source": [
    "#1 ck tables from roxana\n",
    "mh = '+000'#'+0.0' #log metallicity\n",
    "CtoO = '100'#'1.0' # CtoO ratio\n",
    "\n",
    "ck_db = os.path.join(os.getenv('picaso_refdata'),'opacities', 'preweighted', f'sonora_2020_feh{mh}_co_{CtoO}.data.196')\n",
    "\n",
    "# #sonora bobcat cloud free structures file\n",
    "sonora_profile_db = os.path.join(os.getenv('picaso_refdata'),'sonora_grids','bobcat')"
   ]
  },
  {
   "cell_type": "code",
   "execution_count": null,
   "metadata": {},
   "outputs": [],
   "source": [
    "cl_run = jdi.inputs(calculation=\"browndwarf\", climate = True) # start a calculation\n",
    "\n",
    "#note you need to put the climate keyword to be True in order to do so\n",
    "# now you need to add these parameters to your calculation\n",
    "\n",
    "teff= 200 # Effective Temperature of your Brown Dwarf in K\n",
    "grav = 1000 # Gravity of your brown dwarf in m/s/s\n",
    "\n",
    "cl_run.gravity(gravity=grav, gravity_unit=u.Unit('m/(s**2)')) # input gravity\n",
    "cl_run.effective_temp(teff) # input effective temperature\n",
    "\n",
    "opacity_ck = jdi.opannection(ck_db=ck_db, method='preweighted') # grab your opacities"
   ]
  },
  {
   "cell_type": "markdown",
   "metadata": {},
   "source": [
    "For this case, we're going to start off with a Sonora Bobcat profile"
   ]
  },
  {
   "cell_type": "code",
   "execution_count": null,
   "metadata": {},
   "outputs": [],
   "source": [
    "nlevel = 91 # number of plane-parallel levels in your code\n",
    "\n",
    "pressure_bobcat,temp_bobcat = np.loadtxt(jdi.os.path.join(\n",
    "                            sonora_profile_db,f\"t{teff}g{grav}nc_m0.0.cmp.gz\"),\n",
    "                            usecols=[1,2],unpack=True, skiprows = 1)"
   ]
  },
  {
   "cell_type": "code",
   "execution_count": null,
   "metadata": {},
   "outputs": [],
   "source": [
    "nofczns = 1 # number of convective zones initially\n",
    "\n",
    "# for the sake of time in this tutorial, I set it to a higher layer because I know where it should be in this case. \n",
    "# In general for clouds it is better to start deeper in the atmosphere and work your way up. It just takes a lot more time unfortunately.\n",
    "nstr_upper = 52 # top most level of guessed convective zone \n",
    "\n",
    "nstr_deep = nlevel - 2 # this is always the case. Dont change this\n",
    "\n",
    "nstr = np.array([0,nstr_upper,nstr_deep,0,0,0])\n",
    "\n",
    "# Here are some other parameters needed for the code.\n",
    "rfacv = 0.0 #we are focused on a brown dwarf so let's keep this as is"
   ]
  },
  {
   "cell_type": "markdown",
   "metadata": {},
   "source": [
    "If you are unfamiliar with Virga, we highly recommend going through the [tutorials](https://natashabatalha.github.io/virga/tutorials.html) to understand the basics of how we generate those clouds before pairing them with the 1-D climate models here. It is also necessarry to have the mieff files generated for the cloud species you want to include."
   ]
  },
  {
   "cell_type": "code",
   "execution_count": null,
   "metadata": {},
   "outputs": [],
   "source": [
    "# virga_dir = '//Users/nbatalh1/Documents/data/virga' # path to virga directory with the Mie scatering files\n",
    "virga_dir = os.path.join(os.getenv('picaso_refdata'),'virga') # path to virga directory with the Mie scattering files"
   ]
  },
  {
   "cell_type": "markdown",
   "metadata": {},
   "source": [
    "Below, we run Virga as normal to initiate our cloud run. Note, though the function is identical when we run `virga` here in climate, we are just doing it to initiate our inputs. So this virga run does not actually compute a cloud in this cell. The cloud model will run within the climate code. "
   ]
  },
  {
   "cell_type": "code",
   "execution_count": null,
   "metadata": {},
   "outputs": [],
   "source": [
    "cl_run.inputs_climate(temp_guess= temp_bobcat, pressure= pressure_bobcat,\n",
    "                      nstr = nstr, nofczns = nofczns , rfacv = rfacv)\n",
    "#cl_run.atmosphere(cold_trap=True)\n",
    "cl_run.virga(condensates = ['H2O'],directory = virga_dir, mh=1,fsed = 8.0)"
   ]
  },
  {
   "cell_type": "code",
   "execution_count": null,
   "metadata": {},
   "outputs": [],
   "source": [
    "out = cl_run.climate(opacity_ck, save_all_profiles=True,with_spec=False)"
   ]
  },
  {
   "cell_type": "markdown",
   "metadata": {},
   "source": [
    "## Plot the P-T Profile"
   ]
  },
  {
   "cell_type": "markdown",
   "metadata": {},
   "source": [
    "Before we plot the PT profile of the model, we want to grab the condensation curve for H2O just to help us visualize where in the atmosphere we expect the cloud to start forming. To the left of this condensation curve is where we expect the H2O vapour to condense into a cloud."
   ]
  },
  {
   "cell_type": "code",
   "execution_count": null,
   "metadata": {},
   "outputs": [],
   "source": [
    "h2o_cond_p, h2o_cond_t = vj.condensation_t('H2O', 1, 2.2, pressure = out['pressure'])"
   ]
  },
  {
   "cell_type": "code",
   "execution_count": null,
   "metadata": {},
   "outputs": [],
   "source": [
    "pressure_bobcat,temp_bobcat = np.loadtxt(jdi.os.path.join(\n",
    "                            sonora_profile_db,f\"t{teff}g{grav}nc_m0.0.cmp.gz\"),\n",
    "                            usecols=[1,2],unpack=True, skiprows = 1)\n",
    "plt.figure(figsize=(8,6))\n",
    "plt.ylabel(\"Pressure [Bars]\")\n",
    "plt.xlabel('Temperature [K]')\n",
    "plt.xlim(0,max(out['temperature'])+50)\n",
    "plt.ylim(3e3,1e-3)\n",
    "\n",
    "plt.plot(h2o_cond_t,h2o_cond_p, 'b', label = 'H2O Condensation Curve')\n",
    "plt.semilogy(temp_bobcat,pressure_bobcat,color=\"k\",linestyle=\"--\",linewidth=3,label=\"Sonora Bobcat\")\n",
    "\n",
    "plt.semilogy(out['temperature'],out['pressure'],label=\"Our Cloudy Run\")\n",
    "\n",
    "plt.legend()\n",
    "plt.tight_layout()\n",
    "plt.show()"
   ]
  },
  {
   "cell_type": "markdown",
   "metadata": {},
   "source": [
    "Now you should be able to see a mostly smooth PT profile that's a little warmer than the cloud-free Sonora Bobcat profile. Even though it looks warmer, the actual effective temperature of the object is the same because the water cloud opacity blocks out some of the flux. \n",
    "\n",
    "As you may know (or will find out) clouds are really difficult to converge models for especially with H2O clouds in cold regions for example. To learn more about common signs that you should look for to identify \"bad\" models, take a look at the [Common Climate Issues Notebook]()"
   ]
  },
  {
   "cell_type": "markdown",
   "metadata": {},
   "source": [
    "## Looking at the Cloud Properties\n",
    "\n",
    "If you look at the climate output now, you will notice a couple of new keys in the dictionary that helps you look at the cloud properties"
   ]
  },
  {
   "cell_type": "code",
   "execution_count": null,
   "metadata": {},
   "outputs": [],
   "source": [
    "out.keys()"
   ]
  },
  {
   "cell_type": "markdown",
   "metadata": {},
   "source": [
    "`cld_df` and `virga_output` are the two important dictionary key outputs for cloudy runs. `cld_df` is in the format to be used to generate spectra."
   ]
  },
  {
   "cell_type": "code",
   "execution_count": null,
   "metadata": {},
   "outputs": [],
   "source": [
    "out['cld_df']"
   ]
  },
  {
   "cell_type": "markdown",
   "metadata": {},
   "source": [
    "`virga_output` can then be directly used with virga functions to easily visualize the properties as well. For more details about these individual properties and how to interpret them, please take a look at the [Analyzing Your Runs](https://natashabatalha.github.io/virga/notebooks/3_AnalyzingRuns.html) virga tutorial."
   ]
  },
  {
   "cell_type": "code",
   "execution_count": null,
   "metadata": {},
   "outputs": [],
   "source": [
    "show(cldplt.all_optics_1d(out['virga_output'], wave_range=[1,2]))"
   ]
  },
  {
   "cell_type": "code",
   "execution_count": null,
   "metadata": {},
   "outputs": [],
   "source": [
    "show(cldplt.all_optics(out['virga_output']))"
   ]
  },
  {
   "cell_type": "code",
   "execution_count": null,
   "metadata": {},
   "outputs": [],
   "source": [
    "show(cldplt.opd_by_gas(out['virga_output']))"
   ]
  },
  {
   "cell_type": "code",
   "execution_count": null,
   "metadata": {},
   "outputs": [],
   "source": [
    "show(cldplt.condensate_mmr(out['virga_output']))"
   ]
  },
  {
   "cell_type": "markdown",
   "metadata": {},
   "source": [
    "## Cloudy vs Clear Spectra"
   ]
  },
  {
   "cell_type": "markdown",
   "metadata": {},
   "source": [
    "Now we can generate the spectrum for the cloudy run. This is exactly like how we generate any other thermal emission spectrum except this time we add in the cloud profile. (You may have done this before if you've tried to use a post-processed virga cloud)"
   ]
  },
  {
   "cell_type": "code",
   "execution_count": null,
   "metadata": {},
   "outputs": [],
   "source": [
    "opa_mon = jdi.opannection(wave_range=[0.3,15])\n",
    "\n",
    "hi_res = jdi.inputs(calculation=\"browndwarf\") # start a calculation\n",
    "teff= 200 # Effective Temperature of your Brown Dwarf in K\n",
    "grav = 1000 # Gravity of your brown dwarf in m/s/s\n",
    "hi_res.gravity(gravity=grav, gravity_unit=u.Unit('m/(s**2)')) # input gravity\n",
    "\n",
    "hi_res.atmosphere(df=out['ptchem_df'])\n",
    "\n",
    "# now let's add the cloud optical properties\n",
    "hi_res.clouds(df=out['cld_df'])\n",
    "\n",
    "df_spec = hi_res.spectrum(opa_mon, calculation='thermal',full_output=True)\n",
    "\n",
    "#converts from picaso default units (can also specify original unit if different from picaso via kwarg f_unit and xgrid_unit)\n",
    "fluxnu= jdi.convert_flux_units(df_spec['wavenumber'], df_spec['thermal'], to_f_unit = 'erg*cm^(-2)*s^(-1)*Hz^(-1)')\n",
    "\n",
    "df_spec['fluxnu'] = fluxnu\n",
    "wno,fp = jdi.mean_regrid(df_spec['wavenumber'], fluxnu, R=200) #wavenumber, erg/cm2/s/Hz\n"
   ]
  },
  {
   "cell_type": "code",
   "execution_count": null,
   "metadata": {},
   "outputs": [],
   "source": [
    "jpi.show(jpi.spectrum(wno,fp,x_axis_type='log',y_axis_type='log'))"
   ]
  },
  {
   "cell_type": "markdown",
   "metadata": {},
   "source": [
    "Now let's load in a Sonora Bobcat spectrum to compare what it looks like. This specific case has been included in this directory for ease of access but to compare other temperatures you will have to download the full [Sonora Bobcat](https://zenodo.org/records/5063476) set of models"
   ]
  },
  {
   "cell_type": "code",
   "execution_count": null,
   "metadata": {},
   "outputs": [],
   "source": [
    "teff = 200\n",
    "grav = 1000\n",
    "\n",
    "wave_bobcat,flux_bobcat = np.loadtxt(f\"sp_t200g1000nc_m0.0\",\n",
    "                            usecols=[0,1],unpack=True, skiprows = 2)"
   ]
  },
  {
   "cell_type": "code",
   "execution_count": null,
   "metadata": {},
   "outputs": [],
   "source": [
    "# now let's regrid the spectra to R=200 to make sure the two spectra are on the same grid\n",
    "wno_bobcat, fp_bobcat = jdi.mean_regrid(1e4/wave_bobcat,flux_bobcat,R=200)"
   ]
  },
  {
   "cell_type": "code",
   "execution_count": null,
   "metadata": {},
   "outputs": [],
   "source": [
    "fig = plt.figure(figsize=(12,6))\n",
    "plt.loglog(1e4/wno_bobcat,fp_bobcat, 'k', label = 'Sonora Bobcat')\n",
    "plt.loglog(1e4/wno,fp, label = 'Our Cloudy Run')\n",
    "plt.xlabel('Wavelength [micron]')\n",
    "plt.ylabel('F$_\\\\nu$ [erg/cm$^2$/s/Hz]')\n",
    "plt.xlim(0.4,12)\n",
    "plt.legend()\n",
    "plt.show()"
   ]
  },
  {
   "cell_type": "markdown",
   "metadata": {},
   "source": [
    "So here you can see the large water cloud feature around 4-5 micron where the flux from this brown dwarf is being surpressed by the large water cloud opacity. Other water features can also be seen in other regions of the spectrum."
   ]
  },
  {
   "cell_type": "markdown",
   "metadata": {},
   "source": [
    "## Patchy Clouds"
   ]
  },
  {
   "cell_type": "markdown",
   "metadata": {},
   "source": [
    "Clouds are hard...Sometimes they don't behave nicely with static 1-D climate models. To alleviate this or to represent the reality that clouds may not be uniformly covering the entire atmosphere, where we see variability in brown dwarfs, we can run patchy clouds! For more on this, you can  read [Morley et al. 2014a](https://ui.adsabs.harvard.edu/abs/2014ApJ...787...78M/abstract) and [Morley et al. 2014b](https://ui.adsabs.harvard.edu/abs/2014ApJ...789L..14M/abstract)\n",
    "\n",
    "Here we're going to initiate a new climate calculation:"
   ]
  },
  {
   "cell_type": "code",
   "execution_count": null,
   "metadata": {},
   "outputs": [],
   "source": [
    "cl_run = jdi.inputs(calculation=\"browndwarf\", climate = True) # start a calculation\n",
    "\n",
    "#note you need to put the climate keyword to be True in order to do so\n",
    "# now you need to add these parameters to your calculation\n",
    "\n",
    "teff= 200 # Effective Temperature of your Brown Dwarf in K\n",
    "grav = 1000 # Gravity of your brown dwarf in m/s/s\n",
    "\n",
    "cl_run.gravity(gravity=grav, gravity_unit=u.Unit('m/(s**2)')) # input gravity\n",
    "cl_run.effective_temp(teff) # input effective temperature\n",
    "\n",
    "opacity_ck = jdi.opannection(ck_db=ck_db,method='preweighted') # grab your opacities"
   ]
  },
  {
   "cell_type": "code",
   "execution_count": null,
   "metadata": {},
   "outputs": [],
   "source": [
    "nofczns = 1 # number of convective zones initially\n",
    "\n",
    "nstr_upper = 52 # top most level of guessed convective zone \n",
    "# for the sake of time of this tutorial, I set it to 60 because I know where it should be in this case. In general for clouds it is better\n",
    "# to start deeper in the atmosphere and work your way up. It just takes more time.\n",
    "\n",
    "nstr_deep = nlevel - 2 # this is always the case. Dont change this\n",
    "# nstr = np.array([0,nstr_upper,nstr_deep,0,0,0]) # single convective zone\n",
    "\n",
    "nstr = np.array([0,nstr_upper,nstr_deep,0,0,0])\n",
    "\n",
    "# Here are some other parameters needed for the code.\n",
    "rfacv = 0.0 #we are focused on a brown dwarf so let's keep this as is"
   ]
  },
  {
   "cell_type": "markdown",
   "metadata": {},
   "source": [
    "Here we include a few new parameters for patchy clouds\n",
    "1. `do_holes` : (bool) Default = False. Turn on/off patchy clouds\n",
    "2. `fhole` : (float) This is a value between 0 and 1. E.g. 0.9 represents 90% clear and 10% cloudy \n",
    "3. `fthin_cld` : (float) This is a value between 0 and 1, it allows you to make the clear column have the slightest of clouds. 0 is completely clear, 1 is completely cloudy\n",
    "\n",
    "Typically, it's easier to think about this using just fhole and ignoring fthin_cld. Use fthin_cld only if you're trying to really model complex systems with multiple cloud thicknesses or to build an intuition about clouds!\n",
    "\n",
    "We can initialize the inputs just like before except we are making `do_holes = True` and `fhole = 0.5`"
   ]
  },
  {
   "cell_type": "code",
   "execution_count": null,
   "metadata": {},
   "outputs": [],
   "source": [
    "cl_run.inputs_climate(temp_guess= temp_bobcat, pressure= pressure_bobcat,\n",
    "                      nstr = nstr, nofczns = nofczns , rfacv = rfacv)\n",
    "\n",
    "cl_run.atmosphere(cold_trap=True)\n",
    "cl_run.virga(condensates = ['H2O'],directory = virga_dir, mh=1,fsed = 8.0,\n",
    "             do_holes = True, fhole = 0.5, fthin_cld = 0)\n"
   ]
  },
  {
   "cell_type": "code",
   "execution_count": null,
   "metadata": {},
   "outputs": [],
   "source": [
    "out_patchy = cl_run.climate(opacity_ck, save_all_profiles=True,with_spec=True)"
   ]
  },
  {
   "cell_type": "code",
   "execution_count": null,
   "metadata": {},
   "outputs": [],
   "source": [
    "# now let's plot the results! \n",
    "pressure_bobcat,temp_bobcat = np.loadtxt(jdi.os.path.join(\n",
    "                            sonora_profile_db,f\"t{teff}g{grav}nc_m0.0.cmp.gz\"),\n",
    "                            usecols=[1,2],unpack=True, skiprows = 1)\n",
    "plt.figure(figsize=(8,6))\n",
    "plt.ylabel(\"Pressure [Bars]\")\n",
    "plt.xlabel('Temperature [K]')\n",
    "#plt.xlim(0,max(out['temperature'])+50)\n",
    "plt.ylim(3e3,1e-3)\n",
    "\n",
    "plt.plot(h2o_cond_t,h2o_cond_p, 'b')#, label = 'H2O Condensation Curve')\n",
    "plt.semilogy(temp_bobcat,pressure_bobcat,color=\"k\",linestyle=\"--\",linewidth=3,label=\"Sonora Bobcat\")\n",
    "\n",
    "plt.semilogy(out['temperature'],out['pressure'],label=\"Our Fully Cloudy Run\")\n",
    "plt.semilogy(out_patchy['temperature'],out_patchy['pressure'],label=\"Our Patchy Cloud Run\")\n",
    "\n",
    "plt.legend()\n",
    "plt.tight_layout()\n",
    "plt.show()"
   ]
  },
  {
   "cell_type": "markdown",
   "metadata": {},
   "source": [
    "What you should notice here, because the patchy clouds reduces the amount of cloud opacity in the atmosphere, the PT profile is not shifted to be as warm as the fully cloudy model but is rather closer to the cloud-free Sonora Bobcat profile"
   ]
  },
  {
   "cell_type": "code",
   "execution_count": null,
   "metadata": {},
   "outputs": [],
   "source": [
    "opa_mon = jdi.opannection(wave_range=[0.3,15])\n",
    "\n",
    "hi_res = jdi.inputs(calculation=\"browndwarf\") # start a calculation\n",
    "teff= 200 # Effective Temperature of your Brown Dwarf in K\n",
    "grav = 1000 # Gravity of your brown dwarf in m/s/s\n",
    "hi_res.gravity(gravity=grav, gravity_unit=u.Unit('m/(s**2)')) # input gravity\n",
    "\n",
    "hi_res.atmosphere(df=out_patchy['ptchem_df'])\n",
    "\n",
    "# now let's add the cloud optical properties, this time with arguments to make sure we take into consideration the patchy cloud parameters\n",
    "hi_res.clouds(df=out_patchy['cld_df'], do_holes=True, fhole = 0.3, fthin_cld=0)\n",
    "\n",
    "df_spec = hi_res.spectrum(opa_mon, calculation='thermal',full_output=True)\n",
    "#converts from picaso default units (can also specify original unit if different from picaso via kwarg f_unit and xgrid_unit)\n",
    "fluxnu= jdi.convert_flux_units(df_spec['wavenumber'], df_spec['thermal'], to_f_unit = 'erg*cm^(-2)*s^(-1)*Hz^(-1)')\n",
    "\n",
    "df_spec['fluxnu'] = fluxnu\n",
    "wno_patchy,fp_patchy= jdi.mean_regrid(df_spec['wavenumber'], fluxnu, R=200) #wavenumber, erg/cm2/s/Hz"
   ]
  },
  {
   "cell_type": "code",
   "execution_count": null,
   "metadata": {},
   "outputs": [],
   "source": [
    "fig = plt.figure(figsize=(12,6))\n",
    "plt.loglog(1e4/wno_bobcat,fp_bobcat, 'k', label = 'Sonora Bobcat')\n",
    "plt.loglog(1e4/wno,fp, label = 'Our Fully Cloudy Run')\n",
    "plt.loglog(1e4/wno_patchy,fp_patchy, label = 'Our Patchy Cloud Run')\n",
    "plt.xlabel('Wavelength [micron]')\n",
    "plt.ylabel('F$_\\\\nu$ [erg/cm$^2$/s/Hz]')\n",
    "plt.xlim(0.4,12)\n",
    "plt.legend()\n",
    "plt.show()"
   ]
  },
  {
   "cell_type": "markdown",
   "metadata": {},
   "source": [
    "In comparison to the fully cloudy model, you can see that even at 50% cloudy that the water cloud feature at 4-5 micron isn't as distinct as the 100% cloudy model. You can, however, see in the other H2O band windows that the 50% cloudy model finds itself, as we expect, between a fully clear model, and a fully cloudy model."
   ]
  },
  {
   "cell_type": "markdown",
   "metadata": {},
   "source": []
  }
 ],
 "metadata": {
  "kernelspec": {
   "display_name": "base",
   "language": "python",
   "name": "python3"
  },
  "language_info": {
   "codemirror_mode": {
    "name": "ipython",
    "version": 3
   },
   "file_extension": ".py",
   "mimetype": "text/x-python",
   "name": "python",
   "nbconvert_exporter": "python",
   "pygments_lexer": "ipython3",
   "version": "3.11.8"
  }
 },
 "nbformat": 4,
 "nbformat_minor": 2
}
