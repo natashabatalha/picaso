{
 "cells": [
  {
   "cell_type": "markdown",
   "metadata": {},
   "source": [
    "# One-Dimensional Climate Models: Brown Dwarfs w/ Clouds in Chemical Disequilibrium\n",
    "\n",
    "In this tutorial you will learn how to run 1-D climate models for brown dwarfs with Virga clouds and chemical disequilibrium \n",
    "\n",
    "You should already be familiar with running 1-D climate models with running a [simple clear brown dwarf model](https://natashabatalha.github.io/picaso/notebooks/climate/12a_BrownDwarf.html) and running clouds in [equilibrium]() \n",
    "\n",
    "What you need to have downloaded for clouds to work: \n",
    "[Virga](https://natashabatalha.github.io/virga/installation.html)\n"
   ]
  },
  {
   "cell_type": "code",
   "execution_count": null,
   "metadata": {},
   "outputs": [],
   "source": [
    "import warnings\n",
    "warnings.filterwarnings('ignore')\n",
    "import picaso.justdoit as jdi\n",
    "import picaso.justplotit as jpi\n",
    "import virga.justdoit as vj\n",
    "import virga.justplotit as cldplt\n",
    "jpi.output_notebook()\n",
    "import astropy.units as u\n",
    "import numpy as np\n",
    "import matplotlib.pyplot as plt\n",
    "%matplotlib inline\n",
    "from bokeh.plotting import show, figure\n",
    "import xarray\n",
    "import pickle"
   ]
  },
  {
   "cell_type": "code",
   "execution_count": null,
   "metadata": {},
   "outputs": [],
   "source": [
    "# #sonora bobcat cloud free structures file\n",
    "sonora_profile_db = '/data/sonora_bobcat/structure/structures_m+0.0'\n",
    "sonora_profile_db = '/Users/nbatalh1/Documents/data/sonora_bobcat/structures_m+0.0'"
   ]
  },
  {
   "cell_type": "markdown",
   "metadata": {},
   "source": [
    "We are going to initialize our climate run like other disequilibrium runs without using the pre-weighted ck tables"
   ]
  },
  {
   "cell_type": "code",
   "execution_count": null,
   "metadata": {},
   "outputs": [],
   "source": [
    "cl_run = jdi.inputs(calculation=\"browndwarf\", climate = True) # start a calculation\n",
    "\n",
    "#note you need to put the climate keyword to be True in order to do so\n",
    "# now you need to add these parameters to your calculation\n",
    "\n",
    "teff= 400 # Effective Temperature of your Brown Dwarf in K\n",
    "grav = 1000 # Gravity of your brown dwarf in m/s/s\n",
    "\n",
    "cl_run.gravity(gravity=grav, gravity_unit=u.Unit('m/(s**2)')) # input gravity\n",
    "cl_run.effective_temp(teff) # input effective temperature\n",
    "\n",
    "gases_fly = ['CO','CH4','H2O','NH3','CO2','N2','HCN','H2','PH3','C2H2','Na','K','TiO','VO','FeH']\n",
    "opacity_ck =  jdi.opannection(method='resortrebin',preload_gases=gases_fly)# grab your opacities"
   ]
  },
  {
   "cell_type": "code",
   "execution_count": null,
   "metadata": {},
   "outputs": [],
   "source": [
    "nlevel = 91 # number of plane-parallel levels in your code\n",
    "\n",
    "# Here we're going to start with a cloudfree Sonora Elf Owl model\n",
    "pressure,temp_guess = np.loadtxt(\"profilegrid_kz_1d9_qt_onfly_400_grav_1000_mh_+0.0_cto_1.0.dat\",\n",
    "                                usecols=[1,2],unpack=True, skiprows = 1)"
   ]
  },
  {
   "cell_type": "code",
   "execution_count": null,
   "metadata": {},
   "outputs": [],
   "source": [
    "nofczns = 1 # number of convective zones initially\n",
    "\n",
    "nstr_upper = 45 # top most level of guessed convective zone \n",
    "# for the sake of time of this tutorial, I set it to 40 because I know where it should be in this case. In general for clouds it is better\n",
    "# to start deeper in the atmosphere and work your way up. It just takes more time.\n",
    "\n",
    "nstr_deep = nlevel - 2 # this is always the case. Dont change this\n",
    "# nstr = np.array([0,nstr_upper,nstr_deep,0,0,0]) # single convective zone\n",
    "\n",
    "nstr = np.array([0,nstr_upper,nstr_deep,0,0,0])\n",
    "\n",
    "# Here are some other parameters needed for the code.\n",
    "rfacv = 0.0 #we are focused on a brown dwarf so let's keep this as is\n",
    "\n",
    "# this is the Kzz parameter\n",
    "kzval = pressure*0+1e9"
   ]
  },
  {
   "cell_type": "code",
   "execution_count": null,
   "metadata": {},
   "outputs": [],
   "source": [
    "virga_dir = '/Users/nbatalh1/Documents/data/virga' # path to virga directory with the Mie scatering files"
   ]
  },
  {
   "cell_type": "markdown",
   "metadata": {},
   "source": [
    "All requirements needed for this notebook will be met from properly following the previous notebook for clouds in equilibrium chemistry\n",
    "\n",
    "**New PICASO code parameters**: \n",
    "We've introduced other optional chemical treatments into the disequilibrium runs that should be included in the `atmosphere()` function\n",
    "\n",
    "1. `vol_rainout` : (True/False) Follows rainout chemistry (ie. Sonora Bobcat) even in disequilibrium. Default = False\n",
    "2. `cold_trap` : (True/False) If True, the abundances of volatile species like H2O, NH3, and CH4 will not be allowed to increase after they begin to rainout. Default = False\n",
    "3. `no_ph3` :  (True/False) If True, completely remove PH3 from the atmosphere. Default = False\n",
    "\n",
    "These parameters are included to increase flexibility for you when you want to generate your own model! To play around with these different parameters you can look at the [Fun with Chem notebook]() \n",
    "\n",
    "*Note* that all disequilibrium models default to follow the kinetic CO2 prescription described in [Zahnle & Marley 2014](https://iopscience.iop.org/article/10.1088/0004-637X/797/1/41) where the abundance quenches with respect to CO in disequilibrium. This is a correction applied to [Sonora Elf Owl v2](https://iopscience.iop.org/article/10.3847/2515-5172/add407)\n",
    "\n",
    "\n",
    "Our recommendation to follow for the latest release of the Sonora family of models are as follows:\n",
    "1. `vol_rainout` = True\n",
    "2. `cold_trap` = True\n",
    "3. `no_ph3` = True"
   ]
  },
  {
   "cell_type": "code",
   "execution_count": null,
   "metadata": {},
   "outputs": [],
   "source": [
    "cl_run.inputs_climate(temp_guess= temp_guess, pressure= pressure,\n",
    "                      nstr = nstr, nofczns = nofczns , rfacv = rfacv)\n",
    "\n",
    "cl_run.atmosphere(mh=1, cto_relative=1, chem_method='visscher',\n",
    "                quench=True, cold_trap = True, no_ph3 = True, vol_rainout=True)# \n",
    "\n",
    "cl_run.inputs['atmosphere']['profile']['kz']=kzval\n",
    "\n",
    "# Let's add in a few different cloud species that we expect to condense in the deeper parts of the atmosphere of this 400 K brown dwarf\n",
    "df_cld_guess=cl_run.virga(condensates=['Cr', 'MnS', 'Na2S', 'ZnS', 'KCl'], fsed=2.0, directory=virga_dir)"
   ]
  },
  {
   "cell_type": "markdown",
   "metadata": {},
   "source": [
    "In this case, with a good starting radiative-convective boundary guess and a good starting PT profile, this run should take ~10 minutes to compute. If it takes significantly longer longer there might be something wrong. Most times though, cloudy runs do take much longer on timescales of 30 minutes to an hour depending on how deep your intial radiaitve-convective zone boundary is."
   ]
  },
  {
   "cell_type": "code",
   "execution_count": null,
   "metadata": {},
   "outputs": [],
   "source": [
    "out = cl_run.climate(opacity_ck, save_all_profiles = True, with_spec=True,\n",
    "        diseq_chem = True, self_consistent_kzz =False)"
   ]
  },
  {
   "cell_type": "markdown",
   "metadata": {},
   "source": [
    "## Plot the P-T Profile"
   ]
  },
  {
   "cell_type": "markdown",
   "metadata": {},
   "source": [
    "Now we can plot the results, first let's grab the condensation curve for all our cloud species"
   ]
  },
  {
   "cell_type": "code",
   "execution_count": null,
   "metadata": {},
   "outputs": [],
   "source": [
    "kcl_cond_p, kcl_cond_t = vj.condensation_t('KCl', 1, 2.2, pressure = out['pressure'])\n",
    "na2s_cond_p, na2s_cond_t = vj.condensation_t('Na2S', 1, 2.2, pressure = out['pressure'])\n",
    "mns_cond_p, mns_cond_t = vj.condensation_t('MnS', 1, 2.2, pressure = out['pressure'])\n",
    "zns_cond_p, zns_cond_t = vj.condensation_t('ZnS', 1, 2.2, pressure = out['pressure'])\n",
    "cr_cond_p, cr_cond_t = vj.condensation_t('Cr', 1, 2.2, pressure = out['pressure'])"
   ]
  },
  {
   "cell_type": "code",
   "execution_count": null,
   "metadata": {},
   "outputs": [],
   "source": [
    "pressure_bobcat,temp_bobcat = np.loadtxt(jdi.os.path.join(\n",
    "                            sonora_profile_db,f\"t{teff}g{grav}nc_m0.0.dat\"),\n",
    "                            usecols=[1,2],unpack=True, skiprows = 1)\n",
    "\n",
    "pressure_elfowl,temp_elfowl = np.loadtxt(f\"profilegrid_kz_1d9_qt_onfly_400_grav_1000_mh_+0.0_cto_1.0.dat\",\n",
    "                                usecols=[1,2],unpack=True, skiprows = 1)\n",
    "\n",
    "plt.figure(figsize=(10,8))\n",
    "plt.ylabel(\"Pressure [Bars]\")\n",
    "plt.xlabel('Temperature [K]')\n",
    "plt.xlim(0,max(out['temperature'])+50)\n",
    "plt.ylim(3e3,1e-3)\n",
    "\n",
    "plt.semilogy(temp_bobcat,pressure_bobcat,color=\"k\",linestyle=\"--\",linewidth=3,label=\"Sonora Bobcat\")\n",
    "plt.semilogy(temp_elfowl,pressure_elfowl,color='r',linewidth=3, label=\"Sonora Elf Owl\")\n",
    "plt.semilogy(out['temperature'],out['pressure'],label=\"Our Cloudy Run\")\n",
    "\n",
    "plt.plot(kcl_cond_t,kcl_cond_p, color ='gray', label = 'KCl Condensation Curve')\n",
    "plt.plot(na2s_cond_t,na2s_cond_p, color ='orange', label = 'Na2S Condensation Curve')\n",
    "plt.plot(mns_cond_t,mns_cond_p, color ='purple', label = 'MnS Condensation Curve')\n",
    "plt.plot(zns_cond_t,zns_cond_p, color ='green', label = 'ZnS Condensation Curve')\n",
    "plt.plot(cr_cond_t,cr_cond_p, color ='blue', label = 'Cr Condensation Curve')\n",
    "\n",
    "plt.legend()\n",
    "plt.tight_layout()\n",
    "plt.show()"
   ]
  },
  {
   "cell_type": "code",
   "execution_count": null,
   "metadata": {},
   "outputs": [],
   "source": [
    "# once again we can do a quick sanity check to make sure a cloud is present\n",
    "show(jpi.mixing_ratio(out['spectrum_output']['full_output'], limit=14, height=600, width=600))"
   ]
  },
  {
   "cell_type": "code",
   "execution_count": null,
   "metadata": {},
   "outputs": [],
   "source": [
    "# once again we can do a quick sanity check to make sure a cloud is present\n",
    "show(cldplt.all_optics_1d(out['virga_output'], wave_range=[1,2]))"
   ]
  },
  {
   "cell_type": "markdown",
   "metadata": {},
   "source": [
    "## Cloudy vs Clear Spectra"
   ]
  },
  {
   "cell_type": "code",
   "execution_count": null,
   "metadata": {},
   "outputs": [],
   "source": [
    "opa_mon = jdi.opannection(wave_range=[0.3,15])\n",
    "\n",
    "hi_res = jdi.inputs(calculation=\"browndwarf\") # start a calculation\n",
    "teff= 400 # Effective Temperature of your Brown Dwarf in K\n",
    "grav = 1000 # Gravity of your brown dwarf in m/s/s\n",
    "hi_res.gravity(gravity=grav, gravity_unit=u.Unit('m/(s**2)')) # input gravity\n",
    "\n",
    "hi_res.atmosphere(df=out['ptchem_df'])\n",
    "\n",
    "# now let's add the cloud optical properties\n",
    "hi_res.clouds(df=out['cld_df'])\n",
    "\n",
    "df_spec = hi_res.spectrum(opa_mon, calculation='thermal',full_output=True)\n",
    "\n",
    "wno, fp = df_spec['wavenumber'], df_spec['thermal'] #erg/cm2/s/cm\n",
    "wno,fp = jdi.mean_regrid(wno,fp, R =200)"
   ]
  },
  {
   "cell_type": "code",
   "execution_count": null,
   "metadata": {},
   "outputs": [],
   "source": [
    "jpi.show(jpi.spectrum(wno,fp,x_axis_type='log',y_axis_type='log'))"
   ]
  },
  {
   "cell_type": "markdown",
   "metadata": {},
   "source": [
    "This next spectrum is from the Sonora Elf Owl grid of models which are cloud-free to use as reference. To download the rest of the Sonora Elf Owl grid you can find them separated by [L](https://zenodo.org/records/10385987), [T](https://zenodo.org/records/10385821), and [Y](https://zenodo.org/records/10381250) dwarfs."
   ]
  },
  {
   "cell_type": "code",
   "execution_count": null,
   "metadata": {},
   "outputs": [],
   "source": [
    "ds_elfowl = xarray.load_dataset(\"spectra_logzz_9.0_teff_400.0_grav_1000.0_mh_0.0_co_1.0.nc\")"
   ]
  },
  {
   "cell_type": "markdown",
   "metadata": {},
   "source": [
    "Now let's regrid the spectra to R=200 to make sure the two spectra are on the same grid"
   ]
  },
  {
   "cell_type": "code",
   "execution_count": null,
   "metadata": {},
   "outputs": [],
   "source": [
    "wno_elfowl, fp_elfowl = jdi.mean_regrid(1e4/ds_elfowl['wavelength'].values,ds_elfowl['flux'].values,R=200)"
   ]
  },
  {
   "cell_type": "code",
   "execution_count": null,
   "metadata": {},
   "outputs": [],
   "source": [
    "fig = plt.figure(figsize=(12,6))\n",
    "plt.loglog(1e4/wno_elfowl,fp_elfowl, 'k', label = 'Sonora Elf Owl')\n",
    "plt.loglog(1e4/wno,fp, label = 'Our Cloudy Run')\n",
    "plt.xlabel('Wavelength [micron]')\n",
    "plt.ylabel('F$_\\\\nu$ [erg/cm$^2$/s/Hz]')\n",
    "plt.xlim(0.5,12)\n",
    "plt.legend()\n",
    "plt.show()"
   ]
  },
  {
   "cell_type": "markdown",
   "metadata": {},
   "source": [
    "For these cloud species you can see their features in the Y and J bands for example in comparison to the cloud-free Sonora Elf Owl model"
   ]
  }
 ],
 "metadata": {
  "kernelspec": {
   "display_name": "pic312",
   "language": "python",
   "name": "python3"
  },
  "language_info": {
   "codemirror_mode": {
    "name": "ipython",
    "version": 3
   },
   "file_extension": ".py",
   "mimetype": "text/x-python",
   "name": "python",
   "nbconvert_exporter": "python",
   "pygments_lexer": "ipython3",
   "version": "3.12.2"
  }
 },
 "nbformat": 4,
 "nbformat_minor": 2
}
