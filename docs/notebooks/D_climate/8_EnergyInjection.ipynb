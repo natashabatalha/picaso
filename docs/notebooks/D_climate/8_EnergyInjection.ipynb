{
 "cells": [
  {
   "cell_type": "markdown",
   "metadata": {},
   "source": [
    "# Energy Injection in 1D Brown Dwarf Climate Models\n",
    "\n",
    "In this tutorial you will learn how you can add in an arbitrary amount of energy into your climate model. This could be because you want to build an intuition on the impact of temperature inversions or see if there are hot spots in your object causing variability in the observations for example. \n",
    "\n",
    "You should be comfortable with running climate models by now, the minimum requirement for this tutorial is [One-Dimensional Climate Models: The Basics of Brown Dwarfs](https://natashabatalha.github.io/picaso/notebooks/climate/12a_BrownDwarf.html)."
   ]
  },
  {
   "cell_type": "code",
   "execution_count": null,
   "metadata": {},
   "outputs": [],
   "source": [
    "import os\n",
    "import warnings\n",
    "warnings.filterwarnings('ignore')\n",
    "import picaso.justdoit as jdi\n",
    "import picaso.justplotit as jpi\n",
    "import virga.justdoit as vj\n",
    "import virga.justplotit as cldplt\n",
    "jpi.output_notebook()\n",
    "import astropy.units as u\n",
    "import numpy as np\n",
    "import matplotlib.pyplot as plt\n",
    "%matplotlib inline\n",
    "import xarray\n",
    "from bokeh.plotting import show, figure\n",
    "import pandas as pd"
   ]
  },
  {
   "cell_type": "markdown",
   "metadata": {},
   "source": [
    "## Analytical Energy Injection\n",
    "\n",
    "In this part of the tutorial we are going to be comparing our climate models with those from [Morley et al. 2014](https://ui.adsabs.harvard.edu/abs/2014ApJ...789L..14M/abstract). We are going to test the case for a 600 K brown dwarf. To inject the energy into the atmosphere we are going to use the Chapman function to describe the profile of the energy deposition. The Chapman function is selected because it is often used\n",
    "to represent heating by incident flux within molecular bands.\n",
    "\n",
    "We are going to initiate our profile just like any other basic climate model first"
   ]
  },
  {
   "cell_type": "code",
   "execution_count": null,
   "metadata": {},
   "outputs": [],
   "source": [
    "# #1 ck tables from roxana\n",
    "mh = '+000'#'+0.0' #log metallicity\n",
    "CtoO = '100'#'1.0' # CtoO ratio\n",
    "\n",
    "ck_db = os.path.join(os.getenv('picaso_refdata'),'opacities', 'preweighted', f'sonora_2020_feh{mh}_co_{CtoO}.data.196')\n",
    "\n",
    "#sonora bobcat cloud free structures file\n",
    "sonora_profile_db = os.path.join(os.getenv('picaso_refdata'),'sonora_grids','bobcat')\n"
   ]
  },
  {
   "cell_type": "code",
   "execution_count": null,
   "metadata": {},
   "outputs": [],
   "source": [
    "cl_run = jdi.inputs(calculation=\"browndwarf\", climate = True) # start a calculation\n",
    "\n",
    "#note you need to put the climate keyword to be True in order to do so\n",
    "# now you need to add these parameters to your calculation\n",
    "\n",
    "teff= 600 # Effective Temperature of your Brown Dwarf in K\n",
    "grav = 1000 # Gravity of your brown dwarf in m/s/s\n",
    "\n",
    "cl_run.gravity(gravity=grav, gravity_unit=u.Unit('m/(s**2)')) # input gravity\n",
    "cl_run.effective_temp(teff) # input effective temperature\n",
    "\n",
    "opacity_ck = jdi.opannection(ck_db=ck_db,method='preweighted') # grab your opacities"
   ]
  },
  {
   "cell_type": "code",
   "execution_count": null,
   "metadata": {},
   "outputs": [],
   "source": [
    "nlevel = 91 # number of plane-parallel levels in your code\n",
    "\n",
    "pressure_bobcat,temp_bobcat = np.loadtxt(jdi.os.path.join(\n",
    "                            sonora_profile_db,f\"t{teff}g{grav}nc_m0.0.cmp.gz\"),\n",
    "                            usecols=[1,2],unpack=True, skiprows = 1)"
   ]
  },
  {
   "cell_type": "code",
   "execution_count": null,
   "metadata": {},
   "outputs": [],
   "source": [
    "nofczns = 1 # number of convective zones initially\n",
    "\n",
    "nstr_upper = 87 # top most level of guessed convective zone \n",
    "\n",
    "nstr_deep = nlevel - 2 # this is always the case. Dont change this\n",
    "\n",
    "nstr = np.array([0,nstr_upper,nstr_deep,0,0,0])\n",
    "\n",
    "# Here are some other parameters needed for the code.\n",
    "rfacv = 0.0 #we are focused on a brown dwarf so let's keep this as is"
   ]
  },
  {
   "cell_type": "code",
   "execution_count": null,
   "metadata": {},
   "outputs": [],
   "source": [
    "cl_run.inputs_climate(temp_guess= temp_bobcat, pressure= pressure_bobcat,\n",
    "                      nstr = nstr, nofczns = nofczns , rfacv = rfacv)"
   ]
  },
  {
   "cell_type": "markdown",
   "metadata": {},
   "source": [
    "**New PICASO code parameters**: \n",
    "\n",
    "1. `inject_energy` : (True/False) Turns on energy injection. Default = False\n",
    "2. `total_energy_injection` : (float) Desired total amount of energy to be deposited in units of ergs/cm^2/s\n",
    "3. `press_max_energy` : (float) Pressure for maximum energy injection in units of bars for chapman function\n",
    "4. `injection_scaleheight` :  (float) Scalar specifying the number of scale heights over which energy is deposited"
   ]
  },
  {
   "cell_type": "code",
   "execution_count": null,
   "metadata": {},
   "outputs": [],
   "source": [
    "cl_run.energy_injection(inject_energy = True, total_energy_injection= 3.67e6,\n",
    "                      press_max_energy = 1, injection_scalehight= 1)"
   ]
  },
  {
   "cell_type": "code",
   "execution_count": null,
   "metadata": {},
   "outputs": [],
   "source": [
    "out = cl_run.climate(opacity_ck, save_all_profiles=True,with_spec=True)"
   ]
  },
  {
   "cell_type": "code",
   "execution_count": null,
   "metadata": {},
   "outputs": [],
   "source": [
    "# Now let's read in our benchmark profile from Morley et. al 2014\n",
    "benchmark = pd.read_csv('t600g1000nc-3.67e6-h1-1bar.dat',skiprows=1, delim_whitespace=True)\n",
    "\n",
    "#we only want to compare the P-T profile so we don't care about the other columns\n",
    "benchmark.columns = ['level', 'pressure', 'temperature', 'x1', 'x2', 'x3', 'x4', 'x5', 'x6']"
   ]
  },
  {
   "cell_type": "code",
   "execution_count": null,
   "metadata": {},
   "outputs": [],
   "source": [
    "pressure_bobcat,temp_bobcat = np.loadtxt(jdi.os.path.join(\n",
    "                            sonora_profile_db,f\"t{teff}g{grav}nc_m0.0.cmp.gz\"),\n",
    "                            usecols=[1,2],unpack=True, skiprows = 1)\n",
    "plt.figure(figsize=(8,6))\n",
    "plt.ylabel(\"Pressure [Bars]\")\n",
    "plt.xlabel('Temperature [K]')\n",
    "plt.xlim(0,max(out['temperature'])+50)\n",
    "plt.ylim(3e3,1e-3)\n",
    "\n",
    "plt.semilogy(temp_bobcat,pressure_bobcat,color=\"k\",linestyle=\"--\",label=\"Sonora Bobcat\")\n",
    "plt.semilogy(benchmark['temperature'],benchmark['pressure'],color=\"r\",linestyle=\"--\",label=\"Morley 2014\")\n",
    "plt.semilogy(out['temperature'],out['pressure'],label=\"Our PICASO Run\")\n",
    "\n",
    "plt.legend()\n",
    "plt.tight_layout()\n",
    "plt.show()"
   ]
  },
  {
   "cell_type": "markdown",
   "metadata": {},
   "source": [
    "When you generate these models, remember that because you artificially injected energy into the atmosphere, the profile will be **warmer** than the desired effective temperature that you set for the object. You might also notice here that there are the slightest difference in the PT profile between our model and the Morley 2014 model, we're not worried about this since we ran a 91 level model compared to their 60 level model."
   ]
  },
  {
   "cell_type": "markdown",
   "metadata": {},
   "source": [
    "## Numerical Energy Injection\n",
    "\n",
    "Let's say you don't want to use something like the Chapman function because you have an actual profile of energy deposition you'd like to include in your model. We can add a couple of other inputs to do this."
   ]
  },
  {
   "cell_type": "code",
   "execution_count": null,
   "metadata": {},
   "outputs": [],
   "source": [
    "cl_run = jdi.inputs(calculation=\"browndwarf\", climate = True) # start a calculation\n",
    "\n",
    "#note you need to put the climate keyword to be True in order to do so\n",
    "# now you need to add these parameters to your calculation\n",
    "\n",
    "teff= 600 # Effective Temperature of your Brown Dwarf in K\n",
    "grav = 1000 # Gravity of your brown dwarf in m/s/s\n",
    "\n",
    "cl_run.gravity(gravity=grav, gravity_unit=u.Unit('m/(s**2)')) # input gravity\n",
    "cl_run.effective_temp(teff) # input effective temperature\n",
    "\n",
    "opacity_ck = jdi.opannection(ck_db=ck_db,method='preweighted') # grab your opacities"
   ]
  },
  {
   "cell_type": "code",
   "execution_count": null,
   "metadata": {},
   "outputs": [],
   "source": [
    "nlevel = 91 # number of plane-parallel levels in your code\n",
    "\n",
    "pressure_bobcat,temp_bobcat = np.loadtxt(jdi.os.path.join(\n",
    "                            sonora_profile_db,f\"t{teff}g{grav}nc_m0.0.cmp.gz\"),\n",
    "                            usecols=[1,2],unpack=True, skiprows = 1)"
   ]
  },
  {
   "cell_type": "code",
   "execution_count": null,
   "metadata": {},
   "outputs": [],
   "source": [
    "nofczns = 1 # number of convective zones initially\n",
    "\n",
    "nstr_upper = 87 # top most level of guessed convective zone \n",
    "\n",
    "nstr_deep = nlevel - 2 # this is always the case. Dont change this\n",
    "\n",
    "nstr = np.array([0,nstr_upper,nstr_deep,0,0,0])\n",
    "\n",
    "# Here are some other parameters needed for the code.\n",
    "rfacv = 0.0 #we are focused on a brown dwarf so let's keep this as is"
   ]
  },
  {
   "cell_type": "markdown",
   "metadata": {},
   "source": [
    "Here we're going to generate a Gaussian distribution of energy that will be injected into the upper atmosphere of this climate model just as an example how you can use any energy profile you'd like"
   ]
  },
  {
   "cell_type": "code",
   "execution_count": null,
   "metadata": {},
   "outputs": [],
   "source": [
    "from scipy.stats import norm\n",
    "\n",
    "# Define the center and width of the Gaussian\n",
    "center = 45  # Index for the peak of the Gaussian\n",
    "width = 10    # Standard deviation of the Gaussian\n",
    "\n",
    "# Create a Gaussian profile\n",
    "beam_profile = norm.pdf(np.arange(len(pressure_bobcat)), loc=center, scale=width)\n",
    "\n",
    "# Normalize the Gaussian to match the desired energy range\n",
    "beam_profile = beam_profile / beam_profile.max() * 6e5  # Scale to the desired range"
   ]
  },
  {
   "cell_type": "code",
   "execution_count": null,
   "metadata": {},
   "outputs": [],
   "source": [
    "plt.semilogy(beam_profile, pressure_bobcat, label='Gaussian Energy Beam Profile')\n",
    "plt.gca().invert_yaxis()\n",
    "plt.xlabel('Energy [ergs/cm^2/s]')\n",
    "plt.ylabel('Pressure [Bars]')\n",
    "plt.show()"
   ]
  },
  {
   "cell_type": "markdown",
   "metadata": {},
   "source": [
    "**New PICASO code parameters**: \n",
    "\n",
    "1. `inject_beam` : (bool) Turns on using your own energy profile instead of the Chapman function\n",
    "2. `beam_profile` : (array) Array of the energy profile. The shape of this array needs to be the same as the pressure grid."
   ]
  },
  {
   "cell_type": "code",
   "execution_count": null,
   "metadata": {},
   "outputs": [],
   "source": [
    "cl_run.inputs_climate(temp_guess= temp_bobcat, pressure= pressure_bobcat,\n",
    "                      nstr = nstr, nofczns = nofczns , rfacv = rfacv)\n",
    "\n",
    "cl_run.atmosphere(mh=mh, cto_relative=cto_relative, chem_method='visscher_1060')\n",
    "\n",
    "cl_run.energy_injection(inject_energy = True, inject_beam = True, beam_profile = beam_profile)"
   ]
  },
  {
   "cell_type": "code",
   "execution_count": null,
   "metadata": {},
   "outputs": [],
   "source": [
    "out = cl_run.climate(opacity_ck, save_all_profiles=True,with_spec=True)"
   ]
  },
  {
   "cell_type": "code",
   "execution_count": null,
   "metadata": {},
   "outputs": [],
   "source": [
    "pressure_bobcat,temp_bobcat = np.loadtxt(jdi.os.path.join(\n",
    "                            sonora_profile_db,f\"t{teff}g{grav}nc_m0.0.cmp.gz\"),\n",
    "                            usecols=[1,2],unpack=True, skiprows = 1)\n",
    "plt.figure(figsize=(8,6))\n",
    "plt.ylabel(\"Pressure [Bars]\")\n",
    "plt.xlabel('Temperature [K]')\n",
    "plt.xlim(0,max(out['temperature'])+50)\n",
    "plt.ylim(3e3,1e-3)\n",
    "\n",
    "plt.semilogy(temp_bobcat,pressure_bobcat,color=\"k\",linestyle=\"--\",label=\"Sonora Bobcat\")\n",
    "plt.semilogy(out['temperature'],out['pressure'],label=\"Our PICASO Run\")\n",
    "\n",
    "plt.legend()\n",
    "plt.tight_layout()\n",
    "plt.show()"
   ]
  },
  {
   "cell_type": "code",
   "execution_count": null,
   "metadata": {},
   "outputs": [],
   "source": []
  }
 ],
 "metadata": {
  "kernelspec": {
   "display_name": "base",
   "language": "python",
   "name": "python3"
  },
  "language_info": {
   "codemirror_mode": {
    "name": "ipython",
    "version": 3
   },
   "file_extension": ".py",
   "mimetype": "text/x-python",
   "name": "python",
   "nbconvert_exporter": "python",
   "pygments_lexer": "ipython3",
   "version": "3.11.8"
  }
 },
 "nbformat": 4,
 "nbformat_minor": 2
}
