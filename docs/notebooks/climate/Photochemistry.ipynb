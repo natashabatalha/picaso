{
 "cells": [
  {
   "cell_type": "markdown",
   "id": "b6090e9a-5c2e-4025-a0b6-44b405368fce",
   "metadata": {},
   "source": [
    "# Photochemistry with Photochem\n",
    "\n",
    "Gas-rich exoplanets (e.g., warm Jupiters or mini-Neptunes) often have an atmospheric composition that is out of chemical equilibrium. As gases mix from high pressures and temperature to the cooler upper atmosphere, reactions slow and can ultimately stop, failing to maintain equilibrium. Also, UV photolysis and subsequent chemical reactions can also drive disequilibrium chemistry. \n",
    "\n",
    "In this tutorial you will learn the basics of simulating disequilibrium chemistry in a gas-rich exoplanet's atmosphere with the [Photochem](https://github.com/Nicholaswogan/photochem) code ([Wogan et al. 2023](https://doi.org/10.3847/PSJ/aced83)). Specifically, this tutorial broadly reproduces the photochemical SO$_2$ in WASP-39b's atmosphere as described in [Tsai et al. (2023)](https://doi.org/10.1038/s41586-023-05902-2) and computes the resulting transmission spectrum with Picaso.\n",
    "\n",
    "<!-- \n",
    "\n",
    "For example, at depth in a gas-rich atmosphere (e.g., 1000 bar), the atmosphere is often hot and chemical reactions are fast, enforcing chemical equilibrium. But, as gases mix upward, chemical reactions can slow, and ultimately stop \"freezing-out\"\n",
    "\n",
    "\n",
    "`Photochem` captures disequilibrium effects by tracking hundreds of elementary chemical reactions like, \n",
    "\n",
    "\n",
    "\n",
    "$$\\mathrm{H_2} + \\mathrm{OH} \\leftrightarrow \\mathrm{H_2O} + \\mathrm{H}$$\n",
    "\n",
    "Each reaction has a rate constant derived experimentally or from Ab initio calculations that can depend on temperature and pressure. Reactions are often faster with increased temperature and pressure. In `Photochem`, all reactions (except photolysis reactions) are reversed using thermodynamic principles. This means that the chemical network will predict chemical equilibrium at high temperatures and pressures, and deviate from equilibrium at cooler temperatures and when UV photolysis is important. UV photons from a host star can split molecules apart (e.g., $\\mathrm{H_2O} + h\\nu \\rightarrow \\mathrm{OH} + \\mathrm{H}$) in the upper atmosphere, and ultimately drive further chemistry. -->"
   ]
  },
  {
   "cell_type": "code",
   "execution_count": null,
   "id": "54d44331-0d63-4eb6-9a6a-2c6535673621",
   "metadata": {},
   "outputs": [],
   "source": [
    "import warnings\n",
    "warnings.filterwarnings('ignore')\n",
    "import numpy as np\n",
    "from matplotlib import pyplot as plt\n",
    "plt.rcParams.update({'font.size': 13})\n",
    "from IPython.display import clear_output\n",
    "from astropy import constants\n",
    "\n",
    "class WASP39b:\n",
    "    planet_radius = 1.279 # Jupiter radii\n",
    "    planet_mass = 0.28 # Jupiter masses\n",
    "    planet_Teq = 1166 # Equilibrium temp (K)\n",
    "    stellar_radius = 0.932 # Solar radii\n",
    "    stellar_Teff = 5400 # K\n",
    "    stellar_metal = 0.01 # log10(metallicity)\n",
    "    stellar_logg = 4.45 # log10(gravity), in cgs units"
   ]
  },
  {
   "cell_type": "markdown",
   "id": "d8201e0b-a463-47c3-984f-340422accd6b",
   "metadata": {},
   "source": [
    "## Installing Photochem\n",
    "\n",
    "For this tutorial to work, you must install Photochem with conda: `conda install -c conda-forge photochem`\n",
    "\n",
    "## Choosing a UV stellar spectrum\n",
    "\n",
    "To run `photochem`, we need a stellar spectrum that includes the UV. For other spectral applications, Picaso often makes use of the \"phoenix\" or \"ck04models\" stellar models. But neither of these stellar spectra characterize the UV. The best alternative is the [MUSCLES](https://archive.stsci.edu/prepds/muscles/) database of spectra. Photochem has some utilities for downloading MUSCLES spectra:"
   ]
  },
  {
   "cell_type": "code",
   "execution_count": null,
   "id": "206df2c9-ed85-4067-82f6-d2df7e8709b5",
   "metadata": {},
   "outputs": [],
   "source": [
    "from photochem.utils import stars\n",
    "\n",
    "stars.print_muscles_stars()"
   ]
  },
  {
   "cell_type": "markdown",
   "id": "14f9a390-7ec2-4e6c-91db-006520243bb0",
   "metadata": {},
   "source": [
    "TOI-193 appears to have the closest effective temperature to WASP-39, so we will use it's spectrum. The cell below downloads the spectrum from MUSCLES, rescales the spectrum so it has the bolometric flux appropriate for WASP-39b, then saves it to a file format that photochem will later read."
   ]
  },
  {
   "cell_type": "code",
   "execution_count": null,
   "id": "e370dac6-026a-4448-810b-8c5ce3511c34",
   "metadata": {},
   "outputs": [],
   "source": [
    "wv, F = stars.muscles_spectrum(\n",
    "    'TOI-193',\n",
    "    outputfile='TOI-193.txt',\n",
    "    Teq=WASP39b.planet_Teq\n",
    ")"
   ]
  },
  {
   "cell_type": "code",
   "execution_count": null,
   "id": "b15e9fcd-106f-4af2-9088-79ef814a80cf",
   "metadata": {},
   "outputs": [],
   "source": [
    "fig,ax = plt.subplots(1,1,figsize=[5,4])\n",
    "\n",
    "# Plot the spectrum\n",
    "ax.plot(wv, F, label='TOI-193 (MUSCLES)')\n",
    "\n",
    "# Phoenix spectrum\n",
    "import stsynphot as sts\n",
    "import astropy.units as u\n",
    "ST_SS = sts.grid_to_spec('phoenix', 5480, 0.25, 4.47) \n",
    "wave_star = (ST_SS.waveset).to(u.nm).value\n",
    "flux_star = ST_SS(ST_SS.waveset,flux_unit=u.Unit('erg*cm^(-2)*s^(-1)*AA^(-1)')).value\n",
    "\n",
    "factor = stars.equilibrium_temperature_inverse(WASP39b.planet_Teq, 0.0)/stars.energy_in_spectrum(wave_star, flux_star)\n",
    "ax.plot(wave_star, flux_star*factor, alpha=0.5, label='Phoenix')\n",
    "\n",
    "ax.set_ylabel('Flux at planet (mW/m$^2$/nm)')\n",
    "ax.set_xlabel('Wavelength (nm)')\n",
    "ax.set_xscale('log')\n",
    "ax.set_yscale('log')\n",
    "ax.set_ylim(1e-3,2e6)\n",
    "ax.set_xlim(1,1000)\n",
    "ax.grid(alpha=0.4)\n",
    "ax.legend()\n",
    "\n",
    "plt.show()"
   ]
  },
  {
   "cell_type": "markdown",
   "id": "c5081884-035d-49cf-b7b1-8bbf29893bc0",
   "metadata": {},
   "source": [
    "The plot above clearly shows how the phoenix model fails to capture the UV."
   ]
  },
  {
   "cell_type": "markdown",
   "id": "f92b426b-2ddc-436f-8135-b3507b30ea0e",
   "metadata": {},
   "source": [
    "## Choosing a reaction network\n",
    "\n",
    "To run photochem, we also need a network of chemical reactions and thermodynamic data. We can accomplish this with the function `zahnle_rx_and_thermo_files`, which starts with the main reaction file shipped with photochem and the trims out some unnecessary chemistry. Running this next cell produces two files: `photochem_rxns.yaml` for photochemistry/kinetics and `photochem_thermo.yaml` for equilibrium chemistry calculations. "
   ]
  },
  {
   "cell_type": "code",
   "execution_count": null,
   "id": "90f651fc-13f5-4a74-a087-5a73f0eefcfd",
   "metadata": {},
   "outputs": [],
   "source": [
    "from photochem.utils import zahnle_rx_and_thermo_files\n",
    "\n",
    "zahnle_rx_and_thermo_files(\n",
    "    atoms_names=['H', 'He', 'N', 'O', 'C', 'S'], # We select a subset of the atoms in zahnle_earth.yaml (leave out Cl)\n",
    "    rxns_filename='photochem_rxns.yaml',\n",
    "    thermo_filename='photochem_thermo.yaml',\n",
    "    remove_reaction_particles=True # For gas giants, we should always leave out reaction particles.\n",
    ")"
   ]
  },
  {
   "cell_type": "markdown",
   "id": "76826eea-dc08-4828-920c-c4555770597e",
   "metadata": {},
   "source": [
    "Note, fast chemistry can sometimes slow down or prevent the photochemical model from reaching a steady state. Sulfur chemistry in particular, is often problematic, but mostly for cooler planets than WASP-39b. If you have troubles reaching convergence, then perhaps remove \"S3\", \"S4\", \"S8\", and \"S8aer\", if these species are not extremely important:\n",
    "\n",
    "```python\n",
    "zahnle_rx_and_thermo_files(\n",
    "    atoms_names=['H', 'He', 'N', 'O', 'C', 'S'], \n",
    "    rxns_filename='photochem_rxns.yaml',\n",
    "    thermo_filename='photochem_thermo.yaml',\n",
    "    exclude_species=['S3','S4','S8','S8aer'],\n",
    "    remove_reaction_particles=True\n",
    ")\n",
    "```\n",
    "\n",
    "If you don't care about sulfur species at all, then just omit \"S\" from `atoms_names`\n",
    "\n",
    "```python\n",
    "zahnle_rx_and_thermo_files(\n",
    "    atoms_names=['H', 'He', 'N', 'O', 'C'],\n",
    "    rxns_filename='photochem_rxns.yaml',\n",
    "    thermo_filename='photochem_thermo.yaml',\n",
    "    remove_reaction_particles=True\n",
    ")\n",
    "```\n",
    "\n",
    "It is possible to use reaction networks besides the ones shipped with photochem. For example, photochem has the function `vulcan2yaml` (import with `from photochem.utils import vulcan2yaml`), which allows Photochem to use [VULCAN](https://github.com/exoclime/VULCAN) chemical networks.\n",
    "\n",
    "## Initializing the photochemical model\n",
    "\n",
    "Next, we initialize the gas giant extension to `photochem`, called `EvoAtmosphereGasGiant`."
   ]
  },
  {
   "cell_type": "code",
   "execution_count": null,
   "id": "19800884-94f5-4896-b938-b740cdea5211",
   "metadata": {},
   "outputs": [],
   "source": [
    "from photochem.extensions import gasgiants\n",
    "\n",
    "pc = gasgiants.EvoAtmosphereGasGiant(\n",
    "    'photochem_rxns.yaml',\n",
    "    'TOI-193.txt',\n",
    "    planet_mass=WASP39b.planet_mass*constants.M_jup.cgs.value,\n",
    "    planet_radius=WASP39b.planet_radius*constants.R_jup.cgs.value,\n",
    "    solar_zenith_angle=83, # Used in Tsai et al. (2023). By default, 60.\n",
    "    thermo_file='photochem_thermo.yaml'\n",
    ")\n",
    "pc.gdat.verbose = False # No printing\n",
    "# The diurnal averaging factor. This is normally 0.5 for a global average, \n",
    "# but we use 1 to follow Tsai et al. (2023).\n",
    "pc.var.diurnal_fac = 1.0 "
   ]
  },
  {
   "cell_type": "markdown",
   "id": "db88c204-027a-4d33-ac0c-dee5bb4f43ee",
   "metadata": {},
   "source": [
    "When modeling a gas giant, researchers often assume the planet has some composition relative to the Sun (i.e., a metallicity). The `EvoAtmosphereGasGiant` exention has a `ChemEquiAnalysis` object attached to it (`pc.gdat.gas`, see `from photochem.equilibrate import ChemEquiAnalysis` for details) for doing equilibrium chemistry calculations at depth in the gas giant atmosphere. This object contains an estimated composition of the Sun:"
   ]
  },
  {
   "cell_type": "code",
   "execution_count": null,
   "id": "e1723be9-e90b-4c1f-a1a5-4e50792d9675",
   "metadata": {},
   "outputs": [],
   "source": [
    "for i,atom in enumerate(pc.gdat.gas.atoms_names):\n",
    "    print('%s %.2e'%(atom,pc.gdat.gas.molfracs_atoms_sun[i]))"
   ]
  },
  {
   "cell_type": "markdown",
   "id": "6dcdb221-f9be-4df5-98cc-414a95a90a43",
   "metadata": {},
   "source": [
    "The above solar composition is very reasonable, but below we change to the exact solar composition in Tsai et al. (2023) to best reproduce their results."
   ]
  },
  {
   "cell_type": "code",
   "execution_count": null,
   "id": "04a565a2-f829-425f-a554-6be2814a6eb2",
   "metadata": {},
   "outputs": [],
   "source": [
    "molfracs_atoms_sun = np.ones(len(pc.gdat.gas.atoms_names))*1e-10\n",
    "comp = {\n",
    "    'O': 5.37E-4,\n",
    "    'C': 2.95E-4,\n",
    "    'N': 7.08E-5,\n",
    "    'S': 1.41E-5,\n",
    "    'He': 0.0838,\n",
    "    'H': 1\n",
    "}\n",
    "tot = sum(comp.values())\n",
    "for key in comp:\n",
    "    comp[key] /= tot\n",
    "for i,atom in enumerate(pc.gdat.gas.atoms_names):\n",
    "    molfracs_atoms_sun[i] = comp[atom]\n",
    "\n",
    "pc.gdat.gas.molfracs_atoms_sun = molfracs_atoms_sun"
   ]
  },
  {
   "cell_type": "markdown",
   "id": "f81eb198-033e-4ea7-8074-60020061e847",
   "metadata": {},
   "source": [
    "Next, we establish several key variables\n",
    "- The Pressure-Temperature profile. Here, we use the \"morning\" profile described in Tsai et al. (2023), computed with a GCM.\n",
    "- The $K_{zz}$ profile (i.e., eddy diffusion). Here, we use the same values as Tsai et al. (2023).\n",
    "- The metallicity. Like in Tsai et al. (2023), we assume a 10x solar value.\n",
    "- The C/O ratio. Following Tsai et al. (2023), we assume the solar ratio."
   ]
  },
  {
   "cell_type": "code",
   "execution_count": null,
   "id": "0f3844fa-ea37-4c2b-a10d-226336809130",
   "metadata": {},
   "outputs": [],
   "source": [
    "# The \"Morning\" P-T profile from a GCM in Tsai et al. (2023)\n",
    "P = np.array([1.816e+08, 1.222e+08, 8.216e+07, 5.526e+07, 3.717e+07, 2.500e+07,\n",
    "       1.682e+07, 1.131e+07, 7.607e+06, 5.117e+06, 3.441e+06, 2.315e+06,\n",
    "       1.557e+06, 1.047e+06, 7.044e+05, 4.738e+05, 3.187e+05, 2.144e+05,\n",
    "       1.442e+05, 9.702e+04, 6.527e+04, 4.392e+04, 2.956e+04, 1.990e+04,\n",
    "       1.340e+04, 9.030e+03, 6.089e+03, 4.111e+03, 2.779e+03, 1.883e+03,\n",
    "       1.280e+03, 8.735e+02, 5.995e+02, 4.146e+02, 2.896e+02, 2.050e+02,\n",
    "       1.474e+02, 1.081e+02, 8.098e+01, 6.216e+01, 4.889e+01, 3.935e+01,\n",
    "       3.233e+01, 2.700e+01, 2.281e+01, 1.939e+01, 1.648e+01, 1.392e+01,\n",
    "       1.159e+01, 9.421e+00, 7.352e+00, 5.349e+00]) # dynes/cm^2\n",
    "T = np.array([4503.4, 4190.6, 3886. , 3589.6, 3302.8, 3028.7, 2766. , 2505.9,\n",
    "       2246.5, 2024.9, 1853.3, 1725.7, 1640.7, 1576.9, 1518.7, 1453.3,\n",
    "       1385.2, 1318.5, 1249. , 1180.7, 1117.8, 1061.5, 1010.1,  959.2,\n",
    "        909.3,  864.8,  824.3,  789.8,  759. ,  734.6,  714.9,  701.3,\n",
    "        691.3,  686.4,  687.8,  696.3,  709.1,  723.8,  737.4,  747.2,\n",
    "        754.9,  761. ,  765.3,  767.1,  767.2,  764.8,  761.3,  755. ,\n",
    "        746.8,  734.7,  720.2,  703.4])\n",
    "\n",
    "# Assumed Kzz (cm^2/s) in Tsai et al. (2023)\n",
    "Kzz = np.ones(P.shape[0])\n",
    "for i in range(P.shape[0]):\n",
    "    if P[i]/1e6 > 5.0:\n",
    "        Kzz[i] = 5e7\n",
    "    else:\n",
    "        Kzz[i] = 5e7*(5/(P[i]/1e6))**0.5\n",
    "\n",
    "metallicity = 10.0 # 10x solar\n",
    "CtoO = 1.0 # 1x solar"
   ]
  },
  {
   "cell_type": "markdown",
   "id": "05370592-00c1-40c3-8cc6-45b22671ab4c",
   "metadata": {},
   "source": [
    "With these key values set, we can call `initialize_to_climate_equilibrium_PT`. This predicts an starting guess for the atmospheric composition using chemical equilibrium. The routine then builds an altitude grid for the photochemical model based on this initial chemistry."
   ]
  },
  {
   "cell_type": "code",
   "execution_count": null,
   "id": "da474db8-e5a7-455e-8c57-7199da395ef8",
   "metadata": {},
   "outputs": [],
   "source": [
    "pc.initialize_to_climate_equilibrium_PT(P, T, Kzz, metallicity, CtoO)"
   ]
  },
  {
   "cell_type": "markdown",
   "id": "e27be6d7-1155-4da0-830b-942a0e03d923",
   "metadata": {},
   "source": [
    "## Integrating the photochemistry to a steady-state\n",
    "\n",
    "We can now integrate to a photochemical steady state. This can be most easily accomplished by calling `pc.find_steady_state()`, but below we instead integrate one step at a time, plotting the atmosphere as it evolves."
   ]
  },
  {
   "cell_type": "code",
   "execution_count": null,
   "id": "f144420e-1186-4abf-9ca1-0c71d7ab8f2b",
   "metadata": {},
   "outputs": [],
   "source": [
    "pc.initialize_robust_stepper(pc.wrk.usol)"
   ]
  },
  {
   "cell_type": "code",
   "execution_count": null,
   "id": "83493196-b834-432b-9108-4daed034cb18",
   "metadata": {},
   "outputs": [],
   "source": [
    "while True:\n",
    "\n",
    "    # Plot the atmosphere\n",
    "    clear_output(wait=True)\n",
    "    fig,ax = plt.subplots(1,1,figsize=[5,4])\n",
    "    fig.patch.set_facecolor(\"w\")\n",
    "\n",
    "    sol = pc.return_atmosphere()\n",
    "    soleq = pc.return_atmosphere(equilibrium=True)\n",
    "\n",
    "    species = ['CO2','H2S','S','S2','SO','SO2']\n",
    "    names = ['CO$_2$','H$_2$S','S','S$_2$','SO','SO$_2$']\n",
    "    colors = ['C0','C1','gold','grey','skyblue','violet']\n",
    "    for i,sp in enumerate(species):\n",
    "        ax.plot(sol[sp],sol['pressure']/1e6,label=names[i],c=colors[i])\n",
    "        # ax.plot(soleq[sp],soleq['pressure']/1e6,c=colors[i], ls=':', alpha=0.4)\n",
    "\n",
    "    ax.set_xscale('log')\n",
    "    ax.set_yscale('log')\n",
    "    ax.set_xlim(1e-8,1e-3)\n",
    "    ax.set_ylim(10,5e-7)\n",
    "    ax.grid(alpha=0.4)\n",
    "    ax.legend(ncol=1,bbox_to_anchor=(1,1.0),loc='upper left')\n",
    "    ax.set_xlabel('Mixing Ratio')\n",
    "    ax.set_ylabel('Pressure (bar)')\n",
    "    ax.set_yticks(10.0**np.arange(-6,2))\n",
    "    plt.show()\n",
    "\n",
    "    # break\n",
    "\n",
    "    for i in range(100):\n",
    "        give_up, reached_steady_state = pc.robust_step()\n",
    "        if give_up or reached_steady_state:\n",
    "            break\n",
    "    if give_up or reached_steady_state:\n",
    "        break"
   ]
  },
  {
   "cell_type": "markdown",
   "id": "22336740-f70c-433a-85b6-ddaf5042e7ed",
   "metadata": {},
   "source": [
    "The plot broadly reproduces Fig. 1a in Tsai et al. (2023). Here, we do not use the exact same stellar spectrum as Tsai et al. (2023), so some differences are expected.\n",
    "\n",
    "## Computing the transmission spectrum with Picaso\n",
    "\n",
    "Now, we can export this composition and climate to Picaso, to compute its transmission spectrum. "
   ]
  },
  {
   "cell_type": "code",
   "execution_count": null,
   "id": "e20d6dcd-fbcf-44f6-b5d2-e601a7e27ae1",
   "metadata": {},
   "outputs": [],
   "source": [
    "from picaso import justdoit as jdi\n",
    "import os\n",
    "import pandas as pd\n",
    "\n",
    "# For creating a Picaso input from Photochem\n",
    "def create_picaso_atm(pc):\n",
    "    sol = pc.return_atmosphere()\n",
    "    del sol['Kzz']\n",
    "    sol['pressure'] /= 1e6 # convert to bars \n",
    "    atm = {}\n",
    "    for key in sol:\n",
    "        if key in ['pressure', 'temperature'] or 'aer' not in key:\n",
    "            atm[key] = sol[key][::-1].copy()\n",
    "    return pd.DataFrame(atm)"
   ]
  },
  {
   "cell_type": "markdown",
   "id": "f5287143-8b48-4476-a5ed-73b9e141ef65",
   "metadata": {},
   "source": [
    "The cell below grabs some opacities, initializes the Picaso `inputs` class, and sets the gravity and stellar spectrum."
   ]
  },
  {
   "cell_type": "code",
   "execution_count": null,
   "id": "4b232a81-a1ca-4b72-8b65-749c355fa9a2",
   "metadata": {},
   "outputs": [],
   "source": [
    "filename_db = os.path.join(os.getenv('picaso_refdata'), 'opacities','opacities_0.3_15_R15000.db')\n",
    "opa = jdi.opannection(wave_range=[2,5.5],filename_db=filename_db)\n",
    "\n",
    "case = jdi.inputs()\n",
    "\n",
    "case.gravity(\n",
    "    mass=WASP39b.planet_mass, \n",
    "    mass_unit=jdi.u.Unit('M_jup'),\n",
    "    radius=WASP39b.planet_radius, \n",
    "    radius_unit=jdi.u.Unit('R_jup')\n",
    ")\n",
    "\n",
    "case.star(\n",
    "    opa, \n",
    "    temp=WASP39b.stellar_Teff,\n",
    "    metal=WASP39b.stellar_metal,\n",
    "    logg=WASP39b.stellar_logg,\n",
    "    radius=WASP39b.stellar_radius, \n",
    "    radius_unit=jdi.u.Unit('R_sun')\n",
    ")"
   ]
  },
  {
   "cell_type": "markdown",
   "id": "beb18a85-6f16-41bf-bc77-c597c95bd55b",
   "metadata": {},
   "source": [
    "Below is a little helper function for computing spectra with different inputs, then downbinning the spectra to lower resolution."
   ]
  },
  {
   "cell_type": "code",
   "execution_count": null,
   "id": "16242af1-55b9-43e7-965a-9092f1755228",
   "metadata": {},
   "outputs": [],
   "source": [
    "def spectrum(opa, case, atm, R=100, atmosphere_kwargs={}):\n",
    "\n",
    "    # Set atmosphere\n",
    "    case.atmosphere(atm, verbose=False, **atmosphere_kwargs)\n",
    "    \n",
    "    # Compute spectrum \n",
    "    df = case.spectrum(opa, calculation='transmission')\n",
    "\n",
    "    # Extract spectrum\n",
    "    wv_h = 1e4/df['wavenumber'][::-1].copy()\n",
    "    wavl_h = stars.make_bins(wv_h)\n",
    "    rprs2_h = df['transit_depth'][::-1].copy()\n",
    "\n",
    "    # Rebin\n",
    "    wavl = stars.grid_at_resolution(np.min(wavl_h), np.max(wavl_h), R)\n",
    "    rprs2 = stars.rebin(wavl_h.copy(), rprs2_h.copy(), wavl.copy())\n",
    "\n",
    "    return wavl, rprs2"
   ]
  },
  {
   "cell_type": "markdown",
   "id": "28c133fe-a7fc-49a7-8b77-f83fe50431a6",
   "metadata": {},
   "source": [
    "Finally, we compute the transmission spectrum several times leaving out important molecules (e.g., SO$_2$), to show their impact on the spectrum:"
   ]
  },
  {
   "cell_type": "code",
   "execution_count": null,
   "id": "b3fe1a5f-d097-4d00-aa94-0f52cef5e930",
   "metadata": {},
   "outputs": [],
   "source": [
    "fig,ax = plt.subplots(1,1,figsize=[6,4])\n",
    "\n",
    "# Create Picaso atmosphere from Photochem object\n",
    "atm = create_picaso_atm(pc)\n",
    "\n",
    "# Compute and plot spectrum\n",
    "wavl, rprs2 = spectrum(opa, case, atm, R=100)\n",
    "ax.plot(wavl[1:], rprs2*1e2, drawstyle='steps-pre', lw=1, c='k')\n",
    "\n",
    "# Compute the spectrum several more times, to show the impact of different species.\n",
    "species = ['H2O','CH4','CO2','SO2']\n",
    "for sp in species:\n",
    "    _, rprs2_1 = spectrum(opa, case, atm, R=100, atmosphere_kwargs={'exclude_mol':[sp]})\n",
    "    ax.fill_between(wavl[1:], rprs2*1e2, rprs2_1*1e2, step='pre', label=sp, alpha=0.3)\n",
    "\n",
    "ax.set_xlim(2.7,5.3)\n",
    "ax.set_ylabel('Transit Depth (%)')\n",
    "ax.set_xlabel('Wavelength (microns)')\n",
    "ax.grid(alpha=0.4)\n",
    "ax.legend()\n",
    "plt.show()"
   ]
  },
  {
   "cell_type": "markdown",
   "id": "0c7dc19e-9aca-4317-a891-9cca7ebb0eff",
   "metadata": {},
   "source": [
    "The plot above is similar to Figure 3b in Tsai et al. (2023). Note, however, that Tsai et al. (2023) took a slightly different approach for computing WASP-39b's transmission spectrum. They did two 1-D photochemical calculations, one each for the morning and evening terminator. They then computed the transmission spectrum of both results, and averaged them to produce Fig. 3b. For simplicity, in this tutorial, we only computed the photochemistry & spectrum of the morning terminator."
   ]
  }
 ],
 "metadata": {
  "kernelspec": {
   "display_name": "pic312",
   "language": "python",
   "name": "python3"
  },
  "language_info": {
   "codemirror_mode": {
    "name": "ipython",
    "version": 3
   },
   "file_extension": ".py",
   "mimetype": "text/x-python",
   "name": "python",
   "nbconvert_exporter": "python",
   "pygments_lexer": "ipython3",
   "version": "3.12.2"
  }
 },
 "nbformat": 4,
 "nbformat_minor": 5
}
