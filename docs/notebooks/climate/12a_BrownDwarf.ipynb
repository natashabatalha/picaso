{
 "cells": [
  {
   "cell_type": "markdown",
   "metadata": {},
   "source": [
    "# One-Dimensional Climate Models: The Basics of Brown Dwarfs\n",
    "\n",
    "In this tutorial you will learn the very basics of running 1D climate runs. For a more in depth look at the climate code check out [Mukherjee et al. 2022](https://arxiv.org/abs/2208.07836) (note this should also be cited if using this code/tutorial). \n",
    "\n",
    "What you should already be familiar with: \n",
    "\n",
    "- [basics of running/analyzing thermal spectra](https://natashabatalha.github.io/picaso/tutorials.html#basics-of-thermal-emission)\n",
    "- [how to analyze thermal emission spectra](https://natashabatalha.github.io/picaso/notebooks/workshops/ERS2021/ThermalEmissionTutorial.html)\n",
    "\n",
    "What you will need to download to use this tutorial: \n",
    "\n",
    "1. [Download](https://zenodo.org/record/5590989#.Yzy2YOzMI8a) 1460 PT, 196 wno Correlated-K Tables from Roxana Lupu to be used by the climate code for opacity \n",
    "2. [Download](https://zenodo.org/record/5063476/files/structures_m%2B0.0.tar.gz?download=1) the sonora bobcat cloud free `structures_` file so that you can validate your model run \n",
    "\n",
    "**Note**: the two files above are dependent on metallicity and C/O. For this tutorial we will stick to solar M/H and solar C/O, but note that you can change that by picking the right C-K file in the `opannection` step"
   ]
  },
  {
   "cell_type": "code",
   "execution_count": null,
   "metadata": {},
   "outputs": [],
   "source": [
    "import warnings\n",
    "warnings.filterwarnings('ignore')\n",
    "import picaso.justdoit as jdi\n",
    "import picaso.justplotit as jpi\n",
    "jpi.output_notebook()\n",
    "import astropy.units as u\n",
    "import numpy as np\n",
    "import matplotlib.pyplot as plt\n",
    "%matplotlib inline"
   ]
  },
  {
   "cell_type": "code",
   "execution_count": null,
   "metadata": {},
   "outputs": [],
   "source": [
    "#1 ck tables from roxana\n",
    "mh = '+000' #log metallicity\n",
    "CtoO = '100'# CtoO ratio relative to solar\n",
    "\n",
    "ck_db = f'/data/kcoeff_2020_v3/sonora_2020_feh{mh}_co_{CtoO}.data.196'\n",
    "#sonora bobcat cloud free structures file\n",
    "sonora_profile_db = '/data/sonora_bobcat/structure/structures_m+0.0'\n"
   ]
  },
  {
   "cell_type": "markdown",
   "metadata": {},
   "source": [
    "## What does a climate model solve for?"
   ]
  },
  {
   "cell_type": "markdown",
   "metadata": {},
   "source": [
    "1D Radiative-Convective Equilibrium Models solve for atmospheric structures of brown dwarfs and exoplanets, which includes:\n",
    "\n",
    "1\\. The Temperature Structure (T(P) profile)\n",
    " \n",
    "2\\. The Chemical Structure \n",
    "\n",
    "3\\. Energy Transport in the atmosphere\n",
    "\n",
    "But these physical components are not independent of each other. For example, the chemistry is dependent on the T(P) profile, the radiative transfer is dependent on clouds and the chemistry and so on. \n",
    "\n",
    "`PICASO` tries to find the atmospheric state of your object by taking care of all of these processes and their interconnections self-consistently and iteratively. Therefore, you will find that the climate portion of `PICASO` is slower than running a single forward model evaluation. "
   ]
  },
  {
   "cell_type": "markdown",
   "metadata": {},
   "source": [
    "## Starting up the Run"
   ]
  },
  {
   "cell_type": "markdown",
   "metadata": {},
   "source": [
    "You will notice that starting a run is nearly identical as running a spectrum. However, how we will add `climate=True` to our inputs flag. We will also specify `browndwarf` in this case, which will turn off the irradiation the object is receiving. \n",
    "\n",
    "New Parameter: **Effective Temperature**. This excerpt from [Modeling Exoplanetary Atmospheres (Fortney et al)](https://arxiv.org/pdf/1804.08149.pdf) provides a thorough description and more reading, if you are interested.\n",
    "\n",
    ">If the effective temperature, $T_{eff}$, is defined as the temperature of a blackbody of\n",
    "the same radius that would emit the equivalent flux as the real planet, $T_{eff}$ and $T_{eq}$\n",
    "can be simply related. This relation requires the inclusion of a third temperature,\n",
    "$T_{int}$, the intrinsic effective temperature, that describes the flux from the planet’s\n",
    "interior. These temperatures are related by:\"\n",
    "\n",
    ">$T_{eff}^4 =  T_{int}^4 + T_{eq}^4$\n",
    "\n",
    ">We then recover our limiting cases: if a planet is self-luminous (like a young giant\n",
    "planet) and far from its parent star, $T_{eff} \\approx  T_{int}$; for most rocky planets, or any\n",
    "planets under extreme stellar irradiation, $T_{eff} \\approx T_{eq}$."
   ]
  },
  {
   "cell_type": "code",
   "execution_count": null,
   "metadata": {},
   "outputs": [],
   "source": [
    "cl_run = jdi.inputs(calculation=\"browndwarf\", climate = True) # start a calculation \n",
    "\n",
    "#note you need to put the climate keyword to be True in order to do so\n",
    "# now you need to add these parameters to your calculation  \n",
    "\n",
    "\n",
    "teff= 1000 # Effective Temperature of your Brown Dwarf in K\n",
    "grav = 1000 # Gravity of your brown dwarf in m/s/s\n",
    "\n",
    "cl_run.gravity(gravity=grav, gravity_unit=u.Unit('m/(s**2)')) # input gravity\n",
    "cl_run.effective_temp(teff) # input effective temperature"
   ]
  },
  {
   "cell_type": "markdown",
   "metadata": {},
   "source": [
    "Let's now grab our gaseous opacities, whose path we have already defined above. Again, this code uses a correlated-k approach for accurately capturing opacities (see [section 2.1.4; Mukerjee et al 2022](https://arxiv.org/pdf/2208.07836.pdf)).\n",
    "\n",
    "**NEW**: you now must explicitly state `method='preweighted'` in opannection. You will get an error telling you so if you do not. "
   ]
  },
  {
   "cell_type": "code",
   "execution_count": null,
   "metadata": {},
   "outputs": [],
   "source": [
    "# Notice The keyword ck is set to True because you want to use the correlated-k opacities for your calculation\n",
    "# and not the line by line opacities\n",
    "opacity_ck = jdi.opannection(ck_db=ck_db,method='preweighted') # grab your opacities"
   ]
  },
  {
   "cell_type": "markdown",
   "metadata": {},
   "source": [
    "## Initial T(P)  Guess\n",
    "\n",
    "Every calculation requires an initial guess of the pressure temperature profile. The code will iterate from there to find the correct solution. A few tips: \n",
    "\n",
    "1. We recommend **using typically 51-91 atmospheric pressure levels**. Too many pressure layers increases the computational time required for convergence. Too little layers makes the atmospheric grid too coarse for an accurate calculation.\n",
    "\n",
    "2. Start with **a guess that is close to your expected solution**. We will show an example using an isothermal P(T) profile below so you can see the iterative process. Later though, we recommend leveraging pre-computed grids (e.g. Sonora) as a starting guess for Brown Dwarfs. \n"
   ]
  },
  {
   "cell_type": "code",
   "execution_count": null,
   "metadata": {},
   "outputs": [],
   "source": [
    "nlevel = 91 # number of plane-parallel levels in your code\n",
    "\n",
    "#Lets set the max and min at 1e-4 bars and 500 bars\n",
    "\n",
    "Pmin = 1e-4 #bars\n",
    "Pmax = 500 #bars\n",
    "pressure=np.logspace(np.log10(Pmin),np.log10(Pmax),nlevel) # set your pressure grid\n",
    "\n",
    "temp_guess = np.zeros(shape=(nlevel)) + 500 # K , isothermal atmosphere guess"
   ]
  },
  {
   "cell_type": "markdown",
   "metadata": {},
   "source": [
    "## Initial Convective Zone Guess\n",
    "\n",
    "You also need to have a crude guess of the convective zone of your atmosphere. Generally the deeper atmosphere is always convective. Again a good guess is always the published SONORA grid of models for this. But lets assume that the bottom 7 levels of the atmosphere is convective. \n",
    "\n",
    "**New Parameters:**\n",
    "\n",
    "1. `nofczns` : Number of convective zones. Though the code has functionality to solve for more than one. In this basic tutorial, let's stick to 1 for now.\n",
    "2. `rfacv`: (See Mukherjee et al Eqn. 20 `r_st`) https://arxiv.org/pdf/2208.07836.pdf\n",
    "3. `nstr_upper` : this defines the top most level of your guessed convective zone. If you don't have a clue where your convective zone might end be choose a number that is $\\sim$nlevel-5 (a few pressure levels away from the very bottom of your grid)\n",
    "\n",
    "Non-zero values of rst (aka \"rfacv\" legacy terminology) is only relevant when the external irradiation on the atmosphere is non-zero. In the scenario when a user is computing a planet-wide average T(P) profile, the stellar irradiation is contributing to 50% (one hemisphere) of the planet and as a result rst = 0.5. If instead the goal is to compute a night-side average atmospheric state, rst is set to be 0. On the other extreme, to compute the day-side atmospheric state of a tidally locked planet rst should be set at 1."
   ]
  },
  {
   "cell_type": "code",
   "execution_count": null,
   "metadata": {},
   "outputs": [],
   "source": [
    "nofczns = 1 # number of convective zones initially. Let's not play with this for now.\n",
    "\n",
    "nstr_upper = 83 # top most level of guessed convective zone\n",
    "nstr_deep = nlevel -2 # this is always the case. Dont change this\n",
    "nstr = np.array([0,nstr_upper,nstr_deep,0,0,0]) # initial guess of convective zones\n",
    "\n",
    "# Here are some other parameters needed for the code.\n",
    "rfacv = 0.0 #we are focused on a brown dwarf so let's keep this as is"
   ]
  },
  {
   "cell_type": "markdown",
   "metadata": {},
   "source": [
    "Now we would use the inputs_climate function to input everything together to our cl_run we started."
   ]
  },
  {
   "cell_type": "code",
   "execution_count": null,
   "metadata": {},
   "outputs": [],
   "source": [
    "cl_run.inputs_climate(temp_guess= temp_guess, pressure= pressure, \n",
    "                      nstr = nstr, nofczns = nofczns , rfacv = rfacv)"
   ]
  },
  {
   "cell_type": "markdown",
   "metadata": {},
   "source": [
    "## Run the Climate Code"
   ]
  },
  {
   "cell_type": "markdown",
   "metadata": {},
   "source": [
    " The actual climate code can be run with the cl_run.run command. The save_all_profiles is set to True to save the T(P) profile at all steps, prior to convergence. The code will now iterate from your guess to reach the correct atmospheric solution for your brown dwarf of interest.\n",
    " \n",
    " "
   ]
  },
  {
   "cell_type": "code",
   "execution_count": null,
   "metadata": {},
   "outputs": [],
   "source": [
    "#save_all_profiles=True or save_all_profiles=False\n",
    "save_all_profiles_file=\"/data/test/tutorial/all_profiles_example.h5\"\n",
    "out = cl_run.climate(opacity_ck, \n",
    "                     save_all_profiles=save_all_profiles_file,\n",
    "                     with_spec=True)"
   ]
  },
  {
   "cell_type": "markdown",
   "metadata": {},
   "source": [
    "If you specified a `str` path in `save_all_profiles` (opposed to a bool), the output `all_profiles` will be saved there as an HDF5 file (in addition to being included in your output variable `out`)"
   ]
  },
  {
   "cell_type": "code",
   "execution_count": null,
   "metadata": {},
   "outputs": [],
   "source": [
    "out[\"all_profiles\"]"
   ]
  },
  {
   "cell_type": "code",
   "execution_count": null,
   "metadata": {},
   "outputs": [],
   "source": [
    "import h5py\n",
    "f = h5py.File(save_all_profiles_file, \"r\")\n",
    "print(f[\"all_profiles\"].keys())\n",
    "print(np.array(f[\"all_profiles\"].get(\"pt_10\")))\n",
    "f.close()"
   ]
  },
  {
   "cell_type": "markdown",
   "metadata": {},
   "source": [
    "## `xarray` model storage\n"
   ]
  },
  {
   "cell_type": "code",
   "execution_count": null,
   "metadata": {},
   "outputs": [],
   "source": [
    "preserve_clima = jdi.output_xarray(out, cl_run)"
   ]
  },
  {
   "cell_type": "code",
   "execution_count": null,
   "metadata": {},
   "outputs": [],
   "source": [
    "preserve_clima"
   ]
  },
  {
   "cell_type": "markdown",
   "metadata": {},
   "source": [
    "## Benchmark with Sonora Bobcat"
   ]
  },
  {
   "cell_type": "code",
   "execution_count": null,
   "metadata": {},
   "outputs": [],
   "source": [
    "pressure_bobcat,temp_bobcat = np.loadtxt(jdi.os.path.join(\n",
    "                            sonora_profile_db,f\"t{teff}g{grav}nc_m0.0.dat\"),\n",
    "                            usecols=[1,2],unpack=True, skiprows = 1)\n",
    "\n",
    "plt.figure(figsize=(10,10))\n",
    "plt.ylabel(\"Pressure [Bars]\", fontsize=25)\n",
    "plt.xlabel('Temperature [K]', fontsize=25)\n",
    "plt.ylim(500,1e-4)\n",
    "plt.xlim(200,3000)\n",
    "\n",
    "plt.semilogy(out['temperature'],out['pressure'],color=\"r\",linewidth=3,label=\"Our Run\")\n",
    "\n",
    "plt.semilogy(temp_bobcat,pressure_bobcat,color=\"k\",linestyle=\"--\",linewidth=3,label=\"Sonora Bobcat\")\n",
    "\n",
    "\n",
    "plt.minorticks_on()\n",
    "plt.tick_params(axis='both',which='major',length =30, width=2,direction='in',labelsize=23)\n",
    "plt.tick_params(axis='both',which='minor',length =10, width=2,direction='in',labelsize=23)\n",
    "\n",
    "plt.legend(fontsize=15)\n",
    "\n",
    "plt.title(r\"T$_{\\rm eff}$= 1000 K, log(g)=5.0\",fontsize=25)\n",
    "\n"
   ]
  },
  {
   "cell_type": "markdown",
   "metadata": {},
   "source": [
    "## Climate Plots and Animations "
   ]
  },
  {
   "cell_type": "markdown",
   "metadata": {},
   "source": [
    "### Animate Convergence"
   ]
  },
  {
   "cell_type": "markdown",
   "metadata": {},
   "source": [
    "We can also try to see how our initial guess of an isothermal atmosphere was changed by the code to reach the converged solution"
   ]
  },
  {
   "cell_type": "code",
   "execution_count": null,
   "metadata": {},
   "outputs": [],
   "source": [
    "ani = jpi.animate_convergence(out, cl_run, opacity_ck, \n",
    "    molecules=['H2O','CH4','CO','NH3'])"
   ]
  },
  {
   "cell_type": "code",
   "execution_count": null,
   "metadata": {},
   "outputs": [],
   "source": [
    "ani"
   ]
  },
  {
   "cell_type": "markdown",
   "metadata": {},
   "source": [
    "### Brightness Temperature"
   ]
  },
  {
   "cell_type": "markdown",
   "metadata": {},
   "source": [
    "Checking the brightness temperature serves many useful purposes: \n",
    "\n",
    "1. Intuition building. Allows you to see what corresponding temperature are you sensitive to at each wavelength \n",
    "\n",
    "Note that this temperature doesn't need to be the physical temperature of your atmosphere but if you can find the physical converged atmospheric temperature closest to this brightness temperature you can also get an idea of the atmospheric pressure from where the flux you are seeing is originating from.\n",
    "\n",
    "2. Determining if your choice in bottom boundary pressure grid was correct. \n",
    "\n",
    "If your brightness temperature is such that you bottom out at the temperature corresponding to the highest pressure, you have not extended your grid to high enough pressures. \n",
    "\n",
    "Brightness Temperature Equation:\n",
    "\n",
    "$T_{\\rm bright}=\\dfrac{a}{{\\lambda}log\\left(\\dfrac{{b}}{F(\\lambda){\\lambda}^5}+1\\right)}$\n",
    "\n",
    "where a = 1.43877735x$10^{-2}$ m.K and b = 11.91042952x$10^{-17}$ m$^4$kg/s$^3$ \n",
    "\n",
    "Let's calculate the brightness temperature of our current run and check if our pressure grid was okay."
   ]
  },
  {
   "cell_type": "code",
   "execution_count": null,
   "metadata": {},
   "outputs": [],
   "source": [
    "brightness_temp, figure= jpi.brightness_temperature(out['spectrum_output'])"
   ]
  },
  {
   "cell_type": "markdown",
   "metadata": {},
   "source": [
    "In the above plot you can see that your brightness temperature is nicely bound between the minimum and maximum temperature. Your run is good and your choice of pressure grid is also great. Well done team!\n",
    "\n",
    "\n",
    "## Selecting an Adequate Pressure Grid\n",
    "\n",
    "For understanding and intuition building, let's do out a run where we purposely choose an incomplete pressure grid. Let's do the same run by the max pressure set at only 3 bars instead of 500 bars."
   ]
  },
  {
   "cell_type": "code",
   "execution_count": null,
   "metadata": {},
   "outputs": [],
   "source": [
    "cl_bad_pres = jdi.inputs(calculation=\"brown\", climate = True)\n",
    "cl_bad_pres.gravity(gravity=grav, gravity_unit=u.Unit('m/(s**2)')) # input gravity\n",
    "cl_bad_pres.effective_temp(teff)\n",
    "\n",
    "nlevel = 91 # number of plane-parallel levels in your code\n",
    "Pmin = 1e-4 #bars\n",
    "Pmax = 3 #bars\n",
    "pressure=np.logspace(np.log10(Pmin),np.log10(Pmax),nlevel) # set your pressure grid\n",
    "\n",
    "temp_guess = np.zeros(shape=(nlevel)) + 500 # K , isothermal atmosphere guess\n",
    "\n",
    "nofczns = 1 # number of convective zones initially. Let's not play with this for now.\n",
    "\n",
    "nstr_upper = 83 # top most level of guessed convective zone\n",
    "nstr_deep = nlevel -2 # this is always the case. Dont change this\n",
    "nstr = np.array([0,nstr_upper,nstr_deep,0,0,0]) # initial guess of convective zones\n",
    "\n",
    "rfacv = 0.0 #we are focused on a brown dwarf so let's keep this as is\n",
    "\n",
    "cl_bad_pres.inputs_climate(temp_guess= temp_guess, pressure= pressure, \n",
    "                      nstr = nstr, nofczns = nofczns , rfacv = rfacv)\n",
    "out_bad_pres = cl_bad_pres.climate(opacity_ck, save_all_profiles=True,with_spec=True)"
   ]
  },
  {
   "cell_type": "markdown",
   "metadata": {},
   "source": [
    "Lets plot the profile from our new run and check it against our old run."
   ]
  },
  {
   "cell_type": "code",
   "execution_count": null,
   "metadata": {},
   "outputs": [],
   "source": [
    "plt.figure(figsize=(10,10))\n",
    "plt.ylabel(\"Pressure [Bars]\", fontsize=25)\n",
    "plt.xlabel('Temperature [K]', fontsize=25)\n",
    "plt.ylim(30,1e-4)\n",
    "plt.xlim(200,1200)\n",
    "\n",
    "plt.semilogy(out['temperature'],out['pressure'],color=\"r\",linewidth=3,label=\"Good Run\")\n",
    "plt.semilogy(out_bad_pres['temperature'],out_bad_pres['pressure'],color=\"b\",linewidth=3,label=\"Bad Pressure Run\")\n",
    "\n",
    "plt.semilogy(temp_bobcat,pressure_bobcat,color=\"k\",linestyle=\"--\",linewidth=3,label=\"Sonora Bobcat\")\n",
    "\n",
    "\n",
    "plt.minorticks_on()\n",
    "plt.tick_params(axis='both',which='major',length =30, width=2,direction='in',labelsize=23)\n",
    "plt.tick_params(axis='both',which='minor',length =10, width=2,direction='in',labelsize=23)\n",
    "\n",
    "plt.legend(fontsize=15)\n",
    "\n",
    "plt.title(r\"T$_{\\rm eff}$= 1000 K, log(g)=5.0\",fontsize=25)\n",
    "\n"
   ]
  },
  {
   "cell_type": "markdown",
   "metadata": {},
   "source": [
    "This new profile is slightly off from our run and also the sonora bobcat run. Lets look at its brightness temperature as a function of wavelength and check if it matches well with our previous run."
   ]
  },
  {
   "cell_type": "code",
   "execution_count": null,
   "metadata": {},
   "outputs": [],
   "source": [
    "brightness_temp_bad, figure_bad= jpi.brightness_temperature(\n",
    "    out_bad_pres['spectrum_output'])"
   ]
  },
  {
   "cell_type": "markdown",
   "metadata": {},
   "source": [
    "See how the brightness temperature from this new run is different from our previous succesful run. The brightness temperatures infact goes over the maximum temperature achieved by the model. Therefore the pressure grid used for this run is incorrect because one can look through the atmosphere to the bottom of the grid at most wavelengths which is not good and the resultant \"converged\" T(P) profile is also visibly inaccurate as a result as well."
   ]
  },
  {
   "cell_type": "markdown",
   "metadata": {},
   "source": [
    "## Post Process High Resolution Spectrum\n",
    "We can quickly do this by resetting the opannection to not use the ck database and use the `ptchem_df` DataFrame as input for the atmosphere \n",
    "\n",
    "This is also the point where you could post-process clouds using `virga` or a `box model` as seen in these tutorials here: \n",
    "1. [Adding clouds with virga](https://natashabatalha.github.io/picaso/notebooks/7_PairingPICASOToVIRGA.html) \n",
    "2. [Adding box model clouds](https://natashabatalha.github.io/picaso/notebooks/5_AddingTransitSpectrum.html#Adding-Grey-Cloud) "
   ]
  },
  {
   "cell_type": "code",
   "execution_count": null,
   "metadata": {},
   "outputs": [],
   "source": [
    "opa_mon = jdi.opannection()\n",
    "\n",
    "hi_res = jdi.inputs(calculation=\"browndwarf\") # start a calculation \n",
    "teff= 1000 # Effective Temperature of your Brown Dwarf in K\n",
    "grav = 1000 # Gravity of your brown dwarf in m/s/s\n",
    "\n",
    "hi_res.gravity(gravity=grav, gravity_unit=u.Unit('m/(s**2)')) # input gravity\n",
    "\n",
    "hi_res.atmosphere(df=out['ptchem_df']) \n",
    "df_spec = hi_res.spectrum(opa_mon, calculation='thermal', full_output=True)\n",
    "w,f = jdi.mean_regrid(df_spec['wavenumber'],df_spec['thermal'], R=100)"
   ]
  },
  {
   "cell_type": "code",
   "execution_count": null,
   "metadata": {},
   "outputs": [],
   "source": [
    "jpi.show(jpi.spectrum(w,f,x_axis_type='log',y_axis_type='log'))"
   ]
  },
  {
   "cell_type": "markdown",
   "metadata": {},
   "source": [
    "## Post Process High Resolution Spectrum Easily with Xarray\n",
    "\n",
    "This is the same thing as above but using our xarray output from climate as input "
   ]
  },
  {
   "cell_type": "code",
   "execution_count": null,
   "metadata": {},
   "outputs": [],
   "source": [
    "opa_mon = jdi.opannection()\n",
    "\n",
    "hi_res = jdi.input_xarray(preserve_clima,opa_mon, calculation='browndwarf')\n",
    "\n",
    "df_spec = hi_res.spectrum(opa_mon, calculation='thermal', full_output=True)\n"
   ]
  },
  {
   "cell_type": "markdown",
   "metadata": {},
   "source": [
    "## `xarray` model storage with post-processed models "
   ]
  },
  {
   "cell_type": "code",
   "execution_count": null,
   "metadata": {},
   "outputs": [],
   "source": [
    "preserve_hires = jdi.output_xarray(df_spec, hi_res)"
   ]
  },
  {
   "cell_type": "code",
   "execution_count": null,
   "metadata": {},
   "outputs": [],
   "source": [
    "preserve_hires"
   ]
  }
 ],
 "metadata": {
  "kernelspec": {
   "display_name": "Python 3 (ipykernel)",
   "language": "python",
   "name": "python3"
  },
  "language_info": {
   "codemirror_mode": {
    "name": "ipython",
    "version": 3
   },
   "file_extension": ".py",
   "mimetype": "text/x-python",
   "name": "python",
   "nbconvert_exporter": "python",
   "pygments_lexer": "ipython3",
   "version": "3.11.8"
  },
  "nbsphinx": {},
  "toc": {
   "base_numbering": 1,
   "nav_menu": {},
   "number_sections": true,
   "sideBar": true,
   "skip_h1_title": false,
   "title_cell": "Table of Contents",
   "title_sidebar": "Contents",
   "toc_cell": true,
   "toc_position": {},
   "toc_section_display": true,
   "toc_window_display": false
  },
  "varInspector": {
   "cols": {
    "lenName": 16,
    "lenType": 16,
    "lenVar": 40
   },
   "kernels_config": {
    "python": {
     "delete_cmd_postfix": "",
     "delete_cmd_prefix": "del ",
     "library": "var_list.py",
     "varRefreshCmd": "print(var_dic_list())"
    },
    "r": {
     "delete_cmd_postfix": ") ",
     "delete_cmd_prefix": "rm(",
     "library": "var_list.r",
     "varRefreshCmd": "cat(var_dic_list()) "
    }
   },
   "types_to_exclude": [
    "module",
    "function",
    "builtin_function_or_method",
    "instance",
    "_Feature"
   ],
   "window_display": false
  }
 },
 "nbformat": 4,
 "nbformat_minor": 4
}
