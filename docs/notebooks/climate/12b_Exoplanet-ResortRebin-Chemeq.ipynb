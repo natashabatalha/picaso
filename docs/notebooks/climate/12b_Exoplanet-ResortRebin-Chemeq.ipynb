{
 "cells": [
  {
   "cell_type": "markdown",
   "metadata": {},
   "source": [
    "# One-Dimensional Climate Models: The Basics of Planets\n",
    "\n",
    "In this tutorial you will learn the very basics of running 1D climate runs. For a more in depth look at the climate code check out [Mukherjee et al. 2022](https://arxiv.org/abs/2208.07836) (note this should also be cited if using this code/tutorial). \n",
    "\n",
    "What you should already be familiar with: \n",
    "\n",
    "- [basics of running/analyzing thermal spectra](https://natashabatalha.github.io/picaso/tutorials.html#basics-of-thermal-emission)\n",
    "- [how to analyze thermal emission spectra](https://natashabatalha.github.io/picaso/notebooks/workshops/ERS2021/ThermalEmissionTutorial.html)\n",
    "- [how to compute a Brown Dwarf 1D climate model](https://natashabatalha.github.io/picaso/notebooks/climate/12a_BrownDwarf.html)\n",
    "\n",
    "\n",
    "What you will need to download to use this tutorial: \n",
    "\n",
    "1. [Download](https://zenodo.org/record/5590989#.Yzy2YOzMI8a) 196 Correlated-K Tables from Roxana Lupu to be used by the climate code for opacity (if you completed the brown dwarf tutorial you should already have this)\n",
    "\n",
    "**Note**: the two files above are dependent on metallicity and C/O. "
   ]
  },
  {
   "cell_type": "code",
   "execution_count": null,
   "metadata": {},
   "outputs": [],
   "source": [
    "import warnings\n",
    "warnings.filterwarnings('ignore')\n",
    "import picaso.justdoit as jdi\n",
    "import picaso.justplotit as jpi\n",
    "import astropy.units as u\n",
    "import numpy as np\n",
    "import matplotlib.pyplot as plt\n",
    "%matplotlib inline"
   ]
  },
  {
   "cell_type": "code",
   "execution_count": null,
   "metadata": {},
   "outputs": [],
   "source": [
    "#1 ck tables from roxana\n",
    "mh = '+100'#'+1.0' #log metallicity, 10xSolar\n",
    "CtoO = '100'#'1.0' # CtoO ratio, Solar C/O\n",
    "ck_db = f'/data/kcoeff_2020_v3/sonora_2020_feh{mh}_co_{CtoO}.data.196'\n",
    "ck_db = f'/Users/nbatalh1/Documents/data/kcoeff_2020/sonora_2020_feh{mh}_co_{CtoO}.data.196'\n"
   ]
  },
  {
   "cell_type": "code",
   "execution_count": null,
   "metadata": {},
   "outputs": [],
   "source": [
    "# Notice The keyword ck is set to True because you want to use the correlated-k opacities for your calculation\n",
    "# and not the line by line opacities\n",
    "opacity_ck = jdi.opannection(method='resortrebin')#ck_db=ck_db,method='preweighted') # grab your opacities"
   ]
  },
  {
   "cell_type": "markdown",
   "metadata": {},
   "source": [
    "## Starting up the Run\n"
   ]
  },
  {
   "cell_type": "markdown",
   "metadata": {},
   "source": [
    "You will notice that starting a run is nearly identical as running a spectrum and brown dwarf climate model. However, how we will add `climate=True` to our inputs flag. We will also specify `planet` in this case, which will turn on the irradiation the object is receiving. \n",
    "\n",
    "New Parameter (was also used in the Brown Dwarf tutorial): **Effective Temperature**. This excerpt from [Modeling Exoplanetary Atmospheres (Fortney et al)](https://arxiv.org/pdf/1804.08149.pdf) provides a thorough description and more reading, if you are interested.\n",
    "\n",
    "> If the effective temperature, $T_{eff}$, is defined as the temperature of a blackbody of\n",
    "the same radius that would emit the equivalent flux as the real planet, $T_{eff}$ and $T_{eq}$\n",
    "can be simply related. This relation requires the inclusion of a third temperature,\n",
    "$T_{int}$, the intrinsic effective temperature, that describes the flux from the planet’s\n",
    "interior. These temperatures are related by:\n",
    "\n",
    "> $T_{eff}^4 =  T_{int}^4 + T_{eq}^4$\n",
    "\n",
    "> We then recover our limiting cases: if a planet is self-luminous (like a young giant\n",
    "planet) and far from its parent star, $T_{eff} \\approx  T_{int}$; for most rocky planets, or any\n",
    "planets under extreme stellar irradiation, $T_{eff} \\approx T_{eq}$."
   ]
  },
  {
   "cell_type": "code",
   "execution_count": null,
   "metadata": {},
   "outputs": [],
   "source": [
    "cl_run = jdi.inputs(calculation=\"planet\", climate = True) # start a calculation \n",
    "\n",
    "#note you need to put the climate keyword to be True in order to do so\n",
    "# now you need to add these parameters to your calculation  \n",
    "\n",
    "\n",
    "tint= 200 # Intrinsic Temperature of your Planet in K\n",
    "grav = 4.5 # Gravity of your Planet in m/s/s\n",
    "\n",
    "cl_run.gravity(gravity=grav, gravity_unit=u.Unit('m/(s**2)')) # input gravity\n",
    "cl_run.effective_temp(tint) # input effective temperature"
   ]
  },
  {
   "cell_type": "markdown",
   "metadata": {},
   "source": [
    "Let's now input the host-star properties"
   ]
  },
  {
   "cell_type": "code",
   "execution_count": null,
   "metadata": {},
   "outputs": [],
   "source": [
    "T_star =5326.6 # K, star effective temperature\n",
    "logg =4.38933 #logg , cgs\n",
    "metal =-0.03 # metallicity of star\n",
    "r_star = 0.932 # solar radius\n",
    "semi_major = 0.0486 # star planet distance, AU\n",
    "\n",
    "cl_run.star(opacity_ck, temp =T_star,metal =metal, logg =logg, radius = r_star, \n",
    "            radius_unit=u.R_sun,semi_major= semi_major , semi_major_unit = u.AU)#opacity db, pysynphot database, temp, metallicity, logg\n"
   ]
  },
  {
   "cell_type": "markdown",
   "metadata": {},
   "source": [
    "## Initial T(P)  Guess\n",
    "\n",
    "Every calculation requires an initial guess of the pressure temperature profile. The code will iterate from there to find the correct solution. A few tips: \n",
    "\n",
    "1. We recommend **using typically 51-91 atmospheric pressure levels**. Too many pressure layers increases the computational time required for convergence. Too little layers makes the atmospheric grid too coarse for an accurate calculation.\n",
    "\n",
    "2. Start with **a guess that is close to your expected solution**. One easy way to get fairly close is by using the Guillot et al 2010 temperature-pressure profile approximation\n"
   ]
  },
  {
   "cell_type": "code",
   "execution_count": null,
   "metadata": {},
   "outputs": [],
   "source": [
    "nlevel = 91 # number of plane-parallel levels in your code\n",
    "\n",
    "#Lets set the max and min at 1e-4 bars and 500 bars\n",
    "Teq=1000 # planet equilibrium temperature \n",
    "pt = cl_run.guillot_pt(Teq, nlevel=nlevel, T_int = tint, p_bottom=2, p_top=-6)\n",
    "temp_guess = pt['temperature'].values \n",
    "pressure = pt['pressure'].values"
   ]
  },
  {
   "cell_type": "markdown",
   "metadata": {},
   "source": [
    "## Initial Convective Zone Guess\n",
    "\n",
    "You also need to have a crude guess of the convective zone of your atmosphere. Generally the deeper atmosphere is always convective. Again a good guess is always the published SONORA grid of models for this. But lets assume that the bottom 7 levels of the atmosphere is convective. \n",
    "\n",
    "**New Parameters:**\n",
    "\n",
    "1. `nofczns` : Number of convective zones. Though the code has functionality to solve for more than one. In this basic tutorial, let's stick to 1 for now.\n",
    "2. `rfacv`: (See Mukherjee et al Eqn. 20 `r_st`) https://arxiv.org/pdf/2208.07836.pdf\n",
    "\n",
    "Non-zero values of rst (aka \"rfacv\" legacy terminology) is only relevant when the external irradiation on the atmosphere is non-zero. In the scenario when a user is computing a planet-wide average T(P) profile, the stellar irradiation is contributing to 50% (one hemisphere) of the planet and as a result rst = 0.5. If instead the goal is to compute a night-side average atmospheric state, rst is set to be 0. On the other extreme, to compute the day-side atmospheric state of a tidally locked planet rst should be set at 1."
   ]
  },
  {
   "cell_type": "code",
   "execution_count": null,
   "metadata": {},
   "outputs": [],
   "source": [
    "nofczns = 1 # number of convective zones initially. Let's not play with this for now.\n",
    "\n",
    "nstr_upper = 85 # top most level of guessed convective zone\n",
    "nstr_deep = nlevel -2 # this is always the case. Dont change this\n",
    "nstr = np.array([0,nstr_upper,nstr_deep,0,0,0]) # initial guess of convective zones\n",
    "\n",
    "# Here are some other parameters needed for the code.\n",
    "rfacv = 0.5 #we are focused on a brown dwarf so let's keep this as is"
   ]
  },
  {
   "cell_type": "markdown",
   "metadata": {},
   "source": [
    "Now we would use the inputs_climate function to input everything together to our cl_run we started."
   ]
  },
  {
   "cell_type": "code",
   "execution_count": null,
   "metadata": {},
   "outputs": [],
   "source": [
    "cl_run.inputs_climate(temp_guess= temp_guess, pressure= pressure, \n",
    "                      nstr = nstr, nofczns = nofczns , rfacv = rfacv)\n",
    "mh=10#10xsolar\n",
    "cto_relative = 1 #1xsolar\n",
    "#now that we are not using preweighted ck tables we need to tell picaso how to compute chemistry on the fly \n",
    "cl_run.atmosphere(mh=mh, cto_relative=cto_relative, chem_method='visscher')"
   ]
  },
  {
   "cell_type": "markdown",
   "metadata": {},
   "source": [
    "## Run the Climate Code"
   ]
  },
  {
   "cell_type": "markdown",
   "metadata": {},
   "source": [
    " The actual climate code can be run with the cl_run.run command. The save_all_profiles is set to True to save the T(P) profile at all steps. The code will now iterate from your guess to reach the correct atmospheric solution for your brown dwarf of interest.\n",
    " \n",
    " "
   ]
  },
  {
   "cell_type": "code",
   "execution_count": null,
   "metadata": {},
   "outputs": [],
   "source": [
    "out = cl_run.climate(opacity_ck, save_all_profiles=True,with_spec=True)"
   ]
  },
  {
   "cell_type": "code",
   "execution_count": null,
   "metadata": {},
   "outputs": [],
   "source": [
    "base_case = jdi.pd.read_csv(jdi.HJ_pt(), delim_whitespace=True)\n",
    "\n",
    "plt.figure(figsize=(10,10))\n",
    "plt.ylabel(\"Pressure [Bars]\", fontsize=25)\n",
    "plt.xlabel('Temperature [K]', fontsize=25)\n",
    "plt.ylim(500,1e-4)\n",
    "plt.xlim(200,3000)\n",
    "\n",
    "plt.semilogy(out['temperature'],out['pressure'],color=\"r\",linewidth=3,label=\"Our Run\")\n",
    "\n",
    "plt.semilogy(base_case['temperature'],base_case['pressure'],color=\"k\",linestyle=\"--\",linewidth=3,label=\"WASP-39 b ERS Run\")\n",
    "\n",
    "\n",
    "plt.minorticks_on()\n",
    "plt.tick_params(axis='both',which='major',length =30, width=2,direction='in',labelsize=23)\n",
    "plt.tick_params(axis='both',which='minor',length =10, width=2,direction='in',labelsize=23)\n",
    "\n",
    "plt.legend(fontsize=15)\n",
    "\n",
    "plt.title(r\"T$_{\\rm eff}$= 1000 K, log(g)=5.0\",fontsize=25)\n",
    "\n"
   ]
  },
  {
   "cell_type": "markdown",
   "metadata": {},
   "source": [
    "### Brightness Temperature"
   ]
  },
  {
   "cell_type": "markdown",
   "metadata": {},
   "source": [
    "Checking the brightness temperature serves many useful purposes: \n",
    "\n",
    "1. Intuition building. Allows you to see what corresponding temperature are you sensitive to at each wavelength \n",
    "\n",
    "Note that this temperature doesn't need to be the physical temperature of your atmosphere but if you can find the physical converged atmospheric temperature closest to this brightness temperature you can also get an idea of the atmospheric pressure from where the flux you are seeing is originating from.\n",
    "\n",
    "2. Determining if your choice in bottom boundary pressure grid was correct. \n",
    "\n",
    "If your brightness temperature is such that you bottom out at the temperature corresponding to the highest pressure, you have not extended your grid to high enough pressures. \n",
    "\n",
    "Brightness Temperature Equation:\n",
    "\n",
    "$T_{\\rm bright}=\\dfrac{a}{{\\lambda}log\\left(\\dfrac{{b}}{F(\\lambda){\\lambda}^5}+1\\right)}$\n",
    "\n",
    "where a = 1.43877735$\\times$10$^{-2}$ m.K and b = 11.91042952$\\times$10$^{-17}$ m$^4$kg/s$^3$ \n",
    "\n",
    "Let's calculate the brigthness temperature of our current run and check if our pressure grid was okay."
   ]
  },
  {
   "cell_type": "code",
   "execution_count": null,
   "metadata": {},
   "outputs": [],
   "source": [
    "brightness_temp, figure= jpi.brightness_temperature(out['spectrum_output'])"
   ]
  },
  {
   "cell_type": "markdown",
   "metadata": {},
   "source": [
    "### Check Adiabat \n",
    "\n",
    "This plot and datareturn is helpful to check that there have been no issues with where the code has found the location of the convective zone(s). See below, dTdP never exceeds the adiabat.  "
   ]
  },
  {
   "cell_type": "code",
   "execution_count": null,
   "metadata": {},
   "outputs": [],
   "source": [
    "cp, adiabat, dtdp, pressure = jpi.pt_adiabat(out, cl_run, opacity_ck, plot=True)"
   ]
  },
  {
   "cell_type": "code",
   "execution_count": null,
   "metadata": {},
   "outputs": [],
   "source": [
    "jdi.output_xarray(out,cl_run,savefile='w39.nc')"
   ]
  },
  {
   "cell_type": "code",
   "execution_count": null,
   "metadata": {},
   "outputs": [],
   "source": []
  }
 ],
 "metadata": {
  "kernelspec": {
   "display_name": "pic312",
   "language": "python",
   "name": "python3"
  },
  "language_info": {
   "codemirror_mode": {
    "name": "ipython",
    "version": 3
   },
   "file_extension": ".py",
   "mimetype": "text/x-python",
   "name": "python",
   "nbconvert_exporter": "python",
   "pygments_lexer": "ipython3",
   "version": "3.12.2"
  },
  "toc": {
   "base_numbering": 1,
   "nav_menu": {},
   "number_sections": true,
   "sideBar": true,
   "skip_h1_title": false,
   "title_cell": "Table of Contents",
   "title_sidebar": "Contents",
   "toc_cell": true,
   "toc_position": {},
   "toc_section_display": true,
   "toc_window_display": false
  },
  "varInspector": {
   "cols": {
    "lenName": 16,
    "lenType": 16,
    "lenVar": 40
   },
   "kernels_config": {
    "python": {
     "delete_cmd_postfix": "",
     "delete_cmd_prefix": "del ",
     "library": "var_list.py",
     "varRefreshCmd": "print(var_dic_list())"
    },
    "r": {
     "delete_cmd_postfix": ") ",
     "delete_cmd_prefix": "rm(",
     "library": "var_list.r",
     "varRefreshCmd": "cat(var_dic_list()) "
    }
   },
   "types_to_exclude": [
    "module",
    "function",
    "builtin_function_or_method",
    "instance",
    "_Feature"
   ],
   "window_display": false
  }
 },
 "nbformat": 4,
 "nbformat_minor": 4
}
