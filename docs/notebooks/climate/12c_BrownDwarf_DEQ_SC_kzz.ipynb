{
 "cells": [
  {
   "cell_type": "markdown",
   "id": "2d72d361",
   "metadata": {},
   "source": [
    "# One-Dimensional Climate Models: Brown Dwarfs w/ Disequilibrium Chemistry at Solar M/H and C/O\n",
    "\n",
    "In this tutorial you will learn how to run 1d climate models with the effects of disequilibrium chemistry as was done for the Elf-OWL Grid [Mukherjee et al. 2024](https://ui.adsabs.harvard.edu/abs/2024arXiv240200756M/abstract) (note this should also be cited if using this code/tutorial). \n",
    "\n",
    "What you should already be familiar with: \n",
    "\n",
    "- [basics of running/analyzing thermal spectra](https://natashabatalha.github.io/picaso/tutorials.html#basics-of-thermal-emission)\n",
    "- [how to analyze thermal emission spectra](https://natashabatalha.github.io/picaso/notebooks/workshops/ERS2021/ThermalEmissionTutorial.html)\n",
    "- [how to run a basic 1d brown dwarf tutorial](https://natashabatalha.github.io/picaso/notebooks/climate/12a_BrownDwarf.html)\n",
    "\n",
    "\n",
    "What should have already downloaded: \n",
    "\n",
    "1. [Download](https://zenodo.org/record/5590989#.Yzy2YOzMI8a) 1460 PT, 196 wno Correlated-K Tables from Roxana Lupu to be used by the climate code for opacity \n",
    "2. [Download](https://zenodo.org/record/5063476/files/structures_m%2B0.0.tar.gz?download=1) the sonora bobcat cloud free `structures_` file so that you can have a simple starting guess \n",
    "\n",
    "**NEW:**\n",
    "\n",
    "3. [Download the .npy](https://doi.org/10.5281/zenodo.10895826) and place them in picaso_refdata folder/climate_INPUTS/661/\n",
    "\n",
    "> **_NOTE:_**  Tip for getting data from zenodo: pip install zenodo_get then it you can simply retrieve a zenodo posting via the command zenodo_get 10.5281/zenodo.10895826 \n"
   ]
  },
  {
   "cell_type": "markdown",
   "id": "ebb85a88-a88d-497e-a224-a8df6e738a43",
   "metadata": {},
   "source": [
    "### First, check that you have downloaded and placed the correlated-k files in the correct folder"
   ]
  },
  {
   "cell_type": "code",
   "execution_count": 1,
   "id": "6d1b911a-9ae9-4284-8d1f-e25227536ebb",
   "metadata": {},
   "outputs": [
    {
     "data": {
      "text/plain": [
       "['H3+',\n",
       " 'FeH',\n",
       " 'C2H2',\n",
       " 'LiH',\n",
       " 'H2S',\n",
       " 'C2H4',\n",
       " 'VO',\n",
       " 'CO',\n",
       " 'OCS',\n",
       " 'MgH',\n",
       " 'SO2',\n",
       " 'LiCl',\n",
       " 'CaH',\n",
       " 'CO2',\n",
       " 'Rb',\n",
       " 'Na',\n",
       " 'CH4',\n",
       " 'TiO',\n",
       " 'CrH',\n",
       " 'HCN',\n",
       " 'Li',\n",
       " 'O2',\n",
       " 'O3',\n",
       " 'H2O',\n",
       " 'Fe',\n",
       " 'Cs',\n",
       " 'AlH',\n",
       " 'H2',\n",
       " 'SiO',\n",
       " 'PH3',\n",
       " 'NH3',\n",
       " 'LiF',\n",
       " 'K',\n",
       " 'C2H6',\n",
       " 'N2',\n",
       " 'TiH']"
      ]
     },
     "execution_count": 1,
     "metadata": {},
     "output_type": "execute_result"
    }
   ],
   "source": [
    "import os;import glob\n",
    "#\n",
    "[i.split('/')[-1].split(\"_\")[0] for i in glob.glob(\n",
    "    os.path.join(os.environ['picaso_refdata'],'climate_INPUTS','ktable_by_molecule','*npy')\n",
    ")]\n",
    "#should see a list of files e.g., \"/data/reference_data/picaso/reference/climate_INPUTS/661/AlH_1460.npy\""
   ]
  },
  {
   "cell_type": "code",
   "execution_count": 2,
   "id": "5e0676d7-2757-47cb-8e75-047ebb27f80f",
   "metadata": {},
   "outputs": [],
   "source": [
    "import warnings\n",
    "warnings.filterwarnings('ignore')\n",
    "import picaso.justdoit as jdi\n",
    "import picaso.justplotit as jpi\n",
    "import astropy.units as u\n",
    "import numpy as np\n",
    "import matplotlib.pyplot as plt\n",
    "#%matplotlib inline\n",
    "from astropy import constants as const\n",
    "from astropy import units as u\n",
    "import sys\n",
    "import pandas as pd"
   ]
  },
  {
   "cell_type": "markdown",
   "id": "5de858d5-3e25-4634-a60b-ad339fd9ee06",
   "metadata": {},
   "source": [
    "## Setting up Initial Run (highlighting main differences for disequilibrium)"
   ]
  },
  {
   "cell_type": "code",
   "execution_count": 3,
   "id": "3d5079c4-7677-4a03-aa0d-a2850c5cabcc",
   "metadata": {},
   "outputs": [],
   "source": [
    "mh = '+000' #log metallicity\n",
    "CtoO = '100'# CtoO ratio relative to solar\n",
    "\n",
    "#ck_db = f'/Users/nbatalh1/Documents/data/kcoeff_2020/sonora_2020_feh{mh}_co_{CtoO}.data.196'\n",
    "#opacity_ck_old = jdi.opannection(ck_db=ck_db, method='preweighted')\n",
    "sonora_profile_db = '/Users/nbatalh1/Documents/data/sonora_bobcat/structures_m+0.0' #recommended download #2 above\n",
    "\n",
    "gases_fly = ['CO','CH4','H2O','NH3','CO2','N2','HCN','H2','He','PH3','C2H2','Na','K','TiO','VO','FeH']\n",
    "\n",
    "opacity_ck = jdi.opannection(method='resortrebin',preload_gases=gases_fly) # grab your opacities\n"
   ]
  },
  {
   "cell_type": "code",
   "execution_count": 4,
   "id": "8cf8bc9e-b19b-4180-a77a-376b854c7afe",
   "metadata": {},
   "outputs": [],
   "source": [
    "cl_run = jdi.inputs(calculation=\"browndwarf\", climate = True) # start a calculation\n",
    "\n",
    "\n",
    "tint= 700 \n",
    "grav = 316 # Gravity of your Planet in m/s/s\n",
    "\n",
    "cl_run.gravity(gravity=grav, gravity_unit=u.Unit('m/(s**2)')) # input gravity\n",
    "cl_run.effective_temp(tint) # input effective temperature\n",
    "\n",
    "nlevel = 91 \n"
   ]
  },
  {
   "cell_type": "markdown",
   "id": "6f4ad063-2b66-429e-8221-fb34a4077335",
   "metadata": {},
   "source": [
    "We recommend starting with Sonora-Bobcat models as an initial guess. "
   ]
  },
  {
   "cell_type": "code",
   "execution_count": 5,
   "id": "8325ae68-7c4e-489e-a99d-3a10cbd39cba",
   "metadata": {},
   "outputs": [
    {
     "name": "stdout",
     "output_type": "stream",
     "text": [
      "+000 100 700\n"
     ]
    }
   ],
   "source": [
    "pressure,temp_guess = np.loadtxt(jdi.os.path.join(\n",
    "                            sonora_profile_db,f\"t{tint}g{grav}nc_m0.0.dat\"),\n",
    "                            usecols=[1,2],unpack=True, skiprows = 1)\n",
    "\n",
    "\n",
    "nofczns = 1 # number of convective zones initially. Let's not play with this for now.\n",
    "\n",
    "nstr_upper = 79 # top most level of guessed convective zone\n",
    "nstr_deep = nlevel -2 # this is always the case. Dont change this\n",
    "nstr = np.array([0,nstr_upper,89,0,0,0]) # initial guess of convective zones\n",
    "\n",
    "# Here are some other parameters needed for the code.\n",
    "rfacv = 0.0 #we are focused on a brown dwarf so let's keep this as is\n",
    "print(mh,CtoO,tint)\n"
   ]
  },
  {
   "cell_type": "markdown",
   "id": "b3117928-c7b4-4101-a932-be83c78ccc6a",
   "metadata": {},
   "source": [
    "### Setting K$_{zz}$\n",
    "\n",
    "We will add one more concept which is the addition of  K$_{zz}$ [cm$^2$/s]. K$_{zz}$ is the eddy diffusion constant, which sets the strength of vertical mixing. In `PICASO` we have two options for  K$_{zz}$: \n",
    " \n",
    " 1. Constant value: sets a constant at every atmospheric layer\n",
    " 2. Self consistent (see Eqn. 27 and 28 in [Mukherjee et al 2022](https://arxiv.org/pdf/2208.07836.pdf))\n",
    "\n",
    "\n",
    "**New code parameters**: \n",
    "\n",
    "1. `diseq_chem=True` : Turns on disequilibrium chemistry\n",
    "2. `self_consistent_kzz` : (True/False) This solves self consistently for \n",
    "3. `save_all_kzz` : (True/False) Similar to `save_all_profiles` this saves your intermediate k_zz values if you are trying to solve for a `self_consistent_kzz=True`.\n",
    "4. `kz` : constant value if `self_consistent_kzz=False`\n",
    "\n",
    "**Which of those 6 do I need change change**\n",
    "\n",
    "Likely you will only be changing `kz` and/or, for example, playing around with a `self_consistent_kzz` vs a `constant profile`. Unless you are certain, we recommend the following set of `gases_fly` to remain unchanged. \n"
   ]
  },
  {
   "cell_type": "code",
   "execution_count": 6,
   "id": "dd563701-7b34-4b99-8b4d-5f91bdb11970",
   "metadata": {},
   "outputs": [],
   "source": [
    "#following elf-owl lets use a constant value for all pressures\n",
    "kzval = pressure*0+1e2"
   ]
  },
  {
   "cell_type": "code",
   "execution_count": null,
   "id": "05142f70-6d40-432a-ab47-0398d272a035",
   "metadata": {},
   "outputs": [
    {
     "name": "stdout",
     "output_type": "stream",
     "text": [
      "TODO: would love to have a full summary of what the run is here so users can double check they are happy with their inputss\n",
      "I am updating kzz\n",
      "I dont have fluxes, let me compute them\n",
      "Computed quenched levels at {'CO-CH4-H2O': 78, 'CO2': 67, 'NH3-N2': 80, 'HCN': 77, 'PH3': 75}\n",
      "Iteration number  0 , min , max temp  238.24115040594003 2713.722171935307 , flux balance  -0.017588372175229117\n",
      "Iteration number  1 , min , max temp  244.53797694068703 2722.7388824772875 , flux balance  -0.0021237415589324313\n",
      "Iteration number  2 , min , max temp  245.24655398070493 2724.076321465525 , flux balance  -6.596311807694511e-06\n",
      "In t_start: Converged Solution in iterations  2\n",
      "I am updating kzz\n",
      "Big iteration is  245.24655398070493 0\n",
      "Iteration number  0 , min , max temp  246.46547300448918 2724.99064982669 , flux balance  6.255797357599435e-09\n",
      "In t_start: Converged Solution in iterations  0\n",
      "I am updating kzz\n",
      "Profile converged before itmx\n",
      " convection zone status\n",
      "0 79 89 0 0 0\n",
      "1\n",
      "[ 0 65 65 65 79 89]\n",
      "I am updating kzz\n",
      "I dont have fluxes, let me compute them\n",
      "Computed quenched levels at {'CO-CH4-H2O': 76, 'CO2': 66, 'NH3-N2': 80, 'HCN': 76, 'PH3': 73}\n",
      "Iteration number  0 , min , max temp  246.5273683020507 2725.0919463796913 , flux balance  -3.01447231685492e-06\n",
      "In t_start: Converged Solution in iterations  0\n",
      "I am updating kzz\n",
      "Big iteration is  246.5273683020507 0\n",
      "Iteration number  0 , min , max temp  246.53194401002563 2725.1052188696553 , flux balance  -6.374755081568164e-07\n",
      "In t_start: Converged Solution in iterations  0\n",
      "I am updating kzz\n",
      "Profile converged before itmx\n",
      "Grow Phase : Upper Zone\n",
      "[ 0 64 65 65 79 89]\n",
      "I am updating kzz\n",
      "I dont have fluxes, let me compute them\n",
      "Computed quenched levels at {'CO-CH4-H2O': 76, 'CO2': 66, 'NH3-N2': 80, 'HCN': 76, 'PH3': 73}\n",
      "Iteration number  0 , min , max temp  246.55058207271398 2725.0038184540604 , flux balance  3.421038464728673e-06\n",
      "In t_start: Converged Solution in iterations  0\n",
      "I am updating kzz\n",
      "Big iteration is  246.55058207271398 0\n",
      "Iteration number  0 , min , max temp  246.56618154148683 2725.0378854427017 , flux balance  -2.9651351751119363e-06\n",
      "In t_start: Converged Solution in iterations  0\n",
      "I am updating kzz\n",
      "Profile converged before itmx\n",
      "[ 0 63 65 65 79 89]\n",
      "I am updating kzz\n",
      "I dont have fluxes, let me compute them\n",
      "Computed quenched levels at {'CO-CH4-H2O': 76, 'CO2': 66, 'NH3-N2': 80, 'HCN': 76, 'PH3': 73}\n",
      "Iteration number  0 , min , max temp  246.59535329829737 2724.8839416947662 , flux balance  8.752411515688835e-06\n",
      "Iteration number  1 , min , max temp  246.59555077042896 2724.8831196604215 , flux balance  8.130536334334801e-08\n",
      "In t_start: Converged Solution in iterations  1\n",
      "I am updating kzz\n",
      "Big iteration is  246.59555077042896 0\n",
      "Iteration number  0 , min , max temp  246.62030592666173 2724.936468503985 , flux balance  -4.888894399670399e-06\n",
      "In t_start: Converged Solution in iterations  0\n",
      "I am updating kzz\n",
      "Profile converged before itmx\n",
      "[ 0 62 65 65 79 89]\n",
      "I am updating kzz\n",
      "I dont have fluxes, let me compute them\n",
      "Computed quenched levels at {'CO-CH4-H2O': 76, 'CO2': 66, 'NH3-N2': 80, 'HCN': 76, 'PH3': 73}\n",
      "Iteration number  0 , min , max temp  246.65111447730786 2724.792182712633 , flux balance  6.492544551097764e-06\n",
      "Iteration number  1 , min , max temp  246.65146433452531 2724.791102095296 , flux balance  5.8932686374607496e-08\n",
      "In t_start: Converged Solution in iterations  1\n",
      "I am updating kzz\n",
      "Big iteration is  246.65146433452531 0\n",
      "Iteration number  0 , min , max temp  246.68162684062543 2724.8424415510153 , flux balance  -6.305658618756104e-06\n",
      "In t_start: Converged Solution in iterations  0\n",
      "I am updating kzz\n",
      "Profile converged before itmx\n",
      "[ 0 62 66 66 79 89]\n",
      "I am updating kzz\n",
      "I dont have fluxes, let me compute them\n",
      "Computed quenched levels at {'CO-CH4-H2O': 76, 'CO2': 66, 'NH3-N2': 80, 'HCN': 75, 'PH3': 73}\n",
      "Iteration number  0 , min , max temp  246.73137730394862 2724.672021360938 , flux balance  -4.978279235696682e-06\n",
      "In t_start: Converged Solution in iterations  0\n",
      "I am updating kzz\n",
      "Big iteration is  246.73137730394862 0\n",
      "Iteration number  0 , min , max temp  246.7605191417194 2724.70114384023 , flux balance  -3.6136046184029887e-06\n",
      "In t_start: Converged Solution in iterations  0\n",
      "I am updating kzz\n",
      "Profile converged before itmx\n",
      "[ 0 61 66 66 79 89]\n",
      "I am updating kzz\n",
      "I dont have fluxes, let me compute them\n",
      "Computed quenched levels at {'CO-CH4-H2O': 76, 'CO2': 66, 'NH3-N2': 80, 'HCN': 76, 'PH3': 73}\n",
      "Iteration number  0 , min , max temp  246.7905473478388 2724.5894920956525 , flux balance  -1.6547951955654305e-05\n",
      "In t_start: Converged Solution in iterations  0\n",
      "I am updating kzz\n",
      "Big iteration is  246.7905473478388 0\n",
      "Iteration number  0 , min , max temp  246.81942165311145 2724.6274399609333 , flux balance  -6.752859964776536e-06\n",
      "In t_start: Converged Solution in iterations  0\n",
      "I am updating kzz\n",
      "Profile converged before itmx\n",
      "[ 0 60 66 66 79 89]\n",
      "I am updating kzz\n",
      "I dont have fluxes, let me compute them\n",
      "Computed quenched levels at {'CO-CH4-H2O': 76, 'CO2': 66, 'NH3-N2': 80, 'HCN': 76, 'PH3': 73}\n",
      "Iteration number  0 , min , max temp  246.8381403607002 2724.592578158552 , flux balance  -1.2332988016247285e-05\n",
      "In t_start: Converged Solution in iterations  0\n",
      "I am updating kzz\n",
      "Big iteration is  246.8381403607002 0\n",
      "Iteration number  0 , min , max temp  246.84979939459495 2724.60809495519 , flux balance  -3.2005146850589424e-06\n",
      "In t_start: Converged Solution in iterations  0\n",
      "I am updating kzz\n",
      "Profile converged before itmx\n",
      "[ 0 60 67 67 79 89]\n",
      "I am updating kzz\n",
      "I dont have fluxes, let me compute them\n",
      "Computed quenched levels at {'CO-CH4-H2O': 77, 'CO2': 67, 'NH3-N2': 80, 'HCN': 76, 'PH3': 74}\n",
      "Iteration number  0 , min , max temp  246.86811226420573 2724.555995216109 , flux balance  1.166507709351444e-05\n",
      "In t_start: Converged Solution in iterations  0\n",
      "I am updating kzz\n",
      "Big iteration is  246.86811226420573 0\n",
      "Iteration number  0 , min , max temp  246.87607109748987 2724.569794741084 , flux balance  -8.400329217199179e-07\n",
      "In t_start: Converged Solution in iterations  0\n",
      "I am updating kzz\n",
      "Profile converged before itmx\n",
      "final [ 0 60 67 67 79 89]\n",
      "I am updating kzz\n",
      "I dont have fluxes, let me compute them\n",
      "Computed quenched levels at {'CO-CH4-H2O': 77, 'CO2': 67, 'NH3-N2': 80, 'HCN': 76, 'PH3': 74}\n",
      "Iteration number  0 , min , max temp  246.8795297295116 2724.562232692344 , flux balance  1.6667717205698688e-05\n",
      "In t_start: Converged Solution in iterations  0\n",
      "I am updating kzz\n",
      "Big iteration is  246.8795297295116 0\n",
      "Iteration number  0 , min , max temp  246.87883357322536 2724.5701361690453 , flux balance  4.171930978597579e-07\n",
      "In t_start: Converged Solution in iterations  0\n",
      "I am updating kzz\n",
      "Profile converged before itmx\n",
      "YAY ! ENDING WITH CONVERGENCE\n",
      "TODO flag in climate.py 2794 chem bundle might be out of date but currently things look good\n"
     ]
    }
   ],
   "source": [
    "cl_run.inputs_climate(temp_guess= temp_guess, pressure= pressure,\n",
    "                        nstr = nstr, nofczns = nofczns , rfacv = rfacv)\n",
    "mh=1#NOT LOG\n",
    "cto_relative = 1 #relative to solar\n",
    "#now that we are not using preweighted ck tables we need to tell picaso how to compute chemistry on the fly \n",
    "cl_run.atmosphere(mh=mh, cto_relative=cto_relative, chem_method='visscher')\n",
    "\n",
    "out = cl_run.climate(opacity_ck, save_all_profiles = True, with_spec=True,\n",
    "        save_all_kzz = False, self_consistent_kzz=True,diseq_chem = True)#\n",
    "        #kz = kzval,chemeq_first=False) \n",
    "        #, diseq_chem = True, self_consistent_kzz =False, kz = kzval,\n",
    "        #on_fly=True,gases_fly=gases_fly, chemeq_first=False)\n"
   ]
  },
  {
   "cell_type": "markdown",
   "id": "05138391-c05c-43b1-a422-e544d3a3cb89",
   "metadata": {},
   "source": [
    "## Compare Diseq and Chemeq Climate Profile \n",
    "\n",
    "For the case we chose with very low kzz, and solar M/H the disequilibrium profile and bobcat profiles are identical! "
   ]
  },
  {
   "cell_type": "code",
   "execution_count": null,
   "id": "71729e76-b6dd-4e38-aa48-65204276da8a",
   "metadata": {},
   "outputs": [
    {
     "data": {
      "text/plain": [
       "[<matplotlib.lines.Line2D at 0x337ba1340>]"
      ]
     },
     "execution_count": 8,
     "metadata": {},
     "output_type": "execute_result"
    },
    {
     "data": {
      "image/png": "[encoded data removed]",
      "text/plain": [
       "<Figure size 640x480 with 1 Axes>"
      ]
     },
     "metadata": {},
     "output_type": "display_data"
    }
   ],
   "source": [
    "plt.ylim(200,1.7e-4)\n",
    "plt.semilogy(out['temperature'],out['pressure'],\"r\", label='Resort-Rebin, Chemical Equilibrium')\n",
    "plt.semilogy(temp_guess,pressure,color=\"k\",linestyle=\"--\", label='Pre-weighted CK, Chemical Equilibrium')"
   ]
  }
 ],
 "metadata": {
  "kernelspec": {
   "display_name": "pic312",
   "language": "python",
   "name": "python3"
  },
  "language_info": {
   "codemirror_mode": {
    "name": "ipython",
    "version": 3
   },
   "file_extension": ".py",
   "mimetype": "text/x-python",
   "name": "python",
   "nbconvert_exporter": "python",
   "pygments_lexer": "ipython3",
   "version": "3.12.0"
  },
  "varInspector": {
   "cols": {
    "lenName": 16,
    "lenType": 16,
    "lenVar": 40
   },
   "kernels_config": {
    "python": {
     "delete_cmd_postfix": "",
     "delete_cmd_prefix": "del ",
     "library": "var_list.py",
     "varRefreshCmd": "print(var_dic_list())"
    },
    "r": {
     "delete_cmd_postfix": ") ",
     "delete_cmd_prefix": "rm(",
     "library": "var_list.r",
     "varRefreshCmd": "cat(var_dic_list()) "
    }
   },
   "types_to_exclude": [
    "module",
    "function",
    "builtin_function_or_method",
    "instance",
    "_Feature"
   ],
   "window_display": false
  }
 },
 "nbformat": 4,
 "nbformat_minor": 5
}
