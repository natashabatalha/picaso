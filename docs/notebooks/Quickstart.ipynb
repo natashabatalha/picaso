{
 "cells": [
  {
   "cell_type": "markdown",
   "id": "cd55fb75-a87a-4497-91a7-b40d80d9879d",
   "metadata": {},
   "source": [
    "# Quickstart for Research\n",
    "\n",
    "Here is the quickstart to getting up and running with `PICASO` using `python` to set environment variables and `get_data` to get everything you need. "
   ]
  },
  {
   "cell_type": "code",
   "execution_count": null,
   "id": "b58ccd86",
   "metadata": {},
   "outputs": [],
   "source": [
    "!pip install picaso"
   ]
  },
  {
   "cell_type": "markdown",
   "id": "970ad831-b624-4160-8ec3-4b82ee11cac8",
   "metadata": {},
   "source": [
    "## Create `picaso_refdata` environment variable \n",
    "\n",
    "We give [three different ways of setting environment variables here](https://natashabatalha.github.io/picaso/installation.html#create-environment-variable). Setting them with `os` is perfectly fine though some users like setting them system wide so that they do not have to constantly set paths. \n",
    "\n"
   ]
  },
  {
   "cell_type": "code",
   "execution_count": null,
   "id": "5552e564",
   "metadata": {},
   "outputs": [],
   "source": [
    "import os\n",
    "print(os.environ['picaso_refdata'] ) #should return a path \n",
    "\n",
    "#does it not?? Lets make one\n",
    "os.environ['picaso_refdata'] = '/data/reference_data/picaso/reftest'"
   ]
  },
  {
   "cell_type": "markdown",
   "id": "9d6ce130",
   "metadata": {},
   "source": [
    "Note what we did above sets the environment variable which is totally okay but this way you will need to add this to the top of all your future notebooks **before you import picaso**"
   ]
  },
  {
   "cell_type": "markdown",
   "id": "6a31ed78",
   "metadata": {},
   "source": [
    "## Download reference data if installed through pip/conda\n",
    "\n",
    "We need this basic directory: https://github.com/natashabatalha/picaso/tree/master/reference\n",
    "\n",
    "If you installed through pip or conda then you will need to do this step. If you did a git clone then you should already have this and just need to point `picaso_refdata` to the directory `reference`."
   ]
  },
  {
   "cell_type": "code",
   "execution_count": null,
   "id": "7ed303da",
   "metadata": {},
   "outputs": [],
   "source": [
    "import picaso.data as data"
   ]
  },
  {
   "cell_type": "code",
   "execution_count": null,
   "id": "5a24f98d",
   "metadata": {},
   "outputs": [],
   "source": [
    "\n",
    "data.get_reference(os.environ['picaso_refdata']) #only ever need to do one time"
   ]
  },
  {
   "cell_type": "markdown",
   "id": "a5275717",
   "metadata": {},
   "source": [
    "## Run PICASO Environment Checker"
   ]
  },
  {
   "cell_type": "code",
   "execution_count": null,
   "id": "e6e05db7-5c6f-4b7b-96e0-015e8258ce75",
   "metadata": {},
   "outputs": [],
   "source": [
    "data.check_environ()"
   ]
  },
  {
   "cell_type": "markdown",
   "id": "9c25ef10-7145-4eb1-abc7-d94d8128dfde",
   "metadata": {},
   "source": [
    "You might see that we still need to download the resampled opacity file."
   ]
  },
  {
   "cell_type": "markdown",
   "id": "74c87532-353f-4d01-a2dc-74565b98ca3c",
   "metadata": {},
   "source": [
    "## Downloading the resampled opacity file \n",
    "\n",
    "If you want to make this the picaso default then you should put it here: \n",
    "\n",
    "- $picaso_refdata/opacities/opacities.db\n",
    "\n",
    "The following function will do that for you if you have set up your path correctly"
   ]
  },
  {
   "cell_type": "code",
   "execution_count": null,
   "id": "338b33c7-30df-43e4-a41d-a85f0be6211c",
   "metadata": {},
   "outputs": [],
   "source": [
    "#commented out for docs build\n",
    "data.get_data(category_download='resampled_opacity',target_download='default')\n"
   ]
  },
  {
   "cell_type": "markdown",
   "id": "8f977f23-76be-46c7-b2bd-56d8588b85ce",
   "metadata": {},
   "source": [
    "## Download the stellar grids needed for exoplanet modeling (optional)\n",
    "\n",
    "If you want to use these stellar files they will need to be accessed by pysynphot package which checks for them here: \n",
    "\n",
    "- $PYSYN_CDBS/grid\n",
    "\n",
    "You will be asked if you want to download phoenix or ck04models. we recommend ck04models as a default, but phoenix for mid-IR spectra and climate modeling. \n"
   ]
  },
  {
   "cell_type": "code",
   "execution_count": null,
   "id": "c817402b-fa6e-4e83-baf4-671ca9129f81",
   "metadata": {},
   "outputs": [],
   "source": [
    "#now let's make sure we have the pysynphot environment variable set\n",
    "os.environ['PYSYN_CDBS'] = os.path.join(os.environ['picaso_refdata'],'stellar_grids') #or set your own..\n",
    "data.get_data(category_download='stellar_grids') "
   ]
  },
  {
   "cell_type": "markdown",
   "id": "8ea27c5c-7f01-493b-b420-cf593133e3eb",
   "metadata": {},
   "source": [
    "## Want anything else? Use `get_data` function\n",
    "\n",
    "\n",
    "PICASO relies on lots of different kinds of data. However you might not need all of it depending on what you are working on. For example, if you are only working on substellar objects, you do not need to download stellar spectra. \n",
    "\n",
    "| Data Type                        | Req? | What it is primarily used for | Where it should go                      |\n",
    "|----------------------------------|------|-------------------------------|-----------------------------------------|\n",
    "| Reference              | Yes  | everything        | $picaso_refdata |\n",
    "| Resampled Opacities              | Yes  | Spectroscopic modeling        | $picaso_refdata/opacities/opacities_0.3_15_R15000.db |\n",
    "| Stellar Database                 | No   | Exoplanet modeling            | \\$PYSYN_CDBS/grid                       |\n",
    "| Pre-weighted correlated-K Tables | No   | Chemical equilibrium climate  | Your choice (default=$picaso_refdata/opacities/preweighted)                             |\n",
    "| By molecule correlated-K Tables  | No   | Disequilibrium climate        | Your choice (default=$picaso_refdata/opacities/resortrebin)      |\n",
    "| Sonora grid models               | No   | Initial guess/grid fitting    | Your choice (default=$picaso_refdata/sonora_grids)                             |\n",
    "| Virga Mieff files                | No   | Virga cloud modeling          | Your choice (default=$picaso_refdata/virga)                             |\n",
    "\n",
    "\n",
    "### Examples using get data in interactive mode\n",
    "```\n",
    "data.get_data()\n",
    "What data can I help you download? Options include:\n",
    "['resampled_opacity', 'stellar_grids', 'sonora_grids', 'ck_tables']\n",
    ">> sonora_grids\n",
    "Great. I found these options for sonora_grids. Select one:\n",
    "0 - 'elfowl-Ytype': The models between Teff of 275 to 550 K (applicable to Y-type objects). Total: ~40 Gb.\n",
    "1 - 'elfowl-Ttype': The models for Teff between 575 to 1200 K (applicable for T-type objects). Total: ~40 Gb.\n",
    "2 - 'elfowl-Ltype': Models for Teff between 1300 to 2400 K (applicable for L-type objects). Total: ~40 Gb.\n",
    "3 - 'bobcat': Sonora bobcat pressure-temperature profiles\n",
    "4 - 'diamondback': \n",
    ">> elfowl-Ytype\n",
    "No destination has been specified. Let me help put this in the right place.\n",
    "When running the code you will have to point to this directory. Therefore, keep it somewhere you will remember. My suggestion would be something like /Users/myaccount/Documents/data/picaso_data/sonora_grids. Please enter a path:\n",
    "/Users/nbatalh1/Documents/data/sonora_grids/elfowl\n",
    "```"
   ]
  },
  {
   "cell_type": "code",
   "execution_count": null,
   "id": "af43160a-3e33-4442-925f-7b50f7e220a9",
   "metadata": {},
   "outputs": [],
   "source": [
    "data.get_data()"
   ]
  },
  {
   "cell_type": "markdown",
   "id": "8dde393f",
   "metadata": {},
   "source": [
    "# Quickstart for Students & Learning\n",
    "\n",
    "Here is the quickstart to getting up and running with `PICASO` using `python` to set environment variables and `get_data` to get everything you need for PICASO-lite"
   ]
  },
  {
   "cell_type": "code",
   "execution_count": null,
   "id": "8e60d5f3",
   "metadata": {},
   "outputs": [],
   "source": [
    "#install the code\n",
    "!pip install picaso"
   ]
  },
  {
   "cell_type": "code",
   "execution_count": null,
   "id": "2e1e569d",
   "metadata": {},
   "outputs": [],
   "source": [
    "import picaso.data as d\n",
    "\n",
    "#pick a path to download all the reference data\n",
    "d.os.environ['picaso_refdata'] = '/data/reference_data/picaso/reftest'\n",
    "\n",
    "#get all needed data\n",
    "d.get_data(category_download='picaso-lite', target_download='tutorial_sagan23',final_destination_dir=d.os.environ['picaso_refdata'] )\n",
    "\n",
    "\n",
    "#add this to the top of any picaso notebook that models exoplanets \n",
    "d.os.environ['PYSYN_CDBS'] = d.os.path.join(d.os.environ['picaso_refdata'],'stellar_grids')\n",
    "\n",
    "\n",
    "#use this for any virga related notebook \n",
    "mieff_dir = d.os.path.join(d.os.environ['picaso_refdata'],'virga')\n",
    "#use this for any climate modeling (this must includes a few metallicities and c/o ratios so you can get an idea of how to do climate modeling)\n",
    "ck_dir = d.os.path.join(d.os.environ['picaso_refdata'],'opacities', 'preweighted')"
   ]
  }
 ],
 "metadata": {
  "kernelspec": {
   "display_name": "pic312",
   "language": "python",
   "name": "python3"
  },
  "language_info": {
   "codemirror_mode": {
    "name": "ipython",
    "version": 3
   },
   "file_extension": ".py",
   "mimetype": "text/x-python",
   "name": "python",
   "nbconvert_exporter": "python",
   "pygments_lexer": "ipython3",
   "version": "3.12.2"
  }
 },
 "nbformat": 4,
 "nbformat_minor": 5
}
