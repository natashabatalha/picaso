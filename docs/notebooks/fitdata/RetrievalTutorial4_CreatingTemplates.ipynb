{
 "cells": [
  {
   "cell_type": "markdown",
   "id": "ab4eaf4a-f0f5-444a-80c3-e6fe6a7553ff",
   "metadata": {},
   "source": [
    "# Creating Retrieval Scripts\n",
    "\n",
    "If this is your first crack at fitting parameters with PICASO, we strong encourage you to look at the first three retrieval tutorial. This notebooks on creating scripts with multiple models to test. \n",
    "\n",
    "**What you will learn:** \n",
    "\n",
    "1. All the template scripts that are available to aid in retrieval analysis \n",
    "2. How to create a template for a grid + flex cloud retrieval\n",
    "\n",
    "**What you should know:**\n",
    "\n",
    "1. `picaso`'s retrieval class structure (model_set, prior_set, param_set)\n",
    "2. `picaso.retrieval.create_template` function to generate template scripts (covered in Retrieval Tutorial 1 & 2)\n",
    "3. `picaso.analyze.prep_gridtrieval` function to simply generate and interpolate on a spectrum\n",
    "4. Running `virga` cloud models `picaso` forward modeling (e.g. computing transmission spectra with `justdoit.inputs`)\n",
    "\n",
    "## Basics of Retreival Templates \n",
    "\n",
    "We have introduced these templates in previous tutorials. Here will show a few more examples of template creation. \n",
    "\n",
    "**How should I use these templates??** \n",
    "\n",
    "These templates are supposed to offer you a headstart to building retreivals yourself. You are encouraged to write your own retrieval functions using these are **starting points**. "
   ]
  },
  {
   "cell_type": "code",
   "execution_count": null,
   "id": "bb30ab92-7fc3-4922-9dd9-e54a75bbcf5a",
   "metadata": {},
   "outputs": [],
   "source": [
    "import picaso.retrieval as pr"
   ]
  },
  {
   "cell_type": "markdown",
   "id": "703930c2-e79d-4336-a08b-717e8d34fa8a",
   "metadata": {},
   "source": [
    "## Gridtrieval + Postprocessed Chemistry"
   ]
  },
  {
   "cell_type": "code",
   "execution_count": null,
   "id": "7f568b52-dfd1-4bc9-b012-b841af03e1a8",
   "metadata": {},
   "outputs": [],
   "source": [
    "rtype='grid_addchem' #first lets specify the retrieval type 'grid' \n",
    "sript_name='run_test.py' #speciy a script name \n",
    "sampler_output='/data/test/ultranest/grid_virga'\n",
    "\n",
    "grid_location = '/data2/models/WASP-17b/spec/zenodo/v1' # should ultimately point to location of all .nc files\n",
    "grid_name = 'cldfree' #for your own book-keeping\n",
    "to_fit = 'transit_depth' #this is based on what you want to fit in the xarray files s\n",
    "\n",
    "#opacity and chemistry \n",
    "opacity_filename_db = '/data2/picaso_dbs/R15000/all_opacities_0.3_15_R15000.db'\n",
    "molecules = ['H2','He','H2O','CO','CO2','CH4','H2O']\n",
    "\n",
    "#bonus chemistry\n",
    "overwrite_molecule = 'SO2' #in this simple example we will add SO2 \n",
    "\n",
    "#new\n",
    "grid_kwargs={'grid_location':grid_location,'grid_name':grid_name,'to_fit':to_fit,\n",
    "            'opacity_filename_db':opacity_filename_db, 'molecules':molecules,\n",
    "            'overwrite_molecule':overwrite_molecule}\n",
    "\n",
    "pr.create_template(rtype,sript_name,sampler_output,grid_kwargs=grid_kwargs)"
   ]
  },
  {
   "cell_type": "markdown",
   "id": "80e855dd-4c58-40d8-b527-df152739bd4a",
   "metadata": {},
   "source": [
    "## Gridtrieval + Flex Cloud "
   ]
  },
  {
   "cell_type": "code",
   "execution_count": null,
   "id": "6575786b-f1de-4e4c-ac2e-a1a4c290ae3e",
   "metadata": {},
   "outputs": [],
   "source": [
    "rtype='grid_flexcloud' #first lets specify the retrieval type 'grid' \n",
    "sript_name='run_test.py' #speciy a script name \n",
    "sampler_output='/data/test/ultranest/grid_flexcloud'\n",
    "\n",
    "grid_location = '/data2/models/WASP-17b/spec/zenodo/v1' # should ultimately point to location of all .nc files\n",
    "grid_name = 'cldfree' #for your own book-keeping\n",
    "to_fit = 'transit_depth' #this is based on what you want to fit in the xarray files s\n",
    "\n",
    "#opacity and chemistry \n",
    "opacity_filename_db = '/data2/picaso_dbs/R15000/all_opacities_0.3_15_R15000.db'\n",
    "molecules = ['H2','He','H2O','CO','CO2','CH4','H2O']\n",
    "\n",
    "#cloud things\n",
    "virga_mieff_files = '/data/virga_dbs/virga_0,3_15_R300/'\n",
    "cloud_species = ['SiO2']\n",
    "\n",
    "#new\n",
    "grid_kwargs={'grid_location':grid_location,'grid_name':grid_name,'to_fit':to_fit,\n",
    "            'opacity_filename_db':opacity_filename_db, 'molecules':molecules,\n",
    "            'virga_mieff_dir':virga_mieff_files,'cloud_species':cloud_species}\n",
    "\n",
    "pr.create_template(rtype,sript_name,sampler_output,grid_kwargs=grid_kwargs)"
   ]
  },
  {
   "cell_type": "markdown",
   "id": "39c19f7b-59a7-412a-90c4-50575dd0e212",
   "metadata": {},
   "source": [
    "## Gridtrieval + Virga "
   ]
  },
  {
   "cell_type": "code",
   "execution_count": null,
   "id": "de206aaf-089b-42f2-968f-4d9cec572c55",
   "metadata": {},
   "outputs": [],
   "source": [
    "rtype='grid_virga' #first lets specify the retrieval type 'grid' \n",
    "sript_name='run_test.py' #speciy a script name \n",
    "sampler_output='/data/test/ultranest/grid_virga'\n",
    "\n",
    "grid_location = '/data2/models/WASP-17b/spec/zenodo/v1' # should ultimately point to location of all .nc files\n",
    "grid_name = 'cldfree' #for your own book-keeping\n",
    "to_fit = 'transit_depth' #this is based on what you want to fit in the xarray files s\n",
    "\n",
    "#opacity and chemistry \n",
    "opacity_filename_db = '/data2/picaso_dbs/R15000/all_opacities_0.3_15_R15000.db'\n",
    "molecules = ['H2','He','H2O','CO','CO2','CH4','H2O']\n",
    "\n",
    "#cloud things\n",
    "virga_mieff_files = '/data/virga_dbs/virga_0,3_15_R300/'\n",
    "cloud_species = ['SiO2','Al2O3']\n",
    "\n",
    "#new\n",
    "grid_kwargs={'grid_location':grid_location,'grid_name':grid_name,'to_fit':to_fit,\n",
    "            'opacity_filename_db':opacity_filename_db, 'molecules':molecules,\n",
    "            'virga_mieff_dir':virga_mieff_files,'cloud_species':cloud_species}\n",
    "\n",
    "pr.create_template(rtype,sript_name,sampler_output,grid_kwargs=grid_kwargs)"
   ]
  },
  {
   "cell_type": "markdown",
   "id": "e1354360-2540-4389-b88f-d836a178ac93",
   "metadata": {},
   "source": [
    "## Create One Template with Multiple Models\n",
    "\n",
    "Once you build your templates, it's recommended creating a single script with all the functions you would like to test for one single data set. For example, you can imagine your class `param_set` looking like this: "
   ]
  },
  {
   "cell_type": "code",
   "execution_count": null,
   "id": "72983e87-87d8-49cf-9e5b-fe102ab5f516",
   "metadata": {},
   "outputs": [],
   "source": [
    "class param_set:\n",
    "    grid = ['mh','cto','tint','heat_redis','offset']\n",
    "    grid_virga = ['mh','cto','tint','heat_redis','xrp','logfsed','logkzz']\n",
    "    grid_flexcloud = ['mh','cto','tint','heat_redis','xrp','logcldbar','logfsed','logndz','sigma','lograd']"
   ]
  },
  {
   "cell_type": "markdown",
   "id": "e947e4f7-4d0b-4d70-bcc6-d97b7605a18e",
   "metadata": {},
   "source": [
    "Why organize things this way? \n",
    "\n",
    "1. All models are can be imported with one script and called with e.g.\n",
    "\n",
    "`MODEL=getattr(model_set, 'grid')`\n",
    "\n",
    "2. Using the techniques outlined in the previous notebooks you can easily debug each of your built functions in a loop\n",
    "\n",
    "```\n",
    "for test_model in ['grid','grid_virga','grid_flexcloud']:\n",
    "    GUESS = getattr(guesses_set, test_model)\n",
    "    MODEL = getattr(model_set, test_model)\n",
    "    x,y,inf,err = MODEL(GUESS)\n",
    "    plt.plot(x,y,label=test_model)\n",
    "```\n",
    "\n",
    "3. Sending retrieval scripts to others for reproducibility is easier as all code is contained into a single script.\n",
    "4. Publishing retrieval code on Zenodo is easier as models are kept in one file with their respective priors, enabling reproducibility. "
   ]
  }
 ],
 "metadata": {
  "kernelspec": {
   "display_name": "Python 3 (ipykernel)",
   "language": "python",
   "name": "python3"
  },
  "language_info": {
   "codemirror_mode": {
    "name": "ipython",
    "version": 3
   },
   "file_extension": ".py",
   "mimetype": "text/x-python",
   "name": "python",
   "nbconvert_exporter": "python",
   "pygments_lexer": "ipython3",
   "version": "3.11.8"
  }
 },
 "nbformat": 4,
 "nbformat_minor": 5
}
