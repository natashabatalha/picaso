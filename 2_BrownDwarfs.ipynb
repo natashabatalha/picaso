{
 "cells": [
  {
   "cell_type": "markdown",
   "metadata": {},
   "source": [
    "# Brown Dwarf Models\n",
    "\n",
    "Modeling brown dwarfs is very similar to modeling thermal emission for exoplanets. The major difference is there is no stellar input to get out a relative flux (fp/f*) \n",
    "\n",
    "In this tutorial you will learn:\n",
    "\n",
    "1. How to turn that feature off \n",
    "2. Query a profile from the Sonora Grid (not you will need to download and untar this to provide a filepath.) \n",
    "3. Create a Brown Dwarf Spectrum "
   ]
  },
  {
   "cell_type": "code",
   "execution_count": null,
   "metadata": {},
   "outputs": [],
   "source": [
    "import warnings\n",
    "warnings.filterwarnings('ignore')\n",
    "import numpy as np\n",
    "import pandas as pd\n",
    "import astropy.units as u\n",
    "\n",
    "#picaso\n",
    "import picaso.opacity_factory as opa_fa\n",
    "from picaso import justdoit as jdi \n",
    "from picaso import justplotit as jpi\n",
    "#plotting\n",
    "from bokeh.io import output_notebook\n",
    "from scipy.stats.stats import pearsonr  \n",
    "\n",
    "output_notebook()\n",
    "from bokeh.plotting import show,figure"
   ]
  },
  {
   "cell_type": "markdown",
   "metadata": {},
   "source": [
    "Start with the same inputs as before"
   ]
  },
  {
   "cell_type": "code",
   "execution_count": null,
   "metadata": {},
   "outputs": [],
   "source": [
    "wave_range = [1,1.4]\n",
    "filename_db = '/Users/nbatalh1/Documents/data/all_opacities_noregrid.db'\n",
    "opa = jdi.opannection(wave_range=wave_range\n",
    "                      ,filename_db=filename_db)\n",
    "\n",
    "case1 = jdi.inputs(calculation='browndwarf')\n",
    "\n"
   ]
  },
  {
   "cell_type": "code",
   "execution_count": null,
   "metadata": {},
   "outputs": [],
   "source": [
    "# Note here that we do not need to provide case.star, since there is none! \n",
    "case1.gravity(gravity=100 , gravity_unit=u.Unit('m/s**2'))\n"
   ]
  },
  {
   "cell_type": "markdown",
   "metadata": {},
   "source": [
    "## Query from Sonora Profile Grid \n",
    "\n",
    "Download the profile files that are located in the [profile.tar file](https://zenodo.org/record/1309035#.Xo5GbZNKjGJ)\n",
    "\n",
    "Once you untar the file you can set the file path below. You do not need to unzip each profile. `picaso` will do that upon read in. `picaso` will find the nearest neighbor and attach it to your class. "
   ]
  },
  {
   "cell_type": "code",
   "execution_count": null,
   "metadata": {},
   "outputs": [],
   "source": [
    "#grab sonora profile \n",
    "sonora_profile_db = '/Users/nbatalh1/Documents/data/sonora_profile/'\n",
    "Teff = 900 \n",
    "#this function will grab the gravity you have input above and find the nearest neighbor with the \n",
    "#note sonora chemistry grid is on the same opacity grid as our opacities (1060). \n",
    "case1.sonora(sonora_profile_db, Teff)"
   ]
  },
  {
   "cell_type": "code",
   "execution_count": null,
   "metadata": {},
   "outputs": [],
   "source": [
    "#check what file was chosen\n",
    "print(case1.inputs['atmosphere']['sonora_filename'])"
   ]
  },
  {
   "cell_type": "code",
   "execution_count": null,
   "metadata": {},
   "outputs": [],
   "source": [
    "#look at your input\n",
    "case1.inputs['atmosphere']['profile'].head()"
   ]
  },
  {
   "cell_type": "markdown",
   "metadata": {},
   "source": [
    "## Run Spectrum"
   ]
  },
  {
   "cell_type": "code",
   "execution_count": null,
   "metadata": {},
   "outputs": [],
   "source": [
    "df = case1.spectrum(opa, full_output=True)"
   ]
  },
  {
   "cell_type": "markdown",
   "metadata": {},
   "source": [
    "## Convert Units and Regrid\n",
    "\n",
    "`PICASO` outputs the raw flux as: \n",
    "\n",
    "$$ F_\\lambda ( \\frac{erc}{cm^2 * sec * cm}) $$\n",
    "\n",
    "Typical fluxes shown in several Brown Dwarf papers are: \n",
    "\n",
    "$$ F_\\nu ( \\frac{erc}{cm^2 * sec * Hz}) $$\n",
    "\n",
    "Below is a little example of how to convert units. \n",
    "\n",
    "**NOTE**: Some people like to plot out `Eddington Flux`, $H_\\nu$. This gets confusing as the units appear to be erg/cm2/s/Hz but you will notice a factor of four difference: \n",
    "\n",
    "$$H_\\nu = \\frac{F_\\nu}{4}$$"
   ]
  },
  {
   "cell_type": "code",
   "execution_count": null,
   "metadata": {},
   "outputs": [],
   "source": [
    "x,y = df['wavenumber'], df['thermal'] #units of erg/cm2/s/cm\n",
    "\n",
    "xmicron = 1e4/x\n",
    "\n",
    "flamy = y*1e-8 #per anstrom instead of per cm\n",
    "sp = jdi.psyn.ArraySpectrum(xmicron, flamy, \n",
    "                            waveunits='um', \n",
    "                            fluxunits='FLAM')   \n",
    "sp.convert(\"um\")\n",
    "sp.convert('Fnu') #erg/cm2/s/Hz\n",
    "\n",
    "x = sp.wave #micron\n",
    "y= sp.flux #erg/cm2/s/Hz\n",
    "\n",
    "x,y = jdi.mean_regrid(1e4/x, y, min_R=1000) #wavenumber, erg/cm2/s/Hz\n"
   ]
  },
  {
   "cell_type": "markdown",
   "metadata": {},
   "source": [
    "## Compare with Sonora Grid"
   ]
  },
  {
   "cell_type": "code",
   "execution_count": null,
   "metadata": {},
   "outputs": [],
   "source": [
    "son = pd.read_csv('sp_t900g100nc_m0.0',delim_whitespace=True, \n",
    "                 skiprows=3,header=None,names=['w','f'])\n",
    "#sonx, sony =  jdi.mean_regrid(1e4/son['w'][::-1], \n",
    "#                              son['f'][::-1], newx=x)"
   ]
  },
  {
   "cell_type": "code",
   "execution_count": null,
   "metadata": {
    "scrolled": false
   },
   "outputs": [],
   "source": [
    "show(jpi.spectrum([1e4/son['w'],x],[son['f'],y], legend=['picaso','sonora']\n",
    "                  ,plot_width=800,x_range=wave_range))#x_axis_type='log',\n",
    "\n"
   ]
  },
  {
   "cell_type": "code",
   "execution_count": null,
   "metadata": {},
   "outputs": [],
   "source": []
  }
 ],
 "metadata": {
  "kernelspec": {
   "display_name": "Python 3",
   "language": "python",
   "name": "python3"
  },
  "language_info": {
   "codemirror_mode": {
    "name": "ipython",
    "version": 3
   },
   "file_extension": ".py",
   "mimetype": "text/x-python",
   "name": "python",
   "nbconvert_exporter": "python",
   "pygments_lexer": "ipython3",
   "version": "3.7.5"
  }
 },
 "nbformat": 4,
 "nbformat_minor": 2
}
